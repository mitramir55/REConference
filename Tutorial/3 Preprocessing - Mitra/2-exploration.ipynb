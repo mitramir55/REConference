{
 "cells": [
  {
   "cell_type": "markdown",
   "metadata": {},
   "source": [
    "### first phase experiments"
   ]
  },
  {
   "cell_type": "code",
   "execution_count": 2,
   "metadata": {},
   "outputs": [],
   "source": [
    "import pandas as pd \n",
    "import json\n",
    "\n",
    "\n",
    "JSON_FILE_PATH = r\"D:\\Dr. Desh\\REConference\\Tutorial\\2 REST API\\Data\\TasksAndEnhancements.json\"\n",
    "CSV_FILE_PATH = r\"D:\\Dr. Desh\\REConference\\Tutorial\\2 REST API\\Data\\FirefoxDataset.csv\"\n",
    "\n"
   ]
  },
  {
   "cell_type": "code",
   "execution_count": 2,
   "metadata": {},
   "outputs": [],
   "source": [
    "with open(JSON_FILE_PATH, 'r',encoding='utf-8') as j:\n",
    "     data_json = json.loads(j.read())"
   ]
  },
  {
   "cell_type": "code",
   "execution_count": null,
   "metadata": {},
   "outputs": [],
   "source": []
  },
  {
   "cell_type": "code",
   "execution_count": 3,
   "metadata": {},
   "outputs": [],
   "source": [
    "data_csv = pd.read_csv(r\"D:\\Dr. Desh\\REConference\\Tutorial\\2 REST API\\Data\\FirefoxDataset.csv\")\n",
    "data_csv.drop(columns=['Unnamed: 0'], inplace=True)"
   ]
  },
  {
   "cell_type": "code",
   "execution_count": 4,
   "metadata": {},
   "outputs": [
    {
     "data": {
      "text/plain": [
       "4215"
      ]
     },
     "execution_count": 4,
     "metadata": {},
     "output_type": "execute_result"
    }
   ],
   "source": [
    "len(data_json['bugs'])"
   ]
  },
  {
   "cell_type": "code",
   "execution_count": 5,
   "metadata": {},
   "outputs": [
    {
     "data": {
      "text/plain": [
       "49"
      ]
     },
     "execution_count": 5,
     "metadata": {},
     "output_type": "execute_result"
    }
   ],
   "source": [
    "len(data_csv)"
   ]
  },
  {
   "cell_type": "code",
   "execution_count": 6,
   "metadata": {},
   "outputs": [],
   "source": [
    "for i in range(len(data_json['bugs'])):\n",
    "    assert len(data_json['bugs'][i])==3"
   ]
  },
  {
   "cell_type": "code",
   "execution_count": null,
   "metadata": {},
   "outputs": [],
   "source": []
  },
  {
   "cell_type": "code",
   "execution_count": 7,
   "metadata": {},
   "outputs": [
    {
     "data": {
      "text/plain": [
       "Index(['url', 'whiteboard', 'cf_tracking_thunderbird_esr91',\n",
       "       'is_cc_accessible', 'platform', 'assigned_to', 'mentors_detail',\n",
       "       'cf_status_firefox103', 'regressions', 'version', 'regressed_by',\n",
       "       'summary', 'alias', 'duplicates', 'target_milestone', 'status',\n",
       "       'mentors', 'cf_tracking_firefox103', 'resolution',\n",
       "       'cf_webcompat_priority', 'id', 'assigned_to_detail',\n",
       "       'cf_tracking_firefox_relnote', 'cf_a11y_review_project_flag',\n",
       "       'cf_last_resolved', 'cf_tracking_firefox101',\n",
       "       'cf_status_thunderbird_esr102', 'creation_time',\n",
       "       'cf_status_thunderbird_esr91', 'cf_status_firefox101', 'cf_has_str',\n",
       "       'priority', 'cf_qa_whiteboard', 'qa_contact', 'dupe_of', 'cf_fx_points',\n",
       "       'is_open', 'creator', 'is_creator_accessible', 'is_confirmed',\n",
       "       'product', 'type', 'see_also', 'severity', 'last_change_time',\n",
       "       'keywords', 'blocks', 'depends_on', 'cf_user_story',\n",
       "       'cf_tracking_thunderbird_esr102', 'cf_crash_signature',\n",
       "       'cf_performance', 'cf_rank', 'cf_tracking_firefox102', 'votes',\n",
       "       'cf_tracking_firefox_esr102', 'comment_count', 'cc_detail',\n",
       "       'classification', 'component', 'flags', 'op_sys', 'cf_fx_iteration',\n",
       "       'creator_detail', 'cc', 'cf_cab_review', 'cf_tracking_firefox_esr91',\n",
       "       'groups', 'cf_status_firefox102', 'cf_status_firefox_esr91',\n",
       "       'cf_status_firefox_esr102', 'cf_tracking_thunderbird_103',\n",
       "       'cf_tracking_thunderbird_102', 'cf_status_thunderbird_103',\n",
       "       'cf_tracking_seamonkey257esr', 'cf_status_thunderbird_102',\n",
       "       'cf_tracking_thunderbird_101', 'cf_tracking_seamonkey253',\n",
       "       'cf_status_seamonkey257esr', 'cf_status_thunderbird_101',\n",
       "       'cf_status_seamonkey253', 'qa_contact_detail',\n",
       "       'cf_status_thunderbird_esr78', 'cf_status_firefox_esr78',\n",
       "       'cf_status_firefox90', 'cf_status_firefox89', 'cf_status_firefox88'],\n",
       "      dtype='object')"
      ]
     },
     "execution_count": 7,
     "metadata": {},
     "output_type": "execute_result"
    }
   ],
   "source": [
    "data_csv.columns"
   ]
  },
  {
   "cell_type": "code",
   "execution_count": 50,
   "metadata": {},
   "outputs": [],
   "source": [
    "#data_csv['type']"
   ]
  },
  {
   "cell_type": "code",
   "execution_count": 9,
   "metadata": {},
   "outputs": [
    {
     "data": {
      "text/plain": [
       "[{'summary': 'Proxy: map HTTP 500 errors to necko errors (so Internet Keywords and Domain Guessing would work)',\n",
       "  'status': 'NEW',\n",
       "  'id': 2875},\n",
       " {'summary': '[LDAP] Access to a local LDAP server in Off-Line mode',\n",
       "  'status': 'NEW',\n",
       "  'id': 2892},\n",
       " {'summary': 'Warnings for USENET etiquette errors required by GNKSA',\n",
       "  'status': 'NEW',\n",
       "  'id': 3746},\n",
       " {'summary': 'URL linkifying code should cross linebreaks [libmime][mozTXTToHTMLConv]',\n",
       "  'status': 'NEW',\n",
       "  'id': 5351},\n",
       " {'summary': 'Automatically update bookmarks when sites move/disappear.',\n",
       "  'status': 'NEW',\n",
       "  'id': 8648},\n",
       " {'summary': 'Allow opening multiple new URLs in new windows at once. (need a way to open many links in new tabs at once)',\n",
       "  'status': 'NEW',\n",
       "  'id': 9274},\n",
       " {'summary': \"Message headers don't scroll with the message\",\n",
       "  'status': 'NEW',\n",
       "  'id': 9942},\n",
       " {'summary': 'Implement drag & drop of attached messages to mail folders (*.eml, message/rfc822 type mime attachments)',\n",
       "  'status': 'NEW',\n",
       "  'id': 11013},\n",
       " {'summary': 'Implement new filter actions: Auto reply, forward, bounce',\n",
       "  'status': 'NEW',\n",
       "  'id': 11034},\n",
       " {'summary': \"Filter by example (create a filter based on a message you're viewing)\",\n",
       "  'status': 'NEW',\n",
       "  'id': 11036},\n",
       " {'summary': 'add Javascript filter actions (not criteria)',\n",
       "  'status': 'NEW',\n",
       "  'id': 11037},\n",
       " {'summary': 'Allow filters to control biff UI (i.e. only notify me of \"important\" messages)',\n",
       "  'status': 'NEW',\n",
       "  'id': 11040},\n",
       " {'summary': \"Auto-watch threads you've posted to (Preference)\",\n",
       "  'status': 'NEW',\n",
       "  'id': 11048},\n",
       " {'summary': 'Use mozStorage or IndexedDB instead of Mork for the message summary database',\n",
       "  'status': 'NEW',\n",
       "  'id': 11050},\n",
       " {'summary': 'JS errors in event handlers lack file and line number info',\n",
       "  'status': 'NEW',\n",
       "  'id': 11240},\n",
       " {'summary': 'View as different media (mime) type support',\n",
       "  'status': 'NEW',\n",
       "  'id': 11521},\n",
       " {'summary': 'LDAP autocomplete should resolve LDAP mailing lists (groups, compose window)',\n",
       "  'status': 'NEW',\n",
       "  'id': 12409},\n",
       " {'summary': 'Implement more platform-specific keybindings (sparc help key, mac help key, windows menu key, etc.)',\n",
       "  'status': 'ASSIGNED',\n",
       "  'id': 13168},\n",
       " {'summary': 'Support WebDAV protocol for publishing (revision, etc.; Composer-specific UI and code)',\n",
       "  'status': 'NEW',\n",
       "  'id': 13383},\n",
       " {'summary': 'Indicate whether a link will open in a new window',\n",
       "  'status': 'NEW',\n",
       "  'id': 14027},\n",
       " {'summary': \"Handle editing of frameset documents [and iframe's, too]\",\n",
       "  'status': 'NEW',\n",
       "  'id': 14156},\n",
       " {'summary': \"don't popup new windows while mouse button is down\",\n",
       "  'status': 'NEW',\n",
       "  'id': 14716},\n",
       " {'summary': '[RFE] Allow bookmarking of e-mail/Usenet messages',\n",
       "  'status': 'NEW',\n",
       "  'id': 14988},\n",
       " {'summary': 'Ability to rearrange toolbars (by drag and drop)',\n",
       "  'status': 'NEW',\n",
       "  'id': 15322},\n",
       " {'summary': 'should be a status whiteboard field on new bug form',\n",
       "  'status': 'NEW',\n",
       "  'id': 16647},\n",
       " {'summary': '[FEATURE] Add customizable header prefs',\n",
       "  'status': 'NEW',\n",
       "  'id': 16904},\n",
       " {'summary': 'Word-wrap text/plain content pref UI',\n",
       "  'status': 'NEW',\n",
       "  'id': 16909},\n",
       " {'summary': 'Advanced Prefs - Edit *all* prefs using tree UI',\n",
       "  'status': 'NEW',\n",
       "  'id': 17199},\n",
       " {'summary': 'Ability to submit form in a new window / tab (when button is middle or right clicked)',\n",
       "  'status': 'REOPENED',\n",
       "  'id': 17754},\n",
       " {'summary': 'Two way LDAP replication (sync changes to server)',\n",
       "  'status': 'NEW',\n",
       "  'id': 17884},\n",
       " {'summary': 'Support tables in plaintext output',\n",
       "  'status': 'NEW',\n",
       "  'id': 18012},\n",
       " {'summary': '[FEATURE] Gnome and KDE integration for new mail notification',\n",
       "  'status': 'NEW',\n",
       "  'id': 18732},\n",
       " {'summary': 'New windows/tabs should inherit current page, back button/go menu history',\n",
       "  'status': 'NEW',\n",
       "  'id': 18808},\n",
       " {'summary': 'Regular expressions in mail and news filters',\n",
       "  'status': 'NEW',\n",
       "  'id': 19442},\n",
       " {'summary': 'Export address book card/contact as vCard',\n",
       "  'status': 'NEW',\n",
       "  'id': 20304},\n",
       " {'summary': 'PGP support', 'status': 'NEW', 'id': 22687},\n",
       " {'summary': '[meta] Allow user to turn on and off rendering of video/audio (disable sound)',\n",
       "  'status': 'NEW',\n",
       "  'id': 24418},\n",
       " {'summary': \"Can't turn chrome back on in chromeless window\",\n",
       "  'status': 'NEW',\n",
       "  'id': 26353},\n",
       " {'summary': 'meta bug - show error pages instead of dialogs for network errors (placeholder page in the content area) (http error pages)',\n",
       "  'status': 'NEW',\n",
       "  'id': 28586},\n",
       " {'summary': 'Address book should have full vCard 4.0 RFC 6350 and RFC2426 (vCard 3.0) support',\n",
       "  'status': 'NEW',\n",
       "  'id': 29106},\n",
       " {'summary': \"feature to zoom so that majority of text on a page is user's default size\",\n",
       "  'status': 'NEW',\n",
       "  'id': 31961},\n",
       " {'summary': 'Wildcard (or regexp/regular expression) searching',\n",
       "  'status': 'NEW',\n",
       "  'id': 32641},\n",
       " {'summary': 'font sample display in font prefs',\n",
       "  'status': 'NEW',\n",
       "  'id': 33340},\n",
       " {'summary': \"Add a 'blacklist website' feature to Mozilla\",\n",
       "  'status': 'NEW',\n",
       "  'id': 33469},\n",
       " {'summary': 'Use native context menus on Mac OS',\n",
       "  'status': 'NEW',\n",
       "  'id': 34572},\n",
       " {'summary': 'Global message filter option to use a filter shared across accounts',\n",
       "  'status': 'NEW',\n",
       "  'id': 34973},\n",
       " {'summary': 'Hide/Mute quoted text', 'status': 'NEW', 'id': 35929},\n",
       " {'summary': 'Scroll to non-quoted text', 'status': 'NEW', 'id': 35930},\n",
       " {'summary': 'Proxy icon in title bar', 'status': 'NEW', 'id': 36305},\n",
       " {'summary': 'Initial identity based on rules', 'status': 'NEW', 'id': 36482},\n",
       " {'summary': '[Meta] LDAP Support', 'status': 'NEW', 'id': 36557},\n",
       " {'summary': \"Auto-filter based on message's thread parent\",\n",
       "  'status': 'NEW',\n",
       "  'id': 37654},\n",
       " {'summary': 'subscribe to newsgroups dialog should support description (charters/taglines/LIST NEWSGROUPS)',\n",
       "  'status': 'NEW',\n",
       "  'id': 37775},\n",
       " {'summary': 'boolean chart: split comparison type from what happened',\n",
       "  'status': 'NEW',\n",
       "  'id': 38487},\n",
       " {'summary': 'show message counts in subscribe dialog',\n",
       "  'status': 'NEW',\n",
       "  'id': 38906},\n",
       " {'summary': 'Save as rfc 2557 MHTML; complete webpage in one file',\n",
       "  'status': 'NEW',\n",
       "  'id': 40873},\n",
       " {'summary': 'Paste Special submenu needed - paste cells as Rows or Columns',\n",
       "  'status': 'NEW',\n",
       "  'id': 41547},\n",
       " {'summary': 'Browse local file system via the sidebar',\n",
       "  'status': 'NEW',\n",
       "  'id': 43873},\n",
       " {'summary': 'Component trees', 'status': 'NEW', 'id': 43940},\n",
       " {'summary': \"[SM] Checkbox to remember the decision the user makes in the askSendFormat dialog so that we don't ask again\",\n",
       "  'status': 'NEW',\n",
       "  'id': 44494},\n",
       " {'summary': 'Attaching Web page to mail does not include objects',\n",
       "  'status': 'NEW',\n",
       "  'id': 45602},\n",
       " {'summary': '[AltSS] alternate user stylesheets',\n",
       "  'status': 'NEW',\n",
       "  'id': 45848},\n",
       " {'summary': 'input helper applications for file upload form submission',\n",
       "  'status': 'NEW',\n",
       "  'id': 46135},\n",
       " {'summary': 'Snip command (toolbar button)', 'status': 'NEW', 'id': 47267},\n",
       " {'summary': 'Implement statusbar tips for menuitems',\n",
       "  'status': 'NEW',\n",
       "  'id': 47434},\n",
       " {'summary': 'Allow horizontally adjacent toolbars (with splitters)',\n",
       "  'status': 'NEW',\n",
       "  'id': 48926},\n",
       " {'summary': 'when extraneous </script> is encountered, explain bug 32618',\n",
       "  'status': 'NEW',\n",
       "  'id': 49551},\n",
       " {'summary': 'CSS inset and outset are ugly', 'status': 'NEW', 'id': 50699},\n",
       " {'summary': '[AltSS] UI for alternate and user stylesheets for printing',\n",
       "  'status': 'NEW',\n",
       "  'id': 51848},\n",
       " {'summary': 'Should show XML source for ill-formed XML document',\n",
       "  'status': 'NEW',\n",
       "  'id': 52422},\n",
       " {'summary': 'too easy to hit CTRL+Q instead of CTRL+W',\n",
       "  'status': 'NEW',\n",
       "  'id': 52821},\n",
       " {'summary': 'Need to support CSS3 system colors',\n",
       "  'status': 'NEW',\n",
       "  'id': 52948},\n",
       " {'summary': 'editor does not generate XHTML', 'status': 'NEW', 'id': 55313},\n",
       " {'summary': '\"Force JavaScript link to open in new window or new tab\"',\n",
       "  'status': 'NEW',\n",
       "  'id': 55696},\n",
       " {'summary': 'Add option to disable frames/force noframes',\n",
       "  'status': 'NEW',\n",
       "  'id': 56743},\n",
       " {'summary': 'Add \"View as Text/HTML/...\" option for unknown mime content-type',\n",
       "  'status': 'NEW',\n",
       "  'id': 57342},\n",
       " {'summary': 'front end for customizing keyboard shortcuts (configurable/user-defined keys)',\n",
       "  'status': 'NEW',\n",
       "  'id': 57805},\n",
       " {'summary': \"support qmail's maildir format\", 'status': 'NEW', 'id': 58308},\n",
       " {'summary': 'Support using external programs to show non-inlined images and other content',\n",
       "  'status': 'NEW',\n",
       "  'id': 58554},\n",
       " {'summary': 'At end of Web page, offer to go to next page when Space is pressed',\n",
       "  'status': 'NEW',\n",
       "  'id': 59118},\n",
       " {'summary': 'Macro criteria (not actions) as one additional criteria format.',\n",
       "  'status': 'NEW',\n",
       "  'id': 59339},\n",
       " {'summary': 'Filters should have triggers', 'status': 'NEW', 'id': 59365},\n",
       " {'summary': 'Need ability to execute trusted XBL/JS when doc is untrusted',\n",
       "  'status': 'NEW',\n",
       "  'id': 59701},\n",
       " {'summary': 'Need more & better README files in the source tree (keyword: documentation)',\n",
       "  'status': 'NEW',\n",
       "  'id': 59885},\n",
       " {'summary': 'mozilla as a file manager/task launcher',\n",
       "  'status': 'NEW',\n",
       "  'id': 59932},\n",
       " {'summary': 'Ability to Change Order of Accounts',\n",
       "  'status': 'NEW',\n",
       "  'id': 61078},\n",
       " {'summary': 'Late charset <meta> or autodetection (chardet) should NOT cause reload (loads twice/two times)',\n",
       "  'status': 'NEW',\n",
       "  'id': 61363},\n",
       " {'summary': \"RFE 'Show images'[button] on toolbar\",\n",
       "  'status': 'NEW',\n",
       "  'id': 61710},\n",
       " {'summary': 'Image not shown inline when using \"cid:\" due to wrong Content-Type: multipart/mixed - Make TB more tolerant to incorrect MIME structure: accept multipart/mixed where multipart/related is required',\n",
       "  'status': 'NEW',\n",
       "  'id': 61815},\n",
       " {'summary': 'Allow to filter mail messages by language (charset)',\n",
       "  'status': 'NEW',\n",
       "  'id': 62598},\n",
       " {'summary': 'could image blocker also block IFRAMEs?',\n",
       "  'status': 'NEW',\n",
       "  'id': 64066},\n",
       " {'summary': 'when running a news:group url, pop up a dialog that allows a user to choose server',\n",
       "  'status': 'NEW',\n",
       "  'id': 64142},\n",
       " {'summary': 'Option to add current card to mailing list',\n",
       "  'status': 'NEW',\n",
       "  'id': 64169},\n",
       " {'summary': 'web archive save/view support (KDE/Konqueror-like .war, .zip, .tgz, .tar.gz, .tar.bz2, tb2, .tbz2, .jar)',\n",
       "  'status': 'NEW',\n",
       "  'id': 64286},\n",
       " {'summary': 'Improve loading times of query.cgi with large numbers of products/components',\n",
       "  'status': 'NEW',\n",
       "  'id': 65052},\n",
       " {'summary': 'Versions should have sortkeys like milestones.',\n",
       "  'status': 'NEW',\n",
       "  'id': 65317},\n",
       " {'summary': '[Meta] Include account name in all account-related interactions: status bar messages, error alerts, username/password prompts [POP3, IMAP, News; incl. improve status line text when sending/receiving/getting/downloading/fetching new messages]',\n",
       "  'status': 'ASSIGNED',\n",
       "  'id': 66860},\n",
       " {'summary': 'W3C CUAP: Provide a mechanism to allow authentication information to expire',\n",
       "  'status': 'NEW',\n",
       "  'id': 68409},\n",
       " {'summary': 'W3C CUAP: ability to select/disable both user and author style sheets',\n",
       "  'status': 'REOPENED',\n",
       "  'id': 68416},\n",
       " {'summary': 'Spellchecker: Multiple language design',\n",
       "  'status': 'NEW',\n",
       "  'id': 69687},\n",
       " {'summary': 'Tracking bug for pref locking in front end',\n",
       "  'status': 'NEW',\n",
       "  'id': 70538},\n",
       " {'summary': 'different icons for bookmarklets and normal bookmarks',\n",
       "  'status': 'NEW',\n",
       "  'id': 72374},\n",
       " {'summary': 'Cannot unsubscribe from multiple newsgroups with context menu',\n",
       "  'status': 'NEW',\n",
       "  'id': 72484},\n",
       " {'summary': 'View -> Messages -> Watched Threads (ALL - not just the unread ones)',\n",
       "  'status': 'NEW',\n",
       "  'id': 73562},\n",
       " {'summary': 'Ability to select from multiple signatures (global / per account?)',\n",
       "  'status': 'NEW',\n",
       "  'id': 73567},\n",
       " {'summary': 'S/MIME support in Mozilla Mail tracking bug',\n",
       "  'status': 'NEW',\n",
       "  'id': 74157},\n",
       " {'summary': 'include XHTML1-defined entities for use in xpfe',\n",
       "  'status': 'NEW',\n",
       "  'id': 74172},\n",
       " {'summary': \"Chatzilla doesn't support multiple windows\",\n",
       "  'status': 'NEW',\n",
       "  'id': 76175},\n",
       " {'summary': '[mozTXTToHTMLConv] convert \"^H\" notation in messages',\n",
       "  'status': 'NEW',\n",
       "  'id': 76732},\n",
       " {'summary': 'Inline viewer for Microsoft proprietary mail formats (ms-tnef, etc.) [\"winmail.dat\"]',\n",
       "  'status': 'NEW',\n",
       "  'id': 77811},\n",
       " {'summary': 'Ability to MathML specific Stuff in Composer',\n",
       "  'status': 'NEW',\n",
       "  'id': 78128},\n",
       " {'summary': 'API to determine if a mouse button is pressed',\n",
       "  'status': 'NEW',\n",
       "  'id': 78248},\n",
       " {'summary': '\"Character Coding\" in context menu in \"Message\" pane',\n",
       "  'status': 'NEW',\n",
       "  'id': 78338},\n",
       " {'summary': \"[Pref Stylesheet]Generic font family settings ignored when `Allow documents to use other fonts' is off\",\n",
       "  'status': 'NEW',\n",
       "  'id': 79074},\n",
       " {'summary': 'Support Sieve', 'status': 'NEW', 'id': 79525},\n",
       " {'summary': '[RFE]Support for calling an external program as Filter action',\n",
       "  'status': 'NEW',\n",
       "  'id': 80439},\n",
       " {'summary': 'Tooltips should appear while moving the mouse too',\n",
       "  'status': 'NEW',\n",
       "  'id': 82953},\n",
       " {'summary': 'UI needed to enable use of Outlook/Outlook Express address books',\n",
       "  'status': 'NEW',\n",
       "  'id': 83100},\n",
       " {'summary': 'back-end implementation to store Alternate style sheet settings [AltSS]',\n",
       "  'status': 'NEW',\n",
       "  'id': 83663},\n",
       " {'summary': 'Add Find button to toolbar', 'status': 'NEW', 'id': 84718},\n",
       " {'summary': 'Add more fields to Address book', 'status': 'NEW', 'id': 85344},\n",
       " {'summary': 'Impossible to mark several newsgroups read at once',\n",
       "  'status': 'NEW',\n",
       "  'id': 86056},\n",
       " {'summary': 'Make LDAP addressbooks editable', 'status': 'NEW', 'id': 86405},\n",
       " {'summary': \"Interface with Apple's spell checker arch on Mac OS X\",\n",
       "  'status': 'NEW',\n",
       "  'id': 86886},\n",
       " {'summary': '[SeaMonkey] Delete key should delete location bar history list entry',\n",
       "  'status': 'REOPENED',\n",
       "  'id': 87098},\n",
       " {'summary': 'need a stop button for view source',\n",
       "  'status': 'NEW',\n",
       "  'id': 87787},\n",
       " {'summary': 'Specific mousepointer when hovering mouse over a mailto: link',\n",
       "  'status': 'NEW',\n",
       "  'id': 90213},\n",
       " {'summary': '\"Change subject\" feature (edit)', 'status': 'NEW', 'id': 91106},\n",
       " {'summary': 'Find should default to wrap around == true',\n",
       "  'status': 'NEW',\n",
       "  'id': 91520},\n",
       " {'summary': '[RFE] Save/Open/detach/delete all attachments in multiple/many selected messages',\n",
       "  'status': 'NEW',\n",
       "  'id': 92146},\n",
       " {'summary': 'file:// needs to expand ~ to home directory in some OS',\n",
       "  'status': 'NEW',\n",
       "  'id': 93141},\n",
       " {'summary': 'Send Page from Composer should not force saving page',\n",
       "  'status': 'NEW',\n",
       "  'id': 95088},\n",
       " {'summary': \"Support Microsoft's Email Programs' Address Books Using AppleScript\",\n",
       "  'status': 'NEW',\n",
       "  'id': 95648},\n",
       " {'summary': 'Allow users to tag bugs from the buglist',\n",
       "  'status': 'NEW',\n",
       "  'id': 95722},\n",
       " {'summary': 'Implement generic inline-edit functionality',\n",
       "  'status': 'ASSIGNED',\n",
       "  'id': 96384},\n",
       " {'summary': 'Move ALL Bugzilla javascript into separate file(s)',\n",
       "  'status': 'ASSIGNED',\n",
       "  'id': 96983},\n",
       " {'summary': 'Quadruple click should select all the form',\n",
       "  'status': 'NEW',\n",
       "  'id': 97053},\n",
       " {'summary': 'No way to specify only applications can be chosen in file picker',\n",
       "  'status': 'ASSIGNED',\n",
       "  'id': 97321},\n",
       " {'summary': 'Some Windows keyboard behaviours missing from trees',\n",
       "  'status': 'ASSIGNED',\n",
       "  'id': 97434},\n",
       " {'summary': 'Need way to search for bug in a given status on a specific date',\n",
       "  'status': 'NEW',\n",
       "  'id': 98935},\n",
       " {'summary': 'Ability to move content areas from tabs into new windows (Link/delink/detach tabs, port bug 225680)',\n",
       "  'status': 'NEW',\n",
       "  'id': 102132},\n",
       " {'summary': 'Ctrl-Enter to submit forms in TEXTAREA',\n",
       "  'status': 'NEW',\n",
       "  'id': 102539},\n",
       " {'summary': 'No keyboard access to link toolbar',\n",
       "  'status': 'NEW',\n",
       "  'id': 102909},\n",
       " {'summary': '[META] Implement CSS Text Module Level 3',\n",
       "  'status': 'NEW',\n",
       "  'id': 104960},\n",
       " {'summary': 'Send button should be disabled until we have a recipient.',\n",
       "  'status': 'NEW',\n",
       "  'id': 104973},\n",
       " {'summary': 'Filter for Attachments', 'status': 'NEW', 'id': 105169},\n",
       " {'summary': 'Helper App Management', 'status': 'NEW', 'id': 106074},\n",
       " {'summary': '[UX] Option to scale webpage content to fit a user specified number of pages',\n",
       "  'status': 'NEW',\n",
       "  'id': 106332},\n",
       " {'summary': 'Field values for default fields should be able to be product-specific or product-inspecific',\n",
       "  'status': 'NEW',\n",
       "  'id': 106592},\n",
       " {'summary': 'Quick Search is doing the wrong thing in Threaded mode (View|Threads)',\n",
       "  'status': 'NEW',\n",
       "  'id': 107000},\n",
       " {'summary': \"Mozilla mail doesn't open URLs in system default browser\",\n",
       "  'status': 'NEW',\n",
       "  'id': 108455},\n",
       " {'summary': 'Select correct server for <news:msg-id> URLs',\n",
       "  'status': 'NEW',\n",
       "  'id': 108877},\n",
       " {'summary': 'Constrain referential integrity as applicable (foreign keys)',\n",
       "  'status': 'NEW',\n",
       "  'id': 109473},\n",
       " {'summary': 'Fully customisable index page (channels).',\n",
       "  'status': 'NEW',\n",
       "  'id': 109692},\n",
       " {'summary': 'Split screen/tabbed interface for multiple servers.',\n",
       "  'status': 'NEW',\n",
       "  'id': 110550},\n",
       " {'summary': 'Cannot remove local folders from Thunderbird UI (having either IMAP or POP account)',\n",
       "  'status': 'NEW',\n",
       "  'id': 110672},\n",
       " {'summary': 'Add New Contact to Groups & Mailing Lists',\n",
       "  'status': 'NEW',\n",
       "  'id': 112970},\n",
       " {'summary': 'Get rid of (Assign|Append|Insert)WithConversion',\n",
       "  'status': 'NEW',\n",
       "  'id': 113234},\n",
       " {'summary': 'tracking bug for Preferences redesign & reorganization, panel content',\n",
       "  'status': 'NEW',\n",
       "  'id': 114521},\n",
       " {'summary': \"can't drag-select in thread pane (Rectangle selection)\",\n",
       "  'status': 'NEW',\n",
       "  'id': 114637},\n",
       " {'summary': 'Favicons for folders', 'status': 'NEW', 'id': 114692},\n",
       " {'summary': 'support %u in mailcap helpers', 'status': 'NEW', 'id': 115041},\n",
       " {'summary': 'Use |FILTER bug_link()| where appropriate to display a bug ID',\n",
       "  'status': 'ASSIGNED',\n",
       "  'id': 115796},\n",
       " {'summary': 'Add a user pref to paste all comments in each bugmail',\n",
       "  'status': 'NEW',\n",
       "  'id': 116863},\n",
       " {'summary': 'Limit Scope of Session Cookies (new tabs and windows)',\n",
       "  'status': 'ASSIGNED',\n",
       "  'id': 117222},\n",
       " {'summary': 'Implement -moz-popup-flags: drop-shadow | none',\n",
       "  'status': 'NEW',\n",
       "  'id': 118379},\n",
       " {'summary': 'Allow multiple email addresses / phone & fax numbers / URLs per card',\n",
       "  'status': 'NEW',\n",
       "  'id': 118665},\n",
       " {'summary': 'Need ability to move component from product to product',\n",
       "  'status': 'NEW',\n",
       "  'id': 119569},\n",
       " {'summary': 'Better (cycling) default list-style-type for ULs (unordered lists)',\n",
       "  'status': 'NEW',\n",
       "  'id': 119753},\n",
       " {'summary': '[RFE] File inputs should allow URLs',\n",
       "  'status': 'NEW',\n",
       "  'id': 121059},\n",
       " {'summary': 'Need a \"Use Mozilla\" option on helper apps dialog',\n",
       "  'status': 'NEW',\n",
       "  'id': 121498},\n",
       " {'summary': 'Inter-Bugzilla Integration Capabilities (Dependencies, Moving, etc.)',\n",
       "  'status': 'NEW',\n",
       "  'id': 123130},\n",
       " {'summary': 'Custom keywords should support multiple substitutions (w/ code)',\n",
       "  'status': 'NEW',\n",
       "  'id': 124237},\n",
       " {'summary': '[META]Add AppleScript support and capabilities to Mozilla on Mac, e.g. AppleScript/OSA Script menu',\n",
       "  'status': 'NEW',\n",
       "  'id': 125419},\n",
       " {'summary': '[SM] \"Get Msgs\" button should download all mail accounts',\n",
       "  'status': 'NEW',\n",
       "  'id': 125885},\n",
       " {'summary': 'Advanced Address Book Search needs additional buttons (Copy, Move) and/or context menu for found contacts/results',\n",
       "  'status': 'NEW',\n",
       "  'id': 126331},\n",
       " {'summary': 'Full-screen: auto-hide toolbars', 'status': 'NEW', 'id': 126718},\n",
       " {'summary': 'Add support for sending/receiving OS folder (subdirectory) as attachment (multipart/x-folder)',\n",
       "  'status': 'NEW',\n",
       "  'id': 127284},\n",
       " {'summary': 'redirect moved bugs to new installation',\n",
       "  'status': 'NEW',\n",
       "  'id': 127875},\n",
       " {'summary': 'add \"expunge now\" button to toolbar',\n",
       "  'status': 'NEW',\n",
       "  'id': 127888},\n",
       " {'summary': 'RFE: Spell checker does not recognize capitalization errors.',\n",
       "  'status': 'NEW',\n",
       "  'id': 128122},\n",
       " {'summary': 'Need to be able to specify product/component when moving a bug',\n",
       "  'status': 'NEW',\n",
       "  'id': 128613},\n",
       " {'summary': 'Add sliding functionality to personal toolbar separator (splitter)',\n",
       "  'status': 'NEW',\n",
       "  'id': 128963},\n",
       " {'summary': '[meta] Meta bug: hook up XUL accesskeys throughout the UI',\n",
       "  'status': 'NEW',\n",
       "  'id': 129179},\n",
       " {'summary': 'consistent styling of bug lists', 'status': 'NEW', 'id': 130276},\n",
       " {'summary': \"Make Bugzilla's index.cgi (home page) useful for logged-in users\",\n",
       "  'status': 'NEW',\n",
       "  'id': 130835},\n",
       " {'summary': '[meta] Implement missing page-break-* CSS2.1 features',\n",
       "  'status': 'NEW',\n",
       "  'id': 132035},\n",
       " {'summary': '[RFE] xul stringbundle does not work over http(s)',\n",
       "  'status': 'NEW',\n",
       "  'id': 133698},\n",
       " {'summary': 'inter/cross-installation dependencies',\n",
       "  'status': 'NEW',\n",
       "  'id': 134294},\n",
       " {'summary': 'Add \"None\" button for client authentication, change cancel to cancel connection',\n",
       "  'status': 'NEW',\n",
       "  'id': 135403},\n",
       " {'summary': 'Composition: Need ability to manipulate multiple recipients simultaneously (multiple selection of email addresses, e-mail contacts, delete, copy, toggle To/CC/Bcc etc.)',\n",
       "  'status': 'NEW',\n",
       "  'id': 136897},\n",
       " {'summary': 'want way to hand URL to helper apps without downloading whole document first (for streaming)',\n",
       "  'status': 'NEW',\n",
       "  'id': 137339},\n",
       " {'summary': 'Implement orphans and widows', 'status': 'NEW', 'id': 137367},\n",
       " {'summary': 'Improve handling of recursive template invocation',\n",
       "  'status': 'NEW',\n",
       "  'id': 138183},\n",
       " {'summary': 'Prioritize first tab in loading bookmark groups',\n",
       "  'status': 'NEW',\n",
       "  'id': 141615},\n",
       " {'summary': 'RFE: Visual indication of denying from \"scripts & windows\" a popup window, or other javascript functions',\n",
       "  'status': 'NEW',\n",
       "  'id': 142458},\n",
       " {'summary': \"[meta] allow user to override script's choice of windows\",\n",
       "  'status': 'NEW',\n",
       "  'id': 142712},\n",
       " {'summary': 'Maybe \"delete attachment\" in the context menu should be \"remove\"?',\n",
       "  'status': 'NEW',\n",
       "  'id': 143415},\n",
       " {'summary': '[META] CSS3 writing-mode (vertical text)',\n",
       "  'status': 'NEW',\n",
       "  'id': 145503},\n",
       " {'summary': 'Save as draft to local folder when offline',\n",
       "  'status': 'NEW',\n",
       "  'id': 147519},\n",
       " {'summary': 'keyboard shortcuts for snips (pre-defined text)',\n",
       "  'status': 'NEW',\n",
       "  'id': 147854},\n",
       " {'summary': '[RFE] menu/key for \"Paste as Quotation\" for textarea',\n",
       "  'status': 'NEW',\n",
       "  'id': 151332},\n",
       " {'summary': 'RFE: Arabic numeral behaviour should listen to the system setting, if any',\n",
       "  'status': 'NEW',\n",
       "  'id': 151374},\n",
       " {'summary': '[RFE] per-filter import and export (anti-spam)',\n",
       "  'status': 'NEW',\n",
       "  'id': 151612},\n",
       " {'summary': 'new Filepicker filters for Nvu',\n",
       "  'status': 'ASSIGNED',\n",
       "  'id': 152289},\n",
       " {'summary': '[RFE] allow privileged access to clipboard from scripts',\n",
       "  'status': 'REOPENED',\n",
       "  'id': 153868},\n",
       " {'summary': 'Allow saved searches to be renamed',\n",
       "  'status': 'NEW',\n",
       "  'id': 156662},\n",
       " {'summary': 'show_bug should use etag or last-modified to allow caching',\n",
       "  'status': 'NEW',\n",
       "  'id': 156865},\n",
       " {'summary': 'Mac: Add AppleScript action to message filters',\n",
       "  'status': 'NEW',\n",
       "  'id': 158019},\n",
       " {'summary': '[Meta] Support RSAPSS', 'status': 'NEW', 'id': 158750},\n",
       " {'summary': '[RFE]Option to stop animated images (on site-by-site basis)',\n",
       "  'status': 'NEW',\n",
       "  'id': 160678},\n",
       " {'summary': 'Maybe \"Save Page As\" could save as PDF (using Skia PDF)',\n",
       "  'status': 'NEW',\n",
       "  'id': 162659},\n",
       " {'summary': 'Implement security zones', 'status': 'NEW', 'id': 165531},\n",
       " {'summary': 'MMX version of nsID::Equals', 'status': 'NEW', 'id': 165975},\n",
       " {'summary': 'Ability to tie identities to folder hierarchies (namespaces)',\n",
       "  'status': 'NEW',\n",
       "  'id': 166293},\n",
       " {'summary': 'Possibility to attach a file to an event',\n",
       "  'status': 'ASSIGNED',\n",
       "  'id': 168680},\n",
       " {'summary': 'Languages, list order: Multiple selection is not supported by Move buttons',\n",
       "  'status': 'NEW',\n",
       "  'id': 168728},\n",
       " {'summary': '[meta] preference panel for accessibility in mozilla/netscape',\n",
       "  'status': 'NEW',\n",
       "  'id': 169045},\n",
       " {'summary': 'Cursor shape should reflect the type of link hovered on (e.g. pop-up/download/mailto...) (different cursors for links to new windows)',\n",
       "  'status': 'NEW',\n",
       "  'id': 169678},\n",
       " {'summary': \"Mozilla should support directly accessing Ximian Evolution's Address Book\",\n",
       "  'status': 'NEW',\n",
       "  'id': 170265},\n",
       " {'summary': \"Add a Bookmarks Toolbar or set bookmark root as `Personal Toolbar Folder'.\",\n",
       "  'status': 'NEW',\n",
       "  'id': 170994},\n",
       " {'summary': \"Sidebar of Mozilla can't interpret RSS/RDF\",\n",
       "  'status': 'NEW',\n",
       "  'id': 171453},\n",
       " {'summary': 'Allow Bugzilla to work with Sybase',\n",
       "  'status': 'NEW',\n",
       "  'id': 173130},\n",
       " {'summary': 'Improve Filter log display format',\n",
       "  'status': 'NEW',\n",
       "  'id': 174839},\n",
       " {'summary': 'Ability to select bugs in buglist to redisplay list with only those bugs',\n",
       "  'status': 'NEW',\n",
       "  'id': 175416},\n",
       " {'summary': '<wbr> should be implemented as a CSS rule or maybe XBL',\n",
       "  'status': 'NEW',\n",
       "  'id': 178671},\n",
       " {'summary': 'add marking junk mail support to news',\n",
       "  'status': 'NEW',\n",
       "  'id': 179984},\n",
       " {'summary': 'Use bayesian filters for other features than spam (junk mail)',\n",
       "  'status': 'NEW',\n",
       "  'id': 181866},\n",
       " {'summary': 'Run filter action after time delay of N days',\n",
       "  'status': 'NEW',\n",
       "  'id': 183714},\n",
       " {'summary': '\"view\" dropdown should include \"Watched\"',\n",
       "  'status': 'NEW',\n",
       "  'id': 184231},\n",
       " {'summary': 'Allow multiple QAs', 'status': 'REOPENED', 'id': 184962},\n",
       " {'summary': 'Offer choice to open natively with Content-Disposition: attachment (View/Show in browser)',\n",
       "  'status': 'NEW',\n",
       "  'id': 185618},\n",
       " {'summary': 'Mail notification (biff) text should be customizable',\n",
       "  'status': 'NEW',\n",
       "  'id': 188754},\n",
       " {'summary': 'Re-implement visual selection', 'status': 'NEW', 'id': 195909},\n",
       " {'summary': 'have only one unique window for Mail with internal windows managed through tabs or internal taskbar',\n",
       "  'status': 'NEW',\n",
       "  'id': 196760},\n",
       " {'summary': 'Non Mouse Click & Max Number of Popups Exceptions',\n",
       "  'status': 'NEW',\n",
       "  'id': 197919},\n",
       " {'summary': 'Improve NTLM auth UI (add domain field to auth prompt)',\n",
       "  'status': 'NEW',\n",
       "  'id': 199674},\n",
       " {'summary': 'Ability to manually trust a cert in association with a given address',\n",
       "  'status': 'NEW',\n",
       "  'id': 200862},\n",
       " {'summary': 'Add ability for new tabs to load a custom page on creation. Implement \"browser.newtab.url\".',\n",
       "  'status': 'NEW',\n",
       "  'id': 200956},\n",
       " {'summary': 'Proxy: IPv6: add support in \"No Proxy for \"',\n",
       "  'status': 'NEW',\n",
       "  'id': 201685},\n",
       " {'summary': 'Publish/Retrieve freebusy aggregate calendar/file (.ifb/.vfb)',\n",
       "  'status': 'NEW',\n",
       "  'id': 205659},\n",
       " {'summary': 'Incorporate thread views (\"Watched Threads with Unread\", etc.) into MailViews dropdown list',\n",
       "  'status': 'NEW',\n",
       "  'id': 207862},\n",
       " {'summary': 'Support read only filesystems and load params from db',\n",
       "  'status': 'REOPENED',\n",
       "  'id': 208680},\n",
       " {'summary': 'Mail Client  has to remember last used encoding',\n",
       "  'status': 'NEW',\n",
       "  'id': 208917},\n",
       " {'summary': 'Mail/message listing/thread pane needs more organization in 3 vertical pane view (like Outlook, Lotus Notes et al.)',\n",
       "  'status': 'NEW',\n",
       "  'id': 213945},\n",
       " {'summary': 'Marketing site and sub-projects tracking bug',\n",
       "  'status': 'NEW',\n",
       "  'id': 214064},\n",
       " {'summary': 'Remove Profile Manager UI', 'status': 'NEW', 'id': 214675},\n",
       " {'summary': 'Provide alternate method for bugzilla users to contact each other, prevent spam by not showing email addresses',\n",
       "  'status': 'NEW',\n",
       "  'id': 215439},\n",
       " {'summary': 'email_in.pl should accept inline text attachments',\n",
       "  'status': 'NEW',\n",
       "  'id': 215514},\n",
       " {'summary': 'support X500 name chaining [NIST PKITS tests 4.3.3 4.3.4 4.3.5 4.3.10 4.3.11 fail]',\n",
       "  'status': 'NEW',\n",
       "  'id': 216123},\n",
       " {'summary': 'Field names defined in field-descs template should be used everywhere',\n",
       "  'status': 'NEW',\n",
       "  'id': 218746},\n",
       " {'summary': 'RFE: Automatic paragraph direction of plain text (email, IRC messages, {optionally} textareas, etc.)',\n",
       "  'status': 'NEW',\n",
       "  'id': 218823},\n",
       " {'summary': 'implement content pseudo-class :contains()',\n",
       "  'status': 'ASSIGNED',\n",
       "  'id': 221981},\n",
       " {'summary': \"Junk classification should execute on each message as it's received, not after all have been fetched.\",\n",
       "  'status': 'NEW',\n",
       "  'id': 223591},\n",
       " {'summary': 'automatic login for HTTP authentication',\n",
       "  'status': 'NEW',\n",
       "  'id': 223636},\n",
       " {'summary': 'Deployments page & project', 'status': 'NEW', 'id': 226876},\n",
       " {'summary': 'Better access to POP3/SMTP logging',\n",
       "  'status': 'NEW',\n",
       "  'id': 229173},\n",
       " {'summary': 'Bundle Plugins with Mozilla', 'status': 'NEW', 'id': 229590},\n",
       " {'summary': 'offer an easy way to refer to a bug in another bugzilla (See Also)',\n",
       "  'status': 'NEW',\n",
       "  'id': 231429},\n",
       " {'summary': 'sort by watched threads and by date',\n",
       "  'status': 'NEW',\n",
       "  'id': 231945},\n",
       " {'summary': 'Support nonblocking cert validation and revocation in libssl',\n",
       "  'status': 'REOPENED',\n",
       "  'id': 234135},\n",
       " {'summary': 'Allow bookmark keyword searches from the search bar / integrate toolbar and bookmark keyword searches',\n",
       "  'status': 'NEW',\n",
       "  'id': 236587},\n",
       " {'summary': 'Disabling JavaScript should not prevent JavaScript contained in chrome XBL  from running',\n",
       "  'status': 'NEW',\n",
       "  'id': 236839},\n",
       " {'summary': 'Extend Acct Mgr UI to allow multiple accounts with same username,server, but different ports',\n",
       "  'status': 'NEW',\n",
       "  'id': 238583},\n",
       " {'summary': 'Add A \"Customize Known Networks List\" Function',\n",
       "  'status': 'NEW',\n",
       "  'id': 239080},\n",
       " {'summary': 'Add View>Thread>As Conversation, flat ala groups.google.com/gmail.com',\n",
       "  'status': 'NEW',\n",
       "  'id': 241197},\n",
       " {'summary': 'Need someway to enable toolbar button when first added by an addon',\n",
       "  'status': 'NEW',\n",
       "  'id': 242071},\n",
       " {'summary': 'ability to freeze (and thaw) all page animation: GIFs, Flash, DHTML (e.g. to prevent \"DHTML popup ads\")',\n",
       "  'status': 'NEW',\n",
       "  'id': 242237},\n",
       " {'summary': \"msg filter run filter now doesn't give any progress/status\",\n",
       "  'status': 'REOPENED',\n",
       "  'id': 243241},\n",
       " {'summary': 'Add Applescript support and dictionary to Thunderbird',\n",
       "  'status': 'NEW',\n",
       "  'id': 243543},\n",
       " {'summary': 'Cannot change sort order of accounts (suggested fix: Implement \"Reorder accounts\" dialogue, accessible via menuitems from primary UI)',\n",
       "  'status': 'NEW',\n",
       "  'id': 244347},\n",
       " {'summary': 'Separate settings for on-screen and print fonts (Serif vs. Sans Serif ) - back end support',\n",
       "  'status': 'NEW',\n",
       "  'id': 244439},\n",
       " {'summary': 'Customized cursor when hovering a .pdf link',\n",
       "  'status': 'NEW',\n",
       "  'id': 246481},\n",
       " {'summary': 'Support timer delayed sending of message (msgs to go via outbox)',\n",
       "  'status': 'NEW',\n",
       "  'id': 246865},\n",
       " {'summary': 'Statistics of incoming, sent, junk and more.',\n",
       "  'status': 'NEW',\n",
       "  'id': 247361},\n",
       " {'summary': 'No sound on clicking links', 'status': 'NEW', 'id': 248380},\n",
       " {'summary': 'Avoid shifting the page when toolbars appear or disappear',\n",
       "  'status': 'REOPENED',\n",
       "  'id': 248715},\n",
       " {'summary': 'Tooltip placement should be based on the current cursor',\n",
       "  'status': 'NEW',\n",
       "  'id': 248718},\n",
       " {'summary': 'Ability to export/backup saved passwords',\n",
       "  'status': 'NEW',\n",
       "  'id': 249801},\n",
       " {'summary': 'Bright, clear focus appearance for HTML content on Win/GTK platforms',\n",
       "  'status': 'NEW',\n",
       "  'id': 251198},\n",
       " {'summary': 'feature to suppress or route joins, leaves, kills, etc in Chatzilla (message filtering)',\n",
       "  'status': 'NEW',\n",
       "  'id': 252848},\n",
       " {'summary': 'Add server status column', 'status': 'NEW', 'id': 253554},\n",
       " {'summary': '[RFE] Allow edit in place any message (real edit, not \"edit as new\")',\n",
       "  'status': 'NEW',\n",
       "  'id': 254739},\n",
       " {'summary': '[META] Implement CSS ruby module',\n",
       "  'status': 'NEW',\n",
       "  'id': 256274},\n",
       " {'summary': 'Implement DOM 3 Events', 'status': 'NEW', 'id': 256333},\n",
       " {'summary': 'Gecko should support highlighting of multiple ranges that are not the selection (multiple styleable selections)',\n",
       "  'status': 'NEW',\n",
       "  'id': 256773},\n",
       " {'summary': 'activity manager tracker [meta]', 'status': 'NEW', 'id': 257942},\n",
       " {'summary': 'default category selection when creating event/task',\n",
       "  'status': 'NEW',\n",
       "  'id': 258298},\n",
       " {'summary': 'Advanced \"Search Messages\" results should have a message preview pane',\n",
       "  'status': 'NEW',\n",
       "  'id': 258371},\n",
       " {'summary': 'Show when CAPS-LOCK is on and focus is in a password field',\n",
       "  'status': 'ASSIGNED',\n",
       "  'id': 259059},\n",
       " {'summary': 'Ability to log out of  HTTP Auth for individual site',\n",
       "  'status': 'NEW',\n",
       "  'id': 260839},\n",
       " {'summary': 'Textbox context menu should have \"Add to Search Bar...\"',\n",
       "  'status': 'NEW',\n",
       "  'id': 261124},\n",
       " {'summary': 'Accessibility \"phrase not found\" sound can\\'t be configured',\n",
       "  'status': 'NEW',\n",
       "  'id': 265037},\n",
       " {'summary': 'Directional caret marker should be a bit longer',\n",
       "  'status': 'NEW',\n",
       "  'id': 265064},\n",
       " {'summary': 'Junk mail controls on newsgroups: hide messages marked junk when requested',\n",
       "  'status': 'NEW',\n",
       "  'id': 268344},\n",
       " {'summary': 'Password list is in alpha order, not sorted by domain name',\n",
       "  'status': 'NEW',\n",
       "  'id': 269696},\n",
       " {'summary': 'Changing mail account (from) should change HTML/plain-text composition format',\n",
       "  'status': 'NEW',\n",
       "  'id': 275804},\n",
       " {'summary': 'Ability to \"watch\" based on any field',\n",
       "  'status': 'NEW',\n",
       "  'id': 278455},\n",
       " {'summary': 'Create a bug_update table', 'status': 'NEW', 'id': 281354},\n",
       " {'summary': 'Sort domain lists (cookies, exceptions, saved passwords, etc) in reverse DNS order (optionally?)',\n",
       "  'status': 'NEW',\n",
       "  'id': 282220},\n",
       " {'summary': 'Implement a password aging policy (require password changes after a certain period of time)',\n",
       "  'status': 'ASSIGNED',\n",
       "  'id': 284570},\n",
       " {'summary': 'IMAP\\'s \"Server supports folders that contain sub-folders and messages\" setting is bad idea',\n",
       "  'status': 'NEW',\n",
       "  'id': 284933},\n",
       " {'summary': 'Need quicker way to save many selected attachments, but not all attachments',\n",
       "  'status': 'NEW',\n",
       "  'id': 285997},\n",
       " {'summary': '[META] CSS Paged Media Module Level 3',\n",
       "  'status': 'NEW',\n",
       "  'id': 286443},\n",
       " {'summary': 'Always make compacting folders automatic, with no UI',\n",
       "  'status': 'NEW',\n",
       "  'id': 286888},\n",
       " {'summary': 'Change old enum fields from varchars to integers with foreign keys',\n",
       "  'status': 'NEW',\n",
       "  'id': 287311},\n",
       " {'summary': 'Move bugs.rep_platform to use an integer instead of a varchar',\n",
       "  'status': 'NEW',\n",
       "  'id': 287314},\n",
       " {'summary': 'Move bugs.op_sys to be an integer instead of a varchar',\n",
       "  'status': 'NEW',\n",
       "  'id': 287316},\n",
       " {'summary': 'Move bugs.bug_severity to be an integer instead of a varchar',\n",
       "  'status': 'NEW',\n",
       "  'id': 287317},\n",
       " {'summary': 'Move bugs.priority to use an integer instead of a varchar',\n",
       "  'status': 'NEW',\n",
       "  'id': 287318},\n",
       " {'summary': 'Move bugs.bug_status to be an integer instead of a varchar',\n",
       "  'status': 'NEW',\n",
       "  'id': 287320},\n",
       " {'summary': 'Move bugs.resolution to be an integer instead of a varchar',\n",
       "  'status': 'NEW',\n",
       "  'id': 287321},\n",
       " {'summary': 'Move old enum fields into a generic code framework',\n",
       "  'status': 'NEW',\n",
       "  'id': 287322},\n",
       " {'summary': 'Make status_whiteboard into a generic field',\n",
       "  'status': 'NEW',\n",
       "  'id': 287323},\n",
       " {'summary': 'Ability to add custom type-constrained plain-text fields to a bug',\n",
       "  'status': 'NEW',\n",
       "  'id': 287328},\n",
       " {'summary': 'Move all select-type fields into custom fields framework',\n",
       "  'status': 'NEW',\n",
       "  'id': 287335},\n",
       " {'summary': 'Move bugs.target_milestone into being a generic select field',\n",
       "  'status': 'NEW',\n",
       "  'id': 287337},\n",
       " {'summary': 'Allow setting up default for event status on new items',\n",
       "  'status': 'NEW',\n",
       "  'id': 288157},\n",
       " {'summary': 'Make all code that is aware of the list of fields use fielddefs',\n",
       "  'status': 'NEW',\n",
       "  'id': 288174},\n",
       " {'summary': 'Use Bugzilla::Bug (or BugList) everywhere instead of subroutines or direct SQL',\n",
       "  'status': 'NEW',\n",
       "  'id': 288296},\n",
       " {'summary': 'Improve format of printed messages',\n",
       "  'status': 'NEW',\n",
       "  'id': 288471},\n",
       " {'summary': 'Should implement text-spacing from CSS Text 4',\n",
       "  'status': 'NEW',\n",
       "  'id': 289130},\n",
       " {'summary': 'Tasks should have a \"quick edit mode\": click and type to create new tasks in the task list, in-place editing of task titles',\n",
       "  'status': 'NEW',\n",
       "  'id': 290814},\n",
       " {'summary': \"If using background-image in an element, we should reverse the result of reverse selection algorithm when the element's foreground color and background color is similar\",\n",
       "  'status': 'ASSIGNED',\n",
       "  'id': 292191},\n",
       " {'summary': 'Support link fingerprints for downloads (file checksum/hash in href attribute)',\n",
       "  'status': 'NEW',\n",
       "  'id': 292481},\n",
       " {'summary': 'sorted timezonepicker', 'status': 'NEW', 'id': 296007},\n",
       " {'summary': 'Mozilla should follow shared mime freedesktop specs (determining MIME type of a file and the default app for it)',\n",
       "  'status': 'NEW',\n",
       "  'id': 296443},\n",
       " {'summary': 'Richer focus model like IE', 'status': 'NEW', 'id': 296471},\n",
       " {'summary': 'Print compose window as formatted message - currently prints plain, unformatted text, no addresses or headers, no attachment informations, \"about:blank\" title',\n",
       "  'status': 'NEW',\n",
       "  'id': 297702},\n",
       " {'summary': 'Cannot remove Local Folders account using Account Manager/Settings (having either IMAP or POP account)',\n",
       "  'status': 'NEW',\n",
       "  'id': 297793},\n",
       " {'summary': 'Enable Boolean expressions in Filter UI (nested/grouped/mixed/combined/complex filters having AND and OR conditions)',\n",
       "  'status': 'NEW',\n",
       "  'id': 297852},\n",
       " {'summary': 'Address book quick search should search in whole/entire address card / all contact fields',\n",
       "  'status': 'NEW',\n",
       "  'id': 298438},\n",
       " {'summary': \"Bookmark toolbar folder doesn't open when a url is dragged and dropped\",\n",
       "  'status': 'NEW',\n",
       "  'id': 299185},\n",
       " {'summary': 'Refactor Bugzilla::Bugmail into real objects',\n",
       "  'status': 'NEW',\n",
       "  'id': 301447},\n",
       " {'summary': \"[meta] Gecko doesn't support Cmd-Ctrl-D lookup in Mac OS X Dictionary.app\",\n",
       "  'status': 'NEW',\n",
       "  'id': 301451},\n",
       " {'summary': 'After changing the username of an account, the password-manager still shows the old name (Change design to use new one, please)',\n",
       "  'status': 'REOPENED',\n",
       "  'id': 302388},\n",
       " {'summary': 'Safe Mode: Starting in Safe Mode should invoke some kind auto diagnostics',\n",
       "  'status': 'NEW',\n",
       "  'id': 303282},\n",
       " {'summary': 'Params should be objects', 'status': 'NEW', 'id': 303662},\n",
       " {'summary': \"autodetect remote calendar type so user doesn't need to pick (with DNS or .well-known)\",\n",
       "  'status': 'NEW',\n",
       "  'id': 306495},\n",
       " {'summary': 'Feature request: Fast switching of newsgroup filters/views',\n",
       "  'status': 'UNCONFIRMED',\n",
       "  'id': 306778},\n",
       " {'summary': \"Support the 'baseline-shift' property in SVG\",\n",
       "  'status': 'NEW',\n",
       "  'id': 308338},\n",
       " {'summary': '\"Send To\" unavailable when Thunderbird is the default Mail client on OS X',\n",
       "  'status': 'NEW',\n",
       "  'id': 309708},\n",
       " {'summary': 'Share spelling dictionaries with OpenOffice and other apps',\n",
       "  'status': 'NEW',\n",
       "  'id': 310285},\n",
       " {'summary': 'Need default options for new events [preference options section for event/task item dialog]',\n",
       "  'status': 'NEW',\n",
       "  'id': 312073},\n",
       " {'summary': 'feature request: per-account offline status',\n",
       "  'status': 'NEW',\n",
       "  'id': 312619},\n",
       " {'summary': 'Tracking IRCX extensions', 'status': 'NEW', 'id': 314469},\n",
       " {'summary': 'outline should follow shape of border-radius (remove -moz-outline-radius)',\n",
       "  'status': 'NEW',\n",
       "  'id': 315209},\n",
       " {'summary': 'GetBugLink-generated bug links should show the padlock, too',\n",
       "  'status': 'ASSIGNED',\n",
       "  'id': 318265},\n",
       " {'summary': 'Need text highlight feature to apply background color to selected text (inline css <span style=\"background-color:xxx\">) / Page background color picker is misplaced',\n",
       "  'status': 'NEW',\n",
       "  'id': 318600},\n",
       " {'summary': 'Impersonated (sudo) updates should be logged',\n",
       "  'status': 'NEW',\n",
       "  'id': 320177},\n",
       " {'summary': 'BiDi: request for a \"BiDi balancing function\" to avoid BiDi overlapping between objects',\n",
       "  'status': 'NEW',\n",
       "  'id': 320273},\n",
       " {'summary': 'Mixed secure / nonsecure content warning does not allow to block insecure content',\n",
       "  'status': 'NEW',\n",
       "  'id': 321022},\n",
       " {'summary': 'Junk/Not junk icon/indication',\n",
       "  'status': 'UNCONFIRMED',\n",
       "  'id': 321655},\n",
       " {'summary': 'detach deletion confirmation should precede saving action',\n",
       "  'status': 'NEW',\n",
       "  'id': 324534},\n",
       " {'summary': '[TB] Make From/To name+email address in mail header pane selectable in order to allow copying [sender, recipients, Ctrl+C]',\n",
       "  'status': 'NEW',\n",
       "  'id': 327621},\n",
       " {'summary': 'User account log should display disabled account events',\n",
       "  'status': 'ASSIGNED',\n",
       "  'id': 328904},\n",
       " {'summary': 'Improve CSS rules for printing', 'status': 'NEW', 'id': 330600},\n",
       " {'summary': 'make it possible to rename search engine (support search plugin renaming)',\n",
       "  'status': 'NEW',\n",
       "  'id': 335102},\n",
       " {'summary': 'Support attaching image screenshot/files/anything from clipboard (copying, cutting, pasting, Ctrl+C, Ctrl+X, Ctrl+V to add as attachment)',\n",
       "  'status': 'NEW',\n",
       "  'id': 335783},\n",
       " {'summary': 'Give Breakpad users immediate feedback based on signature or stack trace',\n",
       "  'status': 'NEW',\n",
       "  'id': 336872},\n",
       " {'summary': 'After changing Local Directory field for account, provide option to move/copy existing mail to new directory',\n",
       "  'status': 'NEW',\n",
       "  'id': 339564},\n",
       " {'summary': 'Incremental layout should not happen in background tabs',\n",
       "  'status': 'NEW',\n",
       "  'id': 341046},\n",
       " {'summary': 'mail account auto-configuration via DNS SRV (possibly with DNSSEC) rfc6186',\n",
       "  'status': 'NEW',\n",
       "  'id': 342242},\n",
       " {'summary': 'should be able to migrate data from firefox profiles into seamonkey',\n",
       "  'status': 'NEW',\n",
       "  'id': 342659},\n",
       " {'summary': '[meta] Tracking: Add full-text indexing to bookmark and/or history searches',\n",
       "  'status': 'NEW',\n",
       "  'id': 342913},\n",
       " {'summary': 'Merge nsIAccessible::GetExtState() into GetState() by using |long long| type',\n",
       "  'status': 'REOPENED',\n",
       "  'id': 344674},\n",
       " {'summary': \"Session restore shouldn't throw away form data even if there's no form on the page to restore the data into\",\n",
       "  'status': 'NEW',\n",
       "  'id': 345135},\n",
       " {'summary': '[UX][mac] Implement print preview feature for firefox (similar to IE feature)',\n",
       "  'status': 'NEW',\n",
       "  'id': 347417},\n",
       " {'summary': 'Add Safe Mode option to Session Restore dialogue',\n",
       "  'status': 'NEW',\n",
       "  'id': 347680},\n",
       " {'summary': 'Turn on Bidi UI based on nsBidiKeyboard::mHaveBidiKeyboards',\n",
       "  'status': 'NEW',\n",
       "  'id': 348728},\n",
       " {'summary': 'Junk Mail Controls clumsily split between Preferences and Account Settings',\n",
       "  'status': 'NEW',\n",
       "  'id': 352428},\n",
       " {'summary': \"can't overwrite default/shipped search plugins/engines\",\n",
       "  'status': 'NEW',\n",
       "  'id': 353056},\n",
       " {'summary': 'Mitigate CSRF attacks against internal networks (block rfc 1918 local addresses from non-local addresses)',\n",
       "  'status': 'REOPENED',\n",
       "  'id': 354493},\n",
       " {'summary': 'Most Bugzilla/*.pm modules should use Bugzilla::Object',\n",
       "  'status': 'NEW',\n",
       "  'id': 355838},\n",
       " {'summary': 'Implement TLS Server Name Indication for servers',\n",
       "  'status': 'NEW',\n",
       "  'id': 360421},\n",
       " {'summary': 'Package softoken separately from rest of NSS',\n",
       "  'status': 'NEW',\n",
       "  'id': 360426},\n",
       " {'summary': 'Email an alarm message', 'status': 'NEW', 'id': 360799},\n",
       " {'summary': 'Support large files (>= 2GB) on all platforms with large file support',\n",
       "  'status': 'NEW',\n",
       "  'id': 362244},\n",
       " {'summary': 'vfyserv needs option to save server certs to local files',\n",
       "  'status': 'REOPENED',\n",
       "  'id': 363477},\n",
       " {'summary': 'smart subjects in the thread pane (like zimbra,gmail)',\n",
       "  'status': 'NEW',\n",
       "  'id': 364090},\n",
       " {'summary': 'AB should \"enable\" the <category> item at UI-level for display and searching',\n",
       "  'status': 'NEW',\n",
       "  'id': 364152},\n",
       " {'summary': '\"Field Values\" should have its own permission',\n",
       "  'status': 'NEW',\n",
       "  'id': 365767},\n",
       " {'summary': 'changing user password should be logged in account activity',\n",
       "  'status': 'NEW',\n",
       "  'id': 366178},\n",
       " {'summary': 'Separate logic and presentation in templates',\n",
       "  'status': 'NEW',\n",
       "  'id': 367784},\n",
       " {'summary': \"don't autosave a draft while I am typing\",\n",
       "  'status': 'NEW',\n",
       "  'id': 368778},\n",
       " {'summary': 'No AppleScript way to get browser window tab URLs, titles',\n",
       "  'status': 'NEW',\n",
       "  'id': 369901},\n",
       " {'summary': 'Include \"Organization\" in address book quick search',\n",
       "  'status': 'NEW',\n",
       "  'id': 369983},\n",
       " {'summary': 'Implement the `:nth-col()` and `:nth-last-col()` pseudo class for table cells',\n",
       "  'status': 'NEW',\n",
       "  'id': 371323},\n",
       " {'summary': 'Bugzilla needs a better way to manage extensions',\n",
       "  'status': 'NEW',\n",
       "  'id': 371333},\n",
       " {'summary': \"drive-by pharming: changing settings on home router without the user's knowledge\",\n",
       "  'status': 'NEW',\n",
       "  'id': 371598},\n",
       " {'summary': 'Field-level security', 'status': 'NEW', 'id': 372017},\n",
       " {'summary': 'Need ability to restrict auto-completion to certain address book(s) for an account',\n",
       "  'status': 'NEW',\n",
       "  'id': 372443},\n",
       " {'summary': '[meta] Improve password security by generating and managing strong passwords',\n",
       "  'status': 'NEW',\n",
       "  'id': 376674},\n",
       " {'summary': \"implement Opera's behavior for selecting text inside of a link and link drag and drop\",\n",
       "  'status': 'ASSIGNED',\n",
       "  'id': 378775},\n",
       " {'summary': 'Make providers easily pluggable', 'status': 'NEW', 'id': 378872},\n",
       " {'summary': 'Bugs found by Paul\\'s \"Canvas API Fuzzer\"',\n",
       "  'status': 'NEW',\n",
       "  'id': 379903},\n",
       " {'summary': '[meta] Reduce code duplication in js xpcom by using the import module (XPCOMUtils.jsm)',\n",
       "  'status': 'NEW',\n",
       "  'id': 381190},\n",
       " {'summary': 'remove mork usage from address book',\n",
       "  'status': 'NEW',\n",
       "  'id': 382876},\n",
       " {'summary': 'Allow ordering of entries in Multiple Identities Support',\n",
       "  'status': 'NEW',\n",
       "  'id': 384303},\n",
       " {'summary': 'Ability to get information about Components in the WebService',\n",
       "  'status': 'NEW',\n",
       "  'id': 385282},\n",
       " {'summary': 'ability to remove address from autocompletion, like Outlook autocomplete deletion procedure',\n",
       "  'status': 'NEW',\n",
       "  'id': 387869},\n",
       " {'summary': 'Need portable method to ask if local system supports IPv6',\n",
       "  'status': 'NEW',\n",
       "  'id': 388519},\n",
       " {'summary': 'Feature (with patch): Dock Menu to feature New Browser Window, Open Mail Window.',\n",
       "  'status': 'NEW',\n",
       "  'id': 389614},\n",
       " {'summary': 'Enhancement: Bug List: linkify most fields to be drillable to more refined Bug List searches',\n",
       "  'status': 'NEW',\n",
       "  'id': 390831},\n",
       " {'summary': 'Add ability to write to Mac OS X system Address Book',\n",
       "  'status': 'NEW',\n",
       "  'id': 391057},\n",
       " {'summary': 'Custom Fields should allow dropdown user-select option for a defined group',\n",
       "  'status': 'NEW',\n",
       "  'id': 393450},\n",
       " {'summary': 'provide Ctrl+Shift+F to do \"search messages\" from compose window',\n",
       "  'status': 'REOPENED',\n",
       "  'id': 395596},\n",
       " {'summary': 'Add statically-updated, per-tab CPU and RAM monitor',\n",
       "  'status': 'NEW',\n",
       "  'id': 400120},\n",
       " {'summary': 'Add UI for editable LDAP directories preferences',\n",
       "  'status': 'NEW',\n",
       "  'id': 401404},\n",
       " {'summary': 'wanted:  richlisttree', 'status': 'NEW', 'id': 405913},\n",
       " {'summary': 'Improve quit handling ctrl+q', 'status': 'NEW', 'id': 406947},\n",
       " {'summary': 'Add a \"Download more dictionaries...\" menu to language dropdown menu of spelling check button',\n",
       "  'status': 'NEW',\n",
       "  'id': 408209},\n",
       " {'summary': 'Unit Tests For Bugzilla', 'status': 'NEW', 'id': 412083},\n",
       " {'summary': 'Localize default English templates with maketext',\n",
       "  'status': 'NEW',\n",
       "  'id': 412161},\n",
       " {'summary': 'Availability to use different column sets for special folders in Library',\n",
       "  'status': 'NEW',\n",
       "  'id': 412175},\n",
       " {'summary': 'Remove canedit now that we have per-product editbugs',\n",
       "  'status': 'NEW',\n",
       "  'id': 414691},\n",
       " {'summary': 'SSL session resumption independent of IP addr/port',\n",
       "  'status': 'NEW',\n",
       "  'id': 415196},\n",
       " {'summary': 'Convert panacea.dat from mork to another database format such as mozStorage(SQLite DB), IndexedDB(constructed on mozStorage in Mozilla), localStorage(DOMStorage, constructed on mozStorage in Mozilla)',\n",
       "  'status': 'NEW',\n",
       "  'id': 418551},\n",
       " {'summary': '\"ssh-agent\" lingers after close of msys window',\n",
       "  'status': 'NEW',\n",
       "  'id': 418655},\n",
       " {'summary': 'Remove RDF use from Thunderbird', 'status': 'NEW', 'id': 420506},\n",
       " {'summary': 'Redirection warning should provide ability to permanently allow redirects for a given website',\n",
       "  'status': 'NEW',\n",
       "  'id': 423749},\n",
       " {'summary': 'consider automatically creating a virtual folder the first time the user stars/tags a message',\n",
       "  'status': 'NEW',\n",
       "  'id': 425359},\n",
       " {'summary': 'Use consistent appearance for selected richlistitems',\n",
       "  'status': 'NEW',\n",
       "  'id': 426727},\n",
       " {'summary': 'Email print out should show email account information',\n",
       "  'status': 'NEW',\n",
       "  'id': 427474},\n",
       " {'summary': 'Port |Bug 350543 – Add a menu item for Copy/Move to Folder Again| to SeaMonkey',\n",
       "  'status': 'ASSIGNED',\n",
       "  'id': 427972},\n",
       " {'summary': \"Synced tabs, bookmarks, and history entries don't have a favicon until the user re-visits that page again\",\n",
       "  'status': 'NEW',\n",
       "  'id': 428378},\n",
       " {'summary': 'Port |Bug 367533 – Dictionary Options tab has issues when there is no dictionary| to SeaMonkey',\n",
       "  'status': 'NEW',\n",
       "  'id': 428401},\n",
       " {'summary': 'Display Requesting Domain or Account in Master Password Popup',\n",
       "  'status': 'NEW',\n",
       "  'id': 432020},\n",
       " {'summary': 'Implement separate makefile targets for nss-softoken and nss-util',\n",
       "  'status': 'NEW',\n",
       "  'id': 433062},\n",
       " {'summary': \"Add a CSS property for web authors to override intrinsic widths (and/or request that minimum width isn't passed through scrollframes)\",\n",
       "  'status': 'NEW',\n",
       "  'id': 433621},\n",
       " {'summary': '[meta] Implement CSS Values 3 extensions to attr()',\n",
       "  'status': 'NEW',\n",
       "  'id': 435426},\n",
       " {'summary': 'Persist view contents between joins and sessions',\n",
       "  'status': 'NEW',\n",
       "  'id': 435761},\n",
       " {'summary': \"Clean up nsIMsgIncomingServer's attribute list\",\n",
       "  'status': 'NEW',\n",
       "  'id': 435775},\n",
       " {'summary': \"Option to fetch only the most recent 'n' messages from the POP server\",\n",
       "  'status': 'NEW',\n",
       "  'id': 436723},\n",
       " {'summary': 'Selection choices for SSL client certificate in account/identity configuration  (or Option to automatically \"Do not send any certificate\"?)',\n",
       "  'status': 'NEW',\n",
       "  'id': 437683},\n",
       " {'summary': '[Bug 440377] Redesign recipients address fields (To, Cc, Bcc) as single-line input fields for multiple comma separated addresses - not one line/row per address',\n",
       "  'status': 'NEW',\n",
       "  'id': 440377},\n",
       " {'summary': 'SessionStore does not always save hideable window features',\n",
       "  'status': 'NEW',\n",
       "  'id': 441901},\n",
       " {'summary': '[RFE] HTML header/footer printing on mail as a advanced option',\n",
       "  'status': 'NEW',\n",
       "  'id': 441957},\n",
       " {'summary': 'Provide a way to work with MS-COM objects in chrome JavaScript, on Windows',\n",
       "  'status': 'UNCONFIRMED',\n",
       "  'id': 444134},\n",
       " {'summary': 'Sync search plugins', 'status': 'NEW', 'id': 444284},\n",
       " {'summary': 'No tooltip for folders on bookmark toolbar',\n",
       "  'status': 'NEW',\n",
       "  'id': 445000},\n",
       " {'summary': 'Please expose Thunderbird header field names as object attributes',\n",
       "  'status': 'NEW',\n",
       "  'id': 445062},\n",
       " {'summary': 'startup performance tracking bug [meta]',\n",
       "  'status': 'NEW',\n",
       "  'id': 447581},\n",
       " {'summary': 'Preferences UI clean up, Wiki for mockups',\n",
       "  'status': 'NEW',\n",
       "  'id': 448716},\n",
       " {'summary': 'op_sys and platform should be custom fields with an extension for auto-selecting',\n",
       "  'status': 'NEW',\n",
       "  'id': 449161},\n",
       " {'summary': 'Only play sound from current tab/window for video/audio elements',\n",
       "  'status': 'NEW',\n",
       "  'id': 449336},\n",
       " {'summary': 'Write front-end code to use backend Drag & Drop tabs between browser windows functionality.',\n",
       "  'status': 'NEW',\n",
       "  'id': 449728},\n",
       " {'summary': 'Make \"do this automatically for files like this from now on\" work even with \"content-disposition: attachment\"',\n",
       "  'status': 'NEW',\n",
       "  'id': 453455},\n",
       " {'summary': 'Enable full color_management by default (i.e. set gfx.color_management.mode = 1)',\n",
       "  'status': 'NEW',\n",
       "  'id': 455077},\n",
       " {'summary': 'No new mail notification (biff) on browser startup without saved passwords',\n",
       "  'status': 'NEW',\n",
       "  'id': 455252},\n",
       " {'summary': 'The view source window should have a toolbar with toggle-line-wrap and goto-line buttons.',\n",
       "  'status': 'NEW',\n",
       "  'id': 455948},\n",
       " {'summary': 'Implement an anniversary field in the address book.',\n",
       "  'status': 'ASSIGNED',\n",
       "  'id': 456025},\n",
       " {'summary': 'Inline contact editor (and Edit Contact properties dialogue) should support freeform contact tags (single-row simple text input field)',\n",
       "  'status': 'NEW',\n",
       "  'id': 457736},\n",
       " {'summary': 'Add FK constraints to the bugs table',\n",
       "  'status': 'NEW',\n",
       "  'id': 462066},\n",
       " {'summary': 'Cannot access MIME-type and file associations in new Helper Applications pane',\n",
       "  'status': 'NEW',\n",
       "  'id': 462629},\n",
       " {'summary': 'Thunderbird should support multi-touch gestures on OS X',\n",
       "  'status': 'NEW',\n",
       "  'id': 465257},\n",
       " {'summary': 'annotate junked messages with info from what folder a junk mail came from',\n",
       "  'status': 'NEW',\n",
       "  'id': 465794},\n",
       " {'summary': 'explore message header tweaks and variants for tb3 [and polish]',\n",
       "  'status': 'NEW',\n",
       "  'id': 466025},\n",
       " {'summary': '[META] Implement Firefox TabBrowser API in Seamonkey',\n",
       "  'status': 'NEW',\n",
       "  'id': 467867},\n",
       " {'summary': 'xpcshell-tests: Port SimpleTest check API',\n",
       "  'status': 'NEW',\n",
       "  'id': 468196},\n",
       " {'summary': 'Display user photo in Thunderbird alerts',\n",
       "  'status': 'NEW',\n",
       "  'id': 469519},\n",
       " {'summary': 'RFE: On-demand Auto-Sync', 'status': 'ASSIGNED', 'id': 470624},\n",
       " {'summary': 'Message Reader: Make contacts actionable (Advanced points, double-click, customize, UI, options, vision)',\n",
       "  'status': 'UNCONFIRMED',\n",
       "  'id': 470676},\n",
       " {'summary': 'Complete the implementation of active DIStrust in NSS',\n",
       "  'status': 'NEW',\n",
       "  'id': 470994},\n",
       " {'summary': 'Implement virtual folder view for tags (tag browser, dynamic tag folders, tags view, add extra folder for easy tag search...)',\n",
       "  'status': 'NEW',\n",
       "  'id': 472518},\n",
       " {'summary': 'Thunderbird is not Time Machine friendly',\n",
       "  'status': 'NEW',\n",
       "  'id': 476239},\n",
       " {'summary': 'interactive status bar', 'status': 'NEW', 'id': 476487},\n",
       " {'summary': 'Implement memory reporter for Gloda',\n",
       "  'status': 'NEW',\n",
       "  'id': 480841},\n",
       " {'summary': '[Tracking Bug] Provide unofficial/contributed 64-bit Windows distribution',\n",
       "  'status': 'NEW',\n",
       "  'id': 482143},\n",
       " {'summary': 'Static analysis to check safety of nsCOMPtr::swap',\n",
       "  'status': 'NEW',\n",
       "  'id': 482373},\n",
       " {'summary': 'performance/data-safety tradeoffs need improvement [battery]',\n",
       "  'status': 'NEW',\n",
       "  'id': 484119},\n",
       " {'summary': 'Implement frontend: \"Adaptive content filter\" of third party tracking',\n",
       "  'status': 'NEW',\n",
       "  'id': 485488},\n",
       " {'summary': 'Will probably soon want a barrier synchronization primitive',\n",
       "  'status': 'NEW',\n",
       "  'id': 486442},\n",
       " {'summary': '[jsd] Implement edit and continue for javascript Functions',\n",
       "  'status': 'NEW',\n",
       "  'id': 486546},\n",
       " {'summary': '[MS-SQL] Support MS SQL Server: Bugzilla::DB::Mssql',\n",
       "  'status': 'ASSIGNED',\n",
       "  'id': 487437},\n",
       " {'summary': 'put signature editing in UI (add full HTML editor)',\n",
       "  'status': 'NEW',\n",
       "  'id': 488469},\n",
       " {'summary': 'new look & feel for account central',\n",
       "  'status': 'ASSIGNED',\n",
       "  'id': 489999},\n",
       " {'summary': 'xpcshell-tests: replace head files by setup functions & imports?',\n",
       "  'status': 'UNCONFIRMED',\n",
       "  'id': 490147},\n",
       " {'summary': 'Build CPP_UNIT_TESTS into <_tests/check> directory',\n",
       "  'status': 'NEW',\n",
       "  'id': 490223},\n",
       " {'summary': 'Input (type=\"button\") and buttons with a background image should have a context menu',\n",
       "  'status': 'NEW',\n",
       "  'id': 490374},\n",
       " {'summary': 'Combine QuickSearch and Full-text Search',\n",
       "  'status': 'NEW',\n",
       "  'id': 490549},\n",
       " {'summary': 'better, easier logging/diagnostics for Thunderbird [meta]',\n",
       "  'status': 'NEW',\n",
       "  'id': 492620},\n",
       " {'summary': 'Activity manager should coalesce events somehow',\n",
       "  'status': 'NEW',\n",
       "  'id': 493397},\n",
       " {'summary': 'Implement Content Security Policy',\n",
       "  'status': 'NEW',\n",
       "  'id': 493857},\n",
       " {'summary': 'Provide fullscreen (content only) viewing option',\n",
       "  'status': 'NEW',\n",
       "  'id': 499516},\n",
       " {'summary': 'Implement a thread-safe lock-free queue',\n",
       "  'status': 'ASSIGNED',\n",
       "  'id': 500308},\n",
       " {'summary': 'Warn on passing large objects by value',\n",
       "  'status': 'NEW',\n",
       "  'id': 500864},\n",
       " {'summary': 'thread-safe lock-free sorted list',\n",
       "  'status': 'ASSIGNED',\n",
       "  'id': 502692},\n",
       " {'summary': 'Consider using a thread-safe lockless queue to implement nsEventQueue',\n",
       "  'status': 'NEW',\n",
       "  'id': 504005},\n",
       " {'summary': 'Display the status, resolution and bug summary of external bugs in the \"see also\" field',\n",
       "  'status': 'NEW',\n",
       "  'id': 504164},\n",
       " {'summary': '[Session Restore] Write sessionstore.js less often when on battery',\n",
       "  'status': 'NEW',\n",
       "  'id': 506975},\n",
       " {'summary': 'Port Bug 422814 - Make account configuration quick, easy, and more secure (autoconfig, Quick Account Setup)',\n",
       "  'status': 'NEW',\n",
       "  'id': 507841},\n",
       " {'summary': 'Port Bug 257942 - Activity Manager',\n",
       "  'status': 'NEW',\n",
       "  'id': 507843},\n",
       " {'summary': 'Create objects for whining queries',\n",
       "  'status': 'NEW',\n",
       "  'id': 509959},\n",
       " {'summary': 'While waiting for page to load, use cached information to request scripts and stylesheets',\n",
       "  'status': 'NEW',\n",
       "  'id': 510122},\n",
       " {'summary': 'No Display of the current Zoom Level of a Message-Window in the Statusbar of that window',\n",
       "  'status': 'NEW',\n",
       "  'id': 512956},\n",
       " {'summary': 'Allow using different signatures for Compose, Reply, Forward',\n",
       "  'status': 'NEW',\n",
       "  'id': 513650},\n",
       " {'summary': 'Per-file HFS+ compression on Mac OSX 10.6',\n",
       "  'status': 'NEW',\n",
       "  'id': 514083},\n",
       " {'summary': 'Implement Firefox own Task Manager (with live updating of per-tab CPU and memory usage)',\n",
       "  'status': 'NEW',\n",
       "  'id': 515352},\n",
       " {'summary': 'XPC.mfasl needs an XDR string table',\n",
       "  'status': 'REOPENED',\n",
       "  'id': 518230},\n",
       " {'summary': 'Should remove outer single quotes from name part of email addresses when adding them to address book',\n",
       "  'status': 'NEW',\n",
       "  'id': 518847},\n",
       " {'summary': 'Allow crash report skidmarks to be set from jemalloc',\n",
       "  'status': 'NEW',\n",
       "  'id': 521436},\n",
       " {'summary': 'Static analysis: Point out member shadowing',\n",
       "  'status': 'NEW',\n",
       "  'id': 522776},\n",
       " {'summary': 'Use the favicon service for the taskbar preview icon',\n",
       "  'status': 'NEW',\n",
       "  'id': 522855},\n",
       " {'summary': 'Pressing Enter after quicksearch filter terms should do global search (combine the best of quick filters and \"Search all messages\")',\n",
       "  'status': 'NEW',\n",
       "  'id': 526221},\n",
       " {'summary': '[tagging] user should be able to control the order (priority) of tags.',\n",
       "  'status': 'NEW',\n",
       "  'id': 528034},\n",
       " {'summary': 'load certain default prefs if running in KDE',\n",
       "  'status': 'NEW',\n",
       "  'id': 528696},\n",
       " {'summary': 'Make \"Account Settings\" and \"Options\" windows resizable',\n",
       "  'status': 'UNCONFIRMED',\n",
       "  'id': 529245},\n",
       " {'summary': 'Patches for using NSPR as static libraries',\n",
       "  'status': 'ASSIGNED',\n",
       "  'id': 533014},\n",
       " {'summary': 'SeaMonkey Mail: tabs not restored',\n",
       "  'status': 'ASSIGNED',\n",
       "  'id': 533908},\n",
       " {'summary': 'Patches for using NSS as static libraries',\n",
       "  'status': 'NEW',\n",
       "  'id': 534471},\n",
       " {'summary': 'Consider implementing option to persist search phrase when changing address books (e.g. sticky pin iconic button next to search field)',\n",
       "  'status': 'NEW',\n",
       "  'id': 535715},\n",
       " {'summary': 'filters: add \"reply-to\" header to the \"all addresses\" (\"from, to, cc or bcc\") filter search term',\n",
       "  'status': 'NEW',\n",
       "  'id': 535879},\n",
       " {'summary': '[META] get CSS transitions complete enough to ship',\n",
       "  'status': 'ASSIGNED',\n",
       "  'id': 537142},\n",
       " {'summary': 'Implement generic/configurable bug relations',\n",
       "  'status': 'NEW',\n",
       "  'id': 537749},\n",
       " {'summary': '[MathML3] Implement clipboard specification',\n",
       "  'status': 'NEW',\n",
       "  'id': 539506},\n",
       " {'summary': 'Provide a hidden pref for disabling -moz-system-metric(touch-enabled)',\n",
       "  'status': 'NEW',\n",
       "  'id': 541386},\n",
       " {'summary': 'ssltunnel should have more detailed errors',\n",
       "  'status': 'NEW',\n",
       "  'id': 541392},\n",
       " {'summary': 'MSI Installer should have a real UI',\n",
       "  'status': 'NEW',\n",
       "  'id': 543390},\n",
       " {'summary': 'Mail checking status should not be limited to the status bar',\n",
       "  'status': 'NEW',\n",
       "  'id': 545499},\n",
       " {'summary': \"Re-implement single message in a tab so that it doesn't reuse the browser/messagepane element\",\n",
       "  'status': 'NEW',\n",
       "  'id': 545666},\n",
       " {'summary': 'DNS: Need to query arbitrary DNS record types in Mozilla',\n",
       "  'status': 'NEW',\n",
       "  'id': 545866},\n",
       " {'summary': 'Implement cross-fade() from CSS Image Values and Replaced Content Module Level 3',\n",
       "  'status': 'NEW',\n",
       "  'id': 546052},\n",
       " {'summary': 'Add a keyboard shortcut to expand all mail folders',\n",
       "  'status': 'NEW',\n",
       "  'id': 546062},\n",
       " {'summary': 'Full Support for Group Policies in Thunderbird',\n",
       "  'status': 'NEW',\n",
       "  'id': 547546},\n",
       " {'summary': 'Plugins: Make PBrowserStream/PPluginStream stateful, with non-racing destructors',\n",
       "  'status': 'NEW',\n",
       "  'id': 548680},\n",
       " {'summary': 'Support column breaks part of CSS Fragmentation Module Level 3',\n",
       "  'status': 'NEW',\n",
       "  'id': 549114},\n",
       " {'summary': 'Implement option to omit attachment files list when printing (add checkbox option \"Print list of attachments\" to: Page setup > format & options > -options-)',\n",
       "  'status': 'NEW',\n",
       "  'id': 549139},\n",
       " {'summary': 'Explore UI for implementing \"Open in Conversation\" for multiple selected messages',\n",
       "  'status': 'NEW',\n",
       "  'id': 550775},\n",
       " {'summary': 'Remove failure checks of infallible allocations',\n",
       "  'status': 'NEW',\n",
       "  'id': 550991},\n",
       " {'summary': 'Implement web timing specification',\n",
       "  'status': 'NEW',\n",
       "  'id': 554045},\n",
       " {'summary': 'Port |Bug 480350 - show currently loaded URIs in location bar autocomplete results, allow switching to the tab| to SeaMonkey.',\n",
       "  'status': 'NEW',\n",
       "  'id': 555516},\n",
       " {'summary': 'support building nss with gcc on HP-UX ia64 (IPF, Itanium)',\n",
       "  'status': 'NEW',\n",
       "  'id': 556259},\n",
       " {'summary': 'STL: Tracking reviews of exception safety for gcc/MSVC headers',\n",
       "  'status': 'NEW',\n",
       "  'id': 556699},\n",
       " {'summary': '[MS-SQL][Oracle] Bugzilla::DB::StatementModifier',\n",
       "  'status': 'ASSIGNED',\n",
       "  'id': 557929},\n",
       " {'summary': 'use HTML5 labels property to compute accessible name and relations for labelable HTML 5 controls',\n",
       "  'status': 'NEW',\n",
       "  'id': 559750},\n",
       " {'summary': 'Not Junk button in the mail viewer may be confusing to some users',\n",
       "  'status': 'NEW',\n",
       "  'id': 562050},\n",
       " {'summary': 'Detailed audit logging for specific user actions within Bugzilla',\n",
       "  'status': 'NEW',\n",
       "  'id': 562505},\n",
       " {'summary': 'Remove nsHTMLContentSink from the tree',\n",
       "  'status': 'NEW',\n",
       "  'id': 563890},\n",
       " {'summary': '[autoconfig] Allow custom fields in config files',\n",
       "  'status': 'NEW',\n",
       "  'id': 564043},\n",
       " {'summary': \"Plugincheck should suggest disabling plugin when current version is vulnerable and no update is available (for everyone or for the user's OS)\",\n",
       "  'status': 'REOPENED',\n",
       "  'id': 565398},\n",
       " {'summary': 'Let _me_ choose whether to open a link in current or new tab (open in same tab despite window.open() / target=_blank)',\n",
       "  'status': 'NEW',\n",
       "  'id': 565621},\n",
       " {'summary': '[meta] Implement the HTML Standard',\n",
       "  'status': 'NEW',\n",
       "  'id': 568516},\n",
       " {'summary': '[meta] ES6 modules', 'status': 'NEW', 'id': 568953},\n",
       " {'summary': 'Make Quickfilter optionally available as simple searchbox widget+stickypin (with filter criteria in persistent popup panel &/or dropdown; toolbar customization)',\n",
       "  'status': 'NEW',\n",
       "  'id': 570815},\n",
       " {'summary': 'Use the diag parameter to forward canvas mochitest exceptions',\n",
       "  'status': 'ASSIGNED',\n",
       "  'id': 572581},\n",
       " {'summary': '[meta] Reduce the amount of data and entropy sent out in HTTP requests',\n",
       "  'status': 'NEW',\n",
       "  'id': 572650},\n",
       " {'summary': 'Page Info > Media should preview object tags',\n",
       "  'status': 'NEW',\n",
       "  'id': 574545},\n",
       " {'summary': 'Default to not allowing onbeforeunload dialogs',\n",
       "  'status': 'NEW',\n",
       "  'id': 578828},\n",
       " {'summary': 'Make tab loading indicator more interesting',\n",
       "  'status': 'NEW',\n",
       "  'id': 581042},\n",
       " {'summary': 'Implement \"about:shortcuts\" showing all shortcuts and allowing the editing of shortcuts',\n",
       "  'status': 'NEW',\n",
       "  'id': 588710},\n",
       " {'summary': 'Add ability to copy URLs of to-be-restored pages in Restore Session',\n",
       "  'status': 'NEW',\n",
       "  'id': 591957},\n",
       " {'summary': 'about:startup page showing historical startup timings',\n",
       "  'status': 'NEW',\n",
       "  'id': 593743},\n",
       " {'summary': '[meta] Make about:support more useful',\n",
       "  'status': 'NEW',\n",
       "  'id': 594464},\n",
       " {'summary': 'Prevent pinned tabs from being overwritten by external urls entered from URL bar (but open the URL in new normal tab)',\n",
       "  'status': 'REOPENED',\n",
       "  'id': 598587},\n",
       " {'summary': 'Implement Content Security Policy (CSP) for Bugzilla',\n",
       "  'status': 'NEW',\n",
       "  'id': 600692},\n",
       " {'summary': 'Quick Filter by Sender should include \"reply-to\" header matches',\n",
       "  'status': 'NEW',\n",
       "  'id': 600928},\n",
       " {'summary': 'remove RFC 2047 encoding support for HTTP header field parameters',\n",
       "  'status': 'REOPENED',\n",
       "  'id': 601933},\n",
       " {'summary': 'Make the \"main\" (first) tab a pinned-like tab.',\n",
       "  'status': 'NEW',\n",
       "  'id': 605652},\n",
       " {'summary': 'Include osxspell with autocorrection and suggestions into Thunderbird',\n",
       "  'status': 'NEW',\n",
       "  'id': 606156},\n",
       " {'summary': 'Mail PDF from OSX', 'status': 'ASSIGNED', 'id': 606919},\n",
       " {'summary': 'Expose exception information parameters',\n",
       "  'status': 'NEW',\n",
       "  'id': 610380},\n",
       " {'summary': \"Animate Thunderbird tabs the same way we do Firefox's.\",\n",
       "  'status': 'REOPENED',\n",
       "  'id': 612577},\n",
       " {'summary': '[meta] Implement column-span (from CSS3 multicolumn)',\n",
       "  'status': 'NEW',\n",
       "  'id': 616436},\n",
       " {'summary': '[META] CSS Grid Layout', 'status': 'NEW', 'id': 616605},\n",
       " {'summary': \"-moz-window-titlebar doesn't set the style of the title\",\n",
       "  'status': 'NEW',\n",
       "  'id': 617893},\n",
       " {'summary': 'Add a close button to the tab overflow menu',\n",
       "  'status': 'REOPENED',\n",
       "  'id': 618791},\n",
       " {'summary': 'Assume infallible NS_NewListControlFrame in nsCSSFrameConstructor::ConstructSelectFrame',\n",
       "  'status': 'ASSIGNED',\n",
       "  'id': 620279},\n",
       " {'summary': 'Ability to enable/disable extensions from the web UI',\n",
       "  'status': 'NEW',\n",
       "  'id': 627697},\n",
       " {'summary': '[meta] Tracking bug for WebVTT implementation',\n",
       "  'status': 'NEW',\n",
       "  'id': 629350},\n",
       " {'summary': 'Investigate a \"full\" fix for bug 355178',\n",
       "  'status': 'NEW',\n",
       "  'id': 632977},\n",
       " {'summary': 'Need testing support for leaks that do not persist through shutdown',\n",
       "  'status': 'NEW',\n",
       "  'id': 633670},\n",
       " {'summary': 'OpenDocument File (ODF) format extensions in compose window should show reminder window to \"not forget to add the attachment\"',\n",
       "  'status': 'NEW',\n",
       "  'id': 633818},\n",
       " {'summary': '[Tracking meta bug] officially support Windows 64-bit builds in Thunderbird',\n",
       "  'status': 'NEW',\n",
       "  'id': 634233},\n",
       " {'summary': '[meta] Firefox Wayland port', 'status': 'NEW', 'id': 635134},\n",
       " {'summary': 'Link target popup should only switch to the right hand side if it was obscuring the find result',\n",
       "  'status': 'NEW',\n",
       "  'id': 638793},\n",
       " {'summary': \"Port |Bug 468808 - Tabs can't be reordered| to SeaMonkey (MailNews)\",\n",
       "  'status': 'NEW',\n",
       "  'id': 639282},\n",
       " {'summary': 'Make Advanced search page compliant with WAI',\n",
       "  'status': 'ASSIGNED',\n",
       "  'id': 640579},\n",
       " {'summary': 'Make the header compliant with WAI',\n",
       "  'status': 'UNCONFIRMED',\n",
       "  'id': 641866},\n",
       " {'summary': 'Make report.cgi page compliant with WAI',\n",
       "  'status': 'UNCONFIRMED',\n",
       "  'id': 641872},\n",
       " {'summary': 'Switch test_txtctrl.xul to use an eventQueue (instead of setTimeout())',\n",
       "  'status': 'NEW',\n",
       "  'id': 642118},\n",
       " {'summary': 'about:support - indicate folders which may be near or exceed OS/Thunderbird limits. Or over N GB in size.',\n",
       "  'status': 'ASSIGNED',\n",
       "  'id': 643796},\n",
       " {'summary': 'Make SVG filters fast', 'status': 'NEW', 'id': 644368},\n",
       " {'summary': 'Memshrink: Investigate sharing font-related caches among Gecko processes',\n",
       "  'status': 'NEW',\n",
       "  'id': 648417},\n",
       " {'summary': 'Make it easier for new contributors to push to tryserver',\n",
       "  'status': 'NEW',\n",
       "  'id': 649501},\n",
       " {'summary': 'Add timing interface for SSL handshake',\n",
       "  'status': 'NEW',\n",
       "  'id': 650279},\n",
       " {'summary': 'Replace Print Progress dialogs with events fired at the tab + doorhangers',\n",
       "  'status': 'NEW',\n",
       "  'id': 650960},\n",
       " {'summary': 'Eliminate nsIDeviceContext', 'status': 'NEW', 'id': 651016},\n",
       " {'summary': '[META] Implement CSS Fonts Module Level 3',\n",
       "  'status': 'NEW',\n",
       "  'id': 651693},\n",
       " {'summary': 'Add \"Disable Cache\" toolbox button',\n",
       "  'status': 'REOPENED',\n",
       "  'id': 651888},\n",
       " {'summary': 'Cannot determine the certificate chain & trusted usages for a resumed SSL session',\n",
       "  'status': 'NEW',\n",
       "  'id': 651996},\n",
       " {'summary': 'Enhance hyphenation', 'status': 'NEW', 'id': 656750},\n",
       " {'summary': '(JSBench) [meta] Source-level JavaScript record and replay',\n",
       "  'status': 'NEW',\n",
       "  'id': 661938},\n",
       " {'summary': '[meta] Download Protection: protect against malware, potentially unwanted software and uncommon downloads',\n",
       "  'status': 'REOPENED',\n",
       "  'id': 662819},\n",
       " {'summary': '[meta] Implement Content Security Policy 1.0 per the W3C standard',\n",
       "  'status': 'NEW',\n",
       "  'id': 663566},\n",
       " {'summary': 'Capability to Select Multiple Domains in Data Manager',\n",
       "  'status': 'NEW',\n",
       "  'id': 664574},\n",
       " {'summary': 'Review and approval work flow', 'status': 'NEW', 'id': 665719},\n",
       " {'summary': 'Data manager should show all information for non-domain (asterisk) category',\n",
       "  'status': 'NEW',\n",
       "  'id': 666098},\n",
       " {'summary': 'Data Manager should pre-fill \"Forget\" checkboxes based on selected domain type',\n",
       "  'status': 'NEW',\n",
       "  'id': 666102},\n",
       " {'summary': 'Implement master list of language subtags (language, script, region, variant, etc.)',\n",
       "  'status': 'NEW',\n",
       "  'id': 666662},\n",
       " {'summary': 'Add an item in preferences window to allow user to decide to prevent autoplay for video/audio content',\n",
       "  'status': 'NEW',\n",
       "  'id': 667357},\n",
       " {'summary': 'create account provides too much information to potential malicious users',\n",
       "  'status': 'REOPENED',\n",
       "  'id': 670887},\n",
       " {'summary': 'HTML5 element and WAI-ARIA landmark roles easily navigable in Firefox',\n",
       "  'status': 'REOPENED',\n",
       "  'id': 670928},\n",
       " {'summary': 'Implement hmac + bcrypt password storage in Bugzilla (change PASSWORD_DIGEST_ALGORITHM)',\n",
       "  'status': 'ASSIGNED',\n",
       "  'id': 672129},\n",
       " {'summary': 'Automatically use static casts for 1-1 interface-concrete pairs',\n",
       "  'status': 'NEW',\n",
       "  'id': 672389},\n",
       " {'summary': 'Use DNSSEC/DANE chain stapled into TLS handshake in certificate chain validation',\n",
       "  'status': 'REOPENED',\n",
       "  'id': 672600},\n",
       " {'summary': 'Support double-tap to zoom in on a section on macOS',\n",
       "  'status': 'NEW',\n",
       "  'id': 674371},\n",
       " {'summary': '[META] Implement CSS Exclusions Module Level 1',\n",
       "  'status': 'UNCONFIRMED',\n",
       "  'id': 674804},\n",
       " {'summary': 'Preliminary implementation of favicon sync',\n",
       "  'status': 'NEW',\n",
       "  'id': 675299},\n",
       " {'summary': 'Add delete button to awesome bar result matches',\n",
       "  'status': 'NEW',\n",
       "  'id': 675818},\n",
       " {'summary': 'Patch to add ability to encrypt and decrypt CMS messages using ECDH',\n",
       "  'status': 'ASSIGNED',\n",
       "  'id': 676118},\n",
       " {'summary': 'Add support for the <menuitem> element to the HTML parser',\n",
       "  'status': 'NEW',\n",
       "  'id': 676236},\n",
       " {'summary': 'Allow multiple custom search criteria to match one flag or one attachment',\n",
       "  'status': 'NEW',\n",
       "  'id': 677757},\n",
       " {'summary': 'Provide mobile client (Thunderbird for Android)',\n",
       "  'status': 'REOPENED',\n",
       "  'id': 680080},\n",
       " {'summary': 'Provide a complete, polished, unencumbered default unofficial branding package',\n",
       "  'status': 'NEW',\n",
       "  'id': 682414},\n",
       " {'summary': '[META][css-multicol] implement CSS Multi-column Layout Module - Compare spec and current support',\n",
       "  'status': 'NEW',\n",
       "  'id': 684062},\n",
       " {'summary': 'Allow restoring tabs/windows one by one to solve various issues (crash, overload, portal login ...)',\n",
       "  'status': 'NEW',\n",
       "  'id': 684548},\n",
       " {'summary': 'add Windows/arm target (NSPR part)',\n",
       "  'status': 'ASSIGNED',\n",
       "  'id': 687033},\n",
       " {'summary': '\"warn me when web sites try to redirect\" option does not work on redirections done via Javascript (e.g. on Google Docs)',\n",
       "  'status': 'NEW',\n",
       "  'id': 687300},\n",
       " {'summary': 'Style Editor, rule and computed views should display CSS documentation when pressing F1',\n",
       "  'status': 'NEW',\n",
       "  'id': 687707},\n",
       " {'summary': 'Tracking IRCv3 extensions (e.g. as used on freenode)',\n",
       "  'status': 'NEW',\n",
       "  'id': 687798},\n",
       " {'summary': 'Implement \"Pinch to zoom\" like Safari  (and not like it used to be in Firefox)',\n",
       "  'status': 'NEW',\n",
       "  'id': 688990},\n",
       " {'summary': '[Tracking Bug] Officially provide 64-bit GNU/Linux binaries',\n",
       "  'status': 'ASSIGNED',\n",
       "  'id': 691752},\n",
       " {'summary': '[META] implement CSS Selectors Level 4 [selectors-4]',\n",
       "  'status': 'NEW',\n",
       "  'id': 693083},\n",
       " {'summary': 'Implement ways of opening links (URLs) from message composition in Browser (Ctrl+Click, \"Open Link in Browser\" context menu)',\n",
       "  'status': 'NEW',\n",
       "  'id': 695142},\n",
       " {'summary': 'Add brand survey to es-es, pt-br + es-ar',\n",
       "  'status': 'NEW',\n",
       "  'id': 698056},\n",
       " {'summary': '[meta] Refactor all actors and fronts to use protocol.js',\n",
       "  'status': 'NEW',\n",
       "  'id': 698841},\n",
       " {'summary': 'Message list: Implement missing (optional) columns for CC and BCC recipients (currently only column for TO recipients exists)',\n",
       "  'status': 'NEW',\n",
       "  'id': 699588},\n",
       " {'summary': '[tracker] Multiple emails in mozillians.org accounts',\n",
       "  'status': 'NEW',\n",
       "  'id': 699952},\n",
       " {'summary': 'Adressbook should support Apples iCloud',\n",
       "  'status': 'UNCONFIRMED',\n",
       "  'id': 700237},\n",
       " {'summary': 'Implement pref (and UI) to allow opening several messages in background tabs: \"[  ] Open message tabs in foreground\"',\n",
       "  'status': 'NEW',\n",
       "  'id': 701500},\n",
       " {'summary': 'Implement image() from CSS Image Values and Replaced Content Module Level 4',\n",
       "  'status': 'NEW',\n",
       "  'id': 703217},\n",
       " {'summary': 'Implement CSS Image Values and Replaced Content Module Level 3',\n",
       "  'status': 'REOPENED',\n",
       "  'id': 703431},\n",
       " {'summary': 'Add a DOM View to the inspector', 'status': 'NEW', 'id': 704094},\n",
       " {'summary': 'Throttle new bug creation, comments, and modifications for some accounts',\n",
       "  'status': 'NEW',\n",
       "  'id': 704753},\n",
       " {'summary': '[SEO] Implement the Schema.org vocabulary',\n",
       "  'status': 'NEW',\n",
       "  'id': 705534},\n",
       " {'summary': '[SEO] Re-implement breadcrumbs',\n",
       "  'status': 'REOPENED',\n",
       "  'id': 705535},\n",
       " {'summary': '[rule view] Show gradient editor tooltip',\n",
       "  'status': 'NEW',\n",
       "  'id': 706102},\n",
       " {'summary': 'Allow the creation of a sighting via the sightings table',\n",
       "  'status': 'ASSIGNED',\n",
       "  'id': 706629},\n",
       " {'summary': 'Composition: Add \"Open all\", \"Remove All\", \"Rename All\" command actions to attachment pane\\'s whitespace context menu',\n",
       "  'status': 'NEW',\n",
       "  'id': 707518},\n",
       " {'summary': '[OS.File] Well-known directories',\n",
       "  'status': 'REOPENED',\n",
       "  'id': 707694},\n",
       " {'summary': 'Inspector should have an angle tooltip for css values as appropriate',\n",
       "  'status': 'NEW',\n",
       "  'id': 711942},\n",
       " {'summary': '[meta] Clang Static Analysis fixes - clang-analyzer/scan-build or clang-tidy',\n",
       "  'status': 'NEW',\n",
       "  'id': 712350},\n",
       " {'summary': 'Adaptive tab activity throttling',\n",
       "  'status': 'NEW',\n",
       "  'id': 712731},\n",
       " {'summary': 'Grow Mozilla initiative branding and logos',\n",
       "  'status': 'ASSIGNED',\n",
       "  'id': 713641},\n",
       " {'summary': 'Use Consolas as the default monospace font on Windows',\n",
       "  'status': 'REOPENED',\n",
       "  'id': 713680},\n",
       " {'summary': 'Add key bindings for CSS value adjustment and conversion in the Style Editor',\n",
       "  'status': 'NEW',\n",
       "  'id': 714180},\n",
       " {'summary': 'Suite should have support for Windows service for silent updates.',\n",
       "  'status': 'NEW',\n",
       "  'id': 715803},\n",
       " {'summary': '[Mozilla Research Website] Copy',\n",
       "  'status': 'ASSIGNED',\n",
       "  'id': 715958},\n",
       " {'summary': 'Use CLDR data to assist l10n of language subtags',\n",
       "  'status': 'NEW',\n",
       "  'id': 716377},\n",
       " {'summary': 'Stop exposing NSS certificate validation APIs from NSS when MOZ_FOLD_LIBS is set',\n",
       "  'status': 'NEW',\n",
       "  'id': 719298},\n",
       " {'summary': '[meta] Add complete WebDriver support',\n",
       "  'status': 'NEW',\n",
       "  'id': 721859},\n",
       " {'summary': 'Add Reference and Waiting tags supporting GTD',\n",
       "  'status': 'NEW',\n",
       "  'id': 721901},\n",
       " {'summary': 'Update file attachments at send-time on drafts/templates (need a way to request \"Don\\'t read attachment file until when actually sending mail message\")',\n",
       "  'status': 'NEW',\n",
       "  'id': 722929},\n",
       " {'summary': 'Room History: SFO-750 7B (Bimbo 365 / The Warfield)',\n",
       "  'status': 'NEW',\n",
       "  'id': 724018},\n",
       " {'summary': 'Room History: SFO-704 7N (Noise Pop)',\n",
       "  'status': 'NEW',\n",
       "  'id': 724020},\n",
       " {'summary': 'Room History: SFO-705 Boardroom', 'status': 'NEW', 'id': 724022},\n",
       " {'summary': \"Room History: SFO-7xx Yoshi's\", 'status': 'NEW', 'id': 724024},\n",
       " {'summary': 'Room History: TOR Commons', 'status': 'NEW', 'id': 724026},\n",
       " {'summary': 'Room History: TOR-5E (Finch)', 'status': 'NEW', 'id': 724028},\n",
       " {'summary': 'Room History: TOR-5N (Spadina)', 'status': 'NEW', 'id': 724029},\n",
       " {'summary': 'Room History: TOR-5O (High Park)',\n",
       "  'status': 'NEW',\n",
       "  'id': 724032},\n",
       " {'summary': 'consider using Sliding alert for some messages in the Account manager',\n",
       "  'status': 'NEW',\n",
       "  'id': 725615},\n",
       " {'summary': '[meta] Update XMLHttpRequest to specification',\n",
       "  'status': 'NEW',\n",
       "  'id': 726433},\n",
       " {'summary': 'Implement a quick-filter type bar for Calendar/Task Tab',\n",
       "  'status': 'NEW',\n",
       "  'id': 728011},\n",
       " {'summary': 'Create per-tab volume controls in Firefox',\n",
       "  'status': 'NEW',\n",
       "  'id': 728046},\n",
       " {'summary': '[meta] MWC demo: Web APIs', 'status': 'NEW', 'id': 728254},\n",
       " {'summary': 'consolidate checks of numeric fields in Account manager',\n",
       "  'status': 'ASSIGNED',\n",
       "  'id': 728681},\n",
       " {'summary': 'Implement prerendering in Firefox',\n",
       "  'status': 'NEW',\n",
       "  'id': 730101},\n",
       " {'summary': '[meta] Android/mips support', 'status': 'NEW', 'id': 734309},\n",
       " {'summary': 'Port |Bug 294260 - Safe Mode: Auto detect previous start-up failure and offer to start in safe mode| to SeaMonkey',\n",
       "  'status': 'ASSIGNED',\n",
       "  'id': 734883},\n",
       " {'summary': 'Port |Bug 697006 - Add desktop support for the Open Web Apps API| to SeaMonkey, UI part',\n",
       "  'status': 'NEW',\n",
       "  'id': 735571},\n",
       " {'summary': 'Implement regular/periodic/automatic background migration, replacing the wizard with a simple dialog asking what types of data to import',\n",
       "  'status': 'NEW',\n",
       "  'id': 737804},\n",
       " {'summary': 'Add support for script subtags',\n",
       "  'status': 'ASSIGNED',\n",
       "  'id': 739861},\n",
       " {'summary': 'add more attributes to nsIMsgIncomingServer to show capabilities an IM server does not have (like localPath, spamSettings)',\n",
       "  'status': 'NEW',\n",
       "  'id': 739908},\n",
       " {'summary': '[meta] Add Watchpoints in the devtools',\n",
       "  'status': 'REOPENED',\n",
       "  'id': 740548},\n",
       " {'summary': 'Implement the capture attribute of the HTML Media Capture spec.',\n",
       "  'status': 'NEW',\n",
       "  'id': 741393},\n",
       " {'summary': '[META] Implement CSS Values and Units Module Level 3',\n",
       "  'status': 'NEW',\n",
       "  'id': 741643},\n",
       " {'summary': '[NativeUI GA] Facebook contest campaign',\n",
       "  'status': 'NEW',\n",
       "  'id': 742577},\n",
       " {'summary': 'Add Spideroak support for Filelink',\n",
       "  'status': 'NEW',\n",
       "  'id': 744035},\n",
       " {'summary': 'When the folder tree pane shows no folders and accounts, make the account central inform the user what is (could be) the problem.',\n",
       "  'status': 'NEW',\n",
       "  'id': 746095},\n",
       " {'summary': 'Remove all vestiges of cmd_backgroundColor',\n",
       "  'status': 'NEW',\n",
       "  'id': 746165},\n",
       " {'summary': '[meta] Update fullscreen API to match latest draft spec',\n",
       "  'status': 'NEW',\n",
       "  'id': 746437},\n",
       " {'summary': 'Make bound functions inspectable',\n",
       "  'status': 'NEW',\n",
       "  'id': 746626},\n",
       " {'summary': '[meta] Implement the Encoding Standard',\n",
       "  'status': 'NEW',\n",
       "  'id': 746911},\n",
       " {'summary': 'Mozilla Translation Process needs to be revamped',\n",
       "  'status': 'NEW',\n",
       "  'id': 746930},\n",
       " {'summary': 'SecReview: Add support for signing and verifying MAR files in libmar and the mar program',\n",
       "  'status': 'ASSIGNED',\n",
       "  'id': 750462},\n",
       " {'summary': 'Allow for only staff-only information to be added to a Mozillians profile',\n",
       "  'status': 'NEW',\n",
       "  'id': 755340},\n",
       " {'summary': 'try to merge am-offline.js::onCheckItem() with am-prefs.js::onCheckItem() and am-offline.js::disableIfLocked() with smtpEditOverlay.js::disableIfLocked() function in account manager',\n",
       "  'status': 'ASSIGNED',\n",
       "  'id': 755885},\n",
       " {'summary': 'Rename Account manager files', 'status': 'NEW', 'id': 755898},\n",
       " {'summary': '[Firefox Beta] Major Update Prompt 14.0 to 15.0beta',\n",
       "  'status': 'ASSIGNED',\n",
       "  'id': 761066},\n",
       " {'summary': 'Make Hardware and OS fields optional',\n",
       "  'status': 'NEW',\n",
       "  'id': 763409},\n",
       " {'summary': 'SecReview: Firefox Health Report - Security Code Review',\n",
       "  'status': 'NEW',\n",
       "  'id': 764645},\n",
       " {'summary': 'Get rid of mutation events', 'status': 'NEW', 'id': 769207},\n",
       " {'summary': 'Implement CSS3 text module text-underline-position',\n",
       "  'status': 'NEW',\n",
       "  'id': 770780},\n",
       " {'summary': 'Room History: SFO-324 BayBridge', 'status': 'NEW', 'id': 771290},\n",
       " {'summary': 'Room History: SFO-319 Golden Gate Bridge',\n",
       "  'status': 'NEW',\n",
       "  'id': 771295},\n",
       " {'summary': 'Live function editing', 'status': 'NEW', 'id': 771339},\n",
       " {'summary': '[meta] Debugger source mapping', 'status': 'NEW', 'id': 771597},\n",
       " {'summary': 'Interactive settings wizard for mach',\n",
       "  'status': 'NEW',\n",
       "  'id': 774136},\n",
       " {'summary': 'mach command for uploading patch to Bugzilla',\n",
       "  'status': 'NEW',\n",
       "  'id': 774150},\n",
       " {'summary': '[Meta] Unprefix CSS and DOM properties',\n",
       "  'status': 'NEW',\n",
       "  'id': 775235},\n",
       " {'summary': '[META] Implement CSS Fragmentation Module Level 3',\n",
       "  'status': 'NEW',\n",
       "  'id': 775628},\n",
       " {'summary': 'Add special test mode to complete crash processing before shutdown',\n",
       "  'status': 'NEW',\n",
       "  'id': 776558},\n",
       " {'summary': 'Room History: YVR-231 Commons', 'status': 'NEW', 'id': 776997},\n",
       " {'summary': 'Investigate 64-bit optimizations',\n",
       "  'status': 'NEW',\n",
       "  'id': 783578},\n",
       " {'summary': 'Implement feed statistics for Mozilla Hacks',\n",
       "  'status': 'NEW',\n",
       "  'id': 785342},\n",
       " {'summary': 'Consider using EGL instead of GLX with Mesa drivers',\n",
       "  'status': 'NEW',\n",
       "  'id': 788319},\n",
       " {'summary': \"When using touch UI (for example on Win8), zooming shouldn't reflow, but just scale\",\n",
       "  'status': 'NEW',\n",
       "  'id': 789906},\n",
       " {'summary': 'add Media Fragments for images (spatial dimensions)',\n",
       "  'status': 'NEW',\n",
       "  'id': 790640},\n",
       " {'summary': 'Tags cannot be edited in several bugs at once',\n",
       "  'status': 'NEW',\n",
       "  'id': 791584},\n",
       " {'summary': 'Remove unneeded keys from HKCU StartMenuInternet for Windows 8 handling',\n",
       "  'status': 'NEW',\n",
       "  'id': 792662},\n",
       " {'summary': 'Implement page-break-inside:avoid for table cells',\n",
       "  'status': 'NEW',\n",
       "  'id': 793692},\n",
       " {'summary': 'Need a way to fetch file:// and http:// resources from the server',\n",
       "  'status': 'NEW',\n",
       "  'id': 799198},\n",
       " {'summary': 'Break on specific functions', 'status': 'NEW', 'id': 800858},\n",
       " {'summary': \"Remove the 'globalwatchers' parameter\",\n",
       "  'status': 'NEW',\n",
       "  'id': 802085},\n",
       " {'summary': 'Provide a tree visualization of all articles (MDN index)',\n",
       "  'status': 'NEW',\n",
       "  'id': 803185},\n",
       " {'summary': 'Group scripts by globals using hostAnnotations',\n",
       "  'status': 'NEW',\n",
       "  'id': 806775},\n",
       " {'summary': '[meta] Implement the MIME Sniffing Standard',\n",
       "  'status': 'NEW',\n",
       "  'id': 808593},\n",
       " {'summary': '[Social API Campaign] Internal FB badge for Social API',\n",
       "  'status': 'ASSIGNED',\n",
       "  'id': 810351},\n",
       " {'summary': \"Remove workarounds for bug 803255 once it's fixed\",\n",
       "  'status': 'NEW',\n",
       "  'id': 811089},\n",
       " {'summary': 'GLContext should delete its outstanding objects when destroyed',\n",
       "  'status': 'NEW',\n",
       "  'id': 811181},\n",
       " {'summary': \"Twitter updates on Hacks start page hasn't been updated in a month\",\n",
       "  'status': 'REOPENED',\n",
       "  'id': 811473},\n",
       " {'summary': '[meta] Implement Web Components', 'status': 'NEW', 'id': 811542},\n",
       " {'summary': '[Social APICampaign] Copy Cheat Sheet',\n",
       "  'status': 'ASSIGNED',\n",
       "  'id': 811554},\n",
       " {'summary': '[Security Review] Campaign Management for Firefox - Server side',\n",
       "  'status': 'NEW',\n",
       "  'id': 811848},\n",
       " {'summary': 'Developer tools: Security reports',\n",
       "  'status': 'NEW',\n",
       "  'id': 811878},\n",
       " {'summary': '[meta] Implement the DOM Parsing and Serialization Standard',\n",
       "  'status': 'NEW',\n",
       "  'id': 816409},\n",
       " {'summary': \"[meta]Robocop: Add test for 'Clear Private Data'\",\n",
       "  'status': 'NEW',\n",
       "  'id': 820859},\n",
       " {'summary': 'Break on reflow', 'status': 'NEW', 'id': 821829},\n",
       " {'summary': '[meta] Implement pointer events', 'status': 'NEW', 'id': 822898},\n",
       " {'summary': '[meta] Asynchronous JavaScript API for downloads',\n",
       "  'status': 'NEW',\n",
       "  'id': 825588},\n",
       " {'summary': 'Add support for masking to Canvas',\n",
       "  'status': 'NEW',\n",
       "  'id': 829803},\n",
       " {'summary': 'Room History: LON Commons', 'status': 'NEW', 'id': 830955},\n",
       " {'summary': 'Room History: LON-303 (Allo, Allo)',\n",
       "  'status': 'NEW',\n",
       "  'id': 830963},\n",
       " {'summary': 'Room History: LON-344 (Fawlty Towers)',\n",
       "  'status': 'NEW',\n",
       "  'id': 830964},\n",
       " {'summary': 'Conditional pause on exceptions', 'status': 'NEW', 'id': 836298},\n",
       " {'summary': 'Implement ES6 classes', 'status': 'NEW', 'id': 837314},\n",
       " {'summary': '[meta] Implement the HTML5 dialog element',\n",
       "  'status': 'NEW',\n",
       "  'id': 840640},\n",
       " {'summary': '[meta] A new Thunderbird address book',\n",
       "  'status': 'NEW',\n",
       "  'id': 841598},\n",
       " {'summary': 'Display scripts that no longer exist in the debugger when accessed via the console',\n",
       "  'status': 'NEW',\n",
       "  'id': 842937},\n",
       " {'summary': 'Integrate Firefox DevTools into SeaMonkey',\n",
       "  'status': 'NEW',\n",
       "  'id': 842942},\n",
       " {'summary': 'Implement CSS Counter Styles Level 3',\n",
       "  'status': 'NEW',\n",
       "  'id': 843718},\n",
       " {'summary': 'Expire cookies only used as third-party after some time',\n",
       "  'status': 'NEW',\n",
       "  'id': 844623},\n",
       " {'summary': 'Watchpoints for typed arrays', 'status': 'NEW', 'id': 846323},\n",
       " {'summary': 'Implement HTMLMediaElement.getStartDate()',\n",
       "  'status': 'NEW',\n",
       "  'id': 847376},\n",
       " {'summary': '[css3-page] implement @page { size: <length>{1,2} | <page-size> }',\n",
       "  'status': 'NEW',\n",
       "  'id': 851937},\n",
       " {'summary': 'Room History: PAR-123 Commons (Salle Des Fêtes)',\n",
       "  'status': 'NEW',\n",
       "  'id': 852141},\n",
       " {'summary': 'Room History: PAR-024 (Apero)', 'status': 'NEW', 'id': 852615},\n",
       " {'summary': 'Create an easy way to \"Undo\" a Reset',\n",
       "  'status': 'NEW',\n",
       "  'id': 853678},\n",
       " {'summary': '[meta] Implement full keyboard navigation across the Netmonitor UI',\n",
       "  'status': 'NEW',\n",
       "  'id': 859040},\n",
       " {'summary': \"Nuke panel's global when the toolbox closes\",\n",
       "  'status': 'NEW',\n",
       "  'id': 859371},\n",
       " {'summary': '[meta][webvtt] Implement vtt css-extensions (::cue, ::cue-region, :past, :future)',\n",
       "  'status': 'NEW',\n",
       "  'id': 865395},\n",
       " {'summary': 'add API to hibernate and stash tabs & windows',\n",
       "  'status': 'NEW',\n",
       "  'id': 865594},\n",
       " {'summary': 'Bump MySQL minimum requirement to 5.5.8 to support 4-bytes Unicode characters (utf8mb4)',\n",
       "  'status': 'NEW',\n",
       "  'id': 868867},\n",
       " {'summary': 'Move findbar to the top', 'status': 'NEW', 'id': 869543},\n",
       " {'summary': 'Ongoing/active/current downloads should always appear first in the download manager, and finished/completed/done below',\n",
       "  'status': 'NEW',\n",
       "  'id': 870659},\n",
       " {'summary': 'When unused by other products, CleanUpdatesDir should be removed',\n",
       "  'status': 'NEW',\n",
       "  'id': 873043},\n",
       " {'summary': '[CSP] implement unsafe-eval for style-src per CSP 1.1. spec',\n",
       "  'status': 'NEW',\n",
       "  'id': 873302},\n",
       " {'summary': 'Implement fragment overflow feature from the CSS Overflow Module Level 4 spec',\n",
       "  'status': 'NEW',\n",
       "  'id': 874238},\n",
       " {'summary': '[meta] Debugger blackboxing', 'status': 'NEW', 'id': 875034},\n",
       " {'summary': '[meta] Implement Web Animations', 'status': 'NEW', 'id': 875219},\n",
       " {'summary': 'Room History: SFO-152 Commons', 'status': 'NEW', 'id': 875792},\n",
       " {'summary': 'Room History: SFO-132 Americano', 'status': 'NEW', 'id': 875799},\n",
       " {'summary': 'Room History: SFO-232 Ansel Adams',\n",
       "  'status': 'NEW',\n",
       "  'id': 875800},\n",
       " {'summary': 'Room History: SFO-153 Cappuccino',\n",
       "  'status': 'NEW',\n",
       "  'id': 875802},\n",
       " {'summary': 'Room History: SFO-154 Latte', 'status': 'NEW', 'id': 875837},\n",
       " {'summary': 'Room History: SFO-139 Mocha', 'status': 'NEW', 'id': 875838},\n",
       " {'summary': 'Room History: SFO-140 Java', 'status': 'NEW', 'id': 875839},\n",
       " {'summary': 'Room History: SFO-101 Macchiato', 'status': 'NEW', 'id': 875840},\n",
       " {'summary': 'Room History: SFO-104 Espresso', 'status': 'NEW', 'id': 875841},\n",
       " {'summary': 'Room History: SFO-252 Jack London',\n",
       "  'status': 'NEW',\n",
       "  'id': 875842},\n",
       " {'summary': 'Room History: SFO-253 Mel Blanc', 'status': 'NEW', 'id': 875844},\n",
       " {'summary': 'Room History: SFO-233 Alice B. Toklas',\n",
       "  'status': 'NEW',\n",
       "  'id': 875846},\n",
       " {'summary': 'Room History: SFO-236 Harvey Milk',\n",
       "  'status': 'NEW',\n",
       "  'id': 875847},\n",
       " {'summary': 'Room History: SFO-240 Carol Channing',\n",
       "  'status': 'NEW',\n",
       "  'id': 875848},\n",
       " {'summary': 'Room History: SFO-241 Angela Davis',\n",
       "  'status': 'NEW',\n",
       "  'id': 875850},\n",
       " {'summary': 'Room History: SFO-242 Jerry Garcia',\n",
       "  'status': 'NEW',\n",
       "  'id': 875853},\n",
       " {'summary': 'Room History: SFO-243 Mary Ellen Pleasant',\n",
       "  'status': 'NEW',\n",
       "  'id': 875855},\n",
       " {'summary': 'Room History: SFO-244 George Hearst',\n",
       "  'status': 'NEW',\n",
       "  'id': 875856},\n",
       " {'summary': 'Room History: PAR-116 Ouhlala!', 'status': 'NEW', 'id': 875861},\n",
       " {'summary': 'Enable/Disable viewport meta tag',\n",
       "  'status': 'NEW',\n",
       "  'id': 878559},\n",
       " {'summary': 'Option to change viewport meta tag options',\n",
       "  'status': 'NEW',\n",
       "  'id': 878561},\n",
       " {'summary': '[meta] Let the user switch between input devices during a WebRTC call',\n",
       "  'status': 'NEW',\n",
       "  'id': 880312},\n",
       " {'summary': 'support //# sourceURL annotations for css names',\n",
       "  'status': 'NEW',\n",
       "  'id': 880831},\n",
       " {'summary': 'SecReview: webmakerorg', 'status': 'ASSIGNED', 'id': 882531},\n",
       " {'summary': 'Add support for console.timeStamp to netmonitor UI',\n",
       "  'status': 'NEW',\n",
       "  'id': 884125},\n",
       " {'summary': 'Privacy Review for WebRTC (UI) on mobile',\n",
       "  'status': 'NEW',\n",
       "  'id': 887561},\n",
       " {'summary': '[meta] implement all time and date related input types',\n",
       "  'status': 'NEW',\n",
       "  'id': 888320},\n",
       " {'summary': '[UX] Implement a nicer replacement for the Reset Firefox dialog',\n",
       "  'status': 'NEW',\n",
       "  'id': 891095},\n",
       " {'summary': '? should open a pop up summary of available keyboard shortcuts',\n",
       "  'status': 'NEW',\n",
       "  'id': 892188},\n",
       " {'summary': 'Ctrl+F / Cmd+F should do search', 'status': 'NEW', 'id': 892217},\n",
       " {'summary': 'Add SSL failure errors to the Web Console',\n",
       "  'status': 'NEW',\n",
       "  'id': 892273},\n",
       " {'summary': 'Provide localized SeaMonkey Linux x86-64 nightlies',\n",
       "  'status': 'NEW',\n",
       "  'id': 892418},\n",
       " {'summary': 'Room History: SFO-126 A/V Lab', 'status': 'NEW', 'id': 892534},\n",
       " {'summary': 'Make it possible to create/edit sources in the debugger',\n",
       "  'status': 'NEW',\n",
       "  'id': 894997},\n",
       " {'summary': 'Break on DOM events fired in iframes',\n",
       "  'status': 'NEW',\n",
       "  'id': 895446},\n",
       " {'summary': 'Update <menu> to spec', 'status': 'NEW', 'id': 897102},\n",
       " {'summary': 'Add a security console utils class that will be responsible for creating and sending security related messages to the console',\n",
       "  'status': 'NEW',\n",
       "  'id': 897240},\n",
       " {'summary': '[Meta] Minion - Tracker for issues discovered by Minion',\n",
       "  'status': 'NEW',\n",
       "  'id': 897517},\n",
       " {'summary': '[META] ZAP - Tracker for issues discovered by ZAP',\n",
       "  'status': 'NEW',\n",
       "  'id': 897534},\n",
       " {'summary': '[meta] Merge HTMLDocument into Document',\n",
       "  'status': 'NEW',\n",
       "  'id': 897815},\n",
       " {'summary': '[TRACKER] TLS/SSL support for all Mozilla properties, with proper protocol and cipher suite choices',\n",
       "  'status': 'ASSIGNED',\n",
       "  'id': 901393},\n",
       " {'summary': \"Error message for invalid regular expressions in 'pattern' attribute lacks information about where it occurred\",\n",
       "  'status': 'NEW',\n",
       "  'id': 901841},\n",
       " {'summary': 'Intermediary Blocker for Crestron Sidewinder Rooms',\n",
       "  'status': 'NEW',\n",
       "  'id': 902109},\n",
       " {'summary': 'Reimplement contentAreaClick so it can be used in content and chrome',\n",
       "  'status': 'NEW',\n",
       "  'id': 903016},\n",
       " {'summary': '[meta] Implement Service Workers',\n",
       "  'status': 'NEW',\n",
       "  'id': 903441},\n",
       " {'summary': 'Clean up the code for converting to/from value grips',\n",
       "  'status': 'NEW',\n",
       "  'id': 903578},\n",
       " {'summary': 'Room History: PDX-303 Commons (Alameda)',\n",
       "  'status': 'NEW',\n",
       "  'id': 903657},\n",
       " {'summary': 'Room History: PDX-320 Hair of the Dog',\n",
       "  'status': 'NEW',\n",
       "  'id': 903659},\n",
       " {'summary': 'Room History: PDX-333 Widmer', 'status': 'NEW', 'id': 903662},\n",
       " {'summary': 'Room History: PDX-312 Blitz-Weinhard',\n",
       "  'status': 'NEW',\n",
       "  'id': 903664},\n",
       " {'summary': 'Room History: PDX-313 Deschutes', 'status': 'NEW', 'id': 903666},\n",
       " {'summary': 'Room History: PDX-325 Terminal Gravity',\n",
       "  'status': 'NEW',\n",
       "  'id': 903668},\n",
       " {'summary': 'Implement URL parser per URL Standard',\n",
       "  'status': 'NEW',\n",
       "  'id': 906714},\n",
       " {'summary': 'Enhance the xpcshell harness to provide per test resource usage data',\n",
       "  'status': 'ASSIGNED',\n",
       "  'id': 907455},\n",
       " {'summary': 'Need a sec review for the Firefox Account + Sync',\n",
       "  'status': 'NEW',\n",
       "  'id': 909491},\n",
       " {'summary': '[meta] Implement DeviceStorage FileSystem API',\n",
       "  'status': 'NEW',\n",
       "  'id': 910387},\n",
       " {'summary': 'Include function parameter values in stack traces and web console',\n",
       "  'status': 'NEW',\n",
       "  'id': 910619},\n",
       " {'summary': \"Implement Shorlander's visual design for devtools [meta]\",\n",
       "  'status': 'NEW',\n",
       "  'id': 916766},\n",
       " {'summary': 'Highlight event listener targets',\n",
       "  'status': 'NEW',\n",
       "  'id': 918715},\n",
       " {'summary': 'cache results of shader compilation',\n",
       "  'status': 'NEW',\n",
       "  'id': 918941},\n",
       " {'summary': 'API for helping implement HTML editing autocompletion',\n",
       "  'status': 'UNCONFIRMED',\n",
       "  'id': 920404},\n",
       " {'summary': \"In PSM don't provide EV treatment when cert includes wildcards in the alt-dns name and common name fields\",\n",
       "  'status': 'NEW',\n",
       "  'id': 921127},\n",
       " {'summary': 'Convert ForgetAboutSite tests to the JavaScript API for downloads',\n",
       "  'status': 'NEW',\n",
       "  'id': 928972},\n",
       " {'summary': 'Use Downloads.getTemporaryDownloadsDirectory instead of GetDownloadDirectory in nsHelperAppService.cpp',\n",
       "  'status': 'NEW',\n",
       "  'id': 929391},\n",
       " {'summary': 'Make TSan (ThreadSanitizer) usable with Firefox',\n",
       "  'status': 'NEW',\n",
       "  'id': 929478},\n",
       " {'summary': 'generalize range analysis to support float32',\n",
       "  'status': 'NEW',\n",
       "  'id': 930697},\n",
       " {'summary': 'Make error message of JSON.parse() more informative',\n",
       "  'status': 'NEW',\n",
       "  'id': 931475},\n",
       " {'summary': 'Real Time Memory Visualization', 'status': 'NEW', 'id': 933006},\n",
       " {'summary': 'Create a new system group which allows members to disable user accounts',\n",
       "  'status': 'NEW',\n",
       "  'id': 934300},\n",
       " {'summary': 'When saving/exporting messages as .eml files, should use date/time of internal \"Date:\" MIME header for \"Modified\" timestamp property of the file (not the date/time of exporting)',\n",
       "  'status': 'NEW',\n",
       "  'id': 939519},\n",
       " {'summary': 'Browse windows and tabs in AppleScript',\n",
       "  'status': 'UNCONFIRMED',\n",
       "  'id': 939528},\n",
       " {'summary': 'Provide image scaling and respect exif attributes for embedded images (port Thunderbird bug 534083)',\n",
       "  'status': 'NEW',\n",
       "  'id': 939540},\n",
       " {'summary': '[meta] Move Places integration from DownloadIntegration to DownloadHistory.jsm',\n",
       "  'status': 'NEW',\n",
       "  'id': 941009},\n",
       " {'summary': 'CSS properties highlighter', 'status': 'NEW', 'id': 942176},\n",
       " {'summary': 'peerIdentity constraint UX', 'status': 'NEW', 'id': 942372},\n",
       " {'summary': 'Add support for the PreferredSignatureAlgorithms OCSP request extension',\n",
       "  'status': 'NEW',\n",
       "  'id': 943651},\n",
       " {'summary': 'CSS border-radius highlighter', 'status': 'NEW', 'id': 945167},\n",
       " {'summary': 'CSS box-shadow highlighter', 'status': 'NEW', 'id': 946198},\n",
       " {'summary': 'Consider putting the spin buttons for <input type=number> \"outside\" its text box',\n",
       "  'status': 'NEW',\n",
       "  'id': 947340},\n",
       " {'summary': 'Write a mach command to post patches to Review Board and post links to Bugzilla',\n",
       "  'status': 'NEW',\n",
       "  'id': 947604},\n",
       " {'summary': 'Should show code coverage in the editor while executing',\n",
       "  'status': 'NEW',\n",
       "  'id': 949723},\n",
       " {'summary': 'WebGL should support efficiently uploading a subrect of a canvas to a texture',\n",
       "  'status': 'NEW',\n",
       "  'id': 952539},\n",
       " {'summary': 'Add hsl(a) color picker', 'status': 'REOPENED', 'id': 953404},\n",
       " {'summary': 'Support of file transfers', 'status': 'NEW', 'id': 953460},\n",
       " {'summary': 'Remove old messages', 'status': 'NEW', 'id': 953744},\n",
       " {'summary': 'redesign the prplIMessage xpcom interface',\n",
       "  'status': 'NEW',\n",
       "  'id': 954127},\n",
       " {'summary': 'Add support for OTR and encrypted chats.',\n",
       "  'status': 'NEW',\n",
       "  'id': 954310},\n",
       " {'summary': 'Show last messages (history) in new chat windows',\n",
       "  'status': 'NEW',\n",
       "  'id': 954392},\n",
       " {'summary': 'Create an account import wizard - GSoC 2012',\n",
       "  'status': 'ASSIGNED',\n",
       "  'id': 954928},\n",
       " {'summary': 'Indexed logs & efficient search',\n",
       "  'status': 'REOPENED',\n",
       "  'id': 955014},\n",
       " {'summary': 'Support XEP-0077 In-Band Registration',\n",
       "  'status': 'NEW',\n",
       "  'id': 955317},\n",
       " {'summary': '[meta] Editor toolbar cleanup', 'status': 'NEW', 'id': 957653},\n",
       " {'summary': '[META] expand CSP enforcement capabilities to include XUL features like XBL',\n",
       "  'status': 'NEW',\n",
       "  'id': 957980},\n",
       " {'summary': '[meta] Remove inline scripts/styles in DevTools pages',\n",
       "  'status': 'NEW',\n",
       "  'id': 960728},\n",
       " {'summary': 'Apply font feature flac in MathML',\n",
       "  'status': 'NEW',\n",
       "  'id': 963079},\n",
       " {'summary': 'Downloads panel improvements', 'status': 'NEW', 'id': 963745},\n",
       " {'summary': '[meta] Implement CSSOM-View smooth scrolling spec',\n",
       "  'status': 'NEW',\n",
       "  'id': 964097},\n",
       " {'summary': 'enable per-site referrer-sending policies',\n",
       "  'status': 'NEW',\n",
       "  'id': 966505},\n",
       " {'summary': 'Float32: Specialize ToString for floats',\n",
       "  'status': 'ASSIGNED',\n",
       "  'id': 966957},\n",
       " {'summary': '[meta] Implement Content Security Level 2 per the W3C standard',\n",
       "  'status': 'ASSIGNED',\n",
       "  'id': 968586},\n",
       " {'summary': 'HTTP referer: Allow to send target host as referer when crossing domains',\n",
       "  'status': 'NEW',\n",
       "  'id': 970136},\n",
       " {'summary': 'Badge Summit: Open Badges blog post on announcements',\n",
       "  'status': 'NEW',\n",
       "  'id': 970353},\n",
       " {'summary': 'Badge Summit: Open Badges Social Media Support for Badge Summit Announcement and Conference',\n",
       "  'status': 'NEW',\n",
       "  'id': 970354},\n",
       " {'summary': 'Enable styling of input[type=number] pseudo elements (spin buttons) for content',\n",
       "  'status': 'REOPENED',\n",
       "  'id': 978320},\n",
       " {'summary': '[meta] Enable ical.js by default',\n",
       "  'status': 'NEW',\n",
       "  'id': 978570},\n",
       " {'summary': '[meta] Asynchronous call stacks', 'status': 'NEW', 'id': 981514},\n",
       " {'summary': 'Room History: MTV2-224 Torchwood',\n",
       "  'status': 'NEW',\n",
       "  'id': 982254},\n",
       " {'summary': 'Room History: MTV2-223 Dark Skies',\n",
       "  'status': 'NEW',\n",
       "  'id': 982270},\n",
       " {'summary': 'Room History: MTV2-222 Farscape', 'status': 'NEW', 'id': 982344},\n",
       " {'summary': 'Room History: MTV2-221 Doctor Who',\n",
       "  'status': 'NEW',\n",
       "  'id': 982351},\n",
       " {'summary': 'Room History: MTV2-217 Star Trek',\n",
       "  'status': 'NEW',\n",
       "  'id': 982368},\n",
       " {'summary': 'Room History: MTV2-220 Stargate SG-1',\n",
       "  'status': 'NEW',\n",
       "  'id': 982381},\n",
       " {'summary': 'Room History: MTV2-219 Falling Skies',\n",
       "  'status': 'NEW',\n",
       "  'id': 982388},\n",
       " {'summary': 'Room History: MTV2-218 Night Gallery',\n",
       "  'status': 'NEW',\n",
       "  'id': 982406},\n",
       " {'summary': 'Room History: MTV2-245 Earth 2', 'status': 'NEW', 'id': 982706},\n",
       " {'summary': 'Room History: MTV2-247 Taken', 'status': 'NEW', 'id': 982713},\n",
       " {'summary': 'Room History: MTV2-246 Eureka', 'status': 'NEW', 'id': 982719},\n",
       " {'summary': 'Room History: MTV2-234 Heroes', 'status': 'NEW', 'id': 982729},\n",
       " {'summary': 'Room History: MTV2-233 Lost', 'status': 'NEW', 'id': 982737},\n",
       " {'summary': 'Room History: MTV2-235 Terra Nova',\n",
       "  'status': 'NEW',\n",
       "  'id': 982741},\n",
       " {'summary': 'Room History: MTV2-231 Alien Nation',\n",
       "  'status': 'NEW',\n",
       "  'id': 982746},\n",
       " {'summary': 'Room History: MTV2-232 Angel', 'status': 'NEW', 'id': 982747},\n",
       " {'summary': 'Room History: MTV2-266 Endor', 'status': 'NEW', 'id': 982785},\n",
       " {'summary': 'Room History: MTV2-265 Coruscant',\n",
       "  'status': 'NEW',\n",
       "  'id': 982796},\n",
       " {'summary': 'Room History: MTV2-270 B-Wing', 'status': 'NEW', 'id': 982805},\n",
       " {'summary': 'Room History: MTV2-269 A-Wing', 'status': 'NEW', 'id': 982808},\n",
       " {'summary': 'Room History: MTV2-277 Alderaan', 'status': 'NEW', 'id': 982815},\n",
       " {'summary': 'Room History: MTV2-261 Star Destroyer',\n",
       "  'status': 'NEW',\n",
       "  'id': 982838},\n",
       " {'summary': 'Room History: MTV2-262 Millennium Falcon',\n",
       "  'status': 'NEW',\n",
       "  'id': 982881},\n",
       " {'summary': 'Room History: MTV2-256 Mustafar', 'status': 'NEW', 'id': 982903},\n",
       " {'summary': 'Room History: MTV2-257 Kashyyyk', 'status': 'NEW', 'id': 982931},\n",
       " {'summary': 'Room History: MTV2-161 Thor', 'status': 'NEW', 'id': 982976},\n",
       " {'summary': 'Room History: MTV2-160 Iron Man', 'status': 'NEW', 'id': 982982},\n",
       " {'summary': 'Room History: MTV2-155 Hawkman', 'status': 'NEW', 'id': 982989},\n",
       " {'summary': 'Room History: MTV2-152 Hawkgirl', 'status': 'NEW', 'id': 983324},\n",
       " {'summary': 'Room History: MTV2-153 Cyborg', 'status': 'NEW', 'id': 983329},\n",
       " {'summary': 'Room History: MTV2-128 Uranus', 'status': 'NEW', 'id': 983349},\n",
       " {'summary': 'Room History: MTV2-127 Neptune', 'status': 'NEW', 'id': 983351},\n",
       " {'summary': 'Room History: MTV2-125 Jupiter', 'status': 'NEW', 'id': 983352},\n",
       " {'summary': 'Room History: MTV2-124 Saturn', 'status': 'NEW', 'id': 983354},\n",
       " {'summary': 'Room History: MTV2-113 Earth', 'status': 'NEW', 'id': 983355},\n",
       " {'summary': 'Room History: MTV2-105 Sirius', 'status': 'NEW', 'id': 983357},\n",
       " {'summary': 'Room History: MTV2-164 Brainiac', 'status': 'NEW', 'id': 983362},\n",
       " {'summary': 'Room History: MTV2-165 Giganta', 'status': 'NEW', 'id': 983364},\n",
       " {'summary': 'Room History: MTV2-166 The Riddler',\n",
       "  'status': 'NEW',\n",
       "  'id': 983365},\n",
       " {'summary': 'Room History: MTV2-132 The Atom', 'status': 'NEW', 'id': 983367},\n",
       " {'summary': 'Room History: MTV2-148 Wonder Woman',\n",
       "  'status': 'NEW',\n",
       "  'id': 983368},\n",
       " {'summary': 'Room History: MTV2-149 Firestorm',\n",
       "  'status': 'NEW',\n",
       "  'id': 983370},\n",
       " {'summary': 'Room History: MTV2-150 The Flash',\n",
       "  'status': 'NEW',\n",
       "  'id': 983371},\n",
       " {'summary': 'Room History: MTV2-126 Sun', 'status': 'NEW', 'id': 983372},\n",
       " {'summary': 'Room History: MTV2-106 Alpha Centauri',\n",
       "  'status': 'NEW',\n",
       "  'id': 983374},\n",
       " {'summary': 'Room History: MTV2-107 Vega', 'status': 'NEW', 'id': 983375},\n",
       " {'summary': 'Room History: MTV2-108 Capella', 'status': 'NEW', 'id': 983377},\n",
       " {'summary': 'Room History: MTV2-109 Polaris', 'status': 'NEW', 'id': 983378},\n",
       " {'summary': 'Room History: MTV2-110 Commons', 'status': 'NEW', 'id': 983379},\n",
       " {'summary': 'Room History: MTV2-120 Pluto', 'status': 'NEW', 'id': 983380},\n",
       " {'summary': 'Room History: MTV2-121 Mars', 'status': 'NEW', 'id': 983382},\n",
       " {'summary': 'Room History: MTV2-122 Mercury', 'status': 'NEW', 'id': 983383},\n",
       " {'summary': 'Room History: MTV2-123 Moon', 'status': 'NEW', 'id': 983384},\n",
       " {'summary': 'Room History: MTV2-203 Sanctuary',\n",
       "  'status': 'NEW',\n",
       "  'id': 983782},\n",
       " {'summary': 'Allow support for since/until, and comments/attachments to REST bug-history API',\n",
       "  'status': 'ASSIGNED',\n",
       "  'id': 987950},\n",
       " {'summary': '[UX] Design - Ongoing downloads should always appear first in the download manager',\n",
       "  'status': 'NEW',\n",
       "  'id': 991121},\n",
       " {'summary': '[meta] Firebug Gaps', 'status': 'NEW', 'id': 991806},\n",
       " {'summary': 'Implement updated style for -moz-appearance: none form widgets',\n",
       "  'status': 'REOPENED',\n",
       "  'id': 997190},\n",
       " {'summary': '[Meta] Implement Web Manifest spec in Gecko',\n",
       "  'status': 'NEW',\n",
       "  'id': 997779},\n",
       " {'summary': 'Replace should be inline on the findbar',\n",
       "  'status': 'NEW',\n",
       "  'id': 998343},\n",
       " {'summary': 'Tweak wording of tab restore preference and summary text',\n",
       "  'status': 'REOPENED',\n",
       "  'id': 998494},\n",
       " {'summary': 'Room History:  Air Mozilla Origin Aggregation Bug',\n",
       "  'status': 'NEW',\n",
       "  'id': 999012},\n",
       " {'summary': '[meta] implement referrer attribute for navigation and embedding elements',\n",
       "  'status': 'NEW',\n",
       "  'id': 999754},\n",
       " {'summary': '[meta] Worker debugging', 'status': 'NEW', 'id': 1003097},\n",
       " {'summary': 'Wanderlust Tahoe Festival Sponsorship',\n",
       "  'status': 'NEW',\n",
       "  'id': 1003324},\n",
       " {'summary': '[tracking] BetaChannel aka d2g (distribute to gecko)',\n",
       "  'status': 'NEW',\n",
       "  'id': 1004611},\n",
       " {'summary': '[meta] Debugger DOM Mutation Breakpoints',\n",
       "  'status': 'NEW',\n",
       "  'id': 1004678},\n",
       " {'summary': 'improve notification bar on small windows',\n",
       "  'status': 'NEW',\n",
       "  'id': 1005302},\n",
       " {'summary': 'requestAutoComplete on donate.mozilla.org',\n",
       "  'status': 'NEW',\n",
       "  'id': 1007181},\n",
       " {'summary': 'puppetize MTV ambient  boxes', 'status': 'NEW', 'id': 1015682},\n",
       " {'summary': '[EME][META] Implement Encrypted Media Extensions',\n",
       "  'status': 'NEW',\n",
       "  'id': 1015800},\n",
       " {'summary': 'CSS coverage needs buttons in the Style Editor UI',\n",
       "  'status': 'NEW',\n",
       "  'id': 1016288},\n",
       " {'summary': 'Reset Firefox: Preserve extensions but disable all of them',\n",
       "  'status': 'NEW',\n",
       "  'id': 1017919},\n",
       " {'summary': 'Video calls via XMPP/Jingle and WebRTC',\n",
       "  'status': 'NEW',\n",
       "  'id': 1018060},\n",
       " {'summary': 'Fuzz URLUtils interface and DOM URL objects',\n",
       "  'status': 'NEW',\n",
       "  'id': 1020040},\n",
       " {'summary': 'Make frames in stack traces expandable to display the frame with a few lines surrounding it',\n",
       "  'status': 'NEW',\n",
       "  'id': 1021925},\n",
       " {'summary': 'implement local-only violation reporting for CSP violations',\n",
       "  'status': 'NEW',\n",
       "  'id': 1024562},\n",
       " {'summary': 'Fix interaction between mach and structured logging',\n",
       "  'status': 'NEW',\n",
       "  'id': 1027665},\n",
       " {'summary': 'Emulate being offline', 'status': 'NEW', 'id': 1029203},\n",
       " {'summary': 'Room History: SFO-Mozilla Operations Center',\n",
       "  'status': 'NEW',\n",
       "  'id': 1029857},\n",
       " {'summary': 'new copy for firefox/sync landing page',\n",
       "  'status': 'ASSIGNED',\n",
       "  'id': 1030427},\n",
       " {'summary': 'Copy cell/row items in context menu',\n",
       "  'status': 'NEW',\n",
       "  'id': 1031194},\n",
       " {'summary': 'Always compile all C and C++ code with -fwrapv',\n",
       "  'status': 'NEW',\n",
       "  'id': 1031653},\n",
       " {'summary': 'Enable rendering of outline-style:auto by default',\n",
       "  'status': 'NEW',\n",
       "  'id': 1031664},\n",
       " {'summary': '[Tracking] Update and enhance the editing experience on MDN (CKEditor)',\n",
       "  'status': 'NEW',\n",
       "  'id': 1032827},\n",
       " {'summary': '[meta] Ship XUL flexbox emulation (use CSS flexbox behind the scenes to implement XUL flexbox)',\n",
       "  'status': 'NEW',\n",
       "  'id': 1033225},\n",
       " {'summary': 'Use straight nsIChannel instead of nsIIncrementalDownload for GMPInstallManager',\n",
       "  'status': 'NEW',\n",
       "  'id': 1037767},\n",
       " {'summary': '[meta] Refactor the script actors to use protocol.js',\n",
       "  'status': 'NEW',\n",
       "  'id': 1037992},\n",
       " {'summary': 'Get rid of on the main thread IO from GMPInstallManager when updates are being installed',\n",
       "  'status': 'NEW',\n",
       "  'id': 1039490},\n",
       " {'summary': 'factor out common URL var resolution functions for app updates and gmp update/installs',\n",
       "  'status': 'NEW',\n",
       "  'id': 1039555},\n",
       " {'summary': '[meta] Tracking: Implement visual changes for OS X Yosemite',\n",
       "  'status': 'NEW',\n",
       "  'id': 1040250},\n",
       " {'summary': '[META] Implement CSS Shapes Module Level 1',\n",
       "  'status': 'NEW',\n",
       "  'id': 1040714},\n",
       " {'summary': 'design updates for firefox/sync page',\n",
       "  'status': 'ASSIGNED',\n",
       "  'id': 1046253},\n",
       " {'summary': '[meta] CA Program Automation', 'status': 'NEW', 'id': 1049220},\n",
       " {'summary': 'Setting up process to pay Editorial Freelancers for Mozilla Voices',\n",
       "  'status': 'NEW',\n",
       "  'id': 1052786},\n",
       " {'summary': '[META] Tracking bug for CSS flexbox spec changes',\n",
       "  'status': 'NEW',\n",
       "  'id': 1055888},\n",
       " {'summary': 'Import accounts and log data from Pidgin',\n",
       "  'status': 'ASSIGNED',\n",
       "  'id': 1057874},\n",
       " {'summary': '[Meta] Improve monitoring/alert coverage of treeherder (eg New Relic, Nagios, CloudWatch)',\n",
       "  'status': 'NEW',\n",
       "  'id': 1059325},\n",
       " {'summary': 'Implement AudioWorklets for Web Audio API',\n",
       "  'status': 'NEW',\n",
       "  'id': 1062849},\n",
       " {'summary': 'Mozillians reviewed API key for taskcluster authentication',\n",
       "  'status': 'NEW',\n",
       "  'id': 1063841},\n",
       " {'summary': 'add platform support for showing a XUL panel attached to a menubar icon',\n",
       "  'status': 'NEW',\n",
       "  'id': 1066060},\n",
       " {'summary': 'Ability to override the auto-detected geolocation with a custom one',\n",
       "  'status': 'NEW',\n",
       "  'id': 1069882},\n",
       " {'summary': 'Re-organizing CSS files into components',\n",
       "  'status': 'NEW',\n",
       "  'id': 1070001},\n",
       " {'summary': 'Setup Guides Discourse', 'status': 'NEW', 'id': 1070508},\n",
       " {'summary': '[Web Notifications] Add support for \"silent\" notifications',\n",
       "  'status': 'ASSIGNED',\n",
       "  'id': 1073717},\n",
       " {'summary': '[meta] Multiple channel support for Cubeb',\n",
       "  'status': 'NEW',\n",
       "  'id': 1073786},\n",
       " {'summary': '[meta] SIMD backend: implement SIMD operations for ARM',\n",
       "  'status': 'NEW',\n",
       "  'id': 1074102},\n",
       " {'summary': '[meta] Debugger frontend', 'status': 'NEW', 'id': 1074592},\n",
       " {'summary': 'Remove SharedSurface TextureClient/Host pair',\n",
       "  'status': 'NEW',\n",
       "  'id': 1077722},\n",
       " {'summary': '[meta]Remove synchronous bookmarks API',\n",
       "  'status': 'NEW',\n",
       "  'id': 1083465},\n",
       " {'summary': '[Firefox 10th] Google Play Landing Page- Screenshot Updates (design)',\n",
       "  'status': 'ASSIGNED',\n",
       "  'id': 1084595},\n",
       " {'summary': 'Implement blocklist handling for OpenH264 / GMP',\n",
       "  'status': 'NEW',\n",
       "  'id': 1086668},\n",
       " {'summary': \"Show Promise's handlers in the VariablesView\",\n",
       "  'status': 'NEW',\n",
       "  'id': 1087624},\n",
       " {'summary': 'Better instruction selection for ARMv7 compareExchange',\n",
       "  'status': 'NEW',\n",
       "  'id': 1088598},\n",
       " {'summary': 'Add a way to inject CodeMirror plugins inside the DevTools Editor component',\n",
       "  'status': 'REOPENED',\n",
       "  'id': 1088996},\n",
       " {'summary': 'No M/E 2 multiview feed to production desk in PDX Commons',\n",
       "  'status': 'NEW',\n",
       "  'id': 1091555},\n",
       " {'summary': 'Support python 3 in mozbase.', 'status': 'NEW', 'id': 1093212},\n",
       " {'summary': 'No M/E 2 multiview feed to YVR control point drop.',\n",
       "  'status': 'NEW',\n",
       "  'id': 1093731},\n",
       " {'summary': 'need message for folks looking to download dev browser on mobile',\n",
       "  'status': 'NEW',\n",
       "  'id': 1095126},\n",
       " {'summary': '[meta] Implement CSS shape-outside property',\n",
       "  'status': 'NEW',\n",
       "  'id': 1098939},\n",
       " {'summary': 'Allow to blackbox files from within the Console panel',\n",
       "  'status': 'NEW',\n",
       "  'id': 1102797},\n",
       " {'summary': 'Support custom sound files for OSX Notification Center',\n",
       "  'status': 'NEW',\n",
       "  'id': 1105225},\n",
       " {'summary': '[META] implement CSS Box Alignment module',\n",
       "  'status': 'NEW',\n",
       "  'id': 1105570},\n",
       " {'summary': 'Add Bitcoin to local database of  transactions',\n",
       "  'status': 'NEW',\n",
       "  'id': 1105786},\n",
       " {'summary': 'Implement jump to introduction site for eval scripts',\n",
       "  'status': 'NEW',\n",
       "  'id': 1106706},\n",
       " {'summary': 'Implement image-set().', 'status': 'NEW', 'id': 1107646},\n",
       " {'summary': 'Add a \"pause on coerce to NaN\" option to the debugger\\'s options dropdown',\n",
       "  'status': 'NEW',\n",
       "  'id': 1107763},\n",
       " {'summary': '[userstory] Network Throttling Control',\n",
       "  'status': 'NEW',\n",
       "  'id': 1110207},\n",
       " {'summary': 'Log on Events (aka monitorEvents/Event Tracing)',\n",
       "  'status': 'NEW',\n",
       "  'id': 1110276},\n",
       " {'summary': 'Add UI to display minidumps for multiple processes',\n",
       "  'status': 'NEW',\n",
       "  'id': 1110498},\n",
       " {'summary': 'Link from the animation inspector to the style-editor',\n",
       "  'status': 'NEW',\n",
       "  'id': 1110739},\n",
       " {'summary': '[Windows] Dropdowns of URL bar and search box should use a better-looking shadow and border',\n",
       "  'status': 'NEW',\n",
       "  'id': 1111145},\n",
       " ...]"
      ]
     },
     "execution_count": 9,
     "metadata": {},
     "output_type": "execute_result"
    }
   ],
   "source": [
    "data_json['bugs']"
   ]
  },
  {
   "cell_type": "code",
   "execution_count": null,
   "metadata": {},
   "outputs": [],
   "source": []
  },
  {
   "cell_type": "code",
   "execution_count": 10,
   "metadata": {},
   "outputs": [
    {
     "data": {
      "text/html": [
       "<div>\n",
       "<style scoped>\n",
       "    .dataframe tbody tr th:only-of-type {\n",
       "        vertical-align: middle;\n",
       "    }\n",
       "\n",
       "    .dataframe tbody tr th {\n",
       "        vertical-align: top;\n",
       "    }\n",
       "\n",
       "    .dataframe thead th {\n",
       "        text-align: right;\n",
       "    }\n",
       "</style>\n",
       "<table border=\"1\" class=\"dataframe\">\n",
       "  <thead>\n",
       "    <tr style=\"text-align: right;\">\n",
       "      <th></th>\n",
       "      <th>summary</th>\n",
       "      <th>status</th>\n",
       "      <th>id</th>\n",
       "    </tr>\n",
       "  </thead>\n",
       "  <tbody>\n",
       "    <tr>\n",
       "      <th>0</th>\n",
       "      <td>Proxy: map HTTP 500 errors to necko errors (so...</td>\n",
       "      <td>NEW</td>\n",
       "      <td>2875</td>\n",
       "    </tr>\n",
       "    <tr>\n",
       "      <th>1</th>\n",
       "      <td>[LDAP] Access to a local LDAP server in Off-Li...</td>\n",
       "      <td>NEW</td>\n",
       "      <td>2892</td>\n",
       "    </tr>\n",
       "    <tr>\n",
       "      <th>2</th>\n",
       "      <td>Warnings for USENET etiquette errors required ...</td>\n",
       "      <td>NEW</td>\n",
       "      <td>3746</td>\n",
       "    </tr>\n",
       "    <tr>\n",
       "      <th>3</th>\n",
       "      <td>URL linkifying code should cross linebreaks [l...</td>\n",
       "      <td>NEW</td>\n",
       "      <td>5351</td>\n",
       "    </tr>\n",
       "    <tr>\n",
       "      <th>4</th>\n",
       "      <td>Automatically update bookmarks when sites move...</td>\n",
       "      <td>NEW</td>\n",
       "      <td>8648</td>\n",
       "    </tr>\n",
       "  </tbody>\n",
       "</table>\n",
       "</div>"
      ],
      "text/plain": [
       "                                             summary status    id\n",
       "0  Proxy: map HTTP 500 errors to necko errors (so...    NEW  2875\n",
       "1  [LDAP] Access to a local LDAP server in Off-Li...    NEW  2892\n",
       "2  Warnings for USENET etiquette errors required ...    NEW  3746\n",
       "3  URL linkifying code should cross linebreaks [l...    NEW  5351\n",
       "4  Automatically update bookmarks when sites move...    NEW  8648"
      ]
     },
     "execution_count": 10,
     "metadata": {},
     "output_type": "execute_result"
    }
   ],
   "source": [
    "df_json = pd.DataFrame(data_json['bugs'])\n",
    "df_json.head()"
   ]
  },
  {
   "cell_type": "code",
   "execution_count": 11,
   "metadata": {},
   "outputs": [
    {
     "data": {
      "text/plain": [
       "array(['NEW', 'ASSIGNED', 'REOPENED', 'UNCONFIRMED'], dtype=object)"
      ]
     },
     "execution_count": 11,
     "metadata": {},
     "output_type": "execute_result"
    }
   ],
   "source": [
    "df_json.status.unique()"
   ]
  },
  {
   "cell_type": "code",
   "execution_count": 12,
   "metadata": {},
   "outputs": [
    {
     "data": {
      "text/plain": [
       "array(['normal', 'critical'], dtype=object)"
      ]
     },
     "execution_count": 12,
     "metadata": {},
     "output_type": "execute_result"
    }
   ],
   "source": [
    "data_csv.severity.unique() # can classify"
   ]
  },
  {
   "cell_type": "code",
   "execution_count": 13,
   "metadata": {},
   "outputs": [
    {
     "data": {
      "text/plain": [
       "1544"
      ]
     },
     "execution_count": 13,
     "metadata": {},
     "output_type": "execute_result"
    }
   ],
   "source": [
    "data_csv.isna().sum().sum()"
   ]
  },
  {
   "cell_type": "code",
   "execution_count": 14,
   "metadata": {},
   "outputs": [],
   "source": [
    "\n",
    "data_csv.dropna(axis=1, inplace=True, how='all')\n",
    "data_csv.drop_duplicates(subset='id', inplace=True)"
   ]
  },
  {
   "cell_type": "code",
   "execution_count": null,
   "metadata": {},
   "outputs": [],
   "source": []
  },
  {
   "cell_type": "code",
   "execution_count": 15,
   "metadata": {},
   "outputs": [],
   "source": [
    "import ast\n",
    "data_csv.loc[:, 'keywords'] = data_csv.loc[:, 'keywords'].apply(lambda x: ast.literal_eval(x))"
   ]
  },
  {
   "cell_type": "code",
   "execution_count": null,
   "metadata": {},
   "outputs": [],
   "source": []
  },
  {
   "cell_type": "code",
   "execution_count": null,
   "metadata": {},
   "outputs": [],
   "source": []
  },
  {
   "cell_type": "code",
   "execution_count": 31,
   "metadata": {},
   "outputs": [
    {
     "data": {
      "text/plain": [
       "0                                                           []\n",
       "1                                                 [helpwanted]\n",
       "2                                                 [helpwanted]\n",
       "3                                                           []\n",
       "4                                                 [helpwanted]\n",
       "5                                                           []\n",
       "6                                                           []\n",
       "7                                                 [helpwanted]\n",
       "8                                                           []\n",
       "9                                                   [uiwanted]\n",
       "10                                                          []\n",
       "11                                                          []\n",
       "12                                                [helpwanted]\n",
       "13                                                      [perf]\n",
       "14                                                          []\n",
       "15                                                [helpwanted]\n",
       "16                                                [helpwanted]\n",
       "17                         [arch, helpwanted, platform-parity]\n",
       "18                                                [helpwanted]\n",
       "19                                                [helpwanted]\n",
       "20                                                 [topembed+]\n",
       "21                                        [access, helpwanted]\n",
       "22                                                [helpwanted]\n",
       "23                                                          []\n",
       "24                                                          []\n",
       "25                                                          []\n",
       "26                                                          []\n",
       "27                                                [helpwanted]\n",
       "28    [helpwanted, parity-chrome, parity-opera, parity-safari]\n",
       "29                                                [helpwanted]\n",
       "30                                                [helpwanted]\n",
       "31                                                          []\n",
       "32                                                [helpwanted]\n",
       "33                                                [helpwanted]\n",
       "34                                                [helpwanted]\n",
       "35                                                      [meta]\n",
       "36                         [access, meta, privacy, ux-control]\n",
       "37                                                    [access]\n",
       "38                        [embed, helpwanted, meta, topembed-]\n",
       "39                                           [student-project]\n",
       "40                                                    [access]\n",
       "41                                                [helpwanted]\n",
       "42                                                      [intl]\n",
       "43                                                          []\n",
       "44                               [helpwanted, platform-parity]\n",
       "45                                                          []\n",
       "46                                                          []\n",
       "47                                                [helpwanted]\n",
       "48                               [helpwanted, platform-parity]\n",
       "Name: keywords, dtype: object"
      ]
     },
     "execution_count": 31,
     "metadata": {},
     "output_type": "execute_result"
    }
   ],
   "source": [
    "data_csv.keywords # can classify"
   ]
  },
  {
   "cell_type": "code",
   "execution_count": 18,
   "metadata": {},
   "outputs": [
    {
     "data": {
      "text/plain": [
       "array(['Components', 'Client Software', 'Server Software'], dtype=object)"
      ]
     },
     "execution_count": 18,
     "metadata": {},
     "output_type": "execute_result"
    }
   ],
   "source": [
    "data_csv.classification.unique()"
   ]
  },
  {
   "cell_type": "code",
   "execution_count": 20,
   "metadata": {},
   "outputs": [
    {
     "data": {
      "text/plain": [
       "array(['enhancement', 'task'], dtype=object)"
      ]
     },
     "execution_count": 20,
     "metadata": {},
     "output_type": "execute_result"
    }
   ],
   "source": [
    "data_csv.type.unique()"
   ]
  },
  {
   "cell_type": "code",
   "execution_count": 21,
   "metadata": {},
   "outputs": [
    {
     "data": {
      "text/html": [
       "<div>\n",
       "<style scoped>\n",
       "    .dataframe tbody tr th:only-of-type {\n",
       "        vertical-align: middle;\n",
       "    }\n",
       "\n",
       "    .dataframe tbody tr th {\n",
       "        vertical-align: top;\n",
       "    }\n",
       "\n",
       "    .dataframe thead th {\n",
       "        text-align: right;\n",
       "    }\n",
       "</style>\n",
       "<table border=\"1\" class=\"dataframe\">\n",
       "  <thead>\n",
       "    <tr style=\"text-align: right;\">\n",
       "      <th></th>\n",
       "      <th>url</th>\n",
       "      <th>whiteboard</th>\n",
       "      <th>cf_tracking_thunderbird_esr91</th>\n",
       "      <th>is_cc_accessible</th>\n",
       "      <th>platform</th>\n",
       "      <th>assigned_to</th>\n",
       "      <th>mentors_detail</th>\n",
       "      <th>cf_status_firefox103</th>\n",
       "      <th>regressions</th>\n",
       "      <th>version</th>\n",
       "      <th>...</th>\n",
       "      <th>cf_tracking_seamonkey253</th>\n",
       "      <th>cf_status_seamonkey257esr</th>\n",
       "      <th>cf_status_thunderbird_101</th>\n",
       "      <th>cf_status_seamonkey253</th>\n",
       "      <th>qa_contact_detail</th>\n",
       "      <th>cf_status_thunderbird_esr78</th>\n",
       "      <th>cf_status_firefox_esr78</th>\n",
       "      <th>cf_status_firefox90</th>\n",
       "      <th>cf_status_firefox89</th>\n",
       "      <th>cf_status_firefox88</th>\n",
       "    </tr>\n",
       "    <tr>\n",
       "      <th>type</th>\n",
       "      <th></th>\n",
       "      <th></th>\n",
       "      <th></th>\n",
       "      <th></th>\n",
       "      <th></th>\n",
       "      <th></th>\n",
       "      <th></th>\n",
       "      <th></th>\n",
       "      <th></th>\n",
       "      <th></th>\n",
       "      <th></th>\n",
       "      <th></th>\n",
       "      <th></th>\n",
       "      <th></th>\n",
       "      <th></th>\n",
       "      <th></th>\n",
       "      <th></th>\n",
       "      <th></th>\n",
       "      <th></th>\n",
       "      <th></th>\n",
       "      <th></th>\n",
       "    </tr>\n",
       "  </thead>\n",
       "  <tbody>\n",
       "    <tr>\n",
       "      <th>enhancement</th>\n",
       "      <td>14</td>\n",
       "      <td>26</td>\n",
       "      <td>34</td>\n",
       "      <td>48</td>\n",
       "      <td>48</td>\n",
       "      <td>48</td>\n",
       "      <td>48</td>\n",
       "      <td>14</td>\n",
       "      <td>48</td>\n",
       "      <td>48</td>\n",
       "      <td>...</td>\n",
       "      <td>32</td>\n",
       "      <td>32</td>\n",
       "      <td>20</td>\n",
       "      <td>32</td>\n",
       "      <td>3</td>\n",
       "      <td>2</td>\n",
       "      <td>1</td>\n",
       "      <td>1</td>\n",
       "      <td>1</td>\n",
       "      <td>1</td>\n",
       "    </tr>\n",
       "    <tr>\n",
       "      <th>task</th>\n",
       "      <td>1</td>\n",
       "      <td>0</td>\n",
       "      <td>1</td>\n",
       "      <td>1</td>\n",
       "      <td>1</td>\n",
       "      <td>1</td>\n",
       "      <td>1</td>\n",
       "      <td>0</td>\n",
       "      <td>1</td>\n",
       "      <td>1</td>\n",
       "      <td>...</td>\n",
       "      <td>1</td>\n",
       "      <td>1</td>\n",
       "      <td>1</td>\n",
       "      <td>1</td>\n",
       "      <td>0</td>\n",
       "      <td>0</td>\n",
       "      <td>0</td>\n",
       "      <td>0</td>\n",
       "      <td>0</td>\n",
       "      <td>0</td>\n",
       "    </tr>\n",
       "  </tbody>\n",
       "</table>\n",
       "<p>2 rows × 82 columns</p>\n",
       "</div>"
      ],
      "text/plain": [
       "             url  whiteboard  cf_tracking_thunderbird_esr91  is_cc_accessible  \\\n",
       "type                                                                            \n",
       "enhancement   14          26                             34                48   \n",
       "task           1           0                              1                 1   \n",
       "\n",
       "             platform  assigned_to  mentors_detail  cf_status_firefox103  \\\n",
       "type                                                                       \n",
       "enhancement        48           48              48                    14   \n",
       "task                1            1               1                     0   \n",
       "\n",
       "             regressions  version  ...  cf_tracking_seamonkey253  \\\n",
       "type                               ...                             \n",
       "enhancement           48       48  ...                        32   \n",
       "task                   1        1  ...                         1   \n",
       "\n",
       "             cf_status_seamonkey257esr  cf_status_thunderbird_101  \\\n",
       "type                                                                \n",
       "enhancement                         32                         20   \n",
       "task                                 1                          1   \n",
       "\n",
       "             cf_status_seamonkey253  qa_contact_detail  \\\n",
       "type                                                     \n",
       "enhancement                      32                  3   \n",
       "task                              1                  0   \n",
       "\n",
       "             cf_status_thunderbird_esr78  cf_status_firefox_esr78  \\\n",
       "type                                                                \n",
       "enhancement                            2                        1   \n",
       "task                                   0                        0   \n",
       "\n",
       "             cf_status_firefox90  cf_status_firefox89  cf_status_firefox88  \n",
       "type                                                                        \n",
       "enhancement                    1                    1                    1  \n",
       "task                           0                    0                    0  \n",
       "\n",
       "[2 rows x 82 columns]"
      ]
     },
     "execution_count": 21,
     "metadata": {},
     "output_type": "execute_result"
    }
   ],
   "source": [
    "data_csv.groupby(\n",
    "    by='type'\n",
    ").count()"
   ]
  },
  {
   "cell_type": "code",
   "execution_count": null,
   "metadata": {},
   "outputs": [],
   "source": []
  },
  {
   "cell_type": "code",
   "execution_count": null,
   "metadata": {},
   "outputs": [],
   "source": []
  },
  {
   "cell_type": "code",
   "execution_count": 19,
   "metadata": {},
   "outputs": [
    {
     "data": {
      "text/html": [
       "<div>\n",
       "<style scoped>\n",
       "    .dataframe tbody tr th:only-of-type {\n",
       "        vertical-align: middle;\n",
       "    }\n",
       "\n",
       "    .dataframe tbody tr th {\n",
       "        vertical-align: top;\n",
       "    }\n",
       "\n",
       "    .dataframe thead th {\n",
       "        text-align: right;\n",
       "    }\n",
       "</style>\n",
       "<table border=\"1\" class=\"dataframe\">\n",
       "  <thead>\n",
       "    <tr style=\"text-align: right;\">\n",
       "      <th></th>\n",
       "      <th>classification</th>\n",
       "      <th>component</th>\n",
       "      <th>platform</th>\n",
       "      <th>assigned_to</th>\n",
       "      <th>summary</th>\n",
       "      <th>id</th>\n",
       "      <th>status</th>\n",
       "      <th>is_confirmed</th>\n",
       "      <th>severity</th>\n",
       "      <th>keywords</th>\n",
       "      <th>priority</th>\n",
       "      <th>creator</th>\n",
       "      <th>type</th>\n",
       "    </tr>\n",
       "  </thead>\n",
       "  <tbody>\n",
       "    <tr>\n",
       "      <th>0</th>\n",
       "      <td>Components</td>\n",
       "      <td>Networking: HTTP</td>\n",
       "      <td>All</td>\n",
       "      <td>nobody@mozilla.org</td>\n",
       "      <td>Proxy: map HTTP 500 errors to necko errors (so...</td>\n",
       "      <td>2875</td>\n",
       "      <td>NEW</td>\n",
       "      <td>True</td>\n",
       "      <td>normal</td>\n",
       "      <td>[]</td>\n",
       "      <td>P3</td>\n",
       "      <td>erik@vanderpoel.org</td>\n",
       "      <td>enhancement</td>\n",
       "    </tr>\n",
       "    <tr>\n",
       "      <th>1</th>\n",
       "      <td>Components</td>\n",
       "      <td>LDAP Integration</td>\n",
       "      <td>All</td>\n",
       "      <td>nobody@mozilla.org</td>\n",
       "      <td>[LDAP] Access to a local LDAP server in Off-Li...</td>\n",
       "      <td>2892</td>\n",
       "      <td>NEW</td>\n",
       "      <td>True</td>\n",
       "      <td>normal</td>\n",
       "      <td>[helpwanted]</td>\n",
       "      <td>--</td>\n",
       "      <td>lchiang@formerly-netscape.com.tld</td>\n",
       "      <td>enhancement</td>\n",
       "    </tr>\n",
       "    <tr>\n",
       "      <th>2</th>\n",
       "      <td>Components</td>\n",
       "      <td>Composition</td>\n",
       "      <td>All</td>\n",
       "      <td>nobody@mozilla.org</td>\n",
       "      <td>Warnings for USENET etiquette errors required ...</td>\n",
       "      <td>3746</td>\n",
       "      <td>NEW</td>\n",
       "      <td>True</td>\n",
       "      <td>normal</td>\n",
       "      <td>[helpwanted]</td>\n",
       "      <td>P5</td>\n",
       "      <td>phil@formerly-netscape.com.tld</td>\n",
       "      <td>enhancement</td>\n",
       "    </tr>\n",
       "    <tr>\n",
       "      <th>3</th>\n",
       "      <td>Components</td>\n",
       "      <td>MIME</td>\n",
       "      <td>All</td>\n",
       "      <td>ben.bucksch@beonex.com</td>\n",
       "      <td>URL linkifying code should cross linebreaks [l...</td>\n",
       "      <td>5351</td>\n",
       "      <td>NEW</td>\n",
       "      <td>True</td>\n",
       "      <td>normal</td>\n",
       "      <td>[]</td>\n",
       "      <td>--</td>\n",
       "      <td>phil@formerly-netscape.com.tld</td>\n",
       "      <td>enhancement</td>\n",
       "    </tr>\n",
       "    <tr>\n",
       "      <th>4</th>\n",
       "      <td>Client Software</td>\n",
       "      <td>Bookmarks &amp; History</td>\n",
       "      <td>All</td>\n",
       "      <td>nobody@mozilla.org</td>\n",
       "      <td>Automatically update bookmarks when sites move...</td>\n",
       "      <td>8648</td>\n",
       "      <td>NEW</td>\n",
       "      <td>True</td>\n",
       "      <td>normal</td>\n",
       "      <td>[helpwanted]</td>\n",
       "      <td>--</td>\n",
       "      <td>matty_is_a_geek@fastmail.fm</td>\n",
       "      <td>enhancement</td>\n",
       "    </tr>\n",
       "  </tbody>\n",
       "</table>\n",
       "</div>"
      ],
      "text/plain": [
       "    classification            component platform             assigned_to  \\\n",
       "0       Components     Networking: HTTP      All      nobody@mozilla.org   \n",
       "1       Components     LDAP Integration      All      nobody@mozilla.org   \n",
       "2       Components          Composition      All      nobody@mozilla.org   \n",
       "3       Components                 MIME      All  ben.bucksch@beonex.com   \n",
       "4  Client Software  Bookmarks & History      All      nobody@mozilla.org   \n",
       "\n",
       "                                             summary    id status  \\\n",
       "0  Proxy: map HTTP 500 errors to necko errors (so...  2875    NEW   \n",
       "1  [LDAP] Access to a local LDAP server in Off-Li...  2892    NEW   \n",
       "2  Warnings for USENET etiquette errors required ...  3746    NEW   \n",
       "3  URL linkifying code should cross linebreaks [l...  5351    NEW   \n",
       "4  Automatically update bookmarks when sites move...  8648    NEW   \n",
       "\n",
       "   is_confirmed severity      keywords priority  \\\n",
       "0          True   normal            []       P3   \n",
       "1          True   normal  [helpwanted]       --   \n",
       "2          True   normal  [helpwanted]       P5   \n",
       "3          True   normal            []       --   \n",
       "4          True   normal  [helpwanted]       --   \n",
       "\n",
       "                             creator         type  \n",
       "0                erik@vanderpoel.org  enhancement  \n",
       "1  lchiang@formerly-netscape.com.tld  enhancement  \n",
       "2     phil@formerly-netscape.com.tld  enhancement  \n",
       "3     phil@formerly-netscape.com.tld  enhancement  \n",
       "4        matty_is_a_geek@fastmail.fm  enhancement  "
      ]
     },
     "execution_count": 19,
     "metadata": {},
     "output_type": "execute_result"
    }
   ],
   "source": [
    "data_csv[['classification', 'component', 'platform', \n",
    "'assigned_to', # can use regex to analyze\n",
    "        'summary', 'id', 'status', 'is_confirmed',\n",
    "         'severity', 'keywords', 'priority', 'creator', 'type']].head()"
   ]
  },
  {
   "cell_type": "code",
   "execution_count": 92,
   "metadata": {},
   "outputs": [
    {
     "data": {
      "text/plain": [
       "array(['All', 'x86'], dtype=object)"
      ]
     },
     "execution_count": 92,
     "metadata": {},
     "output_type": "execute_result"
    }
   ],
   "source": [
    "data_csv.platform.unique()"
   ]
  },
  {
   "cell_type": "code",
   "execution_count": 80,
   "metadata": {},
   "outputs": [
    {
     "data": {
      "text/plain": [
       "array(['Other', 'All', 'Linux', 'macOS'], dtype=object)"
      ]
     },
     "execution_count": 80,
     "metadata": {},
     "output_type": "execute_result"
    }
   ],
   "source": [
    "data_csv.op_sys.unique()"
   ]
  },
  {
   "cell_type": "code",
   "execution_count": 85,
   "metadata": {},
   "outputs": [
    {
     "data": {
      "text/plain": [
       "array(['Networking: HTTP', 'LDAP Integration', 'Composition', 'MIME',\n",
       "       'Bookmarks & History', 'UI Design', 'MailNews: Message Display',\n",
       "       'Backend', 'Filters', 'Database', 'DOM: Core & HTML',\n",
       "       'DOM: UI Events & Focus Handling', 'Composer', 'DOM: Navigation',\n",
       "       'XUL', 'Creating/Changing Bugs', 'Preferences', 'DOM: Serializers',\n",
       "       'OS Integration', 'Address Book', 'Security: OpenPGP',\n",
       "       'Audio/Video: Playback', 'Networking', 'Layout', 'Find In Page',\n",
       "       'Image Blocking', 'Widget: Cocoa'], dtype=object)"
      ]
     },
     "execution_count": 85,
     "metadata": {},
     "output_type": "execute_result"
    }
   ],
   "source": [
    "data_csv.component.unique()"
   ]
  },
  {
   "cell_type": "code",
   "execution_count": 82,
   "metadata": {},
   "outputs": [
    {
     "data": {
      "text/html": [
       "<div>\n",
       "<style scoped>\n",
       "    .dataframe tbody tr th:only-of-type {\n",
       "        vertical-align: middle;\n",
       "    }\n",
       "\n",
       "    .dataframe tbody tr th {\n",
       "        vertical-align: top;\n",
       "    }\n",
       "\n",
       "    .dataframe thead th {\n",
       "        text-align: right;\n",
       "    }\n",
       "</style>\n",
       "<table border=\"1\" class=\"dataframe\">\n",
       "  <thead>\n",
       "    <tr style=\"text-align: right;\">\n",
       "      <th></th>\n",
       "      <th>url</th>\n",
       "      <th>whiteboard</th>\n",
       "      <th>cf_tracking_thunderbird_esr91</th>\n",
       "      <th>is_cc_accessible</th>\n",
       "      <th>platform</th>\n",
       "      <th>assigned_to</th>\n",
       "      <th>mentors_detail</th>\n",
       "      <th>cf_status_firefox103</th>\n",
       "      <th>regressions</th>\n",
       "      <th>version</th>\n",
       "      <th>...</th>\n",
       "      <th>cf_tracking_seamonkey253</th>\n",
       "      <th>cf_status_seamonkey257esr</th>\n",
       "      <th>cf_status_thunderbird_101</th>\n",
       "      <th>cf_status_seamonkey253</th>\n",
       "      <th>qa_contact_detail</th>\n",
       "      <th>cf_status_thunderbird_esr78</th>\n",
       "      <th>cf_status_firefox_esr78</th>\n",
       "      <th>cf_status_firefox90</th>\n",
       "      <th>cf_status_firefox89</th>\n",
       "      <th>cf_status_firefox88</th>\n",
       "    </tr>\n",
       "    <tr>\n",
       "      <th>op_sys</th>\n",
       "      <th></th>\n",
       "      <th></th>\n",
       "      <th></th>\n",
       "      <th></th>\n",
       "      <th></th>\n",
       "      <th></th>\n",
       "      <th></th>\n",
       "      <th></th>\n",
       "      <th></th>\n",
       "      <th></th>\n",
       "      <th></th>\n",
       "      <th></th>\n",
       "      <th></th>\n",
       "      <th></th>\n",
       "      <th></th>\n",
       "      <th></th>\n",
       "      <th></th>\n",
       "      <th></th>\n",
       "      <th></th>\n",
       "      <th></th>\n",
       "      <th></th>\n",
       "    </tr>\n",
       "  </thead>\n",
       "  <tbody>\n",
       "    <tr>\n",
       "      <th>All</th>\n",
       "      <td>13</td>\n",
       "      <td>23</td>\n",
       "      <td>32</td>\n",
       "      <td>45</td>\n",
       "      <td>45</td>\n",
       "      <td>45</td>\n",
       "      <td>45</td>\n",
       "      <td>12</td>\n",
       "      <td>45</td>\n",
       "      <td>45</td>\n",
       "      <td>...</td>\n",
       "      <td>32</td>\n",
       "      <td>32</td>\n",
       "      <td>20</td>\n",
       "      <td>32</td>\n",
       "      <td>3</td>\n",
       "      <td>1</td>\n",
       "      <td>0</td>\n",
       "      <td>0</td>\n",
       "      <td>0</td>\n",
       "      <td>0</td>\n",
       "    </tr>\n",
       "    <tr>\n",
       "      <th>Linux</th>\n",
       "      <td>1</td>\n",
       "      <td>0</td>\n",
       "      <td>1</td>\n",
       "      <td>1</td>\n",
       "      <td>1</td>\n",
       "      <td>1</td>\n",
       "      <td>1</td>\n",
       "      <td>0</td>\n",
       "      <td>1</td>\n",
       "      <td>1</td>\n",
       "      <td>...</td>\n",
       "      <td>0</td>\n",
       "      <td>0</td>\n",
       "      <td>1</td>\n",
       "      <td>0</td>\n",
       "      <td>0</td>\n",
       "      <td>0</td>\n",
       "      <td>0</td>\n",
       "      <td>0</td>\n",
       "      <td>0</td>\n",
       "      <td>0</td>\n",
       "    </tr>\n",
       "    <tr>\n",
       "      <th>Other</th>\n",
       "      <td>1</td>\n",
       "      <td>2</td>\n",
       "      <td>1</td>\n",
       "      <td>2</td>\n",
       "      <td>2</td>\n",
       "      <td>2</td>\n",
       "      <td>2</td>\n",
       "      <td>1</td>\n",
       "      <td>2</td>\n",
       "      <td>2</td>\n",
       "      <td>...</td>\n",
       "      <td>1</td>\n",
       "      <td>1</td>\n",
       "      <td>0</td>\n",
       "      <td>1</td>\n",
       "      <td>0</td>\n",
       "      <td>0</td>\n",
       "      <td>0</td>\n",
       "      <td>0</td>\n",
       "      <td>0</td>\n",
       "      <td>0</td>\n",
       "    </tr>\n",
       "    <tr>\n",
       "      <th>macOS</th>\n",
       "      <td>0</td>\n",
       "      <td>1</td>\n",
       "      <td>1</td>\n",
       "      <td>1</td>\n",
       "      <td>1</td>\n",
       "      <td>1</td>\n",
       "      <td>1</td>\n",
       "      <td>1</td>\n",
       "      <td>1</td>\n",
       "      <td>1</td>\n",
       "      <td>...</td>\n",
       "      <td>0</td>\n",
       "      <td>0</td>\n",
       "      <td>0</td>\n",
       "      <td>0</td>\n",
       "      <td>0</td>\n",
       "      <td>1</td>\n",
       "      <td>1</td>\n",
       "      <td>1</td>\n",
       "      <td>1</td>\n",
       "      <td>1</td>\n",
       "    </tr>\n",
       "  </tbody>\n",
       "</table>\n",
       "<p>4 rows × 82 columns</p>\n",
       "</div>"
      ],
      "text/plain": [
       "        url  whiteboard  cf_tracking_thunderbird_esr91  is_cc_accessible  \\\n",
       "op_sys                                                                     \n",
       "All      13          23                             32                45   \n",
       "Linux     1           0                              1                 1   \n",
       "Other     1           2                              1                 2   \n",
       "macOS     0           1                              1                 1   \n",
       "\n",
       "        platform  assigned_to  mentors_detail  cf_status_firefox103  \\\n",
       "op_sys                                                                \n",
       "All           45           45              45                    12   \n",
       "Linux          1            1               1                     0   \n",
       "Other          2            2               2                     1   \n",
       "macOS          1            1               1                     1   \n",
       "\n",
       "        regressions  version  ...  cf_tracking_seamonkey253  \\\n",
       "op_sys                        ...                             \n",
       "All              45       45  ...                        32   \n",
       "Linux             1        1  ...                         0   \n",
       "Other             2        2  ...                         1   \n",
       "macOS             1        1  ...                         0   \n",
       "\n",
       "        cf_status_seamonkey257esr  cf_status_thunderbird_101  \\\n",
       "op_sys                                                         \n",
       "All                            32                         20   \n",
       "Linux                           0                          1   \n",
       "Other                           1                          0   \n",
       "macOS                           0                          0   \n",
       "\n",
       "        cf_status_seamonkey253  qa_contact_detail  \\\n",
       "op_sys                                              \n",
       "All                         32                  3   \n",
       "Linux                        0                  0   \n",
       "Other                        1                  0   \n",
       "macOS                        0                  0   \n",
       "\n",
       "        cf_status_thunderbird_esr78  cf_status_firefox_esr78  \\\n",
       "op_sys                                                         \n",
       "All                               1                        0   \n",
       "Linux                             0                        0   \n",
       "Other                             0                        0   \n",
       "macOS                             1                        1   \n",
       "\n",
       "        cf_status_firefox90  cf_status_firefox89  cf_status_firefox88  \n",
       "op_sys                                                                 \n",
       "All                       0                    0                    0  \n",
       "Linux                     0                    0                    0  \n",
       "Other                     0                    0                    0  \n",
       "macOS                     1                    1                    1  \n",
       "\n",
       "[4 rows x 82 columns]"
      ]
     },
     "execution_count": 82,
     "metadata": {},
     "output_type": "execute_result"
    }
   ],
   "source": [
    "data_csv.groupby('op_sys').count()"
   ]
  },
  {
   "cell_type": "code",
   "execution_count": 71,
   "metadata": {},
   "outputs": [
    {
     "data": {
      "text/plain": [
       "array(['Components', 'Client Software', 'Server Software'], dtype=object)"
      ]
     },
     "execution_count": 71,
     "metadata": {},
     "output_type": "execute_result"
    }
   ],
   "source": [
    "data_csv.classification.unique() # classification"
   ]
  },
  {
   "cell_type": "code",
   "execution_count": 74,
   "metadata": {},
   "outputs": [
    {
     "data": {
      "text/plain": [
       "array(['---', nan], dtype=object)"
      ]
     },
     "execution_count": 74,
     "metadata": {},
     "output_type": "execute_result"
    }
   ],
   "source": [
    "data_csv.cf_performance.unique() # not useful info\n"
   ]
  },
  {
   "cell_type": "code",
   "execution_count": null,
   "metadata": {},
   "outputs": [],
   "source": []
  },
  {
   "cell_type": "code",
   "execution_count": 15,
   "metadata": {},
   "outputs": [],
   "source": [
    "pd.set_option('display.max_colwidth', None)"
   ]
  },
  {
   "cell_type": "code",
   "execution_count": 67,
   "metadata": {},
   "outputs": [
    {
     "data": {
      "text/plain": [
       "Index(['url', 'whiteboard', 'cf_tracking_thunderbird_esr91',\n",
       "       'is_cc_accessible', 'platform', 'assigned_to', 'mentors_detail',\n",
       "       'cf_status_firefox103', 'regressions', 'version', 'regressed_by',\n",
       "       'summary', 'alias', 'duplicates', 'target_milestone', 'status',\n",
       "       'mentors', 'cf_tracking_firefox103', 'resolution',\n",
       "       'cf_webcompat_priority', 'id', 'assigned_to_detail',\n",
       "       'cf_tracking_firefox_relnote', 'cf_a11y_review_project_flag',\n",
       "       'cf_last_resolved', 'cf_tracking_firefox101',\n",
       "       'cf_status_thunderbird_esr102', 'creation_time',\n",
       "       'cf_status_thunderbird_esr91', 'cf_status_firefox101', 'cf_has_str',\n",
       "       'priority', 'qa_contact', 'dupe_of', 'cf_fx_points', 'is_open',\n",
       "       'creator', 'is_creator_accessible', 'is_confirmed', 'product', 'type',\n",
       "       'see_also', 'severity', 'last_change_time', 'keywords', 'blocks',\n",
       "       'depends_on', 'cf_tracking_thunderbird_esr102', 'cf_performance',\n",
       "       'cf_tracking_firefox102', 'votes', 'cf_tracking_firefox_esr102',\n",
       "       'comment_count', 'cc_detail', 'classification', 'component', 'flags',\n",
       "       'op_sys', 'cf_fx_iteration', 'creator_detail', 'cc', 'cf_cab_review',\n",
       "       'cf_tracking_firefox_esr91', 'groups', 'cf_status_firefox102',\n",
       "       'cf_status_firefox_esr91', 'cf_status_firefox_esr102',\n",
       "       'cf_tracking_thunderbird_103', 'cf_tracking_thunderbird_102',\n",
       "       'cf_status_thunderbird_103', 'cf_tracking_seamonkey257esr',\n",
       "       'cf_status_thunderbird_102', 'cf_tracking_thunderbird_101',\n",
       "       'cf_tracking_seamonkey253', 'cf_status_seamonkey257esr',\n",
       "       'cf_status_thunderbird_101', 'cf_status_seamonkey253',\n",
       "       'qa_contact_detail', 'cf_status_thunderbird_esr78',\n",
       "       'cf_status_firefox_esr78', 'cf_status_firefox90', 'cf_status_firefox89',\n",
       "       'cf_status_firefox88'],\n",
       "      dtype='object')"
      ]
     },
     "execution_count": 67,
     "metadata": {},
     "output_type": "execute_result"
    }
   ],
   "source": [
    "data_csv.columns"
   ]
  },
  {
   "cell_type": "code",
   "execution_count": 48,
   "metadata": {},
   "outputs": [
    {
     "data": {
      "text/html": [
       "<div>\n",
       "<style scoped>\n",
       "    .dataframe tbody tr th:only-of-type {\n",
       "        vertical-align: middle;\n",
       "    }\n",
       "\n",
       "    .dataframe tbody tr th {\n",
       "        vertical-align: top;\n",
       "    }\n",
       "\n",
       "    .dataframe thead th {\n",
       "        text-align: right;\n",
       "    }\n",
       "</style>\n",
       "<table border=\"1\" class=\"dataframe\">\n",
       "  <thead>\n",
       "    <tr style=\"text-align: right;\">\n",
       "      <th></th>\n",
       "      <th>url</th>\n",
       "      <th>whiteboard</th>\n",
       "      <th>cf_tracking_thunderbird_esr91</th>\n",
       "      <th>is_cc_accessible</th>\n",
       "      <th>platform</th>\n",
       "      <th>assigned_to</th>\n",
       "      <th>mentors_detail</th>\n",
       "      <th>cf_status_firefox103</th>\n",
       "      <th>regressions</th>\n",
       "      <th>version</th>\n",
       "      <th>...</th>\n",
       "      <th>cf_tracking_seamonkey253</th>\n",
       "      <th>cf_status_seamonkey257esr</th>\n",
       "      <th>cf_status_thunderbird_101</th>\n",
       "      <th>cf_status_seamonkey253</th>\n",
       "      <th>qa_contact_detail</th>\n",
       "      <th>cf_status_thunderbird_esr78</th>\n",
       "      <th>cf_status_firefox_esr78</th>\n",
       "      <th>cf_status_firefox90</th>\n",
       "      <th>cf_status_firefox89</th>\n",
       "      <th>cf_status_firefox88</th>\n",
       "    </tr>\n",
       "  </thead>\n",
       "  <tbody>\n",
       "  </tbody>\n",
       "</table>\n",
       "<p>0 rows × 87 columns</p>\n",
       "</div>"
      ],
      "text/plain": [
       "Empty DataFrame\n",
       "Columns: [url, whiteboard, cf_tracking_thunderbird_esr91, is_cc_accessible, platform, assigned_to, mentors_detail, cf_status_firefox103, regressions, version, regressed_by, summary, alias, duplicates, target_milestone, status, mentors, cf_tracking_firefox103, resolution, cf_webcompat_priority, id, assigned_to_detail, cf_tracking_firefox_relnote, cf_a11y_review_project_flag, cf_last_resolved, cf_tracking_firefox101, cf_status_thunderbird_esr102, creation_time, cf_status_thunderbird_esr91, cf_status_firefox101, cf_has_str, priority, cf_qa_whiteboard, qa_contact, dupe_of, cf_fx_points, is_open, creator, is_creator_accessible, is_confirmed, product, type, see_also, severity, last_change_time, keywords, blocks, depends_on, cf_user_story, cf_tracking_thunderbird_esr102, cf_crash_signature, cf_performance, cf_rank, cf_tracking_firefox102, votes, cf_tracking_firefox_esr102, comment_count, cc_detail, classification, component, flags, op_sys, cf_fx_iteration, creator_detail, cc, cf_cab_review, cf_tracking_firefox_esr91, groups, cf_status_firefox102, cf_status_firefox_esr91, cf_status_firefox_esr102, cf_tracking_thunderbird_103, cf_tracking_thunderbird_102, cf_status_thunderbird_103, cf_tracking_seamonkey257esr, cf_status_thunderbird_102, cf_tracking_thunderbird_101, cf_tracking_seamonkey253, cf_status_seamonkey257esr, cf_status_thunderbird_101, cf_status_seamonkey253, qa_contact_detail, cf_status_thunderbird_esr78, cf_status_firefox_esr78, cf_status_firefox90, cf_status_firefox89, cf_status_firefox88]\n",
       "Index: []\n",
       "\n",
       "[0 rows x 87 columns]"
      ]
     },
     "execution_count": 48,
     "metadata": {},
     "output_type": "execute_result"
    }
   ],
   "source": [
    "data_csv#.cf_user_story"
   ]
  },
  {
   "cell_type": "markdown",
   "metadata": {},
   "source": [
    "### Second phase with alldata.csv"
   ]
  },
  {
   "cell_type": "code",
   "execution_count": 110,
   "metadata": {},
   "outputs": [
    {
     "name": "stderr",
     "output_type": "stream",
     "text": [
      "[nltk_data] Downloading package stopwords to\n",
      "[nltk_data]     C:\\Users\\mitra\\AppData\\Roaming\\nltk_data...\n",
      "[nltk_data]   Package stopwords is already up-to-date!\n",
      "[nltk_data] Downloading package punkt to\n",
      "[nltk_data]     C:\\Users\\mitra\\AppData\\Roaming\\nltk_data...\n",
      "[nltk_data]   Package punkt is already up-to-date!\n"
     ]
    },
    {
     "data": {
      "text/html": [
       "        <script type=\"text/javascript\">\n",
       "        window.PlotlyConfig = {MathJaxConfig: 'local'};\n",
       "        if (window.MathJax && window.MathJax.Hub && window.MathJax.Hub.Config) {window.MathJax.Hub.Config({SVG: {font: \"STIX-Web\"}});}\n",
       "        if (typeof require !== 'undefined') {\n",
       "        require.undef(\"plotly\");\n",
       "        requirejs.config({\n",
       "            paths: {\n",
       "                'plotly': ['https://cdn.plot.ly/plotly-2.12.1.min']\n",
       "            }\n",
       "        });\n",
       "        require(['plotly'], function(Plotly) {\n",
       "            window._Plotly = Plotly;\n",
       "        });\n",
       "        }\n",
       "        </script>\n",
       "        "
      ]
     },
     "metadata": {},
     "output_type": "display_data"
    }
   ],
   "source": [
    "import pandas as pd\n",
    "import numpy as np\n",
    "\n",
    "# for handling text\n",
    "import string\n",
    "import nltk\n",
    "import seaborn as sns\n",
    "%matplotlib inline\n",
    "import sklearn\n",
    "import regex as re\n",
    "nltk.download('stopwords')\n",
    "nltk.download('punkt')\n",
    "from nltk.corpus import stopwords\n",
    "from nltk.tokenize import word_tokenize\n",
    "import time\n",
    "from termcolor import colored\n",
    "\n",
    "# for plots\n",
    "import matplotlib as plty\n",
    "import matplotlib.pyplot as plt\n",
    "import plotly.offline as py\n",
    "py.init_notebook_mode(connected=True)\n",
    "import plotly.graph_objs as go\n",
    "import plotly.tools as tls\n",
    "import plotly.express as px\n",
    "%matplotlib inline\n",
    "\n",
    "from sklearn.feature_extraction.text import TfidfVectorizer\n",
    "from sklearn.model_selection import cross_val_score\n",
    "\n",
    "# column number\n",
    "pd.set_option('display.max_columns', None)\n",
    "# Row\n",
    "pd.set_option('display.max_rows', 10)\n",
    "\n",
    "\n",
    "ALLData_FILE_PATH = r\"D:\\Dr. Desh\\REConference\\Tutorial\\3 Preprocessing - Mitra\\AllData.csv\""
   ]
  },
  {
   "cell_type": "code",
   "execution_count": 43,
   "metadata": {},
   "outputs": [
    {
     "name": "stderr",
     "output_type": "stream",
     "text": [
      "c:\\Users\\mitra\\anaconda3\\lib\\site-packages\\IPython\\core\\interactiveshell.py:3444: DtypeWarning:\n",
      "\n",
      "Columns (7,8,9,10,11,13,16,18,19,26,27,28,30,31,32,33,34,35,36,37,38,39,40,41,42,43,44,45,46,47,48,49,50,51,52,53,54,55,56,57,58,59,60,61,62,63,64,65,66,70,73,74,75,76,77,78,79,80,81,82,83,84,85,86,87,88,89,90,91,92,93,96,98,99,101,102,103,104,105,106,107,108,109,110,111,112,115,116,117,118,119,120,121,122,123,124,125,126,127,128,129,130,131,132,139,140,145,146,147,148,149,150,151,152,153,154,155,156,169) have mixed types.Specify dtype option on import or set low_memory=False.\n",
      "\n"
     ]
    }
   ],
   "source": [
    "all_data = pd.read_csv(ALLData_FILE_PATH)"
   ]
  },
  {
   "cell_type": "code",
   "execution_count": null,
   "metadata": {},
   "outputs": [],
   "source": []
  },
  {
   "cell_type": "code",
   "execution_count": 57,
   "metadata": {},
   "outputs": [
    {
     "data": {
      "text/html": [
       "<div>\n",
       "<style scoped>\n",
       "    .dataframe tbody tr th:only-of-type {\n",
       "        vertical-align: middle;\n",
       "    }\n",
       "\n",
       "    .dataframe tbody tr th {\n",
       "        vertical-align: top;\n",
       "    }\n",
       "\n",
       "    .dataframe thead th {\n",
       "        text-align: right;\n",
       "    }\n",
       "</style>\n",
       "<table border=\"1\" class=\"dataframe\">\n",
       "  <thead>\n",
       "    <tr style=\"text-align: right;\">\n",
       "      <th></th>\n",
       "      <th>alias</th>\n",
       "      <th>assigned_to</th>\n",
       "      <th>assigned_to_detail</th>\n",
       "      <th>blocks</th>\n",
       "      <th>cc</th>\n",
       "      <th>cc_detail</th>\n",
       "      <th>cf_backlog</th>\n",
       "      <th>cf_blocking_20</th>\n",
       "      <th>cf_blocking_fennec</th>\n",
       "      <th>cf_blocking_seamonkey21</th>\n",
       "      <th>cf_blocking_thunderbird31</th>\n",
       "      <th>cf_blocking_webextensions</th>\n",
       "      <th>cf_bmo_component_move</th>\n",
       "      <th>cf_cab_review</th>\n",
       "      <th>cf_colo_site</th>\n",
       "      <th>cf_crash_signature</th>\n",
       "      <th>cf_data_science_status</th>\n",
       "      <th>cf_due_date</th>\n",
       "      <th>cf_firefox_messaging_system</th>\n",
       "      <th>cf_fission_milestone</th>\n",
       "      <th>cf_fx_iteration</th>\n",
       "      <th>cf_fx_points</th>\n",
       "      <th>cf_has_regression_range</th>\n",
       "      <th>cf_has_str</th>\n",
       "      <th>cf_last_resolved</th>\n",
       "      <th>cf_locale</th>\n",
       "      <th>cf_platform_rel</th>\n",
       "      <th>cf_qa_whiteboard</th>\n",
       "      <th>cf_rank</th>\n",
       "      <th>cf_status_conduit_push</th>\n",
       "      <th>cf_status_firefox25</th>\n",
       "      <th>cf_status_firefox26</th>\n",
       "      <th>cf_status_firefox27</th>\n",
       "      <th>cf_status_firefox28</th>\n",
       "      <th>cf_status_firefox29</th>\n",
       "      <th>cf_status_firefox33</th>\n",
       "      <th>cf_status_firefox34</th>\n",
       "      <th>cf_status_firefox40</th>\n",
       "      <th>cf_status_firefox41</th>\n",
       "      <th>cf_status_firefox42</th>\n",
       "      <th>cf_status_firefox43</th>\n",
       "      <th>cf_status_firefox44</th>\n",
       "      <th>cf_status_firefox45</th>\n",
       "      <th>cf_status_firefox46</th>\n",
       "      <th>cf_status_firefox47</th>\n",
       "      <th>cf_status_firefox48</th>\n",
       "      <th>cf_status_firefox49</th>\n",
       "      <th>cf_status_firefox50</th>\n",
       "      <th>cf_status_firefox51</th>\n",
       "      <th>cf_status_firefox52</th>\n",
       "      <th>cf_status_firefox53</th>\n",
       "      <th>cf_status_firefox54</th>\n",
       "      <th>cf_status_firefox55</th>\n",
       "      <th>cf_status_firefox56</th>\n",
       "      <th>cf_status_firefox57</th>\n",
       "      <th>cf_status_firefox58</th>\n",
       "      <th>cf_status_firefox59</th>\n",
       "      <th>cf_status_firefox60</th>\n",
       "      <th>cf_status_firefox61</th>\n",
       "      <th>cf_status_firefox62</th>\n",
       "      <th>cf_status_firefox63</th>\n",
       "      <th>cf_status_firefox64</th>\n",
       "      <th>cf_status_firefox65</th>\n",
       "      <th>cf_status_firefox66</th>\n",
       "      <th>cf_status_firefox67</th>\n",
       "      <th>cf_status_firefox67_0_1</th>\n",
       "      <th>cf_status_firefox68</th>\n",
       "      <th>cf_status_firefox69</th>\n",
       "      <th>cf_status_firefox70</th>\n",
       "      <th>cf_status_firefox_esr52</th>\n",
       "      <th>cf_status_firefox_esr60</th>\n",
       "      <th>cf_status_firefox_esr68</th>\n",
       "      <th>cf_status_fxios_v11_0</th>\n",
       "      <th>cf_status_fxios_v11_1</th>\n",
       "      <th>cf_status_fxios_v12_0</th>\n",
       "      <th>cf_status_fxios_v12_1</th>\n",
       "      <th>cf_status_fxios_v12_2</th>\n",
       "      <th>cf_status_fxios_v13_0</th>\n",
       "      <th>cf_status_fxios_v13_1</th>\n",
       "      <th>cf_status_fxios_v13_2</th>\n",
       "      <th>cf_status_fxios_v13_3</th>\n",
       "      <th>cf_status_fxios_v14_0</th>\n",
       "      <th>cf_status_fxios_v14_1</th>\n",
       "      <th>cf_status_fxios_v14_2</th>\n",
       "      <th>cf_status_fxios_v14_3</th>\n",
       "      <th>cf_status_fxios_v15_0</th>\n",
       "      <th>cf_status_fxios_v15_1</th>\n",
       "      <th>cf_status_fxios_v16_0</th>\n",
       "      <th>cf_status_geckoview62</th>\n",
       "      <th>cf_status_geckoview66</th>\n",
       "      <th>cf_status_seamonkey21</th>\n",
       "      <th>cf_status_seamonkey210</th>\n",
       "      <th>cf_status_seamonkey211</th>\n",
       "      <th>cf_status_seamonkey249</th>\n",
       "      <th>cf_status_seamonkey253</th>\n",
       "      <th>cf_status_seamonkey256</th>\n",
       "      <th>cf_status_seamonkey257esr</th>\n",
       "      <th>cf_status_seamonkey258</th>\n",
       "      <th>cf_status_seamonkey259</th>\n",
       "      <th>cf_status_seamonkey263</th>\n",
       "      <th>cf_status_thunderbird_59</th>\n",
       "      <th>cf_status_thunderbird_60</th>\n",
       "      <th>cf_status_thunderbird_61</th>\n",
       "      <th>cf_status_thunderbird_62</th>\n",
       "      <th>cf_status_thunderbird_63</th>\n",
       "      <th>cf_status_thunderbird_64</th>\n",
       "      <th>cf_status_thunderbird_65</th>\n",
       "      <th>cf_status_thunderbird_66</th>\n",
       "      <th>cf_status_thunderbird_67</th>\n",
       "      <th>cf_status_thunderbird_68</th>\n",
       "      <th>cf_status_thunderbird_69</th>\n",
       "      <th>cf_status_thunderbird_70</th>\n",
       "      <th>cf_status_thunderbird_esr60</th>\n",
       "      <th>cf_status_thunderbird_esr68</th>\n",
       "      <th>cf_tracking_bmo_push</th>\n",
       "      <th>cf_tracking_conduit_push</th>\n",
       "      <th>cf_tracking_e10s</th>\n",
       "      <th>cf_tracking_firefox30</th>\n",
       "      <th>cf_tracking_firefox31</th>\n",
       "      <th>cf_tracking_firefox45</th>\n",
       "      <th>cf_tracking_firefox46</th>\n",
       "      <th>cf_tracking_firefox47</th>\n",
       "      <th>cf_tracking_firefox50</th>\n",
       "      <th>cf_tracking_firefox51</th>\n",
       "      <th>cf_tracking_firefox52</th>\n",
       "      <th>cf_tracking_firefox53</th>\n",
       "      <th>cf_tracking_firefox61</th>\n",
       "      <th>cf_tracking_firefox63</th>\n",
       "      <th>cf_tracking_firefox64</th>\n",
       "      <th>cf_tracking_firefox65</th>\n",
       "      <th>cf_tracking_firefox66</th>\n",
       "      <th>cf_tracking_firefox67</th>\n",
       "      <th>cf_tracking_firefox68</th>\n",
       "      <th>cf_tracking_firefox69</th>\n",
       "      <th>cf_tracking_firefox70</th>\n",
       "      <th>cf_tracking_firefox_esr60</th>\n",
       "      <th>cf_tracking_firefox_esr68</th>\n",
       "      <th>cf_tracking_firefox_relnote</th>\n",
       "      <th>cf_tracking_fxios</th>\n",
       "      <th>cf_tracking_geckoview62</th>\n",
       "      <th>cf_tracking_seamonkey249</th>\n",
       "      <th>cf_tracking_seamonkey253</th>\n",
       "      <th>cf_tracking_seamonkey257esr</th>\n",
       "      <th>cf_tracking_seamonkey263</th>\n",
       "      <th>cf_tracking_thunderbird_59</th>\n",
       "      <th>cf_tracking_thunderbird_60</th>\n",
       "      <th>cf_tracking_thunderbird_61</th>\n",
       "      <th>cf_tracking_thunderbird_62</th>\n",
       "      <th>cf_tracking_thunderbird_63</th>\n",
       "      <th>cf_tracking_thunderbird_64</th>\n",
       "      <th>cf_tracking_thunderbird_65</th>\n",
       "      <th>cf_tracking_thunderbird_66</th>\n",
       "      <th>cf_tracking_thunderbird_67</th>\n",
       "      <th>cf_tracking_thunderbird_68</th>\n",
       "      <th>cf_tracking_thunderbird_69</th>\n",
       "      <th>cf_tracking_thunderbird_70</th>\n",
       "      <th>cf_tracking_thunderbird_esr60</th>\n",
       "      <th>cf_tracking_thunderbird_esr68</th>\n",
       "      <th>cf_user_story</th>\n",
       "      <th>cf_webcompat_priority</th>\n",
       "      <th>classification</th>\n",
       "      <th>comment_count</th>\n",
       "      <th>component</th>\n",
       "      <th>creation_time</th>\n",
       "      <th>creator</th>\n",
       "      <th>creator_detail</th>\n",
       "      <th>depends_on</th>\n",
       "      <th>dupe_of</th>\n",
       "      <th>duplicates</th>\n",
       "      <th>flags</th>\n",
       "      <th>groups</th>\n",
       "      <th>id</th>\n",
       "      <th>is_cc_accessible</th>\n",
       "      <th>is_confirmed</th>\n",
       "      <th>is_creator_accessible</th>\n",
       "      <th>is_open</th>\n",
       "      <th>keywords</th>\n",
       "      <th>last_change_time</th>\n",
       "      <th>mentors</th>\n",
       "      <th>mentors_detail</th>\n",
       "      <th>op_sys</th>\n",
       "      <th>platform</th>\n",
       "      <th>priority</th>\n",
       "      <th>product</th>\n",
       "      <th>qa_contact</th>\n",
       "      <th>qa_contact_detail</th>\n",
       "      <th>regressed_by</th>\n",
       "      <th>regressions</th>\n",
       "      <th>resolution</th>\n",
       "      <th>see_also</th>\n",
       "      <th>severity</th>\n",
       "      <th>status</th>\n",
       "      <th>summary</th>\n",
       "      <th>target_milestone</th>\n",
       "      <th>type</th>\n",
       "      <th>url</th>\n",
       "      <th>version</th>\n",
       "      <th>votes</th>\n",
       "      <th>whiteboard</th>\n",
       "    </tr>\n",
       "  </thead>\n",
       "  <tbody>\n",
       "    <tr>\n",
       "      <th>0</th>\n",
       "      <td>NaN</td>\n",
       "      <td>nobody@mozilla.org</td>\n",
       "      <td>{'email': 'nobody@mozilla.org', 'real_name': '...</td>\n",
       "      <td>10276, 104166</td>\n",
       "      <td>['amanforindia@gmail.com', 'andrewm715+bugzill...</td>\n",
       "      <td>[{'email': 'amanforindia@gmail.com', 'real_nam...</td>\n",
       "      <td>NaN</td>\n",
       "      <td>NaN</td>\n",
       "      <td>NaN</td>\n",
       "      <td>NaN</td>\n",
       "      <td>NaN</td>\n",
       "      <td>NaN</td>\n",
       "      <td>NaN</td>\n",
       "      <td>NaN</td>\n",
       "      <td>NaN</td>\n",
       "      <td>NaN</td>\n",
       "      <td>NaN</td>\n",
       "      <td>NaN</td>\n",
       "      <td>NaN</td>\n",
       "      <td>---</td>\n",
       "      <td>---</td>\n",
       "      <td>---</td>\n",
       "      <td>---</td>\n",
       "      <td>---</td>\n",
       "      <td>NaN</td>\n",
       "      <td>NaN</td>\n",
       "      <td>NaN</td>\n",
       "      <td>NaN</td>\n",
       "      <td>NaN</td>\n",
       "      <td>NaN</td>\n",
       "      <td>NaN</td>\n",
       "      <td>NaN</td>\n",
       "      <td>NaN</td>\n",
       "      <td>NaN</td>\n",
       "      <td>NaN</td>\n",
       "      <td>NaN</td>\n",
       "      <td>NaN</td>\n",
       "      <td>NaN</td>\n",
       "      <td>NaN</td>\n",
       "      <td>NaN</td>\n",
       "      <td>NaN</td>\n",
       "      <td>NaN</td>\n",
       "      <td>NaN</td>\n",
       "      <td>NaN</td>\n",
       "      <td>NaN</td>\n",
       "      <td>NaN</td>\n",
       "      <td>NaN</td>\n",
       "      <td>NaN</td>\n",
       "      <td>NaN</td>\n",
       "      <td>NaN</td>\n",
       "      <td>NaN</td>\n",
       "      <td>NaN</td>\n",
       "      <td>NaN</td>\n",
       "      <td>NaN</td>\n",
       "      <td>NaN</td>\n",
       "      <td>NaN</td>\n",
       "      <td>NaN</td>\n",
       "      <td>NaN</td>\n",
       "      <td>NaN</td>\n",
       "      <td>NaN</td>\n",
       "      <td>NaN</td>\n",
       "      <td>NaN</td>\n",
       "      <td>NaN</td>\n",
       "      <td>NaN</td>\n",
       "      <td>NaN</td>\n",
       "      <td>NaN</td>\n",
       "      <td>---</td>\n",
       "      <td>---</td>\n",
       "      <td>---</td>\n",
       "      <td>NaN</td>\n",
       "      <td>---</td>\n",
       "      <td>---</td>\n",
       "      <td>NaN</td>\n",
       "      <td>NaN</td>\n",
       "      <td>NaN</td>\n",
       "      <td>NaN</td>\n",
       "      <td>NaN</td>\n",
       "      <td>NaN</td>\n",
       "      <td>NaN</td>\n",
       "      <td>NaN</td>\n",
       "      <td>NaN</td>\n",
       "      <td>NaN</td>\n",
       "      <td>NaN</td>\n",
       "      <td>NaN</td>\n",
       "      <td>NaN</td>\n",
       "      <td>NaN</td>\n",
       "      <td>NaN</td>\n",
       "      <td>NaN</td>\n",
       "      <td>NaN</td>\n",
       "      <td>NaN</td>\n",
       "      <td>NaN</td>\n",
       "      <td>NaN</td>\n",
       "      <td>NaN</td>\n",
       "      <td>NaN</td>\n",
       "      <td>NaN</td>\n",
       "      <td>NaN</td>\n",
       "      <td>NaN</td>\n",
       "      <td>NaN</td>\n",
       "      <td>NaN</td>\n",
       "      <td>NaN</td>\n",
       "      <td>NaN</td>\n",
       "      <td>NaN</td>\n",
       "      <td>NaN</td>\n",
       "      <td>NaN</td>\n",
       "      <td>NaN</td>\n",
       "      <td>NaN</td>\n",
       "      <td>NaN</td>\n",
       "      <td>NaN</td>\n",
       "      <td>NaN</td>\n",
       "      <td>NaN</td>\n",
       "      <td>NaN</td>\n",
       "      <td>NaN</td>\n",
       "      <td>---</td>\n",
       "      <td>---</td>\n",
       "      <td>NaN</td>\n",
       "      <td>NaN</td>\n",
       "      <td>NaN</td>\n",
       "      <td>NaN</td>\n",
       "      <td>NaN</td>\n",
       "      <td>NaN</td>\n",
       "      <td>NaN</td>\n",
       "      <td>NaN</td>\n",
       "      <td>NaN</td>\n",
       "      <td>NaN</td>\n",
       "      <td>NaN</td>\n",
       "      <td>NaN</td>\n",
       "      <td>NaN</td>\n",
       "      <td>NaN</td>\n",
       "      <td>NaN</td>\n",
       "      <td>NaN</td>\n",
       "      <td>NaN</td>\n",
       "      <td>NaN</td>\n",
       "      <td>---</td>\n",
       "      <td>---</td>\n",
       "      <td>---</td>\n",
       "      <td>---</td>\n",
       "      <td>---</td>\n",
       "      <td>---</td>\n",
       "      <td>NaN</td>\n",
       "      <td>NaN</td>\n",
       "      <td>NaN</td>\n",
       "      <td>NaN</td>\n",
       "      <td>NaN</td>\n",
       "      <td>NaN</td>\n",
       "      <td>NaN</td>\n",
       "      <td>NaN</td>\n",
       "      <td>NaN</td>\n",
       "      <td>NaN</td>\n",
       "      <td>NaN</td>\n",
       "      <td>NaN</td>\n",
       "      <td>NaN</td>\n",
       "      <td>NaN</td>\n",
       "      <td>NaN</td>\n",
       "      <td>NaN</td>\n",
       "      <td>NaN</td>\n",
       "      <td>NaN</td>\n",
       "      <td>---</td>\n",
       "      <td>---</td>\n",
       "      <td>NaN</td>\n",
       "      <td>---</td>\n",
       "      <td>Components</td>\n",
       "      <td>95</td>\n",
       "      <td>Networking: HTTP</td>\n",
       "      <td>1998-04-23T14:00:00Z</td>\n",
       "      <td>erik@vanderpoel.org</td>\n",
       "      <td>{'email': 'erik@vanderpoel.org', 'real_name': ...</td>\n",
       "      <td>20400, 88217, 127872</td>\n",
       "      <td>NaN</td>\n",
       "      <td>150580, 269519, 336734, 472127, 718596, 798856</td>\n",
       "      <td>[]</td>\n",
       "      <td>[]</td>\n",
       "      <td>2875</td>\n",
       "      <td>True</td>\n",
       "      <td>True</td>\n",
       "      <td>True</td>\n",
       "      <td>True</td>\n",
       "      <td>[]</td>\n",
       "      <td>2018-11-25T22:40:53Z</td>\n",
       "      <td>[]</td>\n",
       "      <td>[]</td>\n",
       "      <td>Other</td>\n",
       "      <td>All</td>\n",
       "      <td>P3</td>\n",
       "      <td>Core</td>\n",
       "      <td>NaN</td>\n",
       "      <td>NaN</td>\n",
       "      <td>[]</td>\n",
       "      <td>[]</td>\n",
       "      <td>NaN</td>\n",
       "      <td>[]</td>\n",
       "      <td>normal</td>\n",
       "      <td>NEW</td>\n",
       "      <td>Proxy: map HTTP 500 errors to necko errors (so...</td>\n",
       "      <td>Future</td>\n",
       "      <td>enhancement</td>\n",
       "      <td>NaN</td>\n",
       "      <td>Trunk</td>\n",
       "      <td>13</td>\n",
       "      <td>[PDT-][necko-backlog]</td>\n",
       "    </tr>\n",
       "    <tr>\n",
       "      <th>1</th>\n",
       "      <td>NaN</td>\n",
       "      <td>nobody@mozilla.org</td>\n",
       "      <td>{'email': 'nobody@mozilla.org', 'real_name': '...</td>\n",
       "      <td>36557</td>\n",
       "      <td>['klonos@gmail.com', 'leif@ogre.com', 'martin....</td>\n",
       "      <td>[{'email': 'klonos@gmail.com', 'real_name': 'k...</td>\n",
       "      <td>NaN</td>\n",
       "      <td>NaN</td>\n",
       "      <td>NaN</td>\n",
       "      <td>NaN</td>\n",
       "      <td>NaN</td>\n",
       "      <td>NaN</td>\n",
       "      <td>NaN</td>\n",
       "      <td>NaN</td>\n",
       "      <td>NaN</td>\n",
       "      <td>NaN</td>\n",
       "      <td>NaN</td>\n",
       "      <td>NaN</td>\n",
       "      <td>NaN</td>\n",
       "      <td>NaN</td>\n",
       "      <td>---</td>\n",
       "      <td>---</td>\n",
       "      <td>NaN</td>\n",
       "      <td>NaN</td>\n",
       "      <td>NaN</td>\n",
       "      <td>NaN</td>\n",
       "      <td>NaN</td>\n",
       "      <td>NaN</td>\n",
       "      <td>NaN</td>\n",
       "      <td>NaN</td>\n",
       "      <td>NaN</td>\n",
       "      <td>NaN</td>\n",
       "      <td>NaN</td>\n",
       "      <td>NaN</td>\n",
       "      <td>NaN</td>\n",
       "      <td>NaN</td>\n",
       "      <td>NaN</td>\n",
       "      <td>NaN</td>\n",
       "      <td>NaN</td>\n",
       "      <td>NaN</td>\n",
       "      <td>NaN</td>\n",
       "      <td>NaN</td>\n",
       "      <td>NaN</td>\n",
       "      <td>NaN</td>\n",
       "      <td>NaN</td>\n",
       "      <td>NaN</td>\n",
       "      <td>NaN</td>\n",
       "      <td>NaN</td>\n",
       "      <td>NaN</td>\n",
       "      <td>NaN</td>\n",
       "      <td>NaN</td>\n",
       "      <td>NaN</td>\n",
       "      <td>NaN</td>\n",
       "      <td>NaN</td>\n",
       "      <td>NaN</td>\n",
       "      <td>NaN</td>\n",
       "      <td>NaN</td>\n",
       "      <td>NaN</td>\n",
       "      <td>NaN</td>\n",
       "      <td>NaN</td>\n",
       "      <td>NaN</td>\n",
       "      <td>NaN</td>\n",
       "      <td>NaN</td>\n",
       "      <td>NaN</td>\n",
       "      <td>NaN</td>\n",
       "      <td>NaN</td>\n",
       "      <td>NaN</td>\n",
       "      <td>NaN</td>\n",
       "      <td>NaN</td>\n",
       "      <td>NaN</td>\n",
       "      <td>NaN</td>\n",
       "      <td>NaN</td>\n",
       "      <td>NaN</td>\n",
       "      <td>NaN</td>\n",
       "      <td>NaN</td>\n",
       "      <td>NaN</td>\n",
       "      <td>NaN</td>\n",
       "      <td>NaN</td>\n",
       "      <td>NaN</td>\n",
       "      <td>NaN</td>\n",
       "      <td>NaN</td>\n",
       "      <td>NaN</td>\n",
       "      <td>NaN</td>\n",
       "      <td>NaN</td>\n",
       "      <td>NaN</td>\n",
       "      <td>NaN</td>\n",
       "      <td>NaN</td>\n",
       "      <td>NaN</td>\n",
       "      <td>NaN</td>\n",
       "      <td>NaN</td>\n",
       "      <td>NaN</td>\n",
       "      <td>NaN</td>\n",
       "      <td>NaN</td>\n",
       "      <td>---</td>\n",
       "      <td>---</td>\n",
       "      <td>NaN</td>\n",
       "      <td>---</td>\n",
       "      <td>NaN</td>\n",
       "      <td>NaN</td>\n",
       "      <td>---</td>\n",
       "      <td>NaN</td>\n",
       "      <td>---</td>\n",
       "      <td>---</td>\n",
       "      <td>---</td>\n",
       "      <td>---</td>\n",
       "      <td>---</td>\n",
       "      <td>---</td>\n",
       "      <td>---</td>\n",
       "      <td>---</td>\n",
       "      <td>---</td>\n",
       "      <td>---</td>\n",
       "      <td>---</td>\n",
       "      <td>---</td>\n",
       "      <td>---</td>\n",
       "      <td>NaN</td>\n",
       "      <td>NaN</td>\n",
       "      <td>NaN</td>\n",
       "      <td>NaN</td>\n",
       "      <td>NaN</td>\n",
       "      <td>NaN</td>\n",
       "      <td>NaN</td>\n",
       "      <td>NaN</td>\n",
       "      <td>NaN</td>\n",
       "      <td>NaN</td>\n",
       "      <td>NaN</td>\n",
       "      <td>NaN</td>\n",
       "      <td>NaN</td>\n",
       "      <td>NaN</td>\n",
       "      <td>NaN</td>\n",
       "      <td>NaN</td>\n",
       "      <td>NaN</td>\n",
       "      <td>NaN</td>\n",
       "      <td>NaN</td>\n",
       "      <td>NaN</td>\n",
       "      <td>NaN</td>\n",
       "      <td>NaN</td>\n",
       "      <td>NaN</td>\n",
       "      <td>---</td>\n",
       "      <td>NaN</td>\n",
       "      <td>NaN</td>\n",
       "      <td>---</td>\n",
       "      <td>---</td>\n",
       "      <td>---</td>\n",
       "      <td>---</td>\n",
       "      <td>NaN</td>\n",
       "      <td>---</td>\n",
       "      <td>---</td>\n",
       "      <td>---</td>\n",
       "      <td>---</td>\n",
       "      <td>---</td>\n",
       "      <td>---</td>\n",
       "      <td>---</td>\n",
       "      <td>---</td>\n",
       "      <td>---</td>\n",
       "      <td>---</td>\n",
       "      <td>---</td>\n",
       "      <td>---</td>\n",
       "      <td>---</td>\n",
       "      <td>NaN</td>\n",
       "      <td>NaN</td>\n",
       "      <td>Components</td>\n",
       "      <td>16</td>\n",
       "      <td>LDAP Integration</td>\n",
       "      <td>1999-02-04T21:59:11Z</td>\n",
       "      <td>lchiang@formerly-netscape.com.tld</td>\n",
       "      <td>{'email': 'lchiang@formerly-netscape.com.tld',...</td>\n",
       "      <td>87717</td>\n",
       "      <td>NaN</td>\n",
       "      <td>NaN</td>\n",
       "      <td>[{'modification_date': '2008-04-25T16:59:05Z',...</td>\n",
       "      <td>[]</td>\n",
       "      <td>2892</td>\n",
       "      <td>True</td>\n",
       "      <td>True</td>\n",
       "      <td>True</td>\n",
       "      <td>True</td>\n",
       "      <td>['helpwanted']</td>\n",
       "      <td>2011-08-24T23:42:38Z</td>\n",
       "      <td>[]</td>\n",
       "      <td>[]</td>\n",
       "      <td>All</td>\n",
       "      <td>All</td>\n",
       "      <td>--</td>\n",
       "      <td>MailNews Core</td>\n",
       "      <td>NaN</td>\n",
       "      <td>NaN</td>\n",
       "      <td>[]</td>\n",
       "      <td>[]</td>\n",
       "      <td>NaN</td>\n",
       "      <td>[]</td>\n",
       "      <td>normal</td>\n",
       "      <td>NEW</td>\n",
       "      <td>[LDAP] Access to a local LDAP server in Off-Li...</td>\n",
       "      <td>---</td>\n",
       "      <td>enhancement</td>\n",
       "      <td>NaN</td>\n",
       "      <td>Trunk</td>\n",
       "      <td>4</td>\n",
       "      <td>NaN</td>\n",
       "    </tr>\n",
       "  </tbody>\n",
       "</table>\n",
       "</div>"
      ],
      "text/plain": [
       "  alias         assigned_to  \\\n",
       "0   NaN  nobody@mozilla.org   \n",
       "1   NaN  nobody@mozilla.org   \n",
       "\n",
       "                                  assigned_to_detail         blocks  \\\n",
       "0  {'email': 'nobody@mozilla.org', 'real_name': '...  10276, 104166   \n",
       "1  {'email': 'nobody@mozilla.org', 'real_name': '...          36557   \n",
       "\n",
       "                                                  cc  \\\n",
       "0  ['amanforindia@gmail.com', 'andrewm715+bugzill...   \n",
       "1  ['klonos@gmail.com', 'leif@ogre.com', 'martin....   \n",
       "\n",
       "                                           cc_detail cf_backlog  \\\n",
       "0  [{'email': 'amanforindia@gmail.com', 'real_nam...        NaN   \n",
       "1  [{'email': 'klonos@gmail.com', 'real_name': 'k...        NaN   \n",
       "\n",
       "  cf_blocking_20 cf_blocking_fennec cf_blocking_seamonkey21  \\\n",
       "0            NaN                NaN                     NaN   \n",
       "1            NaN                NaN                     NaN   \n",
       "\n",
       "  cf_blocking_thunderbird31 cf_blocking_webextensions cf_bmo_component_move  \\\n",
       "0                       NaN                       NaN                   NaN   \n",
       "1                       NaN                       NaN                   NaN   \n",
       "\n",
       "  cf_cab_review cf_colo_site cf_crash_signature cf_data_science_status  \\\n",
       "0           NaN          NaN                NaN                    NaN   \n",
       "1           NaN          NaN                NaN                    NaN   \n",
       "\n",
       "  cf_due_date cf_firefox_messaging_system cf_fission_milestone  \\\n",
       "0         NaN                         NaN                  ---   \n",
       "1         NaN                         NaN                  NaN   \n",
       "\n",
       "  cf_fx_iteration cf_fx_points cf_has_regression_range cf_has_str  \\\n",
       "0             ---          ---                     ---        ---   \n",
       "1             ---          ---                     NaN        NaN   \n",
       "\n",
       "  cf_last_resolved cf_locale cf_platform_rel cf_qa_whiteboard  cf_rank  \\\n",
       "0              NaN       NaN             NaN              NaN      NaN   \n",
       "1              NaN       NaN             NaN              NaN      NaN   \n",
       "\n",
       "  cf_status_conduit_push cf_status_firefox25 cf_status_firefox26  \\\n",
       "0                    NaN                 NaN                 NaN   \n",
       "1                    NaN                 NaN                 NaN   \n",
       "\n",
       "  cf_status_firefox27 cf_status_firefox28 cf_status_firefox29  \\\n",
       "0                 NaN                 NaN                 NaN   \n",
       "1                 NaN                 NaN                 NaN   \n",
       "\n",
       "  cf_status_firefox33 cf_status_firefox34 cf_status_firefox40  \\\n",
       "0                 NaN                 NaN                 NaN   \n",
       "1                 NaN                 NaN                 NaN   \n",
       "\n",
       "  cf_status_firefox41 cf_status_firefox42 cf_status_firefox43  \\\n",
       "0                 NaN                 NaN                 NaN   \n",
       "1                 NaN                 NaN                 NaN   \n",
       "\n",
       "  cf_status_firefox44 cf_status_firefox45 cf_status_firefox46  \\\n",
       "0                 NaN                 NaN                 NaN   \n",
       "1                 NaN                 NaN                 NaN   \n",
       "\n",
       "  cf_status_firefox47 cf_status_firefox48 cf_status_firefox49  \\\n",
       "0                 NaN                 NaN                 NaN   \n",
       "1                 NaN                 NaN                 NaN   \n",
       "\n",
       "  cf_status_firefox50 cf_status_firefox51 cf_status_firefox52  \\\n",
       "0                 NaN                 NaN                 NaN   \n",
       "1                 NaN                 NaN                 NaN   \n",
       "\n",
       "  cf_status_firefox53 cf_status_firefox54 cf_status_firefox55  \\\n",
       "0                 NaN                 NaN                 NaN   \n",
       "1                 NaN                 NaN                 NaN   \n",
       "\n",
       "  cf_status_firefox56 cf_status_firefox57 cf_status_firefox58  \\\n",
       "0                 NaN                 NaN                 NaN   \n",
       "1                 NaN                 NaN                 NaN   \n",
       "\n",
       "  cf_status_firefox59 cf_status_firefox60 cf_status_firefox61  \\\n",
       "0                 NaN                 NaN                 NaN   \n",
       "1                 NaN                 NaN                 NaN   \n",
       "\n",
       "  cf_status_firefox62 cf_status_firefox63 cf_status_firefox64  \\\n",
       "0                 NaN                 NaN                 NaN   \n",
       "1                 NaN                 NaN                 NaN   \n",
       "\n",
       "  cf_status_firefox65 cf_status_firefox66 cf_status_firefox67  \\\n",
       "0                 NaN                 NaN                 NaN   \n",
       "1                 NaN                 NaN                 NaN   \n",
       "\n",
       "  cf_status_firefox67_0_1 cf_status_firefox68 cf_status_firefox69  \\\n",
       "0                     NaN                 ---                 ---   \n",
       "1                     NaN                 NaN                 NaN   \n",
       "\n",
       "  cf_status_firefox70 cf_status_firefox_esr52 cf_status_firefox_esr60  \\\n",
       "0                 ---                     NaN                     ---   \n",
       "1                 NaN                     NaN                     NaN   \n",
       "\n",
       "  cf_status_firefox_esr68 cf_status_fxios_v11_0 cf_status_fxios_v11_1  \\\n",
       "0                     ---                   NaN                   NaN   \n",
       "1                     NaN                   NaN                   NaN   \n",
       "\n",
       "  cf_status_fxios_v12_0 cf_status_fxios_v12_1 cf_status_fxios_v12_2  \\\n",
       "0                   NaN                   NaN                   NaN   \n",
       "1                   NaN                   NaN                   NaN   \n",
       "\n",
       "  cf_status_fxios_v13_0 cf_status_fxios_v13_1 cf_status_fxios_v13_2  \\\n",
       "0                   NaN                   NaN                   NaN   \n",
       "1                   NaN                   NaN                   NaN   \n",
       "\n",
       "  cf_status_fxios_v13_3 cf_status_fxios_v14_0 cf_status_fxios_v14_1  \\\n",
       "0                   NaN                   NaN                   NaN   \n",
       "1                   NaN                   NaN                   NaN   \n",
       "\n",
       "  cf_status_fxios_v14_2 cf_status_fxios_v14_3 cf_status_fxios_v15_0  \\\n",
       "0                   NaN                   NaN                   NaN   \n",
       "1                   NaN                   NaN                   NaN   \n",
       "\n",
       "  cf_status_fxios_v15_1 cf_status_fxios_v16_0 cf_status_geckoview62  \\\n",
       "0                   NaN                   NaN                   NaN   \n",
       "1                   NaN                   NaN                   NaN   \n",
       "\n",
       "  cf_status_geckoview66 cf_status_seamonkey21 cf_status_seamonkey210  \\\n",
       "0                   NaN                   NaN                    NaN   \n",
       "1                   NaN                   NaN                    NaN   \n",
       "\n",
       "  cf_status_seamonkey211 cf_status_seamonkey249 cf_status_seamonkey253  \\\n",
       "0                    NaN                    NaN                    NaN   \n",
       "1                    NaN                    ---                    ---   \n",
       "\n",
       "  cf_status_seamonkey256 cf_status_seamonkey257esr cf_status_seamonkey258  \\\n",
       "0                    NaN                       NaN                    NaN   \n",
       "1                    NaN                       ---                    NaN   \n",
       "\n",
       "  cf_status_seamonkey259 cf_status_seamonkey263 cf_status_thunderbird_59  \\\n",
       "0                    NaN                    NaN                      NaN   \n",
       "1                    NaN                    ---                      NaN   \n",
       "\n",
       "  cf_status_thunderbird_60 cf_status_thunderbird_61 cf_status_thunderbird_62  \\\n",
       "0                      NaN                      NaN                      NaN   \n",
       "1                      ---                      ---                      ---   \n",
       "\n",
       "  cf_status_thunderbird_63 cf_status_thunderbird_64 cf_status_thunderbird_65  \\\n",
       "0                      NaN                      NaN                      NaN   \n",
       "1                      ---                      ---                      ---   \n",
       "\n",
       "  cf_status_thunderbird_66 cf_status_thunderbird_67 cf_status_thunderbird_68  \\\n",
       "0                      NaN                      NaN                      NaN   \n",
       "1                      ---                      ---                      ---   \n",
       "\n",
       "  cf_status_thunderbird_69 cf_status_thunderbird_70  \\\n",
       "0                      NaN                      NaN   \n",
       "1                      ---                      ---   \n",
       "\n",
       "  cf_status_thunderbird_esr60 cf_status_thunderbird_esr68  \\\n",
       "0                         ---                         ---   \n",
       "1                         ---                         ---   \n",
       "\n",
       "  cf_tracking_bmo_push cf_tracking_conduit_push cf_tracking_e10s  \\\n",
       "0                  NaN                      NaN              NaN   \n",
       "1                  NaN                      NaN              NaN   \n",
       "\n",
       "  cf_tracking_firefox30 cf_tracking_firefox31 cf_tracking_firefox45  \\\n",
       "0                   NaN                   NaN                   NaN   \n",
       "1                   NaN                   NaN                   NaN   \n",
       "\n",
       "  cf_tracking_firefox46 cf_tracking_firefox47 cf_tracking_firefox50  \\\n",
       "0                   NaN                   NaN                   NaN   \n",
       "1                   NaN                   NaN                   NaN   \n",
       "\n",
       "  cf_tracking_firefox51 cf_tracking_firefox52 cf_tracking_firefox53  \\\n",
       "0                   NaN                   NaN                   NaN   \n",
       "1                   NaN                   NaN                   NaN   \n",
       "\n",
       "  cf_tracking_firefox61 cf_tracking_firefox63 cf_tracking_firefox64  \\\n",
       "0                   NaN                   NaN                   NaN   \n",
       "1                   NaN                   NaN                   NaN   \n",
       "\n",
       "  cf_tracking_firefox65 cf_tracking_firefox66 cf_tracking_firefox67  \\\n",
       "0                   NaN                   NaN                   NaN   \n",
       "1                   NaN                   NaN                   NaN   \n",
       "\n",
       "  cf_tracking_firefox68 cf_tracking_firefox69 cf_tracking_firefox70  \\\n",
       "0                   ---                   ---                   ---   \n",
       "1                   NaN                   NaN                   NaN   \n",
       "\n",
       "  cf_tracking_firefox_esr60 cf_tracking_firefox_esr68  \\\n",
       "0                       ---                       ---   \n",
       "1                       NaN                       NaN   \n",
       "\n",
       "  cf_tracking_firefox_relnote cf_tracking_fxios cf_tracking_geckoview62  \\\n",
       "0                         ---               NaN                     NaN   \n",
       "1                         ---               NaN                     NaN   \n",
       "\n",
       "  cf_tracking_seamonkey249 cf_tracking_seamonkey253  \\\n",
       "0                      NaN                      NaN   \n",
       "1                      ---                      ---   \n",
       "\n",
       "  cf_tracking_seamonkey257esr cf_tracking_seamonkey263  \\\n",
       "0                         NaN                      NaN   \n",
       "1                         ---                      ---   \n",
       "\n",
       "  cf_tracking_thunderbird_59 cf_tracking_thunderbird_60  \\\n",
       "0                        NaN                        NaN   \n",
       "1                        NaN                        ---   \n",
       "\n",
       "  cf_tracking_thunderbird_61 cf_tracking_thunderbird_62  \\\n",
       "0                        NaN                        NaN   \n",
       "1                        ---                        ---   \n",
       "\n",
       "  cf_tracking_thunderbird_63 cf_tracking_thunderbird_64  \\\n",
       "0                        NaN                        NaN   \n",
       "1                        ---                        ---   \n",
       "\n",
       "  cf_tracking_thunderbird_65 cf_tracking_thunderbird_66  \\\n",
       "0                        NaN                        NaN   \n",
       "1                        ---                        ---   \n",
       "\n",
       "  cf_tracking_thunderbird_67 cf_tracking_thunderbird_68  \\\n",
       "0                        NaN                        NaN   \n",
       "1                        ---                        ---   \n",
       "\n",
       "  cf_tracking_thunderbird_69 cf_tracking_thunderbird_70  \\\n",
       "0                        NaN                        NaN   \n",
       "1                        ---                        ---   \n",
       "\n",
       "  cf_tracking_thunderbird_esr60 cf_tracking_thunderbird_esr68 cf_user_story  \\\n",
       "0                           ---                           ---           NaN   \n",
       "1                           ---                           ---           NaN   \n",
       "\n",
       "  cf_webcompat_priority classification  comment_count         component  \\\n",
       "0                   ---     Components             95  Networking: HTTP   \n",
       "1                   NaN     Components             16  LDAP Integration   \n",
       "\n",
       "          creation_time                            creator  \\\n",
       "0  1998-04-23T14:00:00Z                erik@vanderpoel.org   \n",
       "1  1999-02-04T21:59:11Z  lchiang@formerly-netscape.com.tld   \n",
       "\n",
       "                                      creator_detail            depends_on  \\\n",
       "0  {'email': 'erik@vanderpoel.org', 'real_name': ...  20400, 88217, 127872   \n",
       "1  {'email': 'lchiang@formerly-netscape.com.tld',...                 87717   \n",
       "\n",
       "   dupe_of                                      duplicates  \\\n",
       "0      NaN  150580, 269519, 336734, 472127, 718596, 798856   \n",
       "1      NaN                                             NaN   \n",
       "\n",
       "                                               flags groups    id  \\\n",
       "0                                                 []     []  2875   \n",
       "1  [{'modification_date': '2008-04-25T16:59:05Z',...     []  2892   \n",
       "\n",
       "   is_cc_accessible  is_confirmed  is_creator_accessible  is_open  \\\n",
       "0              True          True                   True     True   \n",
       "1              True          True                   True     True   \n",
       "\n",
       "         keywords      last_change_time mentors mentors_detail op_sys  \\\n",
       "0              []  2018-11-25T22:40:53Z      []             []  Other   \n",
       "1  ['helpwanted']  2011-08-24T23:42:38Z      []             []    All   \n",
       "\n",
       "  platform priority        product qa_contact qa_contact_detail regressed_by  \\\n",
       "0      All       P3           Core        NaN               NaN           []   \n",
       "1      All       --  MailNews Core        NaN               NaN           []   \n",
       "\n",
       "  regressions resolution see_also severity status  \\\n",
       "0          []        NaN       []   normal    NEW   \n",
       "1          []        NaN       []   normal    NEW   \n",
       "\n",
       "                                             summary target_milestone  \\\n",
       "0  Proxy: map HTTP 500 errors to necko errors (so...           Future   \n",
       "1  [LDAP] Access to a local LDAP server in Off-Li...              ---   \n",
       "\n",
       "          type  url version  votes             whiteboard  \n",
       "0  enhancement  NaN   Trunk     13  [PDT-][necko-backlog]  \n",
       "1  enhancement  NaN   Trunk      4                    NaN  "
      ]
     },
     "execution_count": 57,
     "metadata": {},
     "output_type": "execute_result"
    }
   ],
   "source": [
    "all_data.head(2)\n"
   ]
  },
  {
   "cell_type": "code",
   "execution_count": 44,
   "metadata": {},
   "outputs": [],
   "source": [
    "all_data.drop(columns=['Unnamed: 0'], inplace=True)\n",
    "all_data.drop_duplicates(subset='id', inplace=True)\n",
    "all_data.dropna(axis=1, inplace=True, how='all')"
   ]
  },
  {
   "cell_type": "code",
   "execution_count": 59,
   "metadata": {},
   "outputs": [
    {
     "data": {
      "text/plain": [
       "Index(['alias', 'assigned_to', 'assigned_to_detail', 'blocks', 'cc',\n",
       "       'cc_detail', 'cf_backlog', 'cf_blocking_20', 'cf_blocking_fennec',\n",
       "       'cf_blocking_seamonkey21',\n",
       "       ...\n",
       "       'see_also', 'severity', 'status', 'summary', 'target_milestone', 'type',\n",
       "       'url', 'version', 'votes', 'whiteboard'],\n",
       "      dtype='object', length=199)"
      ]
     },
     "execution_count": 59,
     "metadata": {},
     "output_type": "execute_result"
    }
   ],
   "source": [
    "all_data.columns"
   ]
  },
  {
   "cell_type": "code",
   "execution_count": null,
   "metadata": {},
   "outputs": [],
   "source": []
  },
  {
   "cell_type": "code",
   "execution_count": 202,
   "metadata": {},
   "outputs": [],
   "source": [
    "df = all_data[[\n",
    "        'classification', 'component', 'platform',  'assigned_to', \n",
    "        'summary', 'id', 'status', 'is_confirmed', 'votes',\n",
    "        'severity', 'keywords', 'priority', 'creator', 'type']]"
   ]
  },
  {
   "cell_type": "code",
   "execution_count": 203,
   "metadata": {},
   "outputs": [
    {
     "data": {
      "text/html": [
       "<div>\n",
       "<style scoped>\n",
       "    .dataframe tbody tr th:only-of-type {\n",
       "        vertical-align: middle;\n",
       "    }\n",
       "\n",
       "    .dataframe tbody tr th {\n",
       "        vertical-align: top;\n",
       "    }\n",
       "\n",
       "    .dataframe thead th {\n",
       "        text-align: right;\n",
       "    }\n",
       "</style>\n",
       "<table border=\"1\" class=\"dataframe\">\n",
       "  <thead>\n",
       "    <tr style=\"text-align: right;\">\n",
       "      <th></th>\n",
       "      <th>id</th>\n",
       "      <th>votes</th>\n",
       "    </tr>\n",
       "  </thead>\n",
       "  <tbody>\n",
       "    <tr>\n",
       "      <th>count</th>\n",
       "      <td>4.215000e+03</td>\n",
       "      <td>4215.000000</td>\n",
       "    </tr>\n",
       "    <tr>\n",
       "      <th>mean</th>\n",
       "      <td>1.233012e+06</td>\n",
       "      <td>5.254093</td>\n",
       "    </tr>\n",
       "    <tr>\n",
       "      <th>std</th>\n",
       "      <td>4.347660e+05</td>\n",
       "      <td>25.184393</td>\n",
       "    </tr>\n",
       "    <tr>\n",
       "      <th>min</th>\n",
       "      <td>2.875000e+03</td>\n",
       "      <td>0.000000</td>\n",
       "    </tr>\n",
       "    <tr>\n",
       "      <th>25%</th>\n",
       "      <td>1.176616e+06</td>\n",
       "      <td>0.000000</td>\n",
       "    </tr>\n",
       "    <tr>\n",
       "      <th>50%</th>\n",
       "      <td>1.421562e+06</td>\n",
       "      <td>0.000000</td>\n",
       "    </tr>\n",
       "    <tr>\n",
       "      <th>75%</th>\n",
       "      <td>1.517470e+06</td>\n",
       "      <td>2.000000</td>\n",
       "    </tr>\n",
       "    <tr>\n",
       "      <th>max</th>\n",
       "      <td>1.575284e+06</td>\n",
       "      <td>604.000000</td>\n",
       "    </tr>\n",
       "  </tbody>\n",
       "</table>\n",
       "</div>"
      ],
      "text/plain": [
       "                 id        votes\n",
       "count  4.215000e+03  4215.000000\n",
       "mean   1.233012e+06     5.254093\n",
       "std    4.347660e+05    25.184393\n",
       "min    2.875000e+03     0.000000\n",
       "25%    1.176616e+06     0.000000\n",
       "50%    1.421562e+06     0.000000\n",
       "75%    1.517470e+06     2.000000\n",
       "max    1.575284e+06   604.000000"
      ]
     },
     "execution_count": 203,
     "metadata": {},
     "output_type": "execute_result"
    }
   ],
   "source": [
    "df.describe() # on average how people respond to the issues or requests"
   ]
  },
  {
   "cell_type": "code",
   "execution_count": 204,
   "metadata": {},
   "outputs": [
    {
     "data": {
      "text/plain": [
       "array(['enhancement', 'task'], dtype=object)"
      ]
     },
     "execution_count": 204,
     "metadata": {},
     "output_type": "execute_result"
    }
   ],
   "source": [
    "df.type.unique()"
   ]
  },
  {
   "cell_type": "code",
   "execution_count": 205,
   "metadata": {},
   "outputs": [
    {
     "data": {
      "text/plain": [
       "type\n",
       "enhancement    3327\n",
       "task            888\n",
       "Name: id, dtype: int64"
      ]
     },
     "execution_count": 205,
     "metadata": {},
     "output_type": "execute_result"
    }
   ],
   "source": [
    "df.groupby(by='type').count().id"
   ]
  },
  {
   "cell_type": "code",
   "execution_count": 206,
   "metadata": {},
   "outputs": [
    {
     "data": {
      "text/plain": [
       "type\n",
       "enhancement    0.789324\n",
       "task           0.210676\n",
       "Name: id, dtype: float64"
      ]
     },
     "execution_count": 206,
     "metadata": {},
     "output_type": "execute_result"
    }
   ],
   "source": [
    "df.groupby(by='type').count().id/len(df)"
   ]
  },
  {
   "cell_type": "code",
   "execution_count": null,
   "metadata": {},
   "outputs": [],
   "source": []
  },
  {
   "cell_type": "code",
   "execution_count": 207,
   "metadata": {},
   "outputs": [],
   "source": [
    "sum_ = df.groupby(by='type').count().id.sum()"
   ]
  },
  {
   "cell_type": "code",
   "execution_count": 208,
   "metadata": {},
   "outputs": [
    {
     "name": "stdout",
     "output_type": "stream",
     "text": [
      "\n"
     ]
    }
   ],
   "source": [
    "ratio = 3327/888\n",
    "print()"
   ]
  },
  {
   "cell_type": "code",
   "execution_count": null,
   "metadata": {},
   "outputs": [],
   "source": [
    "# look at the documentation to understand the data better"
   ]
  },
  {
   "cell_type": "code",
   "execution_count": 243,
   "metadata": {},
   "outputs": [
    {
     "name": "stdout",
     "output_type": "stream",
     "text": [
      "column:  \u001b[32mclassification\u001b[0m\n",
      "['Components' 'Client Software' 'Server Software' 'Other'\n",
      " 'Developer Infrastructure']\n",
      "column:  \u001b[32mplatform\u001b[0m\n",
      "['All' 'x86' 'PowerPC' 'Unspecified' 'x86_64' 'HP' 'ARM' 'Other' 'Desktop'\n",
      " 'ARM64']\n",
      "column:  \u001b[32mstatus\u001b[0m\n",
      "['NEW' 'ASSIGNED' 'REOPENED' 'UNCONFIRMED' 'RESOLVED']\n",
      "column:  \u001b[32mis_confirmed\u001b[0m\n",
      "[ True False]\n",
      "column:  \u001b[32mseverity\u001b[0m\n",
      "['normal' 'critical' 'minor' 'blocker' 'major' 'trivial']\n",
      "column:  \u001b[32mpriority\u001b[0m\n",
      "['P3' '--' 'P5' 'P2' 'P4' 'P1']\n",
      "column:  \u001b[32mtype\u001b[0m\n",
      "['enhancement' 'task']\n"
     ]
    }
   ],
   "source": [
    "visualization_cols = []\n",
    "for col in df.columns:\n",
    "\n",
    "    unique_values = df.loc[:, col].unique()\n",
    "    if len(unique_values)<20 and len(unique_values)>1:\n",
    "        print('column: ', colored(f'{col}', 'green'))\n",
    "        print(unique_values)\n",
    "        visualization_cols.append(col)"
   ]
  },
  {
   "cell_type": "code",
   "execution_count": 234,
   "metadata": {},
   "outputs": [
    {
     "data": {
      "text/html": [
       "<div>\n",
       "<style scoped>\n",
       "    .dataframe tbody tr th:only-of-type {\n",
       "        vertical-align: middle;\n",
       "    }\n",
       "\n",
       "    .dataframe tbody tr th {\n",
       "        vertical-align: top;\n",
       "    }\n",
       "\n",
       "    .dataframe thead th {\n",
       "        text-align: right;\n",
       "    }\n",
       "</style>\n",
       "<table border=\"1\" class=\"dataframe\">\n",
       "  <thead>\n",
       "    <tr style=\"text-align: right;\">\n",
       "      <th></th>\n",
       "      <th>platform</th>\n",
       "      <th>count</th>\n",
       "    </tr>\n",
       "  </thead>\n",
       "  <tbody>\n",
       "    <tr>\n",
       "      <th>0</th>\n",
       "      <td>Unspecified</td>\n",
       "      <td>2727</td>\n",
       "    </tr>\n",
       "    <tr>\n",
       "      <th>1</th>\n",
       "      <td>All</td>\n",
       "      <td>1228</td>\n",
       "    </tr>\n",
       "    <tr>\n",
       "      <th>2</th>\n",
       "      <td>x86</td>\n",
       "      <td>138</td>\n",
       "    </tr>\n",
       "    <tr>\n",
       "      <th>3</th>\n",
       "      <td>x86_64</td>\n",
       "      <td>45</td>\n",
       "    </tr>\n",
       "    <tr>\n",
       "      <th>4</th>\n",
       "      <td>ARM64</td>\n",
       "      <td>26</td>\n",
       "    </tr>\n",
       "    <tr>\n",
       "      <th>5</th>\n",
       "      <td>Other</td>\n",
       "      <td>18</td>\n",
       "    </tr>\n",
       "    <tr>\n",
       "      <th>6</th>\n",
       "      <td>Desktop</td>\n",
       "      <td>14</td>\n",
       "    </tr>\n",
       "    <tr>\n",
       "      <th>7</th>\n",
       "      <td>ARM</td>\n",
       "      <td>10</td>\n",
       "    </tr>\n",
       "    <tr>\n",
       "      <th>8</th>\n",
       "      <td>PowerPC</td>\n",
       "      <td>8</td>\n",
       "    </tr>\n",
       "    <tr>\n",
       "      <th>9</th>\n",
       "      <td>HP</td>\n",
       "      <td>1</td>\n",
       "    </tr>\n",
       "  </tbody>\n",
       "</table>\n",
       "</div>"
      ],
      "text/plain": [
       "      platform  count\n",
       "0  Unspecified   2727\n",
       "1          All   1228\n",
       "2          x86    138\n",
       "3       x86_64     45\n",
       "4        ARM64     26\n",
       "5        Other     18\n",
       "6      Desktop     14\n",
       "7          ARM     10\n",
       "8      PowerPC      8\n",
       "9           HP      1"
      ]
     },
     "execution_count": 234,
     "metadata": {},
     "output_type": "execute_result"
    }
   ],
   "source": [
    "\n",
    "col = 'platform'\n",
    "series = df.groupby(by=col).count().id.sort_values(ascending=False).reset_index()\n",
    "df_ = pd.DataFrame(series)\n",
    "df_.rename(columns={'id': 'count'}, inplace=True)"
   ]
  },
  {
   "cell_type": "code",
   "execution_count": 235,
   "metadata": {},
   "outputs": [],
   "source": [
    "def create_grouped_df(df, col):\n",
    "    series = df.groupby(by=col).count().id.sort_values(ascending=False).reset_index()\n",
    "    df_ = pd.DataFrame(series)\n",
    "    df_.rename(columns={'id': 'count'}, inplace=True)\n",
    "\n",
    "    return df_"
   ]
  },
  {
   "cell_type": "code",
   "execution_count": 251,
   "metadata": {},
   "outputs": [],
   "source": [
    "def create_plot(df, col):\n",
    "\n",
    "    df_ = create_grouped_df(df, col=col)\n",
    "    fig = px.bar(df_, x=col, y='count', text='count',\n",
    "     labels={'x': col, 'y': 'frequency'}, color='count',\n",
    "     color_continuous_scale='Agsunset_r')\n",
    "\n",
    "    fig.update_traces(\n",
    "        texttemplate='%{text:.2f}', textposition='outside',\n",
    "        textfont_size=10)\n",
    "\n",
    "    # Change the bar mode\n",
    "    fig.update_layout(title_text=f'Field {col} types count')\n",
    "    fig.show()"
   ]
  },
  {
   "cell_type": "code",
   "execution_count": null,
   "metadata": {},
   "outputs": [],
   "source": []
  },
  {
   "cell_type": "code",
   "execution_count": null,
   "metadata": {},
   "outputs": [],
   "source": []
  },
  {
   "cell_type": "code",
   "execution_count": 252,
   "metadata": {},
   "outputs": [
    {
     "data": {
      "application/vnd.plotly.v1+json": {
       "config": {
        "plotlyServerURL": "https://plot.ly"
       },
       "data": [
        {
         "alignmentgroup": "True",
         "hovertemplate": "classification=%{x}<br>count=%{marker.color}<extra></extra>",
         "legendgroup": "",
         "marker": {
          "color": [
           2706,
           814,
           326,
           257,
           112
          ],
          "coloraxis": "coloraxis",
          "pattern": {
           "shape": ""
          }
         },
         "name": "",
         "offsetgroup": "",
         "orientation": "v",
         "showlegend": false,
         "text": [
          2706,
          814,
          326,
          257,
          112
         ],
         "textfont": {
          "size": 10
         },
         "textposition": "outside",
         "texttemplate": "%{text:.2f}",
         "type": "bar",
         "x": [
          "Components",
          "Client Software",
          "Other",
          "Developer Infrastructure",
          "Server Software"
         ],
         "xaxis": "x",
         "y": [
          2706,
          814,
          326,
          257,
          112
         ],
         "yaxis": "y"
        }
       ],
       "layout": {
        "barmode": "relative",
        "coloraxis": {
         "colorbar": {
          "title": {
           "text": "count"
          }
         },
         "colorscale": [
          [
           0,
           "rgb(237, 217, 163)"
          ],
          [
           0.16666666666666666,
           "rgb(246, 169, 122)"
          ],
          [
           0.3333333333333333,
           "rgb(250, 120, 118)"
          ],
          [
           0.5,
           "rgb(234, 79, 136)"
          ],
          [
           0.6666666666666666,
           "rgb(192, 54, 157)"
          ],
          [
           0.8333333333333334,
           "rgb(135, 44, 162)"
          ],
          [
           1,
           "rgb(75, 41, 145)"
          ]
         ]
        },
        "legend": {
         "tracegroupgap": 0
        },
        "margin": {
         "t": 60
        },
        "template": {
         "data": {
          "bar": [
           {
            "error_x": {
             "color": "#2a3f5f"
            },
            "error_y": {
             "color": "#2a3f5f"
            },
            "marker": {
             "line": {
              "color": "#E5ECF6",
              "width": 0.5
             },
             "pattern": {
              "fillmode": "overlay",
              "size": 10,
              "solidity": 0.2
             }
            },
            "type": "bar"
           }
          ],
          "barpolar": [
           {
            "marker": {
             "line": {
              "color": "#E5ECF6",
              "width": 0.5
             },
             "pattern": {
              "fillmode": "overlay",
              "size": 10,
              "solidity": 0.2
             }
            },
            "type": "barpolar"
           }
          ],
          "carpet": [
           {
            "aaxis": {
             "endlinecolor": "#2a3f5f",
             "gridcolor": "white",
             "linecolor": "white",
             "minorgridcolor": "white",
             "startlinecolor": "#2a3f5f"
            },
            "baxis": {
             "endlinecolor": "#2a3f5f",
             "gridcolor": "white",
             "linecolor": "white",
             "minorgridcolor": "white",
             "startlinecolor": "#2a3f5f"
            },
            "type": "carpet"
           }
          ],
          "choropleth": [
           {
            "colorbar": {
             "outlinewidth": 0,
             "ticks": ""
            },
            "type": "choropleth"
           }
          ],
          "contour": [
           {
            "colorbar": {
             "outlinewidth": 0,
             "ticks": ""
            },
            "colorscale": [
             [
              0,
              "#0d0887"
             ],
             [
              0.1111111111111111,
              "#46039f"
             ],
             [
              0.2222222222222222,
              "#7201a8"
             ],
             [
              0.3333333333333333,
              "#9c179e"
             ],
             [
              0.4444444444444444,
              "#bd3786"
             ],
             [
              0.5555555555555556,
              "#d8576b"
             ],
             [
              0.6666666666666666,
              "#ed7953"
             ],
             [
              0.7777777777777778,
              "#fb9f3a"
             ],
             [
              0.8888888888888888,
              "#fdca26"
             ],
             [
              1,
              "#f0f921"
             ]
            ],
            "type": "contour"
           }
          ],
          "contourcarpet": [
           {
            "colorbar": {
             "outlinewidth": 0,
             "ticks": ""
            },
            "type": "contourcarpet"
           }
          ],
          "heatmap": [
           {
            "colorbar": {
             "outlinewidth": 0,
             "ticks": ""
            },
            "colorscale": [
             [
              0,
              "#0d0887"
             ],
             [
              0.1111111111111111,
              "#46039f"
             ],
             [
              0.2222222222222222,
              "#7201a8"
             ],
             [
              0.3333333333333333,
              "#9c179e"
             ],
             [
              0.4444444444444444,
              "#bd3786"
             ],
             [
              0.5555555555555556,
              "#d8576b"
             ],
             [
              0.6666666666666666,
              "#ed7953"
             ],
             [
              0.7777777777777778,
              "#fb9f3a"
             ],
             [
              0.8888888888888888,
              "#fdca26"
             ],
             [
              1,
              "#f0f921"
             ]
            ],
            "type": "heatmap"
           }
          ],
          "heatmapgl": [
           {
            "colorbar": {
             "outlinewidth": 0,
             "ticks": ""
            },
            "colorscale": [
             [
              0,
              "#0d0887"
             ],
             [
              0.1111111111111111,
              "#46039f"
             ],
             [
              0.2222222222222222,
              "#7201a8"
             ],
             [
              0.3333333333333333,
              "#9c179e"
             ],
             [
              0.4444444444444444,
              "#bd3786"
             ],
             [
              0.5555555555555556,
              "#d8576b"
             ],
             [
              0.6666666666666666,
              "#ed7953"
             ],
             [
              0.7777777777777778,
              "#fb9f3a"
             ],
             [
              0.8888888888888888,
              "#fdca26"
             ],
             [
              1,
              "#f0f921"
             ]
            ],
            "type": "heatmapgl"
           }
          ],
          "histogram": [
           {
            "marker": {
             "pattern": {
              "fillmode": "overlay",
              "size": 10,
              "solidity": 0.2
             }
            },
            "type": "histogram"
           }
          ],
          "histogram2d": [
           {
            "colorbar": {
             "outlinewidth": 0,
             "ticks": ""
            },
            "colorscale": [
             [
              0,
              "#0d0887"
             ],
             [
              0.1111111111111111,
              "#46039f"
             ],
             [
              0.2222222222222222,
              "#7201a8"
             ],
             [
              0.3333333333333333,
              "#9c179e"
             ],
             [
              0.4444444444444444,
              "#bd3786"
             ],
             [
              0.5555555555555556,
              "#d8576b"
             ],
             [
              0.6666666666666666,
              "#ed7953"
             ],
             [
              0.7777777777777778,
              "#fb9f3a"
             ],
             [
              0.8888888888888888,
              "#fdca26"
             ],
             [
              1,
              "#f0f921"
             ]
            ],
            "type": "histogram2d"
           }
          ],
          "histogram2dcontour": [
           {
            "colorbar": {
             "outlinewidth": 0,
             "ticks": ""
            },
            "colorscale": [
             [
              0,
              "#0d0887"
             ],
             [
              0.1111111111111111,
              "#46039f"
             ],
             [
              0.2222222222222222,
              "#7201a8"
             ],
             [
              0.3333333333333333,
              "#9c179e"
             ],
             [
              0.4444444444444444,
              "#bd3786"
             ],
             [
              0.5555555555555556,
              "#d8576b"
             ],
             [
              0.6666666666666666,
              "#ed7953"
             ],
             [
              0.7777777777777778,
              "#fb9f3a"
             ],
             [
              0.8888888888888888,
              "#fdca26"
             ],
             [
              1,
              "#f0f921"
             ]
            ],
            "type": "histogram2dcontour"
           }
          ],
          "mesh3d": [
           {
            "colorbar": {
             "outlinewidth": 0,
             "ticks": ""
            },
            "type": "mesh3d"
           }
          ],
          "parcoords": [
           {
            "line": {
             "colorbar": {
              "outlinewidth": 0,
              "ticks": ""
             }
            },
            "type": "parcoords"
           }
          ],
          "pie": [
           {
            "automargin": true,
            "type": "pie"
           }
          ],
          "scatter": [
           {
            "fillpattern": {
             "fillmode": "overlay",
             "size": 10,
             "solidity": 0.2
            },
            "type": "scatter"
           }
          ],
          "scatter3d": [
           {
            "line": {
             "colorbar": {
              "outlinewidth": 0,
              "ticks": ""
             }
            },
            "marker": {
             "colorbar": {
              "outlinewidth": 0,
              "ticks": ""
             }
            },
            "type": "scatter3d"
           }
          ],
          "scattercarpet": [
           {
            "marker": {
             "colorbar": {
              "outlinewidth": 0,
              "ticks": ""
             }
            },
            "type": "scattercarpet"
           }
          ],
          "scattergeo": [
           {
            "marker": {
             "colorbar": {
              "outlinewidth": 0,
              "ticks": ""
             }
            },
            "type": "scattergeo"
           }
          ],
          "scattergl": [
           {
            "marker": {
             "colorbar": {
              "outlinewidth": 0,
              "ticks": ""
             }
            },
            "type": "scattergl"
           }
          ],
          "scattermapbox": [
           {
            "marker": {
             "colorbar": {
              "outlinewidth": 0,
              "ticks": ""
             }
            },
            "type": "scattermapbox"
           }
          ],
          "scatterpolar": [
           {
            "marker": {
             "colorbar": {
              "outlinewidth": 0,
              "ticks": ""
             }
            },
            "type": "scatterpolar"
           }
          ],
          "scatterpolargl": [
           {
            "marker": {
             "colorbar": {
              "outlinewidth": 0,
              "ticks": ""
             }
            },
            "type": "scatterpolargl"
           }
          ],
          "scatterternary": [
           {
            "marker": {
             "colorbar": {
              "outlinewidth": 0,
              "ticks": ""
             }
            },
            "type": "scatterternary"
           }
          ],
          "surface": [
           {
            "colorbar": {
             "outlinewidth": 0,
             "ticks": ""
            },
            "colorscale": [
             [
              0,
              "#0d0887"
             ],
             [
              0.1111111111111111,
              "#46039f"
             ],
             [
              0.2222222222222222,
              "#7201a8"
             ],
             [
              0.3333333333333333,
              "#9c179e"
             ],
             [
              0.4444444444444444,
              "#bd3786"
             ],
             [
              0.5555555555555556,
              "#d8576b"
             ],
             [
              0.6666666666666666,
              "#ed7953"
             ],
             [
              0.7777777777777778,
              "#fb9f3a"
             ],
             [
              0.8888888888888888,
              "#fdca26"
             ],
             [
              1,
              "#f0f921"
             ]
            ],
            "type": "surface"
           }
          ],
          "table": [
           {
            "cells": {
             "fill": {
              "color": "#EBF0F8"
             },
             "line": {
              "color": "white"
             }
            },
            "header": {
             "fill": {
              "color": "#C8D4E3"
             },
             "line": {
              "color": "white"
             }
            },
            "type": "table"
           }
          ]
         },
         "layout": {
          "annotationdefaults": {
           "arrowcolor": "#2a3f5f",
           "arrowhead": 0,
           "arrowwidth": 1
          },
          "autotypenumbers": "strict",
          "coloraxis": {
           "colorbar": {
            "outlinewidth": 0,
            "ticks": ""
           }
          },
          "colorscale": {
           "diverging": [
            [
             0,
             "#8e0152"
            ],
            [
             0.1,
             "#c51b7d"
            ],
            [
             0.2,
             "#de77ae"
            ],
            [
             0.3,
             "#f1b6da"
            ],
            [
             0.4,
             "#fde0ef"
            ],
            [
             0.5,
             "#f7f7f7"
            ],
            [
             0.6,
             "#e6f5d0"
            ],
            [
             0.7,
             "#b8e186"
            ],
            [
             0.8,
             "#7fbc41"
            ],
            [
             0.9,
             "#4d9221"
            ],
            [
             1,
             "#276419"
            ]
           ],
           "sequential": [
            [
             0,
             "#0d0887"
            ],
            [
             0.1111111111111111,
             "#46039f"
            ],
            [
             0.2222222222222222,
             "#7201a8"
            ],
            [
             0.3333333333333333,
             "#9c179e"
            ],
            [
             0.4444444444444444,
             "#bd3786"
            ],
            [
             0.5555555555555556,
             "#d8576b"
            ],
            [
             0.6666666666666666,
             "#ed7953"
            ],
            [
             0.7777777777777778,
             "#fb9f3a"
            ],
            [
             0.8888888888888888,
             "#fdca26"
            ],
            [
             1,
             "#f0f921"
            ]
           ],
           "sequentialminus": [
            [
             0,
             "#0d0887"
            ],
            [
             0.1111111111111111,
             "#46039f"
            ],
            [
             0.2222222222222222,
             "#7201a8"
            ],
            [
             0.3333333333333333,
             "#9c179e"
            ],
            [
             0.4444444444444444,
             "#bd3786"
            ],
            [
             0.5555555555555556,
             "#d8576b"
            ],
            [
             0.6666666666666666,
             "#ed7953"
            ],
            [
             0.7777777777777778,
             "#fb9f3a"
            ],
            [
             0.8888888888888888,
             "#fdca26"
            ],
            [
             1,
             "#f0f921"
            ]
           ]
          },
          "colorway": [
           "#636efa",
           "#EF553B",
           "#00cc96",
           "#ab63fa",
           "#FFA15A",
           "#19d3f3",
           "#FF6692",
           "#B6E880",
           "#FF97FF",
           "#FECB52"
          ],
          "font": {
           "color": "#2a3f5f"
          },
          "geo": {
           "bgcolor": "white",
           "lakecolor": "white",
           "landcolor": "#E5ECF6",
           "showlakes": true,
           "showland": true,
           "subunitcolor": "white"
          },
          "hoverlabel": {
           "align": "left"
          },
          "hovermode": "closest",
          "mapbox": {
           "style": "light"
          },
          "paper_bgcolor": "white",
          "plot_bgcolor": "#E5ECF6",
          "polar": {
           "angularaxis": {
            "gridcolor": "white",
            "linecolor": "white",
            "ticks": ""
           },
           "bgcolor": "#E5ECF6",
           "radialaxis": {
            "gridcolor": "white",
            "linecolor": "white",
            "ticks": ""
           }
          },
          "scene": {
           "xaxis": {
            "backgroundcolor": "#E5ECF6",
            "gridcolor": "white",
            "gridwidth": 2,
            "linecolor": "white",
            "showbackground": true,
            "ticks": "",
            "zerolinecolor": "white"
           },
           "yaxis": {
            "backgroundcolor": "#E5ECF6",
            "gridcolor": "white",
            "gridwidth": 2,
            "linecolor": "white",
            "showbackground": true,
            "ticks": "",
            "zerolinecolor": "white"
           },
           "zaxis": {
            "backgroundcolor": "#E5ECF6",
            "gridcolor": "white",
            "gridwidth": 2,
            "linecolor": "white",
            "showbackground": true,
            "ticks": "",
            "zerolinecolor": "white"
           }
          },
          "shapedefaults": {
           "line": {
            "color": "#2a3f5f"
           }
          },
          "ternary": {
           "aaxis": {
            "gridcolor": "white",
            "linecolor": "white",
            "ticks": ""
           },
           "baxis": {
            "gridcolor": "white",
            "linecolor": "white",
            "ticks": ""
           },
           "bgcolor": "#E5ECF6",
           "caxis": {
            "gridcolor": "white",
            "linecolor": "white",
            "ticks": ""
           }
          },
          "title": {
           "x": 0.05
          },
          "xaxis": {
           "automargin": true,
           "gridcolor": "white",
           "linecolor": "white",
           "ticks": "",
           "title": {
            "standoff": 15
           },
           "zerolinecolor": "white",
           "zerolinewidth": 2
          },
          "yaxis": {
           "automargin": true,
           "gridcolor": "white",
           "linecolor": "white",
           "ticks": "",
           "title": {
            "standoff": 15
           },
           "zerolinecolor": "white",
           "zerolinewidth": 2
          }
         }
        },
        "title": {
         "text": "Field classification types count"
        },
        "xaxis": {
         "anchor": "y",
         "domain": [
          0,
          1
         ],
         "title": {
          "text": "classification"
         }
        },
        "yaxis": {
         "anchor": "x",
         "domain": [
          0,
          1
         ],
         "title": {
          "text": "count"
         }
        }
       }
      },
      "text/html": [
       "<div>                            <div id=\"b2de775c-2440-4939-9a92-58cb32a23c8c\" class=\"plotly-graph-div\" style=\"height:525px; width:100%;\"></div>            <script type=\"text/javascript\">                require([\"plotly\"], function(Plotly) {                    window.PLOTLYENV=window.PLOTLYENV || {};                                    if (document.getElementById(\"b2de775c-2440-4939-9a92-58cb32a23c8c\")) {                    Plotly.newPlot(                        \"b2de775c-2440-4939-9a92-58cb32a23c8c\",                        [{\"alignmentgroup\":\"True\",\"hovertemplate\":\"classification=%{x}<br>count=%{marker.color}<extra></extra>\",\"legendgroup\":\"\",\"marker\":{\"color\":[2706,814,326,257,112],\"coloraxis\":\"coloraxis\",\"pattern\":{\"shape\":\"\"}},\"name\":\"\",\"offsetgroup\":\"\",\"orientation\":\"v\",\"showlegend\":false,\"text\":[2706.0,814.0,326.0,257.0,112.0],\"textposition\":\"outside\",\"x\":[\"Components\",\"Client Software\",\"Other\",\"Developer Infrastructure\",\"Server Software\"],\"xaxis\":\"x\",\"y\":[2706,814,326,257,112],\"yaxis\":\"y\",\"type\":\"bar\",\"textfont\":{\"size\":10},\"texttemplate\":\"%{text:.2f}\"}],                        {\"template\":{\"data\":{\"histogram2dcontour\":[{\"type\":\"histogram2dcontour\",\"colorbar\":{\"outlinewidth\":0,\"ticks\":\"\"},\"colorscale\":[[0.0,\"#0d0887\"],[0.1111111111111111,\"#46039f\"],[0.2222222222222222,\"#7201a8\"],[0.3333333333333333,\"#9c179e\"],[0.4444444444444444,\"#bd3786\"],[0.5555555555555556,\"#d8576b\"],[0.6666666666666666,\"#ed7953\"],[0.7777777777777778,\"#fb9f3a\"],[0.8888888888888888,\"#fdca26\"],[1.0,\"#f0f921\"]]}],\"choropleth\":[{\"type\":\"choropleth\",\"colorbar\":{\"outlinewidth\":0,\"ticks\":\"\"}}],\"histogram2d\":[{\"type\":\"histogram2d\",\"colorbar\":{\"outlinewidth\":0,\"ticks\":\"\"},\"colorscale\":[[0.0,\"#0d0887\"],[0.1111111111111111,\"#46039f\"],[0.2222222222222222,\"#7201a8\"],[0.3333333333333333,\"#9c179e\"],[0.4444444444444444,\"#bd3786\"],[0.5555555555555556,\"#d8576b\"],[0.6666666666666666,\"#ed7953\"],[0.7777777777777778,\"#fb9f3a\"],[0.8888888888888888,\"#fdca26\"],[1.0,\"#f0f921\"]]}],\"heatmap\":[{\"type\":\"heatmap\",\"colorbar\":{\"outlinewidth\":0,\"ticks\":\"\"},\"colorscale\":[[0.0,\"#0d0887\"],[0.1111111111111111,\"#46039f\"],[0.2222222222222222,\"#7201a8\"],[0.3333333333333333,\"#9c179e\"],[0.4444444444444444,\"#bd3786\"],[0.5555555555555556,\"#d8576b\"],[0.6666666666666666,\"#ed7953\"],[0.7777777777777778,\"#fb9f3a\"],[0.8888888888888888,\"#fdca26\"],[1.0,\"#f0f921\"]]}],\"heatmapgl\":[{\"type\":\"heatmapgl\",\"colorbar\":{\"outlinewidth\":0,\"ticks\":\"\"},\"colorscale\":[[0.0,\"#0d0887\"],[0.1111111111111111,\"#46039f\"],[0.2222222222222222,\"#7201a8\"],[0.3333333333333333,\"#9c179e\"],[0.4444444444444444,\"#bd3786\"],[0.5555555555555556,\"#d8576b\"],[0.6666666666666666,\"#ed7953\"],[0.7777777777777778,\"#fb9f3a\"],[0.8888888888888888,\"#fdca26\"],[1.0,\"#f0f921\"]]}],\"contourcarpet\":[{\"type\":\"contourcarpet\",\"colorbar\":{\"outlinewidth\":0,\"ticks\":\"\"}}],\"contour\":[{\"type\":\"contour\",\"colorbar\":{\"outlinewidth\":0,\"ticks\":\"\"},\"colorscale\":[[0.0,\"#0d0887\"],[0.1111111111111111,\"#46039f\"],[0.2222222222222222,\"#7201a8\"],[0.3333333333333333,\"#9c179e\"],[0.4444444444444444,\"#bd3786\"],[0.5555555555555556,\"#d8576b\"],[0.6666666666666666,\"#ed7953\"],[0.7777777777777778,\"#fb9f3a\"],[0.8888888888888888,\"#fdca26\"],[1.0,\"#f0f921\"]]}],\"surface\":[{\"type\":\"surface\",\"colorbar\":{\"outlinewidth\":0,\"ticks\":\"\"},\"colorscale\":[[0.0,\"#0d0887\"],[0.1111111111111111,\"#46039f\"],[0.2222222222222222,\"#7201a8\"],[0.3333333333333333,\"#9c179e\"],[0.4444444444444444,\"#bd3786\"],[0.5555555555555556,\"#d8576b\"],[0.6666666666666666,\"#ed7953\"],[0.7777777777777778,\"#fb9f3a\"],[0.8888888888888888,\"#fdca26\"],[1.0,\"#f0f921\"]]}],\"mesh3d\":[{\"type\":\"mesh3d\",\"colorbar\":{\"outlinewidth\":0,\"ticks\":\"\"}}],\"scatter\":[{\"fillpattern\":{\"fillmode\":\"overlay\",\"size\":10,\"solidity\":0.2},\"type\":\"scatter\"}],\"parcoords\":[{\"type\":\"parcoords\",\"line\":{\"colorbar\":{\"outlinewidth\":0,\"ticks\":\"\"}}}],\"scatterpolargl\":[{\"type\":\"scatterpolargl\",\"marker\":{\"colorbar\":{\"outlinewidth\":0,\"ticks\":\"\"}}}],\"bar\":[{\"error_x\":{\"color\":\"#2a3f5f\"},\"error_y\":{\"color\":\"#2a3f5f\"},\"marker\":{\"line\":{\"color\":\"#E5ECF6\",\"width\":0.5},\"pattern\":{\"fillmode\":\"overlay\",\"size\":10,\"solidity\":0.2}},\"type\":\"bar\"}],\"scattergeo\":[{\"type\":\"scattergeo\",\"marker\":{\"colorbar\":{\"outlinewidth\":0,\"ticks\":\"\"}}}],\"scatterpolar\":[{\"type\":\"scatterpolar\",\"marker\":{\"colorbar\":{\"outlinewidth\":0,\"ticks\":\"\"}}}],\"histogram\":[{\"marker\":{\"pattern\":{\"fillmode\":\"overlay\",\"size\":10,\"solidity\":0.2}},\"type\":\"histogram\"}],\"scattergl\":[{\"type\":\"scattergl\",\"marker\":{\"colorbar\":{\"outlinewidth\":0,\"ticks\":\"\"}}}],\"scatter3d\":[{\"type\":\"scatter3d\",\"line\":{\"colorbar\":{\"outlinewidth\":0,\"ticks\":\"\"}},\"marker\":{\"colorbar\":{\"outlinewidth\":0,\"ticks\":\"\"}}}],\"scattermapbox\":[{\"type\":\"scattermapbox\",\"marker\":{\"colorbar\":{\"outlinewidth\":0,\"ticks\":\"\"}}}],\"scatterternary\":[{\"type\":\"scatterternary\",\"marker\":{\"colorbar\":{\"outlinewidth\":0,\"ticks\":\"\"}}}],\"scattercarpet\":[{\"type\":\"scattercarpet\",\"marker\":{\"colorbar\":{\"outlinewidth\":0,\"ticks\":\"\"}}}],\"carpet\":[{\"aaxis\":{\"endlinecolor\":\"#2a3f5f\",\"gridcolor\":\"white\",\"linecolor\":\"white\",\"minorgridcolor\":\"white\",\"startlinecolor\":\"#2a3f5f\"},\"baxis\":{\"endlinecolor\":\"#2a3f5f\",\"gridcolor\":\"white\",\"linecolor\":\"white\",\"minorgridcolor\":\"white\",\"startlinecolor\":\"#2a3f5f\"},\"type\":\"carpet\"}],\"table\":[{\"cells\":{\"fill\":{\"color\":\"#EBF0F8\"},\"line\":{\"color\":\"white\"}},\"header\":{\"fill\":{\"color\":\"#C8D4E3\"},\"line\":{\"color\":\"white\"}},\"type\":\"table\"}],\"barpolar\":[{\"marker\":{\"line\":{\"color\":\"#E5ECF6\",\"width\":0.5},\"pattern\":{\"fillmode\":\"overlay\",\"size\":10,\"solidity\":0.2}},\"type\":\"barpolar\"}],\"pie\":[{\"automargin\":true,\"type\":\"pie\"}]},\"layout\":{\"autotypenumbers\":\"strict\",\"colorway\":[\"#636efa\",\"#EF553B\",\"#00cc96\",\"#ab63fa\",\"#FFA15A\",\"#19d3f3\",\"#FF6692\",\"#B6E880\",\"#FF97FF\",\"#FECB52\"],\"font\":{\"color\":\"#2a3f5f\"},\"hovermode\":\"closest\",\"hoverlabel\":{\"align\":\"left\"},\"paper_bgcolor\":\"white\",\"plot_bgcolor\":\"#E5ECF6\",\"polar\":{\"bgcolor\":\"#E5ECF6\",\"angularaxis\":{\"gridcolor\":\"white\",\"linecolor\":\"white\",\"ticks\":\"\"},\"radialaxis\":{\"gridcolor\":\"white\",\"linecolor\":\"white\",\"ticks\":\"\"}},\"ternary\":{\"bgcolor\":\"#E5ECF6\",\"aaxis\":{\"gridcolor\":\"white\",\"linecolor\":\"white\",\"ticks\":\"\"},\"baxis\":{\"gridcolor\":\"white\",\"linecolor\":\"white\",\"ticks\":\"\"},\"caxis\":{\"gridcolor\":\"white\",\"linecolor\":\"white\",\"ticks\":\"\"}},\"coloraxis\":{\"colorbar\":{\"outlinewidth\":0,\"ticks\":\"\"}},\"colorscale\":{\"sequential\":[[0.0,\"#0d0887\"],[0.1111111111111111,\"#46039f\"],[0.2222222222222222,\"#7201a8\"],[0.3333333333333333,\"#9c179e\"],[0.4444444444444444,\"#bd3786\"],[0.5555555555555556,\"#d8576b\"],[0.6666666666666666,\"#ed7953\"],[0.7777777777777778,\"#fb9f3a\"],[0.8888888888888888,\"#fdca26\"],[1.0,\"#f0f921\"]],\"sequentialminus\":[[0.0,\"#0d0887\"],[0.1111111111111111,\"#46039f\"],[0.2222222222222222,\"#7201a8\"],[0.3333333333333333,\"#9c179e\"],[0.4444444444444444,\"#bd3786\"],[0.5555555555555556,\"#d8576b\"],[0.6666666666666666,\"#ed7953\"],[0.7777777777777778,\"#fb9f3a\"],[0.8888888888888888,\"#fdca26\"],[1.0,\"#f0f921\"]],\"diverging\":[[0,\"#8e0152\"],[0.1,\"#c51b7d\"],[0.2,\"#de77ae\"],[0.3,\"#f1b6da\"],[0.4,\"#fde0ef\"],[0.5,\"#f7f7f7\"],[0.6,\"#e6f5d0\"],[0.7,\"#b8e186\"],[0.8,\"#7fbc41\"],[0.9,\"#4d9221\"],[1,\"#276419\"]]},\"xaxis\":{\"gridcolor\":\"white\",\"linecolor\":\"white\",\"ticks\":\"\",\"title\":{\"standoff\":15},\"zerolinecolor\":\"white\",\"automargin\":true,\"zerolinewidth\":2},\"yaxis\":{\"gridcolor\":\"white\",\"linecolor\":\"white\",\"ticks\":\"\",\"title\":{\"standoff\":15},\"zerolinecolor\":\"white\",\"automargin\":true,\"zerolinewidth\":2},\"scene\":{\"xaxis\":{\"backgroundcolor\":\"#E5ECF6\",\"gridcolor\":\"white\",\"linecolor\":\"white\",\"showbackground\":true,\"ticks\":\"\",\"zerolinecolor\":\"white\",\"gridwidth\":2},\"yaxis\":{\"backgroundcolor\":\"#E5ECF6\",\"gridcolor\":\"white\",\"linecolor\":\"white\",\"showbackground\":true,\"ticks\":\"\",\"zerolinecolor\":\"white\",\"gridwidth\":2},\"zaxis\":{\"backgroundcolor\":\"#E5ECF6\",\"gridcolor\":\"white\",\"linecolor\":\"white\",\"showbackground\":true,\"ticks\":\"\",\"zerolinecolor\":\"white\",\"gridwidth\":2}},\"shapedefaults\":{\"line\":{\"color\":\"#2a3f5f\"}},\"annotationdefaults\":{\"arrowcolor\":\"#2a3f5f\",\"arrowhead\":0,\"arrowwidth\":1},\"geo\":{\"bgcolor\":\"white\",\"landcolor\":\"#E5ECF6\",\"subunitcolor\":\"white\",\"showland\":true,\"showlakes\":true,\"lakecolor\":\"white\"},\"title\":{\"x\":0.05},\"mapbox\":{\"style\":\"light\"}}},\"xaxis\":{\"anchor\":\"y\",\"domain\":[0.0,1.0],\"title\":{\"text\":\"classification\"}},\"yaxis\":{\"anchor\":\"x\",\"domain\":[0.0,1.0],\"title\":{\"text\":\"count\"}},\"coloraxis\":{\"colorbar\":{\"title\":{\"text\":\"count\"}},\"colorscale\":[[0.0,\"rgb(237, 217, 163)\"],[0.16666666666666666,\"rgb(246, 169, 122)\"],[0.3333333333333333,\"rgb(250, 120, 118)\"],[0.5,\"rgb(234, 79, 136)\"],[0.6666666666666666,\"rgb(192, 54, 157)\"],[0.8333333333333334,\"rgb(135, 44, 162)\"],[1.0,\"rgb(75, 41, 145)\"]]},\"legend\":{\"tracegroupgap\":0},\"margin\":{\"t\":60},\"barmode\":\"relative\",\"title\":{\"text\":\"Field classification types count\"}},                        {\"responsive\": true}                    ).then(function(){\n",
       "                            \n",
       "var gd = document.getElementById('b2de775c-2440-4939-9a92-58cb32a23c8c');\n",
       "var x = new MutationObserver(function (mutations, observer) {{\n",
       "        var display = window.getComputedStyle(gd).display;\n",
       "        if (!display || display === 'none') {{\n",
       "            console.log([gd, 'removed!']);\n",
       "            Plotly.purge(gd);\n",
       "            observer.disconnect();\n",
       "        }}\n",
       "}});\n",
       "\n",
       "// Listen for the removal of the full notebook cells\n",
       "var notebookContainer = gd.closest('#notebook-container');\n",
       "if (notebookContainer) {{\n",
       "    x.observe(notebookContainer, {childList: true});\n",
       "}}\n",
       "\n",
       "// Listen for the clearing of the current output cell\n",
       "var outputEl = gd.closest('.output');\n",
       "if (outputEl) {{\n",
       "    x.observe(outputEl, {childList: true});\n",
       "}}\n",
       "\n",
       "                        })                };                });            </script>        </div>"
      ]
     },
     "metadata": {},
     "output_type": "display_data"
    },
    {
     "data": {
      "application/vnd.plotly.v1+json": {
       "config": {
        "plotlyServerURL": "https://plot.ly"
       },
       "data": [
        {
         "alignmentgroup": "True",
         "hovertemplate": "platform=%{x}<br>count=%{marker.color}<extra></extra>",
         "legendgroup": "",
         "marker": {
          "color": [
           2727,
           1228,
           138,
           45,
           26,
           18,
           14,
           10,
           8,
           1
          ],
          "coloraxis": "coloraxis",
          "pattern": {
           "shape": ""
          }
         },
         "name": "",
         "offsetgroup": "",
         "orientation": "v",
         "showlegend": false,
         "text": [
          2727,
          1228,
          138,
          45,
          26,
          18,
          14,
          10,
          8,
          1
         ],
         "textfont": {
          "size": 10
         },
         "textposition": "outside",
         "texttemplate": "%{text:.2f}",
         "type": "bar",
         "x": [
          "Unspecified",
          "All",
          "x86",
          "x86_64",
          "ARM64",
          "Other",
          "Desktop",
          "ARM",
          "PowerPC",
          "HP"
         ],
         "xaxis": "x",
         "y": [
          2727,
          1228,
          138,
          45,
          26,
          18,
          14,
          10,
          8,
          1
         ],
         "yaxis": "y"
        }
       ],
       "layout": {
        "barmode": "relative",
        "coloraxis": {
         "colorbar": {
          "title": {
           "text": "count"
          }
         },
         "colorscale": [
          [
           0,
           "rgb(237, 217, 163)"
          ],
          [
           0.16666666666666666,
           "rgb(246, 169, 122)"
          ],
          [
           0.3333333333333333,
           "rgb(250, 120, 118)"
          ],
          [
           0.5,
           "rgb(234, 79, 136)"
          ],
          [
           0.6666666666666666,
           "rgb(192, 54, 157)"
          ],
          [
           0.8333333333333334,
           "rgb(135, 44, 162)"
          ],
          [
           1,
           "rgb(75, 41, 145)"
          ]
         ]
        },
        "legend": {
         "tracegroupgap": 0
        },
        "margin": {
         "t": 60
        },
        "template": {
         "data": {
          "bar": [
           {
            "error_x": {
             "color": "#2a3f5f"
            },
            "error_y": {
             "color": "#2a3f5f"
            },
            "marker": {
             "line": {
              "color": "#E5ECF6",
              "width": 0.5
             },
             "pattern": {
              "fillmode": "overlay",
              "size": 10,
              "solidity": 0.2
             }
            },
            "type": "bar"
           }
          ],
          "barpolar": [
           {
            "marker": {
             "line": {
              "color": "#E5ECF6",
              "width": 0.5
             },
             "pattern": {
              "fillmode": "overlay",
              "size": 10,
              "solidity": 0.2
             }
            },
            "type": "barpolar"
           }
          ],
          "carpet": [
           {
            "aaxis": {
             "endlinecolor": "#2a3f5f",
             "gridcolor": "white",
             "linecolor": "white",
             "minorgridcolor": "white",
             "startlinecolor": "#2a3f5f"
            },
            "baxis": {
             "endlinecolor": "#2a3f5f",
             "gridcolor": "white",
             "linecolor": "white",
             "minorgridcolor": "white",
             "startlinecolor": "#2a3f5f"
            },
            "type": "carpet"
           }
          ],
          "choropleth": [
           {
            "colorbar": {
             "outlinewidth": 0,
             "ticks": ""
            },
            "type": "choropleth"
           }
          ],
          "contour": [
           {
            "colorbar": {
             "outlinewidth": 0,
             "ticks": ""
            },
            "colorscale": [
             [
              0,
              "#0d0887"
             ],
             [
              0.1111111111111111,
              "#46039f"
             ],
             [
              0.2222222222222222,
              "#7201a8"
             ],
             [
              0.3333333333333333,
              "#9c179e"
             ],
             [
              0.4444444444444444,
              "#bd3786"
             ],
             [
              0.5555555555555556,
              "#d8576b"
             ],
             [
              0.6666666666666666,
              "#ed7953"
             ],
             [
              0.7777777777777778,
              "#fb9f3a"
             ],
             [
              0.8888888888888888,
              "#fdca26"
             ],
             [
              1,
              "#f0f921"
             ]
            ],
            "type": "contour"
           }
          ],
          "contourcarpet": [
           {
            "colorbar": {
             "outlinewidth": 0,
             "ticks": ""
            },
            "type": "contourcarpet"
           }
          ],
          "heatmap": [
           {
            "colorbar": {
             "outlinewidth": 0,
             "ticks": ""
            },
            "colorscale": [
             [
              0,
              "#0d0887"
             ],
             [
              0.1111111111111111,
              "#46039f"
             ],
             [
              0.2222222222222222,
              "#7201a8"
             ],
             [
              0.3333333333333333,
              "#9c179e"
             ],
             [
              0.4444444444444444,
              "#bd3786"
             ],
             [
              0.5555555555555556,
              "#d8576b"
             ],
             [
              0.6666666666666666,
              "#ed7953"
             ],
             [
              0.7777777777777778,
              "#fb9f3a"
             ],
             [
              0.8888888888888888,
              "#fdca26"
             ],
             [
              1,
              "#f0f921"
             ]
            ],
            "type": "heatmap"
           }
          ],
          "heatmapgl": [
           {
            "colorbar": {
             "outlinewidth": 0,
             "ticks": ""
            },
            "colorscale": [
             [
              0,
              "#0d0887"
             ],
             [
              0.1111111111111111,
              "#46039f"
             ],
             [
              0.2222222222222222,
              "#7201a8"
             ],
             [
              0.3333333333333333,
              "#9c179e"
             ],
             [
              0.4444444444444444,
              "#bd3786"
             ],
             [
              0.5555555555555556,
              "#d8576b"
             ],
             [
              0.6666666666666666,
              "#ed7953"
             ],
             [
              0.7777777777777778,
              "#fb9f3a"
             ],
             [
              0.8888888888888888,
              "#fdca26"
             ],
             [
              1,
              "#f0f921"
             ]
            ],
            "type": "heatmapgl"
           }
          ],
          "histogram": [
           {
            "marker": {
             "pattern": {
              "fillmode": "overlay",
              "size": 10,
              "solidity": 0.2
             }
            },
            "type": "histogram"
           }
          ],
          "histogram2d": [
           {
            "colorbar": {
             "outlinewidth": 0,
             "ticks": ""
            },
            "colorscale": [
             [
              0,
              "#0d0887"
             ],
             [
              0.1111111111111111,
              "#46039f"
             ],
             [
              0.2222222222222222,
              "#7201a8"
             ],
             [
              0.3333333333333333,
              "#9c179e"
             ],
             [
              0.4444444444444444,
              "#bd3786"
             ],
             [
              0.5555555555555556,
              "#d8576b"
             ],
             [
              0.6666666666666666,
              "#ed7953"
             ],
             [
              0.7777777777777778,
              "#fb9f3a"
             ],
             [
              0.8888888888888888,
              "#fdca26"
             ],
             [
              1,
              "#f0f921"
             ]
            ],
            "type": "histogram2d"
           }
          ],
          "histogram2dcontour": [
           {
            "colorbar": {
             "outlinewidth": 0,
             "ticks": ""
            },
            "colorscale": [
             [
              0,
              "#0d0887"
             ],
             [
              0.1111111111111111,
              "#46039f"
             ],
             [
              0.2222222222222222,
              "#7201a8"
             ],
             [
              0.3333333333333333,
              "#9c179e"
             ],
             [
              0.4444444444444444,
              "#bd3786"
             ],
             [
              0.5555555555555556,
              "#d8576b"
             ],
             [
              0.6666666666666666,
              "#ed7953"
             ],
             [
              0.7777777777777778,
              "#fb9f3a"
             ],
             [
              0.8888888888888888,
              "#fdca26"
             ],
             [
              1,
              "#f0f921"
             ]
            ],
            "type": "histogram2dcontour"
           }
          ],
          "mesh3d": [
           {
            "colorbar": {
             "outlinewidth": 0,
             "ticks": ""
            },
            "type": "mesh3d"
           }
          ],
          "parcoords": [
           {
            "line": {
             "colorbar": {
              "outlinewidth": 0,
              "ticks": ""
             }
            },
            "type": "parcoords"
           }
          ],
          "pie": [
           {
            "automargin": true,
            "type": "pie"
           }
          ],
          "scatter": [
           {
            "fillpattern": {
             "fillmode": "overlay",
             "size": 10,
             "solidity": 0.2
            },
            "type": "scatter"
           }
          ],
          "scatter3d": [
           {
            "line": {
             "colorbar": {
              "outlinewidth": 0,
              "ticks": ""
             }
            },
            "marker": {
             "colorbar": {
              "outlinewidth": 0,
              "ticks": ""
             }
            },
            "type": "scatter3d"
           }
          ],
          "scattercarpet": [
           {
            "marker": {
             "colorbar": {
              "outlinewidth": 0,
              "ticks": ""
             }
            },
            "type": "scattercarpet"
           }
          ],
          "scattergeo": [
           {
            "marker": {
             "colorbar": {
              "outlinewidth": 0,
              "ticks": ""
             }
            },
            "type": "scattergeo"
           }
          ],
          "scattergl": [
           {
            "marker": {
             "colorbar": {
              "outlinewidth": 0,
              "ticks": ""
             }
            },
            "type": "scattergl"
           }
          ],
          "scattermapbox": [
           {
            "marker": {
             "colorbar": {
              "outlinewidth": 0,
              "ticks": ""
             }
            },
            "type": "scattermapbox"
           }
          ],
          "scatterpolar": [
           {
            "marker": {
             "colorbar": {
              "outlinewidth": 0,
              "ticks": ""
             }
            },
            "type": "scatterpolar"
           }
          ],
          "scatterpolargl": [
           {
            "marker": {
             "colorbar": {
              "outlinewidth": 0,
              "ticks": ""
             }
            },
            "type": "scatterpolargl"
           }
          ],
          "scatterternary": [
           {
            "marker": {
             "colorbar": {
              "outlinewidth": 0,
              "ticks": ""
             }
            },
            "type": "scatterternary"
           }
          ],
          "surface": [
           {
            "colorbar": {
             "outlinewidth": 0,
             "ticks": ""
            },
            "colorscale": [
             [
              0,
              "#0d0887"
             ],
             [
              0.1111111111111111,
              "#46039f"
             ],
             [
              0.2222222222222222,
              "#7201a8"
             ],
             [
              0.3333333333333333,
              "#9c179e"
             ],
             [
              0.4444444444444444,
              "#bd3786"
             ],
             [
              0.5555555555555556,
              "#d8576b"
             ],
             [
              0.6666666666666666,
              "#ed7953"
             ],
             [
              0.7777777777777778,
              "#fb9f3a"
             ],
             [
              0.8888888888888888,
              "#fdca26"
             ],
             [
              1,
              "#f0f921"
             ]
            ],
            "type": "surface"
           }
          ],
          "table": [
           {
            "cells": {
             "fill": {
              "color": "#EBF0F8"
             },
             "line": {
              "color": "white"
             }
            },
            "header": {
             "fill": {
              "color": "#C8D4E3"
             },
             "line": {
              "color": "white"
             }
            },
            "type": "table"
           }
          ]
         },
         "layout": {
          "annotationdefaults": {
           "arrowcolor": "#2a3f5f",
           "arrowhead": 0,
           "arrowwidth": 1
          },
          "autotypenumbers": "strict",
          "coloraxis": {
           "colorbar": {
            "outlinewidth": 0,
            "ticks": ""
           }
          },
          "colorscale": {
           "diverging": [
            [
             0,
             "#8e0152"
            ],
            [
             0.1,
             "#c51b7d"
            ],
            [
             0.2,
             "#de77ae"
            ],
            [
             0.3,
             "#f1b6da"
            ],
            [
             0.4,
             "#fde0ef"
            ],
            [
             0.5,
             "#f7f7f7"
            ],
            [
             0.6,
             "#e6f5d0"
            ],
            [
             0.7,
             "#b8e186"
            ],
            [
             0.8,
             "#7fbc41"
            ],
            [
             0.9,
             "#4d9221"
            ],
            [
             1,
             "#276419"
            ]
           ],
           "sequential": [
            [
             0,
             "#0d0887"
            ],
            [
             0.1111111111111111,
             "#46039f"
            ],
            [
             0.2222222222222222,
             "#7201a8"
            ],
            [
             0.3333333333333333,
             "#9c179e"
            ],
            [
             0.4444444444444444,
             "#bd3786"
            ],
            [
             0.5555555555555556,
             "#d8576b"
            ],
            [
             0.6666666666666666,
             "#ed7953"
            ],
            [
             0.7777777777777778,
             "#fb9f3a"
            ],
            [
             0.8888888888888888,
             "#fdca26"
            ],
            [
             1,
             "#f0f921"
            ]
           ],
           "sequentialminus": [
            [
             0,
             "#0d0887"
            ],
            [
             0.1111111111111111,
             "#46039f"
            ],
            [
             0.2222222222222222,
             "#7201a8"
            ],
            [
             0.3333333333333333,
             "#9c179e"
            ],
            [
             0.4444444444444444,
             "#bd3786"
            ],
            [
             0.5555555555555556,
             "#d8576b"
            ],
            [
             0.6666666666666666,
             "#ed7953"
            ],
            [
             0.7777777777777778,
             "#fb9f3a"
            ],
            [
             0.8888888888888888,
             "#fdca26"
            ],
            [
             1,
             "#f0f921"
            ]
           ]
          },
          "colorway": [
           "#636efa",
           "#EF553B",
           "#00cc96",
           "#ab63fa",
           "#FFA15A",
           "#19d3f3",
           "#FF6692",
           "#B6E880",
           "#FF97FF",
           "#FECB52"
          ],
          "font": {
           "color": "#2a3f5f"
          },
          "geo": {
           "bgcolor": "white",
           "lakecolor": "white",
           "landcolor": "#E5ECF6",
           "showlakes": true,
           "showland": true,
           "subunitcolor": "white"
          },
          "hoverlabel": {
           "align": "left"
          },
          "hovermode": "closest",
          "mapbox": {
           "style": "light"
          },
          "paper_bgcolor": "white",
          "plot_bgcolor": "#E5ECF6",
          "polar": {
           "angularaxis": {
            "gridcolor": "white",
            "linecolor": "white",
            "ticks": ""
           },
           "bgcolor": "#E5ECF6",
           "radialaxis": {
            "gridcolor": "white",
            "linecolor": "white",
            "ticks": ""
           }
          },
          "scene": {
           "xaxis": {
            "backgroundcolor": "#E5ECF6",
            "gridcolor": "white",
            "gridwidth": 2,
            "linecolor": "white",
            "showbackground": true,
            "ticks": "",
            "zerolinecolor": "white"
           },
           "yaxis": {
            "backgroundcolor": "#E5ECF6",
            "gridcolor": "white",
            "gridwidth": 2,
            "linecolor": "white",
            "showbackground": true,
            "ticks": "",
            "zerolinecolor": "white"
           },
           "zaxis": {
            "backgroundcolor": "#E5ECF6",
            "gridcolor": "white",
            "gridwidth": 2,
            "linecolor": "white",
            "showbackground": true,
            "ticks": "",
            "zerolinecolor": "white"
           }
          },
          "shapedefaults": {
           "line": {
            "color": "#2a3f5f"
           }
          },
          "ternary": {
           "aaxis": {
            "gridcolor": "white",
            "linecolor": "white",
            "ticks": ""
           },
           "baxis": {
            "gridcolor": "white",
            "linecolor": "white",
            "ticks": ""
           },
           "bgcolor": "#E5ECF6",
           "caxis": {
            "gridcolor": "white",
            "linecolor": "white",
            "ticks": ""
           }
          },
          "title": {
           "x": 0.05
          },
          "xaxis": {
           "automargin": true,
           "gridcolor": "white",
           "linecolor": "white",
           "ticks": "",
           "title": {
            "standoff": 15
           },
           "zerolinecolor": "white",
           "zerolinewidth": 2
          },
          "yaxis": {
           "automargin": true,
           "gridcolor": "white",
           "linecolor": "white",
           "ticks": "",
           "title": {
            "standoff": 15
           },
           "zerolinecolor": "white",
           "zerolinewidth": 2
          }
         }
        },
        "title": {
         "text": "Field platform types count"
        },
        "xaxis": {
         "anchor": "y",
         "domain": [
          0,
          1
         ],
         "title": {
          "text": "platform"
         }
        },
        "yaxis": {
         "anchor": "x",
         "domain": [
          0,
          1
         ],
         "title": {
          "text": "count"
         }
        }
       }
      },
      "text/html": [
       "<div>                            <div id=\"9c6532c5-17ff-4a0b-a957-19cc8760d0f0\" class=\"plotly-graph-div\" style=\"height:525px; width:100%;\"></div>            <script type=\"text/javascript\">                require([\"plotly\"], function(Plotly) {                    window.PLOTLYENV=window.PLOTLYENV || {};                                    if (document.getElementById(\"9c6532c5-17ff-4a0b-a957-19cc8760d0f0\")) {                    Plotly.newPlot(                        \"9c6532c5-17ff-4a0b-a957-19cc8760d0f0\",                        [{\"alignmentgroup\":\"True\",\"hovertemplate\":\"platform=%{x}<br>count=%{marker.color}<extra></extra>\",\"legendgroup\":\"\",\"marker\":{\"color\":[2727,1228,138,45,26,18,14,10,8,1],\"coloraxis\":\"coloraxis\",\"pattern\":{\"shape\":\"\"}},\"name\":\"\",\"offsetgroup\":\"\",\"orientation\":\"v\",\"showlegend\":false,\"text\":[2727.0,1228.0,138.0,45.0,26.0,18.0,14.0,10.0,8.0,1.0],\"textposition\":\"outside\",\"x\":[\"Unspecified\",\"All\",\"x86\",\"x86_64\",\"ARM64\",\"Other\",\"Desktop\",\"ARM\",\"PowerPC\",\"HP\"],\"xaxis\":\"x\",\"y\":[2727,1228,138,45,26,18,14,10,8,1],\"yaxis\":\"y\",\"type\":\"bar\",\"textfont\":{\"size\":10},\"texttemplate\":\"%{text:.2f}\"}],                        {\"template\":{\"data\":{\"histogram2dcontour\":[{\"type\":\"histogram2dcontour\",\"colorbar\":{\"outlinewidth\":0,\"ticks\":\"\"},\"colorscale\":[[0.0,\"#0d0887\"],[0.1111111111111111,\"#46039f\"],[0.2222222222222222,\"#7201a8\"],[0.3333333333333333,\"#9c179e\"],[0.4444444444444444,\"#bd3786\"],[0.5555555555555556,\"#d8576b\"],[0.6666666666666666,\"#ed7953\"],[0.7777777777777778,\"#fb9f3a\"],[0.8888888888888888,\"#fdca26\"],[1.0,\"#f0f921\"]]}],\"choropleth\":[{\"type\":\"choropleth\",\"colorbar\":{\"outlinewidth\":0,\"ticks\":\"\"}}],\"histogram2d\":[{\"type\":\"histogram2d\",\"colorbar\":{\"outlinewidth\":0,\"ticks\":\"\"},\"colorscale\":[[0.0,\"#0d0887\"],[0.1111111111111111,\"#46039f\"],[0.2222222222222222,\"#7201a8\"],[0.3333333333333333,\"#9c179e\"],[0.4444444444444444,\"#bd3786\"],[0.5555555555555556,\"#d8576b\"],[0.6666666666666666,\"#ed7953\"],[0.7777777777777778,\"#fb9f3a\"],[0.8888888888888888,\"#fdca26\"],[1.0,\"#f0f921\"]]}],\"heatmap\":[{\"type\":\"heatmap\",\"colorbar\":{\"outlinewidth\":0,\"ticks\":\"\"},\"colorscale\":[[0.0,\"#0d0887\"],[0.1111111111111111,\"#46039f\"],[0.2222222222222222,\"#7201a8\"],[0.3333333333333333,\"#9c179e\"],[0.4444444444444444,\"#bd3786\"],[0.5555555555555556,\"#d8576b\"],[0.6666666666666666,\"#ed7953\"],[0.7777777777777778,\"#fb9f3a\"],[0.8888888888888888,\"#fdca26\"],[1.0,\"#f0f921\"]]}],\"heatmapgl\":[{\"type\":\"heatmapgl\",\"colorbar\":{\"outlinewidth\":0,\"ticks\":\"\"},\"colorscale\":[[0.0,\"#0d0887\"],[0.1111111111111111,\"#46039f\"],[0.2222222222222222,\"#7201a8\"],[0.3333333333333333,\"#9c179e\"],[0.4444444444444444,\"#bd3786\"],[0.5555555555555556,\"#d8576b\"],[0.6666666666666666,\"#ed7953\"],[0.7777777777777778,\"#fb9f3a\"],[0.8888888888888888,\"#fdca26\"],[1.0,\"#f0f921\"]]}],\"contourcarpet\":[{\"type\":\"contourcarpet\",\"colorbar\":{\"outlinewidth\":0,\"ticks\":\"\"}}],\"contour\":[{\"type\":\"contour\",\"colorbar\":{\"outlinewidth\":0,\"ticks\":\"\"},\"colorscale\":[[0.0,\"#0d0887\"],[0.1111111111111111,\"#46039f\"],[0.2222222222222222,\"#7201a8\"],[0.3333333333333333,\"#9c179e\"],[0.4444444444444444,\"#bd3786\"],[0.5555555555555556,\"#d8576b\"],[0.6666666666666666,\"#ed7953\"],[0.7777777777777778,\"#fb9f3a\"],[0.8888888888888888,\"#fdca26\"],[1.0,\"#f0f921\"]]}],\"surface\":[{\"type\":\"surface\",\"colorbar\":{\"outlinewidth\":0,\"ticks\":\"\"},\"colorscale\":[[0.0,\"#0d0887\"],[0.1111111111111111,\"#46039f\"],[0.2222222222222222,\"#7201a8\"],[0.3333333333333333,\"#9c179e\"],[0.4444444444444444,\"#bd3786\"],[0.5555555555555556,\"#d8576b\"],[0.6666666666666666,\"#ed7953\"],[0.7777777777777778,\"#fb9f3a\"],[0.8888888888888888,\"#fdca26\"],[1.0,\"#f0f921\"]]}],\"mesh3d\":[{\"type\":\"mesh3d\",\"colorbar\":{\"outlinewidth\":0,\"ticks\":\"\"}}],\"scatter\":[{\"fillpattern\":{\"fillmode\":\"overlay\",\"size\":10,\"solidity\":0.2},\"type\":\"scatter\"}],\"parcoords\":[{\"type\":\"parcoords\",\"line\":{\"colorbar\":{\"outlinewidth\":0,\"ticks\":\"\"}}}],\"scatterpolargl\":[{\"type\":\"scatterpolargl\",\"marker\":{\"colorbar\":{\"outlinewidth\":0,\"ticks\":\"\"}}}],\"bar\":[{\"error_x\":{\"color\":\"#2a3f5f\"},\"error_y\":{\"color\":\"#2a3f5f\"},\"marker\":{\"line\":{\"color\":\"#E5ECF6\",\"width\":0.5},\"pattern\":{\"fillmode\":\"overlay\",\"size\":10,\"solidity\":0.2}},\"type\":\"bar\"}],\"scattergeo\":[{\"type\":\"scattergeo\",\"marker\":{\"colorbar\":{\"outlinewidth\":0,\"ticks\":\"\"}}}],\"scatterpolar\":[{\"type\":\"scatterpolar\",\"marker\":{\"colorbar\":{\"outlinewidth\":0,\"ticks\":\"\"}}}],\"histogram\":[{\"marker\":{\"pattern\":{\"fillmode\":\"overlay\",\"size\":10,\"solidity\":0.2}},\"type\":\"histogram\"}],\"scattergl\":[{\"type\":\"scattergl\",\"marker\":{\"colorbar\":{\"outlinewidth\":0,\"ticks\":\"\"}}}],\"scatter3d\":[{\"type\":\"scatter3d\",\"line\":{\"colorbar\":{\"outlinewidth\":0,\"ticks\":\"\"}},\"marker\":{\"colorbar\":{\"outlinewidth\":0,\"ticks\":\"\"}}}],\"scattermapbox\":[{\"type\":\"scattermapbox\",\"marker\":{\"colorbar\":{\"outlinewidth\":0,\"ticks\":\"\"}}}],\"scatterternary\":[{\"type\":\"scatterternary\",\"marker\":{\"colorbar\":{\"outlinewidth\":0,\"ticks\":\"\"}}}],\"scattercarpet\":[{\"type\":\"scattercarpet\",\"marker\":{\"colorbar\":{\"outlinewidth\":0,\"ticks\":\"\"}}}],\"carpet\":[{\"aaxis\":{\"endlinecolor\":\"#2a3f5f\",\"gridcolor\":\"white\",\"linecolor\":\"white\",\"minorgridcolor\":\"white\",\"startlinecolor\":\"#2a3f5f\"},\"baxis\":{\"endlinecolor\":\"#2a3f5f\",\"gridcolor\":\"white\",\"linecolor\":\"white\",\"minorgridcolor\":\"white\",\"startlinecolor\":\"#2a3f5f\"},\"type\":\"carpet\"}],\"table\":[{\"cells\":{\"fill\":{\"color\":\"#EBF0F8\"},\"line\":{\"color\":\"white\"}},\"header\":{\"fill\":{\"color\":\"#C8D4E3\"},\"line\":{\"color\":\"white\"}},\"type\":\"table\"}],\"barpolar\":[{\"marker\":{\"line\":{\"color\":\"#E5ECF6\",\"width\":0.5},\"pattern\":{\"fillmode\":\"overlay\",\"size\":10,\"solidity\":0.2}},\"type\":\"barpolar\"}],\"pie\":[{\"automargin\":true,\"type\":\"pie\"}]},\"layout\":{\"autotypenumbers\":\"strict\",\"colorway\":[\"#636efa\",\"#EF553B\",\"#00cc96\",\"#ab63fa\",\"#FFA15A\",\"#19d3f3\",\"#FF6692\",\"#B6E880\",\"#FF97FF\",\"#FECB52\"],\"font\":{\"color\":\"#2a3f5f\"},\"hovermode\":\"closest\",\"hoverlabel\":{\"align\":\"left\"},\"paper_bgcolor\":\"white\",\"plot_bgcolor\":\"#E5ECF6\",\"polar\":{\"bgcolor\":\"#E5ECF6\",\"angularaxis\":{\"gridcolor\":\"white\",\"linecolor\":\"white\",\"ticks\":\"\"},\"radialaxis\":{\"gridcolor\":\"white\",\"linecolor\":\"white\",\"ticks\":\"\"}},\"ternary\":{\"bgcolor\":\"#E5ECF6\",\"aaxis\":{\"gridcolor\":\"white\",\"linecolor\":\"white\",\"ticks\":\"\"},\"baxis\":{\"gridcolor\":\"white\",\"linecolor\":\"white\",\"ticks\":\"\"},\"caxis\":{\"gridcolor\":\"white\",\"linecolor\":\"white\",\"ticks\":\"\"}},\"coloraxis\":{\"colorbar\":{\"outlinewidth\":0,\"ticks\":\"\"}},\"colorscale\":{\"sequential\":[[0.0,\"#0d0887\"],[0.1111111111111111,\"#46039f\"],[0.2222222222222222,\"#7201a8\"],[0.3333333333333333,\"#9c179e\"],[0.4444444444444444,\"#bd3786\"],[0.5555555555555556,\"#d8576b\"],[0.6666666666666666,\"#ed7953\"],[0.7777777777777778,\"#fb9f3a\"],[0.8888888888888888,\"#fdca26\"],[1.0,\"#f0f921\"]],\"sequentialminus\":[[0.0,\"#0d0887\"],[0.1111111111111111,\"#46039f\"],[0.2222222222222222,\"#7201a8\"],[0.3333333333333333,\"#9c179e\"],[0.4444444444444444,\"#bd3786\"],[0.5555555555555556,\"#d8576b\"],[0.6666666666666666,\"#ed7953\"],[0.7777777777777778,\"#fb9f3a\"],[0.8888888888888888,\"#fdca26\"],[1.0,\"#f0f921\"]],\"diverging\":[[0,\"#8e0152\"],[0.1,\"#c51b7d\"],[0.2,\"#de77ae\"],[0.3,\"#f1b6da\"],[0.4,\"#fde0ef\"],[0.5,\"#f7f7f7\"],[0.6,\"#e6f5d0\"],[0.7,\"#b8e186\"],[0.8,\"#7fbc41\"],[0.9,\"#4d9221\"],[1,\"#276419\"]]},\"xaxis\":{\"gridcolor\":\"white\",\"linecolor\":\"white\",\"ticks\":\"\",\"title\":{\"standoff\":15},\"zerolinecolor\":\"white\",\"automargin\":true,\"zerolinewidth\":2},\"yaxis\":{\"gridcolor\":\"white\",\"linecolor\":\"white\",\"ticks\":\"\",\"title\":{\"standoff\":15},\"zerolinecolor\":\"white\",\"automargin\":true,\"zerolinewidth\":2},\"scene\":{\"xaxis\":{\"backgroundcolor\":\"#E5ECF6\",\"gridcolor\":\"white\",\"linecolor\":\"white\",\"showbackground\":true,\"ticks\":\"\",\"zerolinecolor\":\"white\",\"gridwidth\":2},\"yaxis\":{\"backgroundcolor\":\"#E5ECF6\",\"gridcolor\":\"white\",\"linecolor\":\"white\",\"showbackground\":true,\"ticks\":\"\",\"zerolinecolor\":\"white\",\"gridwidth\":2},\"zaxis\":{\"backgroundcolor\":\"#E5ECF6\",\"gridcolor\":\"white\",\"linecolor\":\"white\",\"showbackground\":true,\"ticks\":\"\",\"zerolinecolor\":\"white\",\"gridwidth\":2}},\"shapedefaults\":{\"line\":{\"color\":\"#2a3f5f\"}},\"annotationdefaults\":{\"arrowcolor\":\"#2a3f5f\",\"arrowhead\":0,\"arrowwidth\":1},\"geo\":{\"bgcolor\":\"white\",\"landcolor\":\"#E5ECF6\",\"subunitcolor\":\"white\",\"showland\":true,\"showlakes\":true,\"lakecolor\":\"white\"},\"title\":{\"x\":0.05},\"mapbox\":{\"style\":\"light\"}}},\"xaxis\":{\"anchor\":\"y\",\"domain\":[0.0,1.0],\"title\":{\"text\":\"platform\"}},\"yaxis\":{\"anchor\":\"x\",\"domain\":[0.0,1.0],\"title\":{\"text\":\"count\"}},\"coloraxis\":{\"colorbar\":{\"title\":{\"text\":\"count\"}},\"colorscale\":[[0.0,\"rgb(237, 217, 163)\"],[0.16666666666666666,\"rgb(246, 169, 122)\"],[0.3333333333333333,\"rgb(250, 120, 118)\"],[0.5,\"rgb(234, 79, 136)\"],[0.6666666666666666,\"rgb(192, 54, 157)\"],[0.8333333333333334,\"rgb(135, 44, 162)\"],[1.0,\"rgb(75, 41, 145)\"]]},\"legend\":{\"tracegroupgap\":0},\"margin\":{\"t\":60},\"barmode\":\"relative\",\"title\":{\"text\":\"Field platform types count\"}},                        {\"responsive\": true}                    ).then(function(){\n",
       "                            \n",
       "var gd = document.getElementById('9c6532c5-17ff-4a0b-a957-19cc8760d0f0');\n",
       "var x = new MutationObserver(function (mutations, observer) {{\n",
       "        var display = window.getComputedStyle(gd).display;\n",
       "        if (!display || display === 'none') {{\n",
       "            console.log([gd, 'removed!']);\n",
       "            Plotly.purge(gd);\n",
       "            observer.disconnect();\n",
       "        }}\n",
       "}});\n",
       "\n",
       "// Listen for the removal of the full notebook cells\n",
       "var notebookContainer = gd.closest('#notebook-container');\n",
       "if (notebookContainer) {{\n",
       "    x.observe(notebookContainer, {childList: true});\n",
       "}}\n",
       "\n",
       "// Listen for the clearing of the current output cell\n",
       "var outputEl = gd.closest('.output');\n",
       "if (outputEl) {{\n",
       "    x.observe(outputEl, {childList: true});\n",
       "}}\n",
       "\n",
       "                        })                };                });            </script>        </div>"
      ]
     },
     "metadata": {},
     "output_type": "display_data"
    },
    {
     "data": {
      "application/vnd.plotly.v1+json": {
       "config": {
        "plotlyServerURL": "https://plot.ly"
       },
       "data": [
        {
         "alignmentgroup": "True",
         "hovertemplate": "status=%{x}<br>count=%{marker.color}<extra></extra>",
         "legendgroup": "",
         "marker": {
          "color": [
           3695,
           366,
           109,
           30,
           15
          ],
          "coloraxis": "coloraxis",
          "pattern": {
           "shape": ""
          }
         },
         "name": "",
         "offsetgroup": "",
         "orientation": "v",
         "showlegend": false,
         "text": [
          3695,
          366,
          109,
          30,
          15
         ],
         "textfont": {
          "size": 10
         },
         "textposition": "outside",
         "texttemplate": "%{text:.2f}",
         "type": "bar",
         "x": [
          "NEW",
          "ASSIGNED",
          "REOPENED",
          "UNCONFIRMED",
          "RESOLVED"
         ],
         "xaxis": "x",
         "y": [
          3695,
          366,
          109,
          30,
          15
         ],
         "yaxis": "y"
        }
       ],
       "layout": {
        "barmode": "relative",
        "coloraxis": {
         "colorbar": {
          "title": {
           "text": "count"
          }
         },
         "colorscale": [
          [
           0,
           "rgb(237, 217, 163)"
          ],
          [
           0.16666666666666666,
           "rgb(246, 169, 122)"
          ],
          [
           0.3333333333333333,
           "rgb(250, 120, 118)"
          ],
          [
           0.5,
           "rgb(234, 79, 136)"
          ],
          [
           0.6666666666666666,
           "rgb(192, 54, 157)"
          ],
          [
           0.8333333333333334,
           "rgb(135, 44, 162)"
          ],
          [
           1,
           "rgb(75, 41, 145)"
          ]
         ]
        },
        "legend": {
         "tracegroupgap": 0
        },
        "margin": {
         "t": 60
        },
        "template": {
         "data": {
          "bar": [
           {
            "error_x": {
             "color": "#2a3f5f"
            },
            "error_y": {
             "color": "#2a3f5f"
            },
            "marker": {
             "line": {
              "color": "#E5ECF6",
              "width": 0.5
             },
             "pattern": {
              "fillmode": "overlay",
              "size": 10,
              "solidity": 0.2
             }
            },
            "type": "bar"
           }
          ],
          "barpolar": [
           {
            "marker": {
             "line": {
              "color": "#E5ECF6",
              "width": 0.5
             },
             "pattern": {
              "fillmode": "overlay",
              "size": 10,
              "solidity": 0.2
             }
            },
            "type": "barpolar"
           }
          ],
          "carpet": [
           {
            "aaxis": {
             "endlinecolor": "#2a3f5f",
             "gridcolor": "white",
             "linecolor": "white",
             "minorgridcolor": "white",
             "startlinecolor": "#2a3f5f"
            },
            "baxis": {
             "endlinecolor": "#2a3f5f",
             "gridcolor": "white",
             "linecolor": "white",
             "minorgridcolor": "white",
             "startlinecolor": "#2a3f5f"
            },
            "type": "carpet"
           }
          ],
          "choropleth": [
           {
            "colorbar": {
             "outlinewidth": 0,
             "ticks": ""
            },
            "type": "choropleth"
           }
          ],
          "contour": [
           {
            "colorbar": {
             "outlinewidth": 0,
             "ticks": ""
            },
            "colorscale": [
             [
              0,
              "#0d0887"
             ],
             [
              0.1111111111111111,
              "#46039f"
             ],
             [
              0.2222222222222222,
              "#7201a8"
             ],
             [
              0.3333333333333333,
              "#9c179e"
             ],
             [
              0.4444444444444444,
              "#bd3786"
             ],
             [
              0.5555555555555556,
              "#d8576b"
             ],
             [
              0.6666666666666666,
              "#ed7953"
             ],
             [
              0.7777777777777778,
              "#fb9f3a"
             ],
             [
              0.8888888888888888,
              "#fdca26"
             ],
             [
              1,
              "#f0f921"
             ]
            ],
            "type": "contour"
           }
          ],
          "contourcarpet": [
           {
            "colorbar": {
             "outlinewidth": 0,
             "ticks": ""
            },
            "type": "contourcarpet"
           }
          ],
          "heatmap": [
           {
            "colorbar": {
             "outlinewidth": 0,
             "ticks": ""
            },
            "colorscale": [
             [
              0,
              "#0d0887"
             ],
             [
              0.1111111111111111,
              "#46039f"
             ],
             [
              0.2222222222222222,
              "#7201a8"
             ],
             [
              0.3333333333333333,
              "#9c179e"
             ],
             [
              0.4444444444444444,
              "#bd3786"
             ],
             [
              0.5555555555555556,
              "#d8576b"
             ],
             [
              0.6666666666666666,
              "#ed7953"
             ],
             [
              0.7777777777777778,
              "#fb9f3a"
             ],
             [
              0.8888888888888888,
              "#fdca26"
             ],
             [
              1,
              "#f0f921"
             ]
            ],
            "type": "heatmap"
           }
          ],
          "heatmapgl": [
           {
            "colorbar": {
             "outlinewidth": 0,
             "ticks": ""
            },
            "colorscale": [
             [
              0,
              "#0d0887"
             ],
             [
              0.1111111111111111,
              "#46039f"
             ],
             [
              0.2222222222222222,
              "#7201a8"
             ],
             [
              0.3333333333333333,
              "#9c179e"
             ],
             [
              0.4444444444444444,
              "#bd3786"
             ],
             [
              0.5555555555555556,
              "#d8576b"
             ],
             [
              0.6666666666666666,
              "#ed7953"
             ],
             [
              0.7777777777777778,
              "#fb9f3a"
             ],
             [
              0.8888888888888888,
              "#fdca26"
             ],
             [
              1,
              "#f0f921"
             ]
            ],
            "type": "heatmapgl"
           }
          ],
          "histogram": [
           {
            "marker": {
             "pattern": {
              "fillmode": "overlay",
              "size": 10,
              "solidity": 0.2
             }
            },
            "type": "histogram"
           }
          ],
          "histogram2d": [
           {
            "colorbar": {
             "outlinewidth": 0,
             "ticks": ""
            },
            "colorscale": [
             [
              0,
              "#0d0887"
             ],
             [
              0.1111111111111111,
              "#46039f"
             ],
             [
              0.2222222222222222,
              "#7201a8"
             ],
             [
              0.3333333333333333,
              "#9c179e"
             ],
             [
              0.4444444444444444,
              "#bd3786"
             ],
             [
              0.5555555555555556,
              "#d8576b"
             ],
             [
              0.6666666666666666,
              "#ed7953"
             ],
             [
              0.7777777777777778,
              "#fb9f3a"
             ],
             [
              0.8888888888888888,
              "#fdca26"
             ],
             [
              1,
              "#f0f921"
             ]
            ],
            "type": "histogram2d"
           }
          ],
          "histogram2dcontour": [
           {
            "colorbar": {
             "outlinewidth": 0,
             "ticks": ""
            },
            "colorscale": [
             [
              0,
              "#0d0887"
             ],
             [
              0.1111111111111111,
              "#46039f"
             ],
             [
              0.2222222222222222,
              "#7201a8"
             ],
             [
              0.3333333333333333,
              "#9c179e"
             ],
             [
              0.4444444444444444,
              "#bd3786"
             ],
             [
              0.5555555555555556,
              "#d8576b"
             ],
             [
              0.6666666666666666,
              "#ed7953"
             ],
             [
              0.7777777777777778,
              "#fb9f3a"
             ],
             [
              0.8888888888888888,
              "#fdca26"
             ],
             [
              1,
              "#f0f921"
             ]
            ],
            "type": "histogram2dcontour"
           }
          ],
          "mesh3d": [
           {
            "colorbar": {
             "outlinewidth": 0,
             "ticks": ""
            },
            "type": "mesh3d"
           }
          ],
          "parcoords": [
           {
            "line": {
             "colorbar": {
              "outlinewidth": 0,
              "ticks": ""
             }
            },
            "type": "parcoords"
           }
          ],
          "pie": [
           {
            "automargin": true,
            "type": "pie"
           }
          ],
          "scatter": [
           {
            "fillpattern": {
             "fillmode": "overlay",
             "size": 10,
             "solidity": 0.2
            },
            "type": "scatter"
           }
          ],
          "scatter3d": [
           {
            "line": {
             "colorbar": {
              "outlinewidth": 0,
              "ticks": ""
             }
            },
            "marker": {
             "colorbar": {
              "outlinewidth": 0,
              "ticks": ""
             }
            },
            "type": "scatter3d"
           }
          ],
          "scattercarpet": [
           {
            "marker": {
             "colorbar": {
              "outlinewidth": 0,
              "ticks": ""
             }
            },
            "type": "scattercarpet"
           }
          ],
          "scattergeo": [
           {
            "marker": {
             "colorbar": {
              "outlinewidth": 0,
              "ticks": ""
             }
            },
            "type": "scattergeo"
           }
          ],
          "scattergl": [
           {
            "marker": {
             "colorbar": {
              "outlinewidth": 0,
              "ticks": ""
             }
            },
            "type": "scattergl"
           }
          ],
          "scattermapbox": [
           {
            "marker": {
             "colorbar": {
              "outlinewidth": 0,
              "ticks": ""
             }
            },
            "type": "scattermapbox"
           }
          ],
          "scatterpolar": [
           {
            "marker": {
             "colorbar": {
              "outlinewidth": 0,
              "ticks": ""
             }
            },
            "type": "scatterpolar"
           }
          ],
          "scatterpolargl": [
           {
            "marker": {
             "colorbar": {
              "outlinewidth": 0,
              "ticks": ""
             }
            },
            "type": "scatterpolargl"
           }
          ],
          "scatterternary": [
           {
            "marker": {
             "colorbar": {
              "outlinewidth": 0,
              "ticks": ""
             }
            },
            "type": "scatterternary"
           }
          ],
          "surface": [
           {
            "colorbar": {
             "outlinewidth": 0,
             "ticks": ""
            },
            "colorscale": [
             [
              0,
              "#0d0887"
             ],
             [
              0.1111111111111111,
              "#46039f"
             ],
             [
              0.2222222222222222,
              "#7201a8"
             ],
             [
              0.3333333333333333,
              "#9c179e"
             ],
             [
              0.4444444444444444,
              "#bd3786"
             ],
             [
              0.5555555555555556,
              "#d8576b"
             ],
             [
              0.6666666666666666,
              "#ed7953"
             ],
             [
              0.7777777777777778,
              "#fb9f3a"
             ],
             [
              0.8888888888888888,
              "#fdca26"
             ],
             [
              1,
              "#f0f921"
             ]
            ],
            "type": "surface"
           }
          ],
          "table": [
           {
            "cells": {
             "fill": {
              "color": "#EBF0F8"
             },
             "line": {
              "color": "white"
             }
            },
            "header": {
             "fill": {
              "color": "#C8D4E3"
             },
             "line": {
              "color": "white"
             }
            },
            "type": "table"
           }
          ]
         },
         "layout": {
          "annotationdefaults": {
           "arrowcolor": "#2a3f5f",
           "arrowhead": 0,
           "arrowwidth": 1
          },
          "autotypenumbers": "strict",
          "coloraxis": {
           "colorbar": {
            "outlinewidth": 0,
            "ticks": ""
           }
          },
          "colorscale": {
           "diverging": [
            [
             0,
             "#8e0152"
            ],
            [
             0.1,
             "#c51b7d"
            ],
            [
             0.2,
             "#de77ae"
            ],
            [
             0.3,
             "#f1b6da"
            ],
            [
             0.4,
             "#fde0ef"
            ],
            [
             0.5,
             "#f7f7f7"
            ],
            [
             0.6,
             "#e6f5d0"
            ],
            [
             0.7,
             "#b8e186"
            ],
            [
             0.8,
             "#7fbc41"
            ],
            [
             0.9,
             "#4d9221"
            ],
            [
             1,
             "#276419"
            ]
           ],
           "sequential": [
            [
             0,
             "#0d0887"
            ],
            [
             0.1111111111111111,
             "#46039f"
            ],
            [
             0.2222222222222222,
             "#7201a8"
            ],
            [
             0.3333333333333333,
             "#9c179e"
            ],
            [
             0.4444444444444444,
             "#bd3786"
            ],
            [
             0.5555555555555556,
             "#d8576b"
            ],
            [
             0.6666666666666666,
             "#ed7953"
            ],
            [
             0.7777777777777778,
             "#fb9f3a"
            ],
            [
             0.8888888888888888,
             "#fdca26"
            ],
            [
             1,
             "#f0f921"
            ]
           ],
           "sequentialminus": [
            [
             0,
             "#0d0887"
            ],
            [
             0.1111111111111111,
             "#46039f"
            ],
            [
             0.2222222222222222,
             "#7201a8"
            ],
            [
             0.3333333333333333,
             "#9c179e"
            ],
            [
             0.4444444444444444,
             "#bd3786"
            ],
            [
             0.5555555555555556,
             "#d8576b"
            ],
            [
             0.6666666666666666,
             "#ed7953"
            ],
            [
             0.7777777777777778,
             "#fb9f3a"
            ],
            [
             0.8888888888888888,
             "#fdca26"
            ],
            [
             1,
             "#f0f921"
            ]
           ]
          },
          "colorway": [
           "#636efa",
           "#EF553B",
           "#00cc96",
           "#ab63fa",
           "#FFA15A",
           "#19d3f3",
           "#FF6692",
           "#B6E880",
           "#FF97FF",
           "#FECB52"
          ],
          "font": {
           "color": "#2a3f5f"
          },
          "geo": {
           "bgcolor": "white",
           "lakecolor": "white",
           "landcolor": "#E5ECF6",
           "showlakes": true,
           "showland": true,
           "subunitcolor": "white"
          },
          "hoverlabel": {
           "align": "left"
          },
          "hovermode": "closest",
          "mapbox": {
           "style": "light"
          },
          "paper_bgcolor": "white",
          "plot_bgcolor": "#E5ECF6",
          "polar": {
           "angularaxis": {
            "gridcolor": "white",
            "linecolor": "white",
            "ticks": ""
           },
           "bgcolor": "#E5ECF6",
           "radialaxis": {
            "gridcolor": "white",
            "linecolor": "white",
            "ticks": ""
           }
          },
          "scene": {
           "xaxis": {
            "backgroundcolor": "#E5ECF6",
            "gridcolor": "white",
            "gridwidth": 2,
            "linecolor": "white",
            "showbackground": true,
            "ticks": "",
            "zerolinecolor": "white"
           },
           "yaxis": {
            "backgroundcolor": "#E5ECF6",
            "gridcolor": "white",
            "gridwidth": 2,
            "linecolor": "white",
            "showbackground": true,
            "ticks": "",
            "zerolinecolor": "white"
           },
           "zaxis": {
            "backgroundcolor": "#E5ECF6",
            "gridcolor": "white",
            "gridwidth": 2,
            "linecolor": "white",
            "showbackground": true,
            "ticks": "",
            "zerolinecolor": "white"
           }
          },
          "shapedefaults": {
           "line": {
            "color": "#2a3f5f"
           }
          },
          "ternary": {
           "aaxis": {
            "gridcolor": "white",
            "linecolor": "white",
            "ticks": ""
           },
           "baxis": {
            "gridcolor": "white",
            "linecolor": "white",
            "ticks": ""
           },
           "bgcolor": "#E5ECF6",
           "caxis": {
            "gridcolor": "white",
            "linecolor": "white",
            "ticks": ""
           }
          },
          "title": {
           "x": 0.05
          },
          "xaxis": {
           "automargin": true,
           "gridcolor": "white",
           "linecolor": "white",
           "ticks": "",
           "title": {
            "standoff": 15
           },
           "zerolinecolor": "white",
           "zerolinewidth": 2
          },
          "yaxis": {
           "automargin": true,
           "gridcolor": "white",
           "linecolor": "white",
           "ticks": "",
           "title": {
            "standoff": 15
           },
           "zerolinecolor": "white",
           "zerolinewidth": 2
          }
         }
        },
        "title": {
         "text": "Field status types count"
        },
        "xaxis": {
         "anchor": "y",
         "domain": [
          0,
          1
         ],
         "title": {
          "text": "status"
         }
        },
        "yaxis": {
         "anchor": "x",
         "domain": [
          0,
          1
         ],
         "title": {
          "text": "count"
         }
        }
       }
      },
      "text/html": [
       "<div>                            <div id=\"51091667-5a2b-4be3-94ef-c97cdc7efa24\" class=\"plotly-graph-div\" style=\"height:525px; width:100%;\"></div>            <script type=\"text/javascript\">                require([\"plotly\"], function(Plotly) {                    window.PLOTLYENV=window.PLOTLYENV || {};                                    if (document.getElementById(\"51091667-5a2b-4be3-94ef-c97cdc7efa24\")) {                    Plotly.newPlot(                        \"51091667-5a2b-4be3-94ef-c97cdc7efa24\",                        [{\"alignmentgroup\":\"True\",\"hovertemplate\":\"status=%{x}<br>count=%{marker.color}<extra></extra>\",\"legendgroup\":\"\",\"marker\":{\"color\":[3695,366,109,30,15],\"coloraxis\":\"coloraxis\",\"pattern\":{\"shape\":\"\"}},\"name\":\"\",\"offsetgroup\":\"\",\"orientation\":\"v\",\"showlegend\":false,\"text\":[3695.0,366.0,109.0,30.0,15.0],\"textposition\":\"outside\",\"x\":[\"NEW\",\"ASSIGNED\",\"REOPENED\",\"UNCONFIRMED\",\"RESOLVED\"],\"xaxis\":\"x\",\"y\":[3695,366,109,30,15],\"yaxis\":\"y\",\"type\":\"bar\",\"textfont\":{\"size\":10},\"texttemplate\":\"%{text:.2f}\"}],                        {\"template\":{\"data\":{\"histogram2dcontour\":[{\"type\":\"histogram2dcontour\",\"colorbar\":{\"outlinewidth\":0,\"ticks\":\"\"},\"colorscale\":[[0.0,\"#0d0887\"],[0.1111111111111111,\"#46039f\"],[0.2222222222222222,\"#7201a8\"],[0.3333333333333333,\"#9c179e\"],[0.4444444444444444,\"#bd3786\"],[0.5555555555555556,\"#d8576b\"],[0.6666666666666666,\"#ed7953\"],[0.7777777777777778,\"#fb9f3a\"],[0.8888888888888888,\"#fdca26\"],[1.0,\"#f0f921\"]]}],\"choropleth\":[{\"type\":\"choropleth\",\"colorbar\":{\"outlinewidth\":0,\"ticks\":\"\"}}],\"histogram2d\":[{\"type\":\"histogram2d\",\"colorbar\":{\"outlinewidth\":0,\"ticks\":\"\"},\"colorscale\":[[0.0,\"#0d0887\"],[0.1111111111111111,\"#46039f\"],[0.2222222222222222,\"#7201a8\"],[0.3333333333333333,\"#9c179e\"],[0.4444444444444444,\"#bd3786\"],[0.5555555555555556,\"#d8576b\"],[0.6666666666666666,\"#ed7953\"],[0.7777777777777778,\"#fb9f3a\"],[0.8888888888888888,\"#fdca26\"],[1.0,\"#f0f921\"]]}],\"heatmap\":[{\"type\":\"heatmap\",\"colorbar\":{\"outlinewidth\":0,\"ticks\":\"\"},\"colorscale\":[[0.0,\"#0d0887\"],[0.1111111111111111,\"#46039f\"],[0.2222222222222222,\"#7201a8\"],[0.3333333333333333,\"#9c179e\"],[0.4444444444444444,\"#bd3786\"],[0.5555555555555556,\"#d8576b\"],[0.6666666666666666,\"#ed7953\"],[0.7777777777777778,\"#fb9f3a\"],[0.8888888888888888,\"#fdca26\"],[1.0,\"#f0f921\"]]}],\"heatmapgl\":[{\"type\":\"heatmapgl\",\"colorbar\":{\"outlinewidth\":0,\"ticks\":\"\"},\"colorscale\":[[0.0,\"#0d0887\"],[0.1111111111111111,\"#46039f\"],[0.2222222222222222,\"#7201a8\"],[0.3333333333333333,\"#9c179e\"],[0.4444444444444444,\"#bd3786\"],[0.5555555555555556,\"#d8576b\"],[0.6666666666666666,\"#ed7953\"],[0.7777777777777778,\"#fb9f3a\"],[0.8888888888888888,\"#fdca26\"],[1.0,\"#f0f921\"]]}],\"contourcarpet\":[{\"type\":\"contourcarpet\",\"colorbar\":{\"outlinewidth\":0,\"ticks\":\"\"}}],\"contour\":[{\"type\":\"contour\",\"colorbar\":{\"outlinewidth\":0,\"ticks\":\"\"},\"colorscale\":[[0.0,\"#0d0887\"],[0.1111111111111111,\"#46039f\"],[0.2222222222222222,\"#7201a8\"],[0.3333333333333333,\"#9c179e\"],[0.4444444444444444,\"#bd3786\"],[0.5555555555555556,\"#d8576b\"],[0.6666666666666666,\"#ed7953\"],[0.7777777777777778,\"#fb9f3a\"],[0.8888888888888888,\"#fdca26\"],[1.0,\"#f0f921\"]]}],\"surface\":[{\"type\":\"surface\",\"colorbar\":{\"outlinewidth\":0,\"ticks\":\"\"},\"colorscale\":[[0.0,\"#0d0887\"],[0.1111111111111111,\"#46039f\"],[0.2222222222222222,\"#7201a8\"],[0.3333333333333333,\"#9c179e\"],[0.4444444444444444,\"#bd3786\"],[0.5555555555555556,\"#d8576b\"],[0.6666666666666666,\"#ed7953\"],[0.7777777777777778,\"#fb9f3a\"],[0.8888888888888888,\"#fdca26\"],[1.0,\"#f0f921\"]]}],\"mesh3d\":[{\"type\":\"mesh3d\",\"colorbar\":{\"outlinewidth\":0,\"ticks\":\"\"}}],\"scatter\":[{\"fillpattern\":{\"fillmode\":\"overlay\",\"size\":10,\"solidity\":0.2},\"type\":\"scatter\"}],\"parcoords\":[{\"type\":\"parcoords\",\"line\":{\"colorbar\":{\"outlinewidth\":0,\"ticks\":\"\"}}}],\"scatterpolargl\":[{\"type\":\"scatterpolargl\",\"marker\":{\"colorbar\":{\"outlinewidth\":0,\"ticks\":\"\"}}}],\"bar\":[{\"error_x\":{\"color\":\"#2a3f5f\"},\"error_y\":{\"color\":\"#2a3f5f\"},\"marker\":{\"line\":{\"color\":\"#E5ECF6\",\"width\":0.5},\"pattern\":{\"fillmode\":\"overlay\",\"size\":10,\"solidity\":0.2}},\"type\":\"bar\"}],\"scattergeo\":[{\"type\":\"scattergeo\",\"marker\":{\"colorbar\":{\"outlinewidth\":0,\"ticks\":\"\"}}}],\"scatterpolar\":[{\"type\":\"scatterpolar\",\"marker\":{\"colorbar\":{\"outlinewidth\":0,\"ticks\":\"\"}}}],\"histogram\":[{\"marker\":{\"pattern\":{\"fillmode\":\"overlay\",\"size\":10,\"solidity\":0.2}},\"type\":\"histogram\"}],\"scattergl\":[{\"type\":\"scattergl\",\"marker\":{\"colorbar\":{\"outlinewidth\":0,\"ticks\":\"\"}}}],\"scatter3d\":[{\"type\":\"scatter3d\",\"line\":{\"colorbar\":{\"outlinewidth\":0,\"ticks\":\"\"}},\"marker\":{\"colorbar\":{\"outlinewidth\":0,\"ticks\":\"\"}}}],\"scattermapbox\":[{\"type\":\"scattermapbox\",\"marker\":{\"colorbar\":{\"outlinewidth\":0,\"ticks\":\"\"}}}],\"scatterternary\":[{\"type\":\"scatterternary\",\"marker\":{\"colorbar\":{\"outlinewidth\":0,\"ticks\":\"\"}}}],\"scattercarpet\":[{\"type\":\"scattercarpet\",\"marker\":{\"colorbar\":{\"outlinewidth\":0,\"ticks\":\"\"}}}],\"carpet\":[{\"aaxis\":{\"endlinecolor\":\"#2a3f5f\",\"gridcolor\":\"white\",\"linecolor\":\"white\",\"minorgridcolor\":\"white\",\"startlinecolor\":\"#2a3f5f\"},\"baxis\":{\"endlinecolor\":\"#2a3f5f\",\"gridcolor\":\"white\",\"linecolor\":\"white\",\"minorgridcolor\":\"white\",\"startlinecolor\":\"#2a3f5f\"},\"type\":\"carpet\"}],\"table\":[{\"cells\":{\"fill\":{\"color\":\"#EBF0F8\"},\"line\":{\"color\":\"white\"}},\"header\":{\"fill\":{\"color\":\"#C8D4E3\"},\"line\":{\"color\":\"white\"}},\"type\":\"table\"}],\"barpolar\":[{\"marker\":{\"line\":{\"color\":\"#E5ECF6\",\"width\":0.5},\"pattern\":{\"fillmode\":\"overlay\",\"size\":10,\"solidity\":0.2}},\"type\":\"barpolar\"}],\"pie\":[{\"automargin\":true,\"type\":\"pie\"}]},\"layout\":{\"autotypenumbers\":\"strict\",\"colorway\":[\"#636efa\",\"#EF553B\",\"#00cc96\",\"#ab63fa\",\"#FFA15A\",\"#19d3f3\",\"#FF6692\",\"#B6E880\",\"#FF97FF\",\"#FECB52\"],\"font\":{\"color\":\"#2a3f5f\"},\"hovermode\":\"closest\",\"hoverlabel\":{\"align\":\"left\"},\"paper_bgcolor\":\"white\",\"plot_bgcolor\":\"#E5ECF6\",\"polar\":{\"bgcolor\":\"#E5ECF6\",\"angularaxis\":{\"gridcolor\":\"white\",\"linecolor\":\"white\",\"ticks\":\"\"},\"radialaxis\":{\"gridcolor\":\"white\",\"linecolor\":\"white\",\"ticks\":\"\"}},\"ternary\":{\"bgcolor\":\"#E5ECF6\",\"aaxis\":{\"gridcolor\":\"white\",\"linecolor\":\"white\",\"ticks\":\"\"},\"baxis\":{\"gridcolor\":\"white\",\"linecolor\":\"white\",\"ticks\":\"\"},\"caxis\":{\"gridcolor\":\"white\",\"linecolor\":\"white\",\"ticks\":\"\"}},\"coloraxis\":{\"colorbar\":{\"outlinewidth\":0,\"ticks\":\"\"}},\"colorscale\":{\"sequential\":[[0.0,\"#0d0887\"],[0.1111111111111111,\"#46039f\"],[0.2222222222222222,\"#7201a8\"],[0.3333333333333333,\"#9c179e\"],[0.4444444444444444,\"#bd3786\"],[0.5555555555555556,\"#d8576b\"],[0.6666666666666666,\"#ed7953\"],[0.7777777777777778,\"#fb9f3a\"],[0.8888888888888888,\"#fdca26\"],[1.0,\"#f0f921\"]],\"sequentialminus\":[[0.0,\"#0d0887\"],[0.1111111111111111,\"#46039f\"],[0.2222222222222222,\"#7201a8\"],[0.3333333333333333,\"#9c179e\"],[0.4444444444444444,\"#bd3786\"],[0.5555555555555556,\"#d8576b\"],[0.6666666666666666,\"#ed7953\"],[0.7777777777777778,\"#fb9f3a\"],[0.8888888888888888,\"#fdca26\"],[1.0,\"#f0f921\"]],\"diverging\":[[0,\"#8e0152\"],[0.1,\"#c51b7d\"],[0.2,\"#de77ae\"],[0.3,\"#f1b6da\"],[0.4,\"#fde0ef\"],[0.5,\"#f7f7f7\"],[0.6,\"#e6f5d0\"],[0.7,\"#b8e186\"],[0.8,\"#7fbc41\"],[0.9,\"#4d9221\"],[1,\"#276419\"]]},\"xaxis\":{\"gridcolor\":\"white\",\"linecolor\":\"white\",\"ticks\":\"\",\"title\":{\"standoff\":15},\"zerolinecolor\":\"white\",\"automargin\":true,\"zerolinewidth\":2},\"yaxis\":{\"gridcolor\":\"white\",\"linecolor\":\"white\",\"ticks\":\"\",\"title\":{\"standoff\":15},\"zerolinecolor\":\"white\",\"automargin\":true,\"zerolinewidth\":2},\"scene\":{\"xaxis\":{\"backgroundcolor\":\"#E5ECF6\",\"gridcolor\":\"white\",\"linecolor\":\"white\",\"showbackground\":true,\"ticks\":\"\",\"zerolinecolor\":\"white\",\"gridwidth\":2},\"yaxis\":{\"backgroundcolor\":\"#E5ECF6\",\"gridcolor\":\"white\",\"linecolor\":\"white\",\"showbackground\":true,\"ticks\":\"\",\"zerolinecolor\":\"white\",\"gridwidth\":2},\"zaxis\":{\"backgroundcolor\":\"#E5ECF6\",\"gridcolor\":\"white\",\"linecolor\":\"white\",\"showbackground\":true,\"ticks\":\"\",\"zerolinecolor\":\"white\",\"gridwidth\":2}},\"shapedefaults\":{\"line\":{\"color\":\"#2a3f5f\"}},\"annotationdefaults\":{\"arrowcolor\":\"#2a3f5f\",\"arrowhead\":0,\"arrowwidth\":1},\"geo\":{\"bgcolor\":\"white\",\"landcolor\":\"#E5ECF6\",\"subunitcolor\":\"white\",\"showland\":true,\"showlakes\":true,\"lakecolor\":\"white\"},\"title\":{\"x\":0.05},\"mapbox\":{\"style\":\"light\"}}},\"xaxis\":{\"anchor\":\"y\",\"domain\":[0.0,1.0],\"title\":{\"text\":\"status\"}},\"yaxis\":{\"anchor\":\"x\",\"domain\":[0.0,1.0],\"title\":{\"text\":\"count\"}},\"coloraxis\":{\"colorbar\":{\"title\":{\"text\":\"count\"}},\"colorscale\":[[0.0,\"rgb(237, 217, 163)\"],[0.16666666666666666,\"rgb(246, 169, 122)\"],[0.3333333333333333,\"rgb(250, 120, 118)\"],[0.5,\"rgb(234, 79, 136)\"],[0.6666666666666666,\"rgb(192, 54, 157)\"],[0.8333333333333334,\"rgb(135, 44, 162)\"],[1.0,\"rgb(75, 41, 145)\"]]},\"legend\":{\"tracegroupgap\":0},\"margin\":{\"t\":60},\"barmode\":\"relative\",\"title\":{\"text\":\"Field status types count\"}},                        {\"responsive\": true}                    ).then(function(){\n",
       "                            \n",
       "var gd = document.getElementById('51091667-5a2b-4be3-94ef-c97cdc7efa24');\n",
       "var x = new MutationObserver(function (mutations, observer) {{\n",
       "        var display = window.getComputedStyle(gd).display;\n",
       "        if (!display || display === 'none') {{\n",
       "            console.log([gd, 'removed!']);\n",
       "            Plotly.purge(gd);\n",
       "            observer.disconnect();\n",
       "        }}\n",
       "}});\n",
       "\n",
       "// Listen for the removal of the full notebook cells\n",
       "var notebookContainer = gd.closest('#notebook-container');\n",
       "if (notebookContainer) {{\n",
       "    x.observe(notebookContainer, {childList: true});\n",
       "}}\n",
       "\n",
       "// Listen for the clearing of the current output cell\n",
       "var outputEl = gd.closest('.output');\n",
       "if (outputEl) {{\n",
       "    x.observe(outputEl, {childList: true});\n",
       "}}\n",
       "\n",
       "                        })                };                });            </script>        </div>"
      ]
     },
     "metadata": {},
     "output_type": "display_data"
    },
    {
     "data": {
      "application/vnd.plotly.v1+json": {
       "config": {
        "plotlyServerURL": "https://plot.ly"
       },
       "data": [
        {
         "alignmentgroup": "True",
         "hovertemplate": "is_confirmed=%{x}<br>count=%{marker.color}<extra></extra>",
         "legendgroup": "",
         "marker": {
          "color": [
           4185,
           30
          ],
          "coloraxis": "coloraxis",
          "pattern": {
           "shape": ""
          }
         },
         "name": "",
         "offsetgroup": "",
         "orientation": "v",
         "showlegend": false,
         "text": [
          4185,
          30
         ],
         "textfont": {
          "size": 10
         },
         "textposition": "outside",
         "texttemplate": "%{text:.2f}",
         "type": "bar",
         "x": [
          true,
          false
         ],
         "xaxis": "x",
         "y": [
          4185,
          30
         ],
         "yaxis": "y"
        }
       ],
       "layout": {
        "barmode": "relative",
        "coloraxis": {
         "colorbar": {
          "title": {
           "text": "count"
          }
         },
         "colorscale": [
          [
           0,
           "rgb(237, 217, 163)"
          ],
          [
           0.16666666666666666,
           "rgb(246, 169, 122)"
          ],
          [
           0.3333333333333333,
           "rgb(250, 120, 118)"
          ],
          [
           0.5,
           "rgb(234, 79, 136)"
          ],
          [
           0.6666666666666666,
           "rgb(192, 54, 157)"
          ],
          [
           0.8333333333333334,
           "rgb(135, 44, 162)"
          ],
          [
           1,
           "rgb(75, 41, 145)"
          ]
         ]
        },
        "legend": {
         "tracegroupgap": 0
        },
        "margin": {
         "t": 60
        },
        "template": {
         "data": {
          "bar": [
           {
            "error_x": {
             "color": "#2a3f5f"
            },
            "error_y": {
             "color": "#2a3f5f"
            },
            "marker": {
             "line": {
              "color": "#E5ECF6",
              "width": 0.5
             },
             "pattern": {
              "fillmode": "overlay",
              "size": 10,
              "solidity": 0.2
             }
            },
            "type": "bar"
           }
          ],
          "barpolar": [
           {
            "marker": {
             "line": {
              "color": "#E5ECF6",
              "width": 0.5
             },
             "pattern": {
              "fillmode": "overlay",
              "size": 10,
              "solidity": 0.2
             }
            },
            "type": "barpolar"
           }
          ],
          "carpet": [
           {
            "aaxis": {
             "endlinecolor": "#2a3f5f",
             "gridcolor": "white",
             "linecolor": "white",
             "minorgridcolor": "white",
             "startlinecolor": "#2a3f5f"
            },
            "baxis": {
             "endlinecolor": "#2a3f5f",
             "gridcolor": "white",
             "linecolor": "white",
             "minorgridcolor": "white",
             "startlinecolor": "#2a3f5f"
            },
            "type": "carpet"
           }
          ],
          "choropleth": [
           {
            "colorbar": {
             "outlinewidth": 0,
             "ticks": ""
            },
            "type": "choropleth"
           }
          ],
          "contour": [
           {
            "colorbar": {
             "outlinewidth": 0,
             "ticks": ""
            },
            "colorscale": [
             [
              0,
              "#0d0887"
             ],
             [
              0.1111111111111111,
              "#46039f"
             ],
             [
              0.2222222222222222,
              "#7201a8"
             ],
             [
              0.3333333333333333,
              "#9c179e"
             ],
             [
              0.4444444444444444,
              "#bd3786"
             ],
             [
              0.5555555555555556,
              "#d8576b"
             ],
             [
              0.6666666666666666,
              "#ed7953"
             ],
             [
              0.7777777777777778,
              "#fb9f3a"
             ],
             [
              0.8888888888888888,
              "#fdca26"
             ],
             [
              1,
              "#f0f921"
             ]
            ],
            "type": "contour"
           }
          ],
          "contourcarpet": [
           {
            "colorbar": {
             "outlinewidth": 0,
             "ticks": ""
            },
            "type": "contourcarpet"
           }
          ],
          "heatmap": [
           {
            "colorbar": {
             "outlinewidth": 0,
             "ticks": ""
            },
            "colorscale": [
             [
              0,
              "#0d0887"
             ],
             [
              0.1111111111111111,
              "#46039f"
             ],
             [
              0.2222222222222222,
              "#7201a8"
             ],
             [
              0.3333333333333333,
              "#9c179e"
             ],
             [
              0.4444444444444444,
              "#bd3786"
             ],
             [
              0.5555555555555556,
              "#d8576b"
             ],
             [
              0.6666666666666666,
              "#ed7953"
             ],
             [
              0.7777777777777778,
              "#fb9f3a"
             ],
             [
              0.8888888888888888,
              "#fdca26"
             ],
             [
              1,
              "#f0f921"
             ]
            ],
            "type": "heatmap"
           }
          ],
          "heatmapgl": [
           {
            "colorbar": {
             "outlinewidth": 0,
             "ticks": ""
            },
            "colorscale": [
             [
              0,
              "#0d0887"
             ],
             [
              0.1111111111111111,
              "#46039f"
             ],
             [
              0.2222222222222222,
              "#7201a8"
             ],
             [
              0.3333333333333333,
              "#9c179e"
             ],
             [
              0.4444444444444444,
              "#bd3786"
             ],
             [
              0.5555555555555556,
              "#d8576b"
             ],
             [
              0.6666666666666666,
              "#ed7953"
             ],
             [
              0.7777777777777778,
              "#fb9f3a"
             ],
             [
              0.8888888888888888,
              "#fdca26"
             ],
             [
              1,
              "#f0f921"
             ]
            ],
            "type": "heatmapgl"
           }
          ],
          "histogram": [
           {
            "marker": {
             "pattern": {
              "fillmode": "overlay",
              "size": 10,
              "solidity": 0.2
             }
            },
            "type": "histogram"
           }
          ],
          "histogram2d": [
           {
            "colorbar": {
             "outlinewidth": 0,
             "ticks": ""
            },
            "colorscale": [
             [
              0,
              "#0d0887"
             ],
             [
              0.1111111111111111,
              "#46039f"
             ],
             [
              0.2222222222222222,
              "#7201a8"
             ],
             [
              0.3333333333333333,
              "#9c179e"
             ],
             [
              0.4444444444444444,
              "#bd3786"
             ],
             [
              0.5555555555555556,
              "#d8576b"
             ],
             [
              0.6666666666666666,
              "#ed7953"
             ],
             [
              0.7777777777777778,
              "#fb9f3a"
             ],
             [
              0.8888888888888888,
              "#fdca26"
             ],
             [
              1,
              "#f0f921"
             ]
            ],
            "type": "histogram2d"
           }
          ],
          "histogram2dcontour": [
           {
            "colorbar": {
             "outlinewidth": 0,
             "ticks": ""
            },
            "colorscale": [
             [
              0,
              "#0d0887"
             ],
             [
              0.1111111111111111,
              "#46039f"
             ],
             [
              0.2222222222222222,
              "#7201a8"
             ],
             [
              0.3333333333333333,
              "#9c179e"
             ],
             [
              0.4444444444444444,
              "#bd3786"
             ],
             [
              0.5555555555555556,
              "#d8576b"
             ],
             [
              0.6666666666666666,
              "#ed7953"
             ],
             [
              0.7777777777777778,
              "#fb9f3a"
             ],
             [
              0.8888888888888888,
              "#fdca26"
             ],
             [
              1,
              "#f0f921"
             ]
            ],
            "type": "histogram2dcontour"
           }
          ],
          "mesh3d": [
           {
            "colorbar": {
             "outlinewidth": 0,
             "ticks": ""
            },
            "type": "mesh3d"
           }
          ],
          "parcoords": [
           {
            "line": {
             "colorbar": {
              "outlinewidth": 0,
              "ticks": ""
             }
            },
            "type": "parcoords"
           }
          ],
          "pie": [
           {
            "automargin": true,
            "type": "pie"
           }
          ],
          "scatter": [
           {
            "fillpattern": {
             "fillmode": "overlay",
             "size": 10,
             "solidity": 0.2
            },
            "type": "scatter"
           }
          ],
          "scatter3d": [
           {
            "line": {
             "colorbar": {
              "outlinewidth": 0,
              "ticks": ""
             }
            },
            "marker": {
             "colorbar": {
              "outlinewidth": 0,
              "ticks": ""
             }
            },
            "type": "scatter3d"
           }
          ],
          "scattercarpet": [
           {
            "marker": {
             "colorbar": {
              "outlinewidth": 0,
              "ticks": ""
             }
            },
            "type": "scattercarpet"
           }
          ],
          "scattergeo": [
           {
            "marker": {
             "colorbar": {
              "outlinewidth": 0,
              "ticks": ""
             }
            },
            "type": "scattergeo"
           }
          ],
          "scattergl": [
           {
            "marker": {
             "colorbar": {
              "outlinewidth": 0,
              "ticks": ""
             }
            },
            "type": "scattergl"
           }
          ],
          "scattermapbox": [
           {
            "marker": {
             "colorbar": {
              "outlinewidth": 0,
              "ticks": ""
             }
            },
            "type": "scattermapbox"
           }
          ],
          "scatterpolar": [
           {
            "marker": {
             "colorbar": {
              "outlinewidth": 0,
              "ticks": ""
             }
            },
            "type": "scatterpolar"
           }
          ],
          "scatterpolargl": [
           {
            "marker": {
             "colorbar": {
              "outlinewidth": 0,
              "ticks": ""
             }
            },
            "type": "scatterpolargl"
           }
          ],
          "scatterternary": [
           {
            "marker": {
             "colorbar": {
              "outlinewidth": 0,
              "ticks": ""
             }
            },
            "type": "scatterternary"
           }
          ],
          "surface": [
           {
            "colorbar": {
             "outlinewidth": 0,
             "ticks": ""
            },
            "colorscale": [
             [
              0,
              "#0d0887"
             ],
             [
              0.1111111111111111,
              "#46039f"
             ],
             [
              0.2222222222222222,
              "#7201a8"
             ],
             [
              0.3333333333333333,
              "#9c179e"
             ],
             [
              0.4444444444444444,
              "#bd3786"
             ],
             [
              0.5555555555555556,
              "#d8576b"
             ],
             [
              0.6666666666666666,
              "#ed7953"
             ],
             [
              0.7777777777777778,
              "#fb9f3a"
             ],
             [
              0.8888888888888888,
              "#fdca26"
             ],
             [
              1,
              "#f0f921"
             ]
            ],
            "type": "surface"
           }
          ],
          "table": [
           {
            "cells": {
             "fill": {
              "color": "#EBF0F8"
             },
             "line": {
              "color": "white"
             }
            },
            "header": {
             "fill": {
              "color": "#C8D4E3"
             },
             "line": {
              "color": "white"
             }
            },
            "type": "table"
           }
          ]
         },
         "layout": {
          "annotationdefaults": {
           "arrowcolor": "#2a3f5f",
           "arrowhead": 0,
           "arrowwidth": 1
          },
          "autotypenumbers": "strict",
          "coloraxis": {
           "colorbar": {
            "outlinewidth": 0,
            "ticks": ""
           }
          },
          "colorscale": {
           "diverging": [
            [
             0,
             "#8e0152"
            ],
            [
             0.1,
             "#c51b7d"
            ],
            [
             0.2,
             "#de77ae"
            ],
            [
             0.3,
             "#f1b6da"
            ],
            [
             0.4,
             "#fde0ef"
            ],
            [
             0.5,
             "#f7f7f7"
            ],
            [
             0.6,
             "#e6f5d0"
            ],
            [
             0.7,
             "#b8e186"
            ],
            [
             0.8,
             "#7fbc41"
            ],
            [
             0.9,
             "#4d9221"
            ],
            [
             1,
             "#276419"
            ]
           ],
           "sequential": [
            [
             0,
             "#0d0887"
            ],
            [
             0.1111111111111111,
             "#46039f"
            ],
            [
             0.2222222222222222,
             "#7201a8"
            ],
            [
             0.3333333333333333,
             "#9c179e"
            ],
            [
             0.4444444444444444,
             "#bd3786"
            ],
            [
             0.5555555555555556,
             "#d8576b"
            ],
            [
             0.6666666666666666,
             "#ed7953"
            ],
            [
             0.7777777777777778,
             "#fb9f3a"
            ],
            [
             0.8888888888888888,
             "#fdca26"
            ],
            [
             1,
             "#f0f921"
            ]
           ],
           "sequentialminus": [
            [
             0,
             "#0d0887"
            ],
            [
             0.1111111111111111,
             "#46039f"
            ],
            [
             0.2222222222222222,
             "#7201a8"
            ],
            [
             0.3333333333333333,
             "#9c179e"
            ],
            [
             0.4444444444444444,
             "#bd3786"
            ],
            [
             0.5555555555555556,
             "#d8576b"
            ],
            [
             0.6666666666666666,
             "#ed7953"
            ],
            [
             0.7777777777777778,
             "#fb9f3a"
            ],
            [
             0.8888888888888888,
             "#fdca26"
            ],
            [
             1,
             "#f0f921"
            ]
           ]
          },
          "colorway": [
           "#636efa",
           "#EF553B",
           "#00cc96",
           "#ab63fa",
           "#FFA15A",
           "#19d3f3",
           "#FF6692",
           "#B6E880",
           "#FF97FF",
           "#FECB52"
          ],
          "font": {
           "color": "#2a3f5f"
          },
          "geo": {
           "bgcolor": "white",
           "lakecolor": "white",
           "landcolor": "#E5ECF6",
           "showlakes": true,
           "showland": true,
           "subunitcolor": "white"
          },
          "hoverlabel": {
           "align": "left"
          },
          "hovermode": "closest",
          "mapbox": {
           "style": "light"
          },
          "paper_bgcolor": "white",
          "plot_bgcolor": "#E5ECF6",
          "polar": {
           "angularaxis": {
            "gridcolor": "white",
            "linecolor": "white",
            "ticks": ""
           },
           "bgcolor": "#E5ECF6",
           "radialaxis": {
            "gridcolor": "white",
            "linecolor": "white",
            "ticks": ""
           }
          },
          "scene": {
           "xaxis": {
            "backgroundcolor": "#E5ECF6",
            "gridcolor": "white",
            "gridwidth": 2,
            "linecolor": "white",
            "showbackground": true,
            "ticks": "",
            "zerolinecolor": "white"
           },
           "yaxis": {
            "backgroundcolor": "#E5ECF6",
            "gridcolor": "white",
            "gridwidth": 2,
            "linecolor": "white",
            "showbackground": true,
            "ticks": "",
            "zerolinecolor": "white"
           },
           "zaxis": {
            "backgroundcolor": "#E5ECF6",
            "gridcolor": "white",
            "gridwidth": 2,
            "linecolor": "white",
            "showbackground": true,
            "ticks": "",
            "zerolinecolor": "white"
           }
          },
          "shapedefaults": {
           "line": {
            "color": "#2a3f5f"
           }
          },
          "ternary": {
           "aaxis": {
            "gridcolor": "white",
            "linecolor": "white",
            "ticks": ""
           },
           "baxis": {
            "gridcolor": "white",
            "linecolor": "white",
            "ticks": ""
           },
           "bgcolor": "#E5ECF6",
           "caxis": {
            "gridcolor": "white",
            "linecolor": "white",
            "ticks": ""
           }
          },
          "title": {
           "x": 0.05
          },
          "xaxis": {
           "automargin": true,
           "gridcolor": "white",
           "linecolor": "white",
           "ticks": "",
           "title": {
            "standoff": 15
           },
           "zerolinecolor": "white",
           "zerolinewidth": 2
          },
          "yaxis": {
           "automargin": true,
           "gridcolor": "white",
           "linecolor": "white",
           "ticks": "",
           "title": {
            "standoff": 15
           },
           "zerolinecolor": "white",
           "zerolinewidth": 2
          }
         }
        },
        "title": {
         "text": "Field is_confirmed types count"
        },
        "xaxis": {
         "anchor": "y",
         "domain": [
          0,
          1
         ],
         "title": {
          "text": "is_confirmed"
         }
        },
        "yaxis": {
         "anchor": "x",
         "domain": [
          0,
          1
         ],
         "title": {
          "text": "count"
         }
        }
       }
      },
      "text/html": [
       "<div>                            <div id=\"95a5af2f-5ed2-42c3-b6f6-7b856d00e3dc\" class=\"plotly-graph-div\" style=\"height:525px; width:100%;\"></div>            <script type=\"text/javascript\">                require([\"plotly\"], function(Plotly) {                    window.PLOTLYENV=window.PLOTLYENV || {};                                    if (document.getElementById(\"95a5af2f-5ed2-42c3-b6f6-7b856d00e3dc\")) {                    Plotly.newPlot(                        \"95a5af2f-5ed2-42c3-b6f6-7b856d00e3dc\",                        [{\"alignmentgroup\":\"True\",\"hovertemplate\":\"is_confirmed=%{x}<br>count=%{marker.color}<extra></extra>\",\"legendgroup\":\"\",\"marker\":{\"color\":[4185,30],\"coloraxis\":\"coloraxis\",\"pattern\":{\"shape\":\"\"}},\"name\":\"\",\"offsetgroup\":\"\",\"orientation\":\"v\",\"showlegend\":false,\"text\":[4185.0,30.0],\"textposition\":\"outside\",\"x\":[true,false],\"xaxis\":\"x\",\"y\":[4185,30],\"yaxis\":\"y\",\"type\":\"bar\",\"textfont\":{\"size\":10},\"texttemplate\":\"%{text:.2f}\"}],                        {\"template\":{\"data\":{\"histogram2dcontour\":[{\"type\":\"histogram2dcontour\",\"colorbar\":{\"outlinewidth\":0,\"ticks\":\"\"},\"colorscale\":[[0.0,\"#0d0887\"],[0.1111111111111111,\"#46039f\"],[0.2222222222222222,\"#7201a8\"],[0.3333333333333333,\"#9c179e\"],[0.4444444444444444,\"#bd3786\"],[0.5555555555555556,\"#d8576b\"],[0.6666666666666666,\"#ed7953\"],[0.7777777777777778,\"#fb9f3a\"],[0.8888888888888888,\"#fdca26\"],[1.0,\"#f0f921\"]]}],\"choropleth\":[{\"type\":\"choropleth\",\"colorbar\":{\"outlinewidth\":0,\"ticks\":\"\"}}],\"histogram2d\":[{\"type\":\"histogram2d\",\"colorbar\":{\"outlinewidth\":0,\"ticks\":\"\"},\"colorscale\":[[0.0,\"#0d0887\"],[0.1111111111111111,\"#46039f\"],[0.2222222222222222,\"#7201a8\"],[0.3333333333333333,\"#9c179e\"],[0.4444444444444444,\"#bd3786\"],[0.5555555555555556,\"#d8576b\"],[0.6666666666666666,\"#ed7953\"],[0.7777777777777778,\"#fb9f3a\"],[0.8888888888888888,\"#fdca26\"],[1.0,\"#f0f921\"]]}],\"heatmap\":[{\"type\":\"heatmap\",\"colorbar\":{\"outlinewidth\":0,\"ticks\":\"\"},\"colorscale\":[[0.0,\"#0d0887\"],[0.1111111111111111,\"#46039f\"],[0.2222222222222222,\"#7201a8\"],[0.3333333333333333,\"#9c179e\"],[0.4444444444444444,\"#bd3786\"],[0.5555555555555556,\"#d8576b\"],[0.6666666666666666,\"#ed7953\"],[0.7777777777777778,\"#fb9f3a\"],[0.8888888888888888,\"#fdca26\"],[1.0,\"#f0f921\"]]}],\"heatmapgl\":[{\"type\":\"heatmapgl\",\"colorbar\":{\"outlinewidth\":0,\"ticks\":\"\"},\"colorscale\":[[0.0,\"#0d0887\"],[0.1111111111111111,\"#46039f\"],[0.2222222222222222,\"#7201a8\"],[0.3333333333333333,\"#9c179e\"],[0.4444444444444444,\"#bd3786\"],[0.5555555555555556,\"#d8576b\"],[0.6666666666666666,\"#ed7953\"],[0.7777777777777778,\"#fb9f3a\"],[0.8888888888888888,\"#fdca26\"],[1.0,\"#f0f921\"]]}],\"contourcarpet\":[{\"type\":\"contourcarpet\",\"colorbar\":{\"outlinewidth\":0,\"ticks\":\"\"}}],\"contour\":[{\"type\":\"contour\",\"colorbar\":{\"outlinewidth\":0,\"ticks\":\"\"},\"colorscale\":[[0.0,\"#0d0887\"],[0.1111111111111111,\"#46039f\"],[0.2222222222222222,\"#7201a8\"],[0.3333333333333333,\"#9c179e\"],[0.4444444444444444,\"#bd3786\"],[0.5555555555555556,\"#d8576b\"],[0.6666666666666666,\"#ed7953\"],[0.7777777777777778,\"#fb9f3a\"],[0.8888888888888888,\"#fdca26\"],[1.0,\"#f0f921\"]]}],\"surface\":[{\"type\":\"surface\",\"colorbar\":{\"outlinewidth\":0,\"ticks\":\"\"},\"colorscale\":[[0.0,\"#0d0887\"],[0.1111111111111111,\"#46039f\"],[0.2222222222222222,\"#7201a8\"],[0.3333333333333333,\"#9c179e\"],[0.4444444444444444,\"#bd3786\"],[0.5555555555555556,\"#d8576b\"],[0.6666666666666666,\"#ed7953\"],[0.7777777777777778,\"#fb9f3a\"],[0.8888888888888888,\"#fdca26\"],[1.0,\"#f0f921\"]]}],\"mesh3d\":[{\"type\":\"mesh3d\",\"colorbar\":{\"outlinewidth\":0,\"ticks\":\"\"}}],\"scatter\":[{\"fillpattern\":{\"fillmode\":\"overlay\",\"size\":10,\"solidity\":0.2},\"type\":\"scatter\"}],\"parcoords\":[{\"type\":\"parcoords\",\"line\":{\"colorbar\":{\"outlinewidth\":0,\"ticks\":\"\"}}}],\"scatterpolargl\":[{\"type\":\"scatterpolargl\",\"marker\":{\"colorbar\":{\"outlinewidth\":0,\"ticks\":\"\"}}}],\"bar\":[{\"error_x\":{\"color\":\"#2a3f5f\"},\"error_y\":{\"color\":\"#2a3f5f\"},\"marker\":{\"line\":{\"color\":\"#E5ECF6\",\"width\":0.5},\"pattern\":{\"fillmode\":\"overlay\",\"size\":10,\"solidity\":0.2}},\"type\":\"bar\"}],\"scattergeo\":[{\"type\":\"scattergeo\",\"marker\":{\"colorbar\":{\"outlinewidth\":0,\"ticks\":\"\"}}}],\"scatterpolar\":[{\"type\":\"scatterpolar\",\"marker\":{\"colorbar\":{\"outlinewidth\":0,\"ticks\":\"\"}}}],\"histogram\":[{\"marker\":{\"pattern\":{\"fillmode\":\"overlay\",\"size\":10,\"solidity\":0.2}},\"type\":\"histogram\"}],\"scattergl\":[{\"type\":\"scattergl\",\"marker\":{\"colorbar\":{\"outlinewidth\":0,\"ticks\":\"\"}}}],\"scatter3d\":[{\"type\":\"scatter3d\",\"line\":{\"colorbar\":{\"outlinewidth\":0,\"ticks\":\"\"}},\"marker\":{\"colorbar\":{\"outlinewidth\":0,\"ticks\":\"\"}}}],\"scattermapbox\":[{\"type\":\"scattermapbox\",\"marker\":{\"colorbar\":{\"outlinewidth\":0,\"ticks\":\"\"}}}],\"scatterternary\":[{\"type\":\"scatterternary\",\"marker\":{\"colorbar\":{\"outlinewidth\":0,\"ticks\":\"\"}}}],\"scattercarpet\":[{\"type\":\"scattercarpet\",\"marker\":{\"colorbar\":{\"outlinewidth\":0,\"ticks\":\"\"}}}],\"carpet\":[{\"aaxis\":{\"endlinecolor\":\"#2a3f5f\",\"gridcolor\":\"white\",\"linecolor\":\"white\",\"minorgridcolor\":\"white\",\"startlinecolor\":\"#2a3f5f\"},\"baxis\":{\"endlinecolor\":\"#2a3f5f\",\"gridcolor\":\"white\",\"linecolor\":\"white\",\"minorgridcolor\":\"white\",\"startlinecolor\":\"#2a3f5f\"},\"type\":\"carpet\"}],\"table\":[{\"cells\":{\"fill\":{\"color\":\"#EBF0F8\"},\"line\":{\"color\":\"white\"}},\"header\":{\"fill\":{\"color\":\"#C8D4E3\"},\"line\":{\"color\":\"white\"}},\"type\":\"table\"}],\"barpolar\":[{\"marker\":{\"line\":{\"color\":\"#E5ECF6\",\"width\":0.5},\"pattern\":{\"fillmode\":\"overlay\",\"size\":10,\"solidity\":0.2}},\"type\":\"barpolar\"}],\"pie\":[{\"automargin\":true,\"type\":\"pie\"}]},\"layout\":{\"autotypenumbers\":\"strict\",\"colorway\":[\"#636efa\",\"#EF553B\",\"#00cc96\",\"#ab63fa\",\"#FFA15A\",\"#19d3f3\",\"#FF6692\",\"#B6E880\",\"#FF97FF\",\"#FECB52\"],\"font\":{\"color\":\"#2a3f5f\"},\"hovermode\":\"closest\",\"hoverlabel\":{\"align\":\"left\"},\"paper_bgcolor\":\"white\",\"plot_bgcolor\":\"#E5ECF6\",\"polar\":{\"bgcolor\":\"#E5ECF6\",\"angularaxis\":{\"gridcolor\":\"white\",\"linecolor\":\"white\",\"ticks\":\"\"},\"radialaxis\":{\"gridcolor\":\"white\",\"linecolor\":\"white\",\"ticks\":\"\"}},\"ternary\":{\"bgcolor\":\"#E5ECF6\",\"aaxis\":{\"gridcolor\":\"white\",\"linecolor\":\"white\",\"ticks\":\"\"},\"baxis\":{\"gridcolor\":\"white\",\"linecolor\":\"white\",\"ticks\":\"\"},\"caxis\":{\"gridcolor\":\"white\",\"linecolor\":\"white\",\"ticks\":\"\"}},\"coloraxis\":{\"colorbar\":{\"outlinewidth\":0,\"ticks\":\"\"}},\"colorscale\":{\"sequential\":[[0.0,\"#0d0887\"],[0.1111111111111111,\"#46039f\"],[0.2222222222222222,\"#7201a8\"],[0.3333333333333333,\"#9c179e\"],[0.4444444444444444,\"#bd3786\"],[0.5555555555555556,\"#d8576b\"],[0.6666666666666666,\"#ed7953\"],[0.7777777777777778,\"#fb9f3a\"],[0.8888888888888888,\"#fdca26\"],[1.0,\"#f0f921\"]],\"sequentialminus\":[[0.0,\"#0d0887\"],[0.1111111111111111,\"#46039f\"],[0.2222222222222222,\"#7201a8\"],[0.3333333333333333,\"#9c179e\"],[0.4444444444444444,\"#bd3786\"],[0.5555555555555556,\"#d8576b\"],[0.6666666666666666,\"#ed7953\"],[0.7777777777777778,\"#fb9f3a\"],[0.8888888888888888,\"#fdca26\"],[1.0,\"#f0f921\"]],\"diverging\":[[0,\"#8e0152\"],[0.1,\"#c51b7d\"],[0.2,\"#de77ae\"],[0.3,\"#f1b6da\"],[0.4,\"#fde0ef\"],[0.5,\"#f7f7f7\"],[0.6,\"#e6f5d0\"],[0.7,\"#b8e186\"],[0.8,\"#7fbc41\"],[0.9,\"#4d9221\"],[1,\"#276419\"]]},\"xaxis\":{\"gridcolor\":\"white\",\"linecolor\":\"white\",\"ticks\":\"\",\"title\":{\"standoff\":15},\"zerolinecolor\":\"white\",\"automargin\":true,\"zerolinewidth\":2},\"yaxis\":{\"gridcolor\":\"white\",\"linecolor\":\"white\",\"ticks\":\"\",\"title\":{\"standoff\":15},\"zerolinecolor\":\"white\",\"automargin\":true,\"zerolinewidth\":2},\"scene\":{\"xaxis\":{\"backgroundcolor\":\"#E5ECF6\",\"gridcolor\":\"white\",\"linecolor\":\"white\",\"showbackground\":true,\"ticks\":\"\",\"zerolinecolor\":\"white\",\"gridwidth\":2},\"yaxis\":{\"backgroundcolor\":\"#E5ECF6\",\"gridcolor\":\"white\",\"linecolor\":\"white\",\"showbackground\":true,\"ticks\":\"\",\"zerolinecolor\":\"white\",\"gridwidth\":2},\"zaxis\":{\"backgroundcolor\":\"#E5ECF6\",\"gridcolor\":\"white\",\"linecolor\":\"white\",\"showbackground\":true,\"ticks\":\"\",\"zerolinecolor\":\"white\",\"gridwidth\":2}},\"shapedefaults\":{\"line\":{\"color\":\"#2a3f5f\"}},\"annotationdefaults\":{\"arrowcolor\":\"#2a3f5f\",\"arrowhead\":0,\"arrowwidth\":1},\"geo\":{\"bgcolor\":\"white\",\"landcolor\":\"#E5ECF6\",\"subunitcolor\":\"white\",\"showland\":true,\"showlakes\":true,\"lakecolor\":\"white\"},\"title\":{\"x\":0.05},\"mapbox\":{\"style\":\"light\"}}},\"xaxis\":{\"anchor\":\"y\",\"domain\":[0.0,1.0],\"title\":{\"text\":\"is_confirmed\"}},\"yaxis\":{\"anchor\":\"x\",\"domain\":[0.0,1.0],\"title\":{\"text\":\"count\"}},\"coloraxis\":{\"colorbar\":{\"title\":{\"text\":\"count\"}},\"colorscale\":[[0.0,\"rgb(237, 217, 163)\"],[0.16666666666666666,\"rgb(246, 169, 122)\"],[0.3333333333333333,\"rgb(250, 120, 118)\"],[0.5,\"rgb(234, 79, 136)\"],[0.6666666666666666,\"rgb(192, 54, 157)\"],[0.8333333333333334,\"rgb(135, 44, 162)\"],[1.0,\"rgb(75, 41, 145)\"]]},\"legend\":{\"tracegroupgap\":0},\"margin\":{\"t\":60},\"barmode\":\"relative\",\"title\":{\"text\":\"Field is_confirmed types count\"}},                        {\"responsive\": true}                    ).then(function(){\n",
       "                            \n",
       "var gd = document.getElementById('95a5af2f-5ed2-42c3-b6f6-7b856d00e3dc');\n",
       "var x = new MutationObserver(function (mutations, observer) {{\n",
       "        var display = window.getComputedStyle(gd).display;\n",
       "        if (!display || display === 'none') {{\n",
       "            console.log([gd, 'removed!']);\n",
       "            Plotly.purge(gd);\n",
       "            observer.disconnect();\n",
       "        }}\n",
       "}});\n",
       "\n",
       "// Listen for the removal of the full notebook cells\n",
       "var notebookContainer = gd.closest('#notebook-container');\n",
       "if (notebookContainer) {{\n",
       "    x.observe(notebookContainer, {childList: true});\n",
       "}}\n",
       "\n",
       "// Listen for the clearing of the current output cell\n",
       "var outputEl = gd.closest('.output');\n",
       "if (outputEl) {{\n",
       "    x.observe(outputEl, {childList: true});\n",
       "}}\n",
       "\n",
       "                        })                };                });            </script>        </div>"
      ]
     },
     "metadata": {},
     "output_type": "display_data"
    },
    {
     "data": {
      "application/vnd.plotly.v1+json": {
       "config": {
        "plotlyServerURL": "https://plot.ly"
       },
       "data": [
        {
         "alignmentgroup": "True",
         "hovertemplate": "severity=%{x}<br>count=%{marker.color}<extra></extra>",
         "legendgroup": "",
         "marker": {
          "color": [
           4189,
           14,
           3,
           3,
           3,
           3
          ],
          "coloraxis": "coloraxis",
          "pattern": {
           "shape": ""
          }
         },
         "name": "",
         "offsetgroup": "",
         "orientation": "v",
         "showlegend": false,
         "text": [
          4189,
          14,
          3,
          3,
          3,
          3
         ],
         "textfont": {
          "size": 10
         },
         "textposition": "outside",
         "texttemplate": "%{text:.2f}",
         "type": "bar",
         "x": [
          "normal",
          "major",
          "blocker",
          "critical",
          "minor",
          "trivial"
         ],
         "xaxis": "x",
         "y": [
          4189,
          14,
          3,
          3,
          3,
          3
         ],
         "yaxis": "y"
        }
       ],
       "layout": {
        "barmode": "relative",
        "coloraxis": {
         "colorbar": {
          "title": {
           "text": "count"
          }
         },
         "colorscale": [
          [
           0,
           "rgb(237, 217, 163)"
          ],
          [
           0.16666666666666666,
           "rgb(246, 169, 122)"
          ],
          [
           0.3333333333333333,
           "rgb(250, 120, 118)"
          ],
          [
           0.5,
           "rgb(234, 79, 136)"
          ],
          [
           0.6666666666666666,
           "rgb(192, 54, 157)"
          ],
          [
           0.8333333333333334,
           "rgb(135, 44, 162)"
          ],
          [
           1,
           "rgb(75, 41, 145)"
          ]
         ]
        },
        "legend": {
         "tracegroupgap": 0
        },
        "margin": {
         "t": 60
        },
        "template": {
         "data": {
          "bar": [
           {
            "error_x": {
             "color": "#2a3f5f"
            },
            "error_y": {
             "color": "#2a3f5f"
            },
            "marker": {
             "line": {
              "color": "#E5ECF6",
              "width": 0.5
             },
             "pattern": {
              "fillmode": "overlay",
              "size": 10,
              "solidity": 0.2
             }
            },
            "type": "bar"
           }
          ],
          "barpolar": [
           {
            "marker": {
             "line": {
              "color": "#E5ECF6",
              "width": 0.5
             },
             "pattern": {
              "fillmode": "overlay",
              "size": 10,
              "solidity": 0.2
             }
            },
            "type": "barpolar"
           }
          ],
          "carpet": [
           {
            "aaxis": {
             "endlinecolor": "#2a3f5f",
             "gridcolor": "white",
             "linecolor": "white",
             "minorgridcolor": "white",
             "startlinecolor": "#2a3f5f"
            },
            "baxis": {
             "endlinecolor": "#2a3f5f",
             "gridcolor": "white",
             "linecolor": "white",
             "minorgridcolor": "white",
             "startlinecolor": "#2a3f5f"
            },
            "type": "carpet"
           }
          ],
          "choropleth": [
           {
            "colorbar": {
             "outlinewidth": 0,
             "ticks": ""
            },
            "type": "choropleth"
           }
          ],
          "contour": [
           {
            "colorbar": {
             "outlinewidth": 0,
             "ticks": ""
            },
            "colorscale": [
             [
              0,
              "#0d0887"
             ],
             [
              0.1111111111111111,
              "#46039f"
             ],
             [
              0.2222222222222222,
              "#7201a8"
             ],
             [
              0.3333333333333333,
              "#9c179e"
             ],
             [
              0.4444444444444444,
              "#bd3786"
             ],
             [
              0.5555555555555556,
              "#d8576b"
             ],
             [
              0.6666666666666666,
              "#ed7953"
             ],
             [
              0.7777777777777778,
              "#fb9f3a"
             ],
             [
              0.8888888888888888,
              "#fdca26"
             ],
             [
              1,
              "#f0f921"
             ]
            ],
            "type": "contour"
           }
          ],
          "contourcarpet": [
           {
            "colorbar": {
             "outlinewidth": 0,
             "ticks": ""
            },
            "type": "contourcarpet"
           }
          ],
          "heatmap": [
           {
            "colorbar": {
             "outlinewidth": 0,
             "ticks": ""
            },
            "colorscale": [
             [
              0,
              "#0d0887"
             ],
             [
              0.1111111111111111,
              "#46039f"
             ],
             [
              0.2222222222222222,
              "#7201a8"
             ],
             [
              0.3333333333333333,
              "#9c179e"
             ],
             [
              0.4444444444444444,
              "#bd3786"
             ],
             [
              0.5555555555555556,
              "#d8576b"
             ],
             [
              0.6666666666666666,
              "#ed7953"
             ],
             [
              0.7777777777777778,
              "#fb9f3a"
             ],
             [
              0.8888888888888888,
              "#fdca26"
             ],
             [
              1,
              "#f0f921"
             ]
            ],
            "type": "heatmap"
           }
          ],
          "heatmapgl": [
           {
            "colorbar": {
             "outlinewidth": 0,
             "ticks": ""
            },
            "colorscale": [
             [
              0,
              "#0d0887"
             ],
             [
              0.1111111111111111,
              "#46039f"
             ],
             [
              0.2222222222222222,
              "#7201a8"
             ],
             [
              0.3333333333333333,
              "#9c179e"
             ],
             [
              0.4444444444444444,
              "#bd3786"
             ],
             [
              0.5555555555555556,
              "#d8576b"
             ],
             [
              0.6666666666666666,
              "#ed7953"
             ],
             [
              0.7777777777777778,
              "#fb9f3a"
             ],
             [
              0.8888888888888888,
              "#fdca26"
             ],
             [
              1,
              "#f0f921"
             ]
            ],
            "type": "heatmapgl"
           }
          ],
          "histogram": [
           {
            "marker": {
             "pattern": {
              "fillmode": "overlay",
              "size": 10,
              "solidity": 0.2
             }
            },
            "type": "histogram"
           }
          ],
          "histogram2d": [
           {
            "colorbar": {
             "outlinewidth": 0,
             "ticks": ""
            },
            "colorscale": [
             [
              0,
              "#0d0887"
             ],
             [
              0.1111111111111111,
              "#46039f"
             ],
             [
              0.2222222222222222,
              "#7201a8"
             ],
             [
              0.3333333333333333,
              "#9c179e"
             ],
             [
              0.4444444444444444,
              "#bd3786"
             ],
             [
              0.5555555555555556,
              "#d8576b"
             ],
             [
              0.6666666666666666,
              "#ed7953"
             ],
             [
              0.7777777777777778,
              "#fb9f3a"
             ],
             [
              0.8888888888888888,
              "#fdca26"
             ],
             [
              1,
              "#f0f921"
             ]
            ],
            "type": "histogram2d"
           }
          ],
          "histogram2dcontour": [
           {
            "colorbar": {
             "outlinewidth": 0,
             "ticks": ""
            },
            "colorscale": [
             [
              0,
              "#0d0887"
             ],
             [
              0.1111111111111111,
              "#46039f"
             ],
             [
              0.2222222222222222,
              "#7201a8"
             ],
             [
              0.3333333333333333,
              "#9c179e"
             ],
             [
              0.4444444444444444,
              "#bd3786"
             ],
             [
              0.5555555555555556,
              "#d8576b"
             ],
             [
              0.6666666666666666,
              "#ed7953"
             ],
             [
              0.7777777777777778,
              "#fb9f3a"
             ],
             [
              0.8888888888888888,
              "#fdca26"
             ],
             [
              1,
              "#f0f921"
             ]
            ],
            "type": "histogram2dcontour"
           }
          ],
          "mesh3d": [
           {
            "colorbar": {
             "outlinewidth": 0,
             "ticks": ""
            },
            "type": "mesh3d"
           }
          ],
          "parcoords": [
           {
            "line": {
             "colorbar": {
              "outlinewidth": 0,
              "ticks": ""
             }
            },
            "type": "parcoords"
           }
          ],
          "pie": [
           {
            "automargin": true,
            "type": "pie"
           }
          ],
          "scatter": [
           {
            "fillpattern": {
             "fillmode": "overlay",
             "size": 10,
             "solidity": 0.2
            },
            "type": "scatter"
           }
          ],
          "scatter3d": [
           {
            "line": {
             "colorbar": {
              "outlinewidth": 0,
              "ticks": ""
             }
            },
            "marker": {
             "colorbar": {
              "outlinewidth": 0,
              "ticks": ""
             }
            },
            "type": "scatter3d"
           }
          ],
          "scattercarpet": [
           {
            "marker": {
             "colorbar": {
              "outlinewidth": 0,
              "ticks": ""
             }
            },
            "type": "scattercarpet"
           }
          ],
          "scattergeo": [
           {
            "marker": {
             "colorbar": {
              "outlinewidth": 0,
              "ticks": ""
             }
            },
            "type": "scattergeo"
           }
          ],
          "scattergl": [
           {
            "marker": {
             "colorbar": {
              "outlinewidth": 0,
              "ticks": ""
             }
            },
            "type": "scattergl"
           }
          ],
          "scattermapbox": [
           {
            "marker": {
             "colorbar": {
              "outlinewidth": 0,
              "ticks": ""
             }
            },
            "type": "scattermapbox"
           }
          ],
          "scatterpolar": [
           {
            "marker": {
             "colorbar": {
              "outlinewidth": 0,
              "ticks": ""
             }
            },
            "type": "scatterpolar"
           }
          ],
          "scatterpolargl": [
           {
            "marker": {
             "colorbar": {
              "outlinewidth": 0,
              "ticks": ""
             }
            },
            "type": "scatterpolargl"
           }
          ],
          "scatterternary": [
           {
            "marker": {
             "colorbar": {
              "outlinewidth": 0,
              "ticks": ""
             }
            },
            "type": "scatterternary"
           }
          ],
          "surface": [
           {
            "colorbar": {
             "outlinewidth": 0,
             "ticks": ""
            },
            "colorscale": [
             [
              0,
              "#0d0887"
             ],
             [
              0.1111111111111111,
              "#46039f"
             ],
             [
              0.2222222222222222,
              "#7201a8"
             ],
             [
              0.3333333333333333,
              "#9c179e"
             ],
             [
              0.4444444444444444,
              "#bd3786"
             ],
             [
              0.5555555555555556,
              "#d8576b"
             ],
             [
              0.6666666666666666,
              "#ed7953"
             ],
             [
              0.7777777777777778,
              "#fb9f3a"
             ],
             [
              0.8888888888888888,
              "#fdca26"
             ],
             [
              1,
              "#f0f921"
             ]
            ],
            "type": "surface"
           }
          ],
          "table": [
           {
            "cells": {
             "fill": {
              "color": "#EBF0F8"
             },
             "line": {
              "color": "white"
             }
            },
            "header": {
             "fill": {
              "color": "#C8D4E3"
             },
             "line": {
              "color": "white"
             }
            },
            "type": "table"
           }
          ]
         },
         "layout": {
          "annotationdefaults": {
           "arrowcolor": "#2a3f5f",
           "arrowhead": 0,
           "arrowwidth": 1
          },
          "autotypenumbers": "strict",
          "coloraxis": {
           "colorbar": {
            "outlinewidth": 0,
            "ticks": ""
           }
          },
          "colorscale": {
           "diverging": [
            [
             0,
             "#8e0152"
            ],
            [
             0.1,
             "#c51b7d"
            ],
            [
             0.2,
             "#de77ae"
            ],
            [
             0.3,
             "#f1b6da"
            ],
            [
             0.4,
             "#fde0ef"
            ],
            [
             0.5,
             "#f7f7f7"
            ],
            [
             0.6,
             "#e6f5d0"
            ],
            [
             0.7,
             "#b8e186"
            ],
            [
             0.8,
             "#7fbc41"
            ],
            [
             0.9,
             "#4d9221"
            ],
            [
             1,
             "#276419"
            ]
           ],
           "sequential": [
            [
             0,
             "#0d0887"
            ],
            [
             0.1111111111111111,
             "#46039f"
            ],
            [
             0.2222222222222222,
             "#7201a8"
            ],
            [
             0.3333333333333333,
             "#9c179e"
            ],
            [
             0.4444444444444444,
             "#bd3786"
            ],
            [
             0.5555555555555556,
             "#d8576b"
            ],
            [
             0.6666666666666666,
             "#ed7953"
            ],
            [
             0.7777777777777778,
             "#fb9f3a"
            ],
            [
             0.8888888888888888,
             "#fdca26"
            ],
            [
             1,
             "#f0f921"
            ]
           ],
           "sequentialminus": [
            [
             0,
             "#0d0887"
            ],
            [
             0.1111111111111111,
             "#46039f"
            ],
            [
             0.2222222222222222,
             "#7201a8"
            ],
            [
             0.3333333333333333,
             "#9c179e"
            ],
            [
             0.4444444444444444,
             "#bd3786"
            ],
            [
             0.5555555555555556,
             "#d8576b"
            ],
            [
             0.6666666666666666,
             "#ed7953"
            ],
            [
             0.7777777777777778,
             "#fb9f3a"
            ],
            [
             0.8888888888888888,
             "#fdca26"
            ],
            [
             1,
             "#f0f921"
            ]
           ]
          },
          "colorway": [
           "#636efa",
           "#EF553B",
           "#00cc96",
           "#ab63fa",
           "#FFA15A",
           "#19d3f3",
           "#FF6692",
           "#B6E880",
           "#FF97FF",
           "#FECB52"
          ],
          "font": {
           "color": "#2a3f5f"
          },
          "geo": {
           "bgcolor": "white",
           "lakecolor": "white",
           "landcolor": "#E5ECF6",
           "showlakes": true,
           "showland": true,
           "subunitcolor": "white"
          },
          "hoverlabel": {
           "align": "left"
          },
          "hovermode": "closest",
          "mapbox": {
           "style": "light"
          },
          "paper_bgcolor": "white",
          "plot_bgcolor": "#E5ECF6",
          "polar": {
           "angularaxis": {
            "gridcolor": "white",
            "linecolor": "white",
            "ticks": ""
           },
           "bgcolor": "#E5ECF6",
           "radialaxis": {
            "gridcolor": "white",
            "linecolor": "white",
            "ticks": ""
           }
          },
          "scene": {
           "xaxis": {
            "backgroundcolor": "#E5ECF6",
            "gridcolor": "white",
            "gridwidth": 2,
            "linecolor": "white",
            "showbackground": true,
            "ticks": "",
            "zerolinecolor": "white"
           },
           "yaxis": {
            "backgroundcolor": "#E5ECF6",
            "gridcolor": "white",
            "gridwidth": 2,
            "linecolor": "white",
            "showbackground": true,
            "ticks": "",
            "zerolinecolor": "white"
           },
           "zaxis": {
            "backgroundcolor": "#E5ECF6",
            "gridcolor": "white",
            "gridwidth": 2,
            "linecolor": "white",
            "showbackground": true,
            "ticks": "",
            "zerolinecolor": "white"
           }
          },
          "shapedefaults": {
           "line": {
            "color": "#2a3f5f"
           }
          },
          "ternary": {
           "aaxis": {
            "gridcolor": "white",
            "linecolor": "white",
            "ticks": ""
           },
           "baxis": {
            "gridcolor": "white",
            "linecolor": "white",
            "ticks": ""
           },
           "bgcolor": "#E5ECF6",
           "caxis": {
            "gridcolor": "white",
            "linecolor": "white",
            "ticks": ""
           }
          },
          "title": {
           "x": 0.05
          },
          "xaxis": {
           "automargin": true,
           "gridcolor": "white",
           "linecolor": "white",
           "ticks": "",
           "title": {
            "standoff": 15
           },
           "zerolinecolor": "white",
           "zerolinewidth": 2
          },
          "yaxis": {
           "automargin": true,
           "gridcolor": "white",
           "linecolor": "white",
           "ticks": "",
           "title": {
            "standoff": 15
           },
           "zerolinecolor": "white",
           "zerolinewidth": 2
          }
         }
        },
        "title": {
         "text": "Field severity types count"
        },
        "xaxis": {
         "anchor": "y",
         "domain": [
          0,
          1
         ],
         "title": {
          "text": "severity"
         }
        },
        "yaxis": {
         "anchor": "x",
         "domain": [
          0,
          1
         ],
         "title": {
          "text": "count"
         }
        }
       }
      },
      "text/html": [
       "<div>                            <div id=\"fb3d2aa5-3fb4-4a48-a338-b1b23e336609\" class=\"plotly-graph-div\" style=\"height:525px; width:100%;\"></div>            <script type=\"text/javascript\">                require([\"plotly\"], function(Plotly) {                    window.PLOTLYENV=window.PLOTLYENV || {};                                    if (document.getElementById(\"fb3d2aa5-3fb4-4a48-a338-b1b23e336609\")) {                    Plotly.newPlot(                        \"fb3d2aa5-3fb4-4a48-a338-b1b23e336609\",                        [{\"alignmentgroup\":\"True\",\"hovertemplate\":\"severity=%{x}<br>count=%{marker.color}<extra></extra>\",\"legendgroup\":\"\",\"marker\":{\"color\":[4189,14,3,3,3,3],\"coloraxis\":\"coloraxis\",\"pattern\":{\"shape\":\"\"}},\"name\":\"\",\"offsetgroup\":\"\",\"orientation\":\"v\",\"showlegend\":false,\"text\":[4189.0,14.0,3.0,3.0,3.0,3.0],\"textposition\":\"outside\",\"x\":[\"normal\",\"major\",\"blocker\",\"critical\",\"minor\",\"trivial\"],\"xaxis\":\"x\",\"y\":[4189,14,3,3,3,3],\"yaxis\":\"y\",\"type\":\"bar\",\"textfont\":{\"size\":10},\"texttemplate\":\"%{text:.2f}\"}],                        {\"template\":{\"data\":{\"histogram2dcontour\":[{\"type\":\"histogram2dcontour\",\"colorbar\":{\"outlinewidth\":0,\"ticks\":\"\"},\"colorscale\":[[0.0,\"#0d0887\"],[0.1111111111111111,\"#46039f\"],[0.2222222222222222,\"#7201a8\"],[0.3333333333333333,\"#9c179e\"],[0.4444444444444444,\"#bd3786\"],[0.5555555555555556,\"#d8576b\"],[0.6666666666666666,\"#ed7953\"],[0.7777777777777778,\"#fb9f3a\"],[0.8888888888888888,\"#fdca26\"],[1.0,\"#f0f921\"]]}],\"choropleth\":[{\"type\":\"choropleth\",\"colorbar\":{\"outlinewidth\":0,\"ticks\":\"\"}}],\"histogram2d\":[{\"type\":\"histogram2d\",\"colorbar\":{\"outlinewidth\":0,\"ticks\":\"\"},\"colorscale\":[[0.0,\"#0d0887\"],[0.1111111111111111,\"#46039f\"],[0.2222222222222222,\"#7201a8\"],[0.3333333333333333,\"#9c179e\"],[0.4444444444444444,\"#bd3786\"],[0.5555555555555556,\"#d8576b\"],[0.6666666666666666,\"#ed7953\"],[0.7777777777777778,\"#fb9f3a\"],[0.8888888888888888,\"#fdca26\"],[1.0,\"#f0f921\"]]}],\"heatmap\":[{\"type\":\"heatmap\",\"colorbar\":{\"outlinewidth\":0,\"ticks\":\"\"},\"colorscale\":[[0.0,\"#0d0887\"],[0.1111111111111111,\"#46039f\"],[0.2222222222222222,\"#7201a8\"],[0.3333333333333333,\"#9c179e\"],[0.4444444444444444,\"#bd3786\"],[0.5555555555555556,\"#d8576b\"],[0.6666666666666666,\"#ed7953\"],[0.7777777777777778,\"#fb9f3a\"],[0.8888888888888888,\"#fdca26\"],[1.0,\"#f0f921\"]]}],\"heatmapgl\":[{\"type\":\"heatmapgl\",\"colorbar\":{\"outlinewidth\":0,\"ticks\":\"\"},\"colorscale\":[[0.0,\"#0d0887\"],[0.1111111111111111,\"#46039f\"],[0.2222222222222222,\"#7201a8\"],[0.3333333333333333,\"#9c179e\"],[0.4444444444444444,\"#bd3786\"],[0.5555555555555556,\"#d8576b\"],[0.6666666666666666,\"#ed7953\"],[0.7777777777777778,\"#fb9f3a\"],[0.8888888888888888,\"#fdca26\"],[1.0,\"#f0f921\"]]}],\"contourcarpet\":[{\"type\":\"contourcarpet\",\"colorbar\":{\"outlinewidth\":0,\"ticks\":\"\"}}],\"contour\":[{\"type\":\"contour\",\"colorbar\":{\"outlinewidth\":0,\"ticks\":\"\"},\"colorscale\":[[0.0,\"#0d0887\"],[0.1111111111111111,\"#46039f\"],[0.2222222222222222,\"#7201a8\"],[0.3333333333333333,\"#9c179e\"],[0.4444444444444444,\"#bd3786\"],[0.5555555555555556,\"#d8576b\"],[0.6666666666666666,\"#ed7953\"],[0.7777777777777778,\"#fb9f3a\"],[0.8888888888888888,\"#fdca26\"],[1.0,\"#f0f921\"]]}],\"surface\":[{\"type\":\"surface\",\"colorbar\":{\"outlinewidth\":0,\"ticks\":\"\"},\"colorscale\":[[0.0,\"#0d0887\"],[0.1111111111111111,\"#46039f\"],[0.2222222222222222,\"#7201a8\"],[0.3333333333333333,\"#9c179e\"],[0.4444444444444444,\"#bd3786\"],[0.5555555555555556,\"#d8576b\"],[0.6666666666666666,\"#ed7953\"],[0.7777777777777778,\"#fb9f3a\"],[0.8888888888888888,\"#fdca26\"],[1.0,\"#f0f921\"]]}],\"mesh3d\":[{\"type\":\"mesh3d\",\"colorbar\":{\"outlinewidth\":0,\"ticks\":\"\"}}],\"scatter\":[{\"fillpattern\":{\"fillmode\":\"overlay\",\"size\":10,\"solidity\":0.2},\"type\":\"scatter\"}],\"parcoords\":[{\"type\":\"parcoords\",\"line\":{\"colorbar\":{\"outlinewidth\":0,\"ticks\":\"\"}}}],\"scatterpolargl\":[{\"type\":\"scatterpolargl\",\"marker\":{\"colorbar\":{\"outlinewidth\":0,\"ticks\":\"\"}}}],\"bar\":[{\"error_x\":{\"color\":\"#2a3f5f\"},\"error_y\":{\"color\":\"#2a3f5f\"},\"marker\":{\"line\":{\"color\":\"#E5ECF6\",\"width\":0.5},\"pattern\":{\"fillmode\":\"overlay\",\"size\":10,\"solidity\":0.2}},\"type\":\"bar\"}],\"scattergeo\":[{\"type\":\"scattergeo\",\"marker\":{\"colorbar\":{\"outlinewidth\":0,\"ticks\":\"\"}}}],\"scatterpolar\":[{\"type\":\"scatterpolar\",\"marker\":{\"colorbar\":{\"outlinewidth\":0,\"ticks\":\"\"}}}],\"histogram\":[{\"marker\":{\"pattern\":{\"fillmode\":\"overlay\",\"size\":10,\"solidity\":0.2}},\"type\":\"histogram\"}],\"scattergl\":[{\"type\":\"scattergl\",\"marker\":{\"colorbar\":{\"outlinewidth\":0,\"ticks\":\"\"}}}],\"scatter3d\":[{\"type\":\"scatter3d\",\"line\":{\"colorbar\":{\"outlinewidth\":0,\"ticks\":\"\"}},\"marker\":{\"colorbar\":{\"outlinewidth\":0,\"ticks\":\"\"}}}],\"scattermapbox\":[{\"type\":\"scattermapbox\",\"marker\":{\"colorbar\":{\"outlinewidth\":0,\"ticks\":\"\"}}}],\"scatterternary\":[{\"type\":\"scatterternary\",\"marker\":{\"colorbar\":{\"outlinewidth\":0,\"ticks\":\"\"}}}],\"scattercarpet\":[{\"type\":\"scattercarpet\",\"marker\":{\"colorbar\":{\"outlinewidth\":0,\"ticks\":\"\"}}}],\"carpet\":[{\"aaxis\":{\"endlinecolor\":\"#2a3f5f\",\"gridcolor\":\"white\",\"linecolor\":\"white\",\"minorgridcolor\":\"white\",\"startlinecolor\":\"#2a3f5f\"},\"baxis\":{\"endlinecolor\":\"#2a3f5f\",\"gridcolor\":\"white\",\"linecolor\":\"white\",\"minorgridcolor\":\"white\",\"startlinecolor\":\"#2a3f5f\"},\"type\":\"carpet\"}],\"table\":[{\"cells\":{\"fill\":{\"color\":\"#EBF0F8\"},\"line\":{\"color\":\"white\"}},\"header\":{\"fill\":{\"color\":\"#C8D4E3\"},\"line\":{\"color\":\"white\"}},\"type\":\"table\"}],\"barpolar\":[{\"marker\":{\"line\":{\"color\":\"#E5ECF6\",\"width\":0.5},\"pattern\":{\"fillmode\":\"overlay\",\"size\":10,\"solidity\":0.2}},\"type\":\"barpolar\"}],\"pie\":[{\"automargin\":true,\"type\":\"pie\"}]},\"layout\":{\"autotypenumbers\":\"strict\",\"colorway\":[\"#636efa\",\"#EF553B\",\"#00cc96\",\"#ab63fa\",\"#FFA15A\",\"#19d3f3\",\"#FF6692\",\"#B6E880\",\"#FF97FF\",\"#FECB52\"],\"font\":{\"color\":\"#2a3f5f\"},\"hovermode\":\"closest\",\"hoverlabel\":{\"align\":\"left\"},\"paper_bgcolor\":\"white\",\"plot_bgcolor\":\"#E5ECF6\",\"polar\":{\"bgcolor\":\"#E5ECF6\",\"angularaxis\":{\"gridcolor\":\"white\",\"linecolor\":\"white\",\"ticks\":\"\"},\"radialaxis\":{\"gridcolor\":\"white\",\"linecolor\":\"white\",\"ticks\":\"\"}},\"ternary\":{\"bgcolor\":\"#E5ECF6\",\"aaxis\":{\"gridcolor\":\"white\",\"linecolor\":\"white\",\"ticks\":\"\"},\"baxis\":{\"gridcolor\":\"white\",\"linecolor\":\"white\",\"ticks\":\"\"},\"caxis\":{\"gridcolor\":\"white\",\"linecolor\":\"white\",\"ticks\":\"\"}},\"coloraxis\":{\"colorbar\":{\"outlinewidth\":0,\"ticks\":\"\"}},\"colorscale\":{\"sequential\":[[0.0,\"#0d0887\"],[0.1111111111111111,\"#46039f\"],[0.2222222222222222,\"#7201a8\"],[0.3333333333333333,\"#9c179e\"],[0.4444444444444444,\"#bd3786\"],[0.5555555555555556,\"#d8576b\"],[0.6666666666666666,\"#ed7953\"],[0.7777777777777778,\"#fb9f3a\"],[0.8888888888888888,\"#fdca26\"],[1.0,\"#f0f921\"]],\"sequentialminus\":[[0.0,\"#0d0887\"],[0.1111111111111111,\"#46039f\"],[0.2222222222222222,\"#7201a8\"],[0.3333333333333333,\"#9c179e\"],[0.4444444444444444,\"#bd3786\"],[0.5555555555555556,\"#d8576b\"],[0.6666666666666666,\"#ed7953\"],[0.7777777777777778,\"#fb9f3a\"],[0.8888888888888888,\"#fdca26\"],[1.0,\"#f0f921\"]],\"diverging\":[[0,\"#8e0152\"],[0.1,\"#c51b7d\"],[0.2,\"#de77ae\"],[0.3,\"#f1b6da\"],[0.4,\"#fde0ef\"],[0.5,\"#f7f7f7\"],[0.6,\"#e6f5d0\"],[0.7,\"#b8e186\"],[0.8,\"#7fbc41\"],[0.9,\"#4d9221\"],[1,\"#276419\"]]},\"xaxis\":{\"gridcolor\":\"white\",\"linecolor\":\"white\",\"ticks\":\"\",\"title\":{\"standoff\":15},\"zerolinecolor\":\"white\",\"automargin\":true,\"zerolinewidth\":2},\"yaxis\":{\"gridcolor\":\"white\",\"linecolor\":\"white\",\"ticks\":\"\",\"title\":{\"standoff\":15},\"zerolinecolor\":\"white\",\"automargin\":true,\"zerolinewidth\":2},\"scene\":{\"xaxis\":{\"backgroundcolor\":\"#E5ECF6\",\"gridcolor\":\"white\",\"linecolor\":\"white\",\"showbackground\":true,\"ticks\":\"\",\"zerolinecolor\":\"white\",\"gridwidth\":2},\"yaxis\":{\"backgroundcolor\":\"#E5ECF6\",\"gridcolor\":\"white\",\"linecolor\":\"white\",\"showbackground\":true,\"ticks\":\"\",\"zerolinecolor\":\"white\",\"gridwidth\":2},\"zaxis\":{\"backgroundcolor\":\"#E5ECF6\",\"gridcolor\":\"white\",\"linecolor\":\"white\",\"showbackground\":true,\"ticks\":\"\",\"zerolinecolor\":\"white\",\"gridwidth\":2}},\"shapedefaults\":{\"line\":{\"color\":\"#2a3f5f\"}},\"annotationdefaults\":{\"arrowcolor\":\"#2a3f5f\",\"arrowhead\":0,\"arrowwidth\":1},\"geo\":{\"bgcolor\":\"white\",\"landcolor\":\"#E5ECF6\",\"subunitcolor\":\"white\",\"showland\":true,\"showlakes\":true,\"lakecolor\":\"white\"},\"title\":{\"x\":0.05},\"mapbox\":{\"style\":\"light\"}}},\"xaxis\":{\"anchor\":\"y\",\"domain\":[0.0,1.0],\"title\":{\"text\":\"severity\"}},\"yaxis\":{\"anchor\":\"x\",\"domain\":[0.0,1.0],\"title\":{\"text\":\"count\"}},\"coloraxis\":{\"colorbar\":{\"title\":{\"text\":\"count\"}},\"colorscale\":[[0.0,\"rgb(237, 217, 163)\"],[0.16666666666666666,\"rgb(246, 169, 122)\"],[0.3333333333333333,\"rgb(250, 120, 118)\"],[0.5,\"rgb(234, 79, 136)\"],[0.6666666666666666,\"rgb(192, 54, 157)\"],[0.8333333333333334,\"rgb(135, 44, 162)\"],[1.0,\"rgb(75, 41, 145)\"]]},\"legend\":{\"tracegroupgap\":0},\"margin\":{\"t\":60},\"barmode\":\"relative\",\"title\":{\"text\":\"Field severity types count\"}},                        {\"responsive\": true}                    ).then(function(){\n",
       "                            \n",
       "var gd = document.getElementById('fb3d2aa5-3fb4-4a48-a338-b1b23e336609');\n",
       "var x = new MutationObserver(function (mutations, observer) {{\n",
       "        var display = window.getComputedStyle(gd).display;\n",
       "        if (!display || display === 'none') {{\n",
       "            console.log([gd, 'removed!']);\n",
       "            Plotly.purge(gd);\n",
       "            observer.disconnect();\n",
       "        }}\n",
       "}});\n",
       "\n",
       "// Listen for the removal of the full notebook cells\n",
       "var notebookContainer = gd.closest('#notebook-container');\n",
       "if (notebookContainer) {{\n",
       "    x.observe(notebookContainer, {childList: true});\n",
       "}}\n",
       "\n",
       "// Listen for the clearing of the current output cell\n",
       "var outputEl = gd.closest('.output');\n",
       "if (outputEl) {{\n",
       "    x.observe(outputEl, {childList: true});\n",
       "}}\n",
       "\n",
       "                        })                };                });            </script>        </div>"
      ]
     },
     "metadata": {},
     "output_type": "display_data"
    },
    {
     "data": {
      "application/vnd.plotly.v1+json": {
       "config": {
        "plotlyServerURL": "https://plot.ly"
       },
       "data": [
        {
         "alignmentgroup": "True",
         "hovertemplate": "priority=%{x}<br>count=%{marker.color}<extra></extra>",
         "legendgroup": "",
         "marker": {
          "color": [
           1610,
           1525,
           578,
           285,
           153,
           64
          ],
          "coloraxis": "coloraxis",
          "pattern": {
           "shape": ""
          }
         },
         "name": "",
         "offsetgroup": "",
         "orientation": "v",
         "showlegend": false,
         "text": [
          1610,
          1525,
          578,
          285,
          153,
          64
         ],
         "textfont": {
          "size": 10
         },
         "textposition": "outside",
         "texttemplate": "%{text:.2f}",
         "type": "bar",
         "x": [
          "--",
          "P3",
          "P2",
          "P5",
          "P1",
          "P4"
         ],
         "xaxis": "x",
         "y": [
          1610,
          1525,
          578,
          285,
          153,
          64
         ],
         "yaxis": "y"
        }
       ],
       "layout": {
        "barmode": "relative",
        "coloraxis": {
         "colorbar": {
          "title": {
           "text": "count"
          }
         },
         "colorscale": [
          [
           0,
           "rgb(237, 217, 163)"
          ],
          [
           0.16666666666666666,
           "rgb(246, 169, 122)"
          ],
          [
           0.3333333333333333,
           "rgb(250, 120, 118)"
          ],
          [
           0.5,
           "rgb(234, 79, 136)"
          ],
          [
           0.6666666666666666,
           "rgb(192, 54, 157)"
          ],
          [
           0.8333333333333334,
           "rgb(135, 44, 162)"
          ],
          [
           1,
           "rgb(75, 41, 145)"
          ]
         ]
        },
        "legend": {
         "tracegroupgap": 0
        },
        "margin": {
         "t": 60
        },
        "template": {
         "data": {
          "bar": [
           {
            "error_x": {
             "color": "#2a3f5f"
            },
            "error_y": {
             "color": "#2a3f5f"
            },
            "marker": {
             "line": {
              "color": "#E5ECF6",
              "width": 0.5
             },
             "pattern": {
              "fillmode": "overlay",
              "size": 10,
              "solidity": 0.2
             }
            },
            "type": "bar"
           }
          ],
          "barpolar": [
           {
            "marker": {
             "line": {
              "color": "#E5ECF6",
              "width": 0.5
             },
             "pattern": {
              "fillmode": "overlay",
              "size": 10,
              "solidity": 0.2
             }
            },
            "type": "barpolar"
           }
          ],
          "carpet": [
           {
            "aaxis": {
             "endlinecolor": "#2a3f5f",
             "gridcolor": "white",
             "linecolor": "white",
             "minorgridcolor": "white",
             "startlinecolor": "#2a3f5f"
            },
            "baxis": {
             "endlinecolor": "#2a3f5f",
             "gridcolor": "white",
             "linecolor": "white",
             "minorgridcolor": "white",
             "startlinecolor": "#2a3f5f"
            },
            "type": "carpet"
           }
          ],
          "choropleth": [
           {
            "colorbar": {
             "outlinewidth": 0,
             "ticks": ""
            },
            "type": "choropleth"
           }
          ],
          "contour": [
           {
            "colorbar": {
             "outlinewidth": 0,
             "ticks": ""
            },
            "colorscale": [
             [
              0,
              "#0d0887"
             ],
             [
              0.1111111111111111,
              "#46039f"
             ],
             [
              0.2222222222222222,
              "#7201a8"
             ],
             [
              0.3333333333333333,
              "#9c179e"
             ],
             [
              0.4444444444444444,
              "#bd3786"
             ],
             [
              0.5555555555555556,
              "#d8576b"
             ],
             [
              0.6666666666666666,
              "#ed7953"
             ],
             [
              0.7777777777777778,
              "#fb9f3a"
             ],
             [
              0.8888888888888888,
              "#fdca26"
             ],
             [
              1,
              "#f0f921"
             ]
            ],
            "type": "contour"
           }
          ],
          "contourcarpet": [
           {
            "colorbar": {
             "outlinewidth": 0,
             "ticks": ""
            },
            "type": "contourcarpet"
           }
          ],
          "heatmap": [
           {
            "colorbar": {
             "outlinewidth": 0,
             "ticks": ""
            },
            "colorscale": [
             [
              0,
              "#0d0887"
             ],
             [
              0.1111111111111111,
              "#46039f"
             ],
             [
              0.2222222222222222,
              "#7201a8"
             ],
             [
              0.3333333333333333,
              "#9c179e"
             ],
             [
              0.4444444444444444,
              "#bd3786"
             ],
             [
              0.5555555555555556,
              "#d8576b"
             ],
             [
              0.6666666666666666,
              "#ed7953"
             ],
             [
              0.7777777777777778,
              "#fb9f3a"
             ],
             [
              0.8888888888888888,
              "#fdca26"
             ],
             [
              1,
              "#f0f921"
             ]
            ],
            "type": "heatmap"
           }
          ],
          "heatmapgl": [
           {
            "colorbar": {
             "outlinewidth": 0,
             "ticks": ""
            },
            "colorscale": [
             [
              0,
              "#0d0887"
             ],
             [
              0.1111111111111111,
              "#46039f"
             ],
             [
              0.2222222222222222,
              "#7201a8"
             ],
             [
              0.3333333333333333,
              "#9c179e"
             ],
             [
              0.4444444444444444,
              "#bd3786"
             ],
             [
              0.5555555555555556,
              "#d8576b"
             ],
             [
              0.6666666666666666,
              "#ed7953"
             ],
             [
              0.7777777777777778,
              "#fb9f3a"
             ],
             [
              0.8888888888888888,
              "#fdca26"
             ],
             [
              1,
              "#f0f921"
             ]
            ],
            "type": "heatmapgl"
           }
          ],
          "histogram": [
           {
            "marker": {
             "pattern": {
              "fillmode": "overlay",
              "size": 10,
              "solidity": 0.2
             }
            },
            "type": "histogram"
           }
          ],
          "histogram2d": [
           {
            "colorbar": {
             "outlinewidth": 0,
             "ticks": ""
            },
            "colorscale": [
             [
              0,
              "#0d0887"
             ],
             [
              0.1111111111111111,
              "#46039f"
             ],
             [
              0.2222222222222222,
              "#7201a8"
             ],
             [
              0.3333333333333333,
              "#9c179e"
             ],
             [
              0.4444444444444444,
              "#bd3786"
             ],
             [
              0.5555555555555556,
              "#d8576b"
             ],
             [
              0.6666666666666666,
              "#ed7953"
             ],
             [
              0.7777777777777778,
              "#fb9f3a"
             ],
             [
              0.8888888888888888,
              "#fdca26"
             ],
             [
              1,
              "#f0f921"
             ]
            ],
            "type": "histogram2d"
           }
          ],
          "histogram2dcontour": [
           {
            "colorbar": {
             "outlinewidth": 0,
             "ticks": ""
            },
            "colorscale": [
             [
              0,
              "#0d0887"
             ],
             [
              0.1111111111111111,
              "#46039f"
             ],
             [
              0.2222222222222222,
              "#7201a8"
             ],
             [
              0.3333333333333333,
              "#9c179e"
             ],
             [
              0.4444444444444444,
              "#bd3786"
             ],
             [
              0.5555555555555556,
              "#d8576b"
             ],
             [
              0.6666666666666666,
              "#ed7953"
             ],
             [
              0.7777777777777778,
              "#fb9f3a"
             ],
             [
              0.8888888888888888,
              "#fdca26"
             ],
             [
              1,
              "#f0f921"
             ]
            ],
            "type": "histogram2dcontour"
           }
          ],
          "mesh3d": [
           {
            "colorbar": {
             "outlinewidth": 0,
             "ticks": ""
            },
            "type": "mesh3d"
           }
          ],
          "parcoords": [
           {
            "line": {
             "colorbar": {
              "outlinewidth": 0,
              "ticks": ""
             }
            },
            "type": "parcoords"
           }
          ],
          "pie": [
           {
            "automargin": true,
            "type": "pie"
           }
          ],
          "scatter": [
           {
            "fillpattern": {
             "fillmode": "overlay",
             "size": 10,
             "solidity": 0.2
            },
            "type": "scatter"
           }
          ],
          "scatter3d": [
           {
            "line": {
             "colorbar": {
              "outlinewidth": 0,
              "ticks": ""
             }
            },
            "marker": {
             "colorbar": {
              "outlinewidth": 0,
              "ticks": ""
             }
            },
            "type": "scatter3d"
           }
          ],
          "scattercarpet": [
           {
            "marker": {
             "colorbar": {
              "outlinewidth": 0,
              "ticks": ""
             }
            },
            "type": "scattercarpet"
           }
          ],
          "scattergeo": [
           {
            "marker": {
             "colorbar": {
              "outlinewidth": 0,
              "ticks": ""
             }
            },
            "type": "scattergeo"
           }
          ],
          "scattergl": [
           {
            "marker": {
             "colorbar": {
              "outlinewidth": 0,
              "ticks": ""
             }
            },
            "type": "scattergl"
           }
          ],
          "scattermapbox": [
           {
            "marker": {
             "colorbar": {
              "outlinewidth": 0,
              "ticks": ""
             }
            },
            "type": "scattermapbox"
           }
          ],
          "scatterpolar": [
           {
            "marker": {
             "colorbar": {
              "outlinewidth": 0,
              "ticks": ""
             }
            },
            "type": "scatterpolar"
           }
          ],
          "scatterpolargl": [
           {
            "marker": {
             "colorbar": {
              "outlinewidth": 0,
              "ticks": ""
             }
            },
            "type": "scatterpolargl"
           }
          ],
          "scatterternary": [
           {
            "marker": {
             "colorbar": {
              "outlinewidth": 0,
              "ticks": ""
             }
            },
            "type": "scatterternary"
           }
          ],
          "surface": [
           {
            "colorbar": {
             "outlinewidth": 0,
             "ticks": ""
            },
            "colorscale": [
             [
              0,
              "#0d0887"
             ],
             [
              0.1111111111111111,
              "#46039f"
             ],
             [
              0.2222222222222222,
              "#7201a8"
             ],
             [
              0.3333333333333333,
              "#9c179e"
             ],
             [
              0.4444444444444444,
              "#bd3786"
             ],
             [
              0.5555555555555556,
              "#d8576b"
             ],
             [
              0.6666666666666666,
              "#ed7953"
             ],
             [
              0.7777777777777778,
              "#fb9f3a"
             ],
             [
              0.8888888888888888,
              "#fdca26"
             ],
             [
              1,
              "#f0f921"
             ]
            ],
            "type": "surface"
           }
          ],
          "table": [
           {
            "cells": {
             "fill": {
              "color": "#EBF0F8"
             },
             "line": {
              "color": "white"
             }
            },
            "header": {
             "fill": {
              "color": "#C8D4E3"
             },
             "line": {
              "color": "white"
             }
            },
            "type": "table"
           }
          ]
         },
         "layout": {
          "annotationdefaults": {
           "arrowcolor": "#2a3f5f",
           "arrowhead": 0,
           "arrowwidth": 1
          },
          "autotypenumbers": "strict",
          "coloraxis": {
           "colorbar": {
            "outlinewidth": 0,
            "ticks": ""
           }
          },
          "colorscale": {
           "diverging": [
            [
             0,
             "#8e0152"
            ],
            [
             0.1,
             "#c51b7d"
            ],
            [
             0.2,
             "#de77ae"
            ],
            [
             0.3,
             "#f1b6da"
            ],
            [
             0.4,
             "#fde0ef"
            ],
            [
             0.5,
             "#f7f7f7"
            ],
            [
             0.6,
             "#e6f5d0"
            ],
            [
             0.7,
             "#b8e186"
            ],
            [
             0.8,
             "#7fbc41"
            ],
            [
             0.9,
             "#4d9221"
            ],
            [
             1,
             "#276419"
            ]
           ],
           "sequential": [
            [
             0,
             "#0d0887"
            ],
            [
             0.1111111111111111,
             "#46039f"
            ],
            [
             0.2222222222222222,
             "#7201a8"
            ],
            [
             0.3333333333333333,
             "#9c179e"
            ],
            [
             0.4444444444444444,
             "#bd3786"
            ],
            [
             0.5555555555555556,
             "#d8576b"
            ],
            [
             0.6666666666666666,
             "#ed7953"
            ],
            [
             0.7777777777777778,
             "#fb9f3a"
            ],
            [
             0.8888888888888888,
             "#fdca26"
            ],
            [
             1,
             "#f0f921"
            ]
           ],
           "sequentialminus": [
            [
             0,
             "#0d0887"
            ],
            [
             0.1111111111111111,
             "#46039f"
            ],
            [
             0.2222222222222222,
             "#7201a8"
            ],
            [
             0.3333333333333333,
             "#9c179e"
            ],
            [
             0.4444444444444444,
             "#bd3786"
            ],
            [
             0.5555555555555556,
             "#d8576b"
            ],
            [
             0.6666666666666666,
             "#ed7953"
            ],
            [
             0.7777777777777778,
             "#fb9f3a"
            ],
            [
             0.8888888888888888,
             "#fdca26"
            ],
            [
             1,
             "#f0f921"
            ]
           ]
          },
          "colorway": [
           "#636efa",
           "#EF553B",
           "#00cc96",
           "#ab63fa",
           "#FFA15A",
           "#19d3f3",
           "#FF6692",
           "#B6E880",
           "#FF97FF",
           "#FECB52"
          ],
          "font": {
           "color": "#2a3f5f"
          },
          "geo": {
           "bgcolor": "white",
           "lakecolor": "white",
           "landcolor": "#E5ECF6",
           "showlakes": true,
           "showland": true,
           "subunitcolor": "white"
          },
          "hoverlabel": {
           "align": "left"
          },
          "hovermode": "closest",
          "mapbox": {
           "style": "light"
          },
          "paper_bgcolor": "white",
          "plot_bgcolor": "#E5ECF6",
          "polar": {
           "angularaxis": {
            "gridcolor": "white",
            "linecolor": "white",
            "ticks": ""
           },
           "bgcolor": "#E5ECF6",
           "radialaxis": {
            "gridcolor": "white",
            "linecolor": "white",
            "ticks": ""
           }
          },
          "scene": {
           "xaxis": {
            "backgroundcolor": "#E5ECF6",
            "gridcolor": "white",
            "gridwidth": 2,
            "linecolor": "white",
            "showbackground": true,
            "ticks": "",
            "zerolinecolor": "white"
           },
           "yaxis": {
            "backgroundcolor": "#E5ECF6",
            "gridcolor": "white",
            "gridwidth": 2,
            "linecolor": "white",
            "showbackground": true,
            "ticks": "",
            "zerolinecolor": "white"
           },
           "zaxis": {
            "backgroundcolor": "#E5ECF6",
            "gridcolor": "white",
            "gridwidth": 2,
            "linecolor": "white",
            "showbackground": true,
            "ticks": "",
            "zerolinecolor": "white"
           }
          },
          "shapedefaults": {
           "line": {
            "color": "#2a3f5f"
           }
          },
          "ternary": {
           "aaxis": {
            "gridcolor": "white",
            "linecolor": "white",
            "ticks": ""
           },
           "baxis": {
            "gridcolor": "white",
            "linecolor": "white",
            "ticks": ""
           },
           "bgcolor": "#E5ECF6",
           "caxis": {
            "gridcolor": "white",
            "linecolor": "white",
            "ticks": ""
           }
          },
          "title": {
           "x": 0.05
          },
          "xaxis": {
           "automargin": true,
           "gridcolor": "white",
           "linecolor": "white",
           "ticks": "",
           "title": {
            "standoff": 15
           },
           "zerolinecolor": "white",
           "zerolinewidth": 2
          },
          "yaxis": {
           "automargin": true,
           "gridcolor": "white",
           "linecolor": "white",
           "ticks": "",
           "title": {
            "standoff": 15
           },
           "zerolinecolor": "white",
           "zerolinewidth": 2
          }
         }
        },
        "title": {
         "text": "Field priority types count"
        },
        "xaxis": {
         "anchor": "y",
         "domain": [
          0,
          1
         ],
         "title": {
          "text": "priority"
         }
        },
        "yaxis": {
         "anchor": "x",
         "domain": [
          0,
          1
         ],
         "title": {
          "text": "count"
         }
        }
       }
      },
      "text/html": [
       "<div>                            <div id=\"e202eeca-9c71-40ef-8ed9-e1a2cd6f3f90\" class=\"plotly-graph-div\" style=\"height:525px; width:100%;\"></div>            <script type=\"text/javascript\">                require([\"plotly\"], function(Plotly) {                    window.PLOTLYENV=window.PLOTLYENV || {};                                    if (document.getElementById(\"e202eeca-9c71-40ef-8ed9-e1a2cd6f3f90\")) {                    Plotly.newPlot(                        \"e202eeca-9c71-40ef-8ed9-e1a2cd6f3f90\",                        [{\"alignmentgroup\":\"True\",\"hovertemplate\":\"priority=%{x}<br>count=%{marker.color}<extra></extra>\",\"legendgroup\":\"\",\"marker\":{\"color\":[1610,1525,578,285,153,64],\"coloraxis\":\"coloraxis\",\"pattern\":{\"shape\":\"\"}},\"name\":\"\",\"offsetgroup\":\"\",\"orientation\":\"v\",\"showlegend\":false,\"text\":[1610.0,1525.0,578.0,285.0,153.0,64.0],\"textposition\":\"outside\",\"x\":[\"--\",\"P3\",\"P2\",\"P5\",\"P1\",\"P4\"],\"xaxis\":\"x\",\"y\":[1610,1525,578,285,153,64],\"yaxis\":\"y\",\"type\":\"bar\",\"textfont\":{\"size\":10},\"texttemplate\":\"%{text:.2f}\"}],                        {\"template\":{\"data\":{\"histogram2dcontour\":[{\"type\":\"histogram2dcontour\",\"colorbar\":{\"outlinewidth\":0,\"ticks\":\"\"},\"colorscale\":[[0.0,\"#0d0887\"],[0.1111111111111111,\"#46039f\"],[0.2222222222222222,\"#7201a8\"],[0.3333333333333333,\"#9c179e\"],[0.4444444444444444,\"#bd3786\"],[0.5555555555555556,\"#d8576b\"],[0.6666666666666666,\"#ed7953\"],[0.7777777777777778,\"#fb9f3a\"],[0.8888888888888888,\"#fdca26\"],[1.0,\"#f0f921\"]]}],\"choropleth\":[{\"type\":\"choropleth\",\"colorbar\":{\"outlinewidth\":0,\"ticks\":\"\"}}],\"histogram2d\":[{\"type\":\"histogram2d\",\"colorbar\":{\"outlinewidth\":0,\"ticks\":\"\"},\"colorscale\":[[0.0,\"#0d0887\"],[0.1111111111111111,\"#46039f\"],[0.2222222222222222,\"#7201a8\"],[0.3333333333333333,\"#9c179e\"],[0.4444444444444444,\"#bd3786\"],[0.5555555555555556,\"#d8576b\"],[0.6666666666666666,\"#ed7953\"],[0.7777777777777778,\"#fb9f3a\"],[0.8888888888888888,\"#fdca26\"],[1.0,\"#f0f921\"]]}],\"heatmap\":[{\"type\":\"heatmap\",\"colorbar\":{\"outlinewidth\":0,\"ticks\":\"\"},\"colorscale\":[[0.0,\"#0d0887\"],[0.1111111111111111,\"#46039f\"],[0.2222222222222222,\"#7201a8\"],[0.3333333333333333,\"#9c179e\"],[0.4444444444444444,\"#bd3786\"],[0.5555555555555556,\"#d8576b\"],[0.6666666666666666,\"#ed7953\"],[0.7777777777777778,\"#fb9f3a\"],[0.8888888888888888,\"#fdca26\"],[1.0,\"#f0f921\"]]}],\"heatmapgl\":[{\"type\":\"heatmapgl\",\"colorbar\":{\"outlinewidth\":0,\"ticks\":\"\"},\"colorscale\":[[0.0,\"#0d0887\"],[0.1111111111111111,\"#46039f\"],[0.2222222222222222,\"#7201a8\"],[0.3333333333333333,\"#9c179e\"],[0.4444444444444444,\"#bd3786\"],[0.5555555555555556,\"#d8576b\"],[0.6666666666666666,\"#ed7953\"],[0.7777777777777778,\"#fb9f3a\"],[0.8888888888888888,\"#fdca26\"],[1.0,\"#f0f921\"]]}],\"contourcarpet\":[{\"type\":\"contourcarpet\",\"colorbar\":{\"outlinewidth\":0,\"ticks\":\"\"}}],\"contour\":[{\"type\":\"contour\",\"colorbar\":{\"outlinewidth\":0,\"ticks\":\"\"},\"colorscale\":[[0.0,\"#0d0887\"],[0.1111111111111111,\"#46039f\"],[0.2222222222222222,\"#7201a8\"],[0.3333333333333333,\"#9c179e\"],[0.4444444444444444,\"#bd3786\"],[0.5555555555555556,\"#d8576b\"],[0.6666666666666666,\"#ed7953\"],[0.7777777777777778,\"#fb9f3a\"],[0.8888888888888888,\"#fdca26\"],[1.0,\"#f0f921\"]]}],\"surface\":[{\"type\":\"surface\",\"colorbar\":{\"outlinewidth\":0,\"ticks\":\"\"},\"colorscale\":[[0.0,\"#0d0887\"],[0.1111111111111111,\"#46039f\"],[0.2222222222222222,\"#7201a8\"],[0.3333333333333333,\"#9c179e\"],[0.4444444444444444,\"#bd3786\"],[0.5555555555555556,\"#d8576b\"],[0.6666666666666666,\"#ed7953\"],[0.7777777777777778,\"#fb9f3a\"],[0.8888888888888888,\"#fdca26\"],[1.0,\"#f0f921\"]]}],\"mesh3d\":[{\"type\":\"mesh3d\",\"colorbar\":{\"outlinewidth\":0,\"ticks\":\"\"}}],\"scatter\":[{\"fillpattern\":{\"fillmode\":\"overlay\",\"size\":10,\"solidity\":0.2},\"type\":\"scatter\"}],\"parcoords\":[{\"type\":\"parcoords\",\"line\":{\"colorbar\":{\"outlinewidth\":0,\"ticks\":\"\"}}}],\"scatterpolargl\":[{\"type\":\"scatterpolargl\",\"marker\":{\"colorbar\":{\"outlinewidth\":0,\"ticks\":\"\"}}}],\"bar\":[{\"error_x\":{\"color\":\"#2a3f5f\"},\"error_y\":{\"color\":\"#2a3f5f\"},\"marker\":{\"line\":{\"color\":\"#E5ECF6\",\"width\":0.5},\"pattern\":{\"fillmode\":\"overlay\",\"size\":10,\"solidity\":0.2}},\"type\":\"bar\"}],\"scattergeo\":[{\"type\":\"scattergeo\",\"marker\":{\"colorbar\":{\"outlinewidth\":0,\"ticks\":\"\"}}}],\"scatterpolar\":[{\"type\":\"scatterpolar\",\"marker\":{\"colorbar\":{\"outlinewidth\":0,\"ticks\":\"\"}}}],\"histogram\":[{\"marker\":{\"pattern\":{\"fillmode\":\"overlay\",\"size\":10,\"solidity\":0.2}},\"type\":\"histogram\"}],\"scattergl\":[{\"type\":\"scattergl\",\"marker\":{\"colorbar\":{\"outlinewidth\":0,\"ticks\":\"\"}}}],\"scatter3d\":[{\"type\":\"scatter3d\",\"line\":{\"colorbar\":{\"outlinewidth\":0,\"ticks\":\"\"}},\"marker\":{\"colorbar\":{\"outlinewidth\":0,\"ticks\":\"\"}}}],\"scattermapbox\":[{\"type\":\"scattermapbox\",\"marker\":{\"colorbar\":{\"outlinewidth\":0,\"ticks\":\"\"}}}],\"scatterternary\":[{\"type\":\"scatterternary\",\"marker\":{\"colorbar\":{\"outlinewidth\":0,\"ticks\":\"\"}}}],\"scattercarpet\":[{\"type\":\"scattercarpet\",\"marker\":{\"colorbar\":{\"outlinewidth\":0,\"ticks\":\"\"}}}],\"carpet\":[{\"aaxis\":{\"endlinecolor\":\"#2a3f5f\",\"gridcolor\":\"white\",\"linecolor\":\"white\",\"minorgridcolor\":\"white\",\"startlinecolor\":\"#2a3f5f\"},\"baxis\":{\"endlinecolor\":\"#2a3f5f\",\"gridcolor\":\"white\",\"linecolor\":\"white\",\"minorgridcolor\":\"white\",\"startlinecolor\":\"#2a3f5f\"},\"type\":\"carpet\"}],\"table\":[{\"cells\":{\"fill\":{\"color\":\"#EBF0F8\"},\"line\":{\"color\":\"white\"}},\"header\":{\"fill\":{\"color\":\"#C8D4E3\"},\"line\":{\"color\":\"white\"}},\"type\":\"table\"}],\"barpolar\":[{\"marker\":{\"line\":{\"color\":\"#E5ECF6\",\"width\":0.5},\"pattern\":{\"fillmode\":\"overlay\",\"size\":10,\"solidity\":0.2}},\"type\":\"barpolar\"}],\"pie\":[{\"automargin\":true,\"type\":\"pie\"}]},\"layout\":{\"autotypenumbers\":\"strict\",\"colorway\":[\"#636efa\",\"#EF553B\",\"#00cc96\",\"#ab63fa\",\"#FFA15A\",\"#19d3f3\",\"#FF6692\",\"#B6E880\",\"#FF97FF\",\"#FECB52\"],\"font\":{\"color\":\"#2a3f5f\"},\"hovermode\":\"closest\",\"hoverlabel\":{\"align\":\"left\"},\"paper_bgcolor\":\"white\",\"plot_bgcolor\":\"#E5ECF6\",\"polar\":{\"bgcolor\":\"#E5ECF6\",\"angularaxis\":{\"gridcolor\":\"white\",\"linecolor\":\"white\",\"ticks\":\"\"},\"radialaxis\":{\"gridcolor\":\"white\",\"linecolor\":\"white\",\"ticks\":\"\"}},\"ternary\":{\"bgcolor\":\"#E5ECF6\",\"aaxis\":{\"gridcolor\":\"white\",\"linecolor\":\"white\",\"ticks\":\"\"},\"baxis\":{\"gridcolor\":\"white\",\"linecolor\":\"white\",\"ticks\":\"\"},\"caxis\":{\"gridcolor\":\"white\",\"linecolor\":\"white\",\"ticks\":\"\"}},\"coloraxis\":{\"colorbar\":{\"outlinewidth\":0,\"ticks\":\"\"}},\"colorscale\":{\"sequential\":[[0.0,\"#0d0887\"],[0.1111111111111111,\"#46039f\"],[0.2222222222222222,\"#7201a8\"],[0.3333333333333333,\"#9c179e\"],[0.4444444444444444,\"#bd3786\"],[0.5555555555555556,\"#d8576b\"],[0.6666666666666666,\"#ed7953\"],[0.7777777777777778,\"#fb9f3a\"],[0.8888888888888888,\"#fdca26\"],[1.0,\"#f0f921\"]],\"sequentialminus\":[[0.0,\"#0d0887\"],[0.1111111111111111,\"#46039f\"],[0.2222222222222222,\"#7201a8\"],[0.3333333333333333,\"#9c179e\"],[0.4444444444444444,\"#bd3786\"],[0.5555555555555556,\"#d8576b\"],[0.6666666666666666,\"#ed7953\"],[0.7777777777777778,\"#fb9f3a\"],[0.8888888888888888,\"#fdca26\"],[1.0,\"#f0f921\"]],\"diverging\":[[0,\"#8e0152\"],[0.1,\"#c51b7d\"],[0.2,\"#de77ae\"],[0.3,\"#f1b6da\"],[0.4,\"#fde0ef\"],[0.5,\"#f7f7f7\"],[0.6,\"#e6f5d0\"],[0.7,\"#b8e186\"],[0.8,\"#7fbc41\"],[0.9,\"#4d9221\"],[1,\"#276419\"]]},\"xaxis\":{\"gridcolor\":\"white\",\"linecolor\":\"white\",\"ticks\":\"\",\"title\":{\"standoff\":15},\"zerolinecolor\":\"white\",\"automargin\":true,\"zerolinewidth\":2},\"yaxis\":{\"gridcolor\":\"white\",\"linecolor\":\"white\",\"ticks\":\"\",\"title\":{\"standoff\":15},\"zerolinecolor\":\"white\",\"automargin\":true,\"zerolinewidth\":2},\"scene\":{\"xaxis\":{\"backgroundcolor\":\"#E5ECF6\",\"gridcolor\":\"white\",\"linecolor\":\"white\",\"showbackground\":true,\"ticks\":\"\",\"zerolinecolor\":\"white\",\"gridwidth\":2},\"yaxis\":{\"backgroundcolor\":\"#E5ECF6\",\"gridcolor\":\"white\",\"linecolor\":\"white\",\"showbackground\":true,\"ticks\":\"\",\"zerolinecolor\":\"white\",\"gridwidth\":2},\"zaxis\":{\"backgroundcolor\":\"#E5ECF6\",\"gridcolor\":\"white\",\"linecolor\":\"white\",\"showbackground\":true,\"ticks\":\"\",\"zerolinecolor\":\"white\",\"gridwidth\":2}},\"shapedefaults\":{\"line\":{\"color\":\"#2a3f5f\"}},\"annotationdefaults\":{\"arrowcolor\":\"#2a3f5f\",\"arrowhead\":0,\"arrowwidth\":1},\"geo\":{\"bgcolor\":\"white\",\"landcolor\":\"#E5ECF6\",\"subunitcolor\":\"white\",\"showland\":true,\"showlakes\":true,\"lakecolor\":\"white\"},\"title\":{\"x\":0.05},\"mapbox\":{\"style\":\"light\"}}},\"xaxis\":{\"anchor\":\"y\",\"domain\":[0.0,1.0],\"title\":{\"text\":\"priority\"}},\"yaxis\":{\"anchor\":\"x\",\"domain\":[0.0,1.0],\"title\":{\"text\":\"count\"}},\"coloraxis\":{\"colorbar\":{\"title\":{\"text\":\"count\"}},\"colorscale\":[[0.0,\"rgb(237, 217, 163)\"],[0.16666666666666666,\"rgb(246, 169, 122)\"],[0.3333333333333333,\"rgb(250, 120, 118)\"],[0.5,\"rgb(234, 79, 136)\"],[0.6666666666666666,\"rgb(192, 54, 157)\"],[0.8333333333333334,\"rgb(135, 44, 162)\"],[1.0,\"rgb(75, 41, 145)\"]]},\"legend\":{\"tracegroupgap\":0},\"margin\":{\"t\":60},\"barmode\":\"relative\",\"title\":{\"text\":\"Field priority types count\"}},                        {\"responsive\": true}                    ).then(function(){\n",
       "                            \n",
       "var gd = document.getElementById('e202eeca-9c71-40ef-8ed9-e1a2cd6f3f90');\n",
       "var x = new MutationObserver(function (mutations, observer) {{\n",
       "        var display = window.getComputedStyle(gd).display;\n",
       "        if (!display || display === 'none') {{\n",
       "            console.log([gd, 'removed!']);\n",
       "            Plotly.purge(gd);\n",
       "            observer.disconnect();\n",
       "        }}\n",
       "}});\n",
       "\n",
       "// Listen for the removal of the full notebook cells\n",
       "var notebookContainer = gd.closest('#notebook-container');\n",
       "if (notebookContainer) {{\n",
       "    x.observe(notebookContainer, {childList: true});\n",
       "}}\n",
       "\n",
       "// Listen for the clearing of the current output cell\n",
       "var outputEl = gd.closest('.output');\n",
       "if (outputEl) {{\n",
       "    x.observe(outputEl, {childList: true});\n",
       "}}\n",
       "\n",
       "                        })                };                });            </script>        </div>"
      ]
     },
     "metadata": {},
     "output_type": "display_data"
    },
    {
     "data": {
      "application/vnd.plotly.v1+json": {
       "config": {
        "plotlyServerURL": "https://plot.ly"
       },
       "data": [
        {
         "alignmentgroup": "True",
         "hovertemplate": "type=%{x}<br>count=%{marker.color}<extra></extra>",
         "legendgroup": "",
         "marker": {
          "color": [
           3327,
           888
          ],
          "coloraxis": "coloraxis",
          "pattern": {
           "shape": ""
          }
         },
         "name": "",
         "offsetgroup": "",
         "orientation": "v",
         "showlegend": false,
         "text": [
          3327,
          888
         ],
         "textfont": {
          "size": 10
         },
         "textposition": "outside",
         "texttemplate": "%{text:.2f}",
         "type": "bar",
         "x": [
          "enhancement",
          "task"
         ],
         "xaxis": "x",
         "y": [
          3327,
          888
         ],
         "yaxis": "y"
        }
       ],
       "layout": {
        "barmode": "relative",
        "coloraxis": {
         "colorbar": {
          "title": {
           "text": "count"
          }
         },
         "colorscale": [
          [
           0,
           "rgb(237, 217, 163)"
          ],
          [
           0.16666666666666666,
           "rgb(246, 169, 122)"
          ],
          [
           0.3333333333333333,
           "rgb(250, 120, 118)"
          ],
          [
           0.5,
           "rgb(234, 79, 136)"
          ],
          [
           0.6666666666666666,
           "rgb(192, 54, 157)"
          ],
          [
           0.8333333333333334,
           "rgb(135, 44, 162)"
          ],
          [
           1,
           "rgb(75, 41, 145)"
          ]
         ]
        },
        "legend": {
         "tracegroupgap": 0
        },
        "margin": {
         "t": 60
        },
        "template": {
         "data": {
          "bar": [
           {
            "error_x": {
             "color": "#2a3f5f"
            },
            "error_y": {
             "color": "#2a3f5f"
            },
            "marker": {
             "line": {
              "color": "#E5ECF6",
              "width": 0.5
             },
             "pattern": {
              "fillmode": "overlay",
              "size": 10,
              "solidity": 0.2
             }
            },
            "type": "bar"
           }
          ],
          "barpolar": [
           {
            "marker": {
             "line": {
              "color": "#E5ECF6",
              "width": 0.5
             },
             "pattern": {
              "fillmode": "overlay",
              "size": 10,
              "solidity": 0.2
             }
            },
            "type": "barpolar"
           }
          ],
          "carpet": [
           {
            "aaxis": {
             "endlinecolor": "#2a3f5f",
             "gridcolor": "white",
             "linecolor": "white",
             "minorgridcolor": "white",
             "startlinecolor": "#2a3f5f"
            },
            "baxis": {
             "endlinecolor": "#2a3f5f",
             "gridcolor": "white",
             "linecolor": "white",
             "minorgridcolor": "white",
             "startlinecolor": "#2a3f5f"
            },
            "type": "carpet"
           }
          ],
          "choropleth": [
           {
            "colorbar": {
             "outlinewidth": 0,
             "ticks": ""
            },
            "type": "choropleth"
           }
          ],
          "contour": [
           {
            "colorbar": {
             "outlinewidth": 0,
             "ticks": ""
            },
            "colorscale": [
             [
              0,
              "#0d0887"
             ],
             [
              0.1111111111111111,
              "#46039f"
             ],
             [
              0.2222222222222222,
              "#7201a8"
             ],
             [
              0.3333333333333333,
              "#9c179e"
             ],
             [
              0.4444444444444444,
              "#bd3786"
             ],
             [
              0.5555555555555556,
              "#d8576b"
             ],
             [
              0.6666666666666666,
              "#ed7953"
             ],
             [
              0.7777777777777778,
              "#fb9f3a"
             ],
             [
              0.8888888888888888,
              "#fdca26"
             ],
             [
              1,
              "#f0f921"
             ]
            ],
            "type": "contour"
           }
          ],
          "contourcarpet": [
           {
            "colorbar": {
             "outlinewidth": 0,
             "ticks": ""
            },
            "type": "contourcarpet"
           }
          ],
          "heatmap": [
           {
            "colorbar": {
             "outlinewidth": 0,
             "ticks": ""
            },
            "colorscale": [
             [
              0,
              "#0d0887"
             ],
             [
              0.1111111111111111,
              "#46039f"
             ],
             [
              0.2222222222222222,
              "#7201a8"
             ],
             [
              0.3333333333333333,
              "#9c179e"
             ],
             [
              0.4444444444444444,
              "#bd3786"
             ],
             [
              0.5555555555555556,
              "#d8576b"
             ],
             [
              0.6666666666666666,
              "#ed7953"
             ],
             [
              0.7777777777777778,
              "#fb9f3a"
             ],
             [
              0.8888888888888888,
              "#fdca26"
             ],
             [
              1,
              "#f0f921"
             ]
            ],
            "type": "heatmap"
           }
          ],
          "heatmapgl": [
           {
            "colorbar": {
             "outlinewidth": 0,
             "ticks": ""
            },
            "colorscale": [
             [
              0,
              "#0d0887"
             ],
             [
              0.1111111111111111,
              "#46039f"
             ],
             [
              0.2222222222222222,
              "#7201a8"
             ],
             [
              0.3333333333333333,
              "#9c179e"
             ],
             [
              0.4444444444444444,
              "#bd3786"
             ],
             [
              0.5555555555555556,
              "#d8576b"
             ],
             [
              0.6666666666666666,
              "#ed7953"
             ],
             [
              0.7777777777777778,
              "#fb9f3a"
             ],
             [
              0.8888888888888888,
              "#fdca26"
             ],
             [
              1,
              "#f0f921"
             ]
            ],
            "type": "heatmapgl"
           }
          ],
          "histogram": [
           {
            "marker": {
             "pattern": {
              "fillmode": "overlay",
              "size": 10,
              "solidity": 0.2
             }
            },
            "type": "histogram"
           }
          ],
          "histogram2d": [
           {
            "colorbar": {
             "outlinewidth": 0,
             "ticks": ""
            },
            "colorscale": [
             [
              0,
              "#0d0887"
             ],
             [
              0.1111111111111111,
              "#46039f"
             ],
             [
              0.2222222222222222,
              "#7201a8"
             ],
             [
              0.3333333333333333,
              "#9c179e"
             ],
             [
              0.4444444444444444,
              "#bd3786"
             ],
             [
              0.5555555555555556,
              "#d8576b"
             ],
             [
              0.6666666666666666,
              "#ed7953"
             ],
             [
              0.7777777777777778,
              "#fb9f3a"
             ],
             [
              0.8888888888888888,
              "#fdca26"
             ],
             [
              1,
              "#f0f921"
             ]
            ],
            "type": "histogram2d"
           }
          ],
          "histogram2dcontour": [
           {
            "colorbar": {
             "outlinewidth": 0,
             "ticks": ""
            },
            "colorscale": [
             [
              0,
              "#0d0887"
             ],
             [
              0.1111111111111111,
              "#46039f"
             ],
             [
              0.2222222222222222,
              "#7201a8"
             ],
             [
              0.3333333333333333,
              "#9c179e"
             ],
             [
              0.4444444444444444,
              "#bd3786"
             ],
             [
              0.5555555555555556,
              "#d8576b"
             ],
             [
              0.6666666666666666,
              "#ed7953"
             ],
             [
              0.7777777777777778,
              "#fb9f3a"
             ],
             [
              0.8888888888888888,
              "#fdca26"
             ],
             [
              1,
              "#f0f921"
             ]
            ],
            "type": "histogram2dcontour"
           }
          ],
          "mesh3d": [
           {
            "colorbar": {
             "outlinewidth": 0,
             "ticks": ""
            },
            "type": "mesh3d"
           }
          ],
          "parcoords": [
           {
            "line": {
             "colorbar": {
              "outlinewidth": 0,
              "ticks": ""
             }
            },
            "type": "parcoords"
           }
          ],
          "pie": [
           {
            "automargin": true,
            "type": "pie"
           }
          ],
          "scatter": [
           {
            "fillpattern": {
             "fillmode": "overlay",
             "size": 10,
             "solidity": 0.2
            },
            "type": "scatter"
           }
          ],
          "scatter3d": [
           {
            "line": {
             "colorbar": {
              "outlinewidth": 0,
              "ticks": ""
             }
            },
            "marker": {
             "colorbar": {
              "outlinewidth": 0,
              "ticks": ""
             }
            },
            "type": "scatter3d"
           }
          ],
          "scattercarpet": [
           {
            "marker": {
             "colorbar": {
              "outlinewidth": 0,
              "ticks": ""
             }
            },
            "type": "scattercarpet"
           }
          ],
          "scattergeo": [
           {
            "marker": {
             "colorbar": {
              "outlinewidth": 0,
              "ticks": ""
             }
            },
            "type": "scattergeo"
           }
          ],
          "scattergl": [
           {
            "marker": {
             "colorbar": {
              "outlinewidth": 0,
              "ticks": ""
             }
            },
            "type": "scattergl"
           }
          ],
          "scattermapbox": [
           {
            "marker": {
             "colorbar": {
              "outlinewidth": 0,
              "ticks": ""
             }
            },
            "type": "scattermapbox"
           }
          ],
          "scatterpolar": [
           {
            "marker": {
             "colorbar": {
              "outlinewidth": 0,
              "ticks": ""
             }
            },
            "type": "scatterpolar"
           }
          ],
          "scatterpolargl": [
           {
            "marker": {
             "colorbar": {
              "outlinewidth": 0,
              "ticks": ""
             }
            },
            "type": "scatterpolargl"
           }
          ],
          "scatterternary": [
           {
            "marker": {
             "colorbar": {
              "outlinewidth": 0,
              "ticks": ""
             }
            },
            "type": "scatterternary"
           }
          ],
          "surface": [
           {
            "colorbar": {
             "outlinewidth": 0,
             "ticks": ""
            },
            "colorscale": [
             [
              0,
              "#0d0887"
             ],
             [
              0.1111111111111111,
              "#46039f"
             ],
             [
              0.2222222222222222,
              "#7201a8"
             ],
             [
              0.3333333333333333,
              "#9c179e"
             ],
             [
              0.4444444444444444,
              "#bd3786"
             ],
             [
              0.5555555555555556,
              "#d8576b"
             ],
             [
              0.6666666666666666,
              "#ed7953"
             ],
             [
              0.7777777777777778,
              "#fb9f3a"
             ],
             [
              0.8888888888888888,
              "#fdca26"
             ],
             [
              1,
              "#f0f921"
             ]
            ],
            "type": "surface"
           }
          ],
          "table": [
           {
            "cells": {
             "fill": {
              "color": "#EBF0F8"
             },
             "line": {
              "color": "white"
             }
            },
            "header": {
             "fill": {
              "color": "#C8D4E3"
             },
             "line": {
              "color": "white"
             }
            },
            "type": "table"
           }
          ]
         },
         "layout": {
          "annotationdefaults": {
           "arrowcolor": "#2a3f5f",
           "arrowhead": 0,
           "arrowwidth": 1
          },
          "autotypenumbers": "strict",
          "coloraxis": {
           "colorbar": {
            "outlinewidth": 0,
            "ticks": ""
           }
          },
          "colorscale": {
           "diverging": [
            [
             0,
             "#8e0152"
            ],
            [
             0.1,
             "#c51b7d"
            ],
            [
             0.2,
             "#de77ae"
            ],
            [
             0.3,
             "#f1b6da"
            ],
            [
             0.4,
             "#fde0ef"
            ],
            [
             0.5,
             "#f7f7f7"
            ],
            [
             0.6,
             "#e6f5d0"
            ],
            [
             0.7,
             "#b8e186"
            ],
            [
             0.8,
             "#7fbc41"
            ],
            [
             0.9,
             "#4d9221"
            ],
            [
             1,
             "#276419"
            ]
           ],
           "sequential": [
            [
             0,
             "#0d0887"
            ],
            [
             0.1111111111111111,
             "#46039f"
            ],
            [
             0.2222222222222222,
             "#7201a8"
            ],
            [
             0.3333333333333333,
             "#9c179e"
            ],
            [
             0.4444444444444444,
             "#bd3786"
            ],
            [
             0.5555555555555556,
             "#d8576b"
            ],
            [
             0.6666666666666666,
             "#ed7953"
            ],
            [
             0.7777777777777778,
             "#fb9f3a"
            ],
            [
             0.8888888888888888,
             "#fdca26"
            ],
            [
             1,
             "#f0f921"
            ]
           ],
           "sequentialminus": [
            [
             0,
             "#0d0887"
            ],
            [
             0.1111111111111111,
             "#46039f"
            ],
            [
             0.2222222222222222,
             "#7201a8"
            ],
            [
             0.3333333333333333,
             "#9c179e"
            ],
            [
             0.4444444444444444,
             "#bd3786"
            ],
            [
             0.5555555555555556,
             "#d8576b"
            ],
            [
             0.6666666666666666,
             "#ed7953"
            ],
            [
             0.7777777777777778,
             "#fb9f3a"
            ],
            [
             0.8888888888888888,
             "#fdca26"
            ],
            [
             1,
             "#f0f921"
            ]
           ]
          },
          "colorway": [
           "#636efa",
           "#EF553B",
           "#00cc96",
           "#ab63fa",
           "#FFA15A",
           "#19d3f3",
           "#FF6692",
           "#B6E880",
           "#FF97FF",
           "#FECB52"
          ],
          "font": {
           "color": "#2a3f5f"
          },
          "geo": {
           "bgcolor": "white",
           "lakecolor": "white",
           "landcolor": "#E5ECF6",
           "showlakes": true,
           "showland": true,
           "subunitcolor": "white"
          },
          "hoverlabel": {
           "align": "left"
          },
          "hovermode": "closest",
          "mapbox": {
           "style": "light"
          },
          "paper_bgcolor": "white",
          "plot_bgcolor": "#E5ECF6",
          "polar": {
           "angularaxis": {
            "gridcolor": "white",
            "linecolor": "white",
            "ticks": ""
           },
           "bgcolor": "#E5ECF6",
           "radialaxis": {
            "gridcolor": "white",
            "linecolor": "white",
            "ticks": ""
           }
          },
          "scene": {
           "xaxis": {
            "backgroundcolor": "#E5ECF6",
            "gridcolor": "white",
            "gridwidth": 2,
            "linecolor": "white",
            "showbackground": true,
            "ticks": "",
            "zerolinecolor": "white"
           },
           "yaxis": {
            "backgroundcolor": "#E5ECF6",
            "gridcolor": "white",
            "gridwidth": 2,
            "linecolor": "white",
            "showbackground": true,
            "ticks": "",
            "zerolinecolor": "white"
           },
           "zaxis": {
            "backgroundcolor": "#E5ECF6",
            "gridcolor": "white",
            "gridwidth": 2,
            "linecolor": "white",
            "showbackground": true,
            "ticks": "",
            "zerolinecolor": "white"
           }
          },
          "shapedefaults": {
           "line": {
            "color": "#2a3f5f"
           }
          },
          "ternary": {
           "aaxis": {
            "gridcolor": "white",
            "linecolor": "white",
            "ticks": ""
           },
           "baxis": {
            "gridcolor": "white",
            "linecolor": "white",
            "ticks": ""
           },
           "bgcolor": "#E5ECF6",
           "caxis": {
            "gridcolor": "white",
            "linecolor": "white",
            "ticks": ""
           }
          },
          "title": {
           "x": 0.05
          },
          "xaxis": {
           "automargin": true,
           "gridcolor": "white",
           "linecolor": "white",
           "ticks": "",
           "title": {
            "standoff": 15
           },
           "zerolinecolor": "white",
           "zerolinewidth": 2
          },
          "yaxis": {
           "automargin": true,
           "gridcolor": "white",
           "linecolor": "white",
           "ticks": "",
           "title": {
            "standoff": 15
           },
           "zerolinecolor": "white",
           "zerolinewidth": 2
          }
         }
        },
        "title": {
         "text": "Field type types count"
        },
        "xaxis": {
         "anchor": "y",
         "domain": [
          0,
          1
         ],
         "title": {
          "text": "type"
         }
        },
        "yaxis": {
         "anchor": "x",
         "domain": [
          0,
          1
         ],
         "title": {
          "text": "count"
         }
        }
       }
      },
      "text/html": [
       "<div>                            <div id=\"6b933a5f-a20b-4d2e-b367-7c39308b410a\" class=\"plotly-graph-div\" style=\"height:525px; width:100%;\"></div>            <script type=\"text/javascript\">                require([\"plotly\"], function(Plotly) {                    window.PLOTLYENV=window.PLOTLYENV || {};                                    if (document.getElementById(\"6b933a5f-a20b-4d2e-b367-7c39308b410a\")) {                    Plotly.newPlot(                        \"6b933a5f-a20b-4d2e-b367-7c39308b410a\",                        [{\"alignmentgroup\":\"True\",\"hovertemplate\":\"type=%{x}<br>count=%{marker.color}<extra></extra>\",\"legendgroup\":\"\",\"marker\":{\"color\":[3327,888],\"coloraxis\":\"coloraxis\",\"pattern\":{\"shape\":\"\"}},\"name\":\"\",\"offsetgroup\":\"\",\"orientation\":\"v\",\"showlegend\":false,\"text\":[3327.0,888.0],\"textposition\":\"outside\",\"x\":[\"enhancement\",\"task\"],\"xaxis\":\"x\",\"y\":[3327,888],\"yaxis\":\"y\",\"type\":\"bar\",\"textfont\":{\"size\":10},\"texttemplate\":\"%{text:.2f}\"}],                        {\"template\":{\"data\":{\"histogram2dcontour\":[{\"type\":\"histogram2dcontour\",\"colorbar\":{\"outlinewidth\":0,\"ticks\":\"\"},\"colorscale\":[[0.0,\"#0d0887\"],[0.1111111111111111,\"#46039f\"],[0.2222222222222222,\"#7201a8\"],[0.3333333333333333,\"#9c179e\"],[0.4444444444444444,\"#bd3786\"],[0.5555555555555556,\"#d8576b\"],[0.6666666666666666,\"#ed7953\"],[0.7777777777777778,\"#fb9f3a\"],[0.8888888888888888,\"#fdca26\"],[1.0,\"#f0f921\"]]}],\"choropleth\":[{\"type\":\"choropleth\",\"colorbar\":{\"outlinewidth\":0,\"ticks\":\"\"}}],\"histogram2d\":[{\"type\":\"histogram2d\",\"colorbar\":{\"outlinewidth\":0,\"ticks\":\"\"},\"colorscale\":[[0.0,\"#0d0887\"],[0.1111111111111111,\"#46039f\"],[0.2222222222222222,\"#7201a8\"],[0.3333333333333333,\"#9c179e\"],[0.4444444444444444,\"#bd3786\"],[0.5555555555555556,\"#d8576b\"],[0.6666666666666666,\"#ed7953\"],[0.7777777777777778,\"#fb9f3a\"],[0.8888888888888888,\"#fdca26\"],[1.0,\"#f0f921\"]]}],\"heatmap\":[{\"type\":\"heatmap\",\"colorbar\":{\"outlinewidth\":0,\"ticks\":\"\"},\"colorscale\":[[0.0,\"#0d0887\"],[0.1111111111111111,\"#46039f\"],[0.2222222222222222,\"#7201a8\"],[0.3333333333333333,\"#9c179e\"],[0.4444444444444444,\"#bd3786\"],[0.5555555555555556,\"#d8576b\"],[0.6666666666666666,\"#ed7953\"],[0.7777777777777778,\"#fb9f3a\"],[0.8888888888888888,\"#fdca26\"],[1.0,\"#f0f921\"]]}],\"heatmapgl\":[{\"type\":\"heatmapgl\",\"colorbar\":{\"outlinewidth\":0,\"ticks\":\"\"},\"colorscale\":[[0.0,\"#0d0887\"],[0.1111111111111111,\"#46039f\"],[0.2222222222222222,\"#7201a8\"],[0.3333333333333333,\"#9c179e\"],[0.4444444444444444,\"#bd3786\"],[0.5555555555555556,\"#d8576b\"],[0.6666666666666666,\"#ed7953\"],[0.7777777777777778,\"#fb9f3a\"],[0.8888888888888888,\"#fdca26\"],[1.0,\"#f0f921\"]]}],\"contourcarpet\":[{\"type\":\"contourcarpet\",\"colorbar\":{\"outlinewidth\":0,\"ticks\":\"\"}}],\"contour\":[{\"type\":\"contour\",\"colorbar\":{\"outlinewidth\":0,\"ticks\":\"\"},\"colorscale\":[[0.0,\"#0d0887\"],[0.1111111111111111,\"#46039f\"],[0.2222222222222222,\"#7201a8\"],[0.3333333333333333,\"#9c179e\"],[0.4444444444444444,\"#bd3786\"],[0.5555555555555556,\"#d8576b\"],[0.6666666666666666,\"#ed7953\"],[0.7777777777777778,\"#fb9f3a\"],[0.8888888888888888,\"#fdca26\"],[1.0,\"#f0f921\"]]}],\"surface\":[{\"type\":\"surface\",\"colorbar\":{\"outlinewidth\":0,\"ticks\":\"\"},\"colorscale\":[[0.0,\"#0d0887\"],[0.1111111111111111,\"#46039f\"],[0.2222222222222222,\"#7201a8\"],[0.3333333333333333,\"#9c179e\"],[0.4444444444444444,\"#bd3786\"],[0.5555555555555556,\"#d8576b\"],[0.6666666666666666,\"#ed7953\"],[0.7777777777777778,\"#fb9f3a\"],[0.8888888888888888,\"#fdca26\"],[1.0,\"#f0f921\"]]}],\"mesh3d\":[{\"type\":\"mesh3d\",\"colorbar\":{\"outlinewidth\":0,\"ticks\":\"\"}}],\"scatter\":[{\"fillpattern\":{\"fillmode\":\"overlay\",\"size\":10,\"solidity\":0.2},\"type\":\"scatter\"}],\"parcoords\":[{\"type\":\"parcoords\",\"line\":{\"colorbar\":{\"outlinewidth\":0,\"ticks\":\"\"}}}],\"scatterpolargl\":[{\"type\":\"scatterpolargl\",\"marker\":{\"colorbar\":{\"outlinewidth\":0,\"ticks\":\"\"}}}],\"bar\":[{\"error_x\":{\"color\":\"#2a3f5f\"},\"error_y\":{\"color\":\"#2a3f5f\"},\"marker\":{\"line\":{\"color\":\"#E5ECF6\",\"width\":0.5},\"pattern\":{\"fillmode\":\"overlay\",\"size\":10,\"solidity\":0.2}},\"type\":\"bar\"}],\"scattergeo\":[{\"type\":\"scattergeo\",\"marker\":{\"colorbar\":{\"outlinewidth\":0,\"ticks\":\"\"}}}],\"scatterpolar\":[{\"type\":\"scatterpolar\",\"marker\":{\"colorbar\":{\"outlinewidth\":0,\"ticks\":\"\"}}}],\"histogram\":[{\"marker\":{\"pattern\":{\"fillmode\":\"overlay\",\"size\":10,\"solidity\":0.2}},\"type\":\"histogram\"}],\"scattergl\":[{\"type\":\"scattergl\",\"marker\":{\"colorbar\":{\"outlinewidth\":0,\"ticks\":\"\"}}}],\"scatter3d\":[{\"type\":\"scatter3d\",\"line\":{\"colorbar\":{\"outlinewidth\":0,\"ticks\":\"\"}},\"marker\":{\"colorbar\":{\"outlinewidth\":0,\"ticks\":\"\"}}}],\"scattermapbox\":[{\"type\":\"scattermapbox\",\"marker\":{\"colorbar\":{\"outlinewidth\":0,\"ticks\":\"\"}}}],\"scatterternary\":[{\"type\":\"scatterternary\",\"marker\":{\"colorbar\":{\"outlinewidth\":0,\"ticks\":\"\"}}}],\"scattercarpet\":[{\"type\":\"scattercarpet\",\"marker\":{\"colorbar\":{\"outlinewidth\":0,\"ticks\":\"\"}}}],\"carpet\":[{\"aaxis\":{\"endlinecolor\":\"#2a3f5f\",\"gridcolor\":\"white\",\"linecolor\":\"white\",\"minorgridcolor\":\"white\",\"startlinecolor\":\"#2a3f5f\"},\"baxis\":{\"endlinecolor\":\"#2a3f5f\",\"gridcolor\":\"white\",\"linecolor\":\"white\",\"minorgridcolor\":\"white\",\"startlinecolor\":\"#2a3f5f\"},\"type\":\"carpet\"}],\"table\":[{\"cells\":{\"fill\":{\"color\":\"#EBF0F8\"},\"line\":{\"color\":\"white\"}},\"header\":{\"fill\":{\"color\":\"#C8D4E3\"},\"line\":{\"color\":\"white\"}},\"type\":\"table\"}],\"barpolar\":[{\"marker\":{\"line\":{\"color\":\"#E5ECF6\",\"width\":0.5},\"pattern\":{\"fillmode\":\"overlay\",\"size\":10,\"solidity\":0.2}},\"type\":\"barpolar\"}],\"pie\":[{\"automargin\":true,\"type\":\"pie\"}]},\"layout\":{\"autotypenumbers\":\"strict\",\"colorway\":[\"#636efa\",\"#EF553B\",\"#00cc96\",\"#ab63fa\",\"#FFA15A\",\"#19d3f3\",\"#FF6692\",\"#B6E880\",\"#FF97FF\",\"#FECB52\"],\"font\":{\"color\":\"#2a3f5f\"},\"hovermode\":\"closest\",\"hoverlabel\":{\"align\":\"left\"},\"paper_bgcolor\":\"white\",\"plot_bgcolor\":\"#E5ECF6\",\"polar\":{\"bgcolor\":\"#E5ECF6\",\"angularaxis\":{\"gridcolor\":\"white\",\"linecolor\":\"white\",\"ticks\":\"\"},\"radialaxis\":{\"gridcolor\":\"white\",\"linecolor\":\"white\",\"ticks\":\"\"}},\"ternary\":{\"bgcolor\":\"#E5ECF6\",\"aaxis\":{\"gridcolor\":\"white\",\"linecolor\":\"white\",\"ticks\":\"\"},\"baxis\":{\"gridcolor\":\"white\",\"linecolor\":\"white\",\"ticks\":\"\"},\"caxis\":{\"gridcolor\":\"white\",\"linecolor\":\"white\",\"ticks\":\"\"}},\"coloraxis\":{\"colorbar\":{\"outlinewidth\":0,\"ticks\":\"\"}},\"colorscale\":{\"sequential\":[[0.0,\"#0d0887\"],[0.1111111111111111,\"#46039f\"],[0.2222222222222222,\"#7201a8\"],[0.3333333333333333,\"#9c179e\"],[0.4444444444444444,\"#bd3786\"],[0.5555555555555556,\"#d8576b\"],[0.6666666666666666,\"#ed7953\"],[0.7777777777777778,\"#fb9f3a\"],[0.8888888888888888,\"#fdca26\"],[1.0,\"#f0f921\"]],\"sequentialminus\":[[0.0,\"#0d0887\"],[0.1111111111111111,\"#46039f\"],[0.2222222222222222,\"#7201a8\"],[0.3333333333333333,\"#9c179e\"],[0.4444444444444444,\"#bd3786\"],[0.5555555555555556,\"#d8576b\"],[0.6666666666666666,\"#ed7953\"],[0.7777777777777778,\"#fb9f3a\"],[0.8888888888888888,\"#fdca26\"],[1.0,\"#f0f921\"]],\"diverging\":[[0,\"#8e0152\"],[0.1,\"#c51b7d\"],[0.2,\"#de77ae\"],[0.3,\"#f1b6da\"],[0.4,\"#fde0ef\"],[0.5,\"#f7f7f7\"],[0.6,\"#e6f5d0\"],[0.7,\"#b8e186\"],[0.8,\"#7fbc41\"],[0.9,\"#4d9221\"],[1,\"#276419\"]]},\"xaxis\":{\"gridcolor\":\"white\",\"linecolor\":\"white\",\"ticks\":\"\",\"title\":{\"standoff\":15},\"zerolinecolor\":\"white\",\"automargin\":true,\"zerolinewidth\":2},\"yaxis\":{\"gridcolor\":\"white\",\"linecolor\":\"white\",\"ticks\":\"\",\"title\":{\"standoff\":15},\"zerolinecolor\":\"white\",\"automargin\":true,\"zerolinewidth\":2},\"scene\":{\"xaxis\":{\"backgroundcolor\":\"#E5ECF6\",\"gridcolor\":\"white\",\"linecolor\":\"white\",\"showbackground\":true,\"ticks\":\"\",\"zerolinecolor\":\"white\",\"gridwidth\":2},\"yaxis\":{\"backgroundcolor\":\"#E5ECF6\",\"gridcolor\":\"white\",\"linecolor\":\"white\",\"showbackground\":true,\"ticks\":\"\",\"zerolinecolor\":\"white\",\"gridwidth\":2},\"zaxis\":{\"backgroundcolor\":\"#E5ECF6\",\"gridcolor\":\"white\",\"linecolor\":\"white\",\"showbackground\":true,\"ticks\":\"\",\"zerolinecolor\":\"white\",\"gridwidth\":2}},\"shapedefaults\":{\"line\":{\"color\":\"#2a3f5f\"}},\"annotationdefaults\":{\"arrowcolor\":\"#2a3f5f\",\"arrowhead\":0,\"arrowwidth\":1},\"geo\":{\"bgcolor\":\"white\",\"landcolor\":\"#E5ECF6\",\"subunitcolor\":\"white\",\"showland\":true,\"showlakes\":true,\"lakecolor\":\"white\"},\"title\":{\"x\":0.05},\"mapbox\":{\"style\":\"light\"}}},\"xaxis\":{\"anchor\":\"y\",\"domain\":[0.0,1.0],\"title\":{\"text\":\"type\"}},\"yaxis\":{\"anchor\":\"x\",\"domain\":[0.0,1.0],\"title\":{\"text\":\"count\"}},\"coloraxis\":{\"colorbar\":{\"title\":{\"text\":\"count\"}},\"colorscale\":[[0.0,\"rgb(237, 217, 163)\"],[0.16666666666666666,\"rgb(246, 169, 122)\"],[0.3333333333333333,\"rgb(250, 120, 118)\"],[0.5,\"rgb(234, 79, 136)\"],[0.6666666666666666,\"rgb(192, 54, 157)\"],[0.8333333333333334,\"rgb(135, 44, 162)\"],[1.0,\"rgb(75, 41, 145)\"]]},\"legend\":{\"tracegroupgap\":0},\"margin\":{\"t\":60},\"barmode\":\"relative\",\"title\":{\"text\":\"Field type types count\"}},                        {\"responsive\": true}                    ).then(function(){\n",
       "                            \n",
       "var gd = document.getElementById('6b933a5f-a20b-4d2e-b367-7c39308b410a');\n",
       "var x = new MutationObserver(function (mutations, observer) {{\n",
       "        var display = window.getComputedStyle(gd).display;\n",
       "        if (!display || display === 'none') {{\n",
       "            console.log([gd, 'removed!']);\n",
       "            Plotly.purge(gd);\n",
       "            observer.disconnect();\n",
       "        }}\n",
       "}});\n",
       "\n",
       "// Listen for the removal of the full notebook cells\n",
       "var notebookContainer = gd.closest('#notebook-container');\n",
       "if (notebookContainer) {{\n",
       "    x.observe(notebookContainer, {childList: true});\n",
       "}}\n",
       "\n",
       "// Listen for the clearing of the current output cell\n",
       "var outputEl = gd.closest('.output');\n",
       "if (outputEl) {{\n",
       "    x.observe(outputEl, {childList: true});\n",
       "}}\n",
       "\n",
       "                        })                };                });            </script>        </div>"
      ]
     },
     "metadata": {},
     "output_type": "display_data"
    }
   ],
   "source": [
    "for col in visualization_cols:\n",
    "    create_plot(df, col=col)"
   ]
  },
  {
   "cell_type": "markdown",
   "metadata": {},
   "source": [
    "#### Data Exploration"
   ]
  },
  {
   "cell_type": "code",
   "execution_count": 68,
   "metadata": {},
   "outputs": [
    {
     "name": "stdout",
     "output_type": "stream",
     "text": [
      "There are 4215 records and 14 columns in this dataset.\n"
     ]
    }
   ],
   "source": [
    "print(f'There are {len(df)} records and {len(df.columns)} columns in this dataset.')"
   ]
  },
  {
   "cell_type": "code",
   "execution_count": null,
   "metadata": {},
   "outputs": [],
   "source": []
  },
  {
   "cell_type": "code",
   "execution_count": 69,
   "metadata": {},
   "outputs": [
    {
     "data": {
      "text/html": [
       "<div>\n",
       "<style scoped>\n",
       "    .dataframe tbody tr th:only-of-type {\n",
       "        vertical-align: middle;\n",
       "    }\n",
       "\n",
       "    .dataframe tbody tr th {\n",
       "        vertical-align: top;\n",
       "    }\n",
       "\n",
       "    .dataframe thead th {\n",
       "        text-align: right;\n",
       "    }\n",
       "</style>\n",
       "<table border=\"1\" class=\"dataframe\">\n",
       "  <thead>\n",
       "    <tr style=\"text-align: right;\">\n",
       "      <th></th>\n",
       "      <th>0</th>\n",
       "    </tr>\n",
       "  </thead>\n",
       "  <tbody>\n",
       "    <tr>\n",
       "      <th>classification</th>\n",
       "      <td>0</td>\n",
       "    </tr>\n",
       "    <tr>\n",
       "      <th>component</th>\n",
       "      <td>0</td>\n",
       "    </tr>\n",
       "    <tr>\n",
       "      <th>platform</th>\n",
       "      <td>0</td>\n",
       "    </tr>\n",
       "    <tr>\n",
       "      <th>assigned_to</th>\n",
       "      <td>0</td>\n",
       "    </tr>\n",
       "    <tr>\n",
       "      <th>summary</th>\n",
       "      <td>0</td>\n",
       "    </tr>\n",
       "    <tr>\n",
       "      <th>id</th>\n",
       "      <td>0</td>\n",
       "    </tr>\n",
       "    <tr>\n",
       "      <th>status</th>\n",
       "      <td>0</td>\n",
       "    </tr>\n",
       "    <tr>\n",
       "      <th>is_confirmed</th>\n",
       "      <td>0</td>\n",
       "    </tr>\n",
       "    <tr>\n",
       "      <th>votes</th>\n",
       "      <td>0</td>\n",
       "    </tr>\n",
       "    <tr>\n",
       "      <th>severity</th>\n",
       "      <td>0</td>\n",
       "    </tr>\n",
       "    <tr>\n",
       "      <th>keywords</th>\n",
       "      <td>0</td>\n",
       "    </tr>\n",
       "    <tr>\n",
       "      <th>priority</th>\n",
       "      <td>0</td>\n",
       "    </tr>\n",
       "    <tr>\n",
       "      <th>creator</th>\n",
       "      <td>0</td>\n",
       "    </tr>\n",
       "    <tr>\n",
       "      <th>type</th>\n",
       "      <td>0</td>\n",
       "    </tr>\n",
       "  </tbody>\n",
       "</table>\n",
       "</div>"
      ],
      "text/plain": [
       "                0\n",
       "classification  0\n",
       "component       0\n",
       "platform        0\n",
       "assigned_to     0\n",
       "summary         0\n",
       "id              0\n",
       "status          0\n",
       "is_confirmed    0\n",
       "votes           0\n",
       "severity        0\n",
       "keywords        0\n",
       "priority        0\n",
       "creator         0\n",
       "type            0"
      ]
     },
     "execution_count": 69,
     "metadata": {},
     "output_type": "execute_result"
    }
   ],
   "source": [
    "pd.DataFrame(df.isna().sum())"
   ]
  },
  {
   "cell_type": "code",
   "execution_count": null,
   "metadata": {},
   "outputs": [],
   "source": []
  },
  {
   "cell_type": "code",
   "execution_count": null,
   "metadata": {},
   "outputs": [],
   "source": []
  },
  {
   "cell_type": "code",
   "execution_count": 82,
   "metadata": {},
   "outputs": [
    {
     "name": "stderr",
     "output_type": "stream",
     "text": [
      "c:\\Users\\mitra\\anaconda3\\lib\\site-packages\\pandas\\core\\indexing.py:1773: SettingWithCopyWarning:\n",
      "\n",
      "\n",
      "A value is trying to be set on a copy of a slice from a DataFrame.\n",
      "Try using .loc[row_indexer,col_indexer] = value instead\n",
      "\n",
      "See the caveats in the documentation: https://pandas.pydata.org/pandas-docs/stable/user_guide/indexing.html#returning-a-view-versus-a-copy\n",
      "\n"
     ]
    }
   ],
   "source": [
    "stop_words = set(stopwords.words('english'))\n",
    "\n",
    "def tokenize_text(df, input_col='summary', output_col=\"summary_tokens_list\"):\n",
    "    \"\"\"\n",
    "    takes a dataset and name of a column\n",
    "    then tokenizes the text in the column of that dataset\n",
    "    \"\"\"\n",
    "    tokenized_series = df.loc[:, input_col].apply(lambda t: word_tokenize(t))\n",
    "    df.loc[:, output_col] = tokenized_series\n",
    "    return df\n",
    "    \n",
    "df = tokenize_text(df)"
   ]
  },
  {
   "cell_type": "code",
   "execution_count": 84,
   "metadata": {},
   "outputs": [
    {
     "data": {
      "text/html": [
       "<div>\n",
       "<style scoped>\n",
       "    .dataframe tbody tr th:only-of-type {\n",
       "        vertical-align: middle;\n",
       "    }\n",
       "\n",
       "    .dataframe tbody tr th {\n",
       "        vertical-align: top;\n",
       "    }\n",
       "\n",
       "    .dataframe thead th {\n",
       "        text-align: right;\n",
       "    }\n",
       "</style>\n",
       "<table border=\"1\" class=\"dataframe\">\n",
       "  <thead>\n",
       "    <tr style=\"text-align: right;\">\n",
       "      <th></th>\n",
       "      <th>classification</th>\n",
       "      <th>component</th>\n",
       "      <th>platform</th>\n",
       "      <th>assigned_to</th>\n",
       "      <th>summary</th>\n",
       "      <th>id</th>\n",
       "      <th>status</th>\n",
       "      <th>is_confirmed</th>\n",
       "      <th>votes</th>\n",
       "      <th>severity</th>\n",
       "      <th>keywords</th>\n",
       "      <th>priority</th>\n",
       "      <th>creator</th>\n",
       "      <th>type</th>\n",
       "      <th>summary_tokens_list</th>\n",
       "      <th>cleaned_word_list</th>\n",
       "    </tr>\n",
       "  </thead>\n",
       "  <tbody>\n",
       "    <tr>\n",
       "      <th>0</th>\n",
       "      <td>Components</td>\n",
       "      <td>Networking: HTTP</td>\n",
       "      <td>All</td>\n",
       "      <td>nobody@mozilla.org</td>\n",
       "      <td>Proxy: map HTTP 500 errors to necko errors (so...</td>\n",
       "      <td>2875</td>\n",
       "      <td>NEW</td>\n",
       "      <td>True</td>\n",
       "      <td>13</td>\n",
       "      <td>normal</td>\n",
       "      <td>[]</td>\n",
       "      <td>P3</td>\n",
       "      <td>erik@vanderpoel.org</td>\n",
       "      <td>enhancement</td>\n",
       "      <td>[Proxy, :, map, HTTP, 500, errors, to, necko, ...</td>\n",
       "      <td>[map, 500, errors, necko, errors, would, work]</td>\n",
       "    </tr>\n",
       "  </tbody>\n",
       "</table>\n",
       "</div>"
      ],
      "text/plain": [
       "  classification         component platform         assigned_to  \\\n",
       "0     Components  Networking: HTTP      All  nobody@mozilla.org   \n",
       "\n",
       "                                             summary    id status  \\\n",
       "0  Proxy: map HTTP 500 errors to necko errors (so...  2875    NEW   \n",
       "\n",
       "   is_confirmed  votes severity keywords priority              creator  \\\n",
       "0          True     13   normal       []       P3  erik@vanderpoel.org   \n",
       "\n",
       "          type                                summary_tokens_list  \\\n",
       "0  enhancement  [Proxy, :, map, HTTP, 500, errors, to, necko, ...   \n",
       "\n",
       "                                cleaned_word_list  \n",
       "0  [map, 500, errors, necko, errors, would, work]  "
      ]
     },
     "execution_count": 84,
     "metadata": {},
     "output_type": "execute_result"
    }
   ],
   "source": [
    "df.head(1)"
   ]
  },
  {
   "cell_type": "code",
   "execution_count": null,
   "metadata": {},
   "outputs": [],
   "source": []
  },
  {
   "cell_type": "code",
   "execution_count": null,
   "metadata": {},
   "outputs": [],
   "source": []
  },
  {
   "cell_type": "code",
   "execution_count": null,
   "metadata": {},
   "outputs": [],
   "source": []
  },
  {
   "cell_type": "code",
   "execution_count": null,
   "metadata": {},
   "outputs": [],
   "source": []
  },
  {
   "cell_type": "markdown",
   "metadata": {},
   "source": [
    "### cleaning"
   ]
  },
  {
   "cell_type": "code",
   "execution_count": 154,
   "metadata": {},
   "outputs": [
    {
     "name": "stderr",
     "output_type": "stream",
     "text": [
      "c:\\Users\\mitra\\anaconda3\\lib\\site-packages\\numpy\\core\\_asarray.py:102: VisibleDeprecationWarning:\n",
      "\n",
      "Creating an ndarray from ragged nested sequences (which is a list-or-tuple of lists-or-tuples-or ndarrays with different lengths or shapes) is deprecated. If you meant to do this, you must specify 'dtype=object' when creating the ndarray.\n",
      "\n",
      "c:\\Users\\mitra\\anaconda3\\lib\\site-packages\\pandas\\core\\indexing.py:1773: SettingWithCopyWarning:\n",
      "\n",
      "\n",
      "A value is trying to be set on a copy of a slice from a DataFrame.\n",
      "Try using .loc[row_indexer,col_indexer] = value instead\n",
      "\n",
      "See the caveats in the documentation: https://pandas.pydata.org/pandas-docs/stable/user_guide/indexing.html#returning-a-view-versus-a-copy\n",
      "\n"
     ]
    }
   ],
   "source": [
    "def remove_stopwords(list_of_words):\n",
    "    filtered_list = [w for w in list_of_words if not w.lower() in stop_words]\n",
    "    return filtered_list\n",
    "\n",
    "def check_punct(list_of_words):\n",
    "    \"\"\"\n",
    "    look at the tokenized text. if the token was matched with ( or was only)\n",
    "    a puncutation, it is redundant and we remove it.\n",
    "    \"\"\"\n",
    "    filtered_list = []\n",
    "    for word in list_of_words:\n",
    "        if re.match(\"[()!><.,`?':\\-\\[\\]_@]\", word):\n",
    "            pass\n",
    "        else: filtered_list.append(word)\n",
    "        \n",
    "    return filtered_list\n",
    "\n",
    "def remove_numbers(list_of_words):\n",
    "\n",
    "    filtered_list = []\n",
    "    for word in list_of_words:\n",
    "        if re.findall(\"[0-9]\", word):\n",
    "            pass\n",
    "        else: filtered_list.append(word)\n",
    "        \n",
    "    return filtered_list\n",
    "\n",
    "\n",
    "def clean(df, input_col='summary_tokens_list', output_col=\"cleaned_word_list\"):\n",
    "    \n",
    "    \"\"\"\n",
    "    takes a column of textual data \n",
    "    outputs a df with cleaned text attached\n",
    "    \"\"\"\n",
    "    text_series = df.loc[:, input_col]\n",
    "    cleaned_text_series = []\n",
    "    \n",
    "    for text in text_series: \n",
    "        # go through every record of this dataset\n",
    "        # then append the cleaned text to a new list\n",
    "        text = [t.lower() for t in text]\n",
    "        cleaned_text = remove_numbers(text)\n",
    "        cleaned_text = remove_stopwords(cleaned_text)\n",
    "        cleaned_text = check_punct(cleaned_text)\n",
    "        cleaned_text_series.append(cleaned_text)\n",
    "        \n",
    "    df.loc[:, output_col] = cleaned_text_series\n",
    "    \n",
    "    return df\n",
    "\n",
    "df = clean(df)"
   ]
  },
  {
   "cell_type": "code",
   "execution_count": 155,
   "metadata": {},
   "outputs": [
    {
     "data": {
      "text/html": [
       "<div>\n",
       "<style scoped>\n",
       "    .dataframe tbody tr th:only-of-type {\n",
       "        vertical-align: middle;\n",
       "    }\n",
       "\n",
       "    .dataframe tbody tr th {\n",
       "        vertical-align: top;\n",
       "    }\n",
       "\n",
       "    .dataframe thead th {\n",
       "        text-align: right;\n",
       "    }\n",
       "</style>\n",
       "<table border=\"1\" class=\"dataframe\">\n",
       "  <thead>\n",
       "    <tr style=\"text-align: right;\">\n",
       "      <th></th>\n",
       "      <th>classification</th>\n",
       "      <th>component</th>\n",
       "      <th>platform</th>\n",
       "      <th>assigned_to</th>\n",
       "      <th>summary</th>\n",
       "      <th>id</th>\n",
       "      <th>status</th>\n",
       "      <th>is_confirmed</th>\n",
       "      <th>votes</th>\n",
       "      <th>severity</th>\n",
       "      <th>keywords</th>\n",
       "      <th>priority</th>\n",
       "      <th>creator</th>\n",
       "      <th>type</th>\n",
       "      <th>summary_tokens_list</th>\n",
       "      <th>cleaned_word_list</th>\n",
       "      <th>cleaned_text</th>\n",
       "    </tr>\n",
       "  </thead>\n",
       "  <tbody>\n",
       "    <tr>\n",
       "      <th>0</th>\n",
       "      <td>Components</td>\n",
       "      <td>Networking: HTTP</td>\n",
       "      <td>All</td>\n",
       "      <td>nobody@mozilla.org</td>\n",
       "      <td>Proxy: map HTTP 500 errors to necko errors (so...</td>\n",
       "      <td>2875</td>\n",
       "      <td>NEW</td>\n",
       "      <td>True</td>\n",
       "      <td>13</td>\n",
       "      <td>normal</td>\n",
       "      <td>[]</td>\n",
       "      <td>P3</td>\n",
       "      <td>erik@vanderpoel.org</td>\n",
       "      <td>enhancement</td>\n",
       "      <td>[Proxy, :, map, HTTP, 500, errors, to, necko, ...</td>\n",
       "      <td>[proxy, map, http, errors, necko, errors, inte...</td>\n",
       "      <td>proxy map http errors necko errors internet ke...</td>\n",
       "    </tr>\n",
       "  </tbody>\n",
       "</table>\n",
       "</div>"
      ],
      "text/plain": [
       "  classification         component platform         assigned_to  \\\n",
       "0     Components  Networking: HTTP      All  nobody@mozilla.org   \n",
       "\n",
       "                                             summary    id status  \\\n",
       "0  Proxy: map HTTP 500 errors to necko errors (so...  2875    NEW   \n",
       "\n",
       "   is_confirmed  votes severity keywords priority              creator  \\\n",
       "0          True     13   normal       []       P3  erik@vanderpoel.org   \n",
       "\n",
       "          type                                summary_tokens_list  \\\n",
       "0  enhancement  [Proxy, :, map, HTTP, 500, errors, to, necko, ...   \n",
       "\n",
       "                                   cleaned_word_list  \\\n",
       "0  [proxy, map, http, errors, necko, errors, inte...   \n",
       "\n",
       "                                        cleaned_text  \n",
       "0  proxy map http errors necko errors internet ke...  "
      ]
     },
     "execution_count": 155,
     "metadata": {},
     "output_type": "execute_result"
    }
   ],
   "source": [
    "df.head(1)"
   ]
  },
  {
   "cell_type": "markdown",
   "metadata": {},
   "source": [
    "#### Analysis"
   ]
  },
  {
   "cell_type": "code",
   "execution_count": 156,
   "metadata": {},
   "outputs": [],
   "source": [
    "def count_words(tokens_arrays):\n",
    "    \"\"\"\n",
    "    gets a dictionary and counts the values\n",
    "    output: a sorted dict\n",
    "    note: you can also use a bag of words package to do this\n",
    "    \"\"\"\n",
    "    count_dict = {}\n",
    "    for array_ in tokens_arrays:\n",
    "        for word in array_:\n",
    "            try: count_dict[word] +=1\n",
    "            except: count_dict[word] = 1\n",
    "\n",
    "    # sort \n",
    "    sorted_count_dict = {k:v for k,v in sorted(count_dict.items(), key=lambda item: item[1], reverse=True)}\n",
    "    \n",
    "    return sorted_count_dict \n"
   ]
  },
  {
   "cell_type": "code",
   "execution_count": 157,
   "metadata": {},
   "outputs": [],
   "source": [
    "def get_n_key_and_value(n, dict_):\n",
    "\n",
    "    \"\"\"\n",
    "    get the first - most frequent and important -\n",
    "    words of dictionary \n",
    "    \"\"\"\n",
    "    keys = [k for (k, v) in dict_.items()][:n]\n",
    "    values = [v for (k, v) in dict_.items()][:n]\n",
    "\n",
    "    return keys, values"
   ]
  },
  {
   "cell_type": "code",
   "execution_count": 158,
   "metadata": {},
   "outputs": [],
   "source": [
    "def convert_tokens_list_to_freq_df(tokens_arrays, n=-1):\n",
    "    \"\"\"\n",
    "    gets the array of tokenized sentences\n",
    "    output: a sorted data frame with two cols\n",
    "    the words and their frequency\n",
    "    \"\"\"\n",
    "\n",
    "    dict_ = count_words(tokens_arrays)\n",
    "    keys, values = get_n_key_and_value(n, dict_)\n",
    "\n",
    "    df = pd.DataFrame({'words': keys, 'freq': values})\n",
    "\n",
    "    return df\n",
    "\n",
    "    \n",
    "df_freq_words = convert_tokens_list_to_freq_df(df.cleaned_word_list, n=-1)"
   ]
  },
  {
   "cell_type": "code",
   "execution_count": null,
   "metadata": {},
   "outputs": [],
   "source": []
  },
  {
   "cell_type": "code",
   "execution_count": 159,
   "metadata": {},
   "outputs": [
    {
     "data": {
      "text/html": [
       "<div>\n",
       "<style scoped>\n",
       "    .dataframe tbody tr th:only-of-type {\n",
       "        vertical-align: middle;\n",
       "    }\n",
       "\n",
       "    .dataframe tbody tr th {\n",
       "        vertical-align: top;\n",
       "    }\n",
       "\n",
       "    .dataframe thead th {\n",
       "        text-align: right;\n",
       "    }\n",
       "</style>\n",
       "<table border=\"1\" class=\"dataframe\">\n",
       "  <thead>\n",
       "    <tr style=\"text-align: right;\">\n",
       "      <th></th>\n",
       "      <th>words</th>\n",
       "      <th>freq</th>\n",
       "    </tr>\n",
       "  </thead>\n",
       "  <tbody>\n",
       "    <tr>\n",
       "      <th>0</th>\n",
       "      <td>meta</td>\n",
       "      <td>949</td>\n",
       "    </tr>\n",
       "    <tr>\n",
       "      <th>1</th>\n",
       "      <td>add</td>\n",
       "      <td>336</td>\n",
       "    </tr>\n",
       "    <tr>\n",
       "      <th>2</th>\n",
       "      <td>implement</td>\n",
       "      <td>313</td>\n",
       "    </tr>\n",
       "    <tr>\n",
       "      <th>3</th>\n",
       "      <td>support</td>\n",
       "      <td>275</td>\n",
       "    </tr>\n",
       "    <tr>\n",
       "      <th>4</th>\n",
       "      <td>use</td>\n",
       "      <td>181</td>\n",
       "    </tr>\n",
       "    <tr>\n",
       "      <th>...</th>\n",
       "      <td>...</td>\n",
       "      <td>...</td>\n",
       "    </tr>\n",
       "    <tr>\n",
       "      <th>6114</th>\n",
       "      <td>blocksringbuffergeckoextensions.s</td>\n",
       "      <td>1</td>\n",
       "    </tr>\n",
       "    <tr>\n",
       "      <th>6115</th>\n",
       "      <td>non-mozglue</td>\n",
       "      <td>1</td>\n",
       "    </tr>\n",
       "    <tr>\n",
       "      <th>6116</th>\n",
       "      <td>serializations</td>\n",
       "      <td>1</td>\n",
       "    </tr>\n",
       "    <tr>\n",
       "      <th>6117</th>\n",
       "      <td>plawless</td>\n",
       "      <td>1</td>\n",
       "    </tr>\n",
       "    <tr>\n",
       "      <th>6118</th>\n",
       "      <td>mozilla.com</td>\n",
       "      <td>1</td>\n",
       "    </tr>\n",
       "  </tbody>\n",
       "</table>\n",
       "<p>6119 rows × 2 columns</p>\n",
       "</div>"
      ],
      "text/plain": [
       "                                  words  freq\n",
       "0                                  meta   949\n",
       "1                                   add   336\n",
       "2                             implement   313\n",
       "3                               support   275\n",
       "4                                   use   181\n",
       "...                                 ...   ...\n",
       "6114  blocksringbuffergeckoextensions.s     1\n",
       "6115                        non-mozglue     1\n",
       "6116                     serializations     1\n",
       "6117                           plawless     1\n",
       "6118                        mozilla.com     1\n",
       "\n",
       "[6119 rows x 2 columns]"
      ]
     },
     "execution_count": 159,
     "metadata": {},
     "output_type": "execute_result"
    }
   ],
   "source": [
    "df_freq_words"
   ]
  },
  {
   "cell_type": "code",
   "execution_count": 160,
   "metadata": {},
   "outputs": [
    {
     "name": "stderr",
     "output_type": "stream",
     "text": [
      "c:\\Users\\mitra\\anaconda3\\lib\\site-packages\\pandas\\core\\indexing.py:1773: SettingWithCopyWarning:\n",
      "\n",
      "\n",
      "A value is trying to be set on a copy of a slice from a DataFrame.\n",
      "Try using .loc[row_indexer,col_indexer] = value instead\n",
      "\n",
      "See the caveats in the documentation: https://pandas.pydata.org/pandas-docs/stable/user_guide/indexing.html#returning-a-view-versus-a-copy\n",
      "\n"
     ]
    }
   ],
   "source": [
    "# we join the cleaned tokens to feed the tfidf algorithm\n",
    "\n",
    "def join_tokens(df, tokens_arrays_col):\n",
    "    return [\" \".join(df.loc[i, tokens_arrays_col]) for i in range(len(df))]\n",
    "\n",
    "cleaned_tokens_series = join_tokens(df, 'cleaned_word_list')\n",
    "df.loc[:, 'cleaned_text'] = cleaned_tokens_series"
   ]
  },
  {
   "cell_type": "code",
   "execution_count": 190,
   "metadata": {},
   "outputs": [],
   "source": [
    "def get_tfidf_words_and_array(text_arrays):\n",
    "\n",
    "    vectorizer = TfidfVectorizer()\n",
    "    transformed_data = vectorizer.fit_transform(text_arrays).toarray()\n",
    "    words = vectorizer.get_feature_names_out()\n",
    "    \n",
    "    return transformed_data, words"
   ]
  },
  {
   "cell_type": "code",
   "execution_count": 162,
   "metadata": {},
   "outputs": [],
   "source": [
    "def create_tfidf_df(text_arrays):\n",
    "    \"\"\"\n",
    "    gets the df, converts it into tfidf arrays and words\n",
    "    then puts them in a dataset\n",
    "    \"\"\"\n",
    "\n",
    "    transformed_data, words = get_tfidf_words_and_array(text_arrays)\n",
    "\n",
    "    df = pd.DataFrame(data=transformed_data, columns=words).sum().reset_index()\n",
    "\n",
    "    col_names = ['words', 'tfidf_score_sum']\n",
    "    default_col_names = df.columns\n",
    "\n",
    "    # rename whatever the df cols are called to the col_names\n",
    "    df.rename(columns={default_col_names[i]:col_names[i] for i in range(len(col_names))}, inplace=True)\n",
    "\n",
    "    return df\n",
    "\n",
    "    \n",
    "tfidf_scores = create_tfidf_df(df.loc[:, 'cleaned_text'])"
   ]
  },
  {
   "cell_type": "code",
   "execution_count": 163,
   "metadata": {},
   "outputs": [
    {
     "data": {
      "text/html": [
       "<div>\n",
       "<style scoped>\n",
       "    .dataframe tbody tr th:only-of-type {\n",
       "        vertical-align: middle;\n",
       "    }\n",
       "\n",
       "    .dataframe tbody tr th {\n",
       "        vertical-align: top;\n",
       "    }\n",
       "\n",
       "    .dataframe thead th {\n",
       "        text-align: right;\n",
       "    }\n",
       "</style>\n",
       "<table border=\"1\" class=\"dataframe\">\n",
       "  <thead>\n",
       "    <tr style=\"text-align: right;\">\n",
       "      <th></th>\n",
       "      <th>words</th>\n",
       "      <th>tfidf_score_sum</th>\n",
       "    </tr>\n",
       "  </thead>\n",
       "  <tbody>\n",
       "    <tr>\n",
       "      <th>0</th>\n",
       "      <td>_blank</td>\n",
       "      <td>0.665009</td>\n",
       "    </tr>\n",
       "    <tr>\n",
       "      <th>1</th>\n",
       "      <td>ab</td>\n",
       "      <td>0.870475</td>\n",
       "    </tr>\n",
       "    <tr>\n",
       "      <th>2</th>\n",
       "      <td>abilities</td>\n",
       "      <td>0.843251</td>\n",
       "    </tr>\n",
       "    <tr>\n",
       "      <th>3</th>\n",
       "      <td>ability</td>\n",
       "      <td>12.029802</td>\n",
       "    </tr>\n",
       "    <tr>\n",
       "      <th>4</th>\n",
       "      <td>able</td>\n",
       "      <td>4.667677</td>\n",
       "    </tr>\n",
       "    <tr>\n",
       "      <th>5</th>\n",
       "      <td>aborted</td>\n",
       "      <td>0.488773</td>\n",
       "    </tr>\n",
       "    <tr>\n",
       "      <th>6</th>\n",
       "      <td>aboutdebugging</td>\n",
       "      <td>2.138003</td>\n",
       "    </tr>\n",
       "    <tr>\n",
       "      <th>7</th>\n",
       "      <td>absolute</td>\n",
       "      <td>0.717600</td>\n",
       "    </tr>\n",
       "    <tr>\n",
       "      <th>8</th>\n",
       "      <td>abstraction</td>\n",
       "      <td>0.460598</td>\n",
       "    </tr>\n",
       "    <tr>\n",
       "      <th>9</th>\n",
       "      <td>abstractthread</td>\n",
       "      <td>0.764969</td>\n",
       "    </tr>\n",
       "  </tbody>\n",
       "</table>\n",
       "</div>"
      ],
      "text/plain": [
       "            words  tfidf_score_sum\n",
       "0          _blank         0.665009\n",
       "1              ab         0.870475\n",
       "2       abilities         0.843251\n",
       "3         ability        12.029802\n",
       "4            able         4.667677\n",
       "5         aborted         0.488773\n",
       "6  aboutdebugging         2.138003\n",
       "7        absolute         0.717600\n",
       "8     abstraction         0.460598\n",
       "9  abstractthread         0.764969"
      ]
     },
     "execution_count": 163,
     "metadata": {},
     "output_type": "execute_result"
    }
   ],
   "source": [
    "tfidf_scores.head(10)"
   ]
  },
  {
   "cell_type": "code",
   "execution_count": 164,
   "metadata": {},
   "outputs": [],
   "source": [
    "def merge(df_1, df_2, on='words'):\n",
    "    return pd.merge(left=df_1, right=df_2, on=on, how='left')\n",
    "words_df = merge(df_freq_words, tfidf_scores)"
   ]
  },
  {
   "cell_type": "code",
   "execution_count": 165,
   "metadata": {},
   "outputs": [
    {
     "data": {
      "text/html": [
       "<div>\n",
       "<style scoped>\n",
       "    .dataframe tbody tr th:only-of-type {\n",
       "        vertical-align: middle;\n",
       "    }\n",
       "\n",
       "    .dataframe tbody tr th {\n",
       "        vertical-align: top;\n",
       "    }\n",
       "\n",
       "    .dataframe thead th {\n",
       "        text-align: right;\n",
       "    }\n",
       "</style>\n",
       "<table border=\"1\" class=\"dataframe\">\n",
       "  <thead>\n",
       "    <tr style=\"text-align: right;\">\n",
       "      <th></th>\n",
       "      <th>words</th>\n",
       "      <th>freq</th>\n",
       "      <th>tfidf_score_sum</th>\n",
       "    </tr>\n",
       "  </thead>\n",
       "  <tbody>\n",
       "    <tr>\n",
       "      <th>0</th>\n",
       "      <td>meta</td>\n",
       "      <td>949</td>\n",
       "      <td>179.486205</td>\n",
       "    </tr>\n",
       "    <tr>\n",
       "      <th>1</th>\n",
       "      <td>add</td>\n",
       "      <td>336</td>\n",
       "      <td>77.073370</td>\n",
       "    </tr>\n",
       "    <tr>\n",
       "      <th>2</th>\n",
       "      <td>implement</td>\n",
       "      <td>313</td>\n",
       "      <td>78.972014</td>\n",
       "    </tr>\n",
       "    <tr>\n",
       "      <th>3</th>\n",
       "      <td>support</td>\n",
       "      <td>275</td>\n",
       "      <td>70.306971</td>\n",
       "    </tr>\n",
       "    <tr>\n",
       "      <th>4</th>\n",
       "      <td>use</td>\n",
       "      <td>181</td>\n",
       "      <td>43.255404</td>\n",
       "    </tr>\n",
       "    <tr>\n",
       "      <th>...</th>\n",
       "      <td>...</td>\n",
       "      <td>...</td>\n",
       "      <td>...</td>\n",
       "    </tr>\n",
       "    <tr>\n",
       "      <th>6114</th>\n",
       "      <td>blocksringbuffergeckoextensions.s</td>\n",
       "      <td>1</td>\n",
       "      <td>NaN</td>\n",
       "    </tr>\n",
       "    <tr>\n",
       "      <th>6115</th>\n",
       "      <td>non-mozglue</td>\n",
       "      <td>1</td>\n",
       "      <td>NaN</td>\n",
       "    </tr>\n",
       "    <tr>\n",
       "      <th>6116</th>\n",
       "      <td>serializations</td>\n",
       "      <td>1</td>\n",
       "      <td>0.491496</td>\n",
       "    </tr>\n",
       "    <tr>\n",
       "      <th>6117</th>\n",
       "      <td>plawless</td>\n",
       "      <td>1</td>\n",
       "      <td>0.457271</td>\n",
       "    </tr>\n",
       "    <tr>\n",
       "      <th>6118</th>\n",
       "      <td>mozilla.com</td>\n",
       "      <td>1</td>\n",
       "      <td>NaN</td>\n",
       "    </tr>\n",
       "  </tbody>\n",
       "</table>\n",
       "<p>6119 rows × 3 columns</p>\n",
       "</div>"
      ],
      "text/plain": [
       "                                  words  freq  tfidf_score_sum\n",
       "0                                  meta   949       179.486205\n",
       "1                                   add   336        77.073370\n",
       "2                             implement   313        78.972014\n",
       "3                               support   275        70.306971\n",
       "4                                   use   181        43.255404\n",
       "...                                 ...   ...              ...\n",
       "6114  blocksringbuffergeckoextensions.s     1              NaN\n",
       "6115                        non-mozglue     1              NaN\n",
       "6116                     serializations     1         0.491496\n",
       "6117                           plawless     1         0.457271\n",
       "6118                        mozilla.com     1              NaN\n",
       "\n",
       "[6119 rows x 3 columns]"
      ]
     },
     "execution_count": 165,
     "metadata": {},
     "output_type": "execute_result"
    }
   ],
   "source": [
    "words_df\n"
   ]
  },
  {
   "cell_type": "markdown",
   "metadata": {},
   "source": [
    "Why do both TFIDF and Frequency matter?\n",
    "\n",
    "\n",
    "TFIDF score shows how much information a words brings. The more common, the smaller the score will be and the more probable it is for a words to be a normal basic word which doesn't help in classification."
   ]
  },
  {
   "cell_type": "code",
   "execution_count": 166,
   "metadata": {},
   "outputs": [
    {
     "data": {
      "application/vnd.plotly.v1+json": {
       "config": {
        "plotlyServerURL": "https://plot.ly"
       },
       "data": [
        {
         "alignmentgroup": "True",
         "hovertemplate": "words=%{x}<br>freq=%{marker.color}<br>tfidf_score_sum=%{text}<extra></extra>",
         "legendgroup": "",
         "marker": {
          "color": [
           949,
           336,
           313,
           275,
           181,
           178,
           143,
           137,
           123,
           121,
           121,
           120,
           117,
           106,
           104,
           100,
           95,
           94,
           94,
           93,
           89,
           86,
           85,
           80,
           77,
           71,
           69,
           69,
           68,
           67
          ],
          "coloraxis": "coloraxis",
          "pattern": {
           "shape": ""
          }
         },
         "name": "",
         "offsetgroup": "",
         "orientation": "v",
         "showlegend": false,
         "text": [
          179.48620524413607,
          77.0733695080903,
          78.97201360319461,
          70.30697088867504,
          43.25540420416486,
          50.829237595742455,
          37.28834323033148,
          37.85175077856719,
          38.58106749385587,
          44.28210636110164,
          37.350530456295054,
          35.90498871688567,
          37.73921792591977,
          38.591081541581154,
          32.48317586940394,
          39.872133650685434,
          31.068004109748454,
          40.45011015259615,
          30.915026747265312,
          25.089994560293466,
          26.0318649322748,
          28.50397051317553,
          27.43841734362873,
          25.568315147718963,
          23.527247038216576,
          26.086629478894626,
          19.643451218982417,
          27.79318013469296,
          23.063235911250256,
          23.579186353671457
         ],
         "textfont": {
          "size": 8
         },
         "textposition": "outside",
         "texttemplate": "%{text:.2f}",
         "type": "bar",
         "x": [
          "meta",
          "add",
          "implement",
          "support",
          "use",
          "remove",
          "make",
          "new",
          "api",
          "history",
          "firefox",
          "content",
          "tests",
          "css",
          "process",
          "room",
          "bug",
          "enable",
          "test",
          "allow",
          "code",
          "tracking",
          "windows",
          "improve",
          "search",
          "web",
          "using",
          "page",
          "ui",
          "update"
         ],
         "xaxis": "x",
         "y": [
          949,
          336,
          313,
          275,
          181,
          178,
          143,
          137,
          123,
          121,
          121,
          120,
          117,
          106,
          104,
          100,
          95,
          94,
          94,
          93,
          89,
          86,
          85,
          80,
          77,
          71,
          69,
          69,
          68,
          67
         ],
         "yaxis": "y"
        }
       ],
       "layout": {
        "barmode": "relative",
        "coloraxis": {
         "colorbar": {
          "title": {
           "text": "freq"
          }
         },
         "colorscale": [
          [
           0,
           "#0d0887"
          ],
          [
           0.1111111111111111,
           "#46039f"
          ],
          [
           0.2222222222222222,
           "#7201a8"
          ],
          [
           0.3333333333333333,
           "#9c179e"
          ],
          [
           0.4444444444444444,
           "#bd3786"
          ],
          [
           0.5555555555555556,
           "#d8576b"
          ],
          [
           0.6666666666666666,
           "#ed7953"
          ],
          [
           0.7777777777777778,
           "#fb9f3a"
          ],
          [
           0.8888888888888888,
           "#fdca26"
          ],
          [
           1,
           "#f0f921"
          ]
         ]
        },
        "legend": {
         "tracegroupgap": 0
        },
        "template": {
         "data": {
          "bar": [
           {
            "error_x": {
             "color": "#2a3f5f"
            },
            "error_y": {
             "color": "#2a3f5f"
            },
            "marker": {
             "line": {
              "color": "#E5ECF6",
              "width": 0.5
             },
             "pattern": {
              "fillmode": "overlay",
              "size": 10,
              "solidity": 0.2
             }
            },
            "type": "bar"
           }
          ],
          "barpolar": [
           {
            "marker": {
             "line": {
              "color": "#E5ECF6",
              "width": 0.5
             },
             "pattern": {
              "fillmode": "overlay",
              "size": 10,
              "solidity": 0.2
             }
            },
            "type": "barpolar"
           }
          ],
          "carpet": [
           {
            "aaxis": {
             "endlinecolor": "#2a3f5f",
             "gridcolor": "white",
             "linecolor": "white",
             "minorgridcolor": "white",
             "startlinecolor": "#2a3f5f"
            },
            "baxis": {
             "endlinecolor": "#2a3f5f",
             "gridcolor": "white",
             "linecolor": "white",
             "minorgridcolor": "white",
             "startlinecolor": "#2a3f5f"
            },
            "type": "carpet"
           }
          ],
          "choropleth": [
           {
            "colorbar": {
             "outlinewidth": 0,
             "ticks": ""
            },
            "type": "choropleth"
           }
          ],
          "contour": [
           {
            "colorbar": {
             "outlinewidth": 0,
             "ticks": ""
            },
            "colorscale": [
             [
              0,
              "#0d0887"
             ],
             [
              0.1111111111111111,
              "#46039f"
             ],
             [
              0.2222222222222222,
              "#7201a8"
             ],
             [
              0.3333333333333333,
              "#9c179e"
             ],
             [
              0.4444444444444444,
              "#bd3786"
             ],
             [
              0.5555555555555556,
              "#d8576b"
             ],
             [
              0.6666666666666666,
              "#ed7953"
             ],
             [
              0.7777777777777778,
              "#fb9f3a"
             ],
             [
              0.8888888888888888,
              "#fdca26"
             ],
             [
              1,
              "#f0f921"
             ]
            ],
            "type": "contour"
           }
          ],
          "contourcarpet": [
           {
            "colorbar": {
             "outlinewidth": 0,
             "ticks": ""
            },
            "type": "contourcarpet"
           }
          ],
          "heatmap": [
           {
            "colorbar": {
             "outlinewidth": 0,
             "ticks": ""
            },
            "colorscale": [
             [
              0,
              "#0d0887"
             ],
             [
              0.1111111111111111,
              "#46039f"
             ],
             [
              0.2222222222222222,
              "#7201a8"
             ],
             [
              0.3333333333333333,
              "#9c179e"
             ],
             [
              0.4444444444444444,
              "#bd3786"
             ],
             [
              0.5555555555555556,
              "#d8576b"
             ],
             [
              0.6666666666666666,
              "#ed7953"
             ],
             [
              0.7777777777777778,
              "#fb9f3a"
             ],
             [
              0.8888888888888888,
              "#fdca26"
             ],
             [
              1,
              "#f0f921"
             ]
            ],
            "type": "heatmap"
           }
          ],
          "heatmapgl": [
           {
            "colorbar": {
             "outlinewidth": 0,
             "ticks": ""
            },
            "colorscale": [
             [
              0,
              "#0d0887"
             ],
             [
              0.1111111111111111,
              "#46039f"
             ],
             [
              0.2222222222222222,
              "#7201a8"
             ],
             [
              0.3333333333333333,
              "#9c179e"
             ],
             [
              0.4444444444444444,
              "#bd3786"
             ],
             [
              0.5555555555555556,
              "#d8576b"
             ],
             [
              0.6666666666666666,
              "#ed7953"
             ],
             [
              0.7777777777777778,
              "#fb9f3a"
             ],
             [
              0.8888888888888888,
              "#fdca26"
             ],
             [
              1,
              "#f0f921"
             ]
            ],
            "type": "heatmapgl"
           }
          ],
          "histogram": [
           {
            "marker": {
             "pattern": {
              "fillmode": "overlay",
              "size": 10,
              "solidity": 0.2
             }
            },
            "type": "histogram"
           }
          ],
          "histogram2d": [
           {
            "colorbar": {
             "outlinewidth": 0,
             "ticks": ""
            },
            "colorscale": [
             [
              0,
              "#0d0887"
             ],
             [
              0.1111111111111111,
              "#46039f"
             ],
             [
              0.2222222222222222,
              "#7201a8"
             ],
             [
              0.3333333333333333,
              "#9c179e"
             ],
             [
              0.4444444444444444,
              "#bd3786"
             ],
             [
              0.5555555555555556,
              "#d8576b"
             ],
             [
              0.6666666666666666,
              "#ed7953"
             ],
             [
              0.7777777777777778,
              "#fb9f3a"
             ],
             [
              0.8888888888888888,
              "#fdca26"
             ],
             [
              1,
              "#f0f921"
             ]
            ],
            "type": "histogram2d"
           }
          ],
          "histogram2dcontour": [
           {
            "colorbar": {
             "outlinewidth": 0,
             "ticks": ""
            },
            "colorscale": [
             [
              0,
              "#0d0887"
             ],
             [
              0.1111111111111111,
              "#46039f"
             ],
             [
              0.2222222222222222,
              "#7201a8"
             ],
             [
              0.3333333333333333,
              "#9c179e"
             ],
             [
              0.4444444444444444,
              "#bd3786"
             ],
             [
              0.5555555555555556,
              "#d8576b"
             ],
             [
              0.6666666666666666,
              "#ed7953"
             ],
             [
              0.7777777777777778,
              "#fb9f3a"
             ],
             [
              0.8888888888888888,
              "#fdca26"
             ],
             [
              1,
              "#f0f921"
             ]
            ],
            "type": "histogram2dcontour"
           }
          ],
          "mesh3d": [
           {
            "colorbar": {
             "outlinewidth": 0,
             "ticks": ""
            },
            "type": "mesh3d"
           }
          ],
          "parcoords": [
           {
            "line": {
             "colorbar": {
              "outlinewidth": 0,
              "ticks": ""
             }
            },
            "type": "parcoords"
           }
          ],
          "pie": [
           {
            "automargin": true,
            "type": "pie"
           }
          ],
          "scatter": [
           {
            "fillpattern": {
             "fillmode": "overlay",
             "size": 10,
             "solidity": 0.2
            },
            "type": "scatter"
           }
          ],
          "scatter3d": [
           {
            "line": {
             "colorbar": {
              "outlinewidth": 0,
              "ticks": ""
             }
            },
            "marker": {
             "colorbar": {
              "outlinewidth": 0,
              "ticks": ""
             }
            },
            "type": "scatter3d"
           }
          ],
          "scattercarpet": [
           {
            "marker": {
             "colorbar": {
              "outlinewidth": 0,
              "ticks": ""
             }
            },
            "type": "scattercarpet"
           }
          ],
          "scattergeo": [
           {
            "marker": {
             "colorbar": {
              "outlinewidth": 0,
              "ticks": ""
             }
            },
            "type": "scattergeo"
           }
          ],
          "scattergl": [
           {
            "marker": {
             "colorbar": {
              "outlinewidth": 0,
              "ticks": ""
             }
            },
            "type": "scattergl"
           }
          ],
          "scattermapbox": [
           {
            "marker": {
             "colorbar": {
              "outlinewidth": 0,
              "ticks": ""
             }
            },
            "type": "scattermapbox"
           }
          ],
          "scatterpolar": [
           {
            "marker": {
             "colorbar": {
              "outlinewidth": 0,
              "ticks": ""
             }
            },
            "type": "scatterpolar"
           }
          ],
          "scatterpolargl": [
           {
            "marker": {
             "colorbar": {
              "outlinewidth": 0,
              "ticks": ""
             }
            },
            "type": "scatterpolargl"
           }
          ],
          "scatterternary": [
           {
            "marker": {
             "colorbar": {
              "outlinewidth": 0,
              "ticks": ""
             }
            },
            "type": "scatterternary"
           }
          ],
          "surface": [
           {
            "colorbar": {
             "outlinewidth": 0,
             "ticks": ""
            },
            "colorscale": [
             [
              0,
              "#0d0887"
             ],
             [
              0.1111111111111111,
              "#46039f"
             ],
             [
              0.2222222222222222,
              "#7201a8"
             ],
             [
              0.3333333333333333,
              "#9c179e"
             ],
             [
              0.4444444444444444,
              "#bd3786"
             ],
             [
              0.5555555555555556,
              "#d8576b"
             ],
             [
              0.6666666666666666,
              "#ed7953"
             ],
             [
              0.7777777777777778,
              "#fb9f3a"
             ],
             [
              0.8888888888888888,
              "#fdca26"
             ],
             [
              1,
              "#f0f921"
             ]
            ],
            "type": "surface"
           }
          ],
          "table": [
           {
            "cells": {
             "fill": {
              "color": "#EBF0F8"
             },
             "line": {
              "color": "white"
             }
            },
            "header": {
             "fill": {
              "color": "#C8D4E3"
             },
             "line": {
              "color": "white"
             }
            },
            "type": "table"
           }
          ]
         },
         "layout": {
          "annotationdefaults": {
           "arrowcolor": "#2a3f5f",
           "arrowhead": 0,
           "arrowwidth": 1
          },
          "autotypenumbers": "strict",
          "coloraxis": {
           "colorbar": {
            "outlinewidth": 0,
            "ticks": ""
           }
          },
          "colorscale": {
           "diverging": [
            [
             0,
             "#8e0152"
            ],
            [
             0.1,
             "#c51b7d"
            ],
            [
             0.2,
             "#de77ae"
            ],
            [
             0.3,
             "#f1b6da"
            ],
            [
             0.4,
             "#fde0ef"
            ],
            [
             0.5,
             "#f7f7f7"
            ],
            [
             0.6,
             "#e6f5d0"
            ],
            [
             0.7,
             "#b8e186"
            ],
            [
             0.8,
             "#7fbc41"
            ],
            [
             0.9,
             "#4d9221"
            ],
            [
             1,
             "#276419"
            ]
           ],
           "sequential": [
            [
             0,
             "#0d0887"
            ],
            [
             0.1111111111111111,
             "#46039f"
            ],
            [
             0.2222222222222222,
             "#7201a8"
            ],
            [
             0.3333333333333333,
             "#9c179e"
            ],
            [
             0.4444444444444444,
             "#bd3786"
            ],
            [
             0.5555555555555556,
             "#d8576b"
            ],
            [
             0.6666666666666666,
             "#ed7953"
            ],
            [
             0.7777777777777778,
             "#fb9f3a"
            ],
            [
             0.8888888888888888,
             "#fdca26"
            ],
            [
             1,
             "#f0f921"
            ]
           ],
           "sequentialminus": [
            [
             0,
             "#0d0887"
            ],
            [
             0.1111111111111111,
             "#46039f"
            ],
            [
             0.2222222222222222,
             "#7201a8"
            ],
            [
             0.3333333333333333,
             "#9c179e"
            ],
            [
             0.4444444444444444,
             "#bd3786"
            ],
            [
             0.5555555555555556,
             "#d8576b"
            ],
            [
             0.6666666666666666,
             "#ed7953"
            ],
            [
             0.7777777777777778,
             "#fb9f3a"
            ],
            [
             0.8888888888888888,
             "#fdca26"
            ],
            [
             1,
             "#f0f921"
            ]
           ]
          },
          "colorway": [
           "#636efa",
           "#EF553B",
           "#00cc96",
           "#ab63fa",
           "#FFA15A",
           "#19d3f3",
           "#FF6692",
           "#B6E880",
           "#FF97FF",
           "#FECB52"
          ],
          "font": {
           "color": "#2a3f5f"
          },
          "geo": {
           "bgcolor": "white",
           "lakecolor": "white",
           "landcolor": "#E5ECF6",
           "showlakes": true,
           "showland": true,
           "subunitcolor": "white"
          },
          "hoverlabel": {
           "align": "left"
          },
          "hovermode": "closest",
          "mapbox": {
           "style": "light"
          },
          "paper_bgcolor": "white",
          "plot_bgcolor": "#E5ECF6",
          "polar": {
           "angularaxis": {
            "gridcolor": "white",
            "linecolor": "white",
            "ticks": ""
           },
           "bgcolor": "#E5ECF6",
           "radialaxis": {
            "gridcolor": "white",
            "linecolor": "white",
            "ticks": ""
           }
          },
          "scene": {
           "xaxis": {
            "backgroundcolor": "#E5ECF6",
            "gridcolor": "white",
            "gridwidth": 2,
            "linecolor": "white",
            "showbackground": true,
            "ticks": "",
            "zerolinecolor": "white"
           },
           "yaxis": {
            "backgroundcolor": "#E5ECF6",
            "gridcolor": "white",
            "gridwidth": 2,
            "linecolor": "white",
            "showbackground": true,
            "ticks": "",
            "zerolinecolor": "white"
           },
           "zaxis": {
            "backgroundcolor": "#E5ECF6",
            "gridcolor": "white",
            "gridwidth": 2,
            "linecolor": "white",
            "showbackground": true,
            "ticks": "",
            "zerolinecolor": "white"
           }
          },
          "shapedefaults": {
           "line": {
            "color": "#2a3f5f"
           }
          },
          "ternary": {
           "aaxis": {
            "gridcolor": "white",
            "linecolor": "white",
            "ticks": ""
           },
           "baxis": {
            "gridcolor": "white",
            "linecolor": "white",
            "ticks": ""
           },
           "bgcolor": "#E5ECF6",
           "caxis": {
            "gridcolor": "white",
            "linecolor": "white",
            "ticks": ""
           }
          },
          "title": {
           "x": 0.05
          },
          "xaxis": {
           "automargin": true,
           "gridcolor": "white",
           "linecolor": "white",
           "ticks": "",
           "title": {
            "standoff": 15
           },
           "zerolinecolor": "white",
           "zerolinewidth": 2
          },
          "yaxis": {
           "automargin": true,
           "gridcolor": "white",
           "linecolor": "white",
           "ticks": "",
           "title": {
            "standoff": 15
           },
           "zerolinecolor": "white",
           "zerolinewidth": 2
          }
         }
        },
        "title": {
         "text": "Frequency of words seen in <b> Flagged </b>records (with TFIDF in parentheses)"
        },
        "xaxis": {
         "anchor": "y",
         "domain": [
          0,
          1
         ],
         "tickangle": -45,
         "title": {
          "text": "words"
         }
        },
        "yaxis": {
         "anchor": "x",
         "domain": [
          0,
          1
         ],
         "title": {
          "text": "freq"
         }
        }
       }
      },
      "text/html": [
       "<div>                            <div id=\"e7e08c1e-1319-4ae1-923c-5c366948f13c\" class=\"plotly-graph-div\" style=\"height:525px; width:100%;\"></div>            <script type=\"text/javascript\">                require([\"plotly\"], function(Plotly) {                    window.PLOTLYENV=window.PLOTLYENV || {};                                    if (document.getElementById(\"e7e08c1e-1319-4ae1-923c-5c366948f13c\")) {                    Plotly.newPlot(                        \"e7e08c1e-1319-4ae1-923c-5c366948f13c\",                        [{\"alignmentgroup\":\"True\",\"hovertemplate\":\"words=%{x}<br>freq=%{marker.color}<br>tfidf_score_sum=%{text}<extra></extra>\",\"legendgroup\":\"\",\"marker\":{\"color\":[949,336,313,275,181,178,143,137,123,121,121,120,117,106,104,100,95,94,94,93,89,86,85,80,77,71,69,69,68,67],\"coloraxis\":\"coloraxis\",\"pattern\":{\"shape\":\"\"}},\"name\":\"\",\"offsetgroup\":\"\",\"orientation\":\"v\",\"showlegend\":false,\"text\":[179.48620524413607,77.0733695080903,78.97201360319461,70.30697088867504,43.25540420416486,50.829237595742455,37.28834323033148,37.85175077856719,38.58106749385587,44.28210636110164,37.350530456295054,35.90498871688567,37.73921792591977,38.591081541581154,32.48317586940394,39.872133650685434,31.068004109748454,40.45011015259615,30.915026747265312,25.089994560293466,26.0318649322748,28.50397051317553,27.43841734362873,25.568315147718963,23.527247038216576,26.086629478894626,19.643451218982417,27.79318013469296,23.063235911250256,23.579186353671457],\"textposition\":\"outside\",\"x\":[\"meta\",\"add\",\"implement\",\"support\",\"use\",\"remove\",\"make\",\"new\",\"api\",\"history\",\"firefox\",\"content\",\"tests\",\"css\",\"process\",\"room\",\"bug\",\"enable\",\"test\",\"allow\",\"code\",\"tracking\",\"windows\",\"improve\",\"search\",\"web\",\"using\",\"page\",\"ui\",\"update\"],\"xaxis\":\"x\",\"y\":[949,336,313,275,181,178,143,137,123,121,121,120,117,106,104,100,95,94,94,93,89,86,85,80,77,71,69,69,68,67],\"yaxis\":\"y\",\"type\":\"bar\",\"textfont\":{\"size\":8},\"texttemplate\":\"%{text:.2f}\"}],                        {\"template\":{\"data\":{\"histogram2dcontour\":[{\"type\":\"histogram2dcontour\",\"colorbar\":{\"outlinewidth\":0,\"ticks\":\"\"},\"colorscale\":[[0.0,\"#0d0887\"],[0.1111111111111111,\"#46039f\"],[0.2222222222222222,\"#7201a8\"],[0.3333333333333333,\"#9c179e\"],[0.4444444444444444,\"#bd3786\"],[0.5555555555555556,\"#d8576b\"],[0.6666666666666666,\"#ed7953\"],[0.7777777777777778,\"#fb9f3a\"],[0.8888888888888888,\"#fdca26\"],[1.0,\"#f0f921\"]]}],\"choropleth\":[{\"type\":\"choropleth\",\"colorbar\":{\"outlinewidth\":0,\"ticks\":\"\"}}],\"histogram2d\":[{\"type\":\"histogram2d\",\"colorbar\":{\"outlinewidth\":0,\"ticks\":\"\"},\"colorscale\":[[0.0,\"#0d0887\"],[0.1111111111111111,\"#46039f\"],[0.2222222222222222,\"#7201a8\"],[0.3333333333333333,\"#9c179e\"],[0.4444444444444444,\"#bd3786\"],[0.5555555555555556,\"#d8576b\"],[0.6666666666666666,\"#ed7953\"],[0.7777777777777778,\"#fb9f3a\"],[0.8888888888888888,\"#fdca26\"],[1.0,\"#f0f921\"]]}],\"heatmap\":[{\"type\":\"heatmap\",\"colorbar\":{\"outlinewidth\":0,\"ticks\":\"\"},\"colorscale\":[[0.0,\"#0d0887\"],[0.1111111111111111,\"#46039f\"],[0.2222222222222222,\"#7201a8\"],[0.3333333333333333,\"#9c179e\"],[0.4444444444444444,\"#bd3786\"],[0.5555555555555556,\"#d8576b\"],[0.6666666666666666,\"#ed7953\"],[0.7777777777777778,\"#fb9f3a\"],[0.8888888888888888,\"#fdca26\"],[1.0,\"#f0f921\"]]}],\"heatmapgl\":[{\"type\":\"heatmapgl\",\"colorbar\":{\"outlinewidth\":0,\"ticks\":\"\"},\"colorscale\":[[0.0,\"#0d0887\"],[0.1111111111111111,\"#46039f\"],[0.2222222222222222,\"#7201a8\"],[0.3333333333333333,\"#9c179e\"],[0.4444444444444444,\"#bd3786\"],[0.5555555555555556,\"#d8576b\"],[0.6666666666666666,\"#ed7953\"],[0.7777777777777778,\"#fb9f3a\"],[0.8888888888888888,\"#fdca26\"],[1.0,\"#f0f921\"]]}],\"contourcarpet\":[{\"type\":\"contourcarpet\",\"colorbar\":{\"outlinewidth\":0,\"ticks\":\"\"}}],\"contour\":[{\"type\":\"contour\",\"colorbar\":{\"outlinewidth\":0,\"ticks\":\"\"},\"colorscale\":[[0.0,\"#0d0887\"],[0.1111111111111111,\"#46039f\"],[0.2222222222222222,\"#7201a8\"],[0.3333333333333333,\"#9c179e\"],[0.4444444444444444,\"#bd3786\"],[0.5555555555555556,\"#d8576b\"],[0.6666666666666666,\"#ed7953\"],[0.7777777777777778,\"#fb9f3a\"],[0.8888888888888888,\"#fdca26\"],[1.0,\"#f0f921\"]]}],\"surface\":[{\"type\":\"surface\",\"colorbar\":{\"outlinewidth\":0,\"ticks\":\"\"},\"colorscale\":[[0.0,\"#0d0887\"],[0.1111111111111111,\"#46039f\"],[0.2222222222222222,\"#7201a8\"],[0.3333333333333333,\"#9c179e\"],[0.4444444444444444,\"#bd3786\"],[0.5555555555555556,\"#d8576b\"],[0.6666666666666666,\"#ed7953\"],[0.7777777777777778,\"#fb9f3a\"],[0.8888888888888888,\"#fdca26\"],[1.0,\"#f0f921\"]]}],\"mesh3d\":[{\"type\":\"mesh3d\",\"colorbar\":{\"outlinewidth\":0,\"ticks\":\"\"}}],\"scatter\":[{\"fillpattern\":{\"fillmode\":\"overlay\",\"size\":10,\"solidity\":0.2},\"type\":\"scatter\"}],\"parcoords\":[{\"type\":\"parcoords\",\"line\":{\"colorbar\":{\"outlinewidth\":0,\"ticks\":\"\"}}}],\"scatterpolargl\":[{\"type\":\"scatterpolargl\",\"marker\":{\"colorbar\":{\"outlinewidth\":0,\"ticks\":\"\"}}}],\"bar\":[{\"error_x\":{\"color\":\"#2a3f5f\"},\"error_y\":{\"color\":\"#2a3f5f\"},\"marker\":{\"line\":{\"color\":\"#E5ECF6\",\"width\":0.5},\"pattern\":{\"fillmode\":\"overlay\",\"size\":10,\"solidity\":0.2}},\"type\":\"bar\"}],\"scattergeo\":[{\"type\":\"scattergeo\",\"marker\":{\"colorbar\":{\"outlinewidth\":0,\"ticks\":\"\"}}}],\"scatterpolar\":[{\"type\":\"scatterpolar\",\"marker\":{\"colorbar\":{\"outlinewidth\":0,\"ticks\":\"\"}}}],\"histogram\":[{\"marker\":{\"pattern\":{\"fillmode\":\"overlay\",\"size\":10,\"solidity\":0.2}},\"type\":\"histogram\"}],\"scattergl\":[{\"type\":\"scattergl\",\"marker\":{\"colorbar\":{\"outlinewidth\":0,\"ticks\":\"\"}}}],\"scatter3d\":[{\"type\":\"scatter3d\",\"line\":{\"colorbar\":{\"outlinewidth\":0,\"ticks\":\"\"}},\"marker\":{\"colorbar\":{\"outlinewidth\":0,\"ticks\":\"\"}}}],\"scattermapbox\":[{\"type\":\"scattermapbox\",\"marker\":{\"colorbar\":{\"outlinewidth\":0,\"ticks\":\"\"}}}],\"scatterternary\":[{\"type\":\"scatterternary\",\"marker\":{\"colorbar\":{\"outlinewidth\":0,\"ticks\":\"\"}}}],\"scattercarpet\":[{\"type\":\"scattercarpet\",\"marker\":{\"colorbar\":{\"outlinewidth\":0,\"ticks\":\"\"}}}],\"carpet\":[{\"aaxis\":{\"endlinecolor\":\"#2a3f5f\",\"gridcolor\":\"white\",\"linecolor\":\"white\",\"minorgridcolor\":\"white\",\"startlinecolor\":\"#2a3f5f\"},\"baxis\":{\"endlinecolor\":\"#2a3f5f\",\"gridcolor\":\"white\",\"linecolor\":\"white\",\"minorgridcolor\":\"white\",\"startlinecolor\":\"#2a3f5f\"},\"type\":\"carpet\"}],\"table\":[{\"cells\":{\"fill\":{\"color\":\"#EBF0F8\"},\"line\":{\"color\":\"white\"}},\"header\":{\"fill\":{\"color\":\"#C8D4E3\"},\"line\":{\"color\":\"white\"}},\"type\":\"table\"}],\"barpolar\":[{\"marker\":{\"line\":{\"color\":\"#E5ECF6\",\"width\":0.5},\"pattern\":{\"fillmode\":\"overlay\",\"size\":10,\"solidity\":0.2}},\"type\":\"barpolar\"}],\"pie\":[{\"automargin\":true,\"type\":\"pie\"}]},\"layout\":{\"autotypenumbers\":\"strict\",\"colorway\":[\"#636efa\",\"#EF553B\",\"#00cc96\",\"#ab63fa\",\"#FFA15A\",\"#19d3f3\",\"#FF6692\",\"#B6E880\",\"#FF97FF\",\"#FECB52\"],\"font\":{\"color\":\"#2a3f5f\"},\"hovermode\":\"closest\",\"hoverlabel\":{\"align\":\"left\"},\"paper_bgcolor\":\"white\",\"plot_bgcolor\":\"#E5ECF6\",\"polar\":{\"bgcolor\":\"#E5ECF6\",\"angularaxis\":{\"gridcolor\":\"white\",\"linecolor\":\"white\",\"ticks\":\"\"},\"radialaxis\":{\"gridcolor\":\"white\",\"linecolor\":\"white\",\"ticks\":\"\"}},\"ternary\":{\"bgcolor\":\"#E5ECF6\",\"aaxis\":{\"gridcolor\":\"white\",\"linecolor\":\"white\",\"ticks\":\"\"},\"baxis\":{\"gridcolor\":\"white\",\"linecolor\":\"white\",\"ticks\":\"\"},\"caxis\":{\"gridcolor\":\"white\",\"linecolor\":\"white\",\"ticks\":\"\"}},\"coloraxis\":{\"colorbar\":{\"outlinewidth\":0,\"ticks\":\"\"}},\"colorscale\":{\"sequential\":[[0.0,\"#0d0887\"],[0.1111111111111111,\"#46039f\"],[0.2222222222222222,\"#7201a8\"],[0.3333333333333333,\"#9c179e\"],[0.4444444444444444,\"#bd3786\"],[0.5555555555555556,\"#d8576b\"],[0.6666666666666666,\"#ed7953\"],[0.7777777777777778,\"#fb9f3a\"],[0.8888888888888888,\"#fdca26\"],[1.0,\"#f0f921\"]],\"sequentialminus\":[[0.0,\"#0d0887\"],[0.1111111111111111,\"#46039f\"],[0.2222222222222222,\"#7201a8\"],[0.3333333333333333,\"#9c179e\"],[0.4444444444444444,\"#bd3786\"],[0.5555555555555556,\"#d8576b\"],[0.6666666666666666,\"#ed7953\"],[0.7777777777777778,\"#fb9f3a\"],[0.8888888888888888,\"#fdca26\"],[1.0,\"#f0f921\"]],\"diverging\":[[0,\"#8e0152\"],[0.1,\"#c51b7d\"],[0.2,\"#de77ae\"],[0.3,\"#f1b6da\"],[0.4,\"#fde0ef\"],[0.5,\"#f7f7f7\"],[0.6,\"#e6f5d0\"],[0.7,\"#b8e186\"],[0.8,\"#7fbc41\"],[0.9,\"#4d9221\"],[1,\"#276419\"]]},\"xaxis\":{\"gridcolor\":\"white\",\"linecolor\":\"white\",\"ticks\":\"\",\"title\":{\"standoff\":15},\"zerolinecolor\":\"white\",\"automargin\":true,\"zerolinewidth\":2},\"yaxis\":{\"gridcolor\":\"white\",\"linecolor\":\"white\",\"ticks\":\"\",\"title\":{\"standoff\":15},\"zerolinecolor\":\"white\",\"automargin\":true,\"zerolinewidth\":2},\"scene\":{\"xaxis\":{\"backgroundcolor\":\"#E5ECF6\",\"gridcolor\":\"white\",\"linecolor\":\"white\",\"showbackground\":true,\"ticks\":\"\",\"zerolinecolor\":\"white\",\"gridwidth\":2},\"yaxis\":{\"backgroundcolor\":\"#E5ECF6\",\"gridcolor\":\"white\",\"linecolor\":\"white\",\"showbackground\":true,\"ticks\":\"\",\"zerolinecolor\":\"white\",\"gridwidth\":2},\"zaxis\":{\"backgroundcolor\":\"#E5ECF6\",\"gridcolor\":\"white\",\"linecolor\":\"white\",\"showbackground\":true,\"ticks\":\"\",\"zerolinecolor\":\"white\",\"gridwidth\":2}},\"shapedefaults\":{\"line\":{\"color\":\"#2a3f5f\"}},\"annotationdefaults\":{\"arrowcolor\":\"#2a3f5f\",\"arrowhead\":0,\"arrowwidth\":1},\"geo\":{\"bgcolor\":\"white\",\"landcolor\":\"#E5ECF6\",\"subunitcolor\":\"white\",\"showland\":true,\"showlakes\":true,\"lakecolor\":\"white\"},\"title\":{\"x\":0.05},\"mapbox\":{\"style\":\"light\"}}},\"xaxis\":{\"anchor\":\"y\",\"domain\":[0.0,1.0],\"title\":{\"text\":\"words\"},\"tickangle\":-45},\"yaxis\":{\"anchor\":\"x\",\"domain\":[0.0,1.0],\"title\":{\"text\":\"freq\"}},\"coloraxis\":{\"colorbar\":{\"title\":{\"text\":\"freq\"}},\"colorscale\":[[0.0,\"#0d0887\"],[0.1111111111111111,\"#46039f\"],[0.2222222222222222,\"#7201a8\"],[0.3333333333333333,\"#9c179e\"],[0.4444444444444444,\"#bd3786\"],[0.5555555555555556,\"#d8576b\"],[0.6666666666666666,\"#ed7953\"],[0.7777777777777778,\"#fb9f3a\"],[0.8888888888888888,\"#fdca26\"],[1.0,\"#f0f921\"]]},\"legend\":{\"tracegroupgap\":0},\"title\":{\"text\":\"Frequency of words seen in <b> Flagged </b>records (with TFIDF in parentheses)\"},\"barmode\":\"relative\"},                        {\"responsive\": true}                    ).then(function(){\n",
       "                            \n",
       "var gd = document.getElementById('e7e08c1e-1319-4ae1-923c-5c366948f13c');\n",
       "var x = new MutationObserver(function (mutations, observer) {{\n",
       "        var display = window.getComputedStyle(gd).display;\n",
       "        if (!display || display === 'none') {{\n",
       "            console.log([gd, 'removed!']);\n",
       "            Plotly.purge(gd);\n",
       "            observer.disconnect();\n",
       "        }}\n",
       "}});\n",
       "\n",
       "// Listen for the removal of the full notebook cells\n",
       "var notebookContainer = gd.closest('#notebook-container');\n",
       "if (notebookContainer) {{\n",
       "    x.observe(notebookContainer, {childList: true});\n",
       "}}\n",
       "\n",
       "// Listen for the clearing of the current output cell\n",
       "var outputEl = gd.closest('.output');\n",
       "if (outputEl) {{\n",
       "    x.observe(outputEl, {childList: true});\n",
       "}}\n",
       "\n",
       "                        })                };                });            </script>        </div>"
      ]
     },
     "metadata": {},
     "output_type": "display_data"
    }
   ],
   "source": [
    "# n most frequent\n",
    "n = 30\n",
    "\n",
    "fig = px.bar(\n",
    "    data_frame=words_df[:n], x='words', y='freq', color='freq',\n",
    "    text='tfidf_score_sum', labels={'x': 'words', 'y': 'frequency'},\n",
    "    title='Frequency of words seen in <b> Flagged </b>records (with TFIDF in parentheses)' )\n",
    "\n",
    "fig.update_xaxes(tickangle= -45)  \n",
    "fig.update_traces(\n",
    "    texttemplate='%{text:.2f}', textposition='outside',\n",
    "     textfont_size=8)\n",
    "     \n",
    "fig.show()"
   ]
  },
  {
   "cell_type": "code",
   "execution_count": null,
   "metadata": {},
   "outputs": [],
   "source": []
  },
  {
   "cell_type": "code",
   "execution_count": 176,
   "metadata": {},
   "outputs": [],
   "source": [
    "def take_percentage(df, col='freq'):\n",
    "\n",
    "    sum = df.loc[:, 'freq'].sum()\n",
    "    df.loc[:, 'freq'] = df.loc[:, 'freq'].apply(lambda x: x/sum)\n",
    "    \n",
    "    return df"
   ]
  },
  {
   "cell_type": "code",
   "execution_count": 177,
   "metadata": {},
   "outputs": [],
   "source": [
    "word_freq_enh_df = convert_tokens_list_to_freq_df(df[df.type == 'enhancement'].loc[:, 'cleaned_word_list'])\n",
    "word_freq_task_df = convert_tokens_list_to_freq_df(df[df.type == 'task'].loc[:, 'cleaned_word_list'])\n",
    "\n",
    "# because they have different number of records, and to have a fair comparison,\n",
    "# we use percentage as a way of measurement\n",
    "\n",
    "word_freq_enh_df = take_percentage(word_freq_enh_df)\n",
    "word_freq_task_df = take_percentage(word_freq_task_df)\n",
    "\n"
   ]
  },
  {
   "cell_type": "code",
   "execution_count": null,
   "metadata": {},
   "outputs": [],
   "source": []
  },
  {
   "cell_type": "code",
   "execution_count": 178,
   "metadata": {},
   "outputs": [
    {
     "data": {
      "text/html": [
       "<div>\n",
       "<style scoped>\n",
       "    .dataframe tbody tr th:only-of-type {\n",
       "        vertical-align: middle;\n",
       "    }\n",
       "\n",
       "    .dataframe tbody tr th {\n",
       "        vertical-align: top;\n",
       "    }\n",
       "\n",
       "    .dataframe thead th {\n",
       "        text-align: right;\n",
       "    }\n",
       "</style>\n",
       "<table border=\"1\" class=\"dataframe\">\n",
       "  <thead>\n",
       "    <tr style=\"text-align: right;\">\n",
       "      <th></th>\n",
       "      <th>words</th>\n",
       "      <th>freq</th>\n",
       "    </tr>\n",
       "  </thead>\n",
       "  <tbody>\n",
       "    <tr>\n",
       "      <th>0</th>\n",
       "      <td>meta</td>\n",
       "      <td>0.052440</td>\n",
       "    </tr>\n",
       "    <tr>\n",
       "      <th>1</th>\n",
       "      <td>history</td>\n",
       "      <td>0.022474</td>\n",
       "    </tr>\n",
       "    <tr>\n",
       "      <th>2</th>\n",
       "      <td>room</td>\n",
       "      <td>0.020976</td>\n",
       "    </tr>\n",
       "    <tr>\n",
       "      <th>3</th>\n",
       "      <td>add</td>\n",
       "      <td>0.012414</td>\n",
       "    </tr>\n",
       "    <tr>\n",
       "      <th>4</th>\n",
       "      <td>remove</td>\n",
       "      <td>0.011558</td>\n",
       "    </tr>\n",
       "    <tr>\n",
       "      <th>...</th>\n",
       "      <td>...</td>\n",
       "      <td>...</td>\n",
       "    </tr>\n",
       "    <tr>\n",
       "      <th>2028</th>\n",
       "      <td>non-mozglue</td>\n",
       "      <td>0.000214</td>\n",
       "    </tr>\n",
       "    <tr>\n",
       "      <th>2029</th>\n",
       "      <td>de</td>\n",
       "      <td>0.000214</td>\n",
       "    </tr>\n",
       "    <tr>\n",
       "      <th>2030</th>\n",
       "      <td>serializations</td>\n",
       "      <td>0.000214</td>\n",
       "    </tr>\n",
       "    <tr>\n",
       "      <th>2031</th>\n",
       "      <td>plawless</td>\n",
       "      <td>0.000214</td>\n",
       "    </tr>\n",
       "    <tr>\n",
       "      <th>2032</th>\n",
       "      <td>mozilla.com</td>\n",
       "      <td>0.000214</td>\n",
       "    </tr>\n",
       "  </tbody>\n",
       "</table>\n",
       "<p>2033 rows × 2 columns</p>\n",
       "</div>"
      ],
      "text/plain": [
       "               words      freq\n",
       "0               meta  0.052440\n",
       "1            history  0.022474\n",
       "2               room  0.020976\n",
       "3                add  0.012414\n",
       "4             remove  0.011558\n",
       "...              ...       ...\n",
       "2028     non-mozglue  0.000214\n",
       "2029              de  0.000214\n",
       "2030  serializations  0.000214\n",
       "2031        plawless  0.000214\n",
       "2032     mozilla.com  0.000214\n",
       "\n",
       "[2033 rows x 2 columns]"
      ]
     },
     "execution_count": 178,
     "metadata": {},
     "output_type": "execute_result"
    }
   ],
   "source": [
    "word_freq_task_df"
   ]
  },
  {
   "cell_type": "code",
   "execution_count": 180,
   "metadata": {},
   "outputs": [],
   "source": [
    "# merge the datasets for overall analysis and visualization\n",
    "# we rename columns to distinguish them when merging, but we need to keep \n",
    "# the words field the same because we want them to be merged on it.\n",
    "\n",
    "task_word_freq_df = word_freq_enh_df.add_suffix('_enh')\n",
    "task_word_freq_df.rename(columns={'words_enh': 'words'}, inplace=True)\n",
    "\n",
    "enh_word_freq_df = word_freq_task_df.add_suffix('_task')\n",
    "enh_word_freq_df.rename(columns={'words_task': 'words'}, inplace=True)\n",
    "\n",
    "merged_df = merge(enh_word_freq_df, task_word_freq_df)"
   ]
  },
  {
   "cell_type": "code",
   "execution_count": null,
   "metadata": {},
   "outputs": [],
   "source": []
  },
  {
   "cell_type": "code",
   "execution_count": 183,
   "metadata": {},
   "outputs": [
    {
     "data": {
      "application/vnd.plotly.v1+json": {
       "config": {
        "plotlyServerURL": "https://plot.ly"
       },
       "data": [
        {
         "marker": {
          "color": "#BA0F30"
         },
         "name": "Enhancement",
         "text": [
          0.03465931469082316,
          0.0007877116975187081,
          0.00009846396218983852,
          0.013686490744387554,
          0.0061047656557699885,
          0.003790862544308783,
          0.011618747538400946,
          0.004381646317447814,
          0.01393265064986215,
          0.005267821977156361,
          0.001673887357227255,
          0.007581725088617566,
          0.0030523828278849943,
          0.005858605750295392,
          0.0035447026388341868,
          0.0012800315084679006,
          0.003643166601024025,
          0.004184718393068137,
          0.0036923985821189446,
          0.0016246553761323356,
          0.002412367073651044,
          0.005169358014966523,
          0.003446238676644348,
          0.0035447026388341868,
          0.0010831035840882237,
          0.0020185112248916896,
          0.0011815675462780622,
          0.0027569909413154787,
          0.0016246553761323356,
          0.0031508467900748325
         ],
         "textfont": {
          "size": 8
         },
         "textposition": "outside",
         "texttemplate": "%{text:.2f}",
         "type": "bar",
         "x": [
          "meta",
          "history",
          "room",
          "add",
          "remove",
          "tests",
          "support",
          "firefox",
          "implement",
          "new",
          "convert",
          "use",
          "code",
          "make",
          "bug",
          "debugger",
          "test",
          "process",
          "enable",
          "move",
          "update",
          "api",
          "windows",
          "tracking",
          "migrate",
          "build",
          "fission",
          "page",
          "create",
          "search"
         ],
         "y": [
          0.03465931469082316,
          0.0007877116975187081,
          0.00009846396218983852,
          0.013686490744387554,
          0.0061047656557699885,
          0.003790862544308783,
          0.011618747538400946,
          0.004381646317447814,
          0.01393265064986215,
          0.005267821977156361,
          0.001673887357227255,
          0.007581725088617566,
          0.0030523828278849943,
          0.005858605750295392,
          0.0035447026388341868,
          0.0012800315084679006,
          0.003643166601024025,
          0.004184718393068137,
          0.0036923985821189446,
          0.0016246553761323356,
          0.002412367073651044,
          0.005169358014966523,
          0.003446238676644348,
          0.0035447026388341868,
          0.0010831035840882237,
          0.0020185112248916896,
          0.0011815675462780622,
          0.0027569909413154787,
          0.0016246553761323356,
          0.0031508467900748325
         ]
        },
        {
         "marker": {
          "color": "#98D7C2"
         },
         "name": "Task",
         "text": [
          0.052440068493150686,
          0.02247431506849315,
          0.020976027397260275,
          0.012414383561643835,
          0.011558219178082191,
          0.008561643835616438,
          0.008347602739726028,
          0.00684931506849315,
          0.006421232876712328,
          0.006421232876712328,
          0.0062071917808219175,
          0.005779109589041096,
          0.005779109589041096,
          0.005136986301369863,
          0.004922945205479452,
          0.004280821917808219,
          0.004280821917808219,
          0.004066780821917808,
          0.004066780821917808,
          0.003852739726027397,
          0.003852739726027397,
          0.003852739726027397,
          0.003210616438356164,
          0.0029965753424657533,
          0.0029965753424657533,
          0.0029965753424657533,
          0.0029965753424657533,
          0.0027825342465753423,
          0.0027825342465753423,
          0.0027825342465753423
         ],
         "textfont": {
          "size": 8
         },
         "textposition": "outside",
         "texttemplate": "%{text:.2f}",
         "type": "bar",
         "x": [
          "meta",
          "history",
          "room",
          "add",
          "remove",
          "tests",
          "support",
          "firefox",
          "implement",
          "new",
          "convert",
          "use",
          "code",
          "make",
          "bug",
          "debugger",
          "test",
          "process",
          "enable",
          "move",
          "update",
          "api",
          "windows",
          "tracking",
          "migrate",
          "build",
          "fission",
          "page",
          "create",
          "search"
         ],
         "y": [
          0.052440068493150686,
          0.02247431506849315,
          0.020976027397260275,
          0.012414383561643835,
          0.011558219178082191,
          0.008561643835616438,
          0.008347602739726028,
          0.00684931506849315,
          0.006421232876712328,
          0.006421232876712328,
          0.0062071917808219175,
          0.005779109589041096,
          0.005779109589041096,
          0.005136986301369863,
          0.004922945205479452,
          0.004280821917808219,
          0.004280821917808219,
          0.004066780821917808,
          0.004066780821917808,
          0.003852739726027397,
          0.003852739726027397,
          0.003852739726027397,
          0.003210616438356164,
          0.0029965753424657533,
          0.0029965753424657533,
          0.0029965753424657533,
          0.0029965753424657533,
          0.0027825342465753423,
          0.0027825342465753423,
          0.0027825342465753423
         ]
        }
       ],
       "layout": {
        "barmode": "group",
        "template": {
         "data": {
          "bar": [
           {
            "error_x": {
             "color": "#2a3f5f"
            },
            "error_y": {
             "color": "#2a3f5f"
            },
            "marker": {
             "line": {
              "color": "#E5ECF6",
              "width": 0.5
             },
             "pattern": {
              "fillmode": "overlay",
              "size": 10,
              "solidity": 0.2
             }
            },
            "type": "bar"
           }
          ],
          "barpolar": [
           {
            "marker": {
             "line": {
              "color": "#E5ECF6",
              "width": 0.5
             },
             "pattern": {
              "fillmode": "overlay",
              "size": 10,
              "solidity": 0.2
             }
            },
            "type": "barpolar"
           }
          ],
          "carpet": [
           {
            "aaxis": {
             "endlinecolor": "#2a3f5f",
             "gridcolor": "white",
             "linecolor": "white",
             "minorgridcolor": "white",
             "startlinecolor": "#2a3f5f"
            },
            "baxis": {
             "endlinecolor": "#2a3f5f",
             "gridcolor": "white",
             "linecolor": "white",
             "minorgridcolor": "white",
             "startlinecolor": "#2a3f5f"
            },
            "type": "carpet"
           }
          ],
          "choropleth": [
           {
            "colorbar": {
             "outlinewidth": 0,
             "ticks": ""
            },
            "type": "choropleth"
           }
          ],
          "contour": [
           {
            "colorbar": {
             "outlinewidth": 0,
             "ticks": ""
            },
            "colorscale": [
             [
              0,
              "#0d0887"
             ],
             [
              0.1111111111111111,
              "#46039f"
             ],
             [
              0.2222222222222222,
              "#7201a8"
             ],
             [
              0.3333333333333333,
              "#9c179e"
             ],
             [
              0.4444444444444444,
              "#bd3786"
             ],
             [
              0.5555555555555556,
              "#d8576b"
             ],
             [
              0.6666666666666666,
              "#ed7953"
             ],
             [
              0.7777777777777778,
              "#fb9f3a"
             ],
             [
              0.8888888888888888,
              "#fdca26"
             ],
             [
              1,
              "#f0f921"
             ]
            ],
            "type": "contour"
           }
          ],
          "contourcarpet": [
           {
            "colorbar": {
             "outlinewidth": 0,
             "ticks": ""
            },
            "type": "contourcarpet"
           }
          ],
          "heatmap": [
           {
            "colorbar": {
             "outlinewidth": 0,
             "ticks": ""
            },
            "colorscale": [
             [
              0,
              "#0d0887"
             ],
             [
              0.1111111111111111,
              "#46039f"
             ],
             [
              0.2222222222222222,
              "#7201a8"
             ],
             [
              0.3333333333333333,
              "#9c179e"
             ],
             [
              0.4444444444444444,
              "#bd3786"
             ],
             [
              0.5555555555555556,
              "#d8576b"
             ],
             [
              0.6666666666666666,
              "#ed7953"
             ],
             [
              0.7777777777777778,
              "#fb9f3a"
             ],
             [
              0.8888888888888888,
              "#fdca26"
             ],
             [
              1,
              "#f0f921"
             ]
            ],
            "type": "heatmap"
           }
          ],
          "heatmapgl": [
           {
            "colorbar": {
             "outlinewidth": 0,
             "ticks": ""
            },
            "colorscale": [
             [
              0,
              "#0d0887"
             ],
             [
              0.1111111111111111,
              "#46039f"
             ],
             [
              0.2222222222222222,
              "#7201a8"
             ],
             [
              0.3333333333333333,
              "#9c179e"
             ],
             [
              0.4444444444444444,
              "#bd3786"
             ],
             [
              0.5555555555555556,
              "#d8576b"
             ],
             [
              0.6666666666666666,
              "#ed7953"
             ],
             [
              0.7777777777777778,
              "#fb9f3a"
             ],
             [
              0.8888888888888888,
              "#fdca26"
             ],
             [
              1,
              "#f0f921"
             ]
            ],
            "type": "heatmapgl"
           }
          ],
          "histogram": [
           {
            "marker": {
             "pattern": {
              "fillmode": "overlay",
              "size": 10,
              "solidity": 0.2
             }
            },
            "type": "histogram"
           }
          ],
          "histogram2d": [
           {
            "colorbar": {
             "outlinewidth": 0,
             "ticks": ""
            },
            "colorscale": [
             [
              0,
              "#0d0887"
             ],
             [
              0.1111111111111111,
              "#46039f"
             ],
             [
              0.2222222222222222,
              "#7201a8"
             ],
             [
              0.3333333333333333,
              "#9c179e"
             ],
             [
              0.4444444444444444,
              "#bd3786"
             ],
             [
              0.5555555555555556,
              "#d8576b"
             ],
             [
              0.6666666666666666,
              "#ed7953"
             ],
             [
              0.7777777777777778,
              "#fb9f3a"
             ],
             [
              0.8888888888888888,
              "#fdca26"
             ],
             [
              1,
              "#f0f921"
             ]
            ],
            "type": "histogram2d"
           }
          ],
          "histogram2dcontour": [
           {
            "colorbar": {
             "outlinewidth": 0,
             "ticks": ""
            },
            "colorscale": [
             [
              0,
              "#0d0887"
             ],
             [
              0.1111111111111111,
              "#46039f"
             ],
             [
              0.2222222222222222,
              "#7201a8"
             ],
             [
              0.3333333333333333,
              "#9c179e"
             ],
             [
              0.4444444444444444,
              "#bd3786"
             ],
             [
              0.5555555555555556,
              "#d8576b"
             ],
             [
              0.6666666666666666,
              "#ed7953"
             ],
             [
              0.7777777777777778,
              "#fb9f3a"
             ],
             [
              0.8888888888888888,
              "#fdca26"
             ],
             [
              1,
              "#f0f921"
             ]
            ],
            "type": "histogram2dcontour"
           }
          ],
          "mesh3d": [
           {
            "colorbar": {
             "outlinewidth": 0,
             "ticks": ""
            },
            "type": "mesh3d"
           }
          ],
          "parcoords": [
           {
            "line": {
             "colorbar": {
              "outlinewidth": 0,
              "ticks": ""
             }
            },
            "type": "parcoords"
           }
          ],
          "pie": [
           {
            "automargin": true,
            "type": "pie"
           }
          ],
          "scatter": [
           {
            "fillpattern": {
             "fillmode": "overlay",
             "size": 10,
             "solidity": 0.2
            },
            "type": "scatter"
           }
          ],
          "scatter3d": [
           {
            "line": {
             "colorbar": {
              "outlinewidth": 0,
              "ticks": ""
             }
            },
            "marker": {
             "colorbar": {
              "outlinewidth": 0,
              "ticks": ""
             }
            },
            "type": "scatter3d"
           }
          ],
          "scattercarpet": [
           {
            "marker": {
             "colorbar": {
              "outlinewidth": 0,
              "ticks": ""
             }
            },
            "type": "scattercarpet"
           }
          ],
          "scattergeo": [
           {
            "marker": {
             "colorbar": {
              "outlinewidth": 0,
              "ticks": ""
             }
            },
            "type": "scattergeo"
           }
          ],
          "scattergl": [
           {
            "marker": {
             "colorbar": {
              "outlinewidth": 0,
              "ticks": ""
             }
            },
            "type": "scattergl"
           }
          ],
          "scattermapbox": [
           {
            "marker": {
             "colorbar": {
              "outlinewidth": 0,
              "ticks": ""
             }
            },
            "type": "scattermapbox"
           }
          ],
          "scatterpolar": [
           {
            "marker": {
             "colorbar": {
              "outlinewidth": 0,
              "ticks": ""
             }
            },
            "type": "scatterpolar"
           }
          ],
          "scatterpolargl": [
           {
            "marker": {
             "colorbar": {
              "outlinewidth": 0,
              "ticks": ""
             }
            },
            "type": "scatterpolargl"
           }
          ],
          "scatterternary": [
           {
            "marker": {
             "colorbar": {
              "outlinewidth": 0,
              "ticks": ""
             }
            },
            "type": "scatterternary"
           }
          ],
          "surface": [
           {
            "colorbar": {
             "outlinewidth": 0,
             "ticks": ""
            },
            "colorscale": [
             [
              0,
              "#0d0887"
             ],
             [
              0.1111111111111111,
              "#46039f"
             ],
             [
              0.2222222222222222,
              "#7201a8"
             ],
             [
              0.3333333333333333,
              "#9c179e"
             ],
             [
              0.4444444444444444,
              "#bd3786"
             ],
             [
              0.5555555555555556,
              "#d8576b"
             ],
             [
              0.6666666666666666,
              "#ed7953"
             ],
             [
              0.7777777777777778,
              "#fb9f3a"
             ],
             [
              0.8888888888888888,
              "#fdca26"
             ],
             [
              1,
              "#f0f921"
             ]
            ],
            "type": "surface"
           }
          ],
          "table": [
           {
            "cells": {
             "fill": {
              "color": "#EBF0F8"
             },
             "line": {
              "color": "white"
             }
            },
            "header": {
             "fill": {
              "color": "#C8D4E3"
             },
             "line": {
              "color": "white"
             }
            },
            "type": "table"
           }
          ]
         },
         "layout": {
          "annotationdefaults": {
           "arrowcolor": "#2a3f5f",
           "arrowhead": 0,
           "arrowwidth": 1
          },
          "autotypenumbers": "strict",
          "coloraxis": {
           "colorbar": {
            "outlinewidth": 0,
            "ticks": ""
           }
          },
          "colorscale": {
           "diverging": [
            [
             0,
             "#8e0152"
            ],
            [
             0.1,
             "#c51b7d"
            ],
            [
             0.2,
             "#de77ae"
            ],
            [
             0.3,
             "#f1b6da"
            ],
            [
             0.4,
             "#fde0ef"
            ],
            [
             0.5,
             "#f7f7f7"
            ],
            [
             0.6,
             "#e6f5d0"
            ],
            [
             0.7,
             "#b8e186"
            ],
            [
             0.8,
             "#7fbc41"
            ],
            [
             0.9,
             "#4d9221"
            ],
            [
             1,
             "#276419"
            ]
           ],
           "sequential": [
            [
             0,
             "#0d0887"
            ],
            [
             0.1111111111111111,
             "#46039f"
            ],
            [
             0.2222222222222222,
             "#7201a8"
            ],
            [
             0.3333333333333333,
             "#9c179e"
            ],
            [
             0.4444444444444444,
             "#bd3786"
            ],
            [
             0.5555555555555556,
             "#d8576b"
            ],
            [
             0.6666666666666666,
             "#ed7953"
            ],
            [
             0.7777777777777778,
             "#fb9f3a"
            ],
            [
             0.8888888888888888,
             "#fdca26"
            ],
            [
             1,
             "#f0f921"
            ]
           ],
           "sequentialminus": [
            [
             0,
             "#0d0887"
            ],
            [
             0.1111111111111111,
             "#46039f"
            ],
            [
             0.2222222222222222,
             "#7201a8"
            ],
            [
             0.3333333333333333,
             "#9c179e"
            ],
            [
             0.4444444444444444,
             "#bd3786"
            ],
            [
             0.5555555555555556,
             "#d8576b"
            ],
            [
             0.6666666666666666,
             "#ed7953"
            ],
            [
             0.7777777777777778,
             "#fb9f3a"
            ],
            [
             0.8888888888888888,
             "#fdca26"
            ],
            [
             1,
             "#f0f921"
            ]
           ]
          },
          "colorway": [
           "#636efa",
           "#EF553B",
           "#00cc96",
           "#ab63fa",
           "#FFA15A",
           "#19d3f3",
           "#FF6692",
           "#B6E880",
           "#FF97FF",
           "#FECB52"
          ],
          "font": {
           "color": "#2a3f5f"
          },
          "geo": {
           "bgcolor": "white",
           "lakecolor": "white",
           "landcolor": "#E5ECF6",
           "showlakes": true,
           "showland": true,
           "subunitcolor": "white"
          },
          "hoverlabel": {
           "align": "left"
          },
          "hovermode": "closest",
          "mapbox": {
           "style": "light"
          },
          "paper_bgcolor": "white",
          "plot_bgcolor": "#E5ECF6",
          "polar": {
           "angularaxis": {
            "gridcolor": "white",
            "linecolor": "white",
            "ticks": ""
           },
           "bgcolor": "#E5ECF6",
           "radialaxis": {
            "gridcolor": "white",
            "linecolor": "white",
            "ticks": ""
           }
          },
          "scene": {
           "xaxis": {
            "backgroundcolor": "#E5ECF6",
            "gridcolor": "white",
            "gridwidth": 2,
            "linecolor": "white",
            "showbackground": true,
            "ticks": "",
            "zerolinecolor": "white"
           },
           "yaxis": {
            "backgroundcolor": "#E5ECF6",
            "gridcolor": "white",
            "gridwidth": 2,
            "linecolor": "white",
            "showbackground": true,
            "ticks": "",
            "zerolinecolor": "white"
           },
           "zaxis": {
            "backgroundcolor": "#E5ECF6",
            "gridcolor": "white",
            "gridwidth": 2,
            "linecolor": "white",
            "showbackground": true,
            "ticks": "",
            "zerolinecolor": "white"
           }
          },
          "shapedefaults": {
           "line": {
            "color": "#2a3f5f"
           }
          },
          "ternary": {
           "aaxis": {
            "gridcolor": "white",
            "linecolor": "white",
            "ticks": ""
           },
           "baxis": {
            "gridcolor": "white",
            "linecolor": "white",
            "ticks": ""
           },
           "bgcolor": "#E5ECF6",
           "caxis": {
            "gridcolor": "white",
            "linecolor": "white",
            "ticks": ""
           }
          },
          "title": {
           "x": 0.05
          },
          "xaxis": {
           "automargin": true,
           "gridcolor": "white",
           "linecolor": "white",
           "ticks": "",
           "title": {
            "standoff": 15
           },
           "zerolinecolor": "white",
           "zerolinewidth": 2
          },
          "yaxis": {
           "automargin": true,
           "gridcolor": "white",
           "linecolor": "white",
           "ticks": "",
           "title": {
            "standoff": 15
           },
           "zerolinecolor": "white",
           "zerolinewidth": 2
          }
         }
        },
        "title": {
         "text": "Percentage comparison of the most frequent words in enhancement and task types"
        },
        "xaxis": {
         "tickangle": -45
        }
       }
      },
      "text/html": [
       "<div>                            <div id=\"619a5301-c669-4fa9-a6af-3a3c01ec19a5\" class=\"plotly-graph-div\" style=\"height:525px; width:100%;\"></div>            <script type=\"text/javascript\">                require([\"plotly\"], function(Plotly) {                    window.PLOTLYENV=window.PLOTLYENV || {};                                    if (document.getElementById(\"619a5301-c669-4fa9-a6af-3a3c01ec19a5\")) {                    Plotly.newPlot(                        \"619a5301-c669-4fa9-a6af-3a3c01ec19a5\",                        [{\"marker\":{\"color\":\"#BA0F30\"},\"name\":\"Enhancement\",\"text\":[0.03465931469082316,0.0007877116975187081,9.846396218983852e-05,0.013686490744387554,0.0061047656557699885,0.003790862544308783,0.011618747538400946,0.004381646317447814,0.01393265064986215,0.005267821977156361,0.001673887357227255,0.007581725088617566,0.0030523828278849943,0.005858605750295392,0.0035447026388341868,0.0012800315084679006,0.003643166601024025,0.004184718393068137,0.0036923985821189446,0.0016246553761323356,0.002412367073651044,0.005169358014966523,0.003446238676644348,0.0035447026388341868,0.0010831035840882237,0.0020185112248916896,0.0011815675462780622,0.0027569909413154787,0.0016246553761323356,0.0031508467900748325],\"x\":[\"meta\",\"history\",\"room\",\"add\",\"remove\",\"tests\",\"support\",\"firefox\",\"implement\",\"new\",\"convert\",\"use\",\"code\",\"make\",\"bug\",\"debugger\",\"test\",\"process\",\"enable\",\"move\",\"update\",\"api\",\"windows\",\"tracking\",\"migrate\",\"build\",\"fission\",\"page\",\"create\",\"search\"],\"y\":[0.03465931469082316,0.0007877116975187081,9.846396218983852e-05,0.013686490744387554,0.0061047656557699885,0.003790862544308783,0.011618747538400946,0.004381646317447814,0.01393265064986215,0.005267821977156361,0.001673887357227255,0.007581725088617566,0.0030523828278849943,0.005858605750295392,0.0035447026388341868,0.0012800315084679006,0.003643166601024025,0.004184718393068137,0.0036923985821189446,0.0016246553761323356,0.002412367073651044,0.005169358014966523,0.003446238676644348,0.0035447026388341868,0.0010831035840882237,0.0020185112248916896,0.0011815675462780622,0.0027569909413154787,0.0016246553761323356,0.0031508467900748325],\"type\":\"bar\",\"textfont\":{\"size\":8},\"textposition\":\"outside\",\"texttemplate\":\"%{text:.2f}\"},{\"marker\":{\"color\":\"#98D7C2\"},\"name\":\"Task\",\"text\":[0.052440068493150686,0.02247431506849315,0.020976027397260275,0.012414383561643835,0.011558219178082191,0.008561643835616438,0.008347602739726028,0.00684931506849315,0.006421232876712328,0.006421232876712328,0.0062071917808219175,0.005779109589041096,0.005779109589041096,0.005136986301369863,0.004922945205479452,0.004280821917808219,0.004280821917808219,0.004066780821917808,0.004066780821917808,0.003852739726027397,0.003852739726027397,0.003852739726027397,0.003210616438356164,0.0029965753424657533,0.0029965753424657533,0.0029965753424657533,0.0029965753424657533,0.0027825342465753423,0.0027825342465753423,0.0027825342465753423],\"x\":[\"meta\",\"history\",\"room\",\"add\",\"remove\",\"tests\",\"support\",\"firefox\",\"implement\",\"new\",\"convert\",\"use\",\"code\",\"make\",\"bug\",\"debugger\",\"test\",\"process\",\"enable\",\"move\",\"update\",\"api\",\"windows\",\"tracking\",\"migrate\",\"build\",\"fission\",\"page\",\"create\",\"search\"],\"y\":[0.052440068493150686,0.02247431506849315,0.020976027397260275,0.012414383561643835,0.011558219178082191,0.008561643835616438,0.008347602739726028,0.00684931506849315,0.006421232876712328,0.006421232876712328,0.0062071917808219175,0.005779109589041096,0.005779109589041096,0.005136986301369863,0.004922945205479452,0.004280821917808219,0.004280821917808219,0.004066780821917808,0.004066780821917808,0.003852739726027397,0.003852739726027397,0.003852739726027397,0.003210616438356164,0.0029965753424657533,0.0029965753424657533,0.0029965753424657533,0.0029965753424657533,0.0027825342465753423,0.0027825342465753423,0.0027825342465753423],\"type\":\"bar\",\"textfont\":{\"size\":8},\"textposition\":\"outside\",\"texttemplate\":\"%{text:.2f}\"}],                        {\"template\":{\"data\":{\"histogram2dcontour\":[{\"type\":\"histogram2dcontour\",\"colorbar\":{\"outlinewidth\":0,\"ticks\":\"\"},\"colorscale\":[[0.0,\"#0d0887\"],[0.1111111111111111,\"#46039f\"],[0.2222222222222222,\"#7201a8\"],[0.3333333333333333,\"#9c179e\"],[0.4444444444444444,\"#bd3786\"],[0.5555555555555556,\"#d8576b\"],[0.6666666666666666,\"#ed7953\"],[0.7777777777777778,\"#fb9f3a\"],[0.8888888888888888,\"#fdca26\"],[1.0,\"#f0f921\"]]}],\"choropleth\":[{\"type\":\"choropleth\",\"colorbar\":{\"outlinewidth\":0,\"ticks\":\"\"}}],\"histogram2d\":[{\"type\":\"histogram2d\",\"colorbar\":{\"outlinewidth\":0,\"ticks\":\"\"},\"colorscale\":[[0.0,\"#0d0887\"],[0.1111111111111111,\"#46039f\"],[0.2222222222222222,\"#7201a8\"],[0.3333333333333333,\"#9c179e\"],[0.4444444444444444,\"#bd3786\"],[0.5555555555555556,\"#d8576b\"],[0.6666666666666666,\"#ed7953\"],[0.7777777777777778,\"#fb9f3a\"],[0.8888888888888888,\"#fdca26\"],[1.0,\"#f0f921\"]]}],\"heatmap\":[{\"type\":\"heatmap\",\"colorbar\":{\"outlinewidth\":0,\"ticks\":\"\"},\"colorscale\":[[0.0,\"#0d0887\"],[0.1111111111111111,\"#46039f\"],[0.2222222222222222,\"#7201a8\"],[0.3333333333333333,\"#9c179e\"],[0.4444444444444444,\"#bd3786\"],[0.5555555555555556,\"#d8576b\"],[0.6666666666666666,\"#ed7953\"],[0.7777777777777778,\"#fb9f3a\"],[0.8888888888888888,\"#fdca26\"],[1.0,\"#f0f921\"]]}],\"heatmapgl\":[{\"type\":\"heatmapgl\",\"colorbar\":{\"outlinewidth\":0,\"ticks\":\"\"},\"colorscale\":[[0.0,\"#0d0887\"],[0.1111111111111111,\"#46039f\"],[0.2222222222222222,\"#7201a8\"],[0.3333333333333333,\"#9c179e\"],[0.4444444444444444,\"#bd3786\"],[0.5555555555555556,\"#d8576b\"],[0.6666666666666666,\"#ed7953\"],[0.7777777777777778,\"#fb9f3a\"],[0.8888888888888888,\"#fdca26\"],[1.0,\"#f0f921\"]]}],\"contourcarpet\":[{\"type\":\"contourcarpet\",\"colorbar\":{\"outlinewidth\":0,\"ticks\":\"\"}}],\"contour\":[{\"type\":\"contour\",\"colorbar\":{\"outlinewidth\":0,\"ticks\":\"\"},\"colorscale\":[[0.0,\"#0d0887\"],[0.1111111111111111,\"#46039f\"],[0.2222222222222222,\"#7201a8\"],[0.3333333333333333,\"#9c179e\"],[0.4444444444444444,\"#bd3786\"],[0.5555555555555556,\"#d8576b\"],[0.6666666666666666,\"#ed7953\"],[0.7777777777777778,\"#fb9f3a\"],[0.8888888888888888,\"#fdca26\"],[1.0,\"#f0f921\"]]}],\"surface\":[{\"type\":\"surface\",\"colorbar\":{\"outlinewidth\":0,\"ticks\":\"\"},\"colorscale\":[[0.0,\"#0d0887\"],[0.1111111111111111,\"#46039f\"],[0.2222222222222222,\"#7201a8\"],[0.3333333333333333,\"#9c179e\"],[0.4444444444444444,\"#bd3786\"],[0.5555555555555556,\"#d8576b\"],[0.6666666666666666,\"#ed7953\"],[0.7777777777777778,\"#fb9f3a\"],[0.8888888888888888,\"#fdca26\"],[1.0,\"#f0f921\"]]}],\"mesh3d\":[{\"type\":\"mesh3d\",\"colorbar\":{\"outlinewidth\":0,\"ticks\":\"\"}}],\"scatter\":[{\"fillpattern\":{\"fillmode\":\"overlay\",\"size\":10,\"solidity\":0.2},\"type\":\"scatter\"}],\"parcoords\":[{\"type\":\"parcoords\",\"line\":{\"colorbar\":{\"outlinewidth\":0,\"ticks\":\"\"}}}],\"scatterpolargl\":[{\"type\":\"scatterpolargl\",\"marker\":{\"colorbar\":{\"outlinewidth\":0,\"ticks\":\"\"}}}],\"bar\":[{\"error_x\":{\"color\":\"#2a3f5f\"},\"error_y\":{\"color\":\"#2a3f5f\"},\"marker\":{\"line\":{\"color\":\"#E5ECF6\",\"width\":0.5},\"pattern\":{\"fillmode\":\"overlay\",\"size\":10,\"solidity\":0.2}},\"type\":\"bar\"}],\"scattergeo\":[{\"type\":\"scattergeo\",\"marker\":{\"colorbar\":{\"outlinewidth\":0,\"ticks\":\"\"}}}],\"scatterpolar\":[{\"type\":\"scatterpolar\",\"marker\":{\"colorbar\":{\"outlinewidth\":0,\"ticks\":\"\"}}}],\"histogram\":[{\"marker\":{\"pattern\":{\"fillmode\":\"overlay\",\"size\":10,\"solidity\":0.2}},\"type\":\"histogram\"}],\"scattergl\":[{\"type\":\"scattergl\",\"marker\":{\"colorbar\":{\"outlinewidth\":0,\"ticks\":\"\"}}}],\"scatter3d\":[{\"type\":\"scatter3d\",\"line\":{\"colorbar\":{\"outlinewidth\":0,\"ticks\":\"\"}},\"marker\":{\"colorbar\":{\"outlinewidth\":0,\"ticks\":\"\"}}}],\"scattermapbox\":[{\"type\":\"scattermapbox\",\"marker\":{\"colorbar\":{\"outlinewidth\":0,\"ticks\":\"\"}}}],\"scatterternary\":[{\"type\":\"scatterternary\",\"marker\":{\"colorbar\":{\"outlinewidth\":0,\"ticks\":\"\"}}}],\"scattercarpet\":[{\"type\":\"scattercarpet\",\"marker\":{\"colorbar\":{\"outlinewidth\":0,\"ticks\":\"\"}}}],\"carpet\":[{\"aaxis\":{\"endlinecolor\":\"#2a3f5f\",\"gridcolor\":\"white\",\"linecolor\":\"white\",\"minorgridcolor\":\"white\",\"startlinecolor\":\"#2a3f5f\"},\"baxis\":{\"endlinecolor\":\"#2a3f5f\",\"gridcolor\":\"white\",\"linecolor\":\"white\",\"minorgridcolor\":\"white\",\"startlinecolor\":\"#2a3f5f\"},\"type\":\"carpet\"}],\"table\":[{\"cells\":{\"fill\":{\"color\":\"#EBF0F8\"},\"line\":{\"color\":\"white\"}},\"header\":{\"fill\":{\"color\":\"#C8D4E3\"},\"line\":{\"color\":\"white\"}},\"type\":\"table\"}],\"barpolar\":[{\"marker\":{\"line\":{\"color\":\"#E5ECF6\",\"width\":0.5},\"pattern\":{\"fillmode\":\"overlay\",\"size\":10,\"solidity\":0.2}},\"type\":\"barpolar\"}],\"pie\":[{\"automargin\":true,\"type\":\"pie\"}]},\"layout\":{\"autotypenumbers\":\"strict\",\"colorway\":[\"#636efa\",\"#EF553B\",\"#00cc96\",\"#ab63fa\",\"#FFA15A\",\"#19d3f3\",\"#FF6692\",\"#B6E880\",\"#FF97FF\",\"#FECB52\"],\"font\":{\"color\":\"#2a3f5f\"},\"hovermode\":\"closest\",\"hoverlabel\":{\"align\":\"left\"},\"paper_bgcolor\":\"white\",\"plot_bgcolor\":\"#E5ECF6\",\"polar\":{\"bgcolor\":\"#E5ECF6\",\"angularaxis\":{\"gridcolor\":\"white\",\"linecolor\":\"white\",\"ticks\":\"\"},\"radialaxis\":{\"gridcolor\":\"white\",\"linecolor\":\"white\",\"ticks\":\"\"}},\"ternary\":{\"bgcolor\":\"#E5ECF6\",\"aaxis\":{\"gridcolor\":\"white\",\"linecolor\":\"white\",\"ticks\":\"\"},\"baxis\":{\"gridcolor\":\"white\",\"linecolor\":\"white\",\"ticks\":\"\"},\"caxis\":{\"gridcolor\":\"white\",\"linecolor\":\"white\",\"ticks\":\"\"}},\"coloraxis\":{\"colorbar\":{\"outlinewidth\":0,\"ticks\":\"\"}},\"colorscale\":{\"sequential\":[[0.0,\"#0d0887\"],[0.1111111111111111,\"#46039f\"],[0.2222222222222222,\"#7201a8\"],[0.3333333333333333,\"#9c179e\"],[0.4444444444444444,\"#bd3786\"],[0.5555555555555556,\"#d8576b\"],[0.6666666666666666,\"#ed7953\"],[0.7777777777777778,\"#fb9f3a\"],[0.8888888888888888,\"#fdca26\"],[1.0,\"#f0f921\"]],\"sequentialminus\":[[0.0,\"#0d0887\"],[0.1111111111111111,\"#46039f\"],[0.2222222222222222,\"#7201a8\"],[0.3333333333333333,\"#9c179e\"],[0.4444444444444444,\"#bd3786\"],[0.5555555555555556,\"#d8576b\"],[0.6666666666666666,\"#ed7953\"],[0.7777777777777778,\"#fb9f3a\"],[0.8888888888888888,\"#fdca26\"],[1.0,\"#f0f921\"]],\"diverging\":[[0,\"#8e0152\"],[0.1,\"#c51b7d\"],[0.2,\"#de77ae\"],[0.3,\"#f1b6da\"],[0.4,\"#fde0ef\"],[0.5,\"#f7f7f7\"],[0.6,\"#e6f5d0\"],[0.7,\"#b8e186\"],[0.8,\"#7fbc41\"],[0.9,\"#4d9221\"],[1,\"#276419\"]]},\"xaxis\":{\"gridcolor\":\"white\",\"linecolor\":\"white\",\"ticks\":\"\",\"title\":{\"standoff\":15},\"zerolinecolor\":\"white\",\"automargin\":true,\"zerolinewidth\":2},\"yaxis\":{\"gridcolor\":\"white\",\"linecolor\":\"white\",\"ticks\":\"\",\"title\":{\"standoff\":15},\"zerolinecolor\":\"white\",\"automargin\":true,\"zerolinewidth\":2},\"scene\":{\"xaxis\":{\"backgroundcolor\":\"#E5ECF6\",\"gridcolor\":\"white\",\"linecolor\":\"white\",\"showbackground\":true,\"ticks\":\"\",\"zerolinecolor\":\"white\",\"gridwidth\":2},\"yaxis\":{\"backgroundcolor\":\"#E5ECF6\",\"gridcolor\":\"white\",\"linecolor\":\"white\",\"showbackground\":true,\"ticks\":\"\",\"zerolinecolor\":\"white\",\"gridwidth\":2},\"zaxis\":{\"backgroundcolor\":\"#E5ECF6\",\"gridcolor\":\"white\",\"linecolor\":\"white\",\"showbackground\":true,\"ticks\":\"\",\"zerolinecolor\":\"white\",\"gridwidth\":2}},\"shapedefaults\":{\"line\":{\"color\":\"#2a3f5f\"}},\"annotationdefaults\":{\"arrowcolor\":\"#2a3f5f\",\"arrowhead\":0,\"arrowwidth\":1},\"geo\":{\"bgcolor\":\"white\",\"landcolor\":\"#E5ECF6\",\"subunitcolor\":\"white\",\"showland\":true,\"showlakes\":true,\"lakecolor\":\"white\"},\"title\":{\"x\":0.05},\"mapbox\":{\"style\":\"light\"}}},\"xaxis\":{\"tickangle\":-45},\"title\":{\"text\":\"Percentage comparison of the most frequent words in enhancement and task types\"},\"barmode\":\"group\"},                        {\"responsive\": true}                    ).then(function(){\n",
       "                            \n",
       "var gd = document.getElementById('619a5301-c669-4fa9-a6af-3a3c01ec19a5');\n",
       "var x = new MutationObserver(function (mutations, observer) {{\n",
       "        var display = window.getComputedStyle(gd).display;\n",
       "        if (!display || display === 'none') {{\n",
       "            console.log([gd, 'removed!']);\n",
       "            Plotly.purge(gd);\n",
       "            observer.disconnect();\n",
       "        }}\n",
       "}});\n",
       "\n",
       "// Listen for the removal of the full notebook cells\n",
       "var notebookContainer = gd.closest('#notebook-container');\n",
       "if (notebookContainer) {{\n",
       "    x.observe(notebookContainer, {childList: true});\n",
       "}}\n",
       "\n",
       "// Listen for the clearing of the current output cell\n",
       "var outputEl = gd.closest('.output');\n",
       "if (outputEl) {{\n",
       "    x.observe(outputEl, {childList: true});\n",
       "}}\n",
       "\n",
       "                        })                };                });            </script>        </div>"
      ]
     },
     "metadata": {},
     "output_type": "display_data"
    }
   ],
   "source": [
    "merged_df_sample = merged_df[:n]\n",
    "fig = go.Figure(data=[\n",
    "    go.Bar(name='Enhancement', x=merged_df_sample.words, y=merged_df_sample.freq_enh, text=merged_df_sample.freq_enh, marker_color='#BA0F30'),\n",
    "    go.Bar(name='Task', x=merged_df_sample.words, y=merged_df_sample.freq_task, text=merged_df_sample.freq_task, marker_color='#98D7C2')\n",
    "])\n",
    "\n",
    "\n",
    "fig.update_xaxes(tickangle= -45)  \n",
    "fig.update_traces(\n",
    "    texttemplate='%{text:.2f}', textposition='outside',\n",
    "     textfont_size=8)\n",
    "\n",
    "# Change the bar mode\n",
    "fig.update_layout(barmode='group', title_text='Percentage comparison of the most frequent words in enhancement and task types')\n",
    "fig.show()"
   ]
  },
  {
   "cell_type": "code",
   "execution_count": null,
   "metadata": {},
   "outputs": [],
   "source": []
  },
  {
   "cell_type": "code",
   "execution_count": null,
   "metadata": {},
   "outputs": [],
   "source": []
  },
  {
   "cell_type": "code",
   "execution_count": 100,
   "metadata": {},
   "outputs": [
    {
     "data": {
      "text/html": [
       "<div>\n",
       "<style scoped>\n",
       "    .dataframe tbody tr th:only-of-type {\n",
       "        vertical-align: middle;\n",
       "    }\n",
       "\n",
       "    .dataframe tbody tr th {\n",
       "        vertical-align: top;\n",
       "    }\n",
       "\n",
       "    .dataframe thead th {\n",
       "        text-align: right;\n",
       "    }\n",
       "</style>\n",
       "<table border=\"1\" class=\"dataframe\">\n",
       "  <thead>\n",
       "    <tr style=\"text-align: right;\">\n",
       "      <th></th>\n",
       "      <th>classification</th>\n",
       "      <th>component</th>\n",
       "      <th>platform</th>\n",
       "      <th>assigned_to</th>\n",
       "      <th>summary</th>\n",
       "      <th>id</th>\n",
       "      <th>status</th>\n",
       "      <th>is_confirmed</th>\n",
       "      <th>votes</th>\n",
       "      <th>severity</th>\n",
       "      <th>keywords</th>\n",
       "      <th>priority</th>\n",
       "      <th>creator</th>\n",
       "      <th>type</th>\n",
       "      <th>summary_tokens_list</th>\n",
       "      <th>cleaned_word_list</th>\n",
       "    </tr>\n",
       "  </thead>\n",
       "  <tbody>\n",
       "    <tr>\n",
       "      <th>0</th>\n",
       "      <td>Components</td>\n",
       "      <td>Networking: HTTP</td>\n",
       "      <td>All</td>\n",
       "      <td>nobody@mozilla.org</td>\n",
       "      <td>Proxy: map HTTP 500 errors to necko errors (so...</td>\n",
       "      <td>2875</td>\n",
       "      <td>NEW</td>\n",
       "      <td>True</td>\n",
       "      <td>13</td>\n",
       "      <td>normal</td>\n",
       "      <td>[]</td>\n",
       "      <td>P3</td>\n",
       "      <td>erik@vanderpoel.org</td>\n",
       "      <td>enhancement</td>\n",
       "      <td>[Proxy, :, map, HTTP, 500, errors, to, necko, ...</td>\n",
       "      <td>[proxy, map, http, 500, errors, necko, errors,...</td>\n",
       "    </tr>\n",
       "    <tr>\n",
       "      <th>1</th>\n",
       "      <td>Components</td>\n",
       "      <td>LDAP Integration</td>\n",
       "      <td>All</td>\n",
       "      <td>nobody@mozilla.org</td>\n",
       "      <td>[LDAP] Access to a local LDAP server in Off-Li...</td>\n",
       "      <td>2892</td>\n",
       "      <td>NEW</td>\n",
       "      <td>True</td>\n",
       "      <td>4</td>\n",
       "      <td>normal</td>\n",
       "      <td>['helpwanted']</td>\n",
       "      <td>--</td>\n",
       "      <td>lchiang@formerly-netscape.com.tld</td>\n",
       "      <td>enhancement</td>\n",
       "      <td>[[, LDAP, ], Access, to, a, local, LDAP, serve...</td>\n",
       "      <td>[[, ldap, ], access, local, ldap, server, off-...</td>\n",
       "    </tr>\n",
       "    <tr>\n",
       "      <th>2</th>\n",
       "      <td>Components</td>\n",
       "      <td>Composition</td>\n",
       "      <td>All</td>\n",
       "      <td>nobody@mozilla.org</td>\n",
       "      <td>Warnings for USENET etiquette errors required ...</td>\n",
       "      <td>3746</td>\n",
       "      <td>NEW</td>\n",
       "      <td>True</td>\n",
       "      <td>10</td>\n",
       "      <td>normal</td>\n",
       "      <td>['helpwanted']</td>\n",
       "      <td>P5</td>\n",
       "      <td>phil@formerly-netscape.com.tld</td>\n",
       "      <td>enhancement</td>\n",
       "      <td>[Warnings, for, USENET, etiquette, errors, req...</td>\n",
       "      <td>[warnings, usenet, etiquette, errors, required...</td>\n",
       "    </tr>\n",
       "    <tr>\n",
       "      <th>3</th>\n",
       "      <td>Components</td>\n",
       "      <td>MIME</td>\n",
       "      <td>All</td>\n",
       "      <td>ben.bucksch@beonex.com</td>\n",
       "      <td>URL linkifying code should cross linebreaks [l...</td>\n",
       "      <td>5351</td>\n",
       "      <td>NEW</td>\n",
       "      <td>True</td>\n",
       "      <td>20</td>\n",
       "      <td>normal</td>\n",
       "      <td>[]</td>\n",
       "      <td>--</td>\n",
       "      <td>phil@formerly-netscape.com.tld</td>\n",
       "      <td>enhancement</td>\n",
       "      <td>[URL, linkifying, code, should, cross, linebre...</td>\n",
       "      <td>[url, linkifying, code, cross, linebreaks, [, ...</td>\n",
       "    </tr>\n",
       "    <tr>\n",
       "      <th>4</th>\n",
       "      <td>Client Software</td>\n",
       "      <td>Bookmarks &amp; History</td>\n",
       "      <td>All</td>\n",
       "      <td>nobody@mozilla.org</td>\n",
       "      <td>Automatically update bookmarks when sites move...</td>\n",
       "      <td>8648</td>\n",
       "      <td>NEW</td>\n",
       "      <td>True</td>\n",
       "      <td>47</td>\n",
       "      <td>normal</td>\n",
       "      <td>['helpwanted']</td>\n",
       "      <td>--</td>\n",
       "      <td>matty_is_a_geek@fastmail.fm</td>\n",
       "      <td>enhancement</td>\n",
       "      <td>[Automatically, update, bookmarks, when, sites...</td>\n",
       "      <td>[automatically, update, bookmarks, sites, move...</td>\n",
       "    </tr>\n",
       "  </tbody>\n",
       "</table>\n",
       "</div>"
      ],
      "text/plain": [
       "    classification            component platform             assigned_to  \\\n",
       "0       Components     Networking: HTTP      All      nobody@mozilla.org   \n",
       "1       Components     LDAP Integration      All      nobody@mozilla.org   \n",
       "2       Components          Composition      All      nobody@mozilla.org   \n",
       "3       Components                 MIME      All  ben.bucksch@beonex.com   \n",
       "4  Client Software  Bookmarks & History      All      nobody@mozilla.org   \n",
       "\n",
       "                                             summary    id status  \\\n",
       "0  Proxy: map HTTP 500 errors to necko errors (so...  2875    NEW   \n",
       "1  [LDAP] Access to a local LDAP server in Off-Li...  2892    NEW   \n",
       "2  Warnings for USENET etiquette errors required ...  3746    NEW   \n",
       "3  URL linkifying code should cross linebreaks [l...  5351    NEW   \n",
       "4  Automatically update bookmarks when sites move...  8648    NEW   \n",
       "\n",
       "   is_confirmed  votes severity        keywords priority  \\\n",
       "0          True     13   normal              []       P3   \n",
       "1          True      4   normal  ['helpwanted']       --   \n",
       "2          True     10   normal  ['helpwanted']       P5   \n",
       "3          True     20   normal              []       --   \n",
       "4          True     47   normal  ['helpwanted']       --   \n",
       "\n",
       "                             creator         type  \\\n",
       "0                erik@vanderpoel.org  enhancement   \n",
       "1  lchiang@formerly-netscape.com.tld  enhancement   \n",
       "2     phil@formerly-netscape.com.tld  enhancement   \n",
       "3     phil@formerly-netscape.com.tld  enhancement   \n",
       "4        matty_is_a_geek@fastmail.fm  enhancement   \n",
       "\n",
       "                                 summary_tokens_list  \\\n",
       "0  [Proxy, :, map, HTTP, 500, errors, to, necko, ...   \n",
       "1  [[, LDAP, ], Access, to, a, local, LDAP, serve...   \n",
       "2  [Warnings, for, USENET, etiquette, errors, req...   \n",
       "3  [URL, linkifying, code, should, cross, linebre...   \n",
       "4  [Automatically, update, bookmarks, when, sites...   \n",
       "\n",
       "                                   cleaned_word_list  \n",
       "0  [proxy, map, http, 500, errors, necko, errors,...  \n",
       "1  [[, ldap, ], access, local, ldap, server, off-...  \n",
       "2  [warnings, usenet, etiquette, errors, required...  \n",
       "3  [url, linkifying, code, cross, linebreaks, [, ...  \n",
       "4  [automatically, update, bookmarks, sites, move...  "
      ]
     },
     "execution_count": 100,
     "metadata": {},
     "output_type": "execute_result"
    }
   ],
   "source": [
    "df.head()"
   ]
  },
  {
   "cell_type": "code",
   "execution_count": null,
   "metadata": {},
   "outputs": [],
   "source": []
  },
  {
   "cell_type": "code",
   "execution_count": null,
   "metadata": {},
   "outputs": [],
   "source": []
  },
  {
   "cell_type": "code",
   "execution_count": 195,
   "metadata": {},
   "outputs": [
    {
     "data": {
      "text/html": [
       "<div>\n",
       "<style scoped>\n",
       "    .dataframe tbody tr th:only-of-type {\n",
       "        vertical-align: middle;\n",
       "    }\n",
       "\n",
       "    .dataframe tbody tr th {\n",
       "        vertical-align: top;\n",
       "    }\n",
       "\n",
       "    .dataframe thead th {\n",
       "        text-align: right;\n",
       "    }\n",
       "</style>\n",
       "<table border=\"1\" class=\"dataframe\">\n",
       "  <thead>\n",
       "    <tr style=\"text-align: right;\">\n",
       "      <th></th>\n",
       "      <th>classification</th>\n",
       "      <th>component</th>\n",
       "      <th>platform</th>\n",
       "      <th>assigned_to</th>\n",
       "      <th>summary</th>\n",
       "      <th>id</th>\n",
       "      <th>status</th>\n",
       "      <th>is_confirmed</th>\n",
       "      <th>votes</th>\n",
       "      <th>severity</th>\n",
       "      <th>keywords</th>\n",
       "      <th>priority</th>\n",
       "      <th>creator</th>\n",
       "      <th>type</th>\n",
       "      <th>summary_tokens_list</th>\n",
       "      <th>cleaned_word_list</th>\n",
       "      <th>cleaned_text</th>\n",
       "    </tr>\n",
       "  </thead>\n",
       "  <tbody>\n",
       "    <tr>\n",
       "      <th>0</th>\n",
       "      <td>Components</td>\n",
       "      <td>Networking: HTTP</td>\n",
       "      <td>All</td>\n",
       "      <td>nobody@mozilla.org</td>\n",
       "      <td>Proxy: map HTTP 500 errors to necko errors (so...</td>\n",
       "      <td>2875</td>\n",
       "      <td>NEW</td>\n",
       "      <td>True</td>\n",
       "      <td>13</td>\n",
       "      <td>normal</td>\n",
       "      <td>[]</td>\n",
       "      <td>P3</td>\n",
       "      <td>erik@vanderpoel.org</td>\n",
       "      <td>enhancement</td>\n",
       "      <td>[Proxy, :, map, HTTP, 500, errors, to, necko, ...</td>\n",
       "      <td>[proxy, map, http, errors, necko, errors, inte...</td>\n",
       "      <td>proxy map http errors necko errors internet ke...</td>\n",
       "    </tr>\n",
       "  </tbody>\n",
       "</table>\n",
       "</div>"
      ],
      "text/plain": [
       "  classification         component platform         assigned_to  \\\n",
       "0     Components  Networking: HTTP      All  nobody@mozilla.org   \n",
       "\n",
       "                                             summary    id status  \\\n",
       "0  Proxy: map HTTP 500 errors to necko errors (so...  2875    NEW   \n",
       "\n",
       "   is_confirmed  votes severity keywords priority              creator  \\\n",
       "0          True     13   normal       []       P3  erik@vanderpoel.org   \n",
       "\n",
       "          type                                summary_tokens_list  \\\n",
       "0  enhancement  [Proxy, :, map, HTTP, 500, errors, to, necko, ...   \n",
       "\n",
       "                                   cleaned_word_list  \\\n",
       "0  [proxy, map, http, errors, necko, errors, inte...   \n",
       "\n",
       "                                        cleaned_text  \n",
       "0  proxy map http errors necko errors internet ke...  "
      ]
     },
     "execution_count": 195,
     "metadata": {},
     "output_type": "execute_result"
    }
   ],
   "source": [
    "df.head(1)"
   ]
  },
  {
   "cell_type": "code",
   "execution_count": null,
   "metadata": {},
   "outputs": [],
   "source": []
  },
  {
   "cell_type": "code",
   "execution_count": null,
   "metadata": {},
   "outputs": [],
   "source": []
  },
  {
   "cell_type": "code",
   "execution_count": null,
   "metadata": {},
   "outputs": [],
   "source": []
  },
  {
   "cell_type": "markdown",
   "metadata": {},
   "source": [
    "### Classification technique introduction"
   ]
  },
  {
   "cell_type": "markdown",
   "metadata": {},
   "source": [
    "Step .1 Preparing the input"
   ]
  },
  {
   "cell_type": "markdown",
   "metadata": {},
   "source": [
    "\"Term Frequency — Inverse Document Frequency\" is referred to as \"TF-IDF\". This method first, counts the number of words in a collection of documents. Then, count the number of documents that contain this word. Each word is typically given a score to indicate how important it is to the document and corpus. We frequently use TFIDF vectors to classify, rank, or cluster documents or evaluate words and topics.\n",
    "\n",
    "\n",
    "\n",
    "* t — term (word)\n",
    "* d — document (set of words)\n",
    "* N — count of corpus\n",
    "* corpus — the total document set"
   ]
  },
  {
   "cell_type": "markdown",
   "metadata": {},
   "source": [
    "`TF-IDF = Term Frequency (TF) * Inverse Document Frequency (IDF)`"
   ]
  },
  {
   "cell_type": "markdown",
   "metadata": {},
   "source": [
    "`tf(t,d) = count of t in d / number of words in d`\n",
    "\n",
    "`df(t) = occurrence of t in N documents`"
   ]
  },
  {
   "cell_type": "markdown",
   "metadata": {},
   "source": [
    "For instance, a word like \"is,\" which is quite common, may appear several times in a document. So, to prevent words such as stop words have high scores and determinant factors, we perform normalization on the frequency value. We divide the frequency with the total number of words in the document."
   ]
  },
  {
   "cell_type": "code",
   "execution_count": null,
   "metadata": {},
   "outputs": [],
   "source": [
    "tf_idf = TfidfVectorizer()\n",
    "\n",
    "#applying tf idf to training data\n",
    "X = tf_idf.fit_transform(df.loc[:, 'cleaned_text'])"
   ]
  },
  {
   "cell_type": "code",
   "execution_count": null,
   "metadata": {},
   "outputs": [],
   "source": []
  },
  {
   "cell_type": "markdown",
   "metadata": {},
   "source": [
    "Step 2. Creating a model that uses the vectors to classify text\n"
   ]
  },
  {
   "cell_type": "code",
   "execution_count": null,
   "metadata": {},
   "outputs": [],
   "source": [
    "from sklearn.naive_bayes import GaussianNB\n",
    "\n",
    "nb = GaussianNB()\n",
    "\n",
    "transformed_data, words = get_tfidf_words_and_array(df.loc[:, 'cleaned_text'])\n",
    "y = df.loc[:, 'type']"
   ]
  },
  {
   "cell_type": "code",
   "execution_count": null,
   "metadata": {},
   "outputs": [
    {
     "data": {
      "text/plain": [
       "array([0.65836299, 0.67544484, 0.6569395 ])"
      ]
     },
     "metadata": {},
     "output_type": "display_data"
    }
   ],
   "source": [
    "scores = cross_val_score(nb, transformed_data, y, cv=3)\n",
    "scores"
   ]
  },
  {
   "cell_type": "code",
   "execution_count": null,
   "metadata": {},
   "outputs": [
    {
     "data": {
      "text/plain": [
       "array([0.78007117, 0.78647687, 0.78576512])"
      ]
     },
     "metadata": {},
     "output_type": "display_data"
    }
   ],
   "source": [
    "from sklearn.ensemble import RandomForestClassifier\n",
    "random_forest = RandomForestClassifier()\n",
    "scores = cross_val_score(random_forest, transformed_data, y, cv=3)\n",
    "scores"
   ]
  },
  {
   "cell_type": "code",
   "execution_count": null,
   "metadata": {},
   "outputs": [],
   "source": []
  },
  {
   "cell_type": "code",
   "execution_count": null,
   "metadata": {},
   "outputs": [],
   "source": []
  },
  {
   "cell_type": "code",
   "execution_count": null,
   "metadata": {},
   "outputs": [],
   "source": []
  }
 ],
 "metadata": {
  "kernelspec": {
   "display_name": "Python 3.9.7 ('base')",
   "language": "python",
   "name": "python3"
  },
  "language_info": {
   "codemirror_mode": {
    "name": "ipython",
    "version": 3
   },
   "file_extension": ".py",
   "mimetype": "text/x-python",
   "name": "python",
   "nbconvert_exporter": "python",
   "pygments_lexer": "ipython3",
   "version": "3.9.7"
  },
  "orig_nbformat": 4,
  "vscode": {
   "interpreter": {
    "hash": "adfccd5c958d70cd78f22c942a5f90dd259f52bf203482d766a0ca6ec5e2e798"
   }
  }
 },
 "nbformat": 4,
 "nbformat_minor": 2
}
