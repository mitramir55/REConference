{
 "cells": [
  {
   "cell_type": "markdown",
   "metadata": {},
   "source": [
    "## Overview of the Course"
   ]
  },
  {
   "cell_type": "markdown",
   "metadata": {},
   "source": [
    "Here is a brief overall view of the tutorial:\n",
    "\n",
    "![image](\"REConference/Tutorial/3 Preprocessing - Mitra/course.png\")\n",
    "\n"
   ]
  },
  {
   "cell_type": "code",
   "execution_count": 25,
   "metadata": {},
   "outputs": [
    {
     "name": "stderr",
     "output_type": "stream",
     "text": [
      "[nltk_data] Downloading package stopwords to\n",
      "[nltk_data]     C:\\Users\\mitra\\AppData\\Roaming\\nltk_data...\n",
      "[nltk_data]   Package stopwords is already up-to-date!\n",
      "[nltk_data] Downloading package punkt to\n",
      "[nltk_data]     C:\\Users\\mitra\\AppData\\Roaming\\nltk_data...\n",
      "[nltk_data]   Package punkt is already up-to-date!\n"
     ]
    },
    {
     "data": {
      "text/html": [
       "        <script type=\"text/javascript\">\n",
       "        window.PlotlyConfig = {MathJaxConfig: 'local'};\n",
       "        if (window.MathJax && window.MathJax.Hub && window.MathJax.Hub.Config) {window.MathJax.Hub.Config({SVG: {font: \"STIX-Web\"}});}\n",
       "        if (typeof require !== 'undefined') {\n",
       "        require.undef(\"plotly\");\n",
       "        requirejs.config({\n",
       "            paths: {\n",
       "                'plotly': ['https://cdn.plot.ly/plotly-2.12.1.min']\n",
       "            }\n",
       "        });\n",
       "        require(['plotly'], function(Plotly) {\n",
       "            window._Plotly = Plotly;\n",
       "        });\n",
       "        }\n",
       "        </script>\n",
       "        "
      ]
     },
     "metadata": {},
     "output_type": "display_data"
    }
   ],
   "source": [
    "import pandas as pd\n",
    "import numpy as np\n",
    "\n",
    "# for handling text\n",
    "import nltk\n",
    "%matplotlib inline\n",
    "import sklearn\n",
    "import regex as re\n",
    "nltk.download('stopwords')\n",
    "nltk.download('punkt')\n",
    "from nltk.corpus import stopwords\n",
    "from nltk.tokenize import word_tokenize\n",
    "import time\n",
    "from termcolor import colored\n",
    "\n",
    "# for plots\n",
    "import plotly.offline as py\n",
    "py.init_notebook_mode(connected=True)\n",
    "import plotly.graph_objs as go\n",
    "import plotly.tools as tls\n",
    "import plotly.express as px\n",
    "%matplotlib inline\n",
    "\n",
    "# for model creation\n",
    "from sklearn.feature_extraction.text import TfidfVectorizer\n",
    "from sklearn.model_selection import cross_val_score\n",
    "\n",
    "# we specify for the columns to be shown all together without truncation\n",
    "pd.set_option('display.max_columns', None)\n",
    "\n",
    "# Row\n",
    "pd.set_option('display.max_rows', 10)\n",
    "\n",
    "# path to the data\n",
    "ALLData_FILE_PATH = r\"D:\\Dr. Desh\\REConference\\Tutorial\\3 Preprocessing - Mitra\\AllData.csv\""
   ]
  },
  {
   "cell_type": "markdown",
   "metadata": {},
   "source": [
    "### Import the file"
   ]
  },
  {
   "cell_type": "code",
   "execution_count": 26,
   "metadata": {},
   "outputs": [
    {
     "name": "stderr",
     "output_type": "stream",
     "text": [
      "c:\\Users\\mitra\\anaconda3\\lib\\site-packages\\IPython\\core\\interactiveshell.py:3444: DtypeWarning:\n",
      "\n",
      "Columns (7,8,9,10,11,13,16,18,19,26,27,28,30,31,32,33,34,35,36,37,38,39,40,41,42,43,44,45,46,47,48,49,50,51,52,53,54,55,56,57,58,59,60,61,62,63,64,65,66,70,73,74,75,76,77,78,79,80,81,82,83,84,85,86,87,88,89,90,91,92,93,96,98,99,101,102,103,104,105,106,107,108,109,110,111,112,115,116,117,118,119,120,121,122,123,124,125,126,127,128,129,130,131,132,139,140,145,146,147,148,149,150,151,152,153,154,155,156,169) have mixed types.Specify dtype option on import or set low_memory=False.\n",
      "\n"
     ]
    },
    {
     "data": {
      "text/html": [
       "<div>\n",
       "<style scoped>\n",
       "    .dataframe tbody tr th:only-of-type {\n",
       "        vertical-align: middle;\n",
       "    }\n",
       "\n",
       "    .dataframe tbody tr th {\n",
       "        vertical-align: top;\n",
       "    }\n",
       "\n",
       "    .dataframe thead th {\n",
       "        text-align: right;\n",
       "    }\n",
       "</style>\n",
       "<table border=\"1\" class=\"dataframe\">\n",
       "  <thead>\n",
       "    <tr style=\"text-align: right;\">\n",
       "      <th></th>\n",
       "      <th>Unnamed: 0</th>\n",
       "      <th>alias</th>\n",
       "      <th>assigned_to</th>\n",
       "      <th>assigned_to_detail</th>\n",
       "      <th>blocks</th>\n",
       "      <th>cc</th>\n",
       "      <th>cc_detail</th>\n",
       "      <th>cf_backlog</th>\n",
       "      <th>cf_blocking_20</th>\n",
       "      <th>cf_blocking_fennec</th>\n",
       "      <th>cf_blocking_seamonkey21</th>\n",
       "      <th>cf_blocking_thunderbird31</th>\n",
       "      <th>cf_blocking_webextensions</th>\n",
       "      <th>cf_bmo_component_move</th>\n",
       "      <th>cf_cab_review</th>\n",
       "      <th>cf_colo_site</th>\n",
       "      <th>cf_crash_signature</th>\n",
       "      <th>cf_data_science_status</th>\n",
       "      <th>cf_due_date</th>\n",
       "      <th>cf_firefox_messaging_system</th>\n",
       "      <th>cf_fission_milestone</th>\n",
       "      <th>cf_fx_iteration</th>\n",
       "      <th>cf_fx_points</th>\n",
       "      <th>cf_has_regression_range</th>\n",
       "      <th>cf_has_str</th>\n",
       "      <th>cf_last_resolved</th>\n",
       "      <th>cf_locale</th>\n",
       "      <th>cf_platform_rel</th>\n",
       "      <th>cf_qa_whiteboard</th>\n",
       "      <th>cf_rank</th>\n",
       "      <th>cf_status_conduit_push</th>\n",
       "      <th>cf_status_firefox25</th>\n",
       "      <th>cf_status_firefox26</th>\n",
       "      <th>cf_status_firefox27</th>\n",
       "      <th>cf_status_firefox28</th>\n",
       "      <th>cf_status_firefox29</th>\n",
       "      <th>cf_status_firefox33</th>\n",
       "      <th>cf_status_firefox34</th>\n",
       "      <th>cf_status_firefox40</th>\n",
       "      <th>cf_status_firefox41</th>\n",
       "      <th>cf_status_firefox42</th>\n",
       "      <th>cf_status_firefox43</th>\n",
       "      <th>cf_status_firefox44</th>\n",
       "      <th>cf_status_firefox45</th>\n",
       "      <th>cf_status_firefox46</th>\n",
       "      <th>cf_status_firefox47</th>\n",
       "      <th>cf_status_firefox48</th>\n",
       "      <th>cf_status_firefox49</th>\n",
       "      <th>cf_status_firefox50</th>\n",
       "      <th>cf_status_firefox51</th>\n",
       "      <th>cf_status_firefox52</th>\n",
       "      <th>cf_status_firefox53</th>\n",
       "      <th>cf_status_firefox54</th>\n",
       "      <th>cf_status_firefox55</th>\n",
       "      <th>cf_status_firefox56</th>\n",
       "      <th>cf_status_firefox57</th>\n",
       "      <th>cf_status_firefox58</th>\n",
       "      <th>cf_status_firefox59</th>\n",
       "      <th>cf_status_firefox60</th>\n",
       "      <th>cf_status_firefox61</th>\n",
       "      <th>cf_status_firefox62</th>\n",
       "      <th>cf_status_firefox63</th>\n",
       "      <th>cf_status_firefox64</th>\n",
       "      <th>cf_status_firefox65</th>\n",
       "      <th>cf_status_firefox66</th>\n",
       "      <th>cf_status_firefox67</th>\n",
       "      <th>cf_status_firefox67_0_1</th>\n",
       "      <th>cf_status_firefox68</th>\n",
       "      <th>cf_status_firefox69</th>\n",
       "      <th>cf_status_firefox70</th>\n",
       "      <th>cf_status_firefox_esr52</th>\n",
       "      <th>cf_status_firefox_esr60</th>\n",
       "      <th>cf_status_firefox_esr68</th>\n",
       "      <th>cf_status_fxios_v11_0</th>\n",
       "      <th>cf_status_fxios_v11_1</th>\n",
       "      <th>cf_status_fxios_v12_0</th>\n",
       "      <th>cf_status_fxios_v12_1</th>\n",
       "      <th>cf_status_fxios_v12_2</th>\n",
       "      <th>cf_status_fxios_v13_0</th>\n",
       "      <th>cf_status_fxios_v13_1</th>\n",
       "      <th>cf_status_fxios_v13_2</th>\n",
       "      <th>cf_status_fxios_v13_3</th>\n",
       "      <th>cf_status_fxios_v14_0</th>\n",
       "      <th>cf_status_fxios_v14_1</th>\n",
       "      <th>cf_status_fxios_v14_2</th>\n",
       "      <th>cf_status_fxios_v14_3</th>\n",
       "      <th>cf_status_fxios_v15_0</th>\n",
       "      <th>cf_status_fxios_v15_1</th>\n",
       "      <th>cf_status_fxios_v16_0</th>\n",
       "      <th>cf_status_geckoview62</th>\n",
       "      <th>cf_status_geckoview66</th>\n",
       "      <th>cf_status_seamonkey21</th>\n",
       "      <th>cf_status_seamonkey210</th>\n",
       "      <th>cf_status_seamonkey211</th>\n",
       "      <th>cf_status_seamonkey249</th>\n",
       "      <th>cf_status_seamonkey253</th>\n",
       "      <th>cf_status_seamonkey256</th>\n",
       "      <th>cf_status_seamonkey257esr</th>\n",
       "      <th>cf_status_seamonkey258</th>\n",
       "      <th>cf_status_seamonkey259</th>\n",
       "      <th>cf_status_seamonkey263</th>\n",
       "      <th>cf_status_thunderbird_59</th>\n",
       "      <th>cf_status_thunderbird_60</th>\n",
       "      <th>cf_status_thunderbird_61</th>\n",
       "      <th>cf_status_thunderbird_62</th>\n",
       "      <th>cf_status_thunderbird_63</th>\n",
       "      <th>cf_status_thunderbird_64</th>\n",
       "      <th>cf_status_thunderbird_65</th>\n",
       "      <th>cf_status_thunderbird_66</th>\n",
       "      <th>cf_status_thunderbird_67</th>\n",
       "      <th>cf_status_thunderbird_68</th>\n",
       "      <th>cf_status_thunderbird_69</th>\n",
       "      <th>cf_status_thunderbird_70</th>\n",
       "      <th>cf_status_thunderbird_esr60</th>\n",
       "      <th>cf_status_thunderbird_esr68</th>\n",
       "      <th>cf_tracking_bmo_push</th>\n",
       "      <th>cf_tracking_conduit_push</th>\n",
       "      <th>cf_tracking_e10s</th>\n",
       "      <th>cf_tracking_firefox30</th>\n",
       "      <th>cf_tracking_firefox31</th>\n",
       "      <th>cf_tracking_firefox45</th>\n",
       "      <th>cf_tracking_firefox46</th>\n",
       "      <th>cf_tracking_firefox47</th>\n",
       "      <th>cf_tracking_firefox50</th>\n",
       "      <th>cf_tracking_firefox51</th>\n",
       "      <th>cf_tracking_firefox52</th>\n",
       "      <th>cf_tracking_firefox53</th>\n",
       "      <th>cf_tracking_firefox61</th>\n",
       "      <th>cf_tracking_firefox63</th>\n",
       "      <th>cf_tracking_firefox64</th>\n",
       "      <th>cf_tracking_firefox65</th>\n",
       "      <th>cf_tracking_firefox66</th>\n",
       "      <th>cf_tracking_firefox67</th>\n",
       "      <th>cf_tracking_firefox68</th>\n",
       "      <th>cf_tracking_firefox69</th>\n",
       "      <th>cf_tracking_firefox70</th>\n",
       "      <th>cf_tracking_firefox_esr60</th>\n",
       "      <th>cf_tracking_firefox_esr68</th>\n",
       "      <th>cf_tracking_firefox_relnote</th>\n",
       "      <th>cf_tracking_fxios</th>\n",
       "      <th>cf_tracking_geckoview62</th>\n",
       "      <th>cf_tracking_seamonkey249</th>\n",
       "      <th>cf_tracking_seamonkey253</th>\n",
       "      <th>cf_tracking_seamonkey257esr</th>\n",
       "      <th>cf_tracking_seamonkey263</th>\n",
       "      <th>cf_tracking_thunderbird_59</th>\n",
       "      <th>cf_tracking_thunderbird_60</th>\n",
       "      <th>cf_tracking_thunderbird_61</th>\n",
       "      <th>cf_tracking_thunderbird_62</th>\n",
       "      <th>cf_tracking_thunderbird_63</th>\n",
       "      <th>cf_tracking_thunderbird_64</th>\n",
       "      <th>cf_tracking_thunderbird_65</th>\n",
       "      <th>cf_tracking_thunderbird_66</th>\n",
       "      <th>cf_tracking_thunderbird_67</th>\n",
       "      <th>cf_tracking_thunderbird_68</th>\n",
       "      <th>cf_tracking_thunderbird_69</th>\n",
       "      <th>cf_tracking_thunderbird_70</th>\n",
       "      <th>cf_tracking_thunderbird_esr60</th>\n",
       "      <th>cf_tracking_thunderbird_esr68</th>\n",
       "      <th>cf_user_story</th>\n",
       "      <th>cf_webcompat_priority</th>\n",
       "      <th>classification</th>\n",
       "      <th>comment_count</th>\n",
       "      <th>component</th>\n",
       "      <th>creation_time</th>\n",
       "      <th>creator</th>\n",
       "      <th>creator_detail</th>\n",
       "      <th>depends_on</th>\n",
       "      <th>dupe_of</th>\n",
       "      <th>duplicates</th>\n",
       "      <th>flags</th>\n",
       "      <th>groups</th>\n",
       "      <th>id</th>\n",
       "      <th>is_cc_accessible</th>\n",
       "      <th>is_confirmed</th>\n",
       "      <th>is_creator_accessible</th>\n",
       "      <th>is_open</th>\n",
       "      <th>keywords</th>\n",
       "      <th>last_change_time</th>\n",
       "      <th>mentors</th>\n",
       "      <th>mentors_detail</th>\n",
       "      <th>op_sys</th>\n",
       "      <th>platform</th>\n",
       "      <th>priority</th>\n",
       "      <th>product</th>\n",
       "      <th>qa_contact</th>\n",
       "      <th>qa_contact_detail</th>\n",
       "      <th>regressed_by</th>\n",
       "      <th>regressions</th>\n",
       "      <th>resolution</th>\n",
       "      <th>see_also</th>\n",
       "      <th>severity</th>\n",
       "      <th>status</th>\n",
       "      <th>summary</th>\n",
       "      <th>target_milestone</th>\n",
       "      <th>type</th>\n",
       "      <th>url</th>\n",
       "      <th>version</th>\n",
       "      <th>votes</th>\n",
       "      <th>whiteboard</th>\n",
       "    </tr>\n",
       "  </thead>\n",
       "  <tbody>\n",
       "    <tr>\n",
       "      <th>0</th>\n",
       "      <td>0</td>\n",
       "      <td>NaN</td>\n",
       "      <td>nobody@mozilla.org</td>\n",
       "      <td>{'email': 'nobody@mozilla.org', 'real_name': '...</td>\n",
       "      <td>10276, 104166</td>\n",
       "      <td>['amanforindia@gmail.com', 'andrewm715+bugzill...</td>\n",
       "      <td>[{'email': 'amanforindia@gmail.com', 'real_nam...</td>\n",
       "      <td>NaN</td>\n",
       "      <td>NaN</td>\n",
       "      <td>NaN</td>\n",
       "      <td>NaN</td>\n",
       "      <td>NaN</td>\n",
       "      <td>NaN</td>\n",
       "      <td>NaN</td>\n",
       "      <td>NaN</td>\n",
       "      <td>NaN</td>\n",
       "      <td>NaN</td>\n",
       "      <td>NaN</td>\n",
       "      <td>NaN</td>\n",
       "      <td>NaN</td>\n",
       "      <td>---</td>\n",
       "      <td>---</td>\n",
       "      <td>---</td>\n",
       "      <td>---</td>\n",
       "      <td>---</td>\n",
       "      <td>NaN</td>\n",
       "      <td>NaN</td>\n",
       "      <td>NaN</td>\n",
       "      <td>NaN</td>\n",
       "      <td>NaN</td>\n",
       "      <td>NaN</td>\n",
       "      <td>NaN</td>\n",
       "      <td>NaN</td>\n",
       "      <td>NaN</td>\n",
       "      <td>NaN</td>\n",
       "      <td>NaN</td>\n",
       "      <td>NaN</td>\n",
       "      <td>NaN</td>\n",
       "      <td>NaN</td>\n",
       "      <td>NaN</td>\n",
       "      <td>NaN</td>\n",
       "      <td>NaN</td>\n",
       "      <td>NaN</td>\n",
       "      <td>NaN</td>\n",
       "      <td>NaN</td>\n",
       "      <td>NaN</td>\n",
       "      <td>NaN</td>\n",
       "      <td>NaN</td>\n",
       "      <td>NaN</td>\n",
       "      <td>NaN</td>\n",
       "      <td>NaN</td>\n",
       "      <td>NaN</td>\n",
       "      <td>NaN</td>\n",
       "      <td>NaN</td>\n",
       "      <td>NaN</td>\n",
       "      <td>NaN</td>\n",
       "      <td>NaN</td>\n",
       "      <td>NaN</td>\n",
       "      <td>NaN</td>\n",
       "      <td>NaN</td>\n",
       "      <td>NaN</td>\n",
       "      <td>NaN</td>\n",
       "      <td>NaN</td>\n",
       "      <td>NaN</td>\n",
       "      <td>NaN</td>\n",
       "      <td>NaN</td>\n",
       "      <td>NaN</td>\n",
       "      <td>---</td>\n",
       "      <td>---</td>\n",
       "      <td>---</td>\n",
       "      <td>NaN</td>\n",
       "      <td>---</td>\n",
       "      <td>---</td>\n",
       "      <td>NaN</td>\n",
       "      <td>NaN</td>\n",
       "      <td>NaN</td>\n",
       "      <td>NaN</td>\n",
       "      <td>NaN</td>\n",
       "      <td>NaN</td>\n",
       "      <td>NaN</td>\n",
       "      <td>NaN</td>\n",
       "      <td>NaN</td>\n",
       "      <td>NaN</td>\n",
       "      <td>NaN</td>\n",
       "      <td>NaN</td>\n",
       "      <td>NaN</td>\n",
       "      <td>NaN</td>\n",
       "      <td>NaN</td>\n",
       "      <td>NaN</td>\n",
       "      <td>NaN</td>\n",
       "      <td>NaN</td>\n",
       "      <td>NaN</td>\n",
       "      <td>NaN</td>\n",
       "      <td>NaN</td>\n",
       "      <td>NaN</td>\n",
       "      <td>NaN</td>\n",
       "      <td>NaN</td>\n",
       "      <td>NaN</td>\n",
       "      <td>NaN</td>\n",
       "      <td>NaN</td>\n",
       "      <td>NaN</td>\n",
       "      <td>NaN</td>\n",
       "      <td>NaN</td>\n",
       "      <td>NaN</td>\n",
       "      <td>NaN</td>\n",
       "      <td>NaN</td>\n",
       "      <td>NaN</td>\n",
       "      <td>NaN</td>\n",
       "      <td>NaN</td>\n",
       "      <td>NaN</td>\n",
       "      <td>NaN</td>\n",
       "      <td>NaN</td>\n",
       "      <td>NaN</td>\n",
       "      <td>---</td>\n",
       "      <td>---</td>\n",
       "      <td>NaN</td>\n",
       "      <td>NaN</td>\n",
       "      <td>NaN</td>\n",
       "      <td>NaN</td>\n",
       "      <td>NaN</td>\n",
       "      <td>NaN</td>\n",
       "      <td>NaN</td>\n",
       "      <td>NaN</td>\n",
       "      <td>NaN</td>\n",
       "      <td>NaN</td>\n",
       "      <td>NaN</td>\n",
       "      <td>NaN</td>\n",
       "      <td>NaN</td>\n",
       "      <td>NaN</td>\n",
       "      <td>NaN</td>\n",
       "      <td>NaN</td>\n",
       "      <td>NaN</td>\n",
       "      <td>NaN</td>\n",
       "      <td>---</td>\n",
       "      <td>---</td>\n",
       "      <td>---</td>\n",
       "      <td>---</td>\n",
       "      <td>---</td>\n",
       "      <td>---</td>\n",
       "      <td>NaN</td>\n",
       "      <td>NaN</td>\n",
       "      <td>NaN</td>\n",
       "      <td>NaN</td>\n",
       "      <td>NaN</td>\n",
       "      <td>NaN</td>\n",
       "      <td>NaN</td>\n",
       "      <td>NaN</td>\n",
       "      <td>NaN</td>\n",
       "      <td>NaN</td>\n",
       "      <td>NaN</td>\n",
       "      <td>NaN</td>\n",
       "      <td>NaN</td>\n",
       "      <td>NaN</td>\n",
       "      <td>NaN</td>\n",
       "      <td>NaN</td>\n",
       "      <td>NaN</td>\n",
       "      <td>NaN</td>\n",
       "      <td>---</td>\n",
       "      <td>---</td>\n",
       "      <td>NaN</td>\n",
       "      <td>---</td>\n",
       "      <td>Components</td>\n",
       "      <td>95</td>\n",
       "      <td>Networking: HTTP</td>\n",
       "      <td>1998-04-23T14:00:00Z</td>\n",
       "      <td>erik@vanderpoel.org</td>\n",
       "      <td>{'email': 'erik@vanderpoel.org', 'real_name': ...</td>\n",
       "      <td>20400, 88217, 127872</td>\n",
       "      <td>NaN</td>\n",
       "      <td>150580, 269519, 336734, 472127, 718596, 798856</td>\n",
       "      <td>[]</td>\n",
       "      <td>[]</td>\n",
       "      <td>2875</td>\n",
       "      <td>True</td>\n",
       "      <td>True</td>\n",
       "      <td>True</td>\n",
       "      <td>True</td>\n",
       "      <td>[]</td>\n",
       "      <td>2018-11-25T22:40:53Z</td>\n",
       "      <td>[]</td>\n",
       "      <td>[]</td>\n",
       "      <td>Other</td>\n",
       "      <td>All</td>\n",
       "      <td>P3</td>\n",
       "      <td>Core</td>\n",
       "      <td>NaN</td>\n",
       "      <td>NaN</td>\n",
       "      <td>[]</td>\n",
       "      <td>[]</td>\n",
       "      <td>NaN</td>\n",
       "      <td>[]</td>\n",
       "      <td>normal</td>\n",
       "      <td>NEW</td>\n",
       "      <td>Proxy: map HTTP 500 errors to necko errors (so...</td>\n",
       "      <td>Future</td>\n",
       "      <td>enhancement</td>\n",
       "      <td>NaN</td>\n",
       "      <td>Trunk</td>\n",
       "      <td>13</td>\n",
       "      <td>[PDT-][necko-backlog]</td>\n",
       "    </tr>\n",
       "    <tr>\n",
       "      <th>1</th>\n",
       "      <td>1</td>\n",
       "      <td>NaN</td>\n",
       "      <td>nobody@mozilla.org</td>\n",
       "      <td>{'email': 'nobody@mozilla.org', 'real_name': '...</td>\n",
       "      <td>36557</td>\n",
       "      <td>['klonos@gmail.com', 'leif@ogre.com', 'martin....</td>\n",
       "      <td>[{'email': 'klonos@gmail.com', 'real_name': 'k...</td>\n",
       "      <td>NaN</td>\n",
       "      <td>NaN</td>\n",
       "      <td>NaN</td>\n",
       "      <td>NaN</td>\n",
       "      <td>NaN</td>\n",
       "      <td>NaN</td>\n",
       "      <td>NaN</td>\n",
       "      <td>NaN</td>\n",
       "      <td>NaN</td>\n",
       "      <td>NaN</td>\n",
       "      <td>NaN</td>\n",
       "      <td>NaN</td>\n",
       "      <td>NaN</td>\n",
       "      <td>NaN</td>\n",
       "      <td>---</td>\n",
       "      <td>---</td>\n",
       "      <td>NaN</td>\n",
       "      <td>NaN</td>\n",
       "      <td>NaN</td>\n",
       "      <td>NaN</td>\n",
       "      <td>NaN</td>\n",
       "      <td>NaN</td>\n",
       "      <td>NaN</td>\n",
       "      <td>NaN</td>\n",
       "      <td>NaN</td>\n",
       "      <td>NaN</td>\n",
       "      <td>NaN</td>\n",
       "      <td>NaN</td>\n",
       "      <td>NaN</td>\n",
       "      <td>NaN</td>\n",
       "      <td>NaN</td>\n",
       "      <td>NaN</td>\n",
       "      <td>NaN</td>\n",
       "      <td>NaN</td>\n",
       "      <td>NaN</td>\n",
       "      <td>NaN</td>\n",
       "      <td>NaN</td>\n",
       "      <td>NaN</td>\n",
       "      <td>NaN</td>\n",
       "      <td>NaN</td>\n",
       "      <td>NaN</td>\n",
       "      <td>NaN</td>\n",
       "      <td>NaN</td>\n",
       "      <td>NaN</td>\n",
       "      <td>NaN</td>\n",
       "      <td>NaN</td>\n",
       "      <td>NaN</td>\n",
       "      <td>NaN</td>\n",
       "      <td>NaN</td>\n",
       "      <td>NaN</td>\n",
       "      <td>NaN</td>\n",
       "      <td>NaN</td>\n",
       "      <td>NaN</td>\n",
       "      <td>NaN</td>\n",
       "      <td>NaN</td>\n",
       "      <td>NaN</td>\n",
       "      <td>NaN</td>\n",
       "      <td>NaN</td>\n",
       "      <td>NaN</td>\n",
       "      <td>NaN</td>\n",
       "      <td>NaN</td>\n",
       "      <td>NaN</td>\n",
       "      <td>NaN</td>\n",
       "      <td>NaN</td>\n",
       "      <td>NaN</td>\n",
       "      <td>NaN</td>\n",
       "      <td>NaN</td>\n",
       "      <td>NaN</td>\n",
       "      <td>NaN</td>\n",
       "      <td>NaN</td>\n",
       "      <td>NaN</td>\n",
       "      <td>NaN</td>\n",
       "      <td>NaN</td>\n",
       "      <td>NaN</td>\n",
       "      <td>NaN</td>\n",
       "      <td>NaN</td>\n",
       "      <td>NaN</td>\n",
       "      <td>NaN</td>\n",
       "      <td>NaN</td>\n",
       "      <td>NaN</td>\n",
       "      <td>NaN</td>\n",
       "      <td>NaN</td>\n",
       "      <td>NaN</td>\n",
       "      <td>NaN</td>\n",
       "      <td>NaN</td>\n",
       "      <td>NaN</td>\n",
       "      <td>NaN</td>\n",
       "      <td>---</td>\n",
       "      <td>---</td>\n",
       "      <td>NaN</td>\n",
       "      <td>---</td>\n",
       "      <td>NaN</td>\n",
       "      <td>NaN</td>\n",
       "      <td>---</td>\n",
       "      <td>NaN</td>\n",
       "      <td>---</td>\n",
       "      <td>---</td>\n",
       "      <td>---</td>\n",
       "      <td>---</td>\n",
       "      <td>---</td>\n",
       "      <td>---</td>\n",
       "      <td>---</td>\n",
       "      <td>---</td>\n",
       "      <td>---</td>\n",
       "      <td>---</td>\n",
       "      <td>---</td>\n",
       "      <td>---</td>\n",
       "      <td>---</td>\n",
       "      <td>NaN</td>\n",
       "      <td>NaN</td>\n",
       "      <td>NaN</td>\n",
       "      <td>NaN</td>\n",
       "      <td>NaN</td>\n",
       "      <td>NaN</td>\n",
       "      <td>NaN</td>\n",
       "      <td>NaN</td>\n",
       "      <td>NaN</td>\n",
       "      <td>NaN</td>\n",
       "      <td>NaN</td>\n",
       "      <td>NaN</td>\n",
       "      <td>NaN</td>\n",
       "      <td>NaN</td>\n",
       "      <td>NaN</td>\n",
       "      <td>NaN</td>\n",
       "      <td>NaN</td>\n",
       "      <td>NaN</td>\n",
       "      <td>NaN</td>\n",
       "      <td>NaN</td>\n",
       "      <td>NaN</td>\n",
       "      <td>NaN</td>\n",
       "      <td>NaN</td>\n",
       "      <td>---</td>\n",
       "      <td>NaN</td>\n",
       "      <td>NaN</td>\n",
       "      <td>---</td>\n",
       "      <td>---</td>\n",
       "      <td>---</td>\n",
       "      <td>---</td>\n",
       "      <td>NaN</td>\n",
       "      <td>---</td>\n",
       "      <td>---</td>\n",
       "      <td>---</td>\n",
       "      <td>---</td>\n",
       "      <td>---</td>\n",
       "      <td>---</td>\n",
       "      <td>---</td>\n",
       "      <td>---</td>\n",
       "      <td>---</td>\n",
       "      <td>---</td>\n",
       "      <td>---</td>\n",
       "      <td>---</td>\n",
       "      <td>---</td>\n",
       "      <td>NaN</td>\n",
       "      <td>NaN</td>\n",
       "      <td>Components</td>\n",
       "      <td>16</td>\n",
       "      <td>LDAP Integration</td>\n",
       "      <td>1999-02-04T21:59:11Z</td>\n",
       "      <td>lchiang@formerly-netscape.com.tld</td>\n",
       "      <td>{'email': 'lchiang@formerly-netscape.com.tld',...</td>\n",
       "      <td>87717</td>\n",
       "      <td>NaN</td>\n",
       "      <td>NaN</td>\n",
       "      <td>[{'modification_date': '2008-04-25T16:59:05Z',...</td>\n",
       "      <td>[]</td>\n",
       "      <td>2892</td>\n",
       "      <td>True</td>\n",
       "      <td>True</td>\n",
       "      <td>True</td>\n",
       "      <td>True</td>\n",
       "      <td>['helpwanted']</td>\n",
       "      <td>2011-08-24T23:42:38Z</td>\n",
       "      <td>[]</td>\n",
       "      <td>[]</td>\n",
       "      <td>All</td>\n",
       "      <td>All</td>\n",
       "      <td>--</td>\n",
       "      <td>MailNews Core</td>\n",
       "      <td>NaN</td>\n",
       "      <td>NaN</td>\n",
       "      <td>[]</td>\n",
       "      <td>[]</td>\n",
       "      <td>NaN</td>\n",
       "      <td>[]</td>\n",
       "      <td>normal</td>\n",
       "      <td>NEW</td>\n",
       "      <td>[LDAP] Access to a local LDAP server in Off-Li...</td>\n",
       "      <td>---</td>\n",
       "      <td>enhancement</td>\n",
       "      <td>NaN</td>\n",
       "      <td>Trunk</td>\n",
       "      <td>4</td>\n",
       "      <td>NaN</td>\n",
       "    </tr>\n",
       "  </tbody>\n",
       "</table>\n",
       "</div>"
      ],
      "text/plain": [
       "   Unnamed: 0 alias         assigned_to  \\\n",
       "0           0   NaN  nobody@mozilla.org   \n",
       "1           1   NaN  nobody@mozilla.org   \n",
       "\n",
       "                                  assigned_to_detail         blocks  \\\n",
       "0  {'email': 'nobody@mozilla.org', 'real_name': '...  10276, 104166   \n",
       "1  {'email': 'nobody@mozilla.org', 'real_name': '...          36557   \n",
       "\n",
       "                                                  cc  \\\n",
       "0  ['amanforindia@gmail.com', 'andrewm715+bugzill...   \n",
       "1  ['klonos@gmail.com', 'leif@ogre.com', 'martin....   \n",
       "\n",
       "                                           cc_detail cf_backlog  \\\n",
       "0  [{'email': 'amanforindia@gmail.com', 'real_nam...        NaN   \n",
       "1  [{'email': 'klonos@gmail.com', 'real_name': 'k...        NaN   \n",
       "\n",
       "  cf_blocking_20 cf_blocking_fennec cf_blocking_seamonkey21  \\\n",
       "0            NaN                NaN                     NaN   \n",
       "1            NaN                NaN                     NaN   \n",
       "\n",
       "  cf_blocking_thunderbird31 cf_blocking_webextensions cf_bmo_component_move  \\\n",
       "0                       NaN                       NaN                   NaN   \n",
       "1                       NaN                       NaN                   NaN   \n",
       "\n",
       "  cf_cab_review cf_colo_site cf_crash_signature cf_data_science_status  \\\n",
       "0           NaN          NaN                NaN                    NaN   \n",
       "1           NaN          NaN                NaN                    NaN   \n",
       "\n",
       "  cf_due_date cf_firefox_messaging_system cf_fission_milestone  \\\n",
       "0         NaN                         NaN                  ---   \n",
       "1         NaN                         NaN                  NaN   \n",
       "\n",
       "  cf_fx_iteration cf_fx_points cf_has_regression_range cf_has_str  \\\n",
       "0             ---          ---                     ---        ---   \n",
       "1             ---          ---                     NaN        NaN   \n",
       "\n",
       "  cf_last_resolved cf_locale cf_platform_rel cf_qa_whiteboard  cf_rank  \\\n",
       "0              NaN       NaN             NaN              NaN      NaN   \n",
       "1              NaN       NaN             NaN              NaN      NaN   \n",
       "\n",
       "  cf_status_conduit_push cf_status_firefox25 cf_status_firefox26  \\\n",
       "0                    NaN                 NaN                 NaN   \n",
       "1                    NaN                 NaN                 NaN   \n",
       "\n",
       "  cf_status_firefox27 cf_status_firefox28 cf_status_firefox29  \\\n",
       "0                 NaN                 NaN                 NaN   \n",
       "1                 NaN                 NaN                 NaN   \n",
       "\n",
       "  cf_status_firefox33 cf_status_firefox34 cf_status_firefox40  \\\n",
       "0                 NaN                 NaN                 NaN   \n",
       "1                 NaN                 NaN                 NaN   \n",
       "\n",
       "  cf_status_firefox41 cf_status_firefox42 cf_status_firefox43  \\\n",
       "0                 NaN                 NaN                 NaN   \n",
       "1                 NaN                 NaN                 NaN   \n",
       "\n",
       "  cf_status_firefox44 cf_status_firefox45 cf_status_firefox46  \\\n",
       "0                 NaN                 NaN                 NaN   \n",
       "1                 NaN                 NaN                 NaN   \n",
       "\n",
       "  cf_status_firefox47 cf_status_firefox48 cf_status_firefox49  \\\n",
       "0                 NaN                 NaN                 NaN   \n",
       "1                 NaN                 NaN                 NaN   \n",
       "\n",
       "  cf_status_firefox50 cf_status_firefox51 cf_status_firefox52  \\\n",
       "0                 NaN                 NaN                 NaN   \n",
       "1                 NaN                 NaN                 NaN   \n",
       "\n",
       "  cf_status_firefox53 cf_status_firefox54 cf_status_firefox55  \\\n",
       "0                 NaN                 NaN                 NaN   \n",
       "1                 NaN                 NaN                 NaN   \n",
       "\n",
       "  cf_status_firefox56 cf_status_firefox57 cf_status_firefox58  \\\n",
       "0                 NaN                 NaN                 NaN   \n",
       "1                 NaN                 NaN                 NaN   \n",
       "\n",
       "  cf_status_firefox59 cf_status_firefox60 cf_status_firefox61  \\\n",
       "0                 NaN                 NaN                 NaN   \n",
       "1                 NaN                 NaN                 NaN   \n",
       "\n",
       "  cf_status_firefox62 cf_status_firefox63 cf_status_firefox64  \\\n",
       "0                 NaN                 NaN                 NaN   \n",
       "1                 NaN                 NaN                 NaN   \n",
       "\n",
       "  cf_status_firefox65 cf_status_firefox66 cf_status_firefox67  \\\n",
       "0                 NaN                 NaN                 NaN   \n",
       "1                 NaN                 NaN                 NaN   \n",
       "\n",
       "  cf_status_firefox67_0_1 cf_status_firefox68 cf_status_firefox69  \\\n",
       "0                     NaN                 ---                 ---   \n",
       "1                     NaN                 NaN                 NaN   \n",
       "\n",
       "  cf_status_firefox70 cf_status_firefox_esr52 cf_status_firefox_esr60  \\\n",
       "0                 ---                     NaN                     ---   \n",
       "1                 NaN                     NaN                     NaN   \n",
       "\n",
       "  cf_status_firefox_esr68 cf_status_fxios_v11_0 cf_status_fxios_v11_1  \\\n",
       "0                     ---                   NaN                   NaN   \n",
       "1                     NaN                   NaN                   NaN   \n",
       "\n",
       "  cf_status_fxios_v12_0 cf_status_fxios_v12_1 cf_status_fxios_v12_2  \\\n",
       "0                   NaN                   NaN                   NaN   \n",
       "1                   NaN                   NaN                   NaN   \n",
       "\n",
       "  cf_status_fxios_v13_0 cf_status_fxios_v13_1 cf_status_fxios_v13_2  \\\n",
       "0                   NaN                   NaN                   NaN   \n",
       "1                   NaN                   NaN                   NaN   \n",
       "\n",
       "  cf_status_fxios_v13_3 cf_status_fxios_v14_0 cf_status_fxios_v14_1  \\\n",
       "0                   NaN                   NaN                   NaN   \n",
       "1                   NaN                   NaN                   NaN   \n",
       "\n",
       "  cf_status_fxios_v14_2 cf_status_fxios_v14_3 cf_status_fxios_v15_0  \\\n",
       "0                   NaN                   NaN                   NaN   \n",
       "1                   NaN                   NaN                   NaN   \n",
       "\n",
       "  cf_status_fxios_v15_1 cf_status_fxios_v16_0 cf_status_geckoview62  \\\n",
       "0                   NaN                   NaN                   NaN   \n",
       "1                   NaN                   NaN                   NaN   \n",
       "\n",
       "  cf_status_geckoview66 cf_status_seamonkey21 cf_status_seamonkey210  \\\n",
       "0                   NaN                   NaN                    NaN   \n",
       "1                   NaN                   NaN                    NaN   \n",
       "\n",
       "  cf_status_seamonkey211 cf_status_seamonkey249 cf_status_seamonkey253  \\\n",
       "0                    NaN                    NaN                    NaN   \n",
       "1                    NaN                    ---                    ---   \n",
       "\n",
       "  cf_status_seamonkey256 cf_status_seamonkey257esr cf_status_seamonkey258  \\\n",
       "0                    NaN                       NaN                    NaN   \n",
       "1                    NaN                       ---                    NaN   \n",
       "\n",
       "  cf_status_seamonkey259 cf_status_seamonkey263 cf_status_thunderbird_59  \\\n",
       "0                    NaN                    NaN                      NaN   \n",
       "1                    NaN                    ---                      NaN   \n",
       "\n",
       "  cf_status_thunderbird_60 cf_status_thunderbird_61 cf_status_thunderbird_62  \\\n",
       "0                      NaN                      NaN                      NaN   \n",
       "1                      ---                      ---                      ---   \n",
       "\n",
       "  cf_status_thunderbird_63 cf_status_thunderbird_64 cf_status_thunderbird_65  \\\n",
       "0                      NaN                      NaN                      NaN   \n",
       "1                      ---                      ---                      ---   \n",
       "\n",
       "  cf_status_thunderbird_66 cf_status_thunderbird_67 cf_status_thunderbird_68  \\\n",
       "0                      NaN                      NaN                      NaN   \n",
       "1                      ---                      ---                      ---   \n",
       "\n",
       "  cf_status_thunderbird_69 cf_status_thunderbird_70  \\\n",
       "0                      NaN                      NaN   \n",
       "1                      ---                      ---   \n",
       "\n",
       "  cf_status_thunderbird_esr60 cf_status_thunderbird_esr68  \\\n",
       "0                         ---                         ---   \n",
       "1                         ---                         ---   \n",
       "\n",
       "  cf_tracking_bmo_push cf_tracking_conduit_push cf_tracking_e10s  \\\n",
       "0                  NaN                      NaN              NaN   \n",
       "1                  NaN                      NaN              NaN   \n",
       "\n",
       "  cf_tracking_firefox30 cf_tracking_firefox31 cf_tracking_firefox45  \\\n",
       "0                   NaN                   NaN                   NaN   \n",
       "1                   NaN                   NaN                   NaN   \n",
       "\n",
       "  cf_tracking_firefox46 cf_tracking_firefox47 cf_tracking_firefox50  \\\n",
       "0                   NaN                   NaN                   NaN   \n",
       "1                   NaN                   NaN                   NaN   \n",
       "\n",
       "  cf_tracking_firefox51 cf_tracking_firefox52 cf_tracking_firefox53  \\\n",
       "0                   NaN                   NaN                   NaN   \n",
       "1                   NaN                   NaN                   NaN   \n",
       "\n",
       "  cf_tracking_firefox61 cf_tracking_firefox63 cf_tracking_firefox64  \\\n",
       "0                   NaN                   NaN                   NaN   \n",
       "1                   NaN                   NaN                   NaN   \n",
       "\n",
       "  cf_tracking_firefox65 cf_tracking_firefox66 cf_tracking_firefox67  \\\n",
       "0                   NaN                   NaN                   NaN   \n",
       "1                   NaN                   NaN                   NaN   \n",
       "\n",
       "  cf_tracking_firefox68 cf_tracking_firefox69 cf_tracking_firefox70  \\\n",
       "0                   ---                   ---                   ---   \n",
       "1                   NaN                   NaN                   NaN   \n",
       "\n",
       "  cf_tracking_firefox_esr60 cf_tracking_firefox_esr68  \\\n",
       "0                       ---                       ---   \n",
       "1                       NaN                       NaN   \n",
       "\n",
       "  cf_tracking_firefox_relnote cf_tracking_fxios cf_tracking_geckoview62  \\\n",
       "0                         ---               NaN                     NaN   \n",
       "1                         ---               NaN                     NaN   \n",
       "\n",
       "  cf_tracking_seamonkey249 cf_tracking_seamonkey253  \\\n",
       "0                      NaN                      NaN   \n",
       "1                      ---                      ---   \n",
       "\n",
       "  cf_tracking_seamonkey257esr cf_tracking_seamonkey263  \\\n",
       "0                         NaN                      NaN   \n",
       "1                         ---                      ---   \n",
       "\n",
       "  cf_tracking_thunderbird_59 cf_tracking_thunderbird_60  \\\n",
       "0                        NaN                        NaN   \n",
       "1                        NaN                        ---   \n",
       "\n",
       "  cf_tracking_thunderbird_61 cf_tracking_thunderbird_62  \\\n",
       "0                        NaN                        NaN   \n",
       "1                        ---                        ---   \n",
       "\n",
       "  cf_tracking_thunderbird_63 cf_tracking_thunderbird_64  \\\n",
       "0                        NaN                        NaN   \n",
       "1                        ---                        ---   \n",
       "\n",
       "  cf_tracking_thunderbird_65 cf_tracking_thunderbird_66  \\\n",
       "0                        NaN                        NaN   \n",
       "1                        ---                        ---   \n",
       "\n",
       "  cf_tracking_thunderbird_67 cf_tracking_thunderbird_68  \\\n",
       "0                        NaN                        NaN   \n",
       "1                        ---                        ---   \n",
       "\n",
       "  cf_tracking_thunderbird_69 cf_tracking_thunderbird_70  \\\n",
       "0                        NaN                        NaN   \n",
       "1                        ---                        ---   \n",
       "\n",
       "  cf_tracking_thunderbird_esr60 cf_tracking_thunderbird_esr68 cf_user_story  \\\n",
       "0                           ---                           ---           NaN   \n",
       "1                           ---                           ---           NaN   \n",
       "\n",
       "  cf_webcompat_priority classification  comment_count         component  \\\n",
       "0                   ---     Components             95  Networking: HTTP   \n",
       "1                   NaN     Components             16  LDAP Integration   \n",
       "\n",
       "          creation_time                            creator  \\\n",
       "0  1998-04-23T14:00:00Z                erik@vanderpoel.org   \n",
       "1  1999-02-04T21:59:11Z  lchiang@formerly-netscape.com.tld   \n",
       "\n",
       "                                      creator_detail            depends_on  \\\n",
       "0  {'email': 'erik@vanderpoel.org', 'real_name': ...  20400, 88217, 127872   \n",
       "1  {'email': 'lchiang@formerly-netscape.com.tld',...                 87717   \n",
       "\n",
       "   dupe_of                                      duplicates  \\\n",
       "0      NaN  150580, 269519, 336734, 472127, 718596, 798856   \n",
       "1      NaN                                             NaN   \n",
       "\n",
       "                                               flags groups    id  \\\n",
       "0                                                 []     []  2875   \n",
       "1  [{'modification_date': '2008-04-25T16:59:05Z',...     []  2892   \n",
       "\n",
       "   is_cc_accessible  is_confirmed  is_creator_accessible  is_open  \\\n",
       "0              True          True                   True     True   \n",
       "1              True          True                   True     True   \n",
       "\n",
       "         keywords      last_change_time mentors mentors_detail op_sys  \\\n",
       "0              []  2018-11-25T22:40:53Z      []             []  Other   \n",
       "1  ['helpwanted']  2011-08-24T23:42:38Z      []             []    All   \n",
       "\n",
       "  platform priority        product qa_contact qa_contact_detail regressed_by  \\\n",
       "0      All       P3           Core        NaN               NaN           []   \n",
       "1      All       --  MailNews Core        NaN               NaN           []   \n",
       "\n",
       "  regressions resolution see_also severity status  \\\n",
       "0          []        NaN       []   normal    NEW   \n",
       "1          []        NaN       []   normal    NEW   \n",
       "\n",
       "                                             summary target_milestone  \\\n",
       "0  Proxy: map HTTP 500 errors to necko errors (so...           Future   \n",
       "1  [LDAP] Access to a local LDAP server in Off-Li...              ---   \n",
       "\n",
       "          type  url version  votes             whiteboard  \n",
       "0  enhancement  NaN   Trunk     13  [PDT-][necko-backlog]  \n",
       "1  enhancement  NaN   Trunk      4                    NaN  "
      ]
     },
     "execution_count": 26,
     "metadata": {},
     "output_type": "execute_result"
    }
   ],
   "source": [
    "all_data = pd.read_csv(ALLData_FILE_PATH)\n",
    "all_data.head(2)"
   ]
  },
  {
   "cell_type": "code",
   "execution_count": null,
   "metadata": {},
   "outputs": [],
   "source": []
  },
  {
   "cell_type": "code",
   "execution_count": 27,
   "metadata": {},
   "outputs": [],
   "source": [
    "# remove the redundant column\n",
    "all_data.drop(columns=['Unnamed: 0'], inplace=True)\n",
    "\n",
    "# drop duplicate ids\n",
    "all_data.drop_duplicates(subset='id', inplace=True)\n",
    "\n",
    "# drop columns that only contain null\n",
    "all_data.dropna(axis=1, inplace=True, how='all')"
   ]
  },
  {
   "cell_type": "code",
   "execution_count": null,
   "metadata": {},
   "outputs": [],
   "source": []
  },
  {
   "cell_type": "markdown",
   "metadata": {},
   "source": [
    "### Data Exploration\n",
    "\n",
    "First, we take a look at the data frame size. Then we realize that we don't need all the 198 columns, so we choose only the ones that can be helpful in understanding the data.\n",
    "\n",
    "However, it is always necessary to look at the documentation for the data from the source website to understand it better"
   ]
  },
  {
   "cell_type": "code",
   "execution_count": 28,
   "metadata": {},
   "outputs": [
    {
     "name": "stdout",
     "output_type": "stream",
     "text": [
      "There are 4215 records and 198 columns in this dataset.\n"
     ]
    }
   ],
   "source": [
    "print(f'There are {len(all_data)} records and {len(all_data.columns)} columns in this dataset.')"
   ]
  },
  {
   "cell_type": "code",
   "execution_count": 29,
   "metadata": {},
   "outputs": [],
   "source": [
    "df = all_data[[\n",
    "        'classification', 'component', 'platform',  'assigned_to', \n",
    "        'summary', 'id', 'status', 'is_confirmed', 'votes',\n",
    "        'severity', 'keywords', 'priority', 'creator', 'type'\n",
    "        ]]"
   ]
  },
  {
   "cell_type": "code",
   "execution_count": 30,
   "metadata": {},
   "outputs": [
    {
     "name": "stdout",
     "output_type": "stream",
     "text": [
      "There are 4215 records and 14 columns in this dataset.\n"
     ]
    }
   ],
   "source": [
    "print(f'There are {len(df)} records and {len(df.columns)} columns in this dataset.')"
   ]
  },
  {
   "cell_type": "markdown",
   "metadata": {},
   "source": [
    "### Visualize the data to understand it better\n",
    "\n",
    "In the first part we try to categorize the data into groups and count their frequency. These categories will be placed in a data frame along with the number of times each one was seen.\n",
    "\n",
    "Here is an overview of what the functions in the next cells will do:\n"
   ]
  },
  {
   "cell_type": "code",
   "execution_count": 31,
   "metadata": {},
   "outputs": [
    {
     "data": {
      "text/html": [
       "<div>\n",
       "<style scoped>\n",
       "    .dataframe tbody tr th:only-of-type {\n",
       "        vertical-align: middle;\n",
       "    }\n",
       "\n",
       "    .dataframe tbody tr th {\n",
       "        vertical-align: top;\n",
       "    }\n",
       "\n",
       "    .dataframe thead th {\n",
       "        text-align: right;\n",
       "    }\n",
       "</style>\n",
       "<table border=\"1\" class=\"dataframe\">\n",
       "  <thead>\n",
       "    <tr style=\"text-align: right;\">\n",
       "      <th></th>\n",
       "      <th>platform</th>\n",
       "      <th>id</th>\n",
       "    </tr>\n",
       "  </thead>\n",
       "  <tbody>\n",
       "    <tr>\n",
       "      <th>0</th>\n",
       "      <td>Unspecified</td>\n",
       "      <td>2727</td>\n",
       "    </tr>\n",
       "    <tr>\n",
       "      <th>1</th>\n",
       "      <td>All</td>\n",
       "      <td>1228</td>\n",
       "    </tr>\n",
       "    <tr>\n",
       "      <th>2</th>\n",
       "      <td>x86</td>\n",
       "      <td>138</td>\n",
       "    </tr>\n",
       "    <tr>\n",
       "      <th>3</th>\n",
       "      <td>x86_64</td>\n",
       "      <td>45</td>\n",
       "    </tr>\n",
       "    <tr>\n",
       "      <th>4</th>\n",
       "      <td>ARM64</td>\n",
       "      <td>26</td>\n",
       "    </tr>\n",
       "    <tr>\n",
       "      <th>5</th>\n",
       "      <td>Other</td>\n",
       "      <td>18</td>\n",
       "    </tr>\n",
       "    <tr>\n",
       "      <th>6</th>\n",
       "      <td>Desktop</td>\n",
       "      <td>14</td>\n",
       "    </tr>\n",
       "    <tr>\n",
       "      <th>7</th>\n",
       "      <td>ARM</td>\n",
       "      <td>10</td>\n",
       "    </tr>\n",
       "    <tr>\n",
       "      <th>8</th>\n",
       "      <td>PowerPC</td>\n",
       "      <td>8</td>\n",
       "    </tr>\n",
       "    <tr>\n",
       "      <th>9</th>\n",
       "      <td>HP</td>\n",
       "      <td>1</td>\n",
       "    </tr>\n",
       "  </tbody>\n",
       "</table>\n",
       "</div>"
      ],
      "text/plain": [
       "      platform    id\n",
       "0  Unspecified  2727\n",
       "1          All  1228\n",
       "2          x86   138\n",
       "3       x86_64    45\n",
       "4        ARM64    26\n",
       "5        Other    18\n",
       "6      Desktop    14\n",
       "7          ARM    10\n",
       "8      PowerPC     8\n",
       "9           HP     1"
      ]
     },
     "execution_count": 31,
     "metadata": {},
     "output_type": "execute_result"
    }
   ],
   "source": [
    "# choose a column\n",
    "col = 'platform'\n",
    "\n",
    "# create a new dataset by grouping the categories, then choose id to show the count\n",
    "categories_count = df.groupby(by=col).count().id.sort_values(ascending=False)\n",
    "\n",
    "# by resetting the index, we create a df\n",
    "categories_count_df = categories_count.reset_index()\n",
    "\n",
    "categories_count_df"
   ]
  },
  {
   "cell_type": "code",
   "execution_count": 32,
   "metadata": {},
   "outputs": [
    {
     "data": {
      "text/html": [
       "<div>\n",
       "<style scoped>\n",
       "    .dataframe tbody tr th:only-of-type {\n",
       "        vertical-align: middle;\n",
       "    }\n",
       "\n",
       "    .dataframe tbody tr th {\n",
       "        vertical-align: top;\n",
       "    }\n",
       "\n",
       "    .dataframe thead th {\n",
       "        text-align: right;\n",
       "    }\n",
       "</style>\n",
       "<table border=\"1\" class=\"dataframe\">\n",
       "  <thead>\n",
       "    <tr style=\"text-align: right;\">\n",
       "      <th></th>\n",
       "      <th>platform</th>\n",
       "      <th>count</th>\n",
       "    </tr>\n",
       "  </thead>\n",
       "  <tbody>\n",
       "    <tr>\n",
       "      <th>0</th>\n",
       "      <td>Unspecified</td>\n",
       "      <td>2727</td>\n",
       "    </tr>\n",
       "    <tr>\n",
       "      <th>1</th>\n",
       "      <td>All</td>\n",
       "      <td>1228</td>\n",
       "    </tr>\n",
       "    <tr>\n",
       "      <th>2</th>\n",
       "      <td>x86</td>\n",
       "      <td>138</td>\n",
       "    </tr>\n",
       "    <tr>\n",
       "      <th>3</th>\n",
       "      <td>x86_64</td>\n",
       "      <td>45</td>\n",
       "    </tr>\n",
       "    <tr>\n",
       "      <th>4</th>\n",
       "      <td>ARM64</td>\n",
       "      <td>26</td>\n",
       "    </tr>\n",
       "    <tr>\n",
       "      <th>5</th>\n",
       "      <td>Other</td>\n",
       "      <td>18</td>\n",
       "    </tr>\n",
       "    <tr>\n",
       "      <th>6</th>\n",
       "      <td>Desktop</td>\n",
       "      <td>14</td>\n",
       "    </tr>\n",
       "    <tr>\n",
       "      <th>7</th>\n",
       "      <td>ARM</td>\n",
       "      <td>10</td>\n",
       "    </tr>\n",
       "    <tr>\n",
       "      <th>8</th>\n",
       "      <td>PowerPC</td>\n",
       "      <td>8</td>\n",
       "    </tr>\n",
       "    <tr>\n",
       "      <th>9</th>\n",
       "      <td>HP</td>\n",
       "      <td>1</td>\n",
       "    </tr>\n",
       "  </tbody>\n",
       "</table>\n",
       "</div>"
      ],
      "text/plain": [
       "      platform  count\n",
       "0  Unspecified   2727\n",
       "1          All   1228\n",
       "2          x86    138\n",
       "3       x86_64     45\n",
       "4        ARM64     26\n",
       "5        Other     18\n",
       "6      Desktop     14\n",
       "7          ARM     10\n",
       "8      PowerPC      8\n",
       "9           HP      1"
      ]
     },
     "execution_count": 32,
     "metadata": {},
     "output_type": "execute_result"
    }
   ],
   "source": [
    "categories_count_df.rename(columns={'id': 'count'}, inplace=True)\n",
    "categories_count_df"
   ]
  },
  {
   "cell_type": "code",
   "execution_count": 33,
   "metadata": {},
   "outputs": [],
   "source": [
    "def create_grouped_df(df, col):\n",
    "    \"\"\"\n",
    "    creates a dataset for counting categories in one field of a df\n",
    "    \"\"\"\n",
    "    series = df.groupby(by=col).count().id.sort_values(ascending=False).reset_index()\n",
    "    df_ = pd.DataFrame(series)\n",
    "    df_.rename(columns={'id': 'count'}, inplace=True)\n",
    "\n",
    "    return df_"
   ]
  },
  {
   "cell_type": "code",
   "execution_count": 34,
   "metadata": {},
   "outputs": [],
   "source": [
    "def create_plot(df, col):\n",
    "\n",
    "    # create the dataset for the visualization\n",
    "    df_ = create_grouped_df(df, col=col)\n",
    "\n",
    "    # start plotting\n",
    "    fig = px.bar(df_, x=col, y='count', text='count',\n",
    "     labels={'x': col, 'y': 'frequency'}, color='count',\n",
    "     color_continuous_scale='Agsunset_r')\n",
    "\n",
    "    fig.update_traces(\n",
    "        texttemplate='%{text:.2f}', textposition='outside',\n",
    "        textfont_size=10)\n",
    "\n",
    "    # Change the bar mode\n",
    "    fig.update_layout(title_text=f'Field {col} types count')\n",
    "    fig.show()"
   ]
  },
  {
   "cell_type": "markdown",
   "metadata": {},
   "source": [
    "Many fields have more than 20 categories which can make visualization and depicting the values challenging. To prevent the plot from getting too messy and illegible, we filter the columns with less than or equal to 20 categories."
   ]
  },
  {
   "cell_type": "code",
   "execution_count": 35,
   "metadata": {},
   "outputs": [
    {
     "name": "stdout",
     "output_type": "stream",
     "text": [
      "column:  \u001b[32mclassification\u001b[0m\n",
      "['Components' 'Client Software' 'Server Software' 'Other'\n",
      " 'Developer Infrastructure']\n",
      "column:  \u001b[32mplatform\u001b[0m\n",
      "['All' 'x86' 'PowerPC' 'Unspecified' 'x86_64' 'HP' 'ARM' 'Other' 'Desktop'\n",
      " 'ARM64']\n",
      "column:  \u001b[32mstatus\u001b[0m\n",
      "['NEW' 'ASSIGNED' 'REOPENED' 'UNCONFIRMED' 'RESOLVED']\n",
      "column:  \u001b[32mis_confirmed\u001b[0m\n",
      "[ True False]\n",
      "column:  \u001b[32mseverity\u001b[0m\n",
      "['normal' 'critical' 'minor' 'blocker' 'major' 'trivial']\n",
      "column:  \u001b[32mpriority\u001b[0m\n",
      "['P3' '--' 'P5' 'P2' 'P4' 'P1']\n",
      "column:  \u001b[32mtype\u001b[0m\n",
      "['enhancement' 'task']\n"
     ]
    }
   ],
   "source": [
    "# a list of columns we want to visalize\n",
    "visualization_cols = []\n",
    "\n",
    "# start filtering\n",
    "for col in df.columns:\n",
    "    unique_values = df.loc[:, col].unique()\n",
    "\n",
    "    if len(unique_values)<20 and len(unique_values)>1:\n",
    "        print('column: ', colored(f'{col}', 'green'))\n",
    "        print(unique_values)\n",
    "        visualization_cols.append(col)"
   ]
  },
  {
   "cell_type": "code",
   "execution_count": 36,
   "metadata": {},
   "outputs": [
    {
     "data": {
      "application/vnd.plotly.v1+json": {
       "config": {
        "plotlyServerURL": "https://plot.ly"
       },
       "data": [
        {
         "alignmentgroup": "True",
         "hovertemplate": "classification=%{x}<br>count=%{marker.color}<extra></extra>",
         "legendgroup": "",
         "marker": {
          "color": [
           2706,
           814,
           326,
           257,
           112
          ],
          "coloraxis": "coloraxis",
          "pattern": {
           "shape": ""
          }
         },
         "name": "",
         "offsetgroup": "",
         "orientation": "v",
         "showlegend": false,
         "text": [
          2706,
          814,
          326,
          257,
          112
         ],
         "textfont": {
          "size": 10
         },
         "textposition": "outside",
         "texttemplate": "%{text:.2f}",
         "type": "bar",
         "x": [
          "Components",
          "Client Software",
          "Other",
          "Developer Infrastructure",
          "Server Software"
         ],
         "xaxis": "x",
         "y": [
          2706,
          814,
          326,
          257,
          112
         ],
         "yaxis": "y"
        }
       ],
       "layout": {
        "barmode": "relative",
        "coloraxis": {
         "colorbar": {
          "title": {
           "text": "count"
          }
         },
         "colorscale": [
          [
           0,
           "rgb(237, 217, 163)"
          ],
          [
           0.16666666666666666,
           "rgb(246, 169, 122)"
          ],
          [
           0.3333333333333333,
           "rgb(250, 120, 118)"
          ],
          [
           0.5,
           "rgb(234, 79, 136)"
          ],
          [
           0.6666666666666666,
           "rgb(192, 54, 157)"
          ],
          [
           0.8333333333333334,
           "rgb(135, 44, 162)"
          ],
          [
           1,
           "rgb(75, 41, 145)"
          ]
         ]
        },
        "legend": {
         "tracegroupgap": 0
        },
        "margin": {
         "t": 60
        },
        "template": {
         "data": {
          "bar": [
           {
            "error_x": {
             "color": "#2a3f5f"
            },
            "error_y": {
             "color": "#2a3f5f"
            },
            "marker": {
             "line": {
              "color": "#E5ECF6",
              "width": 0.5
             },
             "pattern": {
              "fillmode": "overlay",
              "size": 10,
              "solidity": 0.2
             }
            },
            "type": "bar"
           }
          ],
          "barpolar": [
           {
            "marker": {
             "line": {
              "color": "#E5ECF6",
              "width": 0.5
             },
             "pattern": {
              "fillmode": "overlay",
              "size": 10,
              "solidity": 0.2
             }
            },
            "type": "barpolar"
           }
          ],
          "carpet": [
           {
            "aaxis": {
             "endlinecolor": "#2a3f5f",
             "gridcolor": "white",
             "linecolor": "white",
             "minorgridcolor": "white",
             "startlinecolor": "#2a3f5f"
            },
            "baxis": {
             "endlinecolor": "#2a3f5f",
             "gridcolor": "white",
             "linecolor": "white",
             "minorgridcolor": "white",
             "startlinecolor": "#2a3f5f"
            },
            "type": "carpet"
           }
          ],
          "choropleth": [
           {
            "colorbar": {
             "outlinewidth": 0,
             "ticks": ""
            },
            "type": "choropleth"
           }
          ],
          "contour": [
           {
            "colorbar": {
             "outlinewidth": 0,
             "ticks": ""
            },
            "colorscale": [
             [
              0,
              "#0d0887"
             ],
             [
              0.1111111111111111,
              "#46039f"
             ],
             [
              0.2222222222222222,
              "#7201a8"
             ],
             [
              0.3333333333333333,
              "#9c179e"
             ],
             [
              0.4444444444444444,
              "#bd3786"
             ],
             [
              0.5555555555555556,
              "#d8576b"
             ],
             [
              0.6666666666666666,
              "#ed7953"
             ],
             [
              0.7777777777777778,
              "#fb9f3a"
             ],
             [
              0.8888888888888888,
              "#fdca26"
             ],
             [
              1,
              "#f0f921"
             ]
            ],
            "type": "contour"
           }
          ],
          "contourcarpet": [
           {
            "colorbar": {
             "outlinewidth": 0,
             "ticks": ""
            },
            "type": "contourcarpet"
           }
          ],
          "heatmap": [
           {
            "colorbar": {
             "outlinewidth": 0,
             "ticks": ""
            },
            "colorscale": [
             [
              0,
              "#0d0887"
             ],
             [
              0.1111111111111111,
              "#46039f"
             ],
             [
              0.2222222222222222,
              "#7201a8"
             ],
             [
              0.3333333333333333,
              "#9c179e"
             ],
             [
              0.4444444444444444,
              "#bd3786"
             ],
             [
              0.5555555555555556,
              "#d8576b"
             ],
             [
              0.6666666666666666,
              "#ed7953"
             ],
             [
              0.7777777777777778,
              "#fb9f3a"
             ],
             [
              0.8888888888888888,
              "#fdca26"
             ],
             [
              1,
              "#f0f921"
             ]
            ],
            "type": "heatmap"
           }
          ],
          "heatmapgl": [
           {
            "colorbar": {
             "outlinewidth": 0,
             "ticks": ""
            },
            "colorscale": [
             [
              0,
              "#0d0887"
             ],
             [
              0.1111111111111111,
              "#46039f"
             ],
             [
              0.2222222222222222,
              "#7201a8"
             ],
             [
              0.3333333333333333,
              "#9c179e"
             ],
             [
              0.4444444444444444,
              "#bd3786"
             ],
             [
              0.5555555555555556,
              "#d8576b"
             ],
             [
              0.6666666666666666,
              "#ed7953"
             ],
             [
              0.7777777777777778,
              "#fb9f3a"
             ],
             [
              0.8888888888888888,
              "#fdca26"
             ],
             [
              1,
              "#f0f921"
             ]
            ],
            "type": "heatmapgl"
           }
          ],
          "histogram": [
           {
            "marker": {
             "pattern": {
              "fillmode": "overlay",
              "size": 10,
              "solidity": 0.2
             }
            },
            "type": "histogram"
           }
          ],
          "histogram2d": [
           {
            "colorbar": {
             "outlinewidth": 0,
             "ticks": ""
            },
            "colorscale": [
             [
              0,
              "#0d0887"
             ],
             [
              0.1111111111111111,
              "#46039f"
             ],
             [
              0.2222222222222222,
              "#7201a8"
             ],
             [
              0.3333333333333333,
              "#9c179e"
             ],
             [
              0.4444444444444444,
              "#bd3786"
             ],
             [
              0.5555555555555556,
              "#d8576b"
             ],
             [
              0.6666666666666666,
              "#ed7953"
             ],
             [
              0.7777777777777778,
              "#fb9f3a"
             ],
             [
              0.8888888888888888,
              "#fdca26"
             ],
             [
              1,
              "#f0f921"
             ]
            ],
            "type": "histogram2d"
           }
          ],
          "histogram2dcontour": [
           {
            "colorbar": {
             "outlinewidth": 0,
             "ticks": ""
            },
            "colorscale": [
             [
              0,
              "#0d0887"
             ],
             [
              0.1111111111111111,
              "#46039f"
             ],
             [
              0.2222222222222222,
              "#7201a8"
             ],
             [
              0.3333333333333333,
              "#9c179e"
             ],
             [
              0.4444444444444444,
              "#bd3786"
             ],
             [
              0.5555555555555556,
              "#d8576b"
             ],
             [
              0.6666666666666666,
              "#ed7953"
             ],
             [
              0.7777777777777778,
              "#fb9f3a"
             ],
             [
              0.8888888888888888,
              "#fdca26"
             ],
             [
              1,
              "#f0f921"
             ]
            ],
            "type": "histogram2dcontour"
           }
          ],
          "mesh3d": [
           {
            "colorbar": {
             "outlinewidth": 0,
             "ticks": ""
            },
            "type": "mesh3d"
           }
          ],
          "parcoords": [
           {
            "line": {
             "colorbar": {
              "outlinewidth": 0,
              "ticks": ""
             }
            },
            "type": "parcoords"
           }
          ],
          "pie": [
           {
            "automargin": true,
            "type": "pie"
           }
          ],
          "scatter": [
           {
            "fillpattern": {
             "fillmode": "overlay",
             "size": 10,
             "solidity": 0.2
            },
            "type": "scatter"
           }
          ],
          "scatter3d": [
           {
            "line": {
             "colorbar": {
              "outlinewidth": 0,
              "ticks": ""
             }
            },
            "marker": {
             "colorbar": {
              "outlinewidth": 0,
              "ticks": ""
             }
            },
            "type": "scatter3d"
           }
          ],
          "scattercarpet": [
           {
            "marker": {
             "colorbar": {
              "outlinewidth": 0,
              "ticks": ""
             }
            },
            "type": "scattercarpet"
           }
          ],
          "scattergeo": [
           {
            "marker": {
             "colorbar": {
              "outlinewidth": 0,
              "ticks": ""
             }
            },
            "type": "scattergeo"
           }
          ],
          "scattergl": [
           {
            "marker": {
             "colorbar": {
              "outlinewidth": 0,
              "ticks": ""
             }
            },
            "type": "scattergl"
           }
          ],
          "scattermapbox": [
           {
            "marker": {
             "colorbar": {
              "outlinewidth": 0,
              "ticks": ""
             }
            },
            "type": "scattermapbox"
           }
          ],
          "scatterpolar": [
           {
            "marker": {
             "colorbar": {
              "outlinewidth": 0,
              "ticks": ""
             }
            },
            "type": "scatterpolar"
           }
          ],
          "scatterpolargl": [
           {
            "marker": {
             "colorbar": {
              "outlinewidth": 0,
              "ticks": ""
             }
            },
            "type": "scatterpolargl"
           }
          ],
          "scatterternary": [
           {
            "marker": {
             "colorbar": {
              "outlinewidth": 0,
              "ticks": ""
             }
            },
            "type": "scatterternary"
           }
          ],
          "surface": [
           {
            "colorbar": {
             "outlinewidth": 0,
             "ticks": ""
            },
            "colorscale": [
             [
              0,
              "#0d0887"
             ],
             [
              0.1111111111111111,
              "#46039f"
             ],
             [
              0.2222222222222222,
              "#7201a8"
             ],
             [
              0.3333333333333333,
              "#9c179e"
             ],
             [
              0.4444444444444444,
              "#bd3786"
             ],
             [
              0.5555555555555556,
              "#d8576b"
             ],
             [
              0.6666666666666666,
              "#ed7953"
             ],
             [
              0.7777777777777778,
              "#fb9f3a"
             ],
             [
              0.8888888888888888,
              "#fdca26"
             ],
             [
              1,
              "#f0f921"
             ]
            ],
            "type": "surface"
           }
          ],
          "table": [
           {
            "cells": {
             "fill": {
              "color": "#EBF0F8"
             },
             "line": {
              "color": "white"
             }
            },
            "header": {
             "fill": {
              "color": "#C8D4E3"
             },
             "line": {
              "color": "white"
             }
            },
            "type": "table"
           }
          ]
         },
         "layout": {
          "annotationdefaults": {
           "arrowcolor": "#2a3f5f",
           "arrowhead": 0,
           "arrowwidth": 1
          },
          "autotypenumbers": "strict",
          "coloraxis": {
           "colorbar": {
            "outlinewidth": 0,
            "ticks": ""
           }
          },
          "colorscale": {
           "diverging": [
            [
             0,
             "#8e0152"
            ],
            [
             0.1,
             "#c51b7d"
            ],
            [
             0.2,
             "#de77ae"
            ],
            [
             0.3,
             "#f1b6da"
            ],
            [
             0.4,
             "#fde0ef"
            ],
            [
             0.5,
             "#f7f7f7"
            ],
            [
             0.6,
             "#e6f5d0"
            ],
            [
             0.7,
             "#b8e186"
            ],
            [
             0.8,
             "#7fbc41"
            ],
            [
             0.9,
             "#4d9221"
            ],
            [
             1,
             "#276419"
            ]
           ],
           "sequential": [
            [
             0,
             "#0d0887"
            ],
            [
             0.1111111111111111,
             "#46039f"
            ],
            [
             0.2222222222222222,
             "#7201a8"
            ],
            [
             0.3333333333333333,
             "#9c179e"
            ],
            [
             0.4444444444444444,
             "#bd3786"
            ],
            [
             0.5555555555555556,
             "#d8576b"
            ],
            [
             0.6666666666666666,
             "#ed7953"
            ],
            [
             0.7777777777777778,
             "#fb9f3a"
            ],
            [
             0.8888888888888888,
             "#fdca26"
            ],
            [
             1,
             "#f0f921"
            ]
           ],
           "sequentialminus": [
            [
             0,
             "#0d0887"
            ],
            [
             0.1111111111111111,
             "#46039f"
            ],
            [
             0.2222222222222222,
             "#7201a8"
            ],
            [
             0.3333333333333333,
             "#9c179e"
            ],
            [
             0.4444444444444444,
             "#bd3786"
            ],
            [
             0.5555555555555556,
             "#d8576b"
            ],
            [
             0.6666666666666666,
             "#ed7953"
            ],
            [
             0.7777777777777778,
             "#fb9f3a"
            ],
            [
             0.8888888888888888,
             "#fdca26"
            ],
            [
             1,
             "#f0f921"
            ]
           ]
          },
          "colorway": [
           "#636efa",
           "#EF553B",
           "#00cc96",
           "#ab63fa",
           "#FFA15A",
           "#19d3f3",
           "#FF6692",
           "#B6E880",
           "#FF97FF",
           "#FECB52"
          ],
          "font": {
           "color": "#2a3f5f"
          },
          "geo": {
           "bgcolor": "white",
           "lakecolor": "white",
           "landcolor": "#E5ECF6",
           "showlakes": true,
           "showland": true,
           "subunitcolor": "white"
          },
          "hoverlabel": {
           "align": "left"
          },
          "hovermode": "closest",
          "mapbox": {
           "style": "light"
          },
          "paper_bgcolor": "white",
          "plot_bgcolor": "#E5ECF6",
          "polar": {
           "angularaxis": {
            "gridcolor": "white",
            "linecolor": "white",
            "ticks": ""
           },
           "bgcolor": "#E5ECF6",
           "radialaxis": {
            "gridcolor": "white",
            "linecolor": "white",
            "ticks": ""
           }
          },
          "scene": {
           "xaxis": {
            "backgroundcolor": "#E5ECF6",
            "gridcolor": "white",
            "gridwidth": 2,
            "linecolor": "white",
            "showbackground": true,
            "ticks": "",
            "zerolinecolor": "white"
           },
           "yaxis": {
            "backgroundcolor": "#E5ECF6",
            "gridcolor": "white",
            "gridwidth": 2,
            "linecolor": "white",
            "showbackground": true,
            "ticks": "",
            "zerolinecolor": "white"
           },
           "zaxis": {
            "backgroundcolor": "#E5ECF6",
            "gridcolor": "white",
            "gridwidth": 2,
            "linecolor": "white",
            "showbackground": true,
            "ticks": "",
            "zerolinecolor": "white"
           }
          },
          "shapedefaults": {
           "line": {
            "color": "#2a3f5f"
           }
          },
          "ternary": {
           "aaxis": {
            "gridcolor": "white",
            "linecolor": "white",
            "ticks": ""
           },
           "baxis": {
            "gridcolor": "white",
            "linecolor": "white",
            "ticks": ""
           },
           "bgcolor": "#E5ECF6",
           "caxis": {
            "gridcolor": "white",
            "linecolor": "white",
            "ticks": ""
           }
          },
          "title": {
           "x": 0.05
          },
          "xaxis": {
           "automargin": true,
           "gridcolor": "white",
           "linecolor": "white",
           "ticks": "",
           "title": {
            "standoff": 15
           },
           "zerolinecolor": "white",
           "zerolinewidth": 2
          },
          "yaxis": {
           "automargin": true,
           "gridcolor": "white",
           "linecolor": "white",
           "ticks": "",
           "title": {
            "standoff": 15
           },
           "zerolinecolor": "white",
           "zerolinewidth": 2
          }
         }
        },
        "title": {
         "text": "Field classification types count"
        },
        "xaxis": {
         "anchor": "y",
         "domain": [
          0,
          1
         ],
         "title": {
          "text": "classification"
         }
        },
        "yaxis": {
         "anchor": "x",
         "domain": [
          0,
          1
         ],
         "title": {
          "text": "count"
         }
        }
       }
      },
      "text/html": [
       "<div>                            <div id=\"2aaad98b-7b1d-4b2d-980f-11704a17099f\" class=\"plotly-graph-div\" style=\"height:525px; width:100%;\"></div>            <script type=\"text/javascript\">                require([\"plotly\"], function(Plotly) {                    window.PLOTLYENV=window.PLOTLYENV || {};                                    if (document.getElementById(\"2aaad98b-7b1d-4b2d-980f-11704a17099f\")) {                    Plotly.newPlot(                        \"2aaad98b-7b1d-4b2d-980f-11704a17099f\",                        [{\"alignmentgroup\":\"True\",\"hovertemplate\":\"classification=%{x}<br>count=%{marker.color}<extra></extra>\",\"legendgroup\":\"\",\"marker\":{\"color\":[2706,814,326,257,112],\"coloraxis\":\"coloraxis\",\"pattern\":{\"shape\":\"\"}},\"name\":\"\",\"offsetgroup\":\"\",\"orientation\":\"v\",\"showlegend\":false,\"text\":[2706.0,814.0,326.0,257.0,112.0],\"textposition\":\"outside\",\"x\":[\"Components\",\"Client Software\",\"Other\",\"Developer Infrastructure\",\"Server Software\"],\"xaxis\":\"x\",\"y\":[2706,814,326,257,112],\"yaxis\":\"y\",\"type\":\"bar\",\"textfont\":{\"size\":10},\"texttemplate\":\"%{text:.2f}\"}],                        {\"template\":{\"data\":{\"histogram2dcontour\":[{\"type\":\"histogram2dcontour\",\"colorbar\":{\"outlinewidth\":0,\"ticks\":\"\"},\"colorscale\":[[0.0,\"#0d0887\"],[0.1111111111111111,\"#46039f\"],[0.2222222222222222,\"#7201a8\"],[0.3333333333333333,\"#9c179e\"],[0.4444444444444444,\"#bd3786\"],[0.5555555555555556,\"#d8576b\"],[0.6666666666666666,\"#ed7953\"],[0.7777777777777778,\"#fb9f3a\"],[0.8888888888888888,\"#fdca26\"],[1.0,\"#f0f921\"]]}],\"choropleth\":[{\"type\":\"choropleth\",\"colorbar\":{\"outlinewidth\":0,\"ticks\":\"\"}}],\"histogram2d\":[{\"type\":\"histogram2d\",\"colorbar\":{\"outlinewidth\":0,\"ticks\":\"\"},\"colorscale\":[[0.0,\"#0d0887\"],[0.1111111111111111,\"#46039f\"],[0.2222222222222222,\"#7201a8\"],[0.3333333333333333,\"#9c179e\"],[0.4444444444444444,\"#bd3786\"],[0.5555555555555556,\"#d8576b\"],[0.6666666666666666,\"#ed7953\"],[0.7777777777777778,\"#fb9f3a\"],[0.8888888888888888,\"#fdca26\"],[1.0,\"#f0f921\"]]}],\"heatmap\":[{\"type\":\"heatmap\",\"colorbar\":{\"outlinewidth\":0,\"ticks\":\"\"},\"colorscale\":[[0.0,\"#0d0887\"],[0.1111111111111111,\"#46039f\"],[0.2222222222222222,\"#7201a8\"],[0.3333333333333333,\"#9c179e\"],[0.4444444444444444,\"#bd3786\"],[0.5555555555555556,\"#d8576b\"],[0.6666666666666666,\"#ed7953\"],[0.7777777777777778,\"#fb9f3a\"],[0.8888888888888888,\"#fdca26\"],[1.0,\"#f0f921\"]]}],\"heatmapgl\":[{\"type\":\"heatmapgl\",\"colorbar\":{\"outlinewidth\":0,\"ticks\":\"\"},\"colorscale\":[[0.0,\"#0d0887\"],[0.1111111111111111,\"#46039f\"],[0.2222222222222222,\"#7201a8\"],[0.3333333333333333,\"#9c179e\"],[0.4444444444444444,\"#bd3786\"],[0.5555555555555556,\"#d8576b\"],[0.6666666666666666,\"#ed7953\"],[0.7777777777777778,\"#fb9f3a\"],[0.8888888888888888,\"#fdca26\"],[1.0,\"#f0f921\"]]}],\"contourcarpet\":[{\"type\":\"contourcarpet\",\"colorbar\":{\"outlinewidth\":0,\"ticks\":\"\"}}],\"contour\":[{\"type\":\"contour\",\"colorbar\":{\"outlinewidth\":0,\"ticks\":\"\"},\"colorscale\":[[0.0,\"#0d0887\"],[0.1111111111111111,\"#46039f\"],[0.2222222222222222,\"#7201a8\"],[0.3333333333333333,\"#9c179e\"],[0.4444444444444444,\"#bd3786\"],[0.5555555555555556,\"#d8576b\"],[0.6666666666666666,\"#ed7953\"],[0.7777777777777778,\"#fb9f3a\"],[0.8888888888888888,\"#fdca26\"],[1.0,\"#f0f921\"]]}],\"surface\":[{\"type\":\"surface\",\"colorbar\":{\"outlinewidth\":0,\"ticks\":\"\"},\"colorscale\":[[0.0,\"#0d0887\"],[0.1111111111111111,\"#46039f\"],[0.2222222222222222,\"#7201a8\"],[0.3333333333333333,\"#9c179e\"],[0.4444444444444444,\"#bd3786\"],[0.5555555555555556,\"#d8576b\"],[0.6666666666666666,\"#ed7953\"],[0.7777777777777778,\"#fb9f3a\"],[0.8888888888888888,\"#fdca26\"],[1.0,\"#f0f921\"]]}],\"mesh3d\":[{\"type\":\"mesh3d\",\"colorbar\":{\"outlinewidth\":0,\"ticks\":\"\"}}],\"scatter\":[{\"fillpattern\":{\"fillmode\":\"overlay\",\"size\":10,\"solidity\":0.2},\"type\":\"scatter\"}],\"parcoords\":[{\"type\":\"parcoords\",\"line\":{\"colorbar\":{\"outlinewidth\":0,\"ticks\":\"\"}}}],\"scatterpolargl\":[{\"type\":\"scatterpolargl\",\"marker\":{\"colorbar\":{\"outlinewidth\":0,\"ticks\":\"\"}}}],\"bar\":[{\"error_x\":{\"color\":\"#2a3f5f\"},\"error_y\":{\"color\":\"#2a3f5f\"},\"marker\":{\"line\":{\"color\":\"#E5ECF6\",\"width\":0.5},\"pattern\":{\"fillmode\":\"overlay\",\"size\":10,\"solidity\":0.2}},\"type\":\"bar\"}],\"scattergeo\":[{\"type\":\"scattergeo\",\"marker\":{\"colorbar\":{\"outlinewidth\":0,\"ticks\":\"\"}}}],\"scatterpolar\":[{\"type\":\"scatterpolar\",\"marker\":{\"colorbar\":{\"outlinewidth\":0,\"ticks\":\"\"}}}],\"histogram\":[{\"marker\":{\"pattern\":{\"fillmode\":\"overlay\",\"size\":10,\"solidity\":0.2}},\"type\":\"histogram\"}],\"scattergl\":[{\"type\":\"scattergl\",\"marker\":{\"colorbar\":{\"outlinewidth\":0,\"ticks\":\"\"}}}],\"scatter3d\":[{\"type\":\"scatter3d\",\"line\":{\"colorbar\":{\"outlinewidth\":0,\"ticks\":\"\"}},\"marker\":{\"colorbar\":{\"outlinewidth\":0,\"ticks\":\"\"}}}],\"scattermapbox\":[{\"type\":\"scattermapbox\",\"marker\":{\"colorbar\":{\"outlinewidth\":0,\"ticks\":\"\"}}}],\"scatterternary\":[{\"type\":\"scatterternary\",\"marker\":{\"colorbar\":{\"outlinewidth\":0,\"ticks\":\"\"}}}],\"scattercarpet\":[{\"type\":\"scattercarpet\",\"marker\":{\"colorbar\":{\"outlinewidth\":0,\"ticks\":\"\"}}}],\"carpet\":[{\"aaxis\":{\"endlinecolor\":\"#2a3f5f\",\"gridcolor\":\"white\",\"linecolor\":\"white\",\"minorgridcolor\":\"white\",\"startlinecolor\":\"#2a3f5f\"},\"baxis\":{\"endlinecolor\":\"#2a3f5f\",\"gridcolor\":\"white\",\"linecolor\":\"white\",\"minorgridcolor\":\"white\",\"startlinecolor\":\"#2a3f5f\"},\"type\":\"carpet\"}],\"table\":[{\"cells\":{\"fill\":{\"color\":\"#EBF0F8\"},\"line\":{\"color\":\"white\"}},\"header\":{\"fill\":{\"color\":\"#C8D4E3\"},\"line\":{\"color\":\"white\"}},\"type\":\"table\"}],\"barpolar\":[{\"marker\":{\"line\":{\"color\":\"#E5ECF6\",\"width\":0.5},\"pattern\":{\"fillmode\":\"overlay\",\"size\":10,\"solidity\":0.2}},\"type\":\"barpolar\"}],\"pie\":[{\"automargin\":true,\"type\":\"pie\"}]},\"layout\":{\"autotypenumbers\":\"strict\",\"colorway\":[\"#636efa\",\"#EF553B\",\"#00cc96\",\"#ab63fa\",\"#FFA15A\",\"#19d3f3\",\"#FF6692\",\"#B6E880\",\"#FF97FF\",\"#FECB52\"],\"font\":{\"color\":\"#2a3f5f\"},\"hovermode\":\"closest\",\"hoverlabel\":{\"align\":\"left\"},\"paper_bgcolor\":\"white\",\"plot_bgcolor\":\"#E5ECF6\",\"polar\":{\"bgcolor\":\"#E5ECF6\",\"angularaxis\":{\"gridcolor\":\"white\",\"linecolor\":\"white\",\"ticks\":\"\"},\"radialaxis\":{\"gridcolor\":\"white\",\"linecolor\":\"white\",\"ticks\":\"\"}},\"ternary\":{\"bgcolor\":\"#E5ECF6\",\"aaxis\":{\"gridcolor\":\"white\",\"linecolor\":\"white\",\"ticks\":\"\"},\"baxis\":{\"gridcolor\":\"white\",\"linecolor\":\"white\",\"ticks\":\"\"},\"caxis\":{\"gridcolor\":\"white\",\"linecolor\":\"white\",\"ticks\":\"\"}},\"coloraxis\":{\"colorbar\":{\"outlinewidth\":0,\"ticks\":\"\"}},\"colorscale\":{\"sequential\":[[0.0,\"#0d0887\"],[0.1111111111111111,\"#46039f\"],[0.2222222222222222,\"#7201a8\"],[0.3333333333333333,\"#9c179e\"],[0.4444444444444444,\"#bd3786\"],[0.5555555555555556,\"#d8576b\"],[0.6666666666666666,\"#ed7953\"],[0.7777777777777778,\"#fb9f3a\"],[0.8888888888888888,\"#fdca26\"],[1.0,\"#f0f921\"]],\"sequentialminus\":[[0.0,\"#0d0887\"],[0.1111111111111111,\"#46039f\"],[0.2222222222222222,\"#7201a8\"],[0.3333333333333333,\"#9c179e\"],[0.4444444444444444,\"#bd3786\"],[0.5555555555555556,\"#d8576b\"],[0.6666666666666666,\"#ed7953\"],[0.7777777777777778,\"#fb9f3a\"],[0.8888888888888888,\"#fdca26\"],[1.0,\"#f0f921\"]],\"diverging\":[[0,\"#8e0152\"],[0.1,\"#c51b7d\"],[0.2,\"#de77ae\"],[0.3,\"#f1b6da\"],[0.4,\"#fde0ef\"],[0.5,\"#f7f7f7\"],[0.6,\"#e6f5d0\"],[0.7,\"#b8e186\"],[0.8,\"#7fbc41\"],[0.9,\"#4d9221\"],[1,\"#276419\"]]},\"xaxis\":{\"gridcolor\":\"white\",\"linecolor\":\"white\",\"ticks\":\"\",\"title\":{\"standoff\":15},\"zerolinecolor\":\"white\",\"automargin\":true,\"zerolinewidth\":2},\"yaxis\":{\"gridcolor\":\"white\",\"linecolor\":\"white\",\"ticks\":\"\",\"title\":{\"standoff\":15},\"zerolinecolor\":\"white\",\"automargin\":true,\"zerolinewidth\":2},\"scene\":{\"xaxis\":{\"backgroundcolor\":\"#E5ECF6\",\"gridcolor\":\"white\",\"linecolor\":\"white\",\"showbackground\":true,\"ticks\":\"\",\"zerolinecolor\":\"white\",\"gridwidth\":2},\"yaxis\":{\"backgroundcolor\":\"#E5ECF6\",\"gridcolor\":\"white\",\"linecolor\":\"white\",\"showbackground\":true,\"ticks\":\"\",\"zerolinecolor\":\"white\",\"gridwidth\":2},\"zaxis\":{\"backgroundcolor\":\"#E5ECF6\",\"gridcolor\":\"white\",\"linecolor\":\"white\",\"showbackground\":true,\"ticks\":\"\",\"zerolinecolor\":\"white\",\"gridwidth\":2}},\"shapedefaults\":{\"line\":{\"color\":\"#2a3f5f\"}},\"annotationdefaults\":{\"arrowcolor\":\"#2a3f5f\",\"arrowhead\":0,\"arrowwidth\":1},\"geo\":{\"bgcolor\":\"white\",\"landcolor\":\"#E5ECF6\",\"subunitcolor\":\"white\",\"showland\":true,\"showlakes\":true,\"lakecolor\":\"white\"},\"title\":{\"x\":0.05},\"mapbox\":{\"style\":\"light\"}}},\"xaxis\":{\"anchor\":\"y\",\"domain\":[0.0,1.0],\"title\":{\"text\":\"classification\"}},\"yaxis\":{\"anchor\":\"x\",\"domain\":[0.0,1.0],\"title\":{\"text\":\"count\"}},\"coloraxis\":{\"colorbar\":{\"title\":{\"text\":\"count\"}},\"colorscale\":[[0.0,\"rgb(237, 217, 163)\"],[0.16666666666666666,\"rgb(246, 169, 122)\"],[0.3333333333333333,\"rgb(250, 120, 118)\"],[0.5,\"rgb(234, 79, 136)\"],[0.6666666666666666,\"rgb(192, 54, 157)\"],[0.8333333333333334,\"rgb(135, 44, 162)\"],[1.0,\"rgb(75, 41, 145)\"]]},\"legend\":{\"tracegroupgap\":0},\"margin\":{\"t\":60},\"barmode\":\"relative\",\"title\":{\"text\":\"Field classification types count\"}},                        {\"responsive\": true}                    ).then(function(){\n",
       "                            \n",
       "var gd = document.getElementById('2aaad98b-7b1d-4b2d-980f-11704a17099f');\n",
       "var x = new MutationObserver(function (mutations, observer) {{\n",
       "        var display = window.getComputedStyle(gd).display;\n",
       "        if (!display || display === 'none') {{\n",
       "            console.log([gd, 'removed!']);\n",
       "            Plotly.purge(gd);\n",
       "            observer.disconnect();\n",
       "        }}\n",
       "}});\n",
       "\n",
       "// Listen for the removal of the full notebook cells\n",
       "var notebookContainer = gd.closest('#notebook-container');\n",
       "if (notebookContainer) {{\n",
       "    x.observe(notebookContainer, {childList: true});\n",
       "}}\n",
       "\n",
       "// Listen for the clearing of the current output cell\n",
       "var outputEl = gd.closest('.output');\n",
       "if (outputEl) {{\n",
       "    x.observe(outputEl, {childList: true});\n",
       "}}\n",
       "\n",
       "                        })                };                });            </script>        </div>"
      ]
     },
     "metadata": {},
     "output_type": "display_data"
    },
    {
     "data": {
      "application/vnd.plotly.v1+json": {
       "config": {
        "plotlyServerURL": "https://plot.ly"
       },
       "data": [
        {
         "alignmentgroup": "True",
         "hovertemplate": "platform=%{x}<br>count=%{marker.color}<extra></extra>",
         "legendgroup": "",
         "marker": {
          "color": [
           2727,
           1228,
           138,
           45,
           26,
           18,
           14,
           10,
           8,
           1
          ],
          "coloraxis": "coloraxis",
          "pattern": {
           "shape": ""
          }
         },
         "name": "",
         "offsetgroup": "",
         "orientation": "v",
         "showlegend": false,
         "text": [
          2727,
          1228,
          138,
          45,
          26,
          18,
          14,
          10,
          8,
          1
         ],
         "textfont": {
          "size": 10
         },
         "textposition": "outside",
         "texttemplate": "%{text:.2f}",
         "type": "bar",
         "x": [
          "Unspecified",
          "All",
          "x86",
          "x86_64",
          "ARM64",
          "Other",
          "Desktop",
          "ARM",
          "PowerPC",
          "HP"
         ],
         "xaxis": "x",
         "y": [
          2727,
          1228,
          138,
          45,
          26,
          18,
          14,
          10,
          8,
          1
         ],
         "yaxis": "y"
        }
       ],
       "layout": {
        "barmode": "relative",
        "coloraxis": {
         "colorbar": {
          "title": {
           "text": "count"
          }
         },
         "colorscale": [
          [
           0,
           "rgb(237, 217, 163)"
          ],
          [
           0.16666666666666666,
           "rgb(246, 169, 122)"
          ],
          [
           0.3333333333333333,
           "rgb(250, 120, 118)"
          ],
          [
           0.5,
           "rgb(234, 79, 136)"
          ],
          [
           0.6666666666666666,
           "rgb(192, 54, 157)"
          ],
          [
           0.8333333333333334,
           "rgb(135, 44, 162)"
          ],
          [
           1,
           "rgb(75, 41, 145)"
          ]
         ]
        },
        "legend": {
         "tracegroupgap": 0
        },
        "margin": {
         "t": 60
        },
        "template": {
         "data": {
          "bar": [
           {
            "error_x": {
             "color": "#2a3f5f"
            },
            "error_y": {
             "color": "#2a3f5f"
            },
            "marker": {
             "line": {
              "color": "#E5ECF6",
              "width": 0.5
             },
             "pattern": {
              "fillmode": "overlay",
              "size": 10,
              "solidity": 0.2
             }
            },
            "type": "bar"
           }
          ],
          "barpolar": [
           {
            "marker": {
             "line": {
              "color": "#E5ECF6",
              "width": 0.5
             },
             "pattern": {
              "fillmode": "overlay",
              "size": 10,
              "solidity": 0.2
             }
            },
            "type": "barpolar"
           }
          ],
          "carpet": [
           {
            "aaxis": {
             "endlinecolor": "#2a3f5f",
             "gridcolor": "white",
             "linecolor": "white",
             "minorgridcolor": "white",
             "startlinecolor": "#2a3f5f"
            },
            "baxis": {
             "endlinecolor": "#2a3f5f",
             "gridcolor": "white",
             "linecolor": "white",
             "minorgridcolor": "white",
             "startlinecolor": "#2a3f5f"
            },
            "type": "carpet"
           }
          ],
          "choropleth": [
           {
            "colorbar": {
             "outlinewidth": 0,
             "ticks": ""
            },
            "type": "choropleth"
           }
          ],
          "contour": [
           {
            "colorbar": {
             "outlinewidth": 0,
             "ticks": ""
            },
            "colorscale": [
             [
              0,
              "#0d0887"
             ],
             [
              0.1111111111111111,
              "#46039f"
             ],
             [
              0.2222222222222222,
              "#7201a8"
             ],
             [
              0.3333333333333333,
              "#9c179e"
             ],
             [
              0.4444444444444444,
              "#bd3786"
             ],
             [
              0.5555555555555556,
              "#d8576b"
             ],
             [
              0.6666666666666666,
              "#ed7953"
             ],
             [
              0.7777777777777778,
              "#fb9f3a"
             ],
             [
              0.8888888888888888,
              "#fdca26"
             ],
             [
              1,
              "#f0f921"
             ]
            ],
            "type": "contour"
           }
          ],
          "contourcarpet": [
           {
            "colorbar": {
             "outlinewidth": 0,
             "ticks": ""
            },
            "type": "contourcarpet"
           }
          ],
          "heatmap": [
           {
            "colorbar": {
             "outlinewidth": 0,
             "ticks": ""
            },
            "colorscale": [
             [
              0,
              "#0d0887"
             ],
             [
              0.1111111111111111,
              "#46039f"
             ],
             [
              0.2222222222222222,
              "#7201a8"
             ],
             [
              0.3333333333333333,
              "#9c179e"
             ],
             [
              0.4444444444444444,
              "#bd3786"
             ],
             [
              0.5555555555555556,
              "#d8576b"
             ],
             [
              0.6666666666666666,
              "#ed7953"
             ],
             [
              0.7777777777777778,
              "#fb9f3a"
             ],
             [
              0.8888888888888888,
              "#fdca26"
             ],
             [
              1,
              "#f0f921"
             ]
            ],
            "type": "heatmap"
           }
          ],
          "heatmapgl": [
           {
            "colorbar": {
             "outlinewidth": 0,
             "ticks": ""
            },
            "colorscale": [
             [
              0,
              "#0d0887"
             ],
             [
              0.1111111111111111,
              "#46039f"
             ],
             [
              0.2222222222222222,
              "#7201a8"
             ],
             [
              0.3333333333333333,
              "#9c179e"
             ],
             [
              0.4444444444444444,
              "#bd3786"
             ],
             [
              0.5555555555555556,
              "#d8576b"
             ],
             [
              0.6666666666666666,
              "#ed7953"
             ],
             [
              0.7777777777777778,
              "#fb9f3a"
             ],
             [
              0.8888888888888888,
              "#fdca26"
             ],
             [
              1,
              "#f0f921"
             ]
            ],
            "type": "heatmapgl"
           }
          ],
          "histogram": [
           {
            "marker": {
             "pattern": {
              "fillmode": "overlay",
              "size": 10,
              "solidity": 0.2
             }
            },
            "type": "histogram"
           }
          ],
          "histogram2d": [
           {
            "colorbar": {
             "outlinewidth": 0,
             "ticks": ""
            },
            "colorscale": [
             [
              0,
              "#0d0887"
             ],
             [
              0.1111111111111111,
              "#46039f"
             ],
             [
              0.2222222222222222,
              "#7201a8"
             ],
             [
              0.3333333333333333,
              "#9c179e"
             ],
             [
              0.4444444444444444,
              "#bd3786"
             ],
             [
              0.5555555555555556,
              "#d8576b"
             ],
             [
              0.6666666666666666,
              "#ed7953"
             ],
             [
              0.7777777777777778,
              "#fb9f3a"
             ],
             [
              0.8888888888888888,
              "#fdca26"
             ],
             [
              1,
              "#f0f921"
             ]
            ],
            "type": "histogram2d"
           }
          ],
          "histogram2dcontour": [
           {
            "colorbar": {
             "outlinewidth": 0,
             "ticks": ""
            },
            "colorscale": [
             [
              0,
              "#0d0887"
             ],
             [
              0.1111111111111111,
              "#46039f"
             ],
             [
              0.2222222222222222,
              "#7201a8"
             ],
             [
              0.3333333333333333,
              "#9c179e"
             ],
             [
              0.4444444444444444,
              "#bd3786"
             ],
             [
              0.5555555555555556,
              "#d8576b"
             ],
             [
              0.6666666666666666,
              "#ed7953"
             ],
             [
              0.7777777777777778,
              "#fb9f3a"
             ],
             [
              0.8888888888888888,
              "#fdca26"
             ],
             [
              1,
              "#f0f921"
             ]
            ],
            "type": "histogram2dcontour"
           }
          ],
          "mesh3d": [
           {
            "colorbar": {
             "outlinewidth": 0,
             "ticks": ""
            },
            "type": "mesh3d"
           }
          ],
          "parcoords": [
           {
            "line": {
             "colorbar": {
              "outlinewidth": 0,
              "ticks": ""
             }
            },
            "type": "parcoords"
           }
          ],
          "pie": [
           {
            "automargin": true,
            "type": "pie"
           }
          ],
          "scatter": [
           {
            "fillpattern": {
             "fillmode": "overlay",
             "size": 10,
             "solidity": 0.2
            },
            "type": "scatter"
           }
          ],
          "scatter3d": [
           {
            "line": {
             "colorbar": {
              "outlinewidth": 0,
              "ticks": ""
             }
            },
            "marker": {
             "colorbar": {
              "outlinewidth": 0,
              "ticks": ""
             }
            },
            "type": "scatter3d"
           }
          ],
          "scattercarpet": [
           {
            "marker": {
             "colorbar": {
              "outlinewidth": 0,
              "ticks": ""
             }
            },
            "type": "scattercarpet"
           }
          ],
          "scattergeo": [
           {
            "marker": {
             "colorbar": {
              "outlinewidth": 0,
              "ticks": ""
             }
            },
            "type": "scattergeo"
           }
          ],
          "scattergl": [
           {
            "marker": {
             "colorbar": {
              "outlinewidth": 0,
              "ticks": ""
             }
            },
            "type": "scattergl"
           }
          ],
          "scattermapbox": [
           {
            "marker": {
             "colorbar": {
              "outlinewidth": 0,
              "ticks": ""
             }
            },
            "type": "scattermapbox"
           }
          ],
          "scatterpolar": [
           {
            "marker": {
             "colorbar": {
              "outlinewidth": 0,
              "ticks": ""
             }
            },
            "type": "scatterpolar"
           }
          ],
          "scatterpolargl": [
           {
            "marker": {
             "colorbar": {
              "outlinewidth": 0,
              "ticks": ""
             }
            },
            "type": "scatterpolargl"
           }
          ],
          "scatterternary": [
           {
            "marker": {
             "colorbar": {
              "outlinewidth": 0,
              "ticks": ""
             }
            },
            "type": "scatterternary"
           }
          ],
          "surface": [
           {
            "colorbar": {
             "outlinewidth": 0,
             "ticks": ""
            },
            "colorscale": [
             [
              0,
              "#0d0887"
             ],
             [
              0.1111111111111111,
              "#46039f"
             ],
             [
              0.2222222222222222,
              "#7201a8"
             ],
             [
              0.3333333333333333,
              "#9c179e"
             ],
             [
              0.4444444444444444,
              "#bd3786"
             ],
             [
              0.5555555555555556,
              "#d8576b"
             ],
             [
              0.6666666666666666,
              "#ed7953"
             ],
             [
              0.7777777777777778,
              "#fb9f3a"
             ],
             [
              0.8888888888888888,
              "#fdca26"
             ],
             [
              1,
              "#f0f921"
             ]
            ],
            "type": "surface"
           }
          ],
          "table": [
           {
            "cells": {
             "fill": {
              "color": "#EBF0F8"
             },
             "line": {
              "color": "white"
             }
            },
            "header": {
             "fill": {
              "color": "#C8D4E3"
             },
             "line": {
              "color": "white"
             }
            },
            "type": "table"
           }
          ]
         },
         "layout": {
          "annotationdefaults": {
           "arrowcolor": "#2a3f5f",
           "arrowhead": 0,
           "arrowwidth": 1
          },
          "autotypenumbers": "strict",
          "coloraxis": {
           "colorbar": {
            "outlinewidth": 0,
            "ticks": ""
           }
          },
          "colorscale": {
           "diverging": [
            [
             0,
             "#8e0152"
            ],
            [
             0.1,
             "#c51b7d"
            ],
            [
             0.2,
             "#de77ae"
            ],
            [
             0.3,
             "#f1b6da"
            ],
            [
             0.4,
             "#fde0ef"
            ],
            [
             0.5,
             "#f7f7f7"
            ],
            [
             0.6,
             "#e6f5d0"
            ],
            [
             0.7,
             "#b8e186"
            ],
            [
             0.8,
             "#7fbc41"
            ],
            [
             0.9,
             "#4d9221"
            ],
            [
             1,
             "#276419"
            ]
           ],
           "sequential": [
            [
             0,
             "#0d0887"
            ],
            [
             0.1111111111111111,
             "#46039f"
            ],
            [
             0.2222222222222222,
             "#7201a8"
            ],
            [
             0.3333333333333333,
             "#9c179e"
            ],
            [
             0.4444444444444444,
             "#bd3786"
            ],
            [
             0.5555555555555556,
             "#d8576b"
            ],
            [
             0.6666666666666666,
             "#ed7953"
            ],
            [
             0.7777777777777778,
             "#fb9f3a"
            ],
            [
             0.8888888888888888,
             "#fdca26"
            ],
            [
             1,
             "#f0f921"
            ]
           ],
           "sequentialminus": [
            [
             0,
             "#0d0887"
            ],
            [
             0.1111111111111111,
             "#46039f"
            ],
            [
             0.2222222222222222,
             "#7201a8"
            ],
            [
             0.3333333333333333,
             "#9c179e"
            ],
            [
             0.4444444444444444,
             "#bd3786"
            ],
            [
             0.5555555555555556,
             "#d8576b"
            ],
            [
             0.6666666666666666,
             "#ed7953"
            ],
            [
             0.7777777777777778,
             "#fb9f3a"
            ],
            [
             0.8888888888888888,
             "#fdca26"
            ],
            [
             1,
             "#f0f921"
            ]
           ]
          },
          "colorway": [
           "#636efa",
           "#EF553B",
           "#00cc96",
           "#ab63fa",
           "#FFA15A",
           "#19d3f3",
           "#FF6692",
           "#B6E880",
           "#FF97FF",
           "#FECB52"
          ],
          "font": {
           "color": "#2a3f5f"
          },
          "geo": {
           "bgcolor": "white",
           "lakecolor": "white",
           "landcolor": "#E5ECF6",
           "showlakes": true,
           "showland": true,
           "subunitcolor": "white"
          },
          "hoverlabel": {
           "align": "left"
          },
          "hovermode": "closest",
          "mapbox": {
           "style": "light"
          },
          "paper_bgcolor": "white",
          "plot_bgcolor": "#E5ECF6",
          "polar": {
           "angularaxis": {
            "gridcolor": "white",
            "linecolor": "white",
            "ticks": ""
           },
           "bgcolor": "#E5ECF6",
           "radialaxis": {
            "gridcolor": "white",
            "linecolor": "white",
            "ticks": ""
           }
          },
          "scene": {
           "xaxis": {
            "backgroundcolor": "#E5ECF6",
            "gridcolor": "white",
            "gridwidth": 2,
            "linecolor": "white",
            "showbackground": true,
            "ticks": "",
            "zerolinecolor": "white"
           },
           "yaxis": {
            "backgroundcolor": "#E5ECF6",
            "gridcolor": "white",
            "gridwidth": 2,
            "linecolor": "white",
            "showbackground": true,
            "ticks": "",
            "zerolinecolor": "white"
           },
           "zaxis": {
            "backgroundcolor": "#E5ECF6",
            "gridcolor": "white",
            "gridwidth": 2,
            "linecolor": "white",
            "showbackground": true,
            "ticks": "",
            "zerolinecolor": "white"
           }
          },
          "shapedefaults": {
           "line": {
            "color": "#2a3f5f"
           }
          },
          "ternary": {
           "aaxis": {
            "gridcolor": "white",
            "linecolor": "white",
            "ticks": ""
           },
           "baxis": {
            "gridcolor": "white",
            "linecolor": "white",
            "ticks": ""
           },
           "bgcolor": "#E5ECF6",
           "caxis": {
            "gridcolor": "white",
            "linecolor": "white",
            "ticks": ""
           }
          },
          "title": {
           "x": 0.05
          },
          "xaxis": {
           "automargin": true,
           "gridcolor": "white",
           "linecolor": "white",
           "ticks": "",
           "title": {
            "standoff": 15
           },
           "zerolinecolor": "white",
           "zerolinewidth": 2
          },
          "yaxis": {
           "automargin": true,
           "gridcolor": "white",
           "linecolor": "white",
           "ticks": "",
           "title": {
            "standoff": 15
           },
           "zerolinecolor": "white",
           "zerolinewidth": 2
          }
         }
        },
        "title": {
         "text": "Field platform types count"
        },
        "xaxis": {
         "anchor": "y",
         "domain": [
          0,
          1
         ],
         "title": {
          "text": "platform"
         }
        },
        "yaxis": {
         "anchor": "x",
         "domain": [
          0,
          1
         ],
         "title": {
          "text": "count"
         }
        }
       }
      },
      "text/html": [
       "<div>                            <div id=\"d09d5b3e-6278-439a-9958-e3ffeadd5dbf\" class=\"plotly-graph-div\" style=\"height:525px; width:100%;\"></div>            <script type=\"text/javascript\">                require([\"plotly\"], function(Plotly) {                    window.PLOTLYENV=window.PLOTLYENV || {};                                    if (document.getElementById(\"d09d5b3e-6278-439a-9958-e3ffeadd5dbf\")) {                    Plotly.newPlot(                        \"d09d5b3e-6278-439a-9958-e3ffeadd5dbf\",                        [{\"alignmentgroup\":\"True\",\"hovertemplate\":\"platform=%{x}<br>count=%{marker.color}<extra></extra>\",\"legendgroup\":\"\",\"marker\":{\"color\":[2727,1228,138,45,26,18,14,10,8,1],\"coloraxis\":\"coloraxis\",\"pattern\":{\"shape\":\"\"}},\"name\":\"\",\"offsetgroup\":\"\",\"orientation\":\"v\",\"showlegend\":false,\"text\":[2727.0,1228.0,138.0,45.0,26.0,18.0,14.0,10.0,8.0,1.0],\"textposition\":\"outside\",\"x\":[\"Unspecified\",\"All\",\"x86\",\"x86_64\",\"ARM64\",\"Other\",\"Desktop\",\"ARM\",\"PowerPC\",\"HP\"],\"xaxis\":\"x\",\"y\":[2727,1228,138,45,26,18,14,10,8,1],\"yaxis\":\"y\",\"type\":\"bar\",\"textfont\":{\"size\":10},\"texttemplate\":\"%{text:.2f}\"}],                        {\"template\":{\"data\":{\"histogram2dcontour\":[{\"type\":\"histogram2dcontour\",\"colorbar\":{\"outlinewidth\":0,\"ticks\":\"\"},\"colorscale\":[[0.0,\"#0d0887\"],[0.1111111111111111,\"#46039f\"],[0.2222222222222222,\"#7201a8\"],[0.3333333333333333,\"#9c179e\"],[0.4444444444444444,\"#bd3786\"],[0.5555555555555556,\"#d8576b\"],[0.6666666666666666,\"#ed7953\"],[0.7777777777777778,\"#fb9f3a\"],[0.8888888888888888,\"#fdca26\"],[1.0,\"#f0f921\"]]}],\"choropleth\":[{\"type\":\"choropleth\",\"colorbar\":{\"outlinewidth\":0,\"ticks\":\"\"}}],\"histogram2d\":[{\"type\":\"histogram2d\",\"colorbar\":{\"outlinewidth\":0,\"ticks\":\"\"},\"colorscale\":[[0.0,\"#0d0887\"],[0.1111111111111111,\"#46039f\"],[0.2222222222222222,\"#7201a8\"],[0.3333333333333333,\"#9c179e\"],[0.4444444444444444,\"#bd3786\"],[0.5555555555555556,\"#d8576b\"],[0.6666666666666666,\"#ed7953\"],[0.7777777777777778,\"#fb9f3a\"],[0.8888888888888888,\"#fdca26\"],[1.0,\"#f0f921\"]]}],\"heatmap\":[{\"type\":\"heatmap\",\"colorbar\":{\"outlinewidth\":0,\"ticks\":\"\"},\"colorscale\":[[0.0,\"#0d0887\"],[0.1111111111111111,\"#46039f\"],[0.2222222222222222,\"#7201a8\"],[0.3333333333333333,\"#9c179e\"],[0.4444444444444444,\"#bd3786\"],[0.5555555555555556,\"#d8576b\"],[0.6666666666666666,\"#ed7953\"],[0.7777777777777778,\"#fb9f3a\"],[0.8888888888888888,\"#fdca26\"],[1.0,\"#f0f921\"]]}],\"heatmapgl\":[{\"type\":\"heatmapgl\",\"colorbar\":{\"outlinewidth\":0,\"ticks\":\"\"},\"colorscale\":[[0.0,\"#0d0887\"],[0.1111111111111111,\"#46039f\"],[0.2222222222222222,\"#7201a8\"],[0.3333333333333333,\"#9c179e\"],[0.4444444444444444,\"#bd3786\"],[0.5555555555555556,\"#d8576b\"],[0.6666666666666666,\"#ed7953\"],[0.7777777777777778,\"#fb9f3a\"],[0.8888888888888888,\"#fdca26\"],[1.0,\"#f0f921\"]]}],\"contourcarpet\":[{\"type\":\"contourcarpet\",\"colorbar\":{\"outlinewidth\":0,\"ticks\":\"\"}}],\"contour\":[{\"type\":\"contour\",\"colorbar\":{\"outlinewidth\":0,\"ticks\":\"\"},\"colorscale\":[[0.0,\"#0d0887\"],[0.1111111111111111,\"#46039f\"],[0.2222222222222222,\"#7201a8\"],[0.3333333333333333,\"#9c179e\"],[0.4444444444444444,\"#bd3786\"],[0.5555555555555556,\"#d8576b\"],[0.6666666666666666,\"#ed7953\"],[0.7777777777777778,\"#fb9f3a\"],[0.8888888888888888,\"#fdca26\"],[1.0,\"#f0f921\"]]}],\"surface\":[{\"type\":\"surface\",\"colorbar\":{\"outlinewidth\":0,\"ticks\":\"\"},\"colorscale\":[[0.0,\"#0d0887\"],[0.1111111111111111,\"#46039f\"],[0.2222222222222222,\"#7201a8\"],[0.3333333333333333,\"#9c179e\"],[0.4444444444444444,\"#bd3786\"],[0.5555555555555556,\"#d8576b\"],[0.6666666666666666,\"#ed7953\"],[0.7777777777777778,\"#fb9f3a\"],[0.8888888888888888,\"#fdca26\"],[1.0,\"#f0f921\"]]}],\"mesh3d\":[{\"type\":\"mesh3d\",\"colorbar\":{\"outlinewidth\":0,\"ticks\":\"\"}}],\"scatter\":[{\"fillpattern\":{\"fillmode\":\"overlay\",\"size\":10,\"solidity\":0.2},\"type\":\"scatter\"}],\"parcoords\":[{\"type\":\"parcoords\",\"line\":{\"colorbar\":{\"outlinewidth\":0,\"ticks\":\"\"}}}],\"scatterpolargl\":[{\"type\":\"scatterpolargl\",\"marker\":{\"colorbar\":{\"outlinewidth\":0,\"ticks\":\"\"}}}],\"bar\":[{\"error_x\":{\"color\":\"#2a3f5f\"},\"error_y\":{\"color\":\"#2a3f5f\"},\"marker\":{\"line\":{\"color\":\"#E5ECF6\",\"width\":0.5},\"pattern\":{\"fillmode\":\"overlay\",\"size\":10,\"solidity\":0.2}},\"type\":\"bar\"}],\"scattergeo\":[{\"type\":\"scattergeo\",\"marker\":{\"colorbar\":{\"outlinewidth\":0,\"ticks\":\"\"}}}],\"scatterpolar\":[{\"type\":\"scatterpolar\",\"marker\":{\"colorbar\":{\"outlinewidth\":0,\"ticks\":\"\"}}}],\"histogram\":[{\"marker\":{\"pattern\":{\"fillmode\":\"overlay\",\"size\":10,\"solidity\":0.2}},\"type\":\"histogram\"}],\"scattergl\":[{\"type\":\"scattergl\",\"marker\":{\"colorbar\":{\"outlinewidth\":0,\"ticks\":\"\"}}}],\"scatter3d\":[{\"type\":\"scatter3d\",\"line\":{\"colorbar\":{\"outlinewidth\":0,\"ticks\":\"\"}},\"marker\":{\"colorbar\":{\"outlinewidth\":0,\"ticks\":\"\"}}}],\"scattermapbox\":[{\"type\":\"scattermapbox\",\"marker\":{\"colorbar\":{\"outlinewidth\":0,\"ticks\":\"\"}}}],\"scatterternary\":[{\"type\":\"scatterternary\",\"marker\":{\"colorbar\":{\"outlinewidth\":0,\"ticks\":\"\"}}}],\"scattercarpet\":[{\"type\":\"scattercarpet\",\"marker\":{\"colorbar\":{\"outlinewidth\":0,\"ticks\":\"\"}}}],\"carpet\":[{\"aaxis\":{\"endlinecolor\":\"#2a3f5f\",\"gridcolor\":\"white\",\"linecolor\":\"white\",\"minorgridcolor\":\"white\",\"startlinecolor\":\"#2a3f5f\"},\"baxis\":{\"endlinecolor\":\"#2a3f5f\",\"gridcolor\":\"white\",\"linecolor\":\"white\",\"minorgridcolor\":\"white\",\"startlinecolor\":\"#2a3f5f\"},\"type\":\"carpet\"}],\"table\":[{\"cells\":{\"fill\":{\"color\":\"#EBF0F8\"},\"line\":{\"color\":\"white\"}},\"header\":{\"fill\":{\"color\":\"#C8D4E3\"},\"line\":{\"color\":\"white\"}},\"type\":\"table\"}],\"barpolar\":[{\"marker\":{\"line\":{\"color\":\"#E5ECF6\",\"width\":0.5},\"pattern\":{\"fillmode\":\"overlay\",\"size\":10,\"solidity\":0.2}},\"type\":\"barpolar\"}],\"pie\":[{\"automargin\":true,\"type\":\"pie\"}]},\"layout\":{\"autotypenumbers\":\"strict\",\"colorway\":[\"#636efa\",\"#EF553B\",\"#00cc96\",\"#ab63fa\",\"#FFA15A\",\"#19d3f3\",\"#FF6692\",\"#B6E880\",\"#FF97FF\",\"#FECB52\"],\"font\":{\"color\":\"#2a3f5f\"},\"hovermode\":\"closest\",\"hoverlabel\":{\"align\":\"left\"},\"paper_bgcolor\":\"white\",\"plot_bgcolor\":\"#E5ECF6\",\"polar\":{\"bgcolor\":\"#E5ECF6\",\"angularaxis\":{\"gridcolor\":\"white\",\"linecolor\":\"white\",\"ticks\":\"\"},\"radialaxis\":{\"gridcolor\":\"white\",\"linecolor\":\"white\",\"ticks\":\"\"}},\"ternary\":{\"bgcolor\":\"#E5ECF6\",\"aaxis\":{\"gridcolor\":\"white\",\"linecolor\":\"white\",\"ticks\":\"\"},\"baxis\":{\"gridcolor\":\"white\",\"linecolor\":\"white\",\"ticks\":\"\"},\"caxis\":{\"gridcolor\":\"white\",\"linecolor\":\"white\",\"ticks\":\"\"}},\"coloraxis\":{\"colorbar\":{\"outlinewidth\":0,\"ticks\":\"\"}},\"colorscale\":{\"sequential\":[[0.0,\"#0d0887\"],[0.1111111111111111,\"#46039f\"],[0.2222222222222222,\"#7201a8\"],[0.3333333333333333,\"#9c179e\"],[0.4444444444444444,\"#bd3786\"],[0.5555555555555556,\"#d8576b\"],[0.6666666666666666,\"#ed7953\"],[0.7777777777777778,\"#fb9f3a\"],[0.8888888888888888,\"#fdca26\"],[1.0,\"#f0f921\"]],\"sequentialminus\":[[0.0,\"#0d0887\"],[0.1111111111111111,\"#46039f\"],[0.2222222222222222,\"#7201a8\"],[0.3333333333333333,\"#9c179e\"],[0.4444444444444444,\"#bd3786\"],[0.5555555555555556,\"#d8576b\"],[0.6666666666666666,\"#ed7953\"],[0.7777777777777778,\"#fb9f3a\"],[0.8888888888888888,\"#fdca26\"],[1.0,\"#f0f921\"]],\"diverging\":[[0,\"#8e0152\"],[0.1,\"#c51b7d\"],[0.2,\"#de77ae\"],[0.3,\"#f1b6da\"],[0.4,\"#fde0ef\"],[0.5,\"#f7f7f7\"],[0.6,\"#e6f5d0\"],[0.7,\"#b8e186\"],[0.8,\"#7fbc41\"],[0.9,\"#4d9221\"],[1,\"#276419\"]]},\"xaxis\":{\"gridcolor\":\"white\",\"linecolor\":\"white\",\"ticks\":\"\",\"title\":{\"standoff\":15},\"zerolinecolor\":\"white\",\"automargin\":true,\"zerolinewidth\":2},\"yaxis\":{\"gridcolor\":\"white\",\"linecolor\":\"white\",\"ticks\":\"\",\"title\":{\"standoff\":15},\"zerolinecolor\":\"white\",\"automargin\":true,\"zerolinewidth\":2},\"scene\":{\"xaxis\":{\"backgroundcolor\":\"#E5ECF6\",\"gridcolor\":\"white\",\"linecolor\":\"white\",\"showbackground\":true,\"ticks\":\"\",\"zerolinecolor\":\"white\",\"gridwidth\":2},\"yaxis\":{\"backgroundcolor\":\"#E5ECF6\",\"gridcolor\":\"white\",\"linecolor\":\"white\",\"showbackground\":true,\"ticks\":\"\",\"zerolinecolor\":\"white\",\"gridwidth\":2},\"zaxis\":{\"backgroundcolor\":\"#E5ECF6\",\"gridcolor\":\"white\",\"linecolor\":\"white\",\"showbackground\":true,\"ticks\":\"\",\"zerolinecolor\":\"white\",\"gridwidth\":2}},\"shapedefaults\":{\"line\":{\"color\":\"#2a3f5f\"}},\"annotationdefaults\":{\"arrowcolor\":\"#2a3f5f\",\"arrowhead\":0,\"arrowwidth\":1},\"geo\":{\"bgcolor\":\"white\",\"landcolor\":\"#E5ECF6\",\"subunitcolor\":\"white\",\"showland\":true,\"showlakes\":true,\"lakecolor\":\"white\"},\"title\":{\"x\":0.05},\"mapbox\":{\"style\":\"light\"}}},\"xaxis\":{\"anchor\":\"y\",\"domain\":[0.0,1.0],\"title\":{\"text\":\"platform\"}},\"yaxis\":{\"anchor\":\"x\",\"domain\":[0.0,1.0],\"title\":{\"text\":\"count\"}},\"coloraxis\":{\"colorbar\":{\"title\":{\"text\":\"count\"}},\"colorscale\":[[0.0,\"rgb(237, 217, 163)\"],[0.16666666666666666,\"rgb(246, 169, 122)\"],[0.3333333333333333,\"rgb(250, 120, 118)\"],[0.5,\"rgb(234, 79, 136)\"],[0.6666666666666666,\"rgb(192, 54, 157)\"],[0.8333333333333334,\"rgb(135, 44, 162)\"],[1.0,\"rgb(75, 41, 145)\"]]},\"legend\":{\"tracegroupgap\":0},\"margin\":{\"t\":60},\"barmode\":\"relative\",\"title\":{\"text\":\"Field platform types count\"}},                        {\"responsive\": true}                    ).then(function(){\n",
       "                            \n",
       "var gd = document.getElementById('d09d5b3e-6278-439a-9958-e3ffeadd5dbf');\n",
       "var x = new MutationObserver(function (mutations, observer) {{\n",
       "        var display = window.getComputedStyle(gd).display;\n",
       "        if (!display || display === 'none') {{\n",
       "            console.log([gd, 'removed!']);\n",
       "            Plotly.purge(gd);\n",
       "            observer.disconnect();\n",
       "        }}\n",
       "}});\n",
       "\n",
       "// Listen for the removal of the full notebook cells\n",
       "var notebookContainer = gd.closest('#notebook-container');\n",
       "if (notebookContainer) {{\n",
       "    x.observe(notebookContainer, {childList: true});\n",
       "}}\n",
       "\n",
       "// Listen for the clearing of the current output cell\n",
       "var outputEl = gd.closest('.output');\n",
       "if (outputEl) {{\n",
       "    x.observe(outputEl, {childList: true});\n",
       "}}\n",
       "\n",
       "                        })                };                });            </script>        </div>"
      ]
     },
     "metadata": {},
     "output_type": "display_data"
    },
    {
     "data": {
      "application/vnd.plotly.v1+json": {
       "config": {
        "plotlyServerURL": "https://plot.ly"
       },
       "data": [
        {
         "alignmentgroup": "True",
         "hovertemplate": "status=%{x}<br>count=%{marker.color}<extra></extra>",
         "legendgroup": "",
         "marker": {
          "color": [
           3695,
           366,
           109,
           30,
           15
          ],
          "coloraxis": "coloraxis",
          "pattern": {
           "shape": ""
          }
         },
         "name": "",
         "offsetgroup": "",
         "orientation": "v",
         "showlegend": false,
         "text": [
          3695,
          366,
          109,
          30,
          15
         ],
         "textfont": {
          "size": 10
         },
         "textposition": "outside",
         "texttemplate": "%{text:.2f}",
         "type": "bar",
         "x": [
          "NEW",
          "ASSIGNED",
          "REOPENED",
          "UNCONFIRMED",
          "RESOLVED"
         ],
         "xaxis": "x",
         "y": [
          3695,
          366,
          109,
          30,
          15
         ],
         "yaxis": "y"
        }
       ],
       "layout": {
        "barmode": "relative",
        "coloraxis": {
         "colorbar": {
          "title": {
           "text": "count"
          }
         },
         "colorscale": [
          [
           0,
           "rgb(237, 217, 163)"
          ],
          [
           0.16666666666666666,
           "rgb(246, 169, 122)"
          ],
          [
           0.3333333333333333,
           "rgb(250, 120, 118)"
          ],
          [
           0.5,
           "rgb(234, 79, 136)"
          ],
          [
           0.6666666666666666,
           "rgb(192, 54, 157)"
          ],
          [
           0.8333333333333334,
           "rgb(135, 44, 162)"
          ],
          [
           1,
           "rgb(75, 41, 145)"
          ]
         ]
        },
        "legend": {
         "tracegroupgap": 0
        },
        "margin": {
         "t": 60
        },
        "template": {
         "data": {
          "bar": [
           {
            "error_x": {
             "color": "#2a3f5f"
            },
            "error_y": {
             "color": "#2a3f5f"
            },
            "marker": {
             "line": {
              "color": "#E5ECF6",
              "width": 0.5
             },
             "pattern": {
              "fillmode": "overlay",
              "size": 10,
              "solidity": 0.2
             }
            },
            "type": "bar"
           }
          ],
          "barpolar": [
           {
            "marker": {
             "line": {
              "color": "#E5ECF6",
              "width": 0.5
             },
             "pattern": {
              "fillmode": "overlay",
              "size": 10,
              "solidity": 0.2
             }
            },
            "type": "barpolar"
           }
          ],
          "carpet": [
           {
            "aaxis": {
             "endlinecolor": "#2a3f5f",
             "gridcolor": "white",
             "linecolor": "white",
             "minorgridcolor": "white",
             "startlinecolor": "#2a3f5f"
            },
            "baxis": {
             "endlinecolor": "#2a3f5f",
             "gridcolor": "white",
             "linecolor": "white",
             "minorgridcolor": "white",
             "startlinecolor": "#2a3f5f"
            },
            "type": "carpet"
           }
          ],
          "choropleth": [
           {
            "colorbar": {
             "outlinewidth": 0,
             "ticks": ""
            },
            "type": "choropleth"
           }
          ],
          "contour": [
           {
            "colorbar": {
             "outlinewidth": 0,
             "ticks": ""
            },
            "colorscale": [
             [
              0,
              "#0d0887"
             ],
             [
              0.1111111111111111,
              "#46039f"
             ],
             [
              0.2222222222222222,
              "#7201a8"
             ],
             [
              0.3333333333333333,
              "#9c179e"
             ],
             [
              0.4444444444444444,
              "#bd3786"
             ],
             [
              0.5555555555555556,
              "#d8576b"
             ],
             [
              0.6666666666666666,
              "#ed7953"
             ],
             [
              0.7777777777777778,
              "#fb9f3a"
             ],
             [
              0.8888888888888888,
              "#fdca26"
             ],
             [
              1,
              "#f0f921"
             ]
            ],
            "type": "contour"
           }
          ],
          "contourcarpet": [
           {
            "colorbar": {
             "outlinewidth": 0,
             "ticks": ""
            },
            "type": "contourcarpet"
           }
          ],
          "heatmap": [
           {
            "colorbar": {
             "outlinewidth": 0,
             "ticks": ""
            },
            "colorscale": [
             [
              0,
              "#0d0887"
             ],
             [
              0.1111111111111111,
              "#46039f"
             ],
             [
              0.2222222222222222,
              "#7201a8"
             ],
             [
              0.3333333333333333,
              "#9c179e"
             ],
             [
              0.4444444444444444,
              "#bd3786"
             ],
             [
              0.5555555555555556,
              "#d8576b"
             ],
             [
              0.6666666666666666,
              "#ed7953"
             ],
             [
              0.7777777777777778,
              "#fb9f3a"
             ],
             [
              0.8888888888888888,
              "#fdca26"
             ],
             [
              1,
              "#f0f921"
             ]
            ],
            "type": "heatmap"
           }
          ],
          "heatmapgl": [
           {
            "colorbar": {
             "outlinewidth": 0,
             "ticks": ""
            },
            "colorscale": [
             [
              0,
              "#0d0887"
             ],
             [
              0.1111111111111111,
              "#46039f"
             ],
             [
              0.2222222222222222,
              "#7201a8"
             ],
             [
              0.3333333333333333,
              "#9c179e"
             ],
             [
              0.4444444444444444,
              "#bd3786"
             ],
             [
              0.5555555555555556,
              "#d8576b"
             ],
             [
              0.6666666666666666,
              "#ed7953"
             ],
             [
              0.7777777777777778,
              "#fb9f3a"
             ],
             [
              0.8888888888888888,
              "#fdca26"
             ],
             [
              1,
              "#f0f921"
             ]
            ],
            "type": "heatmapgl"
           }
          ],
          "histogram": [
           {
            "marker": {
             "pattern": {
              "fillmode": "overlay",
              "size": 10,
              "solidity": 0.2
             }
            },
            "type": "histogram"
           }
          ],
          "histogram2d": [
           {
            "colorbar": {
             "outlinewidth": 0,
             "ticks": ""
            },
            "colorscale": [
             [
              0,
              "#0d0887"
             ],
             [
              0.1111111111111111,
              "#46039f"
             ],
             [
              0.2222222222222222,
              "#7201a8"
             ],
             [
              0.3333333333333333,
              "#9c179e"
             ],
             [
              0.4444444444444444,
              "#bd3786"
             ],
             [
              0.5555555555555556,
              "#d8576b"
             ],
             [
              0.6666666666666666,
              "#ed7953"
             ],
             [
              0.7777777777777778,
              "#fb9f3a"
             ],
             [
              0.8888888888888888,
              "#fdca26"
             ],
             [
              1,
              "#f0f921"
             ]
            ],
            "type": "histogram2d"
           }
          ],
          "histogram2dcontour": [
           {
            "colorbar": {
             "outlinewidth": 0,
             "ticks": ""
            },
            "colorscale": [
             [
              0,
              "#0d0887"
             ],
             [
              0.1111111111111111,
              "#46039f"
             ],
             [
              0.2222222222222222,
              "#7201a8"
             ],
             [
              0.3333333333333333,
              "#9c179e"
             ],
             [
              0.4444444444444444,
              "#bd3786"
             ],
             [
              0.5555555555555556,
              "#d8576b"
             ],
             [
              0.6666666666666666,
              "#ed7953"
             ],
             [
              0.7777777777777778,
              "#fb9f3a"
             ],
             [
              0.8888888888888888,
              "#fdca26"
             ],
             [
              1,
              "#f0f921"
             ]
            ],
            "type": "histogram2dcontour"
           }
          ],
          "mesh3d": [
           {
            "colorbar": {
             "outlinewidth": 0,
             "ticks": ""
            },
            "type": "mesh3d"
           }
          ],
          "parcoords": [
           {
            "line": {
             "colorbar": {
              "outlinewidth": 0,
              "ticks": ""
             }
            },
            "type": "parcoords"
           }
          ],
          "pie": [
           {
            "automargin": true,
            "type": "pie"
           }
          ],
          "scatter": [
           {
            "fillpattern": {
             "fillmode": "overlay",
             "size": 10,
             "solidity": 0.2
            },
            "type": "scatter"
           }
          ],
          "scatter3d": [
           {
            "line": {
             "colorbar": {
              "outlinewidth": 0,
              "ticks": ""
             }
            },
            "marker": {
             "colorbar": {
              "outlinewidth": 0,
              "ticks": ""
             }
            },
            "type": "scatter3d"
           }
          ],
          "scattercarpet": [
           {
            "marker": {
             "colorbar": {
              "outlinewidth": 0,
              "ticks": ""
             }
            },
            "type": "scattercarpet"
           }
          ],
          "scattergeo": [
           {
            "marker": {
             "colorbar": {
              "outlinewidth": 0,
              "ticks": ""
             }
            },
            "type": "scattergeo"
           }
          ],
          "scattergl": [
           {
            "marker": {
             "colorbar": {
              "outlinewidth": 0,
              "ticks": ""
             }
            },
            "type": "scattergl"
           }
          ],
          "scattermapbox": [
           {
            "marker": {
             "colorbar": {
              "outlinewidth": 0,
              "ticks": ""
             }
            },
            "type": "scattermapbox"
           }
          ],
          "scatterpolar": [
           {
            "marker": {
             "colorbar": {
              "outlinewidth": 0,
              "ticks": ""
             }
            },
            "type": "scatterpolar"
           }
          ],
          "scatterpolargl": [
           {
            "marker": {
             "colorbar": {
              "outlinewidth": 0,
              "ticks": ""
             }
            },
            "type": "scatterpolargl"
           }
          ],
          "scatterternary": [
           {
            "marker": {
             "colorbar": {
              "outlinewidth": 0,
              "ticks": ""
             }
            },
            "type": "scatterternary"
           }
          ],
          "surface": [
           {
            "colorbar": {
             "outlinewidth": 0,
             "ticks": ""
            },
            "colorscale": [
             [
              0,
              "#0d0887"
             ],
             [
              0.1111111111111111,
              "#46039f"
             ],
             [
              0.2222222222222222,
              "#7201a8"
             ],
             [
              0.3333333333333333,
              "#9c179e"
             ],
             [
              0.4444444444444444,
              "#bd3786"
             ],
             [
              0.5555555555555556,
              "#d8576b"
             ],
             [
              0.6666666666666666,
              "#ed7953"
             ],
             [
              0.7777777777777778,
              "#fb9f3a"
             ],
             [
              0.8888888888888888,
              "#fdca26"
             ],
             [
              1,
              "#f0f921"
             ]
            ],
            "type": "surface"
           }
          ],
          "table": [
           {
            "cells": {
             "fill": {
              "color": "#EBF0F8"
             },
             "line": {
              "color": "white"
             }
            },
            "header": {
             "fill": {
              "color": "#C8D4E3"
             },
             "line": {
              "color": "white"
             }
            },
            "type": "table"
           }
          ]
         },
         "layout": {
          "annotationdefaults": {
           "arrowcolor": "#2a3f5f",
           "arrowhead": 0,
           "arrowwidth": 1
          },
          "autotypenumbers": "strict",
          "coloraxis": {
           "colorbar": {
            "outlinewidth": 0,
            "ticks": ""
           }
          },
          "colorscale": {
           "diverging": [
            [
             0,
             "#8e0152"
            ],
            [
             0.1,
             "#c51b7d"
            ],
            [
             0.2,
             "#de77ae"
            ],
            [
             0.3,
             "#f1b6da"
            ],
            [
             0.4,
             "#fde0ef"
            ],
            [
             0.5,
             "#f7f7f7"
            ],
            [
             0.6,
             "#e6f5d0"
            ],
            [
             0.7,
             "#b8e186"
            ],
            [
             0.8,
             "#7fbc41"
            ],
            [
             0.9,
             "#4d9221"
            ],
            [
             1,
             "#276419"
            ]
           ],
           "sequential": [
            [
             0,
             "#0d0887"
            ],
            [
             0.1111111111111111,
             "#46039f"
            ],
            [
             0.2222222222222222,
             "#7201a8"
            ],
            [
             0.3333333333333333,
             "#9c179e"
            ],
            [
             0.4444444444444444,
             "#bd3786"
            ],
            [
             0.5555555555555556,
             "#d8576b"
            ],
            [
             0.6666666666666666,
             "#ed7953"
            ],
            [
             0.7777777777777778,
             "#fb9f3a"
            ],
            [
             0.8888888888888888,
             "#fdca26"
            ],
            [
             1,
             "#f0f921"
            ]
           ],
           "sequentialminus": [
            [
             0,
             "#0d0887"
            ],
            [
             0.1111111111111111,
             "#46039f"
            ],
            [
             0.2222222222222222,
             "#7201a8"
            ],
            [
             0.3333333333333333,
             "#9c179e"
            ],
            [
             0.4444444444444444,
             "#bd3786"
            ],
            [
             0.5555555555555556,
             "#d8576b"
            ],
            [
             0.6666666666666666,
             "#ed7953"
            ],
            [
             0.7777777777777778,
             "#fb9f3a"
            ],
            [
             0.8888888888888888,
             "#fdca26"
            ],
            [
             1,
             "#f0f921"
            ]
           ]
          },
          "colorway": [
           "#636efa",
           "#EF553B",
           "#00cc96",
           "#ab63fa",
           "#FFA15A",
           "#19d3f3",
           "#FF6692",
           "#B6E880",
           "#FF97FF",
           "#FECB52"
          ],
          "font": {
           "color": "#2a3f5f"
          },
          "geo": {
           "bgcolor": "white",
           "lakecolor": "white",
           "landcolor": "#E5ECF6",
           "showlakes": true,
           "showland": true,
           "subunitcolor": "white"
          },
          "hoverlabel": {
           "align": "left"
          },
          "hovermode": "closest",
          "mapbox": {
           "style": "light"
          },
          "paper_bgcolor": "white",
          "plot_bgcolor": "#E5ECF6",
          "polar": {
           "angularaxis": {
            "gridcolor": "white",
            "linecolor": "white",
            "ticks": ""
           },
           "bgcolor": "#E5ECF6",
           "radialaxis": {
            "gridcolor": "white",
            "linecolor": "white",
            "ticks": ""
           }
          },
          "scene": {
           "xaxis": {
            "backgroundcolor": "#E5ECF6",
            "gridcolor": "white",
            "gridwidth": 2,
            "linecolor": "white",
            "showbackground": true,
            "ticks": "",
            "zerolinecolor": "white"
           },
           "yaxis": {
            "backgroundcolor": "#E5ECF6",
            "gridcolor": "white",
            "gridwidth": 2,
            "linecolor": "white",
            "showbackground": true,
            "ticks": "",
            "zerolinecolor": "white"
           },
           "zaxis": {
            "backgroundcolor": "#E5ECF6",
            "gridcolor": "white",
            "gridwidth": 2,
            "linecolor": "white",
            "showbackground": true,
            "ticks": "",
            "zerolinecolor": "white"
           }
          },
          "shapedefaults": {
           "line": {
            "color": "#2a3f5f"
           }
          },
          "ternary": {
           "aaxis": {
            "gridcolor": "white",
            "linecolor": "white",
            "ticks": ""
           },
           "baxis": {
            "gridcolor": "white",
            "linecolor": "white",
            "ticks": ""
           },
           "bgcolor": "#E5ECF6",
           "caxis": {
            "gridcolor": "white",
            "linecolor": "white",
            "ticks": ""
           }
          },
          "title": {
           "x": 0.05
          },
          "xaxis": {
           "automargin": true,
           "gridcolor": "white",
           "linecolor": "white",
           "ticks": "",
           "title": {
            "standoff": 15
           },
           "zerolinecolor": "white",
           "zerolinewidth": 2
          },
          "yaxis": {
           "automargin": true,
           "gridcolor": "white",
           "linecolor": "white",
           "ticks": "",
           "title": {
            "standoff": 15
           },
           "zerolinecolor": "white",
           "zerolinewidth": 2
          }
         }
        },
        "title": {
         "text": "Field status types count"
        },
        "xaxis": {
         "anchor": "y",
         "domain": [
          0,
          1
         ],
         "title": {
          "text": "status"
         }
        },
        "yaxis": {
         "anchor": "x",
         "domain": [
          0,
          1
         ],
         "title": {
          "text": "count"
         }
        }
       }
      },
      "text/html": [
       "<div>                            <div id=\"5697a96c-bfc0-4a89-b004-87c38c5cade9\" class=\"plotly-graph-div\" style=\"height:525px; width:100%;\"></div>            <script type=\"text/javascript\">                require([\"plotly\"], function(Plotly) {                    window.PLOTLYENV=window.PLOTLYENV || {};                                    if (document.getElementById(\"5697a96c-bfc0-4a89-b004-87c38c5cade9\")) {                    Plotly.newPlot(                        \"5697a96c-bfc0-4a89-b004-87c38c5cade9\",                        [{\"alignmentgroup\":\"True\",\"hovertemplate\":\"status=%{x}<br>count=%{marker.color}<extra></extra>\",\"legendgroup\":\"\",\"marker\":{\"color\":[3695,366,109,30,15],\"coloraxis\":\"coloraxis\",\"pattern\":{\"shape\":\"\"}},\"name\":\"\",\"offsetgroup\":\"\",\"orientation\":\"v\",\"showlegend\":false,\"text\":[3695.0,366.0,109.0,30.0,15.0],\"textposition\":\"outside\",\"x\":[\"NEW\",\"ASSIGNED\",\"REOPENED\",\"UNCONFIRMED\",\"RESOLVED\"],\"xaxis\":\"x\",\"y\":[3695,366,109,30,15],\"yaxis\":\"y\",\"type\":\"bar\",\"textfont\":{\"size\":10},\"texttemplate\":\"%{text:.2f}\"}],                        {\"template\":{\"data\":{\"histogram2dcontour\":[{\"type\":\"histogram2dcontour\",\"colorbar\":{\"outlinewidth\":0,\"ticks\":\"\"},\"colorscale\":[[0.0,\"#0d0887\"],[0.1111111111111111,\"#46039f\"],[0.2222222222222222,\"#7201a8\"],[0.3333333333333333,\"#9c179e\"],[0.4444444444444444,\"#bd3786\"],[0.5555555555555556,\"#d8576b\"],[0.6666666666666666,\"#ed7953\"],[0.7777777777777778,\"#fb9f3a\"],[0.8888888888888888,\"#fdca26\"],[1.0,\"#f0f921\"]]}],\"choropleth\":[{\"type\":\"choropleth\",\"colorbar\":{\"outlinewidth\":0,\"ticks\":\"\"}}],\"histogram2d\":[{\"type\":\"histogram2d\",\"colorbar\":{\"outlinewidth\":0,\"ticks\":\"\"},\"colorscale\":[[0.0,\"#0d0887\"],[0.1111111111111111,\"#46039f\"],[0.2222222222222222,\"#7201a8\"],[0.3333333333333333,\"#9c179e\"],[0.4444444444444444,\"#bd3786\"],[0.5555555555555556,\"#d8576b\"],[0.6666666666666666,\"#ed7953\"],[0.7777777777777778,\"#fb9f3a\"],[0.8888888888888888,\"#fdca26\"],[1.0,\"#f0f921\"]]}],\"heatmap\":[{\"type\":\"heatmap\",\"colorbar\":{\"outlinewidth\":0,\"ticks\":\"\"},\"colorscale\":[[0.0,\"#0d0887\"],[0.1111111111111111,\"#46039f\"],[0.2222222222222222,\"#7201a8\"],[0.3333333333333333,\"#9c179e\"],[0.4444444444444444,\"#bd3786\"],[0.5555555555555556,\"#d8576b\"],[0.6666666666666666,\"#ed7953\"],[0.7777777777777778,\"#fb9f3a\"],[0.8888888888888888,\"#fdca26\"],[1.0,\"#f0f921\"]]}],\"heatmapgl\":[{\"type\":\"heatmapgl\",\"colorbar\":{\"outlinewidth\":0,\"ticks\":\"\"},\"colorscale\":[[0.0,\"#0d0887\"],[0.1111111111111111,\"#46039f\"],[0.2222222222222222,\"#7201a8\"],[0.3333333333333333,\"#9c179e\"],[0.4444444444444444,\"#bd3786\"],[0.5555555555555556,\"#d8576b\"],[0.6666666666666666,\"#ed7953\"],[0.7777777777777778,\"#fb9f3a\"],[0.8888888888888888,\"#fdca26\"],[1.0,\"#f0f921\"]]}],\"contourcarpet\":[{\"type\":\"contourcarpet\",\"colorbar\":{\"outlinewidth\":0,\"ticks\":\"\"}}],\"contour\":[{\"type\":\"contour\",\"colorbar\":{\"outlinewidth\":0,\"ticks\":\"\"},\"colorscale\":[[0.0,\"#0d0887\"],[0.1111111111111111,\"#46039f\"],[0.2222222222222222,\"#7201a8\"],[0.3333333333333333,\"#9c179e\"],[0.4444444444444444,\"#bd3786\"],[0.5555555555555556,\"#d8576b\"],[0.6666666666666666,\"#ed7953\"],[0.7777777777777778,\"#fb9f3a\"],[0.8888888888888888,\"#fdca26\"],[1.0,\"#f0f921\"]]}],\"surface\":[{\"type\":\"surface\",\"colorbar\":{\"outlinewidth\":0,\"ticks\":\"\"},\"colorscale\":[[0.0,\"#0d0887\"],[0.1111111111111111,\"#46039f\"],[0.2222222222222222,\"#7201a8\"],[0.3333333333333333,\"#9c179e\"],[0.4444444444444444,\"#bd3786\"],[0.5555555555555556,\"#d8576b\"],[0.6666666666666666,\"#ed7953\"],[0.7777777777777778,\"#fb9f3a\"],[0.8888888888888888,\"#fdca26\"],[1.0,\"#f0f921\"]]}],\"mesh3d\":[{\"type\":\"mesh3d\",\"colorbar\":{\"outlinewidth\":0,\"ticks\":\"\"}}],\"scatter\":[{\"fillpattern\":{\"fillmode\":\"overlay\",\"size\":10,\"solidity\":0.2},\"type\":\"scatter\"}],\"parcoords\":[{\"type\":\"parcoords\",\"line\":{\"colorbar\":{\"outlinewidth\":0,\"ticks\":\"\"}}}],\"scatterpolargl\":[{\"type\":\"scatterpolargl\",\"marker\":{\"colorbar\":{\"outlinewidth\":0,\"ticks\":\"\"}}}],\"bar\":[{\"error_x\":{\"color\":\"#2a3f5f\"},\"error_y\":{\"color\":\"#2a3f5f\"},\"marker\":{\"line\":{\"color\":\"#E5ECF6\",\"width\":0.5},\"pattern\":{\"fillmode\":\"overlay\",\"size\":10,\"solidity\":0.2}},\"type\":\"bar\"}],\"scattergeo\":[{\"type\":\"scattergeo\",\"marker\":{\"colorbar\":{\"outlinewidth\":0,\"ticks\":\"\"}}}],\"scatterpolar\":[{\"type\":\"scatterpolar\",\"marker\":{\"colorbar\":{\"outlinewidth\":0,\"ticks\":\"\"}}}],\"histogram\":[{\"marker\":{\"pattern\":{\"fillmode\":\"overlay\",\"size\":10,\"solidity\":0.2}},\"type\":\"histogram\"}],\"scattergl\":[{\"type\":\"scattergl\",\"marker\":{\"colorbar\":{\"outlinewidth\":0,\"ticks\":\"\"}}}],\"scatter3d\":[{\"type\":\"scatter3d\",\"line\":{\"colorbar\":{\"outlinewidth\":0,\"ticks\":\"\"}},\"marker\":{\"colorbar\":{\"outlinewidth\":0,\"ticks\":\"\"}}}],\"scattermapbox\":[{\"type\":\"scattermapbox\",\"marker\":{\"colorbar\":{\"outlinewidth\":0,\"ticks\":\"\"}}}],\"scatterternary\":[{\"type\":\"scatterternary\",\"marker\":{\"colorbar\":{\"outlinewidth\":0,\"ticks\":\"\"}}}],\"scattercarpet\":[{\"type\":\"scattercarpet\",\"marker\":{\"colorbar\":{\"outlinewidth\":0,\"ticks\":\"\"}}}],\"carpet\":[{\"aaxis\":{\"endlinecolor\":\"#2a3f5f\",\"gridcolor\":\"white\",\"linecolor\":\"white\",\"minorgridcolor\":\"white\",\"startlinecolor\":\"#2a3f5f\"},\"baxis\":{\"endlinecolor\":\"#2a3f5f\",\"gridcolor\":\"white\",\"linecolor\":\"white\",\"minorgridcolor\":\"white\",\"startlinecolor\":\"#2a3f5f\"},\"type\":\"carpet\"}],\"table\":[{\"cells\":{\"fill\":{\"color\":\"#EBF0F8\"},\"line\":{\"color\":\"white\"}},\"header\":{\"fill\":{\"color\":\"#C8D4E3\"},\"line\":{\"color\":\"white\"}},\"type\":\"table\"}],\"barpolar\":[{\"marker\":{\"line\":{\"color\":\"#E5ECF6\",\"width\":0.5},\"pattern\":{\"fillmode\":\"overlay\",\"size\":10,\"solidity\":0.2}},\"type\":\"barpolar\"}],\"pie\":[{\"automargin\":true,\"type\":\"pie\"}]},\"layout\":{\"autotypenumbers\":\"strict\",\"colorway\":[\"#636efa\",\"#EF553B\",\"#00cc96\",\"#ab63fa\",\"#FFA15A\",\"#19d3f3\",\"#FF6692\",\"#B6E880\",\"#FF97FF\",\"#FECB52\"],\"font\":{\"color\":\"#2a3f5f\"},\"hovermode\":\"closest\",\"hoverlabel\":{\"align\":\"left\"},\"paper_bgcolor\":\"white\",\"plot_bgcolor\":\"#E5ECF6\",\"polar\":{\"bgcolor\":\"#E5ECF6\",\"angularaxis\":{\"gridcolor\":\"white\",\"linecolor\":\"white\",\"ticks\":\"\"},\"radialaxis\":{\"gridcolor\":\"white\",\"linecolor\":\"white\",\"ticks\":\"\"}},\"ternary\":{\"bgcolor\":\"#E5ECF6\",\"aaxis\":{\"gridcolor\":\"white\",\"linecolor\":\"white\",\"ticks\":\"\"},\"baxis\":{\"gridcolor\":\"white\",\"linecolor\":\"white\",\"ticks\":\"\"},\"caxis\":{\"gridcolor\":\"white\",\"linecolor\":\"white\",\"ticks\":\"\"}},\"coloraxis\":{\"colorbar\":{\"outlinewidth\":0,\"ticks\":\"\"}},\"colorscale\":{\"sequential\":[[0.0,\"#0d0887\"],[0.1111111111111111,\"#46039f\"],[0.2222222222222222,\"#7201a8\"],[0.3333333333333333,\"#9c179e\"],[0.4444444444444444,\"#bd3786\"],[0.5555555555555556,\"#d8576b\"],[0.6666666666666666,\"#ed7953\"],[0.7777777777777778,\"#fb9f3a\"],[0.8888888888888888,\"#fdca26\"],[1.0,\"#f0f921\"]],\"sequentialminus\":[[0.0,\"#0d0887\"],[0.1111111111111111,\"#46039f\"],[0.2222222222222222,\"#7201a8\"],[0.3333333333333333,\"#9c179e\"],[0.4444444444444444,\"#bd3786\"],[0.5555555555555556,\"#d8576b\"],[0.6666666666666666,\"#ed7953\"],[0.7777777777777778,\"#fb9f3a\"],[0.8888888888888888,\"#fdca26\"],[1.0,\"#f0f921\"]],\"diverging\":[[0,\"#8e0152\"],[0.1,\"#c51b7d\"],[0.2,\"#de77ae\"],[0.3,\"#f1b6da\"],[0.4,\"#fde0ef\"],[0.5,\"#f7f7f7\"],[0.6,\"#e6f5d0\"],[0.7,\"#b8e186\"],[0.8,\"#7fbc41\"],[0.9,\"#4d9221\"],[1,\"#276419\"]]},\"xaxis\":{\"gridcolor\":\"white\",\"linecolor\":\"white\",\"ticks\":\"\",\"title\":{\"standoff\":15},\"zerolinecolor\":\"white\",\"automargin\":true,\"zerolinewidth\":2},\"yaxis\":{\"gridcolor\":\"white\",\"linecolor\":\"white\",\"ticks\":\"\",\"title\":{\"standoff\":15},\"zerolinecolor\":\"white\",\"automargin\":true,\"zerolinewidth\":2},\"scene\":{\"xaxis\":{\"backgroundcolor\":\"#E5ECF6\",\"gridcolor\":\"white\",\"linecolor\":\"white\",\"showbackground\":true,\"ticks\":\"\",\"zerolinecolor\":\"white\",\"gridwidth\":2},\"yaxis\":{\"backgroundcolor\":\"#E5ECF6\",\"gridcolor\":\"white\",\"linecolor\":\"white\",\"showbackground\":true,\"ticks\":\"\",\"zerolinecolor\":\"white\",\"gridwidth\":2},\"zaxis\":{\"backgroundcolor\":\"#E5ECF6\",\"gridcolor\":\"white\",\"linecolor\":\"white\",\"showbackground\":true,\"ticks\":\"\",\"zerolinecolor\":\"white\",\"gridwidth\":2}},\"shapedefaults\":{\"line\":{\"color\":\"#2a3f5f\"}},\"annotationdefaults\":{\"arrowcolor\":\"#2a3f5f\",\"arrowhead\":0,\"arrowwidth\":1},\"geo\":{\"bgcolor\":\"white\",\"landcolor\":\"#E5ECF6\",\"subunitcolor\":\"white\",\"showland\":true,\"showlakes\":true,\"lakecolor\":\"white\"},\"title\":{\"x\":0.05},\"mapbox\":{\"style\":\"light\"}}},\"xaxis\":{\"anchor\":\"y\",\"domain\":[0.0,1.0],\"title\":{\"text\":\"status\"}},\"yaxis\":{\"anchor\":\"x\",\"domain\":[0.0,1.0],\"title\":{\"text\":\"count\"}},\"coloraxis\":{\"colorbar\":{\"title\":{\"text\":\"count\"}},\"colorscale\":[[0.0,\"rgb(237, 217, 163)\"],[0.16666666666666666,\"rgb(246, 169, 122)\"],[0.3333333333333333,\"rgb(250, 120, 118)\"],[0.5,\"rgb(234, 79, 136)\"],[0.6666666666666666,\"rgb(192, 54, 157)\"],[0.8333333333333334,\"rgb(135, 44, 162)\"],[1.0,\"rgb(75, 41, 145)\"]]},\"legend\":{\"tracegroupgap\":0},\"margin\":{\"t\":60},\"barmode\":\"relative\",\"title\":{\"text\":\"Field status types count\"}},                        {\"responsive\": true}                    ).then(function(){\n",
       "                            \n",
       "var gd = document.getElementById('5697a96c-bfc0-4a89-b004-87c38c5cade9');\n",
       "var x = new MutationObserver(function (mutations, observer) {{\n",
       "        var display = window.getComputedStyle(gd).display;\n",
       "        if (!display || display === 'none') {{\n",
       "            console.log([gd, 'removed!']);\n",
       "            Plotly.purge(gd);\n",
       "            observer.disconnect();\n",
       "        }}\n",
       "}});\n",
       "\n",
       "// Listen for the removal of the full notebook cells\n",
       "var notebookContainer = gd.closest('#notebook-container');\n",
       "if (notebookContainer) {{\n",
       "    x.observe(notebookContainer, {childList: true});\n",
       "}}\n",
       "\n",
       "// Listen for the clearing of the current output cell\n",
       "var outputEl = gd.closest('.output');\n",
       "if (outputEl) {{\n",
       "    x.observe(outputEl, {childList: true});\n",
       "}}\n",
       "\n",
       "                        })                };                });            </script>        </div>"
      ]
     },
     "metadata": {},
     "output_type": "display_data"
    },
    {
     "data": {
      "application/vnd.plotly.v1+json": {
       "config": {
        "plotlyServerURL": "https://plot.ly"
       },
       "data": [
        {
         "alignmentgroup": "True",
         "hovertemplate": "is_confirmed=%{x}<br>count=%{marker.color}<extra></extra>",
         "legendgroup": "",
         "marker": {
          "color": [
           4185,
           30
          ],
          "coloraxis": "coloraxis",
          "pattern": {
           "shape": ""
          }
         },
         "name": "",
         "offsetgroup": "",
         "orientation": "v",
         "showlegend": false,
         "text": [
          4185,
          30
         ],
         "textfont": {
          "size": 10
         },
         "textposition": "outside",
         "texttemplate": "%{text:.2f}",
         "type": "bar",
         "x": [
          true,
          false
         ],
         "xaxis": "x",
         "y": [
          4185,
          30
         ],
         "yaxis": "y"
        }
       ],
       "layout": {
        "barmode": "relative",
        "coloraxis": {
         "colorbar": {
          "title": {
           "text": "count"
          }
         },
         "colorscale": [
          [
           0,
           "rgb(237, 217, 163)"
          ],
          [
           0.16666666666666666,
           "rgb(246, 169, 122)"
          ],
          [
           0.3333333333333333,
           "rgb(250, 120, 118)"
          ],
          [
           0.5,
           "rgb(234, 79, 136)"
          ],
          [
           0.6666666666666666,
           "rgb(192, 54, 157)"
          ],
          [
           0.8333333333333334,
           "rgb(135, 44, 162)"
          ],
          [
           1,
           "rgb(75, 41, 145)"
          ]
         ]
        },
        "legend": {
         "tracegroupgap": 0
        },
        "margin": {
         "t": 60
        },
        "template": {
         "data": {
          "bar": [
           {
            "error_x": {
             "color": "#2a3f5f"
            },
            "error_y": {
             "color": "#2a3f5f"
            },
            "marker": {
             "line": {
              "color": "#E5ECF6",
              "width": 0.5
             },
             "pattern": {
              "fillmode": "overlay",
              "size": 10,
              "solidity": 0.2
             }
            },
            "type": "bar"
           }
          ],
          "barpolar": [
           {
            "marker": {
             "line": {
              "color": "#E5ECF6",
              "width": 0.5
             },
             "pattern": {
              "fillmode": "overlay",
              "size": 10,
              "solidity": 0.2
             }
            },
            "type": "barpolar"
           }
          ],
          "carpet": [
           {
            "aaxis": {
             "endlinecolor": "#2a3f5f",
             "gridcolor": "white",
             "linecolor": "white",
             "minorgridcolor": "white",
             "startlinecolor": "#2a3f5f"
            },
            "baxis": {
             "endlinecolor": "#2a3f5f",
             "gridcolor": "white",
             "linecolor": "white",
             "minorgridcolor": "white",
             "startlinecolor": "#2a3f5f"
            },
            "type": "carpet"
           }
          ],
          "choropleth": [
           {
            "colorbar": {
             "outlinewidth": 0,
             "ticks": ""
            },
            "type": "choropleth"
           }
          ],
          "contour": [
           {
            "colorbar": {
             "outlinewidth": 0,
             "ticks": ""
            },
            "colorscale": [
             [
              0,
              "#0d0887"
             ],
             [
              0.1111111111111111,
              "#46039f"
             ],
             [
              0.2222222222222222,
              "#7201a8"
             ],
             [
              0.3333333333333333,
              "#9c179e"
             ],
             [
              0.4444444444444444,
              "#bd3786"
             ],
             [
              0.5555555555555556,
              "#d8576b"
             ],
             [
              0.6666666666666666,
              "#ed7953"
             ],
             [
              0.7777777777777778,
              "#fb9f3a"
             ],
             [
              0.8888888888888888,
              "#fdca26"
             ],
             [
              1,
              "#f0f921"
             ]
            ],
            "type": "contour"
           }
          ],
          "contourcarpet": [
           {
            "colorbar": {
             "outlinewidth": 0,
             "ticks": ""
            },
            "type": "contourcarpet"
           }
          ],
          "heatmap": [
           {
            "colorbar": {
             "outlinewidth": 0,
             "ticks": ""
            },
            "colorscale": [
             [
              0,
              "#0d0887"
             ],
             [
              0.1111111111111111,
              "#46039f"
             ],
             [
              0.2222222222222222,
              "#7201a8"
             ],
             [
              0.3333333333333333,
              "#9c179e"
             ],
             [
              0.4444444444444444,
              "#bd3786"
             ],
             [
              0.5555555555555556,
              "#d8576b"
             ],
             [
              0.6666666666666666,
              "#ed7953"
             ],
             [
              0.7777777777777778,
              "#fb9f3a"
             ],
             [
              0.8888888888888888,
              "#fdca26"
             ],
             [
              1,
              "#f0f921"
             ]
            ],
            "type": "heatmap"
           }
          ],
          "heatmapgl": [
           {
            "colorbar": {
             "outlinewidth": 0,
             "ticks": ""
            },
            "colorscale": [
             [
              0,
              "#0d0887"
             ],
             [
              0.1111111111111111,
              "#46039f"
             ],
             [
              0.2222222222222222,
              "#7201a8"
             ],
             [
              0.3333333333333333,
              "#9c179e"
             ],
             [
              0.4444444444444444,
              "#bd3786"
             ],
             [
              0.5555555555555556,
              "#d8576b"
             ],
             [
              0.6666666666666666,
              "#ed7953"
             ],
             [
              0.7777777777777778,
              "#fb9f3a"
             ],
             [
              0.8888888888888888,
              "#fdca26"
             ],
             [
              1,
              "#f0f921"
             ]
            ],
            "type": "heatmapgl"
           }
          ],
          "histogram": [
           {
            "marker": {
             "pattern": {
              "fillmode": "overlay",
              "size": 10,
              "solidity": 0.2
             }
            },
            "type": "histogram"
           }
          ],
          "histogram2d": [
           {
            "colorbar": {
             "outlinewidth": 0,
             "ticks": ""
            },
            "colorscale": [
             [
              0,
              "#0d0887"
             ],
             [
              0.1111111111111111,
              "#46039f"
             ],
             [
              0.2222222222222222,
              "#7201a8"
             ],
             [
              0.3333333333333333,
              "#9c179e"
             ],
             [
              0.4444444444444444,
              "#bd3786"
             ],
             [
              0.5555555555555556,
              "#d8576b"
             ],
             [
              0.6666666666666666,
              "#ed7953"
             ],
             [
              0.7777777777777778,
              "#fb9f3a"
             ],
             [
              0.8888888888888888,
              "#fdca26"
             ],
             [
              1,
              "#f0f921"
             ]
            ],
            "type": "histogram2d"
           }
          ],
          "histogram2dcontour": [
           {
            "colorbar": {
             "outlinewidth": 0,
             "ticks": ""
            },
            "colorscale": [
             [
              0,
              "#0d0887"
             ],
             [
              0.1111111111111111,
              "#46039f"
             ],
             [
              0.2222222222222222,
              "#7201a8"
             ],
             [
              0.3333333333333333,
              "#9c179e"
             ],
             [
              0.4444444444444444,
              "#bd3786"
             ],
             [
              0.5555555555555556,
              "#d8576b"
             ],
             [
              0.6666666666666666,
              "#ed7953"
             ],
             [
              0.7777777777777778,
              "#fb9f3a"
             ],
             [
              0.8888888888888888,
              "#fdca26"
             ],
             [
              1,
              "#f0f921"
             ]
            ],
            "type": "histogram2dcontour"
           }
          ],
          "mesh3d": [
           {
            "colorbar": {
             "outlinewidth": 0,
             "ticks": ""
            },
            "type": "mesh3d"
           }
          ],
          "parcoords": [
           {
            "line": {
             "colorbar": {
              "outlinewidth": 0,
              "ticks": ""
             }
            },
            "type": "parcoords"
           }
          ],
          "pie": [
           {
            "automargin": true,
            "type": "pie"
           }
          ],
          "scatter": [
           {
            "fillpattern": {
             "fillmode": "overlay",
             "size": 10,
             "solidity": 0.2
            },
            "type": "scatter"
           }
          ],
          "scatter3d": [
           {
            "line": {
             "colorbar": {
              "outlinewidth": 0,
              "ticks": ""
             }
            },
            "marker": {
             "colorbar": {
              "outlinewidth": 0,
              "ticks": ""
             }
            },
            "type": "scatter3d"
           }
          ],
          "scattercarpet": [
           {
            "marker": {
             "colorbar": {
              "outlinewidth": 0,
              "ticks": ""
             }
            },
            "type": "scattercarpet"
           }
          ],
          "scattergeo": [
           {
            "marker": {
             "colorbar": {
              "outlinewidth": 0,
              "ticks": ""
             }
            },
            "type": "scattergeo"
           }
          ],
          "scattergl": [
           {
            "marker": {
             "colorbar": {
              "outlinewidth": 0,
              "ticks": ""
             }
            },
            "type": "scattergl"
           }
          ],
          "scattermapbox": [
           {
            "marker": {
             "colorbar": {
              "outlinewidth": 0,
              "ticks": ""
             }
            },
            "type": "scattermapbox"
           }
          ],
          "scatterpolar": [
           {
            "marker": {
             "colorbar": {
              "outlinewidth": 0,
              "ticks": ""
             }
            },
            "type": "scatterpolar"
           }
          ],
          "scatterpolargl": [
           {
            "marker": {
             "colorbar": {
              "outlinewidth": 0,
              "ticks": ""
             }
            },
            "type": "scatterpolargl"
           }
          ],
          "scatterternary": [
           {
            "marker": {
             "colorbar": {
              "outlinewidth": 0,
              "ticks": ""
             }
            },
            "type": "scatterternary"
           }
          ],
          "surface": [
           {
            "colorbar": {
             "outlinewidth": 0,
             "ticks": ""
            },
            "colorscale": [
             [
              0,
              "#0d0887"
             ],
             [
              0.1111111111111111,
              "#46039f"
             ],
             [
              0.2222222222222222,
              "#7201a8"
             ],
             [
              0.3333333333333333,
              "#9c179e"
             ],
             [
              0.4444444444444444,
              "#bd3786"
             ],
             [
              0.5555555555555556,
              "#d8576b"
             ],
             [
              0.6666666666666666,
              "#ed7953"
             ],
             [
              0.7777777777777778,
              "#fb9f3a"
             ],
             [
              0.8888888888888888,
              "#fdca26"
             ],
             [
              1,
              "#f0f921"
             ]
            ],
            "type": "surface"
           }
          ],
          "table": [
           {
            "cells": {
             "fill": {
              "color": "#EBF0F8"
             },
             "line": {
              "color": "white"
             }
            },
            "header": {
             "fill": {
              "color": "#C8D4E3"
             },
             "line": {
              "color": "white"
             }
            },
            "type": "table"
           }
          ]
         },
         "layout": {
          "annotationdefaults": {
           "arrowcolor": "#2a3f5f",
           "arrowhead": 0,
           "arrowwidth": 1
          },
          "autotypenumbers": "strict",
          "coloraxis": {
           "colorbar": {
            "outlinewidth": 0,
            "ticks": ""
           }
          },
          "colorscale": {
           "diverging": [
            [
             0,
             "#8e0152"
            ],
            [
             0.1,
             "#c51b7d"
            ],
            [
             0.2,
             "#de77ae"
            ],
            [
             0.3,
             "#f1b6da"
            ],
            [
             0.4,
             "#fde0ef"
            ],
            [
             0.5,
             "#f7f7f7"
            ],
            [
             0.6,
             "#e6f5d0"
            ],
            [
             0.7,
             "#b8e186"
            ],
            [
             0.8,
             "#7fbc41"
            ],
            [
             0.9,
             "#4d9221"
            ],
            [
             1,
             "#276419"
            ]
           ],
           "sequential": [
            [
             0,
             "#0d0887"
            ],
            [
             0.1111111111111111,
             "#46039f"
            ],
            [
             0.2222222222222222,
             "#7201a8"
            ],
            [
             0.3333333333333333,
             "#9c179e"
            ],
            [
             0.4444444444444444,
             "#bd3786"
            ],
            [
             0.5555555555555556,
             "#d8576b"
            ],
            [
             0.6666666666666666,
             "#ed7953"
            ],
            [
             0.7777777777777778,
             "#fb9f3a"
            ],
            [
             0.8888888888888888,
             "#fdca26"
            ],
            [
             1,
             "#f0f921"
            ]
           ],
           "sequentialminus": [
            [
             0,
             "#0d0887"
            ],
            [
             0.1111111111111111,
             "#46039f"
            ],
            [
             0.2222222222222222,
             "#7201a8"
            ],
            [
             0.3333333333333333,
             "#9c179e"
            ],
            [
             0.4444444444444444,
             "#bd3786"
            ],
            [
             0.5555555555555556,
             "#d8576b"
            ],
            [
             0.6666666666666666,
             "#ed7953"
            ],
            [
             0.7777777777777778,
             "#fb9f3a"
            ],
            [
             0.8888888888888888,
             "#fdca26"
            ],
            [
             1,
             "#f0f921"
            ]
           ]
          },
          "colorway": [
           "#636efa",
           "#EF553B",
           "#00cc96",
           "#ab63fa",
           "#FFA15A",
           "#19d3f3",
           "#FF6692",
           "#B6E880",
           "#FF97FF",
           "#FECB52"
          ],
          "font": {
           "color": "#2a3f5f"
          },
          "geo": {
           "bgcolor": "white",
           "lakecolor": "white",
           "landcolor": "#E5ECF6",
           "showlakes": true,
           "showland": true,
           "subunitcolor": "white"
          },
          "hoverlabel": {
           "align": "left"
          },
          "hovermode": "closest",
          "mapbox": {
           "style": "light"
          },
          "paper_bgcolor": "white",
          "plot_bgcolor": "#E5ECF6",
          "polar": {
           "angularaxis": {
            "gridcolor": "white",
            "linecolor": "white",
            "ticks": ""
           },
           "bgcolor": "#E5ECF6",
           "radialaxis": {
            "gridcolor": "white",
            "linecolor": "white",
            "ticks": ""
           }
          },
          "scene": {
           "xaxis": {
            "backgroundcolor": "#E5ECF6",
            "gridcolor": "white",
            "gridwidth": 2,
            "linecolor": "white",
            "showbackground": true,
            "ticks": "",
            "zerolinecolor": "white"
           },
           "yaxis": {
            "backgroundcolor": "#E5ECF6",
            "gridcolor": "white",
            "gridwidth": 2,
            "linecolor": "white",
            "showbackground": true,
            "ticks": "",
            "zerolinecolor": "white"
           },
           "zaxis": {
            "backgroundcolor": "#E5ECF6",
            "gridcolor": "white",
            "gridwidth": 2,
            "linecolor": "white",
            "showbackground": true,
            "ticks": "",
            "zerolinecolor": "white"
           }
          },
          "shapedefaults": {
           "line": {
            "color": "#2a3f5f"
           }
          },
          "ternary": {
           "aaxis": {
            "gridcolor": "white",
            "linecolor": "white",
            "ticks": ""
           },
           "baxis": {
            "gridcolor": "white",
            "linecolor": "white",
            "ticks": ""
           },
           "bgcolor": "#E5ECF6",
           "caxis": {
            "gridcolor": "white",
            "linecolor": "white",
            "ticks": ""
           }
          },
          "title": {
           "x": 0.05
          },
          "xaxis": {
           "automargin": true,
           "gridcolor": "white",
           "linecolor": "white",
           "ticks": "",
           "title": {
            "standoff": 15
           },
           "zerolinecolor": "white",
           "zerolinewidth": 2
          },
          "yaxis": {
           "automargin": true,
           "gridcolor": "white",
           "linecolor": "white",
           "ticks": "",
           "title": {
            "standoff": 15
           },
           "zerolinecolor": "white",
           "zerolinewidth": 2
          }
         }
        },
        "title": {
         "text": "Field is_confirmed types count"
        },
        "xaxis": {
         "anchor": "y",
         "domain": [
          0,
          1
         ],
         "title": {
          "text": "is_confirmed"
         }
        },
        "yaxis": {
         "anchor": "x",
         "domain": [
          0,
          1
         ],
         "title": {
          "text": "count"
         }
        }
       }
      },
      "text/html": [
       "<div>                            <div id=\"dfce0a58-f994-4832-a412-1ef478f1fae8\" class=\"plotly-graph-div\" style=\"height:525px; width:100%;\"></div>            <script type=\"text/javascript\">                require([\"plotly\"], function(Plotly) {                    window.PLOTLYENV=window.PLOTLYENV || {};                                    if (document.getElementById(\"dfce0a58-f994-4832-a412-1ef478f1fae8\")) {                    Plotly.newPlot(                        \"dfce0a58-f994-4832-a412-1ef478f1fae8\",                        [{\"alignmentgroup\":\"True\",\"hovertemplate\":\"is_confirmed=%{x}<br>count=%{marker.color}<extra></extra>\",\"legendgroup\":\"\",\"marker\":{\"color\":[4185,30],\"coloraxis\":\"coloraxis\",\"pattern\":{\"shape\":\"\"}},\"name\":\"\",\"offsetgroup\":\"\",\"orientation\":\"v\",\"showlegend\":false,\"text\":[4185.0,30.0],\"textposition\":\"outside\",\"x\":[true,false],\"xaxis\":\"x\",\"y\":[4185,30],\"yaxis\":\"y\",\"type\":\"bar\",\"textfont\":{\"size\":10},\"texttemplate\":\"%{text:.2f}\"}],                        {\"template\":{\"data\":{\"histogram2dcontour\":[{\"type\":\"histogram2dcontour\",\"colorbar\":{\"outlinewidth\":0,\"ticks\":\"\"},\"colorscale\":[[0.0,\"#0d0887\"],[0.1111111111111111,\"#46039f\"],[0.2222222222222222,\"#7201a8\"],[0.3333333333333333,\"#9c179e\"],[0.4444444444444444,\"#bd3786\"],[0.5555555555555556,\"#d8576b\"],[0.6666666666666666,\"#ed7953\"],[0.7777777777777778,\"#fb9f3a\"],[0.8888888888888888,\"#fdca26\"],[1.0,\"#f0f921\"]]}],\"choropleth\":[{\"type\":\"choropleth\",\"colorbar\":{\"outlinewidth\":0,\"ticks\":\"\"}}],\"histogram2d\":[{\"type\":\"histogram2d\",\"colorbar\":{\"outlinewidth\":0,\"ticks\":\"\"},\"colorscale\":[[0.0,\"#0d0887\"],[0.1111111111111111,\"#46039f\"],[0.2222222222222222,\"#7201a8\"],[0.3333333333333333,\"#9c179e\"],[0.4444444444444444,\"#bd3786\"],[0.5555555555555556,\"#d8576b\"],[0.6666666666666666,\"#ed7953\"],[0.7777777777777778,\"#fb9f3a\"],[0.8888888888888888,\"#fdca26\"],[1.0,\"#f0f921\"]]}],\"heatmap\":[{\"type\":\"heatmap\",\"colorbar\":{\"outlinewidth\":0,\"ticks\":\"\"},\"colorscale\":[[0.0,\"#0d0887\"],[0.1111111111111111,\"#46039f\"],[0.2222222222222222,\"#7201a8\"],[0.3333333333333333,\"#9c179e\"],[0.4444444444444444,\"#bd3786\"],[0.5555555555555556,\"#d8576b\"],[0.6666666666666666,\"#ed7953\"],[0.7777777777777778,\"#fb9f3a\"],[0.8888888888888888,\"#fdca26\"],[1.0,\"#f0f921\"]]}],\"heatmapgl\":[{\"type\":\"heatmapgl\",\"colorbar\":{\"outlinewidth\":0,\"ticks\":\"\"},\"colorscale\":[[0.0,\"#0d0887\"],[0.1111111111111111,\"#46039f\"],[0.2222222222222222,\"#7201a8\"],[0.3333333333333333,\"#9c179e\"],[0.4444444444444444,\"#bd3786\"],[0.5555555555555556,\"#d8576b\"],[0.6666666666666666,\"#ed7953\"],[0.7777777777777778,\"#fb9f3a\"],[0.8888888888888888,\"#fdca26\"],[1.0,\"#f0f921\"]]}],\"contourcarpet\":[{\"type\":\"contourcarpet\",\"colorbar\":{\"outlinewidth\":0,\"ticks\":\"\"}}],\"contour\":[{\"type\":\"contour\",\"colorbar\":{\"outlinewidth\":0,\"ticks\":\"\"},\"colorscale\":[[0.0,\"#0d0887\"],[0.1111111111111111,\"#46039f\"],[0.2222222222222222,\"#7201a8\"],[0.3333333333333333,\"#9c179e\"],[0.4444444444444444,\"#bd3786\"],[0.5555555555555556,\"#d8576b\"],[0.6666666666666666,\"#ed7953\"],[0.7777777777777778,\"#fb9f3a\"],[0.8888888888888888,\"#fdca26\"],[1.0,\"#f0f921\"]]}],\"surface\":[{\"type\":\"surface\",\"colorbar\":{\"outlinewidth\":0,\"ticks\":\"\"},\"colorscale\":[[0.0,\"#0d0887\"],[0.1111111111111111,\"#46039f\"],[0.2222222222222222,\"#7201a8\"],[0.3333333333333333,\"#9c179e\"],[0.4444444444444444,\"#bd3786\"],[0.5555555555555556,\"#d8576b\"],[0.6666666666666666,\"#ed7953\"],[0.7777777777777778,\"#fb9f3a\"],[0.8888888888888888,\"#fdca26\"],[1.0,\"#f0f921\"]]}],\"mesh3d\":[{\"type\":\"mesh3d\",\"colorbar\":{\"outlinewidth\":0,\"ticks\":\"\"}}],\"scatter\":[{\"fillpattern\":{\"fillmode\":\"overlay\",\"size\":10,\"solidity\":0.2},\"type\":\"scatter\"}],\"parcoords\":[{\"type\":\"parcoords\",\"line\":{\"colorbar\":{\"outlinewidth\":0,\"ticks\":\"\"}}}],\"scatterpolargl\":[{\"type\":\"scatterpolargl\",\"marker\":{\"colorbar\":{\"outlinewidth\":0,\"ticks\":\"\"}}}],\"bar\":[{\"error_x\":{\"color\":\"#2a3f5f\"},\"error_y\":{\"color\":\"#2a3f5f\"},\"marker\":{\"line\":{\"color\":\"#E5ECF6\",\"width\":0.5},\"pattern\":{\"fillmode\":\"overlay\",\"size\":10,\"solidity\":0.2}},\"type\":\"bar\"}],\"scattergeo\":[{\"type\":\"scattergeo\",\"marker\":{\"colorbar\":{\"outlinewidth\":0,\"ticks\":\"\"}}}],\"scatterpolar\":[{\"type\":\"scatterpolar\",\"marker\":{\"colorbar\":{\"outlinewidth\":0,\"ticks\":\"\"}}}],\"histogram\":[{\"marker\":{\"pattern\":{\"fillmode\":\"overlay\",\"size\":10,\"solidity\":0.2}},\"type\":\"histogram\"}],\"scattergl\":[{\"type\":\"scattergl\",\"marker\":{\"colorbar\":{\"outlinewidth\":0,\"ticks\":\"\"}}}],\"scatter3d\":[{\"type\":\"scatter3d\",\"line\":{\"colorbar\":{\"outlinewidth\":0,\"ticks\":\"\"}},\"marker\":{\"colorbar\":{\"outlinewidth\":0,\"ticks\":\"\"}}}],\"scattermapbox\":[{\"type\":\"scattermapbox\",\"marker\":{\"colorbar\":{\"outlinewidth\":0,\"ticks\":\"\"}}}],\"scatterternary\":[{\"type\":\"scatterternary\",\"marker\":{\"colorbar\":{\"outlinewidth\":0,\"ticks\":\"\"}}}],\"scattercarpet\":[{\"type\":\"scattercarpet\",\"marker\":{\"colorbar\":{\"outlinewidth\":0,\"ticks\":\"\"}}}],\"carpet\":[{\"aaxis\":{\"endlinecolor\":\"#2a3f5f\",\"gridcolor\":\"white\",\"linecolor\":\"white\",\"minorgridcolor\":\"white\",\"startlinecolor\":\"#2a3f5f\"},\"baxis\":{\"endlinecolor\":\"#2a3f5f\",\"gridcolor\":\"white\",\"linecolor\":\"white\",\"minorgridcolor\":\"white\",\"startlinecolor\":\"#2a3f5f\"},\"type\":\"carpet\"}],\"table\":[{\"cells\":{\"fill\":{\"color\":\"#EBF0F8\"},\"line\":{\"color\":\"white\"}},\"header\":{\"fill\":{\"color\":\"#C8D4E3\"},\"line\":{\"color\":\"white\"}},\"type\":\"table\"}],\"barpolar\":[{\"marker\":{\"line\":{\"color\":\"#E5ECF6\",\"width\":0.5},\"pattern\":{\"fillmode\":\"overlay\",\"size\":10,\"solidity\":0.2}},\"type\":\"barpolar\"}],\"pie\":[{\"automargin\":true,\"type\":\"pie\"}]},\"layout\":{\"autotypenumbers\":\"strict\",\"colorway\":[\"#636efa\",\"#EF553B\",\"#00cc96\",\"#ab63fa\",\"#FFA15A\",\"#19d3f3\",\"#FF6692\",\"#B6E880\",\"#FF97FF\",\"#FECB52\"],\"font\":{\"color\":\"#2a3f5f\"},\"hovermode\":\"closest\",\"hoverlabel\":{\"align\":\"left\"},\"paper_bgcolor\":\"white\",\"plot_bgcolor\":\"#E5ECF6\",\"polar\":{\"bgcolor\":\"#E5ECF6\",\"angularaxis\":{\"gridcolor\":\"white\",\"linecolor\":\"white\",\"ticks\":\"\"},\"radialaxis\":{\"gridcolor\":\"white\",\"linecolor\":\"white\",\"ticks\":\"\"}},\"ternary\":{\"bgcolor\":\"#E5ECF6\",\"aaxis\":{\"gridcolor\":\"white\",\"linecolor\":\"white\",\"ticks\":\"\"},\"baxis\":{\"gridcolor\":\"white\",\"linecolor\":\"white\",\"ticks\":\"\"},\"caxis\":{\"gridcolor\":\"white\",\"linecolor\":\"white\",\"ticks\":\"\"}},\"coloraxis\":{\"colorbar\":{\"outlinewidth\":0,\"ticks\":\"\"}},\"colorscale\":{\"sequential\":[[0.0,\"#0d0887\"],[0.1111111111111111,\"#46039f\"],[0.2222222222222222,\"#7201a8\"],[0.3333333333333333,\"#9c179e\"],[0.4444444444444444,\"#bd3786\"],[0.5555555555555556,\"#d8576b\"],[0.6666666666666666,\"#ed7953\"],[0.7777777777777778,\"#fb9f3a\"],[0.8888888888888888,\"#fdca26\"],[1.0,\"#f0f921\"]],\"sequentialminus\":[[0.0,\"#0d0887\"],[0.1111111111111111,\"#46039f\"],[0.2222222222222222,\"#7201a8\"],[0.3333333333333333,\"#9c179e\"],[0.4444444444444444,\"#bd3786\"],[0.5555555555555556,\"#d8576b\"],[0.6666666666666666,\"#ed7953\"],[0.7777777777777778,\"#fb9f3a\"],[0.8888888888888888,\"#fdca26\"],[1.0,\"#f0f921\"]],\"diverging\":[[0,\"#8e0152\"],[0.1,\"#c51b7d\"],[0.2,\"#de77ae\"],[0.3,\"#f1b6da\"],[0.4,\"#fde0ef\"],[0.5,\"#f7f7f7\"],[0.6,\"#e6f5d0\"],[0.7,\"#b8e186\"],[0.8,\"#7fbc41\"],[0.9,\"#4d9221\"],[1,\"#276419\"]]},\"xaxis\":{\"gridcolor\":\"white\",\"linecolor\":\"white\",\"ticks\":\"\",\"title\":{\"standoff\":15},\"zerolinecolor\":\"white\",\"automargin\":true,\"zerolinewidth\":2},\"yaxis\":{\"gridcolor\":\"white\",\"linecolor\":\"white\",\"ticks\":\"\",\"title\":{\"standoff\":15},\"zerolinecolor\":\"white\",\"automargin\":true,\"zerolinewidth\":2},\"scene\":{\"xaxis\":{\"backgroundcolor\":\"#E5ECF6\",\"gridcolor\":\"white\",\"linecolor\":\"white\",\"showbackground\":true,\"ticks\":\"\",\"zerolinecolor\":\"white\",\"gridwidth\":2},\"yaxis\":{\"backgroundcolor\":\"#E5ECF6\",\"gridcolor\":\"white\",\"linecolor\":\"white\",\"showbackground\":true,\"ticks\":\"\",\"zerolinecolor\":\"white\",\"gridwidth\":2},\"zaxis\":{\"backgroundcolor\":\"#E5ECF6\",\"gridcolor\":\"white\",\"linecolor\":\"white\",\"showbackground\":true,\"ticks\":\"\",\"zerolinecolor\":\"white\",\"gridwidth\":2}},\"shapedefaults\":{\"line\":{\"color\":\"#2a3f5f\"}},\"annotationdefaults\":{\"arrowcolor\":\"#2a3f5f\",\"arrowhead\":0,\"arrowwidth\":1},\"geo\":{\"bgcolor\":\"white\",\"landcolor\":\"#E5ECF6\",\"subunitcolor\":\"white\",\"showland\":true,\"showlakes\":true,\"lakecolor\":\"white\"},\"title\":{\"x\":0.05},\"mapbox\":{\"style\":\"light\"}}},\"xaxis\":{\"anchor\":\"y\",\"domain\":[0.0,1.0],\"title\":{\"text\":\"is_confirmed\"}},\"yaxis\":{\"anchor\":\"x\",\"domain\":[0.0,1.0],\"title\":{\"text\":\"count\"}},\"coloraxis\":{\"colorbar\":{\"title\":{\"text\":\"count\"}},\"colorscale\":[[0.0,\"rgb(237, 217, 163)\"],[0.16666666666666666,\"rgb(246, 169, 122)\"],[0.3333333333333333,\"rgb(250, 120, 118)\"],[0.5,\"rgb(234, 79, 136)\"],[0.6666666666666666,\"rgb(192, 54, 157)\"],[0.8333333333333334,\"rgb(135, 44, 162)\"],[1.0,\"rgb(75, 41, 145)\"]]},\"legend\":{\"tracegroupgap\":0},\"margin\":{\"t\":60},\"barmode\":\"relative\",\"title\":{\"text\":\"Field is_confirmed types count\"}},                        {\"responsive\": true}                    ).then(function(){\n",
       "                            \n",
       "var gd = document.getElementById('dfce0a58-f994-4832-a412-1ef478f1fae8');\n",
       "var x = new MutationObserver(function (mutations, observer) {{\n",
       "        var display = window.getComputedStyle(gd).display;\n",
       "        if (!display || display === 'none') {{\n",
       "            console.log([gd, 'removed!']);\n",
       "            Plotly.purge(gd);\n",
       "            observer.disconnect();\n",
       "        }}\n",
       "}});\n",
       "\n",
       "// Listen for the removal of the full notebook cells\n",
       "var notebookContainer = gd.closest('#notebook-container');\n",
       "if (notebookContainer) {{\n",
       "    x.observe(notebookContainer, {childList: true});\n",
       "}}\n",
       "\n",
       "// Listen for the clearing of the current output cell\n",
       "var outputEl = gd.closest('.output');\n",
       "if (outputEl) {{\n",
       "    x.observe(outputEl, {childList: true});\n",
       "}}\n",
       "\n",
       "                        })                };                });            </script>        </div>"
      ]
     },
     "metadata": {},
     "output_type": "display_data"
    },
    {
     "data": {
      "application/vnd.plotly.v1+json": {
       "config": {
        "plotlyServerURL": "https://plot.ly"
       },
       "data": [
        {
         "alignmentgroup": "True",
         "hovertemplate": "severity=%{x}<br>count=%{marker.color}<extra></extra>",
         "legendgroup": "",
         "marker": {
          "color": [
           4189,
           14,
           3,
           3,
           3,
           3
          ],
          "coloraxis": "coloraxis",
          "pattern": {
           "shape": ""
          }
         },
         "name": "",
         "offsetgroup": "",
         "orientation": "v",
         "showlegend": false,
         "text": [
          4189,
          14,
          3,
          3,
          3,
          3
         ],
         "textfont": {
          "size": 10
         },
         "textposition": "outside",
         "texttemplate": "%{text:.2f}",
         "type": "bar",
         "x": [
          "normal",
          "major",
          "blocker",
          "critical",
          "minor",
          "trivial"
         ],
         "xaxis": "x",
         "y": [
          4189,
          14,
          3,
          3,
          3,
          3
         ],
         "yaxis": "y"
        }
       ],
       "layout": {
        "barmode": "relative",
        "coloraxis": {
         "colorbar": {
          "title": {
           "text": "count"
          }
         },
         "colorscale": [
          [
           0,
           "rgb(237, 217, 163)"
          ],
          [
           0.16666666666666666,
           "rgb(246, 169, 122)"
          ],
          [
           0.3333333333333333,
           "rgb(250, 120, 118)"
          ],
          [
           0.5,
           "rgb(234, 79, 136)"
          ],
          [
           0.6666666666666666,
           "rgb(192, 54, 157)"
          ],
          [
           0.8333333333333334,
           "rgb(135, 44, 162)"
          ],
          [
           1,
           "rgb(75, 41, 145)"
          ]
         ]
        },
        "legend": {
         "tracegroupgap": 0
        },
        "margin": {
         "t": 60
        },
        "template": {
         "data": {
          "bar": [
           {
            "error_x": {
             "color": "#2a3f5f"
            },
            "error_y": {
             "color": "#2a3f5f"
            },
            "marker": {
             "line": {
              "color": "#E5ECF6",
              "width": 0.5
             },
             "pattern": {
              "fillmode": "overlay",
              "size": 10,
              "solidity": 0.2
             }
            },
            "type": "bar"
           }
          ],
          "barpolar": [
           {
            "marker": {
             "line": {
              "color": "#E5ECF6",
              "width": 0.5
             },
             "pattern": {
              "fillmode": "overlay",
              "size": 10,
              "solidity": 0.2
             }
            },
            "type": "barpolar"
           }
          ],
          "carpet": [
           {
            "aaxis": {
             "endlinecolor": "#2a3f5f",
             "gridcolor": "white",
             "linecolor": "white",
             "minorgridcolor": "white",
             "startlinecolor": "#2a3f5f"
            },
            "baxis": {
             "endlinecolor": "#2a3f5f",
             "gridcolor": "white",
             "linecolor": "white",
             "minorgridcolor": "white",
             "startlinecolor": "#2a3f5f"
            },
            "type": "carpet"
           }
          ],
          "choropleth": [
           {
            "colorbar": {
             "outlinewidth": 0,
             "ticks": ""
            },
            "type": "choropleth"
           }
          ],
          "contour": [
           {
            "colorbar": {
             "outlinewidth": 0,
             "ticks": ""
            },
            "colorscale": [
             [
              0,
              "#0d0887"
             ],
             [
              0.1111111111111111,
              "#46039f"
             ],
             [
              0.2222222222222222,
              "#7201a8"
             ],
             [
              0.3333333333333333,
              "#9c179e"
             ],
             [
              0.4444444444444444,
              "#bd3786"
             ],
             [
              0.5555555555555556,
              "#d8576b"
             ],
             [
              0.6666666666666666,
              "#ed7953"
             ],
             [
              0.7777777777777778,
              "#fb9f3a"
             ],
             [
              0.8888888888888888,
              "#fdca26"
             ],
             [
              1,
              "#f0f921"
             ]
            ],
            "type": "contour"
           }
          ],
          "contourcarpet": [
           {
            "colorbar": {
             "outlinewidth": 0,
             "ticks": ""
            },
            "type": "contourcarpet"
           }
          ],
          "heatmap": [
           {
            "colorbar": {
             "outlinewidth": 0,
             "ticks": ""
            },
            "colorscale": [
             [
              0,
              "#0d0887"
             ],
             [
              0.1111111111111111,
              "#46039f"
             ],
             [
              0.2222222222222222,
              "#7201a8"
             ],
             [
              0.3333333333333333,
              "#9c179e"
             ],
             [
              0.4444444444444444,
              "#bd3786"
             ],
             [
              0.5555555555555556,
              "#d8576b"
             ],
             [
              0.6666666666666666,
              "#ed7953"
             ],
             [
              0.7777777777777778,
              "#fb9f3a"
             ],
             [
              0.8888888888888888,
              "#fdca26"
             ],
             [
              1,
              "#f0f921"
             ]
            ],
            "type": "heatmap"
           }
          ],
          "heatmapgl": [
           {
            "colorbar": {
             "outlinewidth": 0,
             "ticks": ""
            },
            "colorscale": [
             [
              0,
              "#0d0887"
             ],
             [
              0.1111111111111111,
              "#46039f"
             ],
             [
              0.2222222222222222,
              "#7201a8"
             ],
             [
              0.3333333333333333,
              "#9c179e"
             ],
             [
              0.4444444444444444,
              "#bd3786"
             ],
             [
              0.5555555555555556,
              "#d8576b"
             ],
             [
              0.6666666666666666,
              "#ed7953"
             ],
             [
              0.7777777777777778,
              "#fb9f3a"
             ],
             [
              0.8888888888888888,
              "#fdca26"
             ],
             [
              1,
              "#f0f921"
             ]
            ],
            "type": "heatmapgl"
           }
          ],
          "histogram": [
           {
            "marker": {
             "pattern": {
              "fillmode": "overlay",
              "size": 10,
              "solidity": 0.2
             }
            },
            "type": "histogram"
           }
          ],
          "histogram2d": [
           {
            "colorbar": {
             "outlinewidth": 0,
             "ticks": ""
            },
            "colorscale": [
             [
              0,
              "#0d0887"
             ],
             [
              0.1111111111111111,
              "#46039f"
             ],
             [
              0.2222222222222222,
              "#7201a8"
             ],
             [
              0.3333333333333333,
              "#9c179e"
             ],
             [
              0.4444444444444444,
              "#bd3786"
             ],
             [
              0.5555555555555556,
              "#d8576b"
             ],
             [
              0.6666666666666666,
              "#ed7953"
             ],
             [
              0.7777777777777778,
              "#fb9f3a"
             ],
             [
              0.8888888888888888,
              "#fdca26"
             ],
             [
              1,
              "#f0f921"
             ]
            ],
            "type": "histogram2d"
           }
          ],
          "histogram2dcontour": [
           {
            "colorbar": {
             "outlinewidth": 0,
             "ticks": ""
            },
            "colorscale": [
             [
              0,
              "#0d0887"
             ],
             [
              0.1111111111111111,
              "#46039f"
             ],
             [
              0.2222222222222222,
              "#7201a8"
             ],
             [
              0.3333333333333333,
              "#9c179e"
             ],
             [
              0.4444444444444444,
              "#bd3786"
             ],
             [
              0.5555555555555556,
              "#d8576b"
             ],
             [
              0.6666666666666666,
              "#ed7953"
             ],
             [
              0.7777777777777778,
              "#fb9f3a"
             ],
             [
              0.8888888888888888,
              "#fdca26"
             ],
             [
              1,
              "#f0f921"
             ]
            ],
            "type": "histogram2dcontour"
           }
          ],
          "mesh3d": [
           {
            "colorbar": {
             "outlinewidth": 0,
             "ticks": ""
            },
            "type": "mesh3d"
           }
          ],
          "parcoords": [
           {
            "line": {
             "colorbar": {
              "outlinewidth": 0,
              "ticks": ""
             }
            },
            "type": "parcoords"
           }
          ],
          "pie": [
           {
            "automargin": true,
            "type": "pie"
           }
          ],
          "scatter": [
           {
            "fillpattern": {
             "fillmode": "overlay",
             "size": 10,
             "solidity": 0.2
            },
            "type": "scatter"
           }
          ],
          "scatter3d": [
           {
            "line": {
             "colorbar": {
              "outlinewidth": 0,
              "ticks": ""
             }
            },
            "marker": {
             "colorbar": {
              "outlinewidth": 0,
              "ticks": ""
             }
            },
            "type": "scatter3d"
           }
          ],
          "scattercarpet": [
           {
            "marker": {
             "colorbar": {
              "outlinewidth": 0,
              "ticks": ""
             }
            },
            "type": "scattercarpet"
           }
          ],
          "scattergeo": [
           {
            "marker": {
             "colorbar": {
              "outlinewidth": 0,
              "ticks": ""
             }
            },
            "type": "scattergeo"
           }
          ],
          "scattergl": [
           {
            "marker": {
             "colorbar": {
              "outlinewidth": 0,
              "ticks": ""
             }
            },
            "type": "scattergl"
           }
          ],
          "scattermapbox": [
           {
            "marker": {
             "colorbar": {
              "outlinewidth": 0,
              "ticks": ""
             }
            },
            "type": "scattermapbox"
           }
          ],
          "scatterpolar": [
           {
            "marker": {
             "colorbar": {
              "outlinewidth": 0,
              "ticks": ""
             }
            },
            "type": "scatterpolar"
           }
          ],
          "scatterpolargl": [
           {
            "marker": {
             "colorbar": {
              "outlinewidth": 0,
              "ticks": ""
             }
            },
            "type": "scatterpolargl"
           }
          ],
          "scatterternary": [
           {
            "marker": {
             "colorbar": {
              "outlinewidth": 0,
              "ticks": ""
             }
            },
            "type": "scatterternary"
           }
          ],
          "surface": [
           {
            "colorbar": {
             "outlinewidth": 0,
             "ticks": ""
            },
            "colorscale": [
             [
              0,
              "#0d0887"
             ],
             [
              0.1111111111111111,
              "#46039f"
             ],
             [
              0.2222222222222222,
              "#7201a8"
             ],
             [
              0.3333333333333333,
              "#9c179e"
             ],
             [
              0.4444444444444444,
              "#bd3786"
             ],
             [
              0.5555555555555556,
              "#d8576b"
             ],
             [
              0.6666666666666666,
              "#ed7953"
             ],
             [
              0.7777777777777778,
              "#fb9f3a"
             ],
             [
              0.8888888888888888,
              "#fdca26"
             ],
             [
              1,
              "#f0f921"
             ]
            ],
            "type": "surface"
           }
          ],
          "table": [
           {
            "cells": {
             "fill": {
              "color": "#EBF0F8"
             },
             "line": {
              "color": "white"
             }
            },
            "header": {
             "fill": {
              "color": "#C8D4E3"
             },
             "line": {
              "color": "white"
             }
            },
            "type": "table"
           }
          ]
         },
         "layout": {
          "annotationdefaults": {
           "arrowcolor": "#2a3f5f",
           "arrowhead": 0,
           "arrowwidth": 1
          },
          "autotypenumbers": "strict",
          "coloraxis": {
           "colorbar": {
            "outlinewidth": 0,
            "ticks": ""
           }
          },
          "colorscale": {
           "diverging": [
            [
             0,
             "#8e0152"
            ],
            [
             0.1,
             "#c51b7d"
            ],
            [
             0.2,
             "#de77ae"
            ],
            [
             0.3,
             "#f1b6da"
            ],
            [
             0.4,
             "#fde0ef"
            ],
            [
             0.5,
             "#f7f7f7"
            ],
            [
             0.6,
             "#e6f5d0"
            ],
            [
             0.7,
             "#b8e186"
            ],
            [
             0.8,
             "#7fbc41"
            ],
            [
             0.9,
             "#4d9221"
            ],
            [
             1,
             "#276419"
            ]
           ],
           "sequential": [
            [
             0,
             "#0d0887"
            ],
            [
             0.1111111111111111,
             "#46039f"
            ],
            [
             0.2222222222222222,
             "#7201a8"
            ],
            [
             0.3333333333333333,
             "#9c179e"
            ],
            [
             0.4444444444444444,
             "#bd3786"
            ],
            [
             0.5555555555555556,
             "#d8576b"
            ],
            [
             0.6666666666666666,
             "#ed7953"
            ],
            [
             0.7777777777777778,
             "#fb9f3a"
            ],
            [
             0.8888888888888888,
             "#fdca26"
            ],
            [
             1,
             "#f0f921"
            ]
           ],
           "sequentialminus": [
            [
             0,
             "#0d0887"
            ],
            [
             0.1111111111111111,
             "#46039f"
            ],
            [
             0.2222222222222222,
             "#7201a8"
            ],
            [
             0.3333333333333333,
             "#9c179e"
            ],
            [
             0.4444444444444444,
             "#bd3786"
            ],
            [
             0.5555555555555556,
             "#d8576b"
            ],
            [
             0.6666666666666666,
             "#ed7953"
            ],
            [
             0.7777777777777778,
             "#fb9f3a"
            ],
            [
             0.8888888888888888,
             "#fdca26"
            ],
            [
             1,
             "#f0f921"
            ]
           ]
          },
          "colorway": [
           "#636efa",
           "#EF553B",
           "#00cc96",
           "#ab63fa",
           "#FFA15A",
           "#19d3f3",
           "#FF6692",
           "#B6E880",
           "#FF97FF",
           "#FECB52"
          ],
          "font": {
           "color": "#2a3f5f"
          },
          "geo": {
           "bgcolor": "white",
           "lakecolor": "white",
           "landcolor": "#E5ECF6",
           "showlakes": true,
           "showland": true,
           "subunitcolor": "white"
          },
          "hoverlabel": {
           "align": "left"
          },
          "hovermode": "closest",
          "mapbox": {
           "style": "light"
          },
          "paper_bgcolor": "white",
          "plot_bgcolor": "#E5ECF6",
          "polar": {
           "angularaxis": {
            "gridcolor": "white",
            "linecolor": "white",
            "ticks": ""
           },
           "bgcolor": "#E5ECF6",
           "radialaxis": {
            "gridcolor": "white",
            "linecolor": "white",
            "ticks": ""
           }
          },
          "scene": {
           "xaxis": {
            "backgroundcolor": "#E5ECF6",
            "gridcolor": "white",
            "gridwidth": 2,
            "linecolor": "white",
            "showbackground": true,
            "ticks": "",
            "zerolinecolor": "white"
           },
           "yaxis": {
            "backgroundcolor": "#E5ECF6",
            "gridcolor": "white",
            "gridwidth": 2,
            "linecolor": "white",
            "showbackground": true,
            "ticks": "",
            "zerolinecolor": "white"
           },
           "zaxis": {
            "backgroundcolor": "#E5ECF6",
            "gridcolor": "white",
            "gridwidth": 2,
            "linecolor": "white",
            "showbackground": true,
            "ticks": "",
            "zerolinecolor": "white"
           }
          },
          "shapedefaults": {
           "line": {
            "color": "#2a3f5f"
           }
          },
          "ternary": {
           "aaxis": {
            "gridcolor": "white",
            "linecolor": "white",
            "ticks": ""
           },
           "baxis": {
            "gridcolor": "white",
            "linecolor": "white",
            "ticks": ""
           },
           "bgcolor": "#E5ECF6",
           "caxis": {
            "gridcolor": "white",
            "linecolor": "white",
            "ticks": ""
           }
          },
          "title": {
           "x": 0.05
          },
          "xaxis": {
           "automargin": true,
           "gridcolor": "white",
           "linecolor": "white",
           "ticks": "",
           "title": {
            "standoff": 15
           },
           "zerolinecolor": "white",
           "zerolinewidth": 2
          },
          "yaxis": {
           "automargin": true,
           "gridcolor": "white",
           "linecolor": "white",
           "ticks": "",
           "title": {
            "standoff": 15
           },
           "zerolinecolor": "white",
           "zerolinewidth": 2
          }
         }
        },
        "title": {
         "text": "Field severity types count"
        },
        "xaxis": {
         "anchor": "y",
         "domain": [
          0,
          1
         ],
         "title": {
          "text": "severity"
         }
        },
        "yaxis": {
         "anchor": "x",
         "domain": [
          0,
          1
         ],
         "title": {
          "text": "count"
         }
        }
       }
      },
      "text/html": [
       "<div>                            <div id=\"d83c13d3-9af4-4b38-8edd-72d8b590b9ef\" class=\"plotly-graph-div\" style=\"height:525px; width:100%;\"></div>            <script type=\"text/javascript\">                require([\"plotly\"], function(Plotly) {                    window.PLOTLYENV=window.PLOTLYENV || {};                                    if (document.getElementById(\"d83c13d3-9af4-4b38-8edd-72d8b590b9ef\")) {                    Plotly.newPlot(                        \"d83c13d3-9af4-4b38-8edd-72d8b590b9ef\",                        [{\"alignmentgroup\":\"True\",\"hovertemplate\":\"severity=%{x}<br>count=%{marker.color}<extra></extra>\",\"legendgroup\":\"\",\"marker\":{\"color\":[4189,14,3,3,3,3],\"coloraxis\":\"coloraxis\",\"pattern\":{\"shape\":\"\"}},\"name\":\"\",\"offsetgroup\":\"\",\"orientation\":\"v\",\"showlegend\":false,\"text\":[4189.0,14.0,3.0,3.0,3.0,3.0],\"textposition\":\"outside\",\"x\":[\"normal\",\"major\",\"blocker\",\"critical\",\"minor\",\"trivial\"],\"xaxis\":\"x\",\"y\":[4189,14,3,3,3,3],\"yaxis\":\"y\",\"type\":\"bar\",\"textfont\":{\"size\":10},\"texttemplate\":\"%{text:.2f}\"}],                        {\"template\":{\"data\":{\"histogram2dcontour\":[{\"type\":\"histogram2dcontour\",\"colorbar\":{\"outlinewidth\":0,\"ticks\":\"\"},\"colorscale\":[[0.0,\"#0d0887\"],[0.1111111111111111,\"#46039f\"],[0.2222222222222222,\"#7201a8\"],[0.3333333333333333,\"#9c179e\"],[0.4444444444444444,\"#bd3786\"],[0.5555555555555556,\"#d8576b\"],[0.6666666666666666,\"#ed7953\"],[0.7777777777777778,\"#fb9f3a\"],[0.8888888888888888,\"#fdca26\"],[1.0,\"#f0f921\"]]}],\"choropleth\":[{\"type\":\"choropleth\",\"colorbar\":{\"outlinewidth\":0,\"ticks\":\"\"}}],\"histogram2d\":[{\"type\":\"histogram2d\",\"colorbar\":{\"outlinewidth\":0,\"ticks\":\"\"},\"colorscale\":[[0.0,\"#0d0887\"],[0.1111111111111111,\"#46039f\"],[0.2222222222222222,\"#7201a8\"],[0.3333333333333333,\"#9c179e\"],[0.4444444444444444,\"#bd3786\"],[0.5555555555555556,\"#d8576b\"],[0.6666666666666666,\"#ed7953\"],[0.7777777777777778,\"#fb9f3a\"],[0.8888888888888888,\"#fdca26\"],[1.0,\"#f0f921\"]]}],\"heatmap\":[{\"type\":\"heatmap\",\"colorbar\":{\"outlinewidth\":0,\"ticks\":\"\"},\"colorscale\":[[0.0,\"#0d0887\"],[0.1111111111111111,\"#46039f\"],[0.2222222222222222,\"#7201a8\"],[0.3333333333333333,\"#9c179e\"],[0.4444444444444444,\"#bd3786\"],[0.5555555555555556,\"#d8576b\"],[0.6666666666666666,\"#ed7953\"],[0.7777777777777778,\"#fb9f3a\"],[0.8888888888888888,\"#fdca26\"],[1.0,\"#f0f921\"]]}],\"heatmapgl\":[{\"type\":\"heatmapgl\",\"colorbar\":{\"outlinewidth\":0,\"ticks\":\"\"},\"colorscale\":[[0.0,\"#0d0887\"],[0.1111111111111111,\"#46039f\"],[0.2222222222222222,\"#7201a8\"],[0.3333333333333333,\"#9c179e\"],[0.4444444444444444,\"#bd3786\"],[0.5555555555555556,\"#d8576b\"],[0.6666666666666666,\"#ed7953\"],[0.7777777777777778,\"#fb9f3a\"],[0.8888888888888888,\"#fdca26\"],[1.0,\"#f0f921\"]]}],\"contourcarpet\":[{\"type\":\"contourcarpet\",\"colorbar\":{\"outlinewidth\":0,\"ticks\":\"\"}}],\"contour\":[{\"type\":\"contour\",\"colorbar\":{\"outlinewidth\":0,\"ticks\":\"\"},\"colorscale\":[[0.0,\"#0d0887\"],[0.1111111111111111,\"#46039f\"],[0.2222222222222222,\"#7201a8\"],[0.3333333333333333,\"#9c179e\"],[0.4444444444444444,\"#bd3786\"],[0.5555555555555556,\"#d8576b\"],[0.6666666666666666,\"#ed7953\"],[0.7777777777777778,\"#fb9f3a\"],[0.8888888888888888,\"#fdca26\"],[1.0,\"#f0f921\"]]}],\"surface\":[{\"type\":\"surface\",\"colorbar\":{\"outlinewidth\":0,\"ticks\":\"\"},\"colorscale\":[[0.0,\"#0d0887\"],[0.1111111111111111,\"#46039f\"],[0.2222222222222222,\"#7201a8\"],[0.3333333333333333,\"#9c179e\"],[0.4444444444444444,\"#bd3786\"],[0.5555555555555556,\"#d8576b\"],[0.6666666666666666,\"#ed7953\"],[0.7777777777777778,\"#fb9f3a\"],[0.8888888888888888,\"#fdca26\"],[1.0,\"#f0f921\"]]}],\"mesh3d\":[{\"type\":\"mesh3d\",\"colorbar\":{\"outlinewidth\":0,\"ticks\":\"\"}}],\"scatter\":[{\"fillpattern\":{\"fillmode\":\"overlay\",\"size\":10,\"solidity\":0.2},\"type\":\"scatter\"}],\"parcoords\":[{\"type\":\"parcoords\",\"line\":{\"colorbar\":{\"outlinewidth\":0,\"ticks\":\"\"}}}],\"scatterpolargl\":[{\"type\":\"scatterpolargl\",\"marker\":{\"colorbar\":{\"outlinewidth\":0,\"ticks\":\"\"}}}],\"bar\":[{\"error_x\":{\"color\":\"#2a3f5f\"},\"error_y\":{\"color\":\"#2a3f5f\"},\"marker\":{\"line\":{\"color\":\"#E5ECF6\",\"width\":0.5},\"pattern\":{\"fillmode\":\"overlay\",\"size\":10,\"solidity\":0.2}},\"type\":\"bar\"}],\"scattergeo\":[{\"type\":\"scattergeo\",\"marker\":{\"colorbar\":{\"outlinewidth\":0,\"ticks\":\"\"}}}],\"scatterpolar\":[{\"type\":\"scatterpolar\",\"marker\":{\"colorbar\":{\"outlinewidth\":0,\"ticks\":\"\"}}}],\"histogram\":[{\"marker\":{\"pattern\":{\"fillmode\":\"overlay\",\"size\":10,\"solidity\":0.2}},\"type\":\"histogram\"}],\"scattergl\":[{\"type\":\"scattergl\",\"marker\":{\"colorbar\":{\"outlinewidth\":0,\"ticks\":\"\"}}}],\"scatter3d\":[{\"type\":\"scatter3d\",\"line\":{\"colorbar\":{\"outlinewidth\":0,\"ticks\":\"\"}},\"marker\":{\"colorbar\":{\"outlinewidth\":0,\"ticks\":\"\"}}}],\"scattermapbox\":[{\"type\":\"scattermapbox\",\"marker\":{\"colorbar\":{\"outlinewidth\":0,\"ticks\":\"\"}}}],\"scatterternary\":[{\"type\":\"scatterternary\",\"marker\":{\"colorbar\":{\"outlinewidth\":0,\"ticks\":\"\"}}}],\"scattercarpet\":[{\"type\":\"scattercarpet\",\"marker\":{\"colorbar\":{\"outlinewidth\":0,\"ticks\":\"\"}}}],\"carpet\":[{\"aaxis\":{\"endlinecolor\":\"#2a3f5f\",\"gridcolor\":\"white\",\"linecolor\":\"white\",\"minorgridcolor\":\"white\",\"startlinecolor\":\"#2a3f5f\"},\"baxis\":{\"endlinecolor\":\"#2a3f5f\",\"gridcolor\":\"white\",\"linecolor\":\"white\",\"minorgridcolor\":\"white\",\"startlinecolor\":\"#2a3f5f\"},\"type\":\"carpet\"}],\"table\":[{\"cells\":{\"fill\":{\"color\":\"#EBF0F8\"},\"line\":{\"color\":\"white\"}},\"header\":{\"fill\":{\"color\":\"#C8D4E3\"},\"line\":{\"color\":\"white\"}},\"type\":\"table\"}],\"barpolar\":[{\"marker\":{\"line\":{\"color\":\"#E5ECF6\",\"width\":0.5},\"pattern\":{\"fillmode\":\"overlay\",\"size\":10,\"solidity\":0.2}},\"type\":\"barpolar\"}],\"pie\":[{\"automargin\":true,\"type\":\"pie\"}]},\"layout\":{\"autotypenumbers\":\"strict\",\"colorway\":[\"#636efa\",\"#EF553B\",\"#00cc96\",\"#ab63fa\",\"#FFA15A\",\"#19d3f3\",\"#FF6692\",\"#B6E880\",\"#FF97FF\",\"#FECB52\"],\"font\":{\"color\":\"#2a3f5f\"},\"hovermode\":\"closest\",\"hoverlabel\":{\"align\":\"left\"},\"paper_bgcolor\":\"white\",\"plot_bgcolor\":\"#E5ECF6\",\"polar\":{\"bgcolor\":\"#E5ECF6\",\"angularaxis\":{\"gridcolor\":\"white\",\"linecolor\":\"white\",\"ticks\":\"\"},\"radialaxis\":{\"gridcolor\":\"white\",\"linecolor\":\"white\",\"ticks\":\"\"}},\"ternary\":{\"bgcolor\":\"#E5ECF6\",\"aaxis\":{\"gridcolor\":\"white\",\"linecolor\":\"white\",\"ticks\":\"\"},\"baxis\":{\"gridcolor\":\"white\",\"linecolor\":\"white\",\"ticks\":\"\"},\"caxis\":{\"gridcolor\":\"white\",\"linecolor\":\"white\",\"ticks\":\"\"}},\"coloraxis\":{\"colorbar\":{\"outlinewidth\":0,\"ticks\":\"\"}},\"colorscale\":{\"sequential\":[[0.0,\"#0d0887\"],[0.1111111111111111,\"#46039f\"],[0.2222222222222222,\"#7201a8\"],[0.3333333333333333,\"#9c179e\"],[0.4444444444444444,\"#bd3786\"],[0.5555555555555556,\"#d8576b\"],[0.6666666666666666,\"#ed7953\"],[0.7777777777777778,\"#fb9f3a\"],[0.8888888888888888,\"#fdca26\"],[1.0,\"#f0f921\"]],\"sequentialminus\":[[0.0,\"#0d0887\"],[0.1111111111111111,\"#46039f\"],[0.2222222222222222,\"#7201a8\"],[0.3333333333333333,\"#9c179e\"],[0.4444444444444444,\"#bd3786\"],[0.5555555555555556,\"#d8576b\"],[0.6666666666666666,\"#ed7953\"],[0.7777777777777778,\"#fb9f3a\"],[0.8888888888888888,\"#fdca26\"],[1.0,\"#f0f921\"]],\"diverging\":[[0,\"#8e0152\"],[0.1,\"#c51b7d\"],[0.2,\"#de77ae\"],[0.3,\"#f1b6da\"],[0.4,\"#fde0ef\"],[0.5,\"#f7f7f7\"],[0.6,\"#e6f5d0\"],[0.7,\"#b8e186\"],[0.8,\"#7fbc41\"],[0.9,\"#4d9221\"],[1,\"#276419\"]]},\"xaxis\":{\"gridcolor\":\"white\",\"linecolor\":\"white\",\"ticks\":\"\",\"title\":{\"standoff\":15},\"zerolinecolor\":\"white\",\"automargin\":true,\"zerolinewidth\":2},\"yaxis\":{\"gridcolor\":\"white\",\"linecolor\":\"white\",\"ticks\":\"\",\"title\":{\"standoff\":15},\"zerolinecolor\":\"white\",\"automargin\":true,\"zerolinewidth\":2},\"scene\":{\"xaxis\":{\"backgroundcolor\":\"#E5ECF6\",\"gridcolor\":\"white\",\"linecolor\":\"white\",\"showbackground\":true,\"ticks\":\"\",\"zerolinecolor\":\"white\",\"gridwidth\":2},\"yaxis\":{\"backgroundcolor\":\"#E5ECF6\",\"gridcolor\":\"white\",\"linecolor\":\"white\",\"showbackground\":true,\"ticks\":\"\",\"zerolinecolor\":\"white\",\"gridwidth\":2},\"zaxis\":{\"backgroundcolor\":\"#E5ECF6\",\"gridcolor\":\"white\",\"linecolor\":\"white\",\"showbackground\":true,\"ticks\":\"\",\"zerolinecolor\":\"white\",\"gridwidth\":2}},\"shapedefaults\":{\"line\":{\"color\":\"#2a3f5f\"}},\"annotationdefaults\":{\"arrowcolor\":\"#2a3f5f\",\"arrowhead\":0,\"arrowwidth\":1},\"geo\":{\"bgcolor\":\"white\",\"landcolor\":\"#E5ECF6\",\"subunitcolor\":\"white\",\"showland\":true,\"showlakes\":true,\"lakecolor\":\"white\"},\"title\":{\"x\":0.05},\"mapbox\":{\"style\":\"light\"}}},\"xaxis\":{\"anchor\":\"y\",\"domain\":[0.0,1.0],\"title\":{\"text\":\"severity\"}},\"yaxis\":{\"anchor\":\"x\",\"domain\":[0.0,1.0],\"title\":{\"text\":\"count\"}},\"coloraxis\":{\"colorbar\":{\"title\":{\"text\":\"count\"}},\"colorscale\":[[0.0,\"rgb(237, 217, 163)\"],[0.16666666666666666,\"rgb(246, 169, 122)\"],[0.3333333333333333,\"rgb(250, 120, 118)\"],[0.5,\"rgb(234, 79, 136)\"],[0.6666666666666666,\"rgb(192, 54, 157)\"],[0.8333333333333334,\"rgb(135, 44, 162)\"],[1.0,\"rgb(75, 41, 145)\"]]},\"legend\":{\"tracegroupgap\":0},\"margin\":{\"t\":60},\"barmode\":\"relative\",\"title\":{\"text\":\"Field severity types count\"}},                        {\"responsive\": true}                    ).then(function(){\n",
       "                            \n",
       "var gd = document.getElementById('d83c13d3-9af4-4b38-8edd-72d8b590b9ef');\n",
       "var x = new MutationObserver(function (mutations, observer) {{\n",
       "        var display = window.getComputedStyle(gd).display;\n",
       "        if (!display || display === 'none') {{\n",
       "            console.log([gd, 'removed!']);\n",
       "            Plotly.purge(gd);\n",
       "            observer.disconnect();\n",
       "        }}\n",
       "}});\n",
       "\n",
       "// Listen for the removal of the full notebook cells\n",
       "var notebookContainer = gd.closest('#notebook-container');\n",
       "if (notebookContainer) {{\n",
       "    x.observe(notebookContainer, {childList: true});\n",
       "}}\n",
       "\n",
       "// Listen for the clearing of the current output cell\n",
       "var outputEl = gd.closest('.output');\n",
       "if (outputEl) {{\n",
       "    x.observe(outputEl, {childList: true});\n",
       "}}\n",
       "\n",
       "                        })                };                });            </script>        </div>"
      ]
     },
     "metadata": {},
     "output_type": "display_data"
    },
    {
     "data": {
      "application/vnd.plotly.v1+json": {
       "config": {
        "plotlyServerURL": "https://plot.ly"
       },
       "data": [
        {
         "alignmentgroup": "True",
         "hovertemplate": "priority=%{x}<br>count=%{marker.color}<extra></extra>",
         "legendgroup": "",
         "marker": {
          "color": [
           1610,
           1525,
           578,
           285,
           153,
           64
          ],
          "coloraxis": "coloraxis",
          "pattern": {
           "shape": ""
          }
         },
         "name": "",
         "offsetgroup": "",
         "orientation": "v",
         "showlegend": false,
         "text": [
          1610,
          1525,
          578,
          285,
          153,
          64
         ],
         "textfont": {
          "size": 10
         },
         "textposition": "outside",
         "texttemplate": "%{text:.2f}",
         "type": "bar",
         "x": [
          "--",
          "P3",
          "P2",
          "P5",
          "P1",
          "P4"
         ],
         "xaxis": "x",
         "y": [
          1610,
          1525,
          578,
          285,
          153,
          64
         ],
         "yaxis": "y"
        }
       ],
       "layout": {
        "barmode": "relative",
        "coloraxis": {
         "colorbar": {
          "title": {
           "text": "count"
          }
         },
         "colorscale": [
          [
           0,
           "rgb(237, 217, 163)"
          ],
          [
           0.16666666666666666,
           "rgb(246, 169, 122)"
          ],
          [
           0.3333333333333333,
           "rgb(250, 120, 118)"
          ],
          [
           0.5,
           "rgb(234, 79, 136)"
          ],
          [
           0.6666666666666666,
           "rgb(192, 54, 157)"
          ],
          [
           0.8333333333333334,
           "rgb(135, 44, 162)"
          ],
          [
           1,
           "rgb(75, 41, 145)"
          ]
         ]
        },
        "legend": {
         "tracegroupgap": 0
        },
        "margin": {
         "t": 60
        },
        "template": {
         "data": {
          "bar": [
           {
            "error_x": {
             "color": "#2a3f5f"
            },
            "error_y": {
             "color": "#2a3f5f"
            },
            "marker": {
             "line": {
              "color": "#E5ECF6",
              "width": 0.5
             },
             "pattern": {
              "fillmode": "overlay",
              "size": 10,
              "solidity": 0.2
             }
            },
            "type": "bar"
           }
          ],
          "barpolar": [
           {
            "marker": {
             "line": {
              "color": "#E5ECF6",
              "width": 0.5
             },
             "pattern": {
              "fillmode": "overlay",
              "size": 10,
              "solidity": 0.2
             }
            },
            "type": "barpolar"
           }
          ],
          "carpet": [
           {
            "aaxis": {
             "endlinecolor": "#2a3f5f",
             "gridcolor": "white",
             "linecolor": "white",
             "minorgridcolor": "white",
             "startlinecolor": "#2a3f5f"
            },
            "baxis": {
             "endlinecolor": "#2a3f5f",
             "gridcolor": "white",
             "linecolor": "white",
             "minorgridcolor": "white",
             "startlinecolor": "#2a3f5f"
            },
            "type": "carpet"
           }
          ],
          "choropleth": [
           {
            "colorbar": {
             "outlinewidth": 0,
             "ticks": ""
            },
            "type": "choropleth"
           }
          ],
          "contour": [
           {
            "colorbar": {
             "outlinewidth": 0,
             "ticks": ""
            },
            "colorscale": [
             [
              0,
              "#0d0887"
             ],
             [
              0.1111111111111111,
              "#46039f"
             ],
             [
              0.2222222222222222,
              "#7201a8"
             ],
             [
              0.3333333333333333,
              "#9c179e"
             ],
             [
              0.4444444444444444,
              "#bd3786"
             ],
             [
              0.5555555555555556,
              "#d8576b"
             ],
             [
              0.6666666666666666,
              "#ed7953"
             ],
             [
              0.7777777777777778,
              "#fb9f3a"
             ],
             [
              0.8888888888888888,
              "#fdca26"
             ],
             [
              1,
              "#f0f921"
             ]
            ],
            "type": "contour"
           }
          ],
          "contourcarpet": [
           {
            "colorbar": {
             "outlinewidth": 0,
             "ticks": ""
            },
            "type": "contourcarpet"
           }
          ],
          "heatmap": [
           {
            "colorbar": {
             "outlinewidth": 0,
             "ticks": ""
            },
            "colorscale": [
             [
              0,
              "#0d0887"
             ],
             [
              0.1111111111111111,
              "#46039f"
             ],
             [
              0.2222222222222222,
              "#7201a8"
             ],
             [
              0.3333333333333333,
              "#9c179e"
             ],
             [
              0.4444444444444444,
              "#bd3786"
             ],
             [
              0.5555555555555556,
              "#d8576b"
             ],
             [
              0.6666666666666666,
              "#ed7953"
             ],
             [
              0.7777777777777778,
              "#fb9f3a"
             ],
             [
              0.8888888888888888,
              "#fdca26"
             ],
             [
              1,
              "#f0f921"
             ]
            ],
            "type": "heatmap"
           }
          ],
          "heatmapgl": [
           {
            "colorbar": {
             "outlinewidth": 0,
             "ticks": ""
            },
            "colorscale": [
             [
              0,
              "#0d0887"
             ],
             [
              0.1111111111111111,
              "#46039f"
             ],
             [
              0.2222222222222222,
              "#7201a8"
             ],
             [
              0.3333333333333333,
              "#9c179e"
             ],
             [
              0.4444444444444444,
              "#bd3786"
             ],
             [
              0.5555555555555556,
              "#d8576b"
             ],
             [
              0.6666666666666666,
              "#ed7953"
             ],
             [
              0.7777777777777778,
              "#fb9f3a"
             ],
             [
              0.8888888888888888,
              "#fdca26"
             ],
             [
              1,
              "#f0f921"
             ]
            ],
            "type": "heatmapgl"
           }
          ],
          "histogram": [
           {
            "marker": {
             "pattern": {
              "fillmode": "overlay",
              "size": 10,
              "solidity": 0.2
             }
            },
            "type": "histogram"
           }
          ],
          "histogram2d": [
           {
            "colorbar": {
             "outlinewidth": 0,
             "ticks": ""
            },
            "colorscale": [
             [
              0,
              "#0d0887"
             ],
             [
              0.1111111111111111,
              "#46039f"
             ],
             [
              0.2222222222222222,
              "#7201a8"
             ],
             [
              0.3333333333333333,
              "#9c179e"
             ],
             [
              0.4444444444444444,
              "#bd3786"
             ],
             [
              0.5555555555555556,
              "#d8576b"
             ],
             [
              0.6666666666666666,
              "#ed7953"
             ],
             [
              0.7777777777777778,
              "#fb9f3a"
             ],
             [
              0.8888888888888888,
              "#fdca26"
             ],
             [
              1,
              "#f0f921"
             ]
            ],
            "type": "histogram2d"
           }
          ],
          "histogram2dcontour": [
           {
            "colorbar": {
             "outlinewidth": 0,
             "ticks": ""
            },
            "colorscale": [
             [
              0,
              "#0d0887"
             ],
             [
              0.1111111111111111,
              "#46039f"
             ],
             [
              0.2222222222222222,
              "#7201a8"
             ],
             [
              0.3333333333333333,
              "#9c179e"
             ],
             [
              0.4444444444444444,
              "#bd3786"
             ],
             [
              0.5555555555555556,
              "#d8576b"
             ],
             [
              0.6666666666666666,
              "#ed7953"
             ],
             [
              0.7777777777777778,
              "#fb9f3a"
             ],
             [
              0.8888888888888888,
              "#fdca26"
             ],
             [
              1,
              "#f0f921"
             ]
            ],
            "type": "histogram2dcontour"
           }
          ],
          "mesh3d": [
           {
            "colorbar": {
             "outlinewidth": 0,
             "ticks": ""
            },
            "type": "mesh3d"
           }
          ],
          "parcoords": [
           {
            "line": {
             "colorbar": {
              "outlinewidth": 0,
              "ticks": ""
             }
            },
            "type": "parcoords"
           }
          ],
          "pie": [
           {
            "automargin": true,
            "type": "pie"
           }
          ],
          "scatter": [
           {
            "fillpattern": {
             "fillmode": "overlay",
             "size": 10,
             "solidity": 0.2
            },
            "type": "scatter"
           }
          ],
          "scatter3d": [
           {
            "line": {
             "colorbar": {
              "outlinewidth": 0,
              "ticks": ""
             }
            },
            "marker": {
             "colorbar": {
              "outlinewidth": 0,
              "ticks": ""
             }
            },
            "type": "scatter3d"
           }
          ],
          "scattercarpet": [
           {
            "marker": {
             "colorbar": {
              "outlinewidth": 0,
              "ticks": ""
             }
            },
            "type": "scattercarpet"
           }
          ],
          "scattergeo": [
           {
            "marker": {
             "colorbar": {
              "outlinewidth": 0,
              "ticks": ""
             }
            },
            "type": "scattergeo"
           }
          ],
          "scattergl": [
           {
            "marker": {
             "colorbar": {
              "outlinewidth": 0,
              "ticks": ""
             }
            },
            "type": "scattergl"
           }
          ],
          "scattermapbox": [
           {
            "marker": {
             "colorbar": {
              "outlinewidth": 0,
              "ticks": ""
             }
            },
            "type": "scattermapbox"
           }
          ],
          "scatterpolar": [
           {
            "marker": {
             "colorbar": {
              "outlinewidth": 0,
              "ticks": ""
             }
            },
            "type": "scatterpolar"
           }
          ],
          "scatterpolargl": [
           {
            "marker": {
             "colorbar": {
              "outlinewidth": 0,
              "ticks": ""
             }
            },
            "type": "scatterpolargl"
           }
          ],
          "scatterternary": [
           {
            "marker": {
             "colorbar": {
              "outlinewidth": 0,
              "ticks": ""
             }
            },
            "type": "scatterternary"
           }
          ],
          "surface": [
           {
            "colorbar": {
             "outlinewidth": 0,
             "ticks": ""
            },
            "colorscale": [
             [
              0,
              "#0d0887"
             ],
             [
              0.1111111111111111,
              "#46039f"
             ],
             [
              0.2222222222222222,
              "#7201a8"
             ],
             [
              0.3333333333333333,
              "#9c179e"
             ],
             [
              0.4444444444444444,
              "#bd3786"
             ],
             [
              0.5555555555555556,
              "#d8576b"
             ],
             [
              0.6666666666666666,
              "#ed7953"
             ],
             [
              0.7777777777777778,
              "#fb9f3a"
             ],
             [
              0.8888888888888888,
              "#fdca26"
             ],
             [
              1,
              "#f0f921"
             ]
            ],
            "type": "surface"
           }
          ],
          "table": [
           {
            "cells": {
             "fill": {
              "color": "#EBF0F8"
             },
             "line": {
              "color": "white"
             }
            },
            "header": {
             "fill": {
              "color": "#C8D4E3"
             },
             "line": {
              "color": "white"
             }
            },
            "type": "table"
           }
          ]
         },
         "layout": {
          "annotationdefaults": {
           "arrowcolor": "#2a3f5f",
           "arrowhead": 0,
           "arrowwidth": 1
          },
          "autotypenumbers": "strict",
          "coloraxis": {
           "colorbar": {
            "outlinewidth": 0,
            "ticks": ""
           }
          },
          "colorscale": {
           "diverging": [
            [
             0,
             "#8e0152"
            ],
            [
             0.1,
             "#c51b7d"
            ],
            [
             0.2,
             "#de77ae"
            ],
            [
             0.3,
             "#f1b6da"
            ],
            [
             0.4,
             "#fde0ef"
            ],
            [
             0.5,
             "#f7f7f7"
            ],
            [
             0.6,
             "#e6f5d0"
            ],
            [
             0.7,
             "#b8e186"
            ],
            [
             0.8,
             "#7fbc41"
            ],
            [
             0.9,
             "#4d9221"
            ],
            [
             1,
             "#276419"
            ]
           ],
           "sequential": [
            [
             0,
             "#0d0887"
            ],
            [
             0.1111111111111111,
             "#46039f"
            ],
            [
             0.2222222222222222,
             "#7201a8"
            ],
            [
             0.3333333333333333,
             "#9c179e"
            ],
            [
             0.4444444444444444,
             "#bd3786"
            ],
            [
             0.5555555555555556,
             "#d8576b"
            ],
            [
             0.6666666666666666,
             "#ed7953"
            ],
            [
             0.7777777777777778,
             "#fb9f3a"
            ],
            [
             0.8888888888888888,
             "#fdca26"
            ],
            [
             1,
             "#f0f921"
            ]
           ],
           "sequentialminus": [
            [
             0,
             "#0d0887"
            ],
            [
             0.1111111111111111,
             "#46039f"
            ],
            [
             0.2222222222222222,
             "#7201a8"
            ],
            [
             0.3333333333333333,
             "#9c179e"
            ],
            [
             0.4444444444444444,
             "#bd3786"
            ],
            [
             0.5555555555555556,
             "#d8576b"
            ],
            [
             0.6666666666666666,
             "#ed7953"
            ],
            [
             0.7777777777777778,
             "#fb9f3a"
            ],
            [
             0.8888888888888888,
             "#fdca26"
            ],
            [
             1,
             "#f0f921"
            ]
           ]
          },
          "colorway": [
           "#636efa",
           "#EF553B",
           "#00cc96",
           "#ab63fa",
           "#FFA15A",
           "#19d3f3",
           "#FF6692",
           "#B6E880",
           "#FF97FF",
           "#FECB52"
          ],
          "font": {
           "color": "#2a3f5f"
          },
          "geo": {
           "bgcolor": "white",
           "lakecolor": "white",
           "landcolor": "#E5ECF6",
           "showlakes": true,
           "showland": true,
           "subunitcolor": "white"
          },
          "hoverlabel": {
           "align": "left"
          },
          "hovermode": "closest",
          "mapbox": {
           "style": "light"
          },
          "paper_bgcolor": "white",
          "plot_bgcolor": "#E5ECF6",
          "polar": {
           "angularaxis": {
            "gridcolor": "white",
            "linecolor": "white",
            "ticks": ""
           },
           "bgcolor": "#E5ECF6",
           "radialaxis": {
            "gridcolor": "white",
            "linecolor": "white",
            "ticks": ""
           }
          },
          "scene": {
           "xaxis": {
            "backgroundcolor": "#E5ECF6",
            "gridcolor": "white",
            "gridwidth": 2,
            "linecolor": "white",
            "showbackground": true,
            "ticks": "",
            "zerolinecolor": "white"
           },
           "yaxis": {
            "backgroundcolor": "#E5ECF6",
            "gridcolor": "white",
            "gridwidth": 2,
            "linecolor": "white",
            "showbackground": true,
            "ticks": "",
            "zerolinecolor": "white"
           },
           "zaxis": {
            "backgroundcolor": "#E5ECF6",
            "gridcolor": "white",
            "gridwidth": 2,
            "linecolor": "white",
            "showbackground": true,
            "ticks": "",
            "zerolinecolor": "white"
           }
          },
          "shapedefaults": {
           "line": {
            "color": "#2a3f5f"
           }
          },
          "ternary": {
           "aaxis": {
            "gridcolor": "white",
            "linecolor": "white",
            "ticks": ""
           },
           "baxis": {
            "gridcolor": "white",
            "linecolor": "white",
            "ticks": ""
           },
           "bgcolor": "#E5ECF6",
           "caxis": {
            "gridcolor": "white",
            "linecolor": "white",
            "ticks": ""
           }
          },
          "title": {
           "x": 0.05
          },
          "xaxis": {
           "automargin": true,
           "gridcolor": "white",
           "linecolor": "white",
           "ticks": "",
           "title": {
            "standoff": 15
           },
           "zerolinecolor": "white",
           "zerolinewidth": 2
          },
          "yaxis": {
           "automargin": true,
           "gridcolor": "white",
           "linecolor": "white",
           "ticks": "",
           "title": {
            "standoff": 15
           },
           "zerolinecolor": "white",
           "zerolinewidth": 2
          }
         }
        },
        "title": {
         "text": "Field priority types count"
        },
        "xaxis": {
         "anchor": "y",
         "domain": [
          0,
          1
         ],
         "title": {
          "text": "priority"
         }
        },
        "yaxis": {
         "anchor": "x",
         "domain": [
          0,
          1
         ],
         "title": {
          "text": "count"
         }
        }
       }
      },
      "text/html": [
       "<div>                            <div id=\"35af44c6-bc44-4075-b693-0ec43f863928\" class=\"plotly-graph-div\" style=\"height:525px; width:100%;\"></div>            <script type=\"text/javascript\">                require([\"plotly\"], function(Plotly) {                    window.PLOTLYENV=window.PLOTLYENV || {};                                    if (document.getElementById(\"35af44c6-bc44-4075-b693-0ec43f863928\")) {                    Plotly.newPlot(                        \"35af44c6-bc44-4075-b693-0ec43f863928\",                        [{\"alignmentgroup\":\"True\",\"hovertemplate\":\"priority=%{x}<br>count=%{marker.color}<extra></extra>\",\"legendgroup\":\"\",\"marker\":{\"color\":[1610,1525,578,285,153,64],\"coloraxis\":\"coloraxis\",\"pattern\":{\"shape\":\"\"}},\"name\":\"\",\"offsetgroup\":\"\",\"orientation\":\"v\",\"showlegend\":false,\"text\":[1610.0,1525.0,578.0,285.0,153.0,64.0],\"textposition\":\"outside\",\"x\":[\"--\",\"P3\",\"P2\",\"P5\",\"P1\",\"P4\"],\"xaxis\":\"x\",\"y\":[1610,1525,578,285,153,64],\"yaxis\":\"y\",\"type\":\"bar\",\"textfont\":{\"size\":10},\"texttemplate\":\"%{text:.2f}\"}],                        {\"template\":{\"data\":{\"histogram2dcontour\":[{\"type\":\"histogram2dcontour\",\"colorbar\":{\"outlinewidth\":0,\"ticks\":\"\"},\"colorscale\":[[0.0,\"#0d0887\"],[0.1111111111111111,\"#46039f\"],[0.2222222222222222,\"#7201a8\"],[0.3333333333333333,\"#9c179e\"],[0.4444444444444444,\"#bd3786\"],[0.5555555555555556,\"#d8576b\"],[0.6666666666666666,\"#ed7953\"],[0.7777777777777778,\"#fb9f3a\"],[0.8888888888888888,\"#fdca26\"],[1.0,\"#f0f921\"]]}],\"choropleth\":[{\"type\":\"choropleth\",\"colorbar\":{\"outlinewidth\":0,\"ticks\":\"\"}}],\"histogram2d\":[{\"type\":\"histogram2d\",\"colorbar\":{\"outlinewidth\":0,\"ticks\":\"\"},\"colorscale\":[[0.0,\"#0d0887\"],[0.1111111111111111,\"#46039f\"],[0.2222222222222222,\"#7201a8\"],[0.3333333333333333,\"#9c179e\"],[0.4444444444444444,\"#bd3786\"],[0.5555555555555556,\"#d8576b\"],[0.6666666666666666,\"#ed7953\"],[0.7777777777777778,\"#fb9f3a\"],[0.8888888888888888,\"#fdca26\"],[1.0,\"#f0f921\"]]}],\"heatmap\":[{\"type\":\"heatmap\",\"colorbar\":{\"outlinewidth\":0,\"ticks\":\"\"},\"colorscale\":[[0.0,\"#0d0887\"],[0.1111111111111111,\"#46039f\"],[0.2222222222222222,\"#7201a8\"],[0.3333333333333333,\"#9c179e\"],[0.4444444444444444,\"#bd3786\"],[0.5555555555555556,\"#d8576b\"],[0.6666666666666666,\"#ed7953\"],[0.7777777777777778,\"#fb9f3a\"],[0.8888888888888888,\"#fdca26\"],[1.0,\"#f0f921\"]]}],\"heatmapgl\":[{\"type\":\"heatmapgl\",\"colorbar\":{\"outlinewidth\":0,\"ticks\":\"\"},\"colorscale\":[[0.0,\"#0d0887\"],[0.1111111111111111,\"#46039f\"],[0.2222222222222222,\"#7201a8\"],[0.3333333333333333,\"#9c179e\"],[0.4444444444444444,\"#bd3786\"],[0.5555555555555556,\"#d8576b\"],[0.6666666666666666,\"#ed7953\"],[0.7777777777777778,\"#fb9f3a\"],[0.8888888888888888,\"#fdca26\"],[1.0,\"#f0f921\"]]}],\"contourcarpet\":[{\"type\":\"contourcarpet\",\"colorbar\":{\"outlinewidth\":0,\"ticks\":\"\"}}],\"contour\":[{\"type\":\"contour\",\"colorbar\":{\"outlinewidth\":0,\"ticks\":\"\"},\"colorscale\":[[0.0,\"#0d0887\"],[0.1111111111111111,\"#46039f\"],[0.2222222222222222,\"#7201a8\"],[0.3333333333333333,\"#9c179e\"],[0.4444444444444444,\"#bd3786\"],[0.5555555555555556,\"#d8576b\"],[0.6666666666666666,\"#ed7953\"],[0.7777777777777778,\"#fb9f3a\"],[0.8888888888888888,\"#fdca26\"],[1.0,\"#f0f921\"]]}],\"surface\":[{\"type\":\"surface\",\"colorbar\":{\"outlinewidth\":0,\"ticks\":\"\"},\"colorscale\":[[0.0,\"#0d0887\"],[0.1111111111111111,\"#46039f\"],[0.2222222222222222,\"#7201a8\"],[0.3333333333333333,\"#9c179e\"],[0.4444444444444444,\"#bd3786\"],[0.5555555555555556,\"#d8576b\"],[0.6666666666666666,\"#ed7953\"],[0.7777777777777778,\"#fb9f3a\"],[0.8888888888888888,\"#fdca26\"],[1.0,\"#f0f921\"]]}],\"mesh3d\":[{\"type\":\"mesh3d\",\"colorbar\":{\"outlinewidth\":0,\"ticks\":\"\"}}],\"scatter\":[{\"fillpattern\":{\"fillmode\":\"overlay\",\"size\":10,\"solidity\":0.2},\"type\":\"scatter\"}],\"parcoords\":[{\"type\":\"parcoords\",\"line\":{\"colorbar\":{\"outlinewidth\":0,\"ticks\":\"\"}}}],\"scatterpolargl\":[{\"type\":\"scatterpolargl\",\"marker\":{\"colorbar\":{\"outlinewidth\":0,\"ticks\":\"\"}}}],\"bar\":[{\"error_x\":{\"color\":\"#2a3f5f\"},\"error_y\":{\"color\":\"#2a3f5f\"},\"marker\":{\"line\":{\"color\":\"#E5ECF6\",\"width\":0.5},\"pattern\":{\"fillmode\":\"overlay\",\"size\":10,\"solidity\":0.2}},\"type\":\"bar\"}],\"scattergeo\":[{\"type\":\"scattergeo\",\"marker\":{\"colorbar\":{\"outlinewidth\":0,\"ticks\":\"\"}}}],\"scatterpolar\":[{\"type\":\"scatterpolar\",\"marker\":{\"colorbar\":{\"outlinewidth\":0,\"ticks\":\"\"}}}],\"histogram\":[{\"marker\":{\"pattern\":{\"fillmode\":\"overlay\",\"size\":10,\"solidity\":0.2}},\"type\":\"histogram\"}],\"scattergl\":[{\"type\":\"scattergl\",\"marker\":{\"colorbar\":{\"outlinewidth\":0,\"ticks\":\"\"}}}],\"scatter3d\":[{\"type\":\"scatter3d\",\"line\":{\"colorbar\":{\"outlinewidth\":0,\"ticks\":\"\"}},\"marker\":{\"colorbar\":{\"outlinewidth\":0,\"ticks\":\"\"}}}],\"scattermapbox\":[{\"type\":\"scattermapbox\",\"marker\":{\"colorbar\":{\"outlinewidth\":0,\"ticks\":\"\"}}}],\"scatterternary\":[{\"type\":\"scatterternary\",\"marker\":{\"colorbar\":{\"outlinewidth\":0,\"ticks\":\"\"}}}],\"scattercarpet\":[{\"type\":\"scattercarpet\",\"marker\":{\"colorbar\":{\"outlinewidth\":0,\"ticks\":\"\"}}}],\"carpet\":[{\"aaxis\":{\"endlinecolor\":\"#2a3f5f\",\"gridcolor\":\"white\",\"linecolor\":\"white\",\"minorgridcolor\":\"white\",\"startlinecolor\":\"#2a3f5f\"},\"baxis\":{\"endlinecolor\":\"#2a3f5f\",\"gridcolor\":\"white\",\"linecolor\":\"white\",\"minorgridcolor\":\"white\",\"startlinecolor\":\"#2a3f5f\"},\"type\":\"carpet\"}],\"table\":[{\"cells\":{\"fill\":{\"color\":\"#EBF0F8\"},\"line\":{\"color\":\"white\"}},\"header\":{\"fill\":{\"color\":\"#C8D4E3\"},\"line\":{\"color\":\"white\"}},\"type\":\"table\"}],\"barpolar\":[{\"marker\":{\"line\":{\"color\":\"#E5ECF6\",\"width\":0.5},\"pattern\":{\"fillmode\":\"overlay\",\"size\":10,\"solidity\":0.2}},\"type\":\"barpolar\"}],\"pie\":[{\"automargin\":true,\"type\":\"pie\"}]},\"layout\":{\"autotypenumbers\":\"strict\",\"colorway\":[\"#636efa\",\"#EF553B\",\"#00cc96\",\"#ab63fa\",\"#FFA15A\",\"#19d3f3\",\"#FF6692\",\"#B6E880\",\"#FF97FF\",\"#FECB52\"],\"font\":{\"color\":\"#2a3f5f\"},\"hovermode\":\"closest\",\"hoverlabel\":{\"align\":\"left\"},\"paper_bgcolor\":\"white\",\"plot_bgcolor\":\"#E5ECF6\",\"polar\":{\"bgcolor\":\"#E5ECF6\",\"angularaxis\":{\"gridcolor\":\"white\",\"linecolor\":\"white\",\"ticks\":\"\"},\"radialaxis\":{\"gridcolor\":\"white\",\"linecolor\":\"white\",\"ticks\":\"\"}},\"ternary\":{\"bgcolor\":\"#E5ECF6\",\"aaxis\":{\"gridcolor\":\"white\",\"linecolor\":\"white\",\"ticks\":\"\"},\"baxis\":{\"gridcolor\":\"white\",\"linecolor\":\"white\",\"ticks\":\"\"},\"caxis\":{\"gridcolor\":\"white\",\"linecolor\":\"white\",\"ticks\":\"\"}},\"coloraxis\":{\"colorbar\":{\"outlinewidth\":0,\"ticks\":\"\"}},\"colorscale\":{\"sequential\":[[0.0,\"#0d0887\"],[0.1111111111111111,\"#46039f\"],[0.2222222222222222,\"#7201a8\"],[0.3333333333333333,\"#9c179e\"],[0.4444444444444444,\"#bd3786\"],[0.5555555555555556,\"#d8576b\"],[0.6666666666666666,\"#ed7953\"],[0.7777777777777778,\"#fb9f3a\"],[0.8888888888888888,\"#fdca26\"],[1.0,\"#f0f921\"]],\"sequentialminus\":[[0.0,\"#0d0887\"],[0.1111111111111111,\"#46039f\"],[0.2222222222222222,\"#7201a8\"],[0.3333333333333333,\"#9c179e\"],[0.4444444444444444,\"#bd3786\"],[0.5555555555555556,\"#d8576b\"],[0.6666666666666666,\"#ed7953\"],[0.7777777777777778,\"#fb9f3a\"],[0.8888888888888888,\"#fdca26\"],[1.0,\"#f0f921\"]],\"diverging\":[[0,\"#8e0152\"],[0.1,\"#c51b7d\"],[0.2,\"#de77ae\"],[0.3,\"#f1b6da\"],[0.4,\"#fde0ef\"],[0.5,\"#f7f7f7\"],[0.6,\"#e6f5d0\"],[0.7,\"#b8e186\"],[0.8,\"#7fbc41\"],[0.9,\"#4d9221\"],[1,\"#276419\"]]},\"xaxis\":{\"gridcolor\":\"white\",\"linecolor\":\"white\",\"ticks\":\"\",\"title\":{\"standoff\":15},\"zerolinecolor\":\"white\",\"automargin\":true,\"zerolinewidth\":2},\"yaxis\":{\"gridcolor\":\"white\",\"linecolor\":\"white\",\"ticks\":\"\",\"title\":{\"standoff\":15},\"zerolinecolor\":\"white\",\"automargin\":true,\"zerolinewidth\":2},\"scene\":{\"xaxis\":{\"backgroundcolor\":\"#E5ECF6\",\"gridcolor\":\"white\",\"linecolor\":\"white\",\"showbackground\":true,\"ticks\":\"\",\"zerolinecolor\":\"white\",\"gridwidth\":2},\"yaxis\":{\"backgroundcolor\":\"#E5ECF6\",\"gridcolor\":\"white\",\"linecolor\":\"white\",\"showbackground\":true,\"ticks\":\"\",\"zerolinecolor\":\"white\",\"gridwidth\":2},\"zaxis\":{\"backgroundcolor\":\"#E5ECF6\",\"gridcolor\":\"white\",\"linecolor\":\"white\",\"showbackground\":true,\"ticks\":\"\",\"zerolinecolor\":\"white\",\"gridwidth\":2}},\"shapedefaults\":{\"line\":{\"color\":\"#2a3f5f\"}},\"annotationdefaults\":{\"arrowcolor\":\"#2a3f5f\",\"arrowhead\":0,\"arrowwidth\":1},\"geo\":{\"bgcolor\":\"white\",\"landcolor\":\"#E5ECF6\",\"subunitcolor\":\"white\",\"showland\":true,\"showlakes\":true,\"lakecolor\":\"white\"},\"title\":{\"x\":0.05},\"mapbox\":{\"style\":\"light\"}}},\"xaxis\":{\"anchor\":\"y\",\"domain\":[0.0,1.0],\"title\":{\"text\":\"priority\"}},\"yaxis\":{\"anchor\":\"x\",\"domain\":[0.0,1.0],\"title\":{\"text\":\"count\"}},\"coloraxis\":{\"colorbar\":{\"title\":{\"text\":\"count\"}},\"colorscale\":[[0.0,\"rgb(237, 217, 163)\"],[0.16666666666666666,\"rgb(246, 169, 122)\"],[0.3333333333333333,\"rgb(250, 120, 118)\"],[0.5,\"rgb(234, 79, 136)\"],[0.6666666666666666,\"rgb(192, 54, 157)\"],[0.8333333333333334,\"rgb(135, 44, 162)\"],[1.0,\"rgb(75, 41, 145)\"]]},\"legend\":{\"tracegroupgap\":0},\"margin\":{\"t\":60},\"barmode\":\"relative\",\"title\":{\"text\":\"Field priority types count\"}},                        {\"responsive\": true}                    ).then(function(){\n",
       "                            \n",
       "var gd = document.getElementById('35af44c6-bc44-4075-b693-0ec43f863928');\n",
       "var x = new MutationObserver(function (mutations, observer) {{\n",
       "        var display = window.getComputedStyle(gd).display;\n",
       "        if (!display || display === 'none') {{\n",
       "            console.log([gd, 'removed!']);\n",
       "            Plotly.purge(gd);\n",
       "            observer.disconnect();\n",
       "        }}\n",
       "}});\n",
       "\n",
       "// Listen for the removal of the full notebook cells\n",
       "var notebookContainer = gd.closest('#notebook-container');\n",
       "if (notebookContainer) {{\n",
       "    x.observe(notebookContainer, {childList: true});\n",
       "}}\n",
       "\n",
       "// Listen for the clearing of the current output cell\n",
       "var outputEl = gd.closest('.output');\n",
       "if (outputEl) {{\n",
       "    x.observe(outputEl, {childList: true});\n",
       "}}\n",
       "\n",
       "                        })                };                });            </script>        </div>"
      ]
     },
     "metadata": {},
     "output_type": "display_data"
    },
    {
     "data": {
      "application/vnd.plotly.v1+json": {
       "config": {
        "plotlyServerURL": "https://plot.ly"
       },
       "data": [
        {
         "alignmentgroup": "True",
         "hovertemplate": "type=%{x}<br>count=%{marker.color}<extra></extra>",
         "legendgroup": "",
         "marker": {
          "color": [
           3327,
           888
          ],
          "coloraxis": "coloraxis",
          "pattern": {
           "shape": ""
          }
         },
         "name": "",
         "offsetgroup": "",
         "orientation": "v",
         "showlegend": false,
         "text": [
          3327,
          888
         ],
         "textfont": {
          "size": 10
         },
         "textposition": "outside",
         "texttemplate": "%{text:.2f}",
         "type": "bar",
         "x": [
          "enhancement",
          "task"
         ],
         "xaxis": "x",
         "y": [
          3327,
          888
         ],
         "yaxis": "y"
        }
       ],
       "layout": {
        "barmode": "relative",
        "coloraxis": {
         "colorbar": {
          "title": {
           "text": "count"
          }
         },
         "colorscale": [
          [
           0,
           "rgb(237, 217, 163)"
          ],
          [
           0.16666666666666666,
           "rgb(246, 169, 122)"
          ],
          [
           0.3333333333333333,
           "rgb(250, 120, 118)"
          ],
          [
           0.5,
           "rgb(234, 79, 136)"
          ],
          [
           0.6666666666666666,
           "rgb(192, 54, 157)"
          ],
          [
           0.8333333333333334,
           "rgb(135, 44, 162)"
          ],
          [
           1,
           "rgb(75, 41, 145)"
          ]
         ]
        },
        "legend": {
         "tracegroupgap": 0
        },
        "margin": {
         "t": 60
        },
        "template": {
         "data": {
          "bar": [
           {
            "error_x": {
             "color": "#2a3f5f"
            },
            "error_y": {
             "color": "#2a3f5f"
            },
            "marker": {
             "line": {
              "color": "#E5ECF6",
              "width": 0.5
             },
             "pattern": {
              "fillmode": "overlay",
              "size": 10,
              "solidity": 0.2
             }
            },
            "type": "bar"
           }
          ],
          "barpolar": [
           {
            "marker": {
             "line": {
              "color": "#E5ECF6",
              "width": 0.5
             },
             "pattern": {
              "fillmode": "overlay",
              "size": 10,
              "solidity": 0.2
             }
            },
            "type": "barpolar"
           }
          ],
          "carpet": [
           {
            "aaxis": {
             "endlinecolor": "#2a3f5f",
             "gridcolor": "white",
             "linecolor": "white",
             "minorgridcolor": "white",
             "startlinecolor": "#2a3f5f"
            },
            "baxis": {
             "endlinecolor": "#2a3f5f",
             "gridcolor": "white",
             "linecolor": "white",
             "minorgridcolor": "white",
             "startlinecolor": "#2a3f5f"
            },
            "type": "carpet"
           }
          ],
          "choropleth": [
           {
            "colorbar": {
             "outlinewidth": 0,
             "ticks": ""
            },
            "type": "choropleth"
           }
          ],
          "contour": [
           {
            "colorbar": {
             "outlinewidth": 0,
             "ticks": ""
            },
            "colorscale": [
             [
              0,
              "#0d0887"
             ],
             [
              0.1111111111111111,
              "#46039f"
             ],
             [
              0.2222222222222222,
              "#7201a8"
             ],
             [
              0.3333333333333333,
              "#9c179e"
             ],
             [
              0.4444444444444444,
              "#bd3786"
             ],
             [
              0.5555555555555556,
              "#d8576b"
             ],
             [
              0.6666666666666666,
              "#ed7953"
             ],
             [
              0.7777777777777778,
              "#fb9f3a"
             ],
             [
              0.8888888888888888,
              "#fdca26"
             ],
             [
              1,
              "#f0f921"
             ]
            ],
            "type": "contour"
           }
          ],
          "contourcarpet": [
           {
            "colorbar": {
             "outlinewidth": 0,
             "ticks": ""
            },
            "type": "contourcarpet"
           }
          ],
          "heatmap": [
           {
            "colorbar": {
             "outlinewidth": 0,
             "ticks": ""
            },
            "colorscale": [
             [
              0,
              "#0d0887"
             ],
             [
              0.1111111111111111,
              "#46039f"
             ],
             [
              0.2222222222222222,
              "#7201a8"
             ],
             [
              0.3333333333333333,
              "#9c179e"
             ],
             [
              0.4444444444444444,
              "#bd3786"
             ],
             [
              0.5555555555555556,
              "#d8576b"
             ],
             [
              0.6666666666666666,
              "#ed7953"
             ],
             [
              0.7777777777777778,
              "#fb9f3a"
             ],
             [
              0.8888888888888888,
              "#fdca26"
             ],
             [
              1,
              "#f0f921"
             ]
            ],
            "type": "heatmap"
           }
          ],
          "heatmapgl": [
           {
            "colorbar": {
             "outlinewidth": 0,
             "ticks": ""
            },
            "colorscale": [
             [
              0,
              "#0d0887"
             ],
             [
              0.1111111111111111,
              "#46039f"
             ],
             [
              0.2222222222222222,
              "#7201a8"
             ],
             [
              0.3333333333333333,
              "#9c179e"
             ],
             [
              0.4444444444444444,
              "#bd3786"
             ],
             [
              0.5555555555555556,
              "#d8576b"
             ],
             [
              0.6666666666666666,
              "#ed7953"
             ],
             [
              0.7777777777777778,
              "#fb9f3a"
             ],
             [
              0.8888888888888888,
              "#fdca26"
             ],
             [
              1,
              "#f0f921"
             ]
            ],
            "type": "heatmapgl"
           }
          ],
          "histogram": [
           {
            "marker": {
             "pattern": {
              "fillmode": "overlay",
              "size": 10,
              "solidity": 0.2
             }
            },
            "type": "histogram"
           }
          ],
          "histogram2d": [
           {
            "colorbar": {
             "outlinewidth": 0,
             "ticks": ""
            },
            "colorscale": [
             [
              0,
              "#0d0887"
             ],
             [
              0.1111111111111111,
              "#46039f"
             ],
             [
              0.2222222222222222,
              "#7201a8"
             ],
             [
              0.3333333333333333,
              "#9c179e"
             ],
             [
              0.4444444444444444,
              "#bd3786"
             ],
             [
              0.5555555555555556,
              "#d8576b"
             ],
             [
              0.6666666666666666,
              "#ed7953"
             ],
             [
              0.7777777777777778,
              "#fb9f3a"
             ],
             [
              0.8888888888888888,
              "#fdca26"
             ],
             [
              1,
              "#f0f921"
             ]
            ],
            "type": "histogram2d"
           }
          ],
          "histogram2dcontour": [
           {
            "colorbar": {
             "outlinewidth": 0,
             "ticks": ""
            },
            "colorscale": [
             [
              0,
              "#0d0887"
             ],
             [
              0.1111111111111111,
              "#46039f"
             ],
             [
              0.2222222222222222,
              "#7201a8"
             ],
             [
              0.3333333333333333,
              "#9c179e"
             ],
             [
              0.4444444444444444,
              "#bd3786"
             ],
             [
              0.5555555555555556,
              "#d8576b"
             ],
             [
              0.6666666666666666,
              "#ed7953"
             ],
             [
              0.7777777777777778,
              "#fb9f3a"
             ],
             [
              0.8888888888888888,
              "#fdca26"
             ],
             [
              1,
              "#f0f921"
             ]
            ],
            "type": "histogram2dcontour"
           }
          ],
          "mesh3d": [
           {
            "colorbar": {
             "outlinewidth": 0,
             "ticks": ""
            },
            "type": "mesh3d"
           }
          ],
          "parcoords": [
           {
            "line": {
             "colorbar": {
              "outlinewidth": 0,
              "ticks": ""
             }
            },
            "type": "parcoords"
           }
          ],
          "pie": [
           {
            "automargin": true,
            "type": "pie"
           }
          ],
          "scatter": [
           {
            "fillpattern": {
             "fillmode": "overlay",
             "size": 10,
             "solidity": 0.2
            },
            "type": "scatter"
           }
          ],
          "scatter3d": [
           {
            "line": {
             "colorbar": {
              "outlinewidth": 0,
              "ticks": ""
             }
            },
            "marker": {
             "colorbar": {
              "outlinewidth": 0,
              "ticks": ""
             }
            },
            "type": "scatter3d"
           }
          ],
          "scattercarpet": [
           {
            "marker": {
             "colorbar": {
              "outlinewidth": 0,
              "ticks": ""
             }
            },
            "type": "scattercarpet"
           }
          ],
          "scattergeo": [
           {
            "marker": {
             "colorbar": {
              "outlinewidth": 0,
              "ticks": ""
             }
            },
            "type": "scattergeo"
           }
          ],
          "scattergl": [
           {
            "marker": {
             "colorbar": {
              "outlinewidth": 0,
              "ticks": ""
             }
            },
            "type": "scattergl"
           }
          ],
          "scattermapbox": [
           {
            "marker": {
             "colorbar": {
              "outlinewidth": 0,
              "ticks": ""
             }
            },
            "type": "scattermapbox"
           }
          ],
          "scatterpolar": [
           {
            "marker": {
             "colorbar": {
              "outlinewidth": 0,
              "ticks": ""
             }
            },
            "type": "scatterpolar"
           }
          ],
          "scatterpolargl": [
           {
            "marker": {
             "colorbar": {
              "outlinewidth": 0,
              "ticks": ""
             }
            },
            "type": "scatterpolargl"
           }
          ],
          "scatterternary": [
           {
            "marker": {
             "colorbar": {
              "outlinewidth": 0,
              "ticks": ""
             }
            },
            "type": "scatterternary"
           }
          ],
          "surface": [
           {
            "colorbar": {
             "outlinewidth": 0,
             "ticks": ""
            },
            "colorscale": [
             [
              0,
              "#0d0887"
             ],
             [
              0.1111111111111111,
              "#46039f"
             ],
             [
              0.2222222222222222,
              "#7201a8"
             ],
             [
              0.3333333333333333,
              "#9c179e"
             ],
             [
              0.4444444444444444,
              "#bd3786"
             ],
             [
              0.5555555555555556,
              "#d8576b"
             ],
             [
              0.6666666666666666,
              "#ed7953"
             ],
             [
              0.7777777777777778,
              "#fb9f3a"
             ],
             [
              0.8888888888888888,
              "#fdca26"
             ],
             [
              1,
              "#f0f921"
             ]
            ],
            "type": "surface"
           }
          ],
          "table": [
           {
            "cells": {
             "fill": {
              "color": "#EBF0F8"
             },
             "line": {
              "color": "white"
             }
            },
            "header": {
             "fill": {
              "color": "#C8D4E3"
             },
             "line": {
              "color": "white"
             }
            },
            "type": "table"
           }
          ]
         },
         "layout": {
          "annotationdefaults": {
           "arrowcolor": "#2a3f5f",
           "arrowhead": 0,
           "arrowwidth": 1
          },
          "autotypenumbers": "strict",
          "coloraxis": {
           "colorbar": {
            "outlinewidth": 0,
            "ticks": ""
           }
          },
          "colorscale": {
           "diverging": [
            [
             0,
             "#8e0152"
            ],
            [
             0.1,
             "#c51b7d"
            ],
            [
             0.2,
             "#de77ae"
            ],
            [
             0.3,
             "#f1b6da"
            ],
            [
             0.4,
             "#fde0ef"
            ],
            [
             0.5,
             "#f7f7f7"
            ],
            [
             0.6,
             "#e6f5d0"
            ],
            [
             0.7,
             "#b8e186"
            ],
            [
             0.8,
             "#7fbc41"
            ],
            [
             0.9,
             "#4d9221"
            ],
            [
             1,
             "#276419"
            ]
           ],
           "sequential": [
            [
             0,
             "#0d0887"
            ],
            [
             0.1111111111111111,
             "#46039f"
            ],
            [
             0.2222222222222222,
             "#7201a8"
            ],
            [
             0.3333333333333333,
             "#9c179e"
            ],
            [
             0.4444444444444444,
             "#bd3786"
            ],
            [
             0.5555555555555556,
             "#d8576b"
            ],
            [
             0.6666666666666666,
             "#ed7953"
            ],
            [
             0.7777777777777778,
             "#fb9f3a"
            ],
            [
             0.8888888888888888,
             "#fdca26"
            ],
            [
             1,
             "#f0f921"
            ]
           ],
           "sequentialminus": [
            [
             0,
             "#0d0887"
            ],
            [
             0.1111111111111111,
             "#46039f"
            ],
            [
             0.2222222222222222,
             "#7201a8"
            ],
            [
             0.3333333333333333,
             "#9c179e"
            ],
            [
             0.4444444444444444,
             "#bd3786"
            ],
            [
             0.5555555555555556,
             "#d8576b"
            ],
            [
             0.6666666666666666,
             "#ed7953"
            ],
            [
             0.7777777777777778,
             "#fb9f3a"
            ],
            [
             0.8888888888888888,
             "#fdca26"
            ],
            [
             1,
             "#f0f921"
            ]
           ]
          },
          "colorway": [
           "#636efa",
           "#EF553B",
           "#00cc96",
           "#ab63fa",
           "#FFA15A",
           "#19d3f3",
           "#FF6692",
           "#B6E880",
           "#FF97FF",
           "#FECB52"
          ],
          "font": {
           "color": "#2a3f5f"
          },
          "geo": {
           "bgcolor": "white",
           "lakecolor": "white",
           "landcolor": "#E5ECF6",
           "showlakes": true,
           "showland": true,
           "subunitcolor": "white"
          },
          "hoverlabel": {
           "align": "left"
          },
          "hovermode": "closest",
          "mapbox": {
           "style": "light"
          },
          "paper_bgcolor": "white",
          "plot_bgcolor": "#E5ECF6",
          "polar": {
           "angularaxis": {
            "gridcolor": "white",
            "linecolor": "white",
            "ticks": ""
           },
           "bgcolor": "#E5ECF6",
           "radialaxis": {
            "gridcolor": "white",
            "linecolor": "white",
            "ticks": ""
           }
          },
          "scene": {
           "xaxis": {
            "backgroundcolor": "#E5ECF6",
            "gridcolor": "white",
            "gridwidth": 2,
            "linecolor": "white",
            "showbackground": true,
            "ticks": "",
            "zerolinecolor": "white"
           },
           "yaxis": {
            "backgroundcolor": "#E5ECF6",
            "gridcolor": "white",
            "gridwidth": 2,
            "linecolor": "white",
            "showbackground": true,
            "ticks": "",
            "zerolinecolor": "white"
           },
           "zaxis": {
            "backgroundcolor": "#E5ECF6",
            "gridcolor": "white",
            "gridwidth": 2,
            "linecolor": "white",
            "showbackground": true,
            "ticks": "",
            "zerolinecolor": "white"
           }
          },
          "shapedefaults": {
           "line": {
            "color": "#2a3f5f"
           }
          },
          "ternary": {
           "aaxis": {
            "gridcolor": "white",
            "linecolor": "white",
            "ticks": ""
           },
           "baxis": {
            "gridcolor": "white",
            "linecolor": "white",
            "ticks": ""
           },
           "bgcolor": "#E5ECF6",
           "caxis": {
            "gridcolor": "white",
            "linecolor": "white",
            "ticks": ""
           }
          },
          "title": {
           "x": 0.05
          },
          "xaxis": {
           "automargin": true,
           "gridcolor": "white",
           "linecolor": "white",
           "ticks": "",
           "title": {
            "standoff": 15
           },
           "zerolinecolor": "white",
           "zerolinewidth": 2
          },
          "yaxis": {
           "automargin": true,
           "gridcolor": "white",
           "linecolor": "white",
           "ticks": "",
           "title": {
            "standoff": 15
           },
           "zerolinecolor": "white",
           "zerolinewidth": 2
          }
         }
        },
        "title": {
         "text": "Field type types count"
        },
        "xaxis": {
         "anchor": "y",
         "domain": [
          0,
          1
         ],
         "title": {
          "text": "type"
         }
        },
        "yaxis": {
         "anchor": "x",
         "domain": [
          0,
          1
         ],
         "title": {
          "text": "count"
         }
        }
       }
      },
      "text/html": [
       "<div>                            <div id=\"0f8a5f99-c626-4939-9f73-86b78baf355c\" class=\"plotly-graph-div\" style=\"height:525px; width:100%;\"></div>            <script type=\"text/javascript\">                require([\"plotly\"], function(Plotly) {                    window.PLOTLYENV=window.PLOTLYENV || {};                                    if (document.getElementById(\"0f8a5f99-c626-4939-9f73-86b78baf355c\")) {                    Plotly.newPlot(                        \"0f8a5f99-c626-4939-9f73-86b78baf355c\",                        [{\"alignmentgroup\":\"True\",\"hovertemplate\":\"type=%{x}<br>count=%{marker.color}<extra></extra>\",\"legendgroup\":\"\",\"marker\":{\"color\":[3327,888],\"coloraxis\":\"coloraxis\",\"pattern\":{\"shape\":\"\"}},\"name\":\"\",\"offsetgroup\":\"\",\"orientation\":\"v\",\"showlegend\":false,\"text\":[3327.0,888.0],\"textposition\":\"outside\",\"x\":[\"enhancement\",\"task\"],\"xaxis\":\"x\",\"y\":[3327,888],\"yaxis\":\"y\",\"type\":\"bar\",\"textfont\":{\"size\":10},\"texttemplate\":\"%{text:.2f}\"}],                        {\"template\":{\"data\":{\"histogram2dcontour\":[{\"type\":\"histogram2dcontour\",\"colorbar\":{\"outlinewidth\":0,\"ticks\":\"\"},\"colorscale\":[[0.0,\"#0d0887\"],[0.1111111111111111,\"#46039f\"],[0.2222222222222222,\"#7201a8\"],[0.3333333333333333,\"#9c179e\"],[0.4444444444444444,\"#bd3786\"],[0.5555555555555556,\"#d8576b\"],[0.6666666666666666,\"#ed7953\"],[0.7777777777777778,\"#fb9f3a\"],[0.8888888888888888,\"#fdca26\"],[1.0,\"#f0f921\"]]}],\"choropleth\":[{\"type\":\"choropleth\",\"colorbar\":{\"outlinewidth\":0,\"ticks\":\"\"}}],\"histogram2d\":[{\"type\":\"histogram2d\",\"colorbar\":{\"outlinewidth\":0,\"ticks\":\"\"},\"colorscale\":[[0.0,\"#0d0887\"],[0.1111111111111111,\"#46039f\"],[0.2222222222222222,\"#7201a8\"],[0.3333333333333333,\"#9c179e\"],[0.4444444444444444,\"#bd3786\"],[0.5555555555555556,\"#d8576b\"],[0.6666666666666666,\"#ed7953\"],[0.7777777777777778,\"#fb9f3a\"],[0.8888888888888888,\"#fdca26\"],[1.0,\"#f0f921\"]]}],\"heatmap\":[{\"type\":\"heatmap\",\"colorbar\":{\"outlinewidth\":0,\"ticks\":\"\"},\"colorscale\":[[0.0,\"#0d0887\"],[0.1111111111111111,\"#46039f\"],[0.2222222222222222,\"#7201a8\"],[0.3333333333333333,\"#9c179e\"],[0.4444444444444444,\"#bd3786\"],[0.5555555555555556,\"#d8576b\"],[0.6666666666666666,\"#ed7953\"],[0.7777777777777778,\"#fb9f3a\"],[0.8888888888888888,\"#fdca26\"],[1.0,\"#f0f921\"]]}],\"heatmapgl\":[{\"type\":\"heatmapgl\",\"colorbar\":{\"outlinewidth\":0,\"ticks\":\"\"},\"colorscale\":[[0.0,\"#0d0887\"],[0.1111111111111111,\"#46039f\"],[0.2222222222222222,\"#7201a8\"],[0.3333333333333333,\"#9c179e\"],[0.4444444444444444,\"#bd3786\"],[0.5555555555555556,\"#d8576b\"],[0.6666666666666666,\"#ed7953\"],[0.7777777777777778,\"#fb9f3a\"],[0.8888888888888888,\"#fdca26\"],[1.0,\"#f0f921\"]]}],\"contourcarpet\":[{\"type\":\"contourcarpet\",\"colorbar\":{\"outlinewidth\":0,\"ticks\":\"\"}}],\"contour\":[{\"type\":\"contour\",\"colorbar\":{\"outlinewidth\":0,\"ticks\":\"\"},\"colorscale\":[[0.0,\"#0d0887\"],[0.1111111111111111,\"#46039f\"],[0.2222222222222222,\"#7201a8\"],[0.3333333333333333,\"#9c179e\"],[0.4444444444444444,\"#bd3786\"],[0.5555555555555556,\"#d8576b\"],[0.6666666666666666,\"#ed7953\"],[0.7777777777777778,\"#fb9f3a\"],[0.8888888888888888,\"#fdca26\"],[1.0,\"#f0f921\"]]}],\"surface\":[{\"type\":\"surface\",\"colorbar\":{\"outlinewidth\":0,\"ticks\":\"\"},\"colorscale\":[[0.0,\"#0d0887\"],[0.1111111111111111,\"#46039f\"],[0.2222222222222222,\"#7201a8\"],[0.3333333333333333,\"#9c179e\"],[0.4444444444444444,\"#bd3786\"],[0.5555555555555556,\"#d8576b\"],[0.6666666666666666,\"#ed7953\"],[0.7777777777777778,\"#fb9f3a\"],[0.8888888888888888,\"#fdca26\"],[1.0,\"#f0f921\"]]}],\"mesh3d\":[{\"type\":\"mesh3d\",\"colorbar\":{\"outlinewidth\":0,\"ticks\":\"\"}}],\"scatter\":[{\"fillpattern\":{\"fillmode\":\"overlay\",\"size\":10,\"solidity\":0.2},\"type\":\"scatter\"}],\"parcoords\":[{\"type\":\"parcoords\",\"line\":{\"colorbar\":{\"outlinewidth\":0,\"ticks\":\"\"}}}],\"scatterpolargl\":[{\"type\":\"scatterpolargl\",\"marker\":{\"colorbar\":{\"outlinewidth\":0,\"ticks\":\"\"}}}],\"bar\":[{\"error_x\":{\"color\":\"#2a3f5f\"},\"error_y\":{\"color\":\"#2a3f5f\"},\"marker\":{\"line\":{\"color\":\"#E5ECF6\",\"width\":0.5},\"pattern\":{\"fillmode\":\"overlay\",\"size\":10,\"solidity\":0.2}},\"type\":\"bar\"}],\"scattergeo\":[{\"type\":\"scattergeo\",\"marker\":{\"colorbar\":{\"outlinewidth\":0,\"ticks\":\"\"}}}],\"scatterpolar\":[{\"type\":\"scatterpolar\",\"marker\":{\"colorbar\":{\"outlinewidth\":0,\"ticks\":\"\"}}}],\"histogram\":[{\"marker\":{\"pattern\":{\"fillmode\":\"overlay\",\"size\":10,\"solidity\":0.2}},\"type\":\"histogram\"}],\"scattergl\":[{\"type\":\"scattergl\",\"marker\":{\"colorbar\":{\"outlinewidth\":0,\"ticks\":\"\"}}}],\"scatter3d\":[{\"type\":\"scatter3d\",\"line\":{\"colorbar\":{\"outlinewidth\":0,\"ticks\":\"\"}},\"marker\":{\"colorbar\":{\"outlinewidth\":0,\"ticks\":\"\"}}}],\"scattermapbox\":[{\"type\":\"scattermapbox\",\"marker\":{\"colorbar\":{\"outlinewidth\":0,\"ticks\":\"\"}}}],\"scatterternary\":[{\"type\":\"scatterternary\",\"marker\":{\"colorbar\":{\"outlinewidth\":0,\"ticks\":\"\"}}}],\"scattercarpet\":[{\"type\":\"scattercarpet\",\"marker\":{\"colorbar\":{\"outlinewidth\":0,\"ticks\":\"\"}}}],\"carpet\":[{\"aaxis\":{\"endlinecolor\":\"#2a3f5f\",\"gridcolor\":\"white\",\"linecolor\":\"white\",\"minorgridcolor\":\"white\",\"startlinecolor\":\"#2a3f5f\"},\"baxis\":{\"endlinecolor\":\"#2a3f5f\",\"gridcolor\":\"white\",\"linecolor\":\"white\",\"minorgridcolor\":\"white\",\"startlinecolor\":\"#2a3f5f\"},\"type\":\"carpet\"}],\"table\":[{\"cells\":{\"fill\":{\"color\":\"#EBF0F8\"},\"line\":{\"color\":\"white\"}},\"header\":{\"fill\":{\"color\":\"#C8D4E3\"},\"line\":{\"color\":\"white\"}},\"type\":\"table\"}],\"barpolar\":[{\"marker\":{\"line\":{\"color\":\"#E5ECF6\",\"width\":0.5},\"pattern\":{\"fillmode\":\"overlay\",\"size\":10,\"solidity\":0.2}},\"type\":\"barpolar\"}],\"pie\":[{\"automargin\":true,\"type\":\"pie\"}]},\"layout\":{\"autotypenumbers\":\"strict\",\"colorway\":[\"#636efa\",\"#EF553B\",\"#00cc96\",\"#ab63fa\",\"#FFA15A\",\"#19d3f3\",\"#FF6692\",\"#B6E880\",\"#FF97FF\",\"#FECB52\"],\"font\":{\"color\":\"#2a3f5f\"},\"hovermode\":\"closest\",\"hoverlabel\":{\"align\":\"left\"},\"paper_bgcolor\":\"white\",\"plot_bgcolor\":\"#E5ECF6\",\"polar\":{\"bgcolor\":\"#E5ECF6\",\"angularaxis\":{\"gridcolor\":\"white\",\"linecolor\":\"white\",\"ticks\":\"\"},\"radialaxis\":{\"gridcolor\":\"white\",\"linecolor\":\"white\",\"ticks\":\"\"}},\"ternary\":{\"bgcolor\":\"#E5ECF6\",\"aaxis\":{\"gridcolor\":\"white\",\"linecolor\":\"white\",\"ticks\":\"\"},\"baxis\":{\"gridcolor\":\"white\",\"linecolor\":\"white\",\"ticks\":\"\"},\"caxis\":{\"gridcolor\":\"white\",\"linecolor\":\"white\",\"ticks\":\"\"}},\"coloraxis\":{\"colorbar\":{\"outlinewidth\":0,\"ticks\":\"\"}},\"colorscale\":{\"sequential\":[[0.0,\"#0d0887\"],[0.1111111111111111,\"#46039f\"],[0.2222222222222222,\"#7201a8\"],[0.3333333333333333,\"#9c179e\"],[0.4444444444444444,\"#bd3786\"],[0.5555555555555556,\"#d8576b\"],[0.6666666666666666,\"#ed7953\"],[0.7777777777777778,\"#fb9f3a\"],[0.8888888888888888,\"#fdca26\"],[1.0,\"#f0f921\"]],\"sequentialminus\":[[0.0,\"#0d0887\"],[0.1111111111111111,\"#46039f\"],[0.2222222222222222,\"#7201a8\"],[0.3333333333333333,\"#9c179e\"],[0.4444444444444444,\"#bd3786\"],[0.5555555555555556,\"#d8576b\"],[0.6666666666666666,\"#ed7953\"],[0.7777777777777778,\"#fb9f3a\"],[0.8888888888888888,\"#fdca26\"],[1.0,\"#f0f921\"]],\"diverging\":[[0,\"#8e0152\"],[0.1,\"#c51b7d\"],[0.2,\"#de77ae\"],[0.3,\"#f1b6da\"],[0.4,\"#fde0ef\"],[0.5,\"#f7f7f7\"],[0.6,\"#e6f5d0\"],[0.7,\"#b8e186\"],[0.8,\"#7fbc41\"],[0.9,\"#4d9221\"],[1,\"#276419\"]]},\"xaxis\":{\"gridcolor\":\"white\",\"linecolor\":\"white\",\"ticks\":\"\",\"title\":{\"standoff\":15},\"zerolinecolor\":\"white\",\"automargin\":true,\"zerolinewidth\":2},\"yaxis\":{\"gridcolor\":\"white\",\"linecolor\":\"white\",\"ticks\":\"\",\"title\":{\"standoff\":15},\"zerolinecolor\":\"white\",\"automargin\":true,\"zerolinewidth\":2},\"scene\":{\"xaxis\":{\"backgroundcolor\":\"#E5ECF6\",\"gridcolor\":\"white\",\"linecolor\":\"white\",\"showbackground\":true,\"ticks\":\"\",\"zerolinecolor\":\"white\",\"gridwidth\":2},\"yaxis\":{\"backgroundcolor\":\"#E5ECF6\",\"gridcolor\":\"white\",\"linecolor\":\"white\",\"showbackground\":true,\"ticks\":\"\",\"zerolinecolor\":\"white\",\"gridwidth\":2},\"zaxis\":{\"backgroundcolor\":\"#E5ECF6\",\"gridcolor\":\"white\",\"linecolor\":\"white\",\"showbackground\":true,\"ticks\":\"\",\"zerolinecolor\":\"white\",\"gridwidth\":2}},\"shapedefaults\":{\"line\":{\"color\":\"#2a3f5f\"}},\"annotationdefaults\":{\"arrowcolor\":\"#2a3f5f\",\"arrowhead\":0,\"arrowwidth\":1},\"geo\":{\"bgcolor\":\"white\",\"landcolor\":\"#E5ECF6\",\"subunitcolor\":\"white\",\"showland\":true,\"showlakes\":true,\"lakecolor\":\"white\"},\"title\":{\"x\":0.05},\"mapbox\":{\"style\":\"light\"}}},\"xaxis\":{\"anchor\":\"y\",\"domain\":[0.0,1.0],\"title\":{\"text\":\"type\"}},\"yaxis\":{\"anchor\":\"x\",\"domain\":[0.0,1.0],\"title\":{\"text\":\"count\"}},\"coloraxis\":{\"colorbar\":{\"title\":{\"text\":\"count\"}},\"colorscale\":[[0.0,\"rgb(237, 217, 163)\"],[0.16666666666666666,\"rgb(246, 169, 122)\"],[0.3333333333333333,\"rgb(250, 120, 118)\"],[0.5,\"rgb(234, 79, 136)\"],[0.6666666666666666,\"rgb(192, 54, 157)\"],[0.8333333333333334,\"rgb(135, 44, 162)\"],[1.0,\"rgb(75, 41, 145)\"]]},\"legend\":{\"tracegroupgap\":0},\"margin\":{\"t\":60},\"barmode\":\"relative\",\"title\":{\"text\":\"Field type types count\"}},                        {\"responsive\": true}                    ).then(function(){\n",
       "                            \n",
       "var gd = document.getElementById('0f8a5f99-c626-4939-9f73-86b78baf355c');\n",
       "var x = new MutationObserver(function (mutations, observer) {{\n",
       "        var display = window.getComputedStyle(gd).display;\n",
       "        if (!display || display === 'none') {{\n",
       "            console.log([gd, 'removed!']);\n",
       "            Plotly.purge(gd);\n",
       "            observer.disconnect();\n",
       "        }}\n",
       "}});\n",
       "\n",
       "// Listen for the removal of the full notebook cells\n",
       "var notebookContainer = gd.closest('#notebook-container');\n",
       "if (notebookContainer) {{\n",
       "    x.observe(notebookContainer, {childList: true});\n",
       "}}\n",
       "\n",
       "// Listen for the clearing of the current output cell\n",
       "var outputEl = gd.closest('.output');\n",
       "if (outputEl) {{\n",
       "    x.observe(outputEl, {childList: true});\n",
       "}}\n",
       "\n",
       "                        })                };                });            </script>        </div>"
      ]
     },
     "metadata": {},
     "output_type": "display_data"
    }
   ],
   "source": [
    "# loop over the columns and visualize them\n",
    "for col in visualization_cols:\n",
    "    create_plot(df, col=col)"
   ]
  },
  {
   "cell_type": "code",
   "execution_count": null,
   "metadata": {},
   "outputs": [],
   "source": []
  },
  {
   "cell_type": "markdown",
   "metadata": {},
   "source": [
    "### Working with textual data\n",
    "\n",
    "* Tokenization\n",
    "* Taking a closer look at the summary data\n",
    "* Plotting the distribution of words with PlotlyExpress\n",
    "\n",
    "We'll start by looking at the summary column. As we discussed earlier, first, we'll tokenize the text for a more accurate cleaning, then, based on our task, we choose a couple of cleaning functions one after another.\n"
   ]
  },
  {
   "cell_type": "markdown",
   "metadata": {},
   "source": [
    "### Tokenization"
   ]
  },
  {
   "cell_type": "code",
   "execution_count": 37,
   "metadata": {},
   "outputs": [
    {
     "name": "stderr",
     "output_type": "stream",
     "text": [
      "c:\\Users\\mitra\\anaconda3\\lib\\site-packages\\pandas\\core\\indexing.py:1667: SettingWithCopyWarning:\n",
      "\n",
      "\n",
      "A value is trying to be set on a copy of a slice from a DataFrame.\n",
      "Try using .loc[row_indexer,col_indexer] = value instead\n",
      "\n",
      "See the caveats in the documentation: https://pandas.pydata.org/pandas-docs/stable/user_guide/indexing.html#returning-a-view-versus-a-copy\n",
      "\n"
     ]
    }
   ],
   "source": [
    "\n",
    "def tokenize_text(df, input_col='summary', output_col=\"summary_tokens_list\"):\n",
    "    \"\"\"\n",
    "    takes a dataset and name of a column\n",
    "    then tokenizes the text in the column of that dataset\n",
    "    \"\"\"\n",
    "    tokenized_series = df.loc[:, input_col].apply(lambda t: word_tokenize(t))\n",
    "    df.loc[:, output_col] = tokenized_series\n",
    "    return df\n",
    "    \n",
    "df = tokenize_text(df)"
   ]
  },
  {
   "cell_type": "code",
   "execution_count": 38,
   "metadata": {},
   "outputs": [
    {
     "data": {
      "text/html": [
       "<div>\n",
       "<style scoped>\n",
       "    .dataframe tbody tr th:only-of-type {\n",
       "        vertical-align: middle;\n",
       "    }\n",
       "\n",
       "    .dataframe tbody tr th {\n",
       "        vertical-align: top;\n",
       "    }\n",
       "\n",
       "    .dataframe thead th {\n",
       "        text-align: right;\n",
       "    }\n",
       "</style>\n",
       "<table border=\"1\" class=\"dataframe\">\n",
       "  <thead>\n",
       "    <tr style=\"text-align: right;\">\n",
       "      <th></th>\n",
       "      <th>classification</th>\n",
       "      <th>component</th>\n",
       "      <th>platform</th>\n",
       "      <th>assigned_to</th>\n",
       "      <th>summary</th>\n",
       "      <th>id</th>\n",
       "      <th>status</th>\n",
       "      <th>is_confirmed</th>\n",
       "      <th>votes</th>\n",
       "      <th>severity</th>\n",
       "      <th>keywords</th>\n",
       "      <th>priority</th>\n",
       "      <th>creator</th>\n",
       "      <th>type</th>\n",
       "      <th>summary_tokens_list</th>\n",
       "    </tr>\n",
       "  </thead>\n",
       "  <tbody>\n",
       "    <tr>\n",
       "      <th>0</th>\n",
       "      <td>Components</td>\n",
       "      <td>Networking: HTTP</td>\n",
       "      <td>All</td>\n",
       "      <td>nobody@mozilla.org</td>\n",
       "      <td>Proxy: map HTTP 500 errors to necko errors (so...</td>\n",
       "      <td>2875</td>\n",
       "      <td>NEW</td>\n",
       "      <td>True</td>\n",
       "      <td>13</td>\n",
       "      <td>normal</td>\n",
       "      <td>[]</td>\n",
       "      <td>P3</td>\n",
       "      <td>erik@vanderpoel.org</td>\n",
       "      <td>enhancement</td>\n",
       "      <td>[Proxy, :, map, HTTP, 500, errors, to, necko, ...</td>\n",
       "    </tr>\n",
       "    <tr>\n",
       "      <th>1</th>\n",
       "      <td>Components</td>\n",
       "      <td>LDAP Integration</td>\n",
       "      <td>All</td>\n",
       "      <td>nobody@mozilla.org</td>\n",
       "      <td>[LDAP] Access to a local LDAP server in Off-Li...</td>\n",
       "      <td>2892</td>\n",
       "      <td>NEW</td>\n",
       "      <td>True</td>\n",
       "      <td>4</td>\n",
       "      <td>normal</td>\n",
       "      <td>['helpwanted']</td>\n",
       "      <td>--</td>\n",
       "      <td>lchiang@formerly-netscape.com.tld</td>\n",
       "      <td>enhancement</td>\n",
       "      <td>[[, LDAP, ], Access, to, a, local, LDAP, serve...</td>\n",
       "    </tr>\n",
       "  </tbody>\n",
       "</table>\n",
       "</div>"
      ],
      "text/plain": [
       "  classification         component platform         assigned_to  \\\n",
       "0     Components  Networking: HTTP      All  nobody@mozilla.org   \n",
       "1     Components  LDAP Integration      All  nobody@mozilla.org   \n",
       "\n",
       "                                             summary    id status  \\\n",
       "0  Proxy: map HTTP 500 errors to necko errors (so...  2875    NEW   \n",
       "1  [LDAP] Access to a local LDAP server in Off-Li...  2892    NEW   \n",
       "\n",
       "   is_confirmed  votes severity        keywords priority  \\\n",
       "0          True     13   normal              []       P3   \n",
       "1          True      4   normal  ['helpwanted']       --   \n",
       "\n",
       "                             creator         type  \\\n",
       "0                erik@vanderpoel.org  enhancement   \n",
       "1  lchiang@formerly-netscape.com.tld  enhancement   \n",
       "\n",
       "                                 summary_tokens_list  \n",
       "0  [Proxy, :, map, HTTP, 500, errors, to, necko, ...  \n",
       "1  [[, LDAP, ], Access, to, a, local, LDAP, serve...  "
      ]
     },
     "execution_count": 38,
     "metadata": {},
     "output_type": "execute_result"
    }
   ],
   "source": [
    "df.head(2)"
   ]
  },
  {
   "cell_type": "markdown",
   "metadata": {},
   "source": [
    "Let's see how long each document tokens list is."
   ]
  },
  {
   "cell_type": "code",
   "execution_count": 39,
   "metadata": {},
   "outputs": [
    {
     "name": "stderr",
     "output_type": "stream",
     "text": [
      "c:\\Users\\mitra\\anaconda3\\lib\\site-packages\\pandas\\core\\indexing.py:1667: SettingWithCopyWarning:\n",
      "\n",
      "\n",
      "A value is trying to be set on a copy of a slice from a DataFrame.\n",
      "Try using .loc[row_indexer,col_indexer] = value instead\n",
      "\n",
      "See the caveats in the documentation: https://pandas.pydata.org/pandas-docs/stable/user_guide/indexing.html#returning-a-view-versus-a-copy\n",
      "\n"
     ]
    },
    {
     "data": {
      "text/html": [
       "<div>\n",
       "<style scoped>\n",
       "    .dataframe tbody tr th:only-of-type {\n",
       "        vertical-align: middle;\n",
       "    }\n",
       "\n",
       "    .dataframe tbody tr th {\n",
       "        vertical-align: top;\n",
       "    }\n",
       "\n",
       "    .dataframe thead th {\n",
       "        text-align: right;\n",
       "    }\n",
       "</style>\n",
       "<table border=\"1\" class=\"dataframe\">\n",
       "  <thead>\n",
       "    <tr style=\"text-align: right;\">\n",
       "      <th></th>\n",
       "      <th>classification</th>\n",
       "      <th>component</th>\n",
       "      <th>platform</th>\n",
       "      <th>assigned_to</th>\n",
       "      <th>summary</th>\n",
       "      <th>id</th>\n",
       "      <th>status</th>\n",
       "      <th>is_confirmed</th>\n",
       "      <th>votes</th>\n",
       "      <th>severity</th>\n",
       "      <th>keywords</th>\n",
       "      <th>priority</th>\n",
       "      <th>creator</th>\n",
       "      <th>type</th>\n",
       "      <th>summary_tokens_list</th>\n",
       "      <th>tokens_list_length</th>\n",
       "    </tr>\n",
       "  </thead>\n",
       "  <tbody>\n",
       "    <tr>\n",
       "      <th>0</th>\n",
       "      <td>Components</td>\n",
       "      <td>Networking: HTTP</td>\n",
       "      <td>All</td>\n",
       "      <td>nobody@mozilla.org</td>\n",
       "      <td>Proxy: map HTTP 500 errors to necko errors (so...</td>\n",
       "      <td>2875</td>\n",
       "      <td>NEW</td>\n",
       "      <td>True</td>\n",
       "      <td>13</td>\n",
       "      <td>normal</td>\n",
       "      <td>[]</td>\n",
       "      <td>P3</td>\n",
       "      <td>erik@vanderpoel.org</td>\n",
       "      <td>enhancement</td>\n",
       "      <td>[Proxy, :, map, HTTP, 500, errors, to, necko, ...</td>\n",
       "      <td>19</td>\n",
       "    </tr>\n",
       "    <tr>\n",
       "      <th>1</th>\n",
       "      <td>Components</td>\n",
       "      <td>LDAP Integration</td>\n",
       "      <td>All</td>\n",
       "      <td>nobody@mozilla.org</td>\n",
       "      <td>[LDAP] Access to a local LDAP server in Off-Li...</td>\n",
       "      <td>2892</td>\n",
       "      <td>NEW</td>\n",
       "      <td>True</td>\n",
       "      <td>4</td>\n",
       "      <td>normal</td>\n",
       "      <td>['helpwanted']</td>\n",
       "      <td>--</td>\n",
       "      <td>lchiang@formerly-netscape.com.tld</td>\n",
       "      <td>enhancement</td>\n",
       "      <td>[[, LDAP, ], Access, to, a, local, LDAP, serve...</td>\n",
       "      <td>12</td>\n",
       "    </tr>\n",
       "  </tbody>\n",
       "</table>\n",
       "</div>"
      ],
      "text/plain": [
       "  classification         component platform         assigned_to  \\\n",
       "0     Components  Networking: HTTP      All  nobody@mozilla.org   \n",
       "1     Components  LDAP Integration      All  nobody@mozilla.org   \n",
       "\n",
       "                                             summary    id status  \\\n",
       "0  Proxy: map HTTP 500 errors to necko errors (so...  2875    NEW   \n",
       "1  [LDAP] Access to a local LDAP server in Off-Li...  2892    NEW   \n",
       "\n",
       "   is_confirmed  votes severity        keywords priority  \\\n",
       "0          True     13   normal              []       P3   \n",
       "1          True      4   normal  ['helpwanted']       --   \n",
       "\n",
       "                             creator         type  \\\n",
       "0                erik@vanderpoel.org  enhancement   \n",
       "1  lchiang@formerly-netscape.com.tld  enhancement   \n",
       "\n",
       "                                 summary_tokens_list  tokens_list_length  \n",
       "0  [Proxy, :, map, HTTP, 500, errors, to, necko, ...                  19  \n",
       "1  [[, LDAP, ], Access, to, a, local, LDAP, serve...                  12  "
      ]
     },
     "execution_count": 39,
     "metadata": {},
     "output_type": "execute_result"
    }
   ],
   "source": [
    "def add_token_length_to_df(df, col='summary_tokens_list'):\n",
    "\n",
    "    length_of_tokens = df.loc[:, col].apply(lambda x: len(x))\n",
    "    df.loc[:, 'tokens_list_length'] = length_of_tokens\n",
    "    return df\n",
    "df = add_token_length_to_df(df)\n",
    "df.head(2)"
   ]
  },
  {
   "cell_type": "code",
   "execution_count": 40,
   "metadata": {},
   "outputs": [
    {
     "data": {
      "application/vnd.plotly.v1+json": {
       "config": {
        "plotlyServerURL": "https://plot.ly"
       },
       "data": [
        {
         "alignmentgroup": "True",
         "bingroup": "x",
         "hovertemplate": "type=enhancement<br>count of tokens list=%{x}<br>count=%{y}<extra></extra>",
         "legendgroup": "enhancement",
         "marker": {
          "color": "#636efa",
          "opacity": 0.8,
          "pattern": {
           "shape": ""
          }
         },
         "name": "enhancement",
         "offsetgroup": "enhancement",
         "orientation": "v",
         "showlegend": true,
         "type": "histogram",
         "x": [
          19,
          12,
          8,
          12,
          7,
          25,
          8,
          19,
          11,
          15,
          8,
          18,
          9,
          11,
          9,
          13,
          20,
          16,
          10,
          12,
          10,
          8,
          10,
          10,
          7,
          5,
          11,
          19,
          10,
          5,
          11,
          11,
          7,
          6,
          2,
          17,
          9,
          25,
          16,
          16,
          7,
          6,
          8,
          7,
          11,
          3,
          4,
          5,
          5,
          5,
          7,
          11,
          9,
          6,
          11,
          11,
          7,
          2,
          22,
          9,
          6,
          8,
          6,
          5,
          8,
          11,
          6,
          11,
          8,
          8,
          6,
          5,
          13,
          6,
          12,
          10,
          5,
          11,
          16,
          12,
          4,
          10,
          15,
          6,
          6,
          19,
          9,
          32,
          10,
          7,
          19,
          8,
          22,
          10,
          38,
          12,
          12,
          5,
          8,
          7,
          9,
          17,
          13,
          7,
          7,
          6,
          10,
          18,
          7,
          9,
          12,
          20,
          2,
          12,
          8,
          10,
          11,
          5,
          6,
          8,
          4,
          11,
          12,
          7,
          10,
          8,
          8,
          10,
          13,
          9,
          10,
          8,
          4,
          10,
          7,
          12,
          7,
          14,
          18,
          6,
          6,
          9,
          11,
          3,
          3,
          16,
          13,
          13,
          10,
          10,
          9,
          8,
          7,
          16,
          8,
          7,
          10,
          10,
          3,
          6,
          13,
          11,
          11,
          6,
          13,
          12,
          8,
          11,
          11,
          10,
          18,
          13,
          18,
          4,
          14,
          6,
          8,
          10,
          11,
          10,
          13,
          5,
          12,
          9,
          13,
          2,
          14,
          28,
          17,
          4,
          6,
          7,
          20,
          12,
          15,
          9,
          8,
          8,
          12,
          14,
          10,
          5,
          10,
          6,
          9,
          8,
          5,
          13,
          15,
          3,
          6,
          10,
          8,
          13,
          9,
          25,
          10,
          15,
          7,
          6,
          5,
          13,
          13,
          7,
          12,
          9,
          9,
          3,
          14,
          9,
          3,
          16,
          9,
          12,
          12,
          18,
          12,
          7,
          18,
          9,
          8,
          21,
          4,
          18,
          6,
          15,
          10,
          22,
          7,
          19,
          5,
          5,
          16,
          7,
          8,
          15,
          12,
          17,
          9,
          11,
          12,
          27,
          10,
          7,
          25,
          17,
          7,
          13,
          10,
          5,
          9,
          9,
          5,
          11,
          18,
          4,
          20,
          7,
          4,
          17,
          6,
          6,
          12,
          12,
          10,
          12,
          11,
          8,
          12,
          12,
          11,
          9,
          4,
          21,
          16,
          13,
          9,
          9,
          11,
          10,
          10,
          10,
          10,
          10,
          10,
          9,
          6,
          10,
          8,
          8,
          10,
          13,
          15,
          5,
          7,
          27,
          27,
          12,
          2,
          21,
          5,
          29,
          17,
          15,
          14,
          13,
          7,
          14,
          25,
          13,
          17,
          8,
          7,
          15,
          8,
          15,
          6,
          3,
          10,
          9,
          31,
          16,
          13,
          3,
          7,
          24,
          5,
          13,
          23,
          11,
          17,
          8,
          12,
          11,
          13,
          15,
          22,
          18,
          8,
          9,
          10,
          6,
          16,
          10,
          7,
          7,
          4,
          15,
          10,
          12,
          16,
          9,
          6,
          9,
          11,
          9,
          20,
          8,
          13,
          2,
          15,
          12,
          16,
          4,
          10,
          17,
          8,
          9,
          12,
          10,
          18,
          17,
          11,
          11,
          8,
          7,
          3,
          4,
          17,
          4,
          6,
          11,
          7,
          13,
          14,
          6,
          8,
          15,
          20,
          16,
          9,
          8,
          23,
          12,
          7,
          6,
          14,
          23,
          30,
          8,
          12,
          14,
          3,
          7,
          9,
          8,
          12,
          9,
          15,
          21,
          13,
          13,
          14,
          9,
          22,
          7,
          12,
          8,
          13,
          12,
          9,
          6,
          6,
          4,
          20,
          8,
          26,
          6,
          3,
          5,
          9,
          9,
          7,
          12,
          8,
          10,
          13,
          11,
          7,
          11,
          7,
          18,
          5,
          9,
          6,
          4,
          8,
          5,
          7,
          4,
          9,
          18,
          11,
          21,
          6,
          5,
          15,
          16,
          10,
          7,
          16,
          6,
          17,
          9,
          7,
          9,
          24,
          17,
          8,
          11,
          7,
          6,
          7,
          23,
          27,
          10,
          4,
          6,
          10,
          6,
          7,
          11,
          11,
          14,
          9,
          7,
          9,
          10,
          30,
          13,
          6,
          4,
          22,
          13,
          10,
          11,
          15,
          13,
          5,
          9,
          25,
          25,
          7,
          5,
          23,
          9,
          15,
          8,
          6,
          6,
          15,
          11,
          8,
          9,
          23,
          9,
          11,
          10,
          13,
          8,
          4,
          4,
          11,
          10,
          6,
          9,
          9,
          7,
          8,
          9,
          11,
          23,
          12,
          6,
          18,
          14,
          7,
          6,
          6,
          13,
          22,
          4,
          9,
          6,
          12,
          2,
          9,
          7,
          14,
          2,
          11,
          16,
          12,
          8,
          5,
          12,
          13,
          18,
          17,
          10,
          10,
          12,
          8,
          11,
          10,
          9,
          5,
          8,
          12,
          12,
          12,
          8,
          11,
          17,
          19,
          7,
          26,
          14,
          11,
          19,
          9,
          11,
          25,
          23,
          8,
          5,
          24,
          14,
          10,
          7,
          7,
          5,
          8,
          10,
          26,
          5,
          11,
          4,
          9,
          13,
          11,
          9,
          12,
          7,
          27,
          11,
          8,
          6,
          8,
          4,
          5,
          21,
          18,
          19,
          5,
          20,
          8,
          11,
          11,
          5,
          27,
          5,
          4,
          7,
          12,
          30,
          4,
          5,
          5,
          3,
          5,
          7,
          9,
          10,
          3,
          19,
          9,
          10,
          7,
          16,
          4,
          11,
          6,
          8,
          8,
          6,
          10,
          3,
          6,
          8,
          4,
          8,
          8,
          14,
          5,
          6,
          9,
          4,
          4,
          20,
          10,
          11,
          8,
          22,
          9,
          14,
          5,
          14,
          11,
          12,
          6,
          4,
          7,
          14,
          8,
          7,
          11,
          12,
          11,
          6,
          8,
          6,
          9,
          7,
          6,
          16,
          11,
          11,
          7,
          10,
          10,
          4,
          5,
          7,
          19,
          6,
          9,
          4,
          34,
          6,
          16,
          3,
          3,
          8,
          3,
          3,
          16,
          15,
          9,
          13,
          7,
          4,
          3,
          5,
          8,
          10,
          8,
          5,
          4,
          6,
          13,
          6,
          3,
          8,
          4,
          12,
          13,
          15,
          6,
          11,
          15,
          5,
          9,
          9,
          7,
          9,
          11,
          7,
          6,
          10,
          9,
          10,
          6,
          7,
          16,
          7,
          7,
          3,
          6,
          9,
          8,
          14,
          19,
          8,
          15,
          13,
          12,
          9,
          10,
          7,
          6,
          13,
          10,
          5,
          11,
          8,
          11,
          7,
          6,
          12,
          6,
          7,
          9,
          8,
          8,
          8,
          5,
          16,
          6,
          8,
          8,
          17,
          15,
          7,
          7,
          6,
          30,
          5,
          12,
          31,
          9,
          7,
          20,
          3,
          6,
          5,
          5,
          11,
          14,
          12,
          6,
          6,
          10,
          7,
          25,
          9,
          7,
          7,
          5,
          11,
          8,
          6,
          7,
          7,
          4,
          5,
          5,
          9,
          9,
          11,
          11,
          16,
          15,
          6,
          16,
          5,
          2,
          22,
          6,
          5,
          4,
          15,
          9,
          9,
          6,
          25,
          9,
          24,
          7,
          14,
          12,
          5,
          4,
          7,
          9,
          7,
          7,
          9,
          8,
          5,
          7,
          9,
          39,
          12,
          10,
          12,
          7,
          17,
          16,
          11,
          15,
          10,
          3,
          13,
          9,
          10,
          23,
          29,
          12,
          9,
          9,
          15,
          15,
          7,
          20,
          9,
          10,
          6,
          7,
          7,
          9,
          10,
          23,
          14,
          9,
          5,
          16,
          3,
          2,
          6,
          15,
          7,
          13,
          5,
          10,
          10,
          7,
          11,
          6,
          7,
          11,
          10,
          6,
          5,
          5,
          7,
          12,
          12,
          8,
          7,
          11,
          6,
          11,
          5,
          8,
          6,
          8,
          9,
          11,
          14,
          14,
          6,
          10,
          6,
          18,
          11,
          11,
          4,
          5,
          6,
          6,
          8,
          17,
          7,
          4,
          13,
          11,
          6,
          5,
          10,
          14,
          9,
          5,
          8,
          11,
          9,
          5,
          9,
          12,
          8,
          8,
          6,
          5,
          11,
          11,
          7,
          7,
          6,
          12,
          11,
          11,
          7,
          8,
          8,
          10,
          14,
          14,
          11,
          4,
          15,
          10,
          10,
          9,
          10,
          9,
          7,
          4,
          12,
          7,
          8,
          4,
          7,
          20,
          8,
          19,
          17,
          6,
          10,
          8,
          9,
          12,
          9,
          8,
          7,
          15,
          6,
          19,
          6,
          5,
          17,
          12,
          7,
          5,
          8,
          13,
          12,
          11,
          7,
          5,
          19,
          9,
          8,
          11,
          6,
          8,
          4,
          7,
          16,
          7,
          5,
          5,
          7,
          9,
          9,
          6,
          12,
          9,
          5,
          3,
          12,
          13,
          8,
          16,
          10,
          5,
          6,
          8,
          12,
          9,
          7,
          8,
          6,
          16,
          10,
          6,
          2,
          15,
          4,
          9,
          10,
          5,
          5,
          7,
          8,
          4,
          7,
          14,
          6,
          12,
          22,
          7,
          9,
          2,
          2,
          2,
          6,
          6,
          4,
          12,
          3,
          8,
          16,
          6,
          7,
          12,
          11,
          8,
          10,
          9,
          10,
          9,
          8,
          9,
          8,
          6,
          6,
          13,
          8,
          8,
          20,
          5,
          7,
          11,
          7,
          13,
          5,
          13,
          14,
          19,
          12,
          8,
          5,
          12,
          6,
          7,
          8,
          6,
          9,
          16,
          12,
          14,
          12,
          4,
          18,
          8,
          7,
          9,
          14,
          13,
          7,
          8,
          25,
          6,
          9,
          18,
          9,
          6,
          4,
          11,
          10,
          14,
          9,
          10,
          9,
          10,
          9,
          6,
          12,
          9,
          15,
          9,
          8,
          7,
          15,
          8,
          8,
          17,
          7,
          4,
          10,
          12,
          11,
          11,
          19,
          15,
          5,
          8,
          8,
          8,
          14,
          9,
          10,
          10,
          6,
          16,
          10,
          15,
          11,
          10,
          9,
          6,
          17,
          14,
          9,
          7,
          17,
          10,
          16,
          9,
          13,
          12,
          6,
          9,
          9,
          10,
          15,
          6,
          18,
          8,
          11,
          11,
          8,
          9,
          5,
          5,
          5,
          6,
          9,
          20,
          12,
          6,
          9,
          12,
          5,
          10,
          9,
          4,
          12,
          5,
          4,
          5,
          19,
          12,
          9,
          9,
          7,
          7,
          10,
          5,
          8,
          6,
          6,
          13,
          7,
          13,
          2,
          7,
          7,
          8,
          12,
          7,
          5,
          9,
          4,
          6,
          3,
          6,
          15,
          9,
          8,
          9,
          12,
          4,
          14,
          11,
          10,
          14,
          10,
          17,
          21,
          13,
          10,
          11,
          4,
          10,
          5,
          7,
          21,
          13,
          13,
          7,
          11,
          8,
          7,
          17,
          6,
          9,
          5,
          9,
          8,
          11,
          7,
          4,
          12,
          6,
          12,
          8,
          9,
          14,
          10,
          10,
          4,
          8,
          8,
          16,
          11,
          5,
          10,
          11,
          4,
          8,
          6,
          5,
          5,
          14,
          8,
          7,
          19,
          17,
          15,
          6,
          11,
          7,
          15,
          8,
          8,
          10,
          10,
          4,
          6,
          4,
          9,
          7,
          15,
          12,
          10,
          13,
          19,
          13,
          4,
          7,
          13,
          6,
          11,
          15,
          6,
          5,
          7,
          19,
          16,
          9,
          12,
          7,
          8,
          10,
          9,
          7,
          11,
          8,
          6,
          3,
          9,
          5,
          9,
          17,
          8,
          7,
          8,
          14,
          7,
          13,
          5,
          6,
          19,
          7,
          8,
          7,
          12,
          8,
          13,
          9,
          10,
          2,
          6,
          11,
          10,
          14,
          11,
          3,
          10,
          24,
          5,
          7,
          7,
          9,
          8,
          7,
          7,
          11,
          13,
          10,
          11,
          11,
          11,
          11,
          10,
          9,
          7,
          11,
          11,
          7,
          4,
          13,
          11,
          7,
          9,
          11,
          9,
          9,
          6,
          4,
          10,
          7,
          9,
          21,
          5,
          9,
          15,
          15,
          9,
          12,
          7,
          5,
          19,
          7,
          7,
          6,
          7,
          7,
          7,
          5,
          6,
          5,
          8,
          8,
          11,
          5,
          11,
          16,
          8,
          21,
          10,
          10,
          7,
          3,
          6,
          18,
          10,
          3,
          6,
          18,
          9,
          19,
          18,
          13,
          17,
          11,
          15,
          14,
          10,
          7,
          9,
          10,
          10,
          8,
          15,
          10,
          9,
          7,
          5,
          17,
          7,
          11,
          2,
          13,
          10,
          8,
          8,
          9,
          21,
          8,
          10,
          7,
          12,
          8,
          6,
          8,
          15,
          10,
          7,
          4,
          8,
          7,
          14,
          13,
          10,
          5,
          10,
          7,
          16,
          10,
          9,
          10,
          16,
          4,
          10,
          16,
          7,
          5,
          3,
          12,
          13,
          5,
          9,
          7,
          6,
          10,
          5,
          14,
          10,
          14,
          11,
          4,
          7,
          8,
          8,
          10,
          12,
          7,
          7,
          10,
          10,
          7,
          6,
          8,
          7,
          7,
          9,
          8,
          8,
          11,
          9,
          10,
          6,
          5,
          11,
          12,
          10,
          6,
          12,
          19,
          8,
          5,
          6,
          12,
          7,
          10,
          8,
          10,
          16,
          12,
          8,
          5,
          8,
          9,
          12,
          10,
          3,
          7,
          9,
          10,
          8,
          5,
          4,
          16,
          14,
          11,
          10,
          8,
          6,
          12,
          7,
          8,
          9,
          8,
          13,
          6,
          8,
          9,
          8,
          10,
          7,
          13,
          17,
          10,
          11,
          10,
          12,
          9,
          23,
          7,
          7,
          10,
          9,
          6,
          8,
          5,
          9,
          10,
          4,
          11,
          7,
          11,
          5,
          7,
          5,
          8,
          8,
          9,
          8,
          5,
          14,
          10,
          9,
          7,
          7,
          5,
          8,
          15,
          15,
          11,
          9,
          5,
          11,
          13,
          12,
          8,
          6,
          6,
          7,
          6,
          11,
          6,
          13,
          13,
          9,
          4,
          4,
          4,
          4,
          4,
          4,
          11,
          8,
          6,
          7,
          11,
          7,
          7,
          7,
          6,
          14,
          8,
          5,
          10,
          14,
          10,
          8,
          8,
          13,
          5,
          9,
          5,
          11,
          9,
          12,
          5,
          14,
          12,
          13,
          8,
          13,
          10,
          10,
          13,
          9,
          2,
          6,
          12,
          9,
          9,
          8,
          4,
          7,
          2,
          11,
          5,
          9,
          5,
          4,
          25,
          11,
          5,
          11,
          7,
          16,
          10,
          13,
          8,
          6,
          9,
          4,
          10,
          13,
          10,
          9,
          8,
          10,
          13,
          13,
          10,
          12,
          4,
          10,
          15,
          8,
          7,
          12,
          10,
          7,
          18,
          9,
          6,
          6,
          10,
          7,
          6,
          16,
          8,
          10,
          12,
          13,
          8,
          8,
          6,
          4,
          8,
          7,
          9,
          8,
          10,
          10,
          12,
          10,
          8,
          9,
          9,
          8,
          14,
          10,
          13,
          8,
          8,
          16,
          10,
          16,
          7,
          7,
          8,
          4,
          6,
          9,
          5,
          11,
          3,
          12,
          8,
          8,
          24,
          7,
          12,
          12,
          5,
          19,
          6,
          10,
          11,
          12,
          13,
          12,
          11,
          10,
          4,
          17,
          10,
          9,
          10,
          16,
          6,
          6,
          9,
          9,
          9,
          17,
          8,
          12,
          10,
          6,
          9,
          6,
          7,
          5,
          10,
          16,
          7,
          4,
          4,
          8,
          16,
          12,
          8,
          11,
          7,
          7,
          16,
          8,
          11,
          17,
          10,
          31,
          14,
          15,
          4,
          15,
          7,
          8,
          8,
          8,
          8,
          8,
          16,
          11,
          9,
          9,
          10,
          10,
          8,
          7,
          6,
          9,
          13,
          6,
          9,
          6,
          7,
          8,
          6,
          7,
          5,
          13,
          2,
          4,
          10,
          5,
          8,
          11,
          10,
          6,
          6,
          7,
          11,
          11,
          9,
          10,
          4,
          6,
          7,
          5,
          5,
          5,
          4,
          5,
          13,
          10,
          10,
          6,
          9,
          9,
          6,
          7,
          5,
          10,
          6,
          2,
          3,
          24,
          14,
          11,
          8,
          8,
          6,
          22,
          11,
          9,
          13,
          4,
          15,
          10,
          9,
          6,
          9,
          9,
          6,
          6,
          6,
          11,
          6,
          12,
          9,
          7,
          7,
          15,
          5,
          8,
          7,
          7,
          4,
          10,
          10,
          7,
          9,
          6,
          9,
          10,
          15,
          5,
          5,
          8,
          5,
          12,
          6,
          9,
          7,
          7,
          7,
          9,
          12,
          6,
          4,
          9,
          8,
          21,
          12,
          18,
          13,
          15,
          7,
          5,
          7,
          5,
          4,
          9,
          5,
          5,
          5,
          5,
          5,
          9,
          4,
          17,
          7,
          6,
          12,
          6,
          9,
          8,
          10,
          15,
          6,
          6,
          12,
          12,
          6,
          8,
          10,
          5,
          10,
          7,
          7,
          4,
          11,
          4,
          4,
          11,
          6,
          7,
          8,
          9,
          5,
          9,
          15,
          14,
          5,
          6,
          7,
          7,
          18,
          12,
          9,
          8,
          6,
          6,
          11,
          7,
          14,
          7,
          12,
          7,
          8,
          4,
          8,
          11,
          7,
          14,
          5,
          2,
          8,
          19,
          5,
          8,
          6,
          11,
          6,
          7,
          7,
          8,
          9,
          10,
          6,
          4,
          11,
          4,
          4,
          2,
          16,
          8,
          9,
          14,
          10,
          8,
          9,
          18,
          7,
          3,
          6,
          9,
          8,
          8,
          8,
          5,
          7,
          6,
          13,
          3,
          8,
          10,
          8,
          6,
          9,
          11,
          2,
          7,
          5,
          6,
          14,
          11,
          15,
          12,
          5,
          2,
          13,
          9,
          5,
          7,
          8,
          20,
          6,
          6,
          9,
          4,
          4,
          11,
          5,
          7,
          9,
          10,
          6,
          6,
          7,
          8,
          24,
          11,
          11,
          2,
          9,
          10,
          5,
          13,
          9,
          8,
          8,
          7,
          14,
          12,
          14,
          17,
          17,
          5,
          7,
          5,
          5,
          10,
          8,
          9,
          14,
          7,
          5,
          5,
          5,
          5,
          10,
          7,
          18,
          8,
          10,
          8,
          11,
          16,
          6,
          8,
          6,
          8,
          8,
          8,
          23,
          15,
          8,
          7,
          4,
          8,
          9,
          9,
          7,
          6,
          8,
          11,
          5,
          14,
          7,
          11,
          8,
          12,
          5,
          5,
          2,
          11,
          10,
          12,
          13,
          13,
          13,
          14,
          7,
          6,
          11,
          7,
          7,
          6,
          6,
          9,
          8,
          9,
          12,
          10,
          9,
          8,
          9,
          10,
          9,
          4,
          9,
          11,
          16,
          8,
          12,
          6,
          7,
          5,
          11,
          8,
          19,
          5,
          12,
          11,
          6,
          6,
          6,
          8,
          6,
          10,
          8,
          6,
          7,
          7,
          5,
          15,
          16,
          5,
          5,
          8,
          10,
          5,
          7,
          6,
          5,
          6,
          10,
          6,
          8,
          11,
          11,
          10,
          11,
          3,
          12,
          6,
          15,
          7,
          5,
          18,
          4,
          10,
          3,
          7,
          8,
          5,
          9,
          9,
          8,
          9,
          9,
          12,
          7,
          12,
          8,
          5,
          16,
          2,
          8,
          7,
          5,
          15,
          10,
          10,
          6,
          9,
          10,
          9,
          4,
          3,
          14,
          8,
          18,
          8,
          7,
          6,
          8,
          8,
          10,
          10,
          15,
          20,
          10,
          6,
          5,
          6,
          13,
          14,
          8,
          7,
          9,
          10,
          15,
          2,
          7,
          13,
          19,
          7,
          6,
          6,
          4,
          3,
          11,
          14,
          9,
          10,
          12,
          7,
          10,
          7,
          8,
          6,
          7,
          9,
          5,
          4,
          10,
          11,
          9,
          20,
          12,
          5,
          10,
          10,
          9,
          14,
          10,
          8,
          11,
          8,
          3,
          7,
          10,
          3,
          12,
          9,
          13,
          10,
          13,
          4,
          6,
          5,
          9,
          10,
          12,
          6,
          6,
          5,
          4,
          5,
          7,
          11,
          5,
          5,
          8,
          9,
          9,
          14,
          8,
          8,
          6,
          7,
          6,
          10,
          6,
          9,
          6,
          8,
          7,
          7,
          14,
          10,
          7,
          11,
          7,
          2,
          8,
          9,
          7,
          5,
          7,
          13,
          10,
          14,
          7,
          27,
          6,
          8,
          9,
          6,
          13,
          10,
          11,
          9,
          12,
          7,
          8,
          9,
          10,
          17,
          15,
          6,
          6,
          11,
          9,
          8,
          7,
          4,
          6,
          14,
          12,
          7,
          6,
          6,
          3,
          9,
          9,
          14,
          15,
          7,
          7,
          10,
          13,
          9,
          6,
          6,
          9,
          12,
          10,
          6,
          9,
          8,
          5,
          11,
          7,
          4,
          12,
          9,
          9,
          12,
          5,
          14,
          10,
          9,
          6,
          6,
          6,
          14,
          11,
          9,
          2,
          10,
          4,
          13,
          9,
          10,
          10,
          10,
          10,
          10,
          5,
          6,
          7,
          13,
          10,
          10,
          14,
          14,
          4,
          10,
          24,
          21,
          2,
          10,
          15,
          21,
          6,
          13,
          4,
          6,
          11,
          11,
          13,
          8,
          6,
          10,
          4,
          8,
          10,
          7,
          8,
          5,
          8,
          11,
          4,
          5,
          4,
          5,
          4,
          4,
          15,
          6,
          6,
          10,
          9,
          8,
          17,
          13,
          4,
          10,
          17,
          5,
          8,
          6,
          7,
          5,
          15,
          14,
          8,
          13,
          14,
          5,
          9,
          7,
          7,
          10,
          14,
          12,
          7,
          10,
          23,
          8,
          6,
          7,
          7,
          7,
          5,
          5,
          5,
          16,
          7,
          9,
          12,
          15,
          12,
          11,
          5,
          9,
          9,
          9,
          9,
          9,
          4,
          7,
          18,
          11,
          9,
          8,
          15,
          12,
          10,
          8,
          7,
          3,
          11,
          6,
          4,
          7,
          2,
          15,
          17,
          4,
          12,
          5,
          7,
          7,
          7,
          8,
          6,
          11,
          12,
          8,
          3,
          10,
          19,
          9,
          9,
          7,
          8,
          3,
          3,
          7,
          6,
          6,
          10,
          9,
          9,
          6,
          8,
          7,
          14,
          17,
          10,
          8,
          12,
          6,
          14,
          4,
          13,
          8,
          11,
          9,
          5,
          8,
          4,
          7,
          15,
          13,
          11,
          4,
          10,
          6,
          14,
          5,
          15,
          5,
          9,
          11,
          6,
          13,
          7,
          12,
          16,
          12,
          8,
          17,
          8,
          13,
          6,
          10,
          6,
          7,
          9,
          2,
          8,
          4,
          8,
          11,
          8,
          9,
          11,
          13,
          10,
          4,
          11,
          4,
          4,
          4,
          10,
          4,
          4,
          8,
          4,
          11,
          5,
          6,
          9,
          11,
          6,
          5,
          11,
          5,
          6,
          7,
          17,
          8,
          7,
          11,
          12,
          9,
          9,
          9,
          4,
          6,
          8,
          10,
          10,
          7,
          12,
          7,
          8,
          6,
          5,
          8,
          7,
          8,
          6,
          10,
          11,
          11,
          13,
          6,
          11,
          10,
          7,
          7,
          4,
          12,
          15,
          19,
          8,
          4,
          7,
          2,
          13,
          8,
          22,
          9,
          9,
          11,
          10,
          14,
          10,
          5,
          14,
          10,
          5,
          6,
          4,
          14,
          9,
          10,
          24,
          11,
          10,
          5,
          6,
          9,
          14,
          5,
          5,
          10,
          22,
          4,
          12,
          12,
          9,
          11,
          9,
          11,
          10,
          25,
          15,
          10,
          7,
          4,
          7,
          5,
          4,
          5,
          9,
          9,
          8,
          15,
          14,
          10,
          11,
          15,
          19,
          11,
          13,
          12,
          15,
          12,
          6,
          9,
          7,
          8,
          11,
          5,
          12,
          10,
          9,
          15,
          13,
          10,
          6,
          7,
          4,
          8,
          5,
          8,
          5,
          9,
          4,
          8,
          8,
          5,
          14,
          9,
          8,
          11,
          18,
          3,
          4,
          7,
          4,
          4,
          13,
          24,
          7,
          16,
          5,
          6,
          10,
          10,
          3,
          16,
          13,
          14,
          7,
          8,
          5,
          7,
          9,
          11,
          5,
          8,
          10,
          12,
          8,
          8,
          9,
          9,
          8,
          9,
          5,
          8,
          10,
          6,
          7,
          13,
          13,
          8,
          14,
          14,
          9,
          12,
          15,
          11,
          12,
          6,
          8,
          7,
          8,
          9,
          6,
          8,
          8,
          6,
          14,
          6,
          12,
          6,
          10,
          8,
          11,
          15,
          13,
          12,
          10,
          9,
          9,
          6,
          11,
          5,
          6,
          6,
          10,
          8,
          9,
          14,
          6,
          5,
          6,
          5,
          11,
          11,
          11,
          13,
          13,
          10,
          9,
          14,
          7,
          6,
          13,
          11,
          8,
          8,
          12,
          4,
          6,
          14,
          17,
          7,
          10,
          8,
          5,
          10,
          7,
          13,
          6,
          11,
          9,
          7,
          10,
          10,
          5,
          4,
          9,
          10,
          10,
          5,
          5,
          10,
          10,
          5,
          10,
          10,
          2,
          7,
          6,
          6,
          6,
          10,
          10,
          7,
          8,
          7,
          7,
          7,
          10,
          10,
          11,
          5,
          9,
          8,
          14,
          10,
          3,
          21,
          10,
          11,
          5,
          6,
          13,
          15,
          18,
          6,
          20,
          20,
          12,
          11,
          10,
          8,
          8,
          8,
          16,
          8,
          5,
          8,
          6,
          11,
          7,
          12,
          10,
          10,
          10,
          10,
          13,
          8,
          8,
          9,
          9,
          10,
          7,
          12,
          9,
          16,
          8,
          7,
          8,
          11,
          4,
          13,
          7,
          7,
          5,
          6,
          8,
          6,
          16,
          4,
          6,
          6,
          14,
          11,
          6,
          10,
          8,
          6,
          7,
          14,
          8,
          8,
          7,
          3,
          12,
          10,
          6,
          16,
          14,
          4,
          9,
          8,
          6,
          8,
          14,
          12,
          9,
          10,
          14,
          6,
          6,
          9,
          5,
          10,
          4,
          8,
          5,
          11,
          13,
          18,
          8,
          7,
          3,
          5,
          16,
          15,
          10,
          10,
          9,
          9,
          8,
          16,
          6,
          8,
          10,
          12,
          7,
          10,
          8,
          7,
          14,
          10,
          9,
          7,
          4,
          6,
          6,
          6,
          5,
          10,
          5,
          7,
          9,
          8,
          15,
          10,
          5,
          14,
          10,
          7,
          14,
          13,
          7,
          9,
          11,
          12,
          5,
          6,
          13,
          4,
          2,
          7,
          13,
          11,
          4,
          4,
          5,
          9,
          9,
          19,
          7,
          6,
          9,
          6,
          6,
          10,
          6,
          7,
          11,
          4,
          7,
          4,
          10,
          6,
          7,
          2,
          7,
          3,
          13,
          11,
          18,
          10,
          14,
          5,
          4,
          8,
          8,
          7,
          6,
          12,
          9,
          7,
          15,
          8,
          20,
          6,
          13,
          8,
          15,
          7,
          4,
          8,
          11,
          5,
          7,
          10,
          12,
          7,
          7,
          4,
          6,
          9,
          12,
          6,
          8,
          18,
          10,
          6,
          7,
          6,
          8,
          19,
          8,
          14,
          7,
          10,
          6,
          16,
          12,
          12,
          4,
          6,
          10,
          5,
          9,
          13,
          8,
          9,
          3,
          11,
          8,
          12,
          13,
          22,
          7,
          8,
          6,
          6,
          2,
          3,
          7,
          24,
          6,
          7,
          7,
          7,
          15,
          12,
          9,
          9,
          12,
          8,
          13,
          4,
          6,
          18,
          8,
          7,
          8,
          8,
          5,
          8,
          9,
          11,
          8,
          10,
          10,
          10,
          10,
          13,
          13,
          14,
          7,
          12,
          12,
          11,
          13,
          5,
          4,
          12,
          15,
          7,
          8,
          5,
          25,
          26,
          7,
          19,
          10,
          8,
          12,
          22,
          20,
          20,
          24,
          22,
          5,
          10,
          10,
          10,
          7,
          10,
          10,
          9,
          5,
          12,
          15,
          8,
          11,
          12,
          15,
          8,
          6,
          16,
          21,
          9,
          6,
          3,
          8,
          14,
          6,
          8,
          7,
          10,
          7,
          8,
          8,
          4,
          7,
          5,
          12,
          9,
          8,
          5,
          8,
          6,
          7,
          8,
          8,
          5,
          8,
          6,
          21,
          35,
          8,
          5,
          4,
          12,
          7,
          17,
          6,
          14,
          3,
          7,
          23,
          11,
          7,
          15,
          10,
          12,
          6,
          10,
          9
         ],
         "xaxis": "x",
         "yaxis": "y"
        },
        {
         "alignmentgroup": "True",
         "hovertemplate": "type=enhancement<br>count of tokens list=%{x}<extra></extra>",
         "legendgroup": "enhancement",
         "marker": {
          "color": "#636efa"
         },
         "name": "enhancement",
         "notched": true,
         "offsetgroup": "enhancement",
         "showlegend": false,
         "type": "box",
         "x": [
          19,
          12,
          8,
          12,
          7,
          25,
          8,
          19,
          11,
          15,
          8,
          18,
          9,
          11,
          9,
          13,
          20,
          16,
          10,
          12,
          10,
          8,
          10,
          10,
          7,
          5,
          11,
          19,
          10,
          5,
          11,
          11,
          7,
          6,
          2,
          17,
          9,
          25,
          16,
          16,
          7,
          6,
          8,
          7,
          11,
          3,
          4,
          5,
          5,
          5,
          7,
          11,
          9,
          6,
          11,
          11,
          7,
          2,
          22,
          9,
          6,
          8,
          6,
          5,
          8,
          11,
          6,
          11,
          8,
          8,
          6,
          5,
          13,
          6,
          12,
          10,
          5,
          11,
          16,
          12,
          4,
          10,
          15,
          6,
          6,
          19,
          9,
          32,
          10,
          7,
          19,
          8,
          22,
          10,
          38,
          12,
          12,
          5,
          8,
          7,
          9,
          17,
          13,
          7,
          7,
          6,
          10,
          18,
          7,
          9,
          12,
          20,
          2,
          12,
          8,
          10,
          11,
          5,
          6,
          8,
          4,
          11,
          12,
          7,
          10,
          8,
          8,
          10,
          13,
          9,
          10,
          8,
          4,
          10,
          7,
          12,
          7,
          14,
          18,
          6,
          6,
          9,
          11,
          3,
          3,
          16,
          13,
          13,
          10,
          10,
          9,
          8,
          7,
          16,
          8,
          7,
          10,
          10,
          3,
          6,
          13,
          11,
          11,
          6,
          13,
          12,
          8,
          11,
          11,
          10,
          18,
          13,
          18,
          4,
          14,
          6,
          8,
          10,
          11,
          10,
          13,
          5,
          12,
          9,
          13,
          2,
          14,
          28,
          17,
          4,
          6,
          7,
          20,
          12,
          15,
          9,
          8,
          8,
          12,
          14,
          10,
          5,
          10,
          6,
          9,
          8,
          5,
          13,
          15,
          3,
          6,
          10,
          8,
          13,
          9,
          25,
          10,
          15,
          7,
          6,
          5,
          13,
          13,
          7,
          12,
          9,
          9,
          3,
          14,
          9,
          3,
          16,
          9,
          12,
          12,
          18,
          12,
          7,
          18,
          9,
          8,
          21,
          4,
          18,
          6,
          15,
          10,
          22,
          7,
          19,
          5,
          5,
          16,
          7,
          8,
          15,
          12,
          17,
          9,
          11,
          12,
          27,
          10,
          7,
          25,
          17,
          7,
          13,
          10,
          5,
          9,
          9,
          5,
          11,
          18,
          4,
          20,
          7,
          4,
          17,
          6,
          6,
          12,
          12,
          10,
          12,
          11,
          8,
          12,
          12,
          11,
          9,
          4,
          21,
          16,
          13,
          9,
          9,
          11,
          10,
          10,
          10,
          10,
          10,
          10,
          9,
          6,
          10,
          8,
          8,
          10,
          13,
          15,
          5,
          7,
          27,
          27,
          12,
          2,
          21,
          5,
          29,
          17,
          15,
          14,
          13,
          7,
          14,
          25,
          13,
          17,
          8,
          7,
          15,
          8,
          15,
          6,
          3,
          10,
          9,
          31,
          16,
          13,
          3,
          7,
          24,
          5,
          13,
          23,
          11,
          17,
          8,
          12,
          11,
          13,
          15,
          22,
          18,
          8,
          9,
          10,
          6,
          16,
          10,
          7,
          7,
          4,
          15,
          10,
          12,
          16,
          9,
          6,
          9,
          11,
          9,
          20,
          8,
          13,
          2,
          15,
          12,
          16,
          4,
          10,
          17,
          8,
          9,
          12,
          10,
          18,
          17,
          11,
          11,
          8,
          7,
          3,
          4,
          17,
          4,
          6,
          11,
          7,
          13,
          14,
          6,
          8,
          15,
          20,
          16,
          9,
          8,
          23,
          12,
          7,
          6,
          14,
          23,
          30,
          8,
          12,
          14,
          3,
          7,
          9,
          8,
          12,
          9,
          15,
          21,
          13,
          13,
          14,
          9,
          22,
          7,
          12,
          8,
          13,
          12,
          9,
          6,
          6,
          4,
          20,
          8,
          26,
          6,
          3,
          5,
          9,
          9,
          7,
          12,
          8,
          10,
          13,
          11,
          7,
          11,
          7,
          18,
          5,
          9,
          6,
          4,
          8,
          5,
          7,
          4,
          9,
          18,
          11,
          21,
          6,
          5,
          15,
          16,
          10,
          7,
          16,
          6,
          17,
          9,
          7,
          9,
          24,
          17,
          8,
          11,
          7,
          6,
          7,
          23,
          27,
          10,
          4,
          6,
          10,
          6,
          7,
          11,
          11,
          14,
          9,
          7,
          9,
          10,
          30,
          13,
          6,
          4,
          22,
          13,
          10,
          11,
          15,
          13,
          5,
          9,
          25,
          25,
          7,
          5,
          23,
          9,
          15,
          8,
          6,
          6,
          15,
          11,
          8,
          9,
          23,
          9,
          11,
          10,
          13,
          8,
          4,
          4,
          11,
          10,
          6,
          9,
          9,
          7,
          8,
          9,
          11,
          23,
          12,
          6,
          18,
          14,
          7,
          6,
          6,
          13,
          22,
          4,
          9,
          6,
          12,
          2,
          9,
          7,
          14,
          2,
          11,
          16,
          12,
          8,
          5,
          12,
          13,
          18,
          17,
          10,
          10,
          12,
          8,
          11,
          10,
          9,
          5,
          8,
          12,
          12,
          12,
          8,
          11,
          17,
          19,
          7,
          26,
          14,
          11,
          19,
          9,
          11,
          25,
          23,
          8,
          5,
          24,
          14,
          10,
          7,
          7,
          5,
          8,
          10,
          26,
          5,
          11,
          4,
          9,
          13,
          11,
          9,
          12,
          7,
          27,
          11,
          8,
          6,
          8,
          4,
          5,
          21,
          18,
          19,
          5,
          20,
          8,
          11,
          11,
          5,
          27,
          5,
          4,
          7,
          12,
          30,
          4,
          5,
          5,
          3,
          5,
          7,
          9,
          10,
          3,
          19,
          9,
          10,
          7,
          16,
          4,
          11,
          6,
          8,
          8,
          6,
          10,
          3,
          6,
          8,
          4,
          8,
          8,
          14,
          5,
          6,
          9,
          4,
          4,
          20,
          10,
          11,
          8,
          22,
          9,
          14,
          5,
          14,
          11,
          12,
          6,
          4,
          7,
          14,
          8,
          7,
          11,
          12,
          11,
          6,
          8,
          6,
          9,
          7,
          6,
          16,
          11,
          11,
          7,
          10,
          10,
          4,
          5,
          7,
          19,
          6,
          9,
          4,
          34,
          6,
          16,
          3,
          3,
          8,
          3,
          3,
          16,
          15,
          9,
          13,
          7,
          4,
          3,
          5,
          8,
          10,
          8,
          5,
          4,
          6,
          13,
          6,
          3,
          8,
          4,
          12,
          13,
          15,
          6,
          11,
          15,
          5,
          9,
          9,
          7,
          9,
          11,
          7,
          6,
          10,
          9,
          10,
          6,
          7,
          16,
          7,
          7,
          3,
          6,
          9,
          8,
          14,
          19,
          8,
          15,
          13,
          12,
          9,
          10,
          7,
          6,
          13,
          10,
          5,
          11,
          8,
          11,
          7,
          6,
          12,
          6,
          7,
          9,
          8,
          8,
          8,
          5,
          16,
          6,
          8,
          8,
          17,
          15,
          7,
          7,
          6,
          30,
          5,
          12,
          31,
          9,
          7,
          20,
          3,
          6,
          5,
          5,
          11,
          14,
          12,
          6,
          6,
          10,
          7,
          25,
          9,
          7,
          7,
          5,
          11,
          8,
          6,
          7,
          7,
          4,
          5,
          5,
          9,
          9,
          11,
          11,
          16,
          15,
          6,
          16,
          5,
          2,
          22,
          6,
          5,
          4,
          15,
          9,
          9,
          6,
          25,
          9,
          24,
          7,
          14,
          12,
          5,
          4,
          7,
          9,
          7,
          7,
          9,
          8,
          5,
          7,
          9,
          39,
          12,
          10,
          12,
          7,
          17,
          16,
          11,
          15,
          10,
          3,
          13,
          9,
          10,
          23,
          29,
          12,
          9,
          9,
          15,
          15,
          7,
          20,
          9,
          10,
          6,
          7,
          7,
          9,
          10,
          23,
          14,
          9,
          5,
          16,
          3,
          2,
          6,
          15,
          7,
          13,
          5,
          10,
          10,
          7,
          11,
          6,
          7,
          11,
          10,
          6,
          5,
          5,
          7,
          12,
          12,
          8,
          7,
          11,
          6,
          11,
          5,
          8,
          6,
          8,
          9,
          11,
          14,
          14,
          6,
          10,
          6,
          18,
          11,
          11,
          4,
          5,
          6,
          6,
          8,
          17,
          7,
          4,
          13,
          11,
          6,
          5,
          10,
          14,
          9,
          5,
          8,
          11,
          9,
          5,
          9,
          12,
          8,
          8,
          6,
          5,
          11,
          11,
          7,
          7,
          6,
          12,
          11,
          11,
          7,
          8,
          8,
          10,
          14,
          14,
          11,
          4,
          15,
          10,
          10,
          9,
          10,
          9,
          7,
          4,
          12,
          7,
          8,
          4,
          7,
          20,
          8,
          19,
          17,
          6,
          10,
          8,
          9,
          12,
          9,
          8,
          7,
          15,
          6,
          19,
          6,
          5,
          17,
          12,
          7,
          5,
          8,
          13,
          12,
          11,
          7,
          5,
          19,
          9,
          8,
          11,
          6,
          8,
          4,
          7,
          16,
          7,
          5,
          5,
          7,
          9,
          9,
          6,
          12,
          9,
          5,
          3,
          12,
          13,
          8,
          16,
          10,
          5,
          6,
          8,
          12,
          9,
          7,
          8,
          6,
          16,
          10,
          6,
          2,
          15,
          4,
          9,
          10,
          5,
          5,
          7,
          8,
          4,
          7,
          14,
          6,
          12,
          22,
          7,
          9,
          2,
          2,
          2,
          6,
          6,
          4,
          12,
          3,
          8,
          16,
          6,
          7,
          12,
          11,
          8,
          10,
          9,
          10,
          9,
          8,
          9,
          8,
          6,
          6,
          13,
          8,
          8,
          20,
          5,
          7,
          11,
          7,
          13,
          5,
          13,
          14,
          19,
          12,
          8,
          5,
          12,
          6,
          7,
          8,
          6,
          9,
          16,
          12,
          14,
          12,
          4,
          18,
          8,
          7,
          9,
          14,
          13,
          7,
          8,
          25,
          6,
          9,
          18,
          9,
          6,
          4,
          11,
          10,
          14,
          9,
          10,
          9,
          10,
          9,
          6,
          12,
          9,
          15,
          9,
          8,
          7,
          15,
          8,
          8,
          17,
          7,
          4,
          10,
          12,
          11,
          11,
          19,
          15,
          5,
          8,
          8,
          8,
          14,
          9,
          10,
          10,
          6,
          16,
          10,
          15,
          11,
          10,
          9,
          6,
          17,
          14,
          9,
          7,
          17,
          10,
          16,
          9,
          13,
          12,
          6,
          9,
          9,
          10,
          15,
          6,
          18,
          8,
          11,
          11,
          8,
          9,
          5,
          5,
          5,
          6,
          9,
          20,
          12,
          6,
          9,
          12,
          5,
          10,
          9,
          4,
          12,
          5,
          4,
          5,
          19,
          12,
          9,
          9,
          7,
          7,
          10,
          5,
          8,
          6,
          6,
          13,
          7,
          13,
          2,
          7,
          7,
          8,
          12,
          7,
          5,
          9,
          4,
          6,
          3,
          6,
          15,
          9,
          8,
          9,
          12,
          4,
          14,
          11,
          10,
          14,
          10,
          17,
          21,
          13,
          10,
          11,
          4,
          10,
          5,
          7,
          21,
          13,
          13,
          7,
          11,
          8,
          7,
          17,
          6,
          9,
          5,
          9,
          8,
          11,
          7,
          4,
          12,
          6,
          12,
          8,
          9,
          14,
          10,
          10,
          4,
          8,
          8,
          16,
          11,
          5,
          10,
          11,
          4,
          8,
          6,
          5,
          5,
          14,
          8,
          7,
          19,
          17,
          15,
          6,
          11,
          7,
          15,
          8,
          8,
          10,
          10,
          4,
          6,
          4,
          9,
          7,
          15,
          12,
          10,
          13,
          19,
          13,
          4,
          7,
          13,
          6,
          11,
          15,
          6,
          5,
          7,
          19,
          16,
          9,
          12,
          7,
          8,
          10,
          9,
          7,
          11,
          8,
          6,
          3,
          9,
          5,
          9,
          17,
          8,
          7,
          8,
          14,
          7,
          13,
          5,
          6,
          19,
          7,
          8,
          7,
          12,
          8,
          13,
          9,
          10,
          2,
          6,
          11,
          10,
          14,
          11,
          3,
          10,
          24,
          5,
          7,
          7,
          9,
          8,
          7,
          7,
          11,
          13,
          10,
          11,
          11,
          11,
          11,
          10,
          9,
          7,
          11,
          11,
          7,
          4,
          13,
          11,
          7,
          9,
          11,
          9,
          9,
          6,
          4,
          10,
          7,
          9,
          21,
          5,
          9,
          15,
          15,
          9,
          12,
          7,
          5,
          19,
          7,
          7,
          6,
          7,
          7,
          7,
          5,
          6,
          5,
          8,
          8,
          11,
          5,
          11,
          16,
          8,
          21,
          10,
          10,
          7,
          3,
          6,
          18,
          10,
          3,
          6,
          18,
          9,
          19,
          18,
          13,
          17,
          11,
          15,
          14,
          10,
          7,
          9,
          10,
          10,
          8,
          15,
          10,
          9,
          7,
          5,
          17,
          7,
          11,
          2,
          13,
          10,
          8,
          8,
          9,
          21,
          8,
          10,
          7,
          12,
          8,
          6,
          8,
          15,
          10,
          7,
          4,
          8,
          7,
          14,
          13,
          10,
          5,
          10,
          7,
          16,
          10,
          9,
          10,
          16,
          4,
          10,
          16,
          7,
          5,
          3,
          12,
          13,
          5,
          9,
          7,
          6,
          10,
          5,
          14,
          10,
          14,
          11,
          4,
          7,
          8,
          8,
          10,
          12,
          7,
          7,
          10,
          10,
          7,
          6,
          8,
          7,
          7,
          9,
          8,
          8,
          11,
          9,
          10,
          6,
          5,
          11,
          12,
          10,
          6,
          12,
          19,
          8,
          5,
          6,
          12,
          7,
          10,
          8,
          10,
          16,
          12,
          8,
          5,
          8,
          9,
          12,
          10,
          3,
          7,
          9,
          10,
          8,
          5,
          4,
          16,
          14,
          11,
          10,
          8,
          6,
          12,
          7,
          8,
          9,
          8,
          13,
          6,
          8,
          9,
          8,
          10,
          7,
          13,
          17,
          10,
          11,
          10,
          12,
          9,
          23,
          7,
          7,
          10,
          9,
          6,
          8,
          5,
          9,
          10,
          4,
          11,
          7,
          11,
          5,
          7,
          5,
          8,
          8,
          9,
          8,
          5,
          14,
          10,
          9,
          7,
          7,
          5,
          8,
          15,
          15,
          11,
          9,
          5,
          11,
          13,
          12,
          8,
          6,
          6,
          7,
          6,
          11,
          6,
          13,
          13,
          9,
          4,
          4,
          4,
          4,
          4,
          4,
          11,
          8,
          6,
          7,
          11,
          7,
          7,
          7,
          6,
          14,
          8,
          5,
          10,
          14,
          10,
          8,
          8,
          13,
          5,
          9,
          5,
          11,
          9,
          12,
          5,
          14,
          12,
          13,
          8,
          13,
          10,
          10,
          13,
          9,
          2,
          6,
          12,
          9,
          9,
          8,
          4,
          7,
          2,
          11,
          5,
          9,
          5,
          4,
          25,
          11,
          5,
          11,
          7,
          16,
          10,
          13,
          8,
          6,
          9,
          4,
          10,
          13,
          10,
          9,
          8,
          10,
          13,
          13,
          10,
          12,
          4,
          10,
          15,
          8,
          7,
          12,
          10,
          7,
          18,
          9,
          6,
          6,
          10,
          7,
          6,
          16,
          8,
          10,
          12,
          13,
          8,
          8,
          6,
          4,
          8,
          7,
          9,
          8,
          10,
          10,
          12,
          10,
          8,
          9,
          9,
          8,
          14,
          10,
          13,
          8,
          8,
          16,
          10,
          16,
          7,
          7,
          8,
          4,
          6,
          9,
          5,
          11,
          3,
          12,
          8,
          8,
          24,
          7,
          12,
          12,
          5,
          19,
          6,
          10,
          11,
          12,
          13,
          12,
          11,
          10,
          4,
          17,
          10,
          9,
          10,
          16,
          6,
          6,
          9,
          9,
          9,
          17,
          8,
          12,
          10,
          6,
          9,
          6,
          7,
          5,
          10,
          16,
          7,
          4,
          4,
          8,
          16,
          12,
          8,
          11,
          7,
          7,
          16,
          8,
          11,
          17,
          10,
          31,
          14,
          15,
          4,
          15,
          7,
          8,
          8,
          8,
          8,
          8,
          16,
          11,
          9,
          9,
          10,
          10,
          8,
          7,
          6,
          9,
          13,
          6,
          9,
          6,
          7,
          8,
          6,
          7,
          5,
          13,
          2,
          4,
          10,
          5,
          8,
          11,
          10,
          6,
          6,
          7,
          11,
          11,
          9,
          10,
          4,
          6,
          7,
          5,
          5,
          5,
          4,
          5,
          13,
          10,
          10,
          6,
          9,
          9,
          6,
          7,
          5,
          10,
          6,
          2,
          3,
          24,
          14,
          11,
          8,
          8,
          6,
          22,
          11,
          9,
          13,
          4,
          15,
          10,
          9,
          6,
          9,
          9,
          6,
          6,
          6,
          11,
          6,
          12,
          9,
          7,
          7,
          15,
          5,
          8,
          7,
          7,
          4,
          10,
          10,
          7,
          9,
          6,
          9,
          10,
          15,
          5,
          5,
          8,
          5,
          12,
          6,
          9,
          7,
          7,
          7,
          9,
          12,
          6,
          4,
          9,
          8,
          21,
          12,
          18,
          13,
          15,
          7,
          5,
          7,
          5,
          4,
          9,
          5,
          5,
          5,
          5,
          5,
          9,
          4,
          17,
          7,
          6,
          12,
          6,
          9,
          8,
          10,
          15,
          6,
          6,
          12,
          12,
          6,
          8,
          10,
          5,
          10,
          7,
          7,
          4,
          11,
          4,
          4,
          11,
          6,
          7,
          8,
          9,
          5,
          9,
          15,
          14,
          5,
          6,
          7,
          7,
          18,
          12,
          9,
          8,
          6,
          6,
          11,
          7,
          14,
          7,
          12,
          7,
          8,
          4,
          8,
          11,
          7,
          14,
          5,
          2,
          8,
          19,
          5,
          8,
          6,
          11,
          6,
          7,
          7,
          8,
          9,
          10,
          6,
          4,
          11,
          4,
          4,
          2,
          16,
          8,
          9,
          14,
          10,
          8,
          9,
          18,
          7,
          3,
          6,
          9,
          8,
          8,
          8,
          5,
          7,
          6,
          13,
          3,
          8,
          10,
          8,
          6,
          9,
          11,
          2,
          7,
          5,
          6,
          14,
          11,
          15,
          12,
          5,
          2,
          13,
          9,
          5,
          7,
          8,
          20,
          6,
          6,
          9,
          4,
          4,
          11,
          5,
          7,
          9,
          10,
          6,
          6,
          7,
          8,
          24,
          11,
          11,
          2,
          9,
          10,
          5,
          13,
          9,
          8,
          8,
          7,
          14,
          12,
          14,
          17,
          17,
          5,
          7,
          5,
          5,
          10,
          8,
          9,
          14,
          7,
          5,
          5,
          5,
          5,
          10,
          7,
          18,
          8,
          10,
          8,
          11,
          16,
          6,
          8,
          6,
          8,
          8,
          8,
          23,
          15,
          8,
          7,
          4,
          8,
          9,
          9,
          7,
          6,
          8,
          11,
          5,
          14,
          7,
          11,
          8,
          12,
          5,
          5,
          2,
          11,
          10,
          12,
          13,
          13,
          13,
          14,
          7,
          6,
          11,
          7,
          7,
          6,
          6,
          9,
          8,
          9,
          12,
          10,
          9,
          8,
          9,
          10,
          9,
          4,
          9,
          11,
          16,
          8,
          12,
          6,
          7,
          5,
          11,
          8,
          19,
          5,
          12,
          11,
          6,
          6,
          6,
          8,
          6,
          10,
          8,
          6,
          7,
          7,
          5,
          15,
          16,
          5,
          5,
          8,
          10,
          5,
          7,
          6,
          5,
          6,
          10,
          6,
          8,
          11,
          11,
          10,
          11,
          3,
          12,
          6,
          15,
          7,
          5,
          18,
          4,
          10,
          3,
          7,
          8,
          5,
          9,
          9,
          8,
          9,
          9,
          12,
          7,
          12,
          8,
          5,
          16,
          2,
          8,
          7,
          5,
          15,
          10,
          10,
          6,
          9,
          10,
          9,
          4,
          3,
          14,
          8,
          18,
          8,
          7,
          6,
          8,
          8,
          10,
          10,
          15,
          20,
          10,
          6,
          5,
          6,
          13,
          14,
          8,
          7,
          9,
          10,
          15,
          2,
          7,
          13,
          19,
          7,
          6,
          6,
          4,
          3,
          11,
          14,
          9,
          10,
          12,
          7,
          10,
          7,
          8,
          6,
          7,
          9,
          5,
          4,
          10,
          11,
          9,
          20,
          12,
          5,
          10,
          10,
          9,
          14,
          10,
          8,
          11,
          8,
          3,
          7,
          10,
          3,
          12,
          9,
          13,
          10,
          13,
          4,
          6,
          5,
          9,
          10,
          12,
          6,
          6,
          5,
          4,
          5,
          7,
          11,
          5,
          5,
          8,
          9,
          9,
          14,
          8,
          8,
          6,
          7,
          6,
          10,
          6,
          9,
          6,
          8,
          7,
          7,
          14,
          10,
          7,
          11,
          7,
          2,
          8,
          9,
          7,
          5,
          7,
          13,
          10,
          14,
          7,
          27,
          6,
          8,
          9,
          6,
          13,
          10,
          11,
          9,
          12,
          7,
          8,
          9,
          10,
          17,
          15,
          6,
          6,
          11,
          9,
          8,
          7,
          4,
          6,
          14,
          12,
          7,
          6,
          6,
          3,
          9,
          9,
          14,
          15,
          7,
          7,
          10,
          13,
          9,
          6,
          6,
          9,
          12,
          10,
          6,
          9,
          8,
          5,
          11,
          7,
          4,
          12,
          9,
          9,
          12,
          5,
          14,
          10,
          9,
          6,
          6,
          6,
          14,
          11,
          9,
          2,
          10,
          4,
          13,
          9,
          10,
          10,
          10,
          10,
          10,
          5,
          6,
          7,
          13,
          10,
          10,
          14,
          14,
          4,
          10,
          24,
          21,
          2,
          10,
          15,
          21,
          6,
          13,
          4,
          6,
          11,
          11,
          13,
          8,
          6,
          10,
          4,
          8,
          10,
          7,
          8,
          5,
          8,
          11,
          4,
          5,
          4,
          5,
          4,
          4,
          15,
          6,
          6,
          10,
          9,
          8,
          17,
          13,
          4,
          10,
          17,
          5,
          8,
          6,
          7,
          5,
          15,
          14,
          8,
          13,
          14,
          5,
          9,
          7,
          7,
          10,
          14,
          12,
          7,
          10,
          23,
          8,
          6,
          7,
          7,
          7,
          5,
          5,
          5,
          16,
          7,
          9,
          12,
          15,
          12,
          11,
          5,
          9,
          9,
          9,
          9,
          9,
          4,
          7,
          18,
          11,
          9,
          8,
          15,
          12,
          10,
          8,
          7,
          3,
          11,
          6,
          4,
          7,
          2,
          15,
          17,
          4,
          12,
          5,
          7,
          7,
          7,
          8,
          6,
          11,
          12,
          8,
          3,
          10,
          19,
          9,
          9,
          7,
          8,
          3,
          3,
          7,
          6,
          6,
          10,
          9,
          9,
          6,
          8,
          7,
          14,
          17,
          10,
          8,
          12,
          6,
          14,
          4,
          13,
          8,
          11,
          9,
          5,
          8,
          4,
          7,
          15,
          13,
          11,
          4,
          10,
          6,
          14,
          5,
          15,
          5,
          9,
          11,
          6,
          13,
          7,
          12,
          16,
          12,
          8,
          17,
          8,
          13,
          6,
          10,
          6,
          7,
          9,
          2,
          8,
          4,
          8,
          11,
          8,
          9,
          11,
          13,
          10,
          4,
          11,
          4,
          4,
          4,
          10,
          4,
          4,
          8,
          4,
          11,
          5,
          6,
          9,
          11,
          6,
          5,
          11,
          5,
          6,
          7,
          17,
          8,
          7,
          11,
          12,
          9,
          9,
          9,
          4,
          6,
          8,
          10,
          10,
          7,
          12,
          7,
          8,
          6,
          5,
          8,
          7,
          8,
          6,
          10,
          11,
          11,
          13,
          6,
          11,
          10,
          7,
          7,
          4,
          12,
          15,
          19,
          8,
          4,
          7,
          2,
          13,
          8,
          22,
          9,
          9,
          11,
          10,
          14,
          10,
          5,
          14,
          10,
          5,
          6,
          4,
          14,
          9,
          10,
          24,
          11,
          10,
          5,
          6,
          9,
          14,
          5,
          5,
          10,
          22,
          4,
          12,
          12,
          9,
          11,
          9,
          11,
          10,
          25,
          15,
          10,
          7,
          4,
          7,
          5,
          4,
          5,
          9,
          9,
          8,
          15,
          14,
          10,
          11,
          15,
          19,
          11,
          13,
          12,
          15,
          12,
          6,
          9,
          7,
          8,
          11,
          5,
          12,
          10,
          9,
          15,
          13,
          10,
          6,
          7,
          4,
          8,
          5,
          8,
          5,
          9,
          4,
          8,
          8,
          5,
          14,
          9,
          8,
          11,
          18,
          3,
          4,
          7,
          4,
          4,
          13,
          24,
          7,
          16,
          5,
          6,
          10,
          10,
          3,
          16,
          13,
          14,
          7,
          8,
          5,
          7,
          9,
          11,
          5,
          8,
          10,
          12,
          8,
          8,
          9,
          9,
          8,
          9,
          5,
          8,
          10,
          6,
          7,
          13,
          13,
          8,
          14,
          14,
          9,
          12,
          15,
          11,
          12,
          6,
          8,
          7,
          8,
          9,
          6,
          8,
          8,
          6,
          14,
          6,
          12,
          6,
          10,
          8,
          11,
          15,
          13,
          12,
          10,
          9,
          9,
          6,
          11,
          5,
          6,
          6,
          10,
          8,
          9,
          14,
          6,
          5,
          6,
          5,
          11,
          11,
          11,
          13,
          13,
          10,
          9,
          14,
          7,
          6,
          13,
          11,
          8,
          8,
          12,
          4,
          6,
          14,
          17,
          7,
          10,
          8,
          5,
          10,
          7,
          13,
          6,
          11,
          9,
          7,
          10,
          10,
          5,
          4,
          9,
          10,
          10,
          5,
          5,
          10,
          10,
          5,
          10,
          10,
          2,
          7,
          6,
          6,
          6,
          10,
          10,
          7,
          8,
          7,
          7,
          7,
          10,
          10,
          11,
          5,
          9,
          8,
          14,
          10,
          3,
          21,
          10,
          11,
          5,
          6,
          13,
          15,
          18,
          6,
          20,
          20,
          12,
          11,
          10,
          8,
          8,
          8,
          16,
          8,
          5,
          8,
          6,
          11,
          7,
          12,
          10,
          10,
          10,
          10,
          13,
          8,
          8,
          9,
          9,
          10,
          7,
          12,
          9,
          16,
          8,
          7,
          8,
          11,
          4,
          13,
          7,
          7,
          5,
          6,
          8,
          6,
          16,
          4,
          6,
          6,
          14,
          11,
          6,
          10,
          8,
          6,
          7,
          14,
          8,
          8,
          7,
          3,
          12,
          10,
          6,
          16,
          14,
          4,
          9,
          8,
          6,
          8,
          14,
          12,
          9,
          10,
          14,
          6,
          6,
          9,
          5,
          10,
          4,
          8,
          5,
          11,
          13,
          18,
          8,
          7,
          3,
          5,
          16,
          15,
          10,
          10,
          9,
          9,
          8,
          16,
          6,
          8,
          10,
          12,
          7,
          10,
          8,
          7,
          14,
          10,
          9,
          7,
          4,
          6,
          6,
          6,
          5,
          10,
          5,
          7,
          9,
          8,
          15,
          10,
          5,
          14,
          10,
          7,
          14,
          13,
          7,
          9,
          11,
          12,
          5,
          6,
          13,
          4,
          2,
          7,
          13,
          11,
          4,
          4,
          5,
          9,
          9,
          19,
          7,
          6,
          9,
          6,
          6,
          10,
          6,
          7,
          11,
          4,
          7,
          4,
          10,
          6,
          7,
          2,
          7,
          3,
          13,
          11,
          18,
          10,
          14,
          5,
          4,
          8,
          8,
          7,
          6,
          12,
          9,
          7,
          15,
          8,
          20,
          6,
          13,
          8,
          15,
          7,
          4,
          8,
          11,
          5,
          7,
          10,
          12,
          7,
          7,
          4,
          6,
          9,
          12,
          6,
          8,
          18,
          10,
          6,
          7,
          6,
          8,
          19,
          8,
          14,
          7,
          10,
          6,
          16,
          12,
          12,
          4,
          6,
          10,
          5,
          9,
          13,
          8,
          9,
          3,
          11,
          8,
          12,
          13,
          22,
          7,
          8,
          6,
          6,
          2,
          3,
          7,
          24,
          6,
          7,
          7,
          7,
          15,
          12,
          9,
          9,
          12,
          8,
          13,
          4,
          6,
          18,
          8,
          7,
          8,
          8,
          5,
          8,
          9,
          11,
          8,
          10,
          10,
          10,
          10,
          13,
          13,
          14,
          7,
          12,
          12,
          11,
          13,
          5,
          4,
          12,
          15,
          7,
          8,
          5,
          25,
          26,
          7,
          19,
          10,
          8,
          12,
          22,
          20,
          20,
          24,
          22,
          5,
          10,
          10,
          10,
          7,
          10,
          10,
          9,
          5,
          12,
          15,
          8,
          11,
          12,
          15,
          8,
          6,
          16,
          21,
          9,
          6,
          3,
          8,
          14,
          6,
          8,
          7,
          10,
          7,
          8,
          8,
          4,
          7,
          5,
          12,
          9,
          8,
          5,
          8,
          6,
          7,
          8,
          8,
          5,
          8,
          6,
          21,
          35,
          8,
          5,
          4,
          12,
          7,
          17,
          6,
          14,
          3,
          7,
          23,
          11,
          7,
          15,
          10,
          12,
          6,
          10,
          9
         ],
         "xaxis": "x2",
         "yaxis": "y2"
        },
        {
         "alignmentgroup": "True",
         "bingroup": "x",
         "hovertemplate": "type=task<br>count of tokens list=%{x}<br>count=%{y}<extra></extra>",
         "legendgroup": "task",
         "marker": {
          "color": "#EF553B",
          "opacity": 0.8,
          "pattern": {
           "shape": ""
          }
         },
         "name": "task",
         "offsetgroup": "task",
         "orientation": "v",
         "showlegend": true,
         "type": "histogram",
         "x": [
          12,
          7,
          9,
          6,
          4,
          4,
          16,
          4,
          8,
          8,
          9,
          6,
          11,
          8,
          35,
          9,
          5,
          7,
          15,
          9,
          8,
          10,
          9,
          11,
          12,
          11,
          6,
          6,
          7,
          12,
          9,
          5,
          6,
          5,
          7,
          7,
          8,
          7,
          8,
          7,
          11,
          7,
          16,
          10,
          6,
          9,
          5,
          7,
          6,
          8,
          5,
          6,
          9,
          10,
          5,
          11,
          9,
          13,
          7,
          11,
          5,
          12,
          6,
          5,
          9,
          8,
          3,
          10,
          7,
          10,
          5,
          5,
          5,
          6,
          5,
          5,
          5,
          5,
          5,
          5,
          6,
          6,
          7,
          6,
          6,
          6,
          6,
          7,
          6,
          6,
          3,
          9,
          6,
          20,
          11,
          11,
          7,
          17,
          6,
          6,
          9,
          8,
          8,
          5,
          5,
          5,
          6,
          6,
          10,
          9,
          7,
          8,
          12,
          10,
          9,
          6,
          9,
          14,
          7,
          5,
          6,
          5,
          6,
          6,
          6,
          6,
          6,
          6,
          5,
          5,
          5,
          5,
          6,
          6,
          5,
          5,
          5,
          5,
          5,
          5,
          6,
          6,
          5,
          5,
          5,
          6,
          5,
          5,
          5,
          5,
          5,
          5,
          5,
          5,
          5,
          5,
          5,
          6,
          6,
          6,
          5,
          6,
          5,
          6,
          5,
          5,
          5,
          5,
          5,
          5,
          5,
          5,
          5,
          8,
          5,
          4,
          11,
          3,
          4,
          6,
          6,
          10,
          5,
          6,
          10,
          17,
          7,
          3,
          5,
          4,
          7,
          13,
          7,
          11,
          11,
          11,
          7,
          8,
          9,
          11,
          3,
          5,
          8,
          10,
          12,
          12,
          7,
          5,
          8,
          4,
          8,
          7,
          5,
          10,
          13,
          8,
          5,
          13,
          13,
          7,
          7,
          5,
          14,
          19,
          9,
          10,
          7,
          7,
          7,
          7,
          13,
          11,
          10,
          6,
          4,
          7,
          6,
          15,
          12,
          9,
          4,
          4,
          12,
          10,
          8,
          19,
          11,
          9,
          15,
          13,
          2,
          12,
          13,
          6,
          7,
          4,
          3,
          5,
          15,
          17,
          7,
          12,
          3,
          14,
          16,
          13,
          6,
          14,
          6,
          6,
          16,
          13,
          10,
          9,
          16,
          9,
          9,
          9,
          11,
          11,
          12,
          10,
          6,
          6,
          6,
          7,
          6,
          13,
          5,
          9,
          9,
          9,
          9,
          12,
          11,
          16,
          17,
          8,
          6,
          10,
          8,
          2,
          9,
          7,
          9,
          7,
          6,
          8,
          7,
          11,
          8,
          7,
          7,
          6,
          7,
          4,
          8,
          6,
          13,
          11,
          8,
          10,
          12,
          4,
          9,
          13,
          14,
          8,
          8,
          6,
          8,
          6,
          10,
          9,
          7,
          12,
          10,
          13,
          10,
          4,
          10,
          9,
          15,
          10,
          7,
          6,
          8,
          13,
          13,
          7,
          6,
          9,
          4,
          4,
          6,
          10,
          9,
          4,
          7,
          5,
          4,
          2,
          11,
          4,
          4,
          8,
          11,
          17,
          11,
          8,
          7,
          11,
          4,
          4,
          9,
          4,
          19,
          6,
          14,
          6,
          24,
          18,
          5,
          11,
          5,
          6,
          18,
          2,
          4,
          10,
          13,
          7,
          7,
          15,
          6,
          6,
          7,
          4,
          3,
          8,
          5,
          9,
          7,
          11,
          10,
          12,
          5,
          20,
          14,
          7,
          7,
          3,
          7,
          8,
          10,
          7,
          11,
          5,
          8,
          7,
          12,
          7,
          14,
          11,
          10,
          12,
          9,
          10,
          5,
          7,
          6,
          9,
          10,
          9,
          8,
          12,
          10,
          6,
          6,
          12,
          13,
          11,
          9,
          11,
          3,
          12,
          12,
          15,
          12,
          9,
          12,
          10,
          7,
          9,
          10,
          6,
          7,
          8,
          6,
          6,
          6,
          8,
          11,
          7,
          8,
          8,
          10,
          14,
          16,
          9,
          8,
          11,
          6,
          10,
          11,
          16,
          5,
          7,
          12,
          6,
          6,
          11,
          11,
          12,
          10,
          11,
          15,
          11,
          6,
          7,
          11,
          5,
          21,
          5,
          10,
          9,
          7,
          14,
          11,
          5,
          8,
          6,
          17,
          19,
          11,
          6,
          18,
          6,
          3,
          8,
          12,
          7,
          7,
          14,
          13,
          2,
          12,
          11,
          9,
          16,
          12,
          11,
          5,
          9,
          8,
          11,
          8,
          17,
          5,
          5,
          10,
          8,
          10,
          6,
          10,
          10,
          12,
          13,
          8,
          5,
          6,
          4,
          4,
          4,
          4,
          4,
          4,
          4,
          4,
          4,
          5,
          5,
          7,
          4,
          4,
          4,
          4,
          4,
          4,
          4,
          4,
          4,
          4,
          5,
          4,
          4,
          4,
          4,
          4,
          4,
          4,
          4,
          4,
          4,
          4,
          4,
          4,
          4,
          4,
          4,
          4,
          4,
          4,
          4,
          4,
          4,
          4,
          4,
          6,
          9,
          6,
          10,
          10,
          8,
          4,
          8,
          10,
          6,
          9,
          16,
          6,
          5,
          8,
          10,
          6,
          17,
          10,
          10,
          6,
          8,
          7,
          10,
          19,
          14,
          13,
          10,
          6,
          5,
          18,
          18,
          10,
          13,
          10,
          6,
          7,
          4,
          9,
          8,
          14,
          6,
          9,
          7,
          13,
          14,
          11,
          9,
          9,
          3,
          8,
          6,
          8,
          21,
          11,
          9,
          9,
          14,
          6,
          6,
          8,
          11,
          11,
          7,
          9,
          9,
          9,
          10,
          7,
          9,
          9,
          5,
          9,
          12,
          4,
          13,
          10,
          10,
          8,
          4,
          6,
          14,
          10,
          8,
          5,
          7,
          5,
          9,
          11,
          6,
          9,
          15,
          6,
          11,
          5,
          11,
          7,
          8,
          12,
          10,
          6,
          4,
          10,
          10,
          12,
          12,
          9,
          8,
          6,
          9,
          9,
          6,
          13,
          9,
          8,
          7,
          13,
          6,
          10,
          7,
          7,
          8,
          7,
          12,
          7,
          9,
          5,
          12,
          9,
          14,
          10,
          13,
          5,
          6,
          6,
          8,
          10,
          11,
          14,
          11,
          8,
          6,
          9,
          12,
          4,
          10,
          6,
          6,
          6,
          5,
          8,
          13,
          14,
          7,
          13,
          7,
          7,
          10,
          6,
          14,
          5,
          9,
          7,
          10,
          6,
          7,
          7,
          13,
          5,
          7,
          14,
          9,
          6,
          6,
          6,
          6,
          6,
          6,
          6,
          6,
          6,
          10,
          4,
          8,
          5,
          9,
          8,
          5,
          10,
          4,
          6,
          7,
          7,
          14,
          16,
          15,
          11,
          5,
          5,
          6,
          5,
          5,
          5,
          6,
          6,
          7,
          7,
          9,
          6,
          5,
          5,
          7,
          10,
          11,
          6,
          13,
          5,
          11,
          4,
          11,
          10,
          12,
          8,
          3,
          3,
          6,
          3,
          6,
          6,
          7,
          3,
          5,
          11,
          9,
          11,
          9,
          4,
          6,
          15,
          13,
          5,
          9,
          10,
          13,
          16,
          6,
          9,
          11,
          7,
          7,
          6,
          11,
          10,
          13,
          8,
          10,
          3,
          11,
          3,
          8,
          6,
          15,
          5,
          9,
          7,
          3,
          6,
          8,
          6,
          7,
          7,
          12,
          8,
          8,
          2,
          2,
          7,
          12,
          4,
          20,
          8,
          11,
          6,
          4,
          7,
          6,
          10,
          13,
          6,
          6,
          8,
          11,
          6,
          10,
          13,
          13,
          14,
          5,
          7,
          9
         ],
         "xaxis": "x",
         "yaxis": "y"
        },
        {
         "alignmentgroup": "True",
         "hovertemplate": "type=task<br>count of tokens list=%{x}<extra></extra>",
         "legendgroup": "task",
         "marker": {
          "color": "#EF553B"
         },
         "name": "task",
         "notched": true,
         "offsetgroup": "task",
         "showlegend": false,
         "type": "box",
         "x": [
          12,
          7,
          9,
          6,
          4,
          4,
          16,
          4,
          8,
          8,
          9,
          6,
          11,
          8,
          35,
          9,
          5,
          7,
          15,
          9,
          8,
          10,
          9,
          11,
          12,
          11,
          6,
          6,
          7,
          12,
          9,
          5,
          6,
          5,
          7,
          7,
          8,
          7,
          8,
          7,
          11,
          7,
          16,
          10,
          6,
          9,
          5,
          7,
          6,
          8,
          5,
          6,
          9,
          10,
          5,
          11,
          9,
          13,
          7,
          11,
          5,
          12,
          6,
          5,
          9,
          8,
          3,
          10,
          7,
          10,
          5,
          5,
          5,
          6,
          5,
          5,
          5,
          5,
          5,
          5,
          6,
          6,
          7,
          6,
          6,
          6,
          6,
          7,
          6,
          6,
          3,
          9,
          6,
          20,
          11,
          11,
          7,
          17,
          6,
          6,
          9,
          8,
          8,
          5,
          5,
          5,
          6,
          6,
          10,
          9,
          7,
          8,
          12,
          10,
          9,
          6,
          9,
          14,
          7,
          5,
          6,
          5,
          6,
          6,
          6,
          6,
          6,
          6,
          5,
          5,
          5,
          5,
          6,
          6,
          5,
          5,
          5,
          5,
          5,
          5,
          6,
          6,
          5,
          5,
          5,
          6,
          5,
          5,
          5,
          5,
          5,
          5,
          5,
          5,
          5,
          5,
          5,
          6,
          6,
          6,
          5,
          6,
          5,
          6,
          5,
          5,
          5,
          5,
          5,
          5,
          5,
          5,
          5,
          8,
          5,
          4,
          11,
          3,
          4,
          6,
          6,
          10,
          5,
          6,
          10,
          17,
          7,
          3,
          5,
          4,
          7,
          13,
          7,
          11,
          11,
          11,
          7,
          8,
          9,
          11,
          3,
          5,
          8,
          10,
          12,
          12,
          7,
          5,
          8,
          4,
          8,
          7,
          5,
          10,
          13,
          8,
          5,
          13,
          13,
          7,
          7,
          5,
          14,
          19,
          9,
          10,
          7,
          7,
          7,
          7,
          13,
          11,
          10,
          6,
          4,
          7,
          6,
          15,
          12,
          9,
          4,
          4,
          12,
          10,
          8,
          19,
          11,
          9,
          15,
          13,
          2,
          12,
          13,
          6,
          7,
          4,
          3,
          5,
          15,
          17,
          7,
          12,
          3,
          14,
          16,
          13,
          6,
          14,
          6,
          6,
          16,
          13,
          10,
          9,
          16,
          9,
          9,
          9,
          11,
          11,
          12,
          10,
          6,
          6,
          6,
          7,
          6,
          13,
          5,
          9,
          9,
          9,
          9,
          12,
          11,
          16,
          17,
          8,
          6,
          10,
          8,
          2,
          9,
          7,
          9,
          7,
          6,
          8,
          7,
          11,
          8,
          7,
          7,
          6,
          7,
          4,
          8,
          6,
          13,
          11,
          8,
          10,
          12,
          4,
          9,
          13,
          14,
          8,
          8,
          6,
          8,
          6,
          10,
          9,
          7,
          12,
          10,
          13,
          10,
          4,
          10,
          9,
          15,
          10,
          7,
          6,
          8,
          13,
          13,
          7,
          6,
          9,
          4,
          4,
          6,
          10,
          9,
          4,
          7,
          5,
          4,
          2,
          11,
          4,
          4,
          8,
          11,
          17,
          11,
          8,
          7,
          11,
          4,
          4,
          9,
          4,
          19,
          6,
          14,
          6,
          24,
          18,
          5,
          11,
          5,
          6,
          18,
          2,
          4,
          10,
          13,
          7,
          7,
          15,
          6,
          6,
          7,
          4,
          3,
          8,
          5,
          9,
          7,
          11,
          10,
          12,
          5,
          20,
          14,
          7,
          7,
          3,
          7,
          8,
          10,
          7,
          11,
          5,
          8,
          7,
          12,
          7,
          14,
          11,
          10,
          12,
          9,
          10,
          5,
          7,
          6,
          9,
          10,
          9,
          8,
          12,
          10,
          6,
          6,
          12,
          13,
          11,
          9,
          11,
          3,
          12,
          12,
          15,
          12,
          9,
          12,
          10,
          7,
          9,
          10,
          6,
          7,
          8,
          6,
          6,
          6,
          8,
          11,
          7,
          8,
          8,
          10,
          14,
          16,
          9,
          8,
          11,
          6,
          10,
          11,
          16,
          5,
          7,
          12,
          6,
          6,
          11,
          11,
          12,
          10,
          11,
          15,
          11,
          6,
          7,
          11,
          5,
          21,
          5,
          10,
          9,
          7,
          14,
          11,
          5,
          8,
          6,
          17,
          19,
          11,
          6,
          18,
          6,
          3,
          8,
          12,
          7,
          7,
          14,
          13,
          2,
          12,
          11,
          9,
          16,
          12,
          11,
          5,
          9,
          8,
          11,
          8,
          17,
          5,
          5,
          10,
          8,
          10,
          6,
          10,
          10,
          12,
          13,
          8,
          5,
          6,
          4,
          4,
          4,
          4,
          4,
          4,
          4,
          4,
          4,
          5,
          5,
          7,
          4,
          4,
          4,
          4,
          4,
          4,
          4,
          4,
          4,
          4,
          5,
          4,
          4,
          4,
          4,
          4,
          4,
          4,
          4,
          4,
          4,
          4,
          4,
          4,
          4,
          4,
          4,
          4,
          4,
          4,
          4,
          4,
          4,
          4,
          4,
          6,
          9,
          6,
          10,
          10,
          8,
          4,
          8,
          10,
          6,
          9,
          16,
          6,
          5,
          8,
          10,
          6,
          17,
          10,
          10,
          6,
          8,
          7,
          10,
          19,
          14,
          13,
          10,
          6,
          5,
          18,
          18,
          10,
          13,
          10,
          6,
          7,
          4,
          9,
          8,
          14,
          6,
          9,
          7,
          13,
          14,
          11,
          9,
          9,
          3,
          8,
          6,
          8,
          21,
          11,
          9,
          9,
          14,
          6,
          6,
          8,
          11,
          11,
          7,
          9,
          9,
          9,
          10,
          7,
          9,
          9,
          5,
          9,
          12,
          4,
          13,
          10,
          10,
          8,
          4,
          6,
          14,
          10,
          8,
          5,
          7,
          5,
          9,
          11,
          6,
          9,
          15,
          6,
          11,
          5,
          11,
          7,
          8,
          12,
          10,
          6,
          4,
          10,
          10,
          12,
          12,
          9,
          8,
          6,
          9,
          9,
          6,
          13,
          9,
          8,
          7,
          13,
          6,
          10,
          7,
          7,
          8,
          7,
          12,
          7,
          9,
          5,
          12,
          9,
          14,
          10,
          13,
          5,
          6,
          6,
          8,
          10,
          11,
          14,
          11,
          8,
          6,
          9,
          12,
          4,
          10,
          6,
          6,
          6,
          5,
          8,
          13,
          14,
          7,
          13,
          7,
          7,
          10,
          6,
          14,
          5,
          9,
          7,
          10,
          6,
          7,
          7,
          13,
          5,
          7,
          14,
          9,
          6,
          6,
          6,
          6,
          6,
          6,
          6,
          6,
          6,
          10,
          4,
          8,
          5,
          9,
          8,
          5,
          10,
          4,
          6,
          7,
          7,
          14,
          16,
          15,
          11,
          5,
          5,
          6,
          5,
          5,
          5,
          6,
          6,
          7,
          7,
          9,
          6,
          5,
          5,
          7,
          10,
          11,
          6,
          13,
          5,
          11,
          4,
          11,
          10,
          12,
          8,
          3,
          3,
          6,
          3,
          6,
          6,
          7,
          3,
          5,
          11,
          9,
          11,
          9,
          4,
          6,
          15,
          13,
          5,
          9,
          10,
          13,
          16,
          6,
          9,
          11,
          7,
          7,
          6,
          11,
          10,
          13,
          8,
          10,
          3,
          11,
          3,
          8,
          6,
          15,
          5,
          9,
          7,
          3,
          6,
          8,
          6,
          7,
          7,
          12,
          8,
          8,
          2,
          2,
          7,
          12,
          4,
          20,
          8,
          11,
          6,
          4,
          7,
          6,
          10,
          13,
          6,
          6,
          8,
          11,
          6,
          10,
          13,
          13,
          14,
          5,
          7,
          9
         ],
         "xaxis": "x2",
         "yaxis": "y2"
        }
       ],
       "layout": {
        "barmode": "relative",
        "legend": {
         "title": {
          "text": "type"
         },
         "tracegroupgap": 0
        },
        "template": {
         "data": {
          "bar": [
           {
            "error_x": {
             "color": "#2a3f5f"
            },
            "error_y": {
             "color": "#2a3f5f"
            },
            "marker": {
             "line": {
              "color": "#E5ECF6",
              "width": 0.5
             },
             "pattern": {
              "fillmode": "overlay",
              "size": 10,
              "solidity": 0.2
             }
            },
            "type": "bar"
           }
          ],
          "barpolar": [
           {
            "marker": {
             "line": {
              "color": "#E5ECF6",
              "width": 0.5
             },
             "pattern": {
              "fillmode": "overlay",
              "size": 10,
              "solidity": 0.2
             }
            },
            "type": "barpolar"
           }
          ],
          "carpet": [
           {
            "aaxis": {
             "endlinecolor": "#2a3f5f",
             "gridcolor": "white",
             "linecolor": "white",
             "minorgridcolor": "white",
             "startlinecolor": "#2a3f5f"
            },
            "baxis": {
             "endlinecolor": "#2a3f5f",
             "gridcolor": "white",
             "linecolor": "white",
             "minorgridcolor": "white",
             "startlinecolor": "#2a3f5f"
            },
            "type": "carpet"
           }
          ],
          "choropleth": [
           {
            "colorbar": {
             "outlinewidth": 0,
             "ticks": ""
            },
            "type": "choropleth"
           }
          ],
          "contour": [
           {
            "colorbar": {
             "outlinewidth": 0,
             "ticks": ""
            },
            "colorscale": [
             [
              0,
              "#0d0887"
             ],
             [
              0.1111111111111111,
              "#46039f"
             ],
             [
              0.2222222222222222,
              "#7201a8"
             ],
             [
              0.3333333333333333,
              "#9c179e"
             ],
             [
              0.4444444444444444,
              "#bd3786"
             ],
             [
              0.5555555555555556,
              "#d8576b"
             ],
             [
              0.6666666666666666,
              "#ed7953"
             ],
             [
              0.7777777777777778,
              "#fb9f3a"
             ],
             [
              0.8888888888888888,
              "#fdca26"
             ],
             [
              1,
              "#f0f921"
             ]
            ],
            "type": "contour"
           }
          ],
          "contourcarpet": [
           {
            "colorbar": {
             "outlinewidth": 0,
             "ticks": ""
            },
            "type": "contourcarpet"
           }
          ],
          "heatmap": [
           {
            "colorbar": {
             "outlinewidth": 0,
             "ticks": ""
            },
            "colorscale": [
             [
              0,
              "#0d0887"
             ],
             [
              0.1111111111111111,
              "#46039f"
             ],
             [
              0.2222222222222222,
              "#7201a8"
             ],
             [
              0.3333333333333333,
              "#9c179e"
             ],
             [
              0.4444444444444444,
              "#bd3786"
             ],
             [
              0.5555555555555556,
              "#d8576b"
             ],
             [
              0.6666666666666666,
              "#ed7953"
             ],
             [
              0.7777777777777778,
              "#fb9f3a"
             ],
             [
              0.8888888888888888,
              "#fdca26"
             ],
             [
              1,
              "#f0f921"
             ]
            ],
            "type": "heatmap"
           }
          ],
          "heatmapgl": [
           {
            "colorbar": {
             "outlinewidth": 0,
             "ticks": ""
            },
            "colorscale": [
             [
              0,
              "#0d0887"
             ],
             [
              0.1111111111111111,
              "#46039f"
             ],
             [
              0.2222222222222222,
              "#7201a8"
             ],
             [
              0.3333333333333333,
              "#9c179e"
             ],
             [
              0.4444444444444444,
              "#bd3786"
             ],
             [
              0.5555555555555556,
              "#d8576b"
             ],
             [
              0.6666666666666666,
              "#ed7953"
             ],
             [
              0.7777777777777778,
              "#fb9f3a"
             ],
             [
              0.8888888888888888,
              "#fdca26"
             ],
             [
              1,
              "#f0f921"
             ]
            ],
            "type": "heatmapgl"
           }
          ],
          "histogram": [
           {
            "marker": {
             "pattern": {
              "fillmode": "overlay",
              "size": 10,
              "solidity": 0.2
             }
            },
            "type": "histogram"
           }
          ],
          "histogram2d": [
           {
            "colorbar": {
             "outlinewidth": 0,
             "ticks": ""
            },
            "colorscale": [
             [
              0,
              "#0d0887"
             ],
             [
              0.1111111111111111,
              "#46039f"
             ],
             [
              0.2222222222222222,
              "#7201a8"
             ],
             [
              0.3333333333333333,
              "#9c179e"
             ],
             [
              0.4444444444444444,
              "#bd3786"
             ],
             [
              0.5555555555555556,
              "#d8576b"
             ],
             [
              0.6666666666666666,
              "#ed7953"
             ],
             [
              0.7777777777777778,
              "#fb9f3a"
             ],
             [
              0.8888888888888888,
              "#fdca26"
             ],
             [
              1,
              "#f0f921"
             ]
            ],
            "type": "histogram2d"
           }
          ],
          "histogram2dcontour": [
           {
            "colorbar": {
             "outlinewidth": 0,
             "ticks": ""
            },
            "colorscale": [
             [
              0,
              "#0d0887"
             ],
             [
              0.1111111111111111,
              "#46039f"
             ],
             [
              0.2222222222222222,
              "#7201a8"
             ],
             [
              0.3333333333333333,
              "#9c179e"
             ],
             [
              0.4444444444444444,
              "#bd3786"
             ],
             [
              0.5555555555555556,
              "#d8576b"
             ],
             [
              0.6666666666666666,
              "#ed7953"
             ],
             [
              0.7777777777777778,
              "#fb9f3a"
             ],
             [
              0.8888888888888888,
              "#fdca26"
             ],
             [
              1,
              "#f0f921"
             ]
            ],
            "type": "histogram2dcontour"
           }
          ],
          "mesh3d": [
           {
            "colorbar": {
             "outlinewidth": 0,
             "ticks": ""
            },
            "type": "mesh3d"
           }
          ],
          "parcoords": [
           {
            "line": {
             "colorbar": {
              "outlinewidth": 0,
              "ticks": ""
             }
            },
            "type": "parcoords"
           }
          ],
          "pie": [
           {
            "automargin": true,
            "type": "pie"
           }
          ],
          "scatter": [
           {
            "fillpattern": {
             "fillmode": "overlay",
             "size": 10,
             "solidity": 0.2
            },
            "type": "scatter"
           }
          ],
          "scatter3d": [
           {
            "line": {
             "colorbar": {
              "outlinewidth": 0,
              "ticks": ""
             }
            },
            "marker": {
             "colorbar": {
              "outlinewidth": 0,
              "ticks": ""
             }
            },
            "type": "scatter3d"
           }
          ],
          "scattercarpet": [
           {
            "marker": {
             "colorbar": {
              "outlinewidth": 0,
              "ticks": ""
             }
            },
            "type": "scattercarpet"
           }
          ],
          "scattergeo": [
           {
            "marker": {
             "colorbar": {
              "outlinewidth": 0,
              "ticks": ""
             }
            },
            "type": "scattergeo"
           }
          ],
          "scattergl": [
           {
            "marker": {
             "colorbar": {
              "outlinewidth": 0,
              "ticks": ""
             }
            },
            "type": "scattergl"
           }
          ],
          "scattermapbox": [
           {
            "marker": {
             "colorbar": {
              "outlinewidth": 0,
              "ticks": ""
             }
            },
            "type": "scattermapbox"
           }
          ],
          "scatterpolar": [
           {
            "marker": {
             "colorbar": {
              "outlinewidth": 0,
              "ticks": ""
             }
            },
            "type": "scatterpolar"
           }
          ],
          "scatterpolargl": [
           {
            "marker": {
             "colorbar": {
              "outlinewidth": 0,
              "ticks": ""
             }
            },
            "type": "scatterpolargl"
           }
          ],
          "scatterternary": [
           {
            "marker": {
             "colorbar": {
              "outlinewidth": 0,
              "ticks": ""
             }
            },
            "type": "scatterternary"
           }
          ],
          "surface": [
           {
            "colorbar": {
             "outlinewidth": 0,
             "ticks": ""
            },
            "colorscale": [
             [
              0,
              "#0d0887"
             ],
             [
              0.1111111111111111,
              "#46039f"
             ],
             [
              0.2222222222222222,
              "#7201a8"
             ],
             [
              0.3333333333333333,
              "#9c179e"
             ],
             [
              0.4444444444444444,
              "#bd3786"
             ],
             [
              0.5555555555555556,
              "#d8576b"
             ],
             [
              0.6666666666666666,
              "#ed7953"
             ],
             [
              0.7777777777777778,
              "#fb9f3a"
             ],
             [
              0.8888888888888888,
              "#fdca26"
             ],
             [
              1,
              "#f0f921"
             ]
            ],
            "type": "surface"
           }
          ],
          "table": [
           {
            "cells": {
             "fill": {
              "color": "#EBF0F8"
             },
             "line": {
              "color": "white"
             }
            },
            "header": {
             "fill": {
              "color": "#C8D4E3"
             },
             "line": {
              "color": "white"
             }
            },
            "type": "table"
           }
          ]
         },
         "layout": {
          "annotationdefaults": {
           "arrowcolor": "#2a3f5f",
           "arrowhead": 0,
           "arrowwidth": 1
          },
          "autotypenumbers": "strict",
          "coloraxis": {
           "colorbar": {
            "outlinewidth": 0,
            "ticks": ""
           }
          },
          "colorscale": {
           "diverging": [
            [
             0,
             "#8e0152"
            ],
            [
             0.1,
             "#c51b7d"
            ],
            [
             0.2,
             "#de77ae"
            ],
            [
             0.3,
             "#f1b6da"
            ],
            [
             0.4,
             "#fde0ef"
            ],
            [
             0.5,
             "#f7f7f7"
            ],
            [
             0.6,
             "#e6f5d0"
            ],
            [
             0.7,
             "#b8e186"
            ],
            [
             0.8,
             "#7fbc41"
            ],
            [
             0.9,
             "#4d9221"
            ],
            [
             1,
             "#276419"
            ]
           ],
           "sequential": [
            [
             0,
             "#0d0887"
            ],
            [
             0.1111111111111111,
             "#46039f"
            ],
            [
             0.2222222222222222,
             "#7201a8"
            ],
            [
             0.3333333333333333,
             "#9c179e"
            ],
            [
             0.4444444444444444,
             "#bd3786"
            ],
            [
             0.5555555555555556,
             "#d8576b"
            ],
            [
             0.6666666666666666,
             "#ed7953"
            ],
            [
             0.7777777777777778,
             "#fb9f3a"
            ],
            [
             0.8888888888888888,
             "#fdca26"
            ],
            [
             1,
             "#f0f921"
            ]
           ],
           "sequentialminus": [
            [
             0,
             "#0d0887"
            ],
            [
             0.1111111111111111,
             "#46039f"
            ],
            [
             0.2222222222222222,
             "#7201a8"
            ],
            [
             0.3333333333333333,
             "#9c179e"
            ],
            [
             0.4444444444444444,
             "#bd3786"
            ],
            [
             0.5555555555555556,
             "#d8576b"
            ],
            [
             0.6666666666666666,
             "#ed7953"
            ],
            [
             0.7777777777777778,
             "#fb9f3a"
            ],
            [
             0.8888888888888888,
             "#fdca26"
            ],
            [
             1,
             "#f0f921"
            ]
           ]
          },
          "colorway": [
           "#636efa",
           "#EF553B",
           "#00cc96",
           "#ab63fa",
           "#FFA15A",
           "#19d3f3",
           "#FF6692",
           "#B6E880",
           "#FF97FF",
           "#FECB52"
          ],
          "font": {
           "color": "#2a3f5f"
          },
          "geo": {
           "bgcolor": "white",
           "lakecolor": "white",
           "landcolor": "#E5ECF6",
           "showlakes": true,
           "showland": true,
           "subunitcolor": "white"
          },
          "hoverlabel": {
           "align": "left"
          },
          "hovermode": "closest",
          "mapbox": {
           "style": "light"
          },
          "paper_bgcolor": "white",
          "plot_bgcolor": "#E5ECF6",
          "polar": {
           "angularaxis": {
            "gridcolor": "white",
            "linecolor": "white",
            "ticks": ""
           },
           "bgcolor": "#E5ECF6",
           "radialaxis": {
            "gridcolor": "white",
            "linecolor": "white",
            "ticks": ""
           }
          },
          "scene": {
           "xaxis": {
            "backgroundcolor": "#E5ECF6",
            "gridcolor": "white",
            "gridwidth": 2,
            "linecolor": "white",
            "showbackground": true,
            "ticks": "",
            "zerolinecolor": "white"
           },
           "yaxis": {
            "backgroundcolor": "#E5ECF6",
            "gridcolor": "white",
            "gridwidth": 2,
            "linecolor": "white",
            "showbackground": true,
            "ticks": "",
            "zerolinecolor": "white"
           },
           "zaxis": {
            "backgroundcolor": "#E5ECF6",
            "gridcolor": "white",
            "gridwidth": 2,
            "linecolor": "white",
            "showbackground": true,
            "ticks": "",
            "zerolinecolor": "white"
           }
          },
          "shapedefaults": {
           "line": {
            "color": "#2a3f5f"
           }
          },
          "ternary": {
           "aaxis": {
            "gridcolor": "white",
            "linecolor": "white",
            "ticks": ""
           },
           "baxis": {
            "gridcolor": "white",
            "linecolor": "white",
            "ticks": ""
           },
           "bgcolor": "#E5ECF6",
           "caxis": {
            "gridcolor": "white",
            "linecolor": "white",
            "ticks": ""
           }
          },
          "title": {
           "x": 0.05
          },
          "xaxis": {
           "automargin": true,
           "gridcolor": "white",
           "linecolor": "white",
           "ticks": "",
           "title": {
            "standoff": 15
           },
           "zerolinecolor": "white",
           "zerolinewidth": 2
          },
          "yaxis": {
           "automargin": true,
           "gridcolor": "white",
           "linecolor": "white",
           "ticks": "",
           "title": {
            "standoff": 15
           },
           "zerolinecolor": "white",
           "zerolinewidth": 2
          }
         }
        },
        "title": {
         "text": "Histogram of summary tokens count"
        },
        "xaxis": {
         "anchor": "y",
         "domain": [
          0,
          1
         ],
         "title": {
          "text": "count of tokens list"
         }
        },
        "xaxis2": {
         "anchor": "y2",
         "domain": [
          0,
          1
         ],
         "matches": "x",
         "showgrid": true,
         "showticklabels": false
        },
        "yaxis": {
         "anchor": "x",
         "domain": [
          0,
          0.7326
         ],
         "title": {
          "text": "count"
         }
        },
        "yaxis2": {
         "anchor": "x2",
         "domain": [
          0.7426,
          1
         ],
         "matches": "y2",
         "showgrid": false,
         "showline": false,
         "showticklabels": false,
         "ticks": ""
        }
       }
      },
      "text/html": [
       "<div>                            <div id=\"0ad5b652-7996-4408-aafa-eda91c3b672d\" class=\"plotly-graph-div\" style=\"height:525px; width:100%;\"></div>            <script type=\"text/javascript\">                require([\"plotly\"], function(Plotly) {                    window.PLOTLYENV=window.PLOTLYENV || {};                                    if (document.getElementById(\"0ad5b652-7996-4408-aafa-eda91c3b672d\")) {                    Plotly.newPlot(                        \"0ad5b652-7996-4408-aafa-eda91c3b672d\",                        [{\"alignmentgroup\":\"True\",\"bingroup\":\"x\",\"hovertemplate\":\"type=enhancement<br>count of tokens list=%{x}<br>count=%{y}<extra></extra>\",\"legendgroup\":\"enhancement\",\"marker\":{\"color\":\"#636efa\",\"opacity\":0.8,\"pattern\":{\"shape\":\"\"}},\"name\":\"enhancement\",\"offsetgroup\":\"enhancement\",\"orientation\":\"v\",\"showlegend\":true,\"x\":[19,12,8,12,7,25,8,19,11,15,8,18,9,11,9,13,20,16,10,12,10,8,10,10,7,5,11,19,10,5,11,11,7,6,2,17,9,25,16,16,7,6,8,7,11,3,4,5,5,5,7,11,9,6,11,11,7,2,22,9,6,8,6,5,8,11,6,11,8,8,6,5,13,6,12,10,5,11,16,12,4,10,15,6,6,19,9,32,10,7,19,8,22,10,38,12,12,5,8,7,9,17,13,7,7,6,10,18,7,9,12,20,2,12,8,10,11,5,6,8,4,11,12,7,10,8,8,10,13,9,10,8,4,10,7,12,7,14,18,6,6,9,11,3,3,16,13,13,10,10,9,8,7,16,8,7,10,10,3,6,13,11,11,6,13,12,8,11,11,10,18,13,18,4,14,6,8,10,11,10,13,5,12,9,13,2,14,28,17,4,6,7,20,12,15,9,8,8,12,14,10,5,10,6,9,8,5,13,15,3,6,10,8,13,9,25,10,15,7,6,5,13,13,7,12,9,9,3,14,9,3,16,9,12,12,18,12,7,18,9,8,21,4,18,6,15,10,22,7,19,5,5,16,7,8,15,12,17,9,11,12,27,10,7,25,17,7,13,10,5,9,9,5,11,18,4,20,7,4,17,6,6,12,12,10,12,11,8,12,12,11,9,4,21,16,13,9,9,11,10,10,10,10,10,10,9,6,10,8,8,10,13,15,5,7,27,27,12,2,21,5,29,17,15,14,13,7,14,25,13,17,8,7,15,8,15,6,3,10,9,31,16,13,3,7,24,5,13,23,11,17,8,12,11,13,15,22,18,8,9,10,6,16,10,7,7,4,15,10,12,16,9,6,9,11,9,20,8,13,2,15,12,16,4,10,17,8,9,12,10,18,17,11,11,8,7,3,4,17,4,6,11,7,13,14,6,8,15,20,16,9,8,23,12,7,6,14,23,30,8,12,14,3,7,9,8,12,9,15,21,13,13,14,9,22,7,12,8,13,12,9,6,6,4,20,8,26,6,3,5,9,9,7,12,8,10,13,11,7,11,7,18,5,9,6,4,8,5,7,4,9,18,11,21,6,5,15,16,10,7,16,6,17,9,7,9,24,17,8,11,7,6,7,23,27,10,4,6,10,6,7,11,11,14,9,7,9,10,30,13,6,4,22,13,10,11,15,13,5,9,25,25,7,5,23,9,15,8,6,6,15,11,8,9,23,9,11,10,13,8,4,4,11,10,6,9,9,7,8,9,11,23,12,6,18,14,7,6,6,13,22,4,9,6,12,2,9,7,14,2,11,16,12,8,5,12,13,18,17,10,10,12,8,11,10,9,5,8,12,12,12,8,11,17,19,7,26,14,11,19,9,11,25,23,8,5,24,14,10,7,7,5,8,10,26,5,11,4,9,13,11,9,12,7,27,11,8,6,8,4,5,21,18,19,5,20,8,11,11,5,27,5,4,7,12,30,4,5,5,3,5,7,9,10,3,19,9,10,7,16,4,11,6,8,8,6,10,3,6,8,4,8,8,14,5,6,9,4,4,20,10,11,8,22,9,14,5,14,11,12,6,4,7,14,8,7,11,12,11,6,8,6,9,7,6,16,11,11,7,10,10,4,5,7,19,6,9,4,34,6,16,3,3,8,3,3,16,15,9,13,7,4,3,5,8,10,8,5,4,6,13,6,3,8,4,12,13,15,6,11,15,5,9,9,7,9,11,7,6,10,9,10,6,7,16,7,7,3,6,9,8,14,19,8,15,13,12,9,10,7,6,13,10,5,11,8,11,7,6,12,6,7,9,8,8,8,5,16,6,8,8,17,15,7,7,6,30,5,12,31,9,7,20,3,6,5,5,11,14,12,6,6,10,7,25,9,7,7,5,11,8,6,7,7,4,5,5,9,9,11,11,16,15,6,16,5,2,22,6,5,4,15,9,9,6,25,9,24,7,14,12,5,4,7,9,7,7,9,8,5,7,9,39,12,10,12,7,17,16,11,15,10,3,13,9,10,23,29,12,9,9,15,15,7,20,9,10,6,7,7,9,10,23,14,9,5,16,3,2,6,15,7,13,5,10,10,7,11,6,7,11,10,6,5,5,7,12,12,8,7,11,6,11,5,8,6,8,9,11,14,14,6,10,6,18,11,11,4,5,6,6,8,17,7,4,13,11,6,5,10,14,9,5,8,11,9,5,9,12,8,8,6,5,11,11,7,7,6,12,11,11,7,8,8,10,14,14,11,4,15,10,10,9,10,9,7,4,12,7,8,4,7,20,8,19,17,6,10,8,9,12,9,8,7,15,6,19,6,5,17,12,7,5,8,13,12,11,7,5,19,9,8,11,6,8,4,7,16,7,5,5,7,9,9,6,12,9,5,3,12,13,8,16,10,5,6,8,12,9,7,8,6,16,10,6,2,15,4,9,10,5,5,7,8,4,7,14,6,12,22,7,9,2,2,2,6,6,4,12,3,8,16,6,7,12,11,8,10,9,10,9,8,9,8,6,6,13,8,8,20,5,7,11,7,13,5,13,14,19,12,8,5,12,6,7,8,6,9,16,12,14,12,4,18,8,7,9,14,13,7,8,25,6,9,18,9,6,4,11,10,14,9,10,9,10,9,6,12,9,15,9,8,7,15,8,8,17,7,4,10,12,11,11,19,15,5,8,8,8,14,9,10,10,6,16,10,15,11,10,9,6,17,14,9,7,17,10,16,9,13,12,6,9,9,10,15,6,18,8,11,11,8,9,5,5,5,6,9,20,12,6,9,12,5,10,9,4,12,5,4,5,19,12,9,9,7,7,10,5,8,6,6,13,7,13,2,7,7,8,12,7,5,9,4,6,3,6,15,9,8,9,12,4,14,11,10,14,10,17,21,13,10,11,4,10,5,7,21,13,13,7,11,8,7,17,6,9,5,9,8,11,7,4,12,6,12,8,9,14,10,10,4,8,8,16,11,5,10,11,4,8,6,5,5,14,8,7,19,17,15,6,11,7,15,8,8,10,10,4,6,4,9,7,15,12,10,13,19,13,4,7,13,6,11,15,6,5,7,19,16,9,12,7,8,10,9,7,11,8,6,3,9,5,9,17,8,7,8,14,7,13,5,6,19,7,8,7,12,8,13,9,10,2,6,11,10,14,11,3,10,24,5,7,7,9,8,7,7,11,13,10,11,11,11,11,10,9,7,11,11,7,4,13,11,7,9,11,9,9,6,4,10,7,9,21,5,9,15,15,9,12,7,5,19,7,7,6,7,7,7,5,6,5,8,8,11,5,11,16,8,21,10,10,7,3,6,18,10,3,6,18,9,19,18,13,17,11,15,14,10,7,9,10,10,8,15,10,9,7,5,17,7,11,2,13,10,8,8,9,21,8,10,7,12,8,6,8,15,10,7,4,8,7,14,13,10,5,10,7,16,10,9,10,16,4,10,16,7,5,3,12,13,5,9,7,6,10,5,14,10,14,11,4,7,8,8,10,12,7,7,10,10,7,6,8,7,7,9,8,8,11,9,10,6,5,11,12,10,6,12,19,8,5,6,12,7,10,8,10,16,12,8,5,8,9,12,10,3,7,9,10,8,5,4,16,14,11,10,8,6,12,7,8,9,8,13,6,8,9,8,10,7,13,17,10,11,10,12,9,23,7,7,10,9,6,8,5,9,10,4,11,7,11,5,7,5,8,8,9,8,5,14,10,9,7,7,5,8,15,15,11,9,5,11,13,12,8,6,6,7,6,11,6,13,13,9,4,4,4,4,4,4,11,8,6,7,11,7,7,7,6,14,8,5,10,14,10,8,8,13,5,9,5,11,9,12,5,14,12,13,8,13,10,10,13,9,2,6,12,9,9,8,4,7,2,11,5,9,5,4,25,11,5,11,7,16,10,13,8,6,9,4,10,13,10,9,8,10,13,13,10,12,4,10,15,8,7,12,10,7,18,9,6,6,10,7,6,16,8,10,12,13,8,8,6,4,8,7,9,8,10,10,12,10,8,9,9,8,14,10,13,8,8,16,10,16,7,7,8,4,6,9,5,11,3,12,8,8,24,7,12,12,5,19,6,10,11,12,13,12,11,10,4,17,10,9,10,16,6,6,9,9,9,17,8,12,10,6,9,6,7,5,10,16,7,4,4,8,16,12,8,11,7,7,16,8,11,17,10,31,14,15,4,15,7,8,8,8,8,8,16,11,9,9,10,10,8,7,6,9,13,6,9,6,7,8,6,7,5,13,2,4,10,5,8,11,10,6,6,7,11,11,9,10,4,6,7,5,5,5,4,5,13,10,10,6,9,9,6,7,5,10,6,2,3,24,14,11,8,8,6,22,11,9,13,4,15,10,9,6,9,9,6,6,6,11,6,12,9,7,7,15,5,8,7,7,4,10,10,7,9,6,9,10,15,5,5,8,5,12,6,9,7,7,7,9,12,6,4,9,8,21,12,18,13,15,7,5,7,5,4,9,5,5,5,5,5,9,4,17,7,6,12,6,9,8,10,15,6,6,12,12,6,8,10,5,10,7,7,4,11,4,4,11,6,7,8,9,5,9,15,14,5,6,7,7,18,12,9,8,6,6,11,7,14,7,12,7,8,4,8,11,7,14,5,2,8,19,5,8,6,11,6,7,7,8,9,10,6,4,11,4,4,2,16,8,9,14,10,8,9,18,7,3,6,9,8,8,8,5,7,6,13,3,8,10,8,6,9,11,2,7,5,6,14,11,15,12,5,2,13,9,5,7,8,20,6,6,9,4,4,11,5,7,9,10,6,6,7,8,24,11,11,2,9,10,5,13,9,8,8,7,14,12,14,17,17,5,7,5,5,10,8,9,14,7,5,5,5,5,10,7,18,8,10,8,11,16,6,8,6,8,8,8,23,15,8,7,4,8,9,9,7,6,8,11,5,14,7,11,8,12,5,5,2,11,10,12,13,13,13,14,7,6,11,7,7,6,6,9,8,9,12,10,9,8,9,10,9,4,9,11,16,8,12,6,7,5,11,8,19,5,12,11,6,6,6,8,6,10,8,6,7,7,5,15,16,5,5,8,10,5,7,6,5,6,10,6,8,11,11,10,11,3,12,6,15,7,5,18,4,10,3,7,8,5,9,9,8,9,9,12,7,12,8,5,16,2,8,7,5,15,10,10,6,9,10,9,4,3,14,8,18,8,7,6,8,8,10,10,15,20,10,6,5,6,13,14,8,7,9,10,15,2,7,13,19,7,6,6,4,3,11,14,9,10,12,7,10,7,8,6,7,9,5,4,10,11,9,20,12,5,10,10,9,14,10,8,11,8,3,7,10,3,12,9,13,10,13,4,6,5,9,10,12,6,6,5,4,5,7,11,5,5,8,9,9,14,8,8,6,7,6,10,6,9,6,8,7,7,14,10,7,11,7,2,8,9,7,5,7,13,10,14,7,27,6,8,9,6,13,10,11,9,12,7,8,9,10,17,15,6,6,11,9,8,7,4,6,14,12,7,6,6,3,9,9,14,15,7,7,10,13,9,6,6,9,12,10,6,9,8,5,11,7,4,12,9,9,12,5,14,10,9,6,6,6,14,11,9,2,10,4,13,9,10,10,10,10,10,5,6,7,13,10,10,14,14,4,10,24,21,2,10,15,21,6,13,4,6,11,11,13,8,6,10,4,8,10,7,8,5,8,11,4,5,4,5,4,4,15,6,6,10,9,8,17,13,4,10,17,5,8,6,7,5,15,14,8,13,14,5,9,7,7,10,14,12,7,10,23,8,6,7,7,7,5,5,5,16,7,9,12,15,12,11,5,9,9,9,9,9,4,7,18,11,9,8,15,12,10,8,7,3,11,6,4,7,2,15,17,4,12,5,7,7,7,8,6,11,12,8,3,10,19,9,9,7,8,3,3,7,6,6,10,9,9,6,8,7,14,17,10,8,12,6,14,4,13,8,11,9,5,8,4,7,15,13,11,4,10,6,14,5,15,5,9,11,6,13,7,12,16,12,8,17,8,13,6,10,6,7,9,2,8,4,8,11,8,9,11,13,10,4,11,4,4,4,10,4,4,8,4,11,5,6,9,11,6,5,11,5,6,7,17,8,7,11,12,9,9,9,4,6,8,10,10,7,12,7,8,6,5,8,7,8,6,10,11,11,13,6,11,10,7,7,4,12,15,19,8,4,7,2,13,8,22,9,9,11,10,14,10,5,14,10,5,6,4,14,9,10,24,11,10,5,6,9,14,5,5,10,22,4,12,12,9,11,9,11,10,25,15,10,7,4,7,5,4,5,9,9,8,15,14,10,11,15,19,11,13,12,15,12,6,9,7,8,11,5,12,10,9,15,13,10,6,7,4,8,5,8,5,9,4,8,8,5,14,9,8,11,18,3,4,7,4,4,13,24,7,16,5,6,10,10,3,16,13,14,7,8,5,7,9,11,5,8,10,12,8,8,9,9,8,9,5,8,10,6,7,13,13,8,14,14,9,12,15,11,12,6,8,7,8,9,6,8,8,6,14,6,12,6,10,8,11,15,13,12,10,9,9,6,11,5,6,6,10,8,9,14,6,5,6,5,11,11,11,13,13,10,9,14,7,6,13,11,8,8,12,4,6,14,17,7,10,8,5,10,7,13,6,11,9,7,10,10,5,4,9,10,10,5,5,10,10,5,10,10,2,7,6,6,6,10,10,7,8,7,7,7,10,10,11,5,9,8,14,10,3,21,10,11,5,6,13,15,18,6,20,20,12,11,10,8,8,8,16,8,5,8,6,11,7,12,10,10,10,10,13,8,8,9,9,10,7,12,9,16,8,7,8,11,4,13,7,7,5,6,8,6,16,4,6,6,14,11,6,10,8,6,7,14,8,8,7,3,12,10,6,16,14,4,9,8,6,8,14,12,9,10,14,6,6,9,5,10,4,8,5,11,13,18,8,7,3,5,16,15,10,10,9,9,8,16,6,8,10,12,7,10,8,7,14,10,9,7,4,6,6,6,5,10,5,7,9,8,15,10,5,14,10,7,14,13,7,9,11,12,5,6,13,4,2,7,13,11,4,4,5,9,9,19,7,6,9,6,6,10,6,7,11,4,7,4,10,6,7,2,7,3,13,11,18,10,14,5,4,8,8,7,6,12,9,7,15,8,20,6,13,8,15,7,4,8,11,5,7,10,12,7,7,4,6,9,12,6,8,18,10,6,7,6,8,19,8,14,7,10,6,16,12,12,4,6,10,5,9,13,8,9,3,11,8,12,13,22,7,8,6,6,2,3,7,24,6,7,7,7,15,12,9,9,12,8,13,4,6,18,8,7,8,8,5,8,9,11,8,10,10,10,10,13,13,14,7,12,12,11,13,5,4,12,15,7,8,5,25,26,7,19,10,8,12,22,20,20,24,22,5,10,10,10,7,10,10,9,5,12,15,8,11,12,15,8,6,16,21,9,6,3,8,14,6,8,7,10,7,8,8,4,7,5,12,9,8,5,8,6,7,8,8,5,8,6,21,35,8,5,4,12,7,17,6,14,3,7,23,11,7,15,10,12,6,10,9],\"xaxis\":\"x\",\"yaxis\":\"y\",\"type\":\"histogram\"},{\"alignmentgroup\":\"True\",\"hovertemplate\":\"type=enhancement<br>count of tokens list=%{x}<extra></extra>\",\"legendgroup\":\"enhancement\",\"marker\":{\"color\":\"#636efa\"},\"name\":\"enhancement\",\"notched\":true,\"offsetgroup\":\"enhancement\",\"showlegend\":false,\"x\":[19,12,8,12,7,25,8,19,11,15,8,18,9,11,9,13,20,16,10,12,10,8,10,10,7,5,11,19,10,5,11,11,7,6,2,17,9,25,16,16,7,6,8,7,11,3,4,5,5,5,7,11,9,6,11,11,7,2,22,9,6,8,6,5,8,11,6,11,8,8,6,5,13,6,12,10,5,11,16,12,4,10,15,6,6,19,9,32,10,7,19,8,22,10,38,12,12,5,8,7,9,17,13,7,7,6,10,18,7,9,12,20,2,12,8,10,11,5,6,8,4,11,12,7,10,8,8,10,13,9,10,8,4,10,7,12,7,14,18,6,6,9,11,3,3,16,13,13,10,10,9,8,7,16,8,7,10,10,3,6,13,11,11,6,13,12,8,11,11,10,18,13,18,4,14,6,8,10,11,10,13,5,12,9,13,2,14,28,17,4,6,7,20,12,15,9,8,8,12,14,10,5,10,6,9,8,5,13,15,3,6,10,8,13,9,25,10,15,7,6,5,13,13,7,12,9,9,3,14,9,3,16,9,12,12,18,12,7,18,9,8,21,4,18,6,15,10,22,7,19,5,5,16,7,8,15,12,17,9,11,12,27,10,7,25,17,7,13,10,5,9,9,5,11,18,4,20,7,4,17,6,6,12,12,10,12,11,8,12,12,11,9,4,21,16,13,9,9,11,10,10,10,10,10,10,9,6,10,8,8,10,13,15,5,7,27,27,12,2,21,5,29,17,15,14,13,7,14,25,13,17,8,7,15,8,15,6,3,10,9,31,16,13,3,7,24,5,13,23,11,17,8,12,11,13,15,22,18,8,9,10,6,16,10,7,7,4,15,10,12,16,9,6,9,11,9,20,8,13,2,15,12,16,4,10,17,8,9,12,10,18,17,11,11,8,7,3,4,17,4,6,11,7,13,14,6,8,15,20,16,9,8,23,12,7,6,14,23,30,8,12,14,3,7,9,8,12,9,15,21,13,13,14,9,22,7,12,8,13,12,9,6,6,4,20,8,26,6,3,5,9,9,7,12,8,10,13,11,7,11,7,18,5,9,6,4,8,5,7,4,9,18,11,21,6,5,15,16,10,7,16,6,17,9,7,9,24,17,8,11,7,6,7,23,27,10,4,6,10,6,7,11,11,14,9,7,9,10,30,13,6,4,22,13,10,11,15,13,5,9,25,25,7,5,23,9,15,8,6,6,15,11,8,9,23,9,11,10,13,8,4,4,11,10,6,9,9,7,8,9,11,23,12,6,18,14,7,6,6,13,22,4,9,6,12,2,9,7,14,2,11,16,12,8,5,12,13,18,17,10,10,12,8,11,10,9,5,8,12,12,12,8,11,17,19,7,26,14,11,19,9,11,25,23,8,5,24,14,10,7,7,5,8,10,26,5,11,4,9,13,11,9,12,7,27,11,8,6,8,4,5,21,18,19,5,20,8,11,11,5,27,5,4,7,12,30,4,5,5,3,5,7,9,10,3,19,9,10,7,16,4,11,6,8,8,6,10,3,6,8,4,8,8,14,5,6,9,4,4,20,10,11,8,22,9,14,5,14,11,12,6,4,7,14,8,7,11,12,11,6,8,6,9,7,6,16,11,11,7,10,10,4,5,7,19,6,9,4,34,6,16,3,3,8,3,3,16,15,9,13,7,4,3,5,8,10,8,5,4,6,13,6,3,8,4,12,13,15,6,11,15,5,9,9,7,9,11,7,6,10,9,10,6,7,16,7,7,3,6,9,8,14,19,8,15,13,12,9,10,7,6,13,10,5,11,8,11,7,6,12,6,7,9,8,8,8,5,16,6,8,8,17,15,7,7,6,30,5,12,31,9,7,20,3,6,5,5,11,14,12,6,6,10,7,25,9,7,7,5,11,8,6,7,7,4,5,5,9,9,11,11,16,15,6,16,5,2,22,6,5,4,15,9,9,6,25,9,24,7,14,12,5,4,7,9,7,7,9,8,5,7,9,39,12,10,12,7,17,16,11,15,10,3,13,9,10,23,29,12,9,9,15,15,7,20,9,10,6,7,7,9,10,23,14,9,5,16,3,2,6,15,7,13,5,10,10,7,11,6,7,11,10,6,5,5,7,12,12,8,7,11,6,11,5,8,6,8,9,11,14,14,6,10,6,18,11,11,4,5,6,6,8,17,7,4,13,11,6,5,10,14,9,5,8,11,9,5,9,12,8,8,6,5,11,11,7,7,6,12,11,11,7,8,8,10,14,14,11,4,15,10,10,9,10,9,7,4,12,7,8,4,7,20,8,19,17,6,10,8,9,12,9,8,7,15,6,19,6,5,17,12,7,5,8,13,12,11,7,5,19,9,8,11,6,8,4,7,16,7,5,5,7,9,9,6,12,9,5,3,12,13,8,16,10,5,6,8,12,9,7,8,6,16,10,6,2,15,4,9,10,5,5,7,8,4,7,14,6,12,22,7,9,2,2,2,6,6,4,12,3,8,16,6,7,12,11,8,10,9,10,9,8,9,8,6,6,13,8,8,20,5,7,11,7,13,5,13,14,19,12,8,5,12,6,7,8,6,9,16,12,14,12,4,18,8,7,9,14,13,7,8,25,6,9,18,9,6,4,11,10,14,9,10,9,10,9,6,12,9,15,9,8,7,15,8,8,17,7,4,10,12,11,11,19,15,5,8,8,8,14,9,10,10,6,16,10,15,11,10,9,6,17,14,9,7,17,10,16,9,13,12,6,9,9,10,15,6,18,8,11,11,8,9,5,5,5,6,9,20,12,6,9,12,5,10,9,4,12,5,4,5,19,12,9,9,7,7,10,5,8,6,6,13,7,13,2,7,7,8,12,7,5,9,4,6,3,6,15,9,8,9,12,4,14,11,10,14,10,17,21,13,10,11,4,10,5,7,21,13,13,7,11,8,7,17,6,9,5,9,8,11,7,4,12,6,12,8,9,14,10,10,4,8,8,16,11,5,10,11,4,8,6,5,5,14,8,7,19,17,15,6,11,7,15,8,8,10,10,4,6,4,9,7,15,12,10,13,19,13,4,7,13,6,11,15,6,5,7,19,16,9,12,7,8,10,9,7,11,8,6,3,9,5,9,17,8,7,8,14,7,13,5,6,19,7,8,7,12,8,13,9,10,2,6,11,10,14,11,3,10,24,5,7,7,9,8,7,7,11,13,10,11,11,11,11,10,9,7,11,11,7,4,13,11,7,9,11,9,9,6,4,10,7,9,21,5,9,15,15,9,12,7,5,19,7,7,6,7,7,7,5,6,5,8,8,11,5,11,16,8,21,10,10,7,3,6,18,10,3,6,18,9,19,18,13,17,11,15,14,10,7,9,10,10,8,15,10,9,7,5,17,7,11,2,13,10,8,8,9,21,8,10,7,12,8,6,8,15,10,7,4,8,7,14,13,10,5,10,7,16,10,9,10,16,4,10,16,7,5,3,12,13,5,9,7,6,10,5,14,10,14,11,4,7,8,8,10,12,7,7,10,10,7,6,8,7,7,9,8,8,11,9,10,6,5,11,12,10,6,12,19,8,5,6,12,7,10,8,10,16,12,8,5,8,9,12,10,3,7,9,10,8,5,4,16,14,11,10,8,6,12,7,8,9,8,13,6,8,9,8,10,7,13,17,10,11,10,12,9,23,7,7,10,9,6,8,5,9,10,4,11,7,11,5,7,5,8,8,9,8,5,14,10,9,7,7,5,8,15,15,11,9,5,11,13,12,8,6,6,7,6,11,6,13,13,9,4,4,4,4,4,4,11,8,6,7,11,7,7,7,6,14,8,5,10,14,10,8,8,13,5,9,5,11,9,12,5,14,12,13,8,13,10,10,13,9,2,6,12,9,9,8,4,7,2,11,5,9,5,4,25,11,5,11,7,16,10,13,8,6,9,4,10,13,10,9,8,10,13,13,10,12,4,10,15,8,7,12,10,7,18,9,6,6,10,7,6,16,8,10,12,13,8,8,6,4,8,7,9,8,10,10,12,10,8,9,9,8,14,10,13,8,8,16,10,16,7,7,8,4,6,9,5,11,3,12,8,8,24,7,12,12,5,19,6,10,11,12,13,12,11,10,4,17,10,9,10,16,6,6,9,9,9,17,8,12,10,6,9,6,7,5,10,16,7,4,4,8,16,12,8,11,7,7,16,8,11,17,10,31,14,15,4,15,7,8,8,8,8,8,16,11,9,9,10,10,8,7,6,9,13,6,9,6,7,8,6,7,5,13,2,4,10,5,8,11,10,6,6,7,11,11,9,10,4,6,7,5,5,5,4,5,13,10,10,6,9,9,6,7,5,10,6,2,3,24,14,11,8,8,6,22,11,9,13,4,15,10,9,6,9,9,6,6,6,11,6,12,9,7,7,15,5,8,7,7,4,10,10,7,9,6,9,10,15,5,5,8,5,12,6,9,7,7,7,9,12,6,4,9,8,21,12,18,13,15,7,5,7,5,4,9,5,5,5,5,5,9,4,17,7,6,12,6,9,8,10,15,6,6,12,12,6,8,10,5,10,7,7,4,11,4,4,11,6,7,8,9,5,9,15,14,5,6,7,7,18,12,9,8,6,6,11,7,14,7,12,7,8,4,8,11,7,14,5,2,8,19,5,8,6,11,6,7,7,8,9,10,6,4,11,4,4,2,16,8,9,14,10,8,9,18,7,3,6,9,8,8,8,5,7,6,13,3,8,10,8,6,9,11,2,7,5,6,14,11,15,12,5,2,13,9,5,7,8,20,6,6,9,4,4,11,5,7,9,10,6,6,7,8,24,11,11,2,9,10,5,13,9,8,8,7,14,12,14,17,17,5,7,5,5,10,8,9,14,7,5,5,5,5,10,7,18,8,10,8,11,16,6,8,6,8,8,8,23,15,8,7,4,8,9,9,7,6,8,11,5,14,7,11,8,12,5,5,2,11,10,12,13,13,13,14,7,6,11,7,7,6,6,9,8,9,12,10,9,8,9,10,9,4,9,11,16,8,12,6,7,5,11,8,19,5,12,11,6,6,6,8,6,10,8,6,7,7,5,15,16,5,5,8,10,5,7,6,5,6,10,6,8,11,11,10,11,3,12,6,15,7,5,18,4,10,3,7,8,5,9,9,8,9,9,12,7,12,8,5,16,2,8,7,5,15,10,10,6,9,10,9,4,3,14,8,18,8,7,6,8,8,10,10,15,20,10,6,5,6,13,14,8,7,9,10,15,2,7,13,19,7,6,6,4,3,11,14,9,10,12,7,10,7,8,6,7,9,5,4,10,11,9,20,12,5,10,10,9,14,10,8,11,8,3,7,10,3,12,9,13,10,13,4,6,5,9,10,12,6,6,5,4,5,7,11,5,5,8,9,9,14,8,8,6,7,6,10,6,9,6,8,7,7,14,10,7,11,7,2,8,9,7,5,7,13,10,14,7,27,6,8,9,6,13,10,11,9,12,7,8,9,10,17,15,6,6,11,9,8,7,4,6,14,12,7,6,6,3,9,9,14,15,7,7,10,13,9,6,6,9,12,10,6,9,8,5,11,7,4,12,9,9,12,5,14,10,9,6,6,6,14,11,9,2,10,4,13,9,10,10,10,10,10,5,6,7,13,10,10,14,14,4,10,24,21,2,10,15,21,6,13,4,6,11,11,13,8,6,10,4,8,10,7,8,5,8,11,4,5,4,5,4,4,15,6,6,10,9,8,17,13,4,10,17,5,8,6,7,5,15,14,8,13,14,5,9,7,7,10,14,12,7,10,23,8,6,7,7,7,5,5,5,16,7,9,12,15,12,11,5,9,9,9,9,9,4,7,18,11,9,8,15,12,10,8,7,3,11,6,4,7,2,15,17,4,12,5,7,7,7,8,6,11,12,8,3,10,19,9,9,7,8,3,3,7,6,6,10,9,9,6,8,7,14,17,10,8,12,6,14,4,13,8,11,9,5,8,4,7,15,13,11,4,10,6,14,5,15,5,9,11,6,13,7,12,16,12,8,17,8,13,6,10,6,7,9,2,8,4,8,11,8,9,11,13,10,4,11,4,4,4,10,4,4,8,4,11,5,6,9,11,6,5,11,5,6,7,17,8,7,11,12,9,9,9,4,6,8,10,10,7,12,7,8,6,5,8,7,8,6,10,11,11,13,6,11,10,7,7,4,12,15,19,8,4,7,2,13,8,22,9,9,11,10,14,10,5,14,10,5,6,4,14,9,10,24,11,10,5,6,9,14,5,5,10,22,4,12,12,9,11,9,11,10,25,15,10,7,4,7,5,4,5,9,9,8,15,14,10,11,15,19,11,13,12,15,12,6,9,7,8,11,5,12,10,9,15,13,10,6,7,4,8,5,8,5,9,4,8,8,5,14,9,8,11,18,3,4,7,4,4,13,24,7,16,5,6,10,10,3,16,13,14,7,8,5,7,9,11,5,8,10,12,8,8,9,9,8,9,5,8,10,6,7,13,13,8,14,14,9,12,15,11,12,6,8,7,8,9,6,8,8,6,14,6,12,6,10,8,11,15,13,12,10,9,9,6,11,5,6,6,10,8,9,14,6,5,6,5,11,11,11,13,13,10,9,14,7,6,13,11,8,8,12,4,6,14,17,7,10,8,5,10,7,13,6,11,9,7,10,10,5,4,9,10,10,5,5,10,10,5,10,10,2,7,6,6,6,10,10,7,8,7,7,7,10,10,11,5,9,8,14,10,3,21,10,11,5,6,13,15,18,6,20,20,12,11,10,8,8,8,16,8,5,8,6,11,7,12,10,10,10,10,13,8,8,9,9,10,7,12,9,16,8,7,8,11,4,13,7,7,5,6,8,6,16,4,6,6,14,11,6,10,8,6,7,14,8,8,7,3,12,10,6,16,14,4,9,8,6,8,14,12,9,10,14,6,6,9,5,10,4,8,5,11,13,18,8,7,3,5,16,15,10,10,9,9,8,16,6,8,10,12,7,10,8,7,14,10,9,7,4,6,6,6,5,10,5,7,9,8,15,10,5,14,10,7,14,13,7,9,11,12,5,6,13,4,2,7,13,11,4,4,5,9,9,19,7,6,9,6,6,10,6,7,11,4,7,4,10,6,7,2,7,3,13,11,18,10,14,5,4,8,8,7,6,12,9,7,15,8,20,6,13,8,15,7,4,8,11,5,7,10,12,7,7,4,6,9,12,6,8,18,10,6,7,6,8,19,8,14,7,10,6,16,12,12,4,6,10,5,9,13,8,9,3,11,8,12,13,22,7,8,6,6,2,3,7,24,6,7,7,7,15,12,9,9,12,8,13,4,6,18,8,7,8,8,5,8,9,11,8,10,10,10,10,13,13,14,7,12,12,11,13,5,4,12,15,7,8,5,25,26,7,19,10,8,12,22,20,20,24,22,5,10,10,10,7,10,10,9,5,12,15,8,11,12,15,8,6,16,21,9,6,3,8,14,6,8,7,10,7,8,8,4,7,5,12,9,8,5,8,6,7,8,8,5,8,6,21,35,8,5,4,12,7,17,6,14,3,7,23,11,7,15,10,12,6,10,9],\"xaxis\":\"x2\",\"yaxis\":\"y2\",\"type\":\"box\"},{\"alignmentgroup\":\"True\",\"bingroup\":\"x\",\"hovertemplate\":\"type=task<br>count of tokens list=%{x}<br>count=%{y}<extra></extra>\",\"legendgroup\":\"task\",\"marker\":{\"color\":\"#EF553B\",\"opacity\":0.8,\"pattern\":{\"shape\":\"\"}},\"name\":\"task\",\"offsetgroup\":\"task\",\"orientation\":\"v\",\"showlegend\":true,\"x\":[12,7,9,6,4,4,16,4,8,8,9,6,11,8,35,9,5,7,15,9,8,10,9,11,12,11,6,6,7,12,9,5,6,5,7,7,8,7,8,7,11,7,16,10,6,9,5,7,6,8,5,6,9,10,5,11,9,13,7,11,5,12,6,5,9,8,3,10,7,10,5,5,5,6,5,5,5,5,5,5,6,6,7,6,6,6,6,7,6,6,3,9,6,20,11,11,7,17,6,6,9,8,8,5,5,5,6,6,10,9,7,8,12,10,9,6,9,14,7,5,6,5,6,6,6,6,6,6,5,5,5,5,6,6,5,5,5,5,5,5,6,6,5,5,5,6,5,5,5,5,5,5,5,5,5,5,5,6,6,6,5,6,5,6,5,5,5,5,5,5,5,5,5,8,5,4,11,3,4,6,6,10,5,6,10,17,7,3,5,4,7,13,7,11,11,11,7,8,9,11,3,5,8,10,12,12,7,5,8,4,8,7,5,10,13,8,5,13,13,7,7,5,14,19,9,10,7,7,7,7,13,11,10,6,4,7,6,15,12,9,4,4,12,10,8,19,11,9,15,13,2,12,13,6,7,4,3,5,15,17,7,12,3,14,16,13,6,14,6,6,16,13,10,9,16,9,9,9,11,11,12,10,6,6,6,7,6,13,5,9,9,9,9,12,11,16,17,8,6,10,8,2,9,7,9,7,6,8,7,11,8,7,7,6,7,4,8,6,13,11,8,10,12,4,9,13,14,8,8,6,8,6,10,9,7,12,10,13,10,4,10,9,15,10,7,6,8,13,13,7,6,9,4,4,6,10,9,4,7,5,4,2,11,4,4,8,11,17,11,8,7,11,4,4,9,4,19,6,14,6,24,18,5,11,5,6,18,2,4,10,13,7,7,15,6,6,7,4,3,8,5,9,7,11,10,12,5,20,14,7,7,3,7,8,10,7,11,5,8,7,12,7,14,11,10,12,9,10,5,7,6,9,10,9,8,12,10,6,6,12,13,11,9,11,3,12,12,15,12,9,12,10,7,9,10,6,7,8,6,6,6,8,11,7,8,8,10,14,16,9,8,11,6,10,11,16,5,7,12,6,6,11,11,12,10,11,15,11,6,7,11,5,21,5,10,9,7,14,11,5,8,6,17,19,11,6,18,6,3,8,12,7,7,14,13,2,12,11,9,16,12,11,5,9,8,11,8,17,5,5,10,8,10,6,10,10,12,13,8,5,6,4,4,4,4,4,4,4,4,4,5,5,7,4,4,4,4,4,4,4,4,4,4,5,4,4,4,4,4,4,4,4,4,4,4,4,4,4,4,4,4,4,4,4,4,4,4,4,6,9,6,10,10,8,4,8,10,6,9,16,6,5,8,10,6,17,10,10,6,8,7,10,19,14,13,10,6,5,18,18,10,13,10,6,7,4,9,8,14,6,9,7,13,14,11,9,9,3,8,6,8,21,11,9,9,14,6,6,8,11,11,7,9,9,9,10,7,9,9,5,9,12,4,13,10,10,8,4,6,14,10,8,5,7,5,9,11,6,9,15,6,11,5,11,7,8,12,10,6,4,10,10,12,12,9,8,6,9,9,6,13,9,8,7,13,6,10,7,7,8,7,12,7,9,5,12,9,14,10,13,5,6,6,8,10,11,14,11,8,6,9,12,4,10,6,6,6,5,8,13,14,7,13,7,7,10,6,14,5,9,7,10,6,7,7,13,5,7,14,9,6,6,6,6,6,6,6,6,6,10,4,8,5,9,8,5,10,4,6,7,7,14,16,15,11,5,5,6,5,5,5,6,6,7,7,9,6,5,5,7,10,11,6,13,5,11,4,11,10,12,8,3,3,6,3,6,6,7,3,5,11,9,11,9,4,6,15,13,5,9,10,13,16,6,9,11,7,7,6,11,10,13,8,10,3,11,3,8,6,15,5,9,7,3,6,8,6,7,7,12,8,8,2,2,7,12,4,20,8,11,6,4,7,6,10,13,6,6,8,11,6,10,13,13,14,5,7,9],\"xaxis\":\"x\",\"yaxis\":\"y\",\"type\":\"histogram\"},{\"alignmentgroup\":\"True\",\"hovertemplate\":\"type=task<br>count of tokens list=%{x}<extra></extra>\",\"legendgroup\":\"task\",\"marker\":{\"color\":\"#EF553B\"},\"name\":\"task\",\"notched\":true,\"offsetgroup\":\"task\",\"showlegend\":false,\"x\":[12,7,9,6,4,4,16,4,8,8,9,6,11,8,35,9,5,7,15,9,8,10,9,11,12,11,6,6,7,12,9,5,6,5,7,7,8,7,8,7,11,7,16,10,6,9,5,7,6,8,5,6,9,10,5,11,9,13,7,11,5,12,6,5,9,8,3,10,7,10,5,5,5,6,5,5,5,5,5,5,6,6,7,6,6,6,6,7,6,6,3,9,6,20,11,11,7,17,6,6,9,8,8,5,5,5,6,6,10,9,7,8,12,10,9,6,9,14,7,5,6,5,6,6,6,6,6,6,5,5,5,5,6,6,5,5,5,5,5,5,6,6,5,5,5,6,5,5,5,5,5,5,5,5,5,5,5,6,6,6,5,6,5,6,5,5,5,5,5,5,5,5,5,8,5,4,11,3,4,6,6,10,5,6,10,17,7,3,5,4,7,13,7,11,11,11,7,8,9,11,3,5,8,10,12,12,7,5,8,4,8,7,5,10,13,8,5,13,13,7,7,5,14,19,9,10,7,7,7,7,13,11,10,6,4,7,6,15,12,9,4,4,12,10,8,19,11,9,15,13,2,12,13,6,7,4,3,5,15,17,7,12,3,14,16,13,6,14,6,6,16,13,10,9,16,9,9,9,11,11,12,10,6,6,6,7,6,13,5,9,9,9,9,12,11,16,17,8,6,10,8,2,9,7,9,7,6,8,7,11,8,7,7,6,7,4,8,6,13,11,8,10,12,4,9,13,14,8,8,6,8,6,10,9,7,12,10,13,10,4,10,9,15,10,7,6,8,13,13,7,6,9,4,4,6,10,9,4,7,5,4,2,11,4,4,8,11,17,11,8,7,11,4,4,9,4,19,6,14,6,24,18,5,11,5,6,18,2,4,10,13,7,7,15,6,6,7,4,3,8,5,9,7,11,10,12,5,20,14,7,7,3,7,8,10,7,11,5,8,7,12,7,14,11,10,12,9,10,5,7,6,9,10,9,8,12,10,6,6,12,13,11,9,11,3,12,12,15,12,9,12,10,7,9,10,6,7,8,6,6,6,8,11,7,8,8,10,14,16,9,8,11,6,10,11,16,5,7,12,6,6,11,11,12,10,11,15,11,6,7,11,5,21,5,10,9,7,14,11,5,8,6,17,19,11,6,18,6,3,8,12,7,7,14,13,2,12,11,9,16,12,11,5,9,8,11,8,17,5,5,10,8,10,6,10,10,12,13,8,5,6,4,4,4,4,4,4,4,4,4,5,5,7,4,4,4,4,4,4,4,4,4,4,5,4,4,4,4,4,4,4,4,4,4,4,4,4,4,4,4,4,4,4,4,4,4,4,4,6,9,6,10,10,8,4,8,10,6,9,16,6,5,8,10,6,17,10,10,6,8,7,10,19,14,13,10,6,5,18,18,10,13,10,6,7,4,9,8,14,6,9,7,13,14,11,9,9,3,8,6,8,21,11,9,9,14,6,6,8,11,11,7,9,9,9,10,7,9,9,5,9,12,4,13,10,10,8,4,6,14,10,8,5,7,5,9,11,6,9,15,6,11,5,11,7,8,12,10,6,4,10,10,12,12,9,8,6,9,9,6,13,9,8,7,13,6,10,7,7,8,7,12,7,9,5,12,9,14,10,13,5,6,6,8,10,11,14,11,8,6,9,12,4,10,6,6,6,5,8,13,14,7,13,7,7,10,6,14,5,9,7,10,6,7,7,13,5,7,14,9,6,6,6,6,6,6,6,6,6,10,4,8,5,9,8,5,10,4,6,7,7,14,16,15,11,5,5,6,5,5,5,6,6,7,7,9,6,5,5,7,10,11,6,13,5,11,4,11,10,12,8,3,3,6,3,6,6,7,3,5,11,9,11,9,4,6,15,13,5,9,10,13,16,6,9,11,7,7,6,11,10,13,8,10,3,11,3,8,6,15,5,9,7,3,6,8,6,7,7,12,8,8,2,2,7,12,4,20,8,11,6,4,7,6,10,13,6,6,8,11,6,10,13,13,14,5,7,9],\"xaxis\":\"x2\",\"yaxis\":\"y2\",\"type\":\"box\"}],                        {\"template\":{\"data\":{\"histogram2dcontour\":[{\"type\":\"histogram2dcontour\",\"colorbar\":{\"outlinewidth\":0,\"ticks\":\"\"},\"colorscale\":[[0.0,\"#0d0887\"],[0.1111111111111111,\"#46039f\"],[0.2222222222222222,\"#7201a8\"],[0.3333333333333333,\"#9c179e\"],[0.4444444444444444,\"#bd3786\"],[0.5555555555555556,\"#d8576b\"],[0.6666666666666666,\"#ed7953\"],[0.7777777777777778,\"#fb9f3a\"],[0.8888888888888888,\"#fdca26\"],[1.0,\"#f0f921\"]]}],\"choropleth\":[{\"type\":\"choropleth\",\"colorbar\":{\"outlinewidth\":0,\"ticks\":\"\"}}],\"histogram2d\":[{\"type\":\"histogram2d\",\"colorbar\":{\"outlinewidth\":0,\"ticks\":\"\"},\"colorscale\":[[0.0,\"#0d0887\"],[0.1111111111111111,\"#46039f\"],[0.2222222222222222,\"#7201a8\"],[0.3333333333333333,\"#9c179e\"],[0.4444444444444444,\"#bd3786\"],[0.5555555555555556,\"#d8576b\"],[0.6666666666666666,\"#ed7953\"],[0.7777777777777778,\"#fb9f3a\"],[0.8888888888888888,\"#fdca26\"],[1.0,\"#f0f921\"]]}],\"heatmap\":[{\"type\":\"heatmap\",\"colorbar\":{\"outlinewidth\":0,\"ticks\":\"\"},\"colorscale\":[[0.0,\"#0d0887\"],[0.1111111111111111,\"#46039f\"],[0.2222222222222222,\"#7201a8\"],[0.3333333333333333,\"#9c179e\"],[0.4444444444444444,\"#bd3786\"],[0.5555555555555556,\"#d8576b\"],[0.6666666666666666,\"#ed7953\"],[0.7777777777777778,\"#fb9f3a\"],[0.8888888888888888,\"#fdca26\"],[1.0,\"#f0f921\"]]}],\"heatmapgl\":[{\"type\":\"heatmapgl\",\"colorbar\":{\"outlinewidth\":0,\"ticks\":\"\"},\"colorscale\":[[0.0,\"#0d0887\"],[0.1111111111111111,\"#46039f\"],[0.2222222222222222,\"#7201a8\"],[0.3333333333333333,\"#9c179e\"],[0.4444444444444444,\"#bd3786\"],[0.5555555555555556,\"#d8576b\"],[0.6666666666666666,\"#ed7953\"],[0.7777777777777778,\"#fb9f3a\"],[0.8888888888888888,\"#fdca26\"],[1.0,\"#f0f921\"]]}],\"contourcarpet\":[{\"type\":\"contourcarpet\",\"colorbar\":{\"outlinewidth\":0,\"ticks\":\"\"}}],\"contour\":[{\"type\":\"contour\",\"colorbar\":{\"outlinewidth\":0,\"ticks\":\"\"},\"colorscale\":[[0.0,\"#0d0887\"],[0.1111111111111111,\"#46039f\"],[0.2222222222222222,\"#7201a8\"],[0.3333333333333333,\"#9c179e\"],[0.4444444444444444,\"#bd3786\"],[0.5555555555555556,\"#d8576b\"],[0.6666666666666666,\"#ed7953\"],[0.7777777777777778,\"#fb9f3a\"],[0.8888888888888888,\"#fdca26\"],[1.0,\"#f0f921\"]]}],\"surface\":[{\"type\":\"surface\",\"colorbar\":{\"outlinewidth\":0,\"ticks\":\"\"},\"colorscale\":[[0.0,\"#0d0887\"],[0.1111111111111111,\"#46039f\"],[0.2222222222222222,\"#7201a8\"],[0.3333333333333333,\"#9c179e\"],[0.4444444444444444,\"#bd3786\"],[0.5555555555555556,\"#d8576b\"],[0.6666666666666666,\"#ed7953\"],[0.7777777777777778,\"#fb9f3a\"],[0.8888888888888888,\"#fdca26\"],[1.0,\"#f0f921\"]]}],\"mesh3d\":[{\"type\":\"mesh3d\",\"colorbar\":{\"outlinewidth\":0,\"ticks\":\"\"}}],\"scatter\":[{\"fillpattern\":{\"fillmode\":\"overlay\",\"size\":10,\"solidity\":0.2},\"type\":\"scatter\"}],\"parcoords\":[{\"type\":\"parcoords\",\"line\":{\"colorbar\":{\"outlinewidth\":0,\"ticks\":\"\"}}}],\"scatterpolargl\":[{\"type\":\"scatterpolargl\",\"marker\":{\"colorbar\":{\"outlinewidth\":0,\"ticks\":\"\"}}}],\"bar\":[{\"error_x\":{\"color\":\"#2a3f5f\"},\"error_y\":{\"color\":\"#2a3f5f\"},\"marker\":{\"line\":{\"color\":\"#E5ECF6\",\"width\":0.5},\"pattern\":{\"fillmode\":\"overlay\",\"size\":10,\"solidity\":0.2}},\"type\":\"bar\"}],\"scattergeo\":[{\"type\":\"scattergeo\",\"marker\":{\"colorbar\":{\"outlinewidth\":0,\"ticks\":\"\"}}}],\"scatterpolar\":[{\"type\":\"scatterpolar\",\"marker\":{\"colorbar\":{\"outlinewidth\":0,\"ticks\":\"\"}}}],\"histogram\":[{\"marker\":{\"pattern\":{\"fillmode\":\"overlay\",\"size\":10,\"solidity\":0.2}},\"type\":\"histogram\"}],\"scattergl\":[{\"type\":\"scattergl\",\"marker\":{\"colorbar\":{\"outlinewidth\":0,\"ticks\":\"\"}}}],\"scatter3d\":[{\"type\":\"scatter3d\",\"line\":{\"colorbar\":{\"outlinewidth\":0,\"ticks\":\"\"}},\"marker\":{\"colorbar\":{\"outlinewidth\":0,\"ticks\":\"\"}}}],\"scattermapbox\":[{\"type\":\"scattermapbox\",\"marker\":{\"colorbar\":{\"outlinewidth\":0,\"ticks\":\"\"}}}],\"scatterternary\":[{\"type\":\"scatterternary\",\"marker\":{\"colorbar\":{\"outlinewidth\":0,\"ticks\":\"\"}}}],\"scattercarpet\":[{\"type\":\"scattercarpet\",\"marker\":{\"colorbar\":{\"outlinewidth\":0,\"ticks\":\"\"}}}],\"carpet\":[{\"aaxis\":{\"endlinecolor\":\"#2a3f5f\",\"gridcolor\":\"white\",\"linecolor\":\"white\",\"minorgridcolor\":\"white\",\"startlinecolor\":\"#2a3f5f\"},\"baxis\":{\"endlinecolor\":\"#2a3f5f\",\"gridcolor\":\"white\",\"linecolor\":\"white\",\"minorgridcolor\":\"white\",\"startlinecolor\":\"#2a3f5f\"},\"type\":\"carpet\"}],\"table\":[{\"cells\":{\"fill\":{\"color\":\"#EBF0F8\"},\"line\":{\"color\":\"white\"}},\"header\":{\"fill\":{\"color\":\"#C8D4E3\"},\"line\":{\"color\":\"white\"}},\"type\":\"table\"}],\"barpolar\":[{\"marker\":{\"line\":{\"color\":\"#E5ECF6\",\"width\":0.5},\"pattern\":{\"fillmode\":\"overlay\",\"size\":10,\"solidity\":0.2}},\"type\":\"barpolar\"}],\"pie\":[{\"automargin\":true,\"type\":\"pie\"}]},\"layout\":{\"autotypenumbers\":\"strict\",\"colorway\":[\"#636efa\",\"#EF553B\",\"#00cc96\",\"#ab63fa\",\"#FFA15A\",\"#19d3f3\",\"#FF6692\",\"#B6E880\",\"#FF97FF\",\"#FECB52\"],\"font\":{\"color\":\"#2a3f5f\"},\"hovermode\":\"closest\",\"hoverlabel\":{\"align\":\"left\"},\"paper_bgcolor\":\"white\",\"plot_bgcolor\":\"#E5ECF6\",\"polar\":{\"bgcolor\":\"#E5ECF6\",\"angularaxis\":{\"gridcolor\":\"white\",\"linecolor\":\"white\",\"ticks\":\"\"},\"radialaxis\":{\"gridcolor\":\"white\",\"linecolor\":\"white\",\"ticks\":\"\"}},\"ternary\":{\"bgcolor\":\"#E5ECF6\",\"aaxis\":{\"gridcolor\":\"white\",\"linecolor\":\"white\",\"ticks\":\"\"},\"baxis\":{\"gridcolor\":\"white\",\"linecolor\":\"white\",\"ticks\":\"\"},\"caxis\":{\"gridcolor\":\"white\",\"linecolor\":\"white\",\"ticks\":\"\"}},\"coloraxis\":{\"colorbar\":{\"outlinewidth\":0,\"ticks\":\"\"}},\"colorscale\":{\"sequential\":[[0.0,\"#0d0887\"],[0.1111111111111111,\"#46039f\"],[0.2222222222222222,\"#7201a8\"],[0.3333333333333333,\"#9c179e\"],[0.4444444444444444,\"#bd3786\"],[0.5555555555555556,\"#d8576b\"],[0.6666666666666666,\"#ed7953\"],[0.7777777777777778,\"#fb9f3a\"],[0.8888888888888888,\"#fdca26\"],[1.0,\"#f0f921\"]],\"sequentialminus\":[[0.0,\"#0d0887\"],[0.1111111111111111,\"#46039f\"],[0.2222222222222222,\"#7201a8\"],[0.3333333333333333,\"#9c179e\"],[0.4444444444444444,\"#bd3786\"],[0.5555555555555556,\"#d8576b\"],[0.6666666666666666,\"#ed7953\"],[0.7777777777777778,\"#fb9f3a\"],[0.8888888888888888,\"#fdca26\"],[1.0,\"#f0f921\"]],\"diverging\":[[0,\"#8e0152\"],[0.1,\"#c51b7d\"],[0.2,\"#de77ae\"],[0.3,\"#f1b6da\"],[0.4,\"#fde0ef\"],[0.5,\"#f7f7f7\"],[0.6,\"#e6f5d0\"],[0.7,\"#b8e186\"],[0.8,\"#7fbc41\"],[0.9,\"#4d9221\"],[1,\"#276419\"]]},\"xaxis\":{\"gridcolor\":\"white\",\"linecolor\":\"white\",\"ticks\":\"\",\"title\":{\"standoff\":15},\"zerolinecolor\":\"white\",\"automargin\":true,\"zerolinewidth\":2},\"yaxis\":{\"gridcolor\":\"white\",\"linecolor\":\"white\",\"ticks\":\"\",\"title\":{\"standoff\":15},\"zerolinecolor\":\"white\",\"automargin\":true,\"zerolinewidth\":2},\"scene\":{\"xaxis\":{\"backgroundcolor\":\"#E5ECF6\",\"gridcolor\":\"white\",\"linecolor\":\"white\",\"showbackground\":true,\"ticks\":\"\",\"zerolinecolor\":\"white\",\"gridwidth\":2},\"yaxis\":{\"backgroundcolor\":\"#E5ECF6\",\"gridcolor\":\"white\",\"linecolor\":\"white\",\"showbackground\":true,\"ticks\":\"\",\"zerolinecolor\":\"white\",\"gridwidth\":2},\"zaxis\":{\"backgroundcolor\":\"#E5ECF6\",\"gridcolor\":\"white\",\"linecolor\":\"white\",\"showbackground\":true,\"ticks\":\"\",\"zerolinecolor\":\"white\",\"gridwidth\":2}},\"shapedefaults\":{\"line\":{\"color\":\"#2a3f5f\"}},\"annotationdefaults\":{\"arrowcolor\":\"#2a3f5f\",\"arrowhead\":0,\"arrowwidth\":1},\"geo\":{\"bgcolor\":\"white\",\"landcolor\":\"#E5ECF6\",\"subunitcolor\":\"white\",\"showland\":true,\"showlakes\":true,\"lakecolor\":\"white\"},\"title\":{\"x\":0.05},\"mapbox\":{\"style\":\"light\"}}},\"xaxis\":{\"anchor\":\"y\",\"domain\":[0.0,1.0],\"title\":{\"text\":\"count of tokens list\"}},\"yaxis\":{\"anchor\":\"x\",\"domain\":[0.0,0.7326],\"title\":{\"text\":\"count\"}},\"xaxis2\":{\"anchor\":\"y2\",\"domain\":[0.0,1.0],\"matches\":\"x\",\"showticklabels\":false,\"showgrid\":true},\"yaxis2\":{\"anchor\":\"x2\",\"domain\":[0.7426,1.0],\"matches\":\"y2\",\"showticklabels\":false,\"showline\":false,\"ticks\":\"\",\"showgrid\":false},\"legend\":{\"title\":{\"text\":\"type\"},\"tracegroupgap\":0},\"title\":{\"text\":\"Histogram of summary tokens count\"},\"barmode\":\"relative\"},                        {\"responsive\": true}                    ).then(function(){\n",
       "                            \n",
       "var gd = document.getElementById('0ad5b652-7996-4408-aafa-eda91c3b672d');\n",
       "var x = new MutationObserver(function (mutations, observer) {{\n",
       "        var display = window.getComputedStyle(gd).display;\n",
       "        if (!display || display === 'none') {{\n",
       "            console.log([gd, 'removed!']);\n",
       "            Plotly.purge(gd);\n",
       "            observer.disconnect();\n",
       "        }}\n",
       "}});\n",
       "\n",
       "// Listen for the removal of the full notebook cells\n",
       "var notebookContainer = gd.closest('#notebook-container');\n",
       "if (notebookContainer) {{\n",
       "    x.observe(notebookContainer, {childList: true});\n",
       "}}\n",
       "\n",
       "// Listen for the clearing of the current output cell\n",
       "var outputEl = gd.closest('.output');\n",
       "if (outputEl) {{\n",
       "    x.observe(outputEl, {childList: true});\n",
       "}}\n",
       "\n",
       "                        })                };                });            </script>        </div>"
      ]
     },
     "metadata": {},
     "output_type": "display_data"
    }
   ],
   "source": [
    "fig = px.histogram(df, x=\"tokens_list_length\", color=\"type\",\n",
    "                    marginal=\"box\",\n",
    "                   title='Histogram of summary tokens count',\n",
    "                   labels={'tokens_list_length':'count of tokens list'}, # can specify one label per df column\n",
    "                   opacity=0.8,)\n",
    "fig.show()"
   ]
  },
  {
   "cell_type": "markdown",
   "metadata": {},
   "source": [
    "The goal of the following cell is to create a dataset of all the words in our dataset and count them as they appear in the records."
   ]
  },
  {
   "cell_type": "code",
   "execution_count": 45,
   "metadata": {},
   "outputs": [],
   "source": [
    "def count_words(tokens_arrays):\n",
    "    \"\"\"\n",
    "    gets a dictionary and counts the values\n",
    "    output: a sorted dict\n",
    "    note: you can also use a bag of words package to do this\n",
    "    \"\"\"\n",
    "    count_dict = {}\n",
    "    for array_ in tokens_arrays:\n",
    "        for word in array_:\n",
    "            try: count_dict[word] +=1\n",
    "            except: count_dict[word] = 1\n",
    "\n",
    "    # sort \n",
    "    sorted_count_dict = {k:v for k,v in sorted(count_dict.items(), key=lambda item: item[1], reverse=True)}\n",
    "    \n",
    "    return sorted_count_dict \n",
    "\n",
    "def get_n_key_and_value(n, dict_):\n",
    "\n",
    "    \"\"\"\n",
    "    get the first - most frequent and important -\n",
    "    words of dictionary \n",
    "    \"\"\"\n",
    "    keys = [k for (k, v) in dict_.items()][:n]\n",
    "    values = [v for (k, v) in dict_.items()][:n]\n",
    "\n",
    "    return keys, values\n",
    "\n",
    "def convert_tokens_list_to_freq_df(tokens_arrays, n=-1):\n",
    "    \"\"\"\n",
    "    gets the array of tokenized sentences\n",
    "    output: a sorted data frame with two cols\n",
    "    the words and their frequency\n",
    "    \"\"\"\n",
    "\n",
    "    dict_ = count_words(tokens_arrays)\n",
    "    keys, values = get_n_key_and_value(n, dict_)\n",
    "\n",
    "    df = pd.DataFrame({'words': keys, 'freq': values})\n",
    "\n",
    "    return df\n",
    "\n",
    "    \n",
    "df_words_freq_task = convert_tokens_list_to_freq_df(df[df.type=='task'].cleaned_word_list, n=-1)\n",
    "df_words_freq_enh = convert_tokens_list_to_freq_df(df[df.type=='enhancement'].cleaned_word_list, n=-1)\n"
   ]
  },
  {
   "cell_type": "markdown",
   "metadata": {},
   "source": [
    "Because they have different number of records, and to have a fair comparison, we use percentage as a way of measurement"
   ]
  },
  {
   "cell_type": "code",
   "execution_count": 63,
   "metadata": {},
   "outputs": [],
   "source": [
    "def take_percentage(df, col='freq'):\n",
    "\n",
    "    sum = df.loc[:, 'freq'].sum()\n",
    "    df.loc[:, 'freq'] = df.loc[:, 'freq'].apply(lambda x: x/sum)\n",
    "    df.rename(columns={'freq': 'freq_ratio'}, inplace=True)\n",
    "    return df\n",
    "\n",
    "df_words_freq_enh = take_percentage(df_words_freq_enh)\n",
    "df_words_freq_task = take_percentage(df_words_freq_task)"
   ]
  },
  {
   "cell_type": "code",
   "execution_count": 64,
   "metadata": {},
   "outputs": [
    {
     "data": {
      "text/html": [
       "<div>\n",
       "<style scoped>\n",
       "    .dataframe tbody tr th:only-of-type {\n",
       "        vertical-align: middle;\n",
       "    }\n",
       "\n",
       "    .dataframe tbody tr th {\n",
       "        vertical-align: top;\n",
       "    }\n",
       "\n",
       "    .dataframe thead th {\n",
       "        text-align: right;\n",
       "    }\n",
       "</style>\n",
       "<table border=\"1\" class=\"dataframe\">\n",
       "  <thead>\n",
       "    <tr style=\"text-align: right;\">\n",
       "      <th></th>\n",
       "      <th>words</th>\n",
       "      <th>freq_ratio</th>\n",
       "    </tr>\n",
       "  </thead>\n",
       "  <tbody>\n",
       "    <tr>\n",
       "      <th>0</th>\n",
       "      <td>meta</td>\n",
       "      <td>0.034659</td>\n",
       "    </tr>\n",
       "    <tr>\n",
       "      <th>1</th>\n",
       "      <td>implement</td>\n",
       "      <td>0.013933</td>\n",
       "    </tr>\n",
       "    <tr>\n",
       "      <th>2</th>\n",
       "      <td>add</td>\n",
       "      <td>0.013686</td>\n",
       "    </tr>\n",
       "    <tr>\n",
       "      <th>3</th>\n",
       "      <td>support</td>\n",
       "      <td>0.011619</td>\n",
       "    </tr>\n",
       "    <tr>\n",
       "      <th>4</th>\n",
       "      <td>use</td>\n",
       "      <td>0.007582</td>\n",
       "    </tr>\n",
       "  </tbody>\n",
       "</table>\n",
       "</div>"
      ],
      "text/plain": [
       "       words  freq_ratio\n",
       "0       meta    0.034659\n",
       "1  implement    0.013933\n",
       "2        add    0.013686\n",
       "3    support    0.011619\n",
       "4        use    0.007582"
      ]
     },
     "execution_count": 64,
     "metadata": {},
     "output_type": "execute_result"
    }
   ],
   "source": [
    "df_words_freq_enh.head()"
   ]
  },
  {
   "cell_type": "markdown",
   "metadata": {},
   "source": [
    "We merge the datasets for overall analysis and visualization. For this, we rename columns to distinguish each set when merging, but we need to keep the words field the same because we want them to be merged on it."
   ]
  },
  {
   "cell_type": "code",
   "execution_count": 65,
   "metadata": {},
   "outputs": [],
   "source": [
    "\n",
    "task_word_freq_df = df_words_freq_enh.add_suffix('_enh')\n",
    "task_word_freq_df.rename(columns={'words_enh': 'words'}, inplace=True)\n",
    "\n",
    "enh_word_freq_df = df_words_freq_task.add_suffix('_task')\n",
    "enh_word_freq_df.rename(columns={'words_task': 'words'}, inplace=True)\n",
    "\n",
    "merged_df = pd.merge(enh_word_freq_df, task_word_freq_df)"
   ]
  },
  {
   "cell_type": "code",
   "execution_count": null,
   "metadata": {},
   "outputs": [],
   "source": []
  },
  {
   "cell_type": "code",
   "execution_count": 66,
   "metadata": {},
   "outputs": [
    {
     "data": {
      "text/html": [
       "<div>\n",
       "<style scoped>\n",
       "    .dataframe tbody tr th:only-of-type {\n",
       "        vertical-align: middle;\n",
       "    }\n",
       "\n",
       "    .dataframe tbody tr th {\n",
       "        vertical-align: top;\n",
       "    }\n",
       "\n",
       "    .dataframe thead th {\n",
       "        text-align: right;\n",
       "    }\n",
       "</style>\n",
       "<table border=\"1\" class=\"dataframe\">\n",
       "  <thead>\n",
       "    <tr style=\"text-align: right;\">\n",
       "      <th></th>\n",
       "      <th>words</th>\n",
       "      <th>freq_ratio_task</th>\n",
       "      <th>freq_ratio_enh</th>\n",
       "    </tr>\n",
       "  </thead>\n",
       "  <tbody>\n",
       "    <tr>\n",
       "      <th>0</th>\n",
       "      <td>meta</td>\n",
       "      <td>0.052440</td>\n",
       "      <td>0.034659</td>\n",
       "    </tr>\n",
       "    <tr>\n",
       "      <th>1</th>\n",
       "      <td>history</td>\n",
       "      <td>0.022474</td>\n",
       "      <td>0.000788</td>\n",
       "    </tr>\n",
       "    <tr>\n",
       "      <th>2</th>\n",
       "      <td>room</td>\n",
       "      <td>0.020976</td>\n",
       "      <td>0.000098</td>\n",
       "    </tr>\n",
       "    <tr>\n",
       "      <th>3</th>\n",
       "      <td>add</td>\n",
       "      <td>0.012414</td>\n",
       "      <td>0.013686</td>\n",
       "    </tr>\n",
       "    <tr>\n",
       "      <th>4</th>\n",
       "      <td>remove</td>\n",
       "      <td>0.011558</td>\n",
       "      <td>0.006105</td>\n",
       "    </tr>\n",
       "    <tr>\n",
       "      <th>...</th>\n",
       "      <td>...</td>\n",
       "      <td>...</td>\n",
       "      <td>...</td>\n",
       "    </tr>\n",
       "    <tr>\n",
       "      <th>1146</th>\n",
       "      <td>embedded</td>\n",
       "      <td>0.000214</td>\n",
       "      <td>0.000246</td>\n",
       "    </tr>\n",
       "    <tr>\n",
       "      <th>1147</th>\n",
       "      <td>reset</td>\n",
       "      <td>0.000214</td>\n",
       "      <td>0.000295</td>\n",
       "    </tr>\n",
       "    <tr>\n",
       "      <th>1148</th>\n",
       "      <td>proposed</td>\n",
       "      <td>0.000214</td>\n",
       "      <td>0.000049</td>\n",
       "    </tr>\n",
       "    <tr>\n",
       "      <th>1149</th>\n",
       "      <td>property</td>\n",
       "      <td>0.000214</td>\n",
       "      <td>0.000738</td>\n",
       "    </tr>\n",
       "    <tr>\n",
       "      <th>1150</th>\n",
       "      <td>de</td>\n",
       "      <td>0.000214</td>\n",
       "      <td>0.000049</td>\n",
       "    </tr>\n",
       "  </tbody>\n",
       "</table>\n",
       "<p>1151 rows × 3 columns</p>\n",
       "</div>"
      ],
      "text/plain": [
       "         words  freq_ratio_task  freq_ratio_enh\n",
       "0         meta         0.052440        0.034659\n",
       "1      history         0.022474        0.000788\n",
       "2         room         0.020976        0.000098\n",
       "3          add         0.012414        0.013686\n",
       "4       remove         0.011558        0.006105\n",
       "...        ...              ...             ...\n",
       "1146  embedded         0.000214        0.000246\n",
       "1147     reset         0.000214        0.000295\n",
       "1148  proposed         0.000214        0.000049\n",
       "1149  property         0.000214        0.000738\n",
       "1150        de         0.000214        0.000049\n",
       "\n",
       "[1151 rows x 3 columns]"
      ]
     },
     "execution_count": 66,
     "metadata": {},
     "output_type": "execute_result"
    }
   ],
   "source": [
    "merged_df"
   ]
  },
  {
   "cell_type": "code",
   "execution_count": 68,
   "metadata": {},
   "outputs": [
    {
     "data": {
      "application/vnd.plotly.v1+json": {
       "config": {
        "plotlyServerURL": "https://plot.ly"
       },
       "data": [
        {
         "marker": {
          "color": "#BA0F30"
         },
         "name": "Enhancement",
         "text": [
          0.03465931469082316,
          0.0007877116975187081,
          0.00009846396218983852,
          0.013686490744387554,
          0.0061047656557699885,
          0.003790862544308783,
          0.011618747538400946,
          0.004381646317447814,
          0.01393265064986215,
          0.005267821977156361,
          0.001673887357227255,
          0.007581725088617566,
          0.0030523828278849943,
          0.005858605750295392,
          0.0035447026388341868,
          0.0012800315084679006,
          0.003643166601024025,
          0.004184718393068137,
          0.0036923985821189446,
          0.0016246553761323356,
          0.002412367073651044,
          0.005169358014966523,
          0.003446238676644348,
          0.0035447026388341868,
          0.0010831035840882237,
          0.0020185112248916896,
          0.0011815675462780622,
          0.0027569909413154787,
          0.0016246553761323356,
          0.0031508467900748325
         ],
         "textfont": {
          "size": 8
         },
         "textposition": "outside",
         "texttemplate": "%{text:.2f}",
         "type": "bar",
         "x": [
          "meta",
          "history",
          "room",
          "add",
          "remove",
          "tests",
          "support",
          "firefox",
          "implement",
          "new",
          "convert",
          "use",
          "code",
          "make",
          "bug",
          "debugger",
          "test",
          "process",
          "enable",
          "move",
          "update",
          "api",
          "windows",
          "tracking",
          "migrate",
          "build",
          "fission",
          "page",
          "create",
          "search"
         ],
         "y": [
          0.03465931469082316,
          0.0007877116975187081,
          0.00009846396218983852,
          0.013686490744387554,
          0.0061047656557699885,
          0.003790862544308783,
          0.011618747538400946,
          0.004381646317447814,
          0.01393265064986215,
          0.005267821977156361,
          0.001673887357227255,
          0.007581725088617566,
          0.0030523828278849943,
          0.005858605750295392,
          0.0035447026388341868,
          0.0012800315084679006,
          0.003643166601024025,
          0.004184718393068137,
          0.0036923985821189446,
          0.0016246553761323356,
          0.002412367073651044,
          0.005169358014966523,
          0.003446238676644348,
          0.0035447026388341868,
          0.0010831035840882237,
          0.0020185112248916896,
          0.0011815675462780622,
          0.0027569909413154787,
          0.0016246553761323356,
          0.0031508467900748325
         ]
        },
        {
         "marker": {
          "color": "#98D7C2"
         },
         "name": "Task",
         "text": [
          0.052440068493150686,
          0.02247431506849315,
          0.020976027397260275,
          0.012414383561643835,
          0.011558219178082191,
          0.008561643835616438,
          0.008347602739726028,
          0.00684931506849315,
          0.006421232876712328,
          0.006421232876712328,
          0.0062071917808219175,
          0.005779109589041096,
          0.005779109589041096,
          0.005136986301369863,
          0.004922945205479452,
          0.004280821917808219,
          0.004280821917808219,
          0.004066780821917808,
          0.004066780821917808,
          0.003852739726027397,
          0.003852739726027397,
          0.003852739726027397,
          0.003210616438356164,
          0.0029965753424657533,
          0.0029965753424657533,
          0.0029965753424657533,
          0.0029965753424657533,
          0.0027825342465753423,
          0.0027825342465753423,
          0.0027825342465753423
         ],
         "textfont": {
          "size": 8
         },
         "textposition": "outside",
         "texttemplate": "%{text:.2f}",
         "type": "bar",
         "x": [
          "meta",
          "history",
          "room",
          "add",
          "remove",
          "tests",
          "support",
          "firefox",
          "implement",
          "new",
          "convert",
          "use",
          "code",
          "make",
          "bug",
          "debugger",
          "test",
          "process",
          "enable",
          "move",
          "update",
          "api",
          "windows",
          "tracking",
          "migrate",
          "build",
          "fission",
          "page",
          "create",
          "search"
         ],
         "y": [
          0.052440068493150686,
          0.02247431506849315,
          0.020976027397260275,
          0.012414383561643835,
          0.011558219178082191,
          0.008561643835616438,
          0.008347602739726028,
          0.00684931506849315,
          0.006421232876712328,
          0.006421232876712328,
          0.0062071917808219175,
          0.005779109589041096,
          0.005779109589041096,
          0.005136986301369863,
          0.004922945205479452,
          0.004280821917808219,
          0.004280821917808219,
          0.004066780821917808,
          0.004066780821917808,
          0.003852739726027397,
          0.003852739726027397,
          0.003852739726027397,
          0.003210616438356164,
          0.0029965753424657533,
          0.0029965753424657533,
          0.0029965753424657533,
          0.0029965753424657533,
          0.0027825342465753423,
          0.0027825342465753423,
          0.0027825342465753423
         ]
        }
       ],
       "layout": {
        "barmode": "group",
        "template": {
         "data": {
          "bar": [
           {
            "error_x": {
             "color": "#2a3f5f"
            },
            "error_y": {
             "color": "#2a3f5f"
            },
            "marker": {
             "line": {
              "color": "#E5ECF6",
              "width": 0.5
             },
             "pattern": {
              "fillmode": "overlay",
              "size": 10,
              "solidity": 0.2
             }
            },
            "type": "bar"
           }
          ],
          "barpolar": [
           {
            "marker": {
             "line": {
              "color": "#E5ECF6",
              "width": 0.5
             },
             "pattern": {
              "fillmode": "overlay",
              "size": 10,
              "solidity": 0.2
             }
            },
            "type": "barpolar"
           }
          ],
          "carpet": [
           {
            "aaxis": {
             "endlinecolor": "#2a3f5f",
             "gridcolor": "white",
             "linecolor": "white",
             "minorgridcolor": "white",
             "startlinecolor": "#2a3f5f"
            },
            "baxis": {
             "endlinecolor": "#2a3f5f",
             "gridcolor": "white",
             "linecolor": "white",
             "minorgridcolor": "white",
             "startlinecolor": "#2a3f5f"
            },
            "type": "carpet"
           }
          ],
          "choropleth": [
           {
            "colorbar": {
             "outlinewidth": 0,
             "ticks": ""
            },
            "type": "choropleth"
           }
          ],
          "contour": [
           {
            "colorbar": {
             "outlinewidth": 0,
             "ticks": ""
            },
            "colorscale": [
             [
              0,
              "#0d0887"
             ],
             [
              0.1111111111111111,
              "#46039f"
             ],
             [
              0.2222222222222222,
              "#7201a8"
             ],
             [
              0.3333333333333333,
              "#9c179e"
             ],
             [
              0.4444444444444444,
              "#bd3786"
             ],
             [
              0.5555555555555556,
              "#d8576b"
             ],
             [
              0.6666666666666666,
              "#ed7953"
             ],
             [
              0.7777777777777778,
              "#fb9f3a"
             ],
             [
              0.8888888888888888,
              "#fdca26"
             ],
             [
              1,
              "#f0f921"
             ]
            ],
            "type": "contour"
           }
          ],
          "contourcarpet": [
           {
            "colorbar": {
             "outlinewidth": 0,
             "ticks": ""
            },
            "type": "contourcarpet"
           }
          ],
          "heatmap": [
           {
            "colorbar": {
             "outlinewidth": 0,
             "ticks": ""
            },
            "colorscale": [
             [
              0,
              "#0d0887"
             ],
             [
              0.1111111111111111,
              "#46039f"
             ],
             [
              0.2222222222222222,
              "#7201a8"
             ],
             [
              0.3333333333333333,
              "#9c179e"
             ],
             [
              0.4444444444444444,
              "#bd3786"
             ],
             [
              0.5555555555555556,
              "#d8576b"
             ],
             [
              0.6666666666666666,
              "#ed7953"
             ],
             [
              0.7777777777777778,
              "#fb9f3a"
             ],
             [
              0.8888888888888888,
              "#fdca26"
             ],
             [
              1,
              "#f0f921"
             ]
            ],
            "type": "heatmap"
           }
          ],
          "heatmapgl": [
           {
            "colorbar": {
             "outlinewidth": 0,
             "ticks": ""
            },
            "colorscale": [
             [
              0,
              "#0d0887"
             ],
             [
              0.1111111111111111,
              "#46039f"
             ],
             [
              0.2222222222222222,
              "#7201a8"
             ],
             [
              0.3333333333333333,
              "#9c179e"
             ],
             [
              0.4444444444444444,
              "#bd3786"
             ],
             [
              0.5555555555555556,
              "#d8576b"
             ],
             [
              0.6666666666666666,
              "#ed7953"
             ],
             [
              0.7777777777777778,
              "#fb9f3a"
             ],
             [
              0.8888888888888888,
              "#fdca26"
             ],
             [
              1,
              "#f0f921"
             ]
            ],
            "type": "heatmapgl"
           }
          ],
          "histogram": [
           {
            "marker": {
             "pattern": {
              "fillmode": "overlay",
              "size": 10,
              "solidity": 0.2
             }
            },
            "type": "histogram"
           }
          ],
          "histogram2d": [
           {
            "colorbar": {
             "outlinewidth": 0,
             "ticks": ""
            },
            "colorscale": [
             [
              0,
              "#0d0887"
             ],
             [
              0.1111111111111111,
              "#46039f"
             ],
             [
              0.2222222222222222,
              "#7201a8"
             ],
             [
              0.3333333333333333,
              "#9c179e"
             ],
             [
              0.4444444444444444,
              "#bd3786"
             ],
             [
              0.5555555555555556,
              "#d8576b"
             ],
             [
              0.6666666666666666,
              "#ed7953"
             ],
             [
              0.7777777777777778,
              "#fb9f3a"
             ],
             [
              0.8888888888888888,
              "#fdca26"
             ],
             [
              1,
              "#f0f921"
             ]
            ],
            "type": "histogram2d"
           }
          ],
          "histogram2dcontour": [
           {
            "colorbar": {
             "outlinewidth": 0,
             "ticks": ""
            },
            "colorscale": [
             [
              0,
              "#0d0887"
             ],
             [
              0.1111111111111111,
              "#46039f"
             ],
             [
              0.2222222222222222,
              "#7201a8"
             ],
             [
              0.3333333333333333,
              "#9c179e"
             ],
             [
              0.4444444444444444,
              "#bd3786"
             ],
             [
              0.5555555555555556,
              "#d8576b"
             ],
             [
              0.6666666666666666,
              "#ed7953"
             ],
             [
              0.7777777777777778,
              "#fb9f3a"
             ],
             [
              0.8888888888888888,
              "#fdca26"
             ],
             [
              1,
              "#f0f921"
             ]
            ],
            "type": "histogram2dcontour"
           }
          ],
          "mesh3d": [
           {
            "colorbar": {
             "outlinewidth": 0,
             "ticks": ""
            },
            "type": "mesh3d"
           }
          ],
          "parcoords": [
           {
            "line": {
             "colorbar": {
              "outlinewidth": 0,
              "ticks": ""
             }
            },
            "type": "parcoords"
           }
          ],
          "pie": [
           {
            "automargin": true,
            "type": "pie"
           }
          ],
          "scatter": [
           {
            "fillpattern": {
             "fillmode": "overlay",
             "size": 10,
             "solidity": 0.2
            },
            "type": "scatter"
           }
          ],
          "scatter3d": [
           {
            "line": {
             "colorbar": {
              "outlinewidth": 0,
              "ticks": ""
             }
            },
            "marker": {
             "colorbar": {
              "outlinewidth": 0,
              "ticks": ""
             }
            },
            "type": "scatter3d"
           }
          ],
          "scattercarpet": [
           {
            "marker": {
             "colorbar": {
              "outlinewidth": 0,
              "ticks": ""
             }
            },
            "type": "scattercarpet"
           }
          ],
          "scattergeo": [
           {
            "marker": {
             "colorbar": {
              "outlinewidth": 0,
              "ticks": ""
             }
            },
            "type": "scattergeo"
           }
          ],
          "scattergl": [
           {
            "marker": {
             "colorbar": {
              "outlinewidth": 0,
              "ticks": ""
             }
            },
            "type": "scattergl"
           }
          ],
          "scattermapbox": [
           {
            "marker": {
             "colorbar": {
              "outlinewidth": 0,
              "ticks": ""
             }
            },
            "type": "scattermapbox"
           }
          ],
          "scatterpolar": [
           {
            "marker": {
             "colorbar": {
              "outlinewidth": 0,
              "ticks": ""
             }
            },
            "type": "scatterpolar"
           }
          ],
          "scatterpolargl": [
           {
            "marker": {
             "colorbar": {
              "outlinewidth": 0,
              "ticks": ""
             }
            },
            "type": "scatterpolargl"
           }
          ],
          "scatterternary": [
           {
            "marker": {
             "colorbar": {
              "outlinewidth": 0,
              "ticks": ""
             }
            },
            "type": "scatterternary"
           }
          ],
          "surface": [
           {
            "colorbar": {
             "outlinewidth": 0,
             "ticks": ""
            },
            "colorscale": [
             [
              0,
              "#0d0887"
             ],
             [
              0.1111111111111111,
              "#46039f"
             ],
             [
              0.2222222222222222,
              "#7201a8"
             ],
             [
              0.3333333333333333,
              "#9c179e"
             ],
             [
              0.4444444444444444,
              "#bd3786"
             ],
             [
              0.5555555555555556,
              "#d8576b"
             ],
             [
              0.6666666666666666,
              "#ed7953"
             ],
             [
              0.7777777777777778,
              "#fb9f3a"
             ],
             [
              0.8888888888888888,
              "#fdca26"
             ],
             [
              1,
              "#f0f921"
             ]
            ],
            "type": "surface"
           }
          ],
          "table": [
           {
            "cells": {
             "fill": {
              "color": "#EBF0F8"
             },
             "line": {
              "color": "white"
             }
            },
            "header": {
             "fill": {
              "color": "#C8D4E3"
             },
             "line": {
              "color": "white"
             }
            },
            "type": "table"
           }
          ]
         },
         "layout": {
          "annotationdefaults": {
           "arrowcolor": "#2a3f5f",
           "arrowhead": 0,
           "arrowwidth": 1
          },
          "autotypenumbers": "strict",
          "coloraxis": {
           "colorbar": {
            "outlinewidth": 0,
            "ticks": ""
           }
          },
          "colorscale": {
           "diverging": [
            [
             0,
             "#8e0152"
            ],
            [
             0.1,
             "#c51b7d"
            ],
            [
             0.2,
             "#de77ae"
            ],
            [
             0.3,
             "#f1b6da"
            ],
            [
             0.4,
             "#fde0ef"
            ],
            [
             0.5,
             "#f7f7f7"
            ],
            [
             0.6,
             "#e6f5d0"
            ],
            [
             0.7,
             "#b8e186"
            ],
            [
             0.8,
             "#7fbc41"
            ],
            [
             0.9,
             "#4d9221"
            ],
            [
             1,
             "#276419"
            ]
           ],
           "sequential": [
            [
             0,
             "#0d0887"
            ],
            [
             0.1111111111111111,
             "#46039f"
            ],
            [
             0.2222222222222222,
             "#7201a8"
            ],
            [
             0.3333333333333333,
             "#9c179e"
            ],
            [
             0.4444444444444444,
             "#bd3786"
            ],
            [
             0.5555555555555556,
             "#d8576b"
            ],
            [
             0.6666666666666666,
             "#ed7953"
            ],
            [
             0.7777777777777778,
             "#fb9f3a"
            ],
            [
             0.8888888888888888,
             "#fdca26"
            ],
            [
             1,
             "#f0f921"
            ]
           ],
           "sequentialminus": [
            [
             0,
             "#0d0887"
            ],
            [
             0.1111111111111111,
             "#46039f"
            ],
            [
             0.2222222222222222,
             "#7201a8"
            ],
            [
             0.3333333333333333,
             "#9c179e"
            ],
            [
             0.4444444444444444,
             "#bd3786"
            ],
            [
             0.5555555555555556,
             "#d8576b"
            ],
            [
             0.6666666666666666,
             "#ed7953"
            ],
            [
             0.7777777777777778,
             "#fb9f3a"
            ],
            [
             0.8888888888888888,
             "#fdca26"
            ],
            [
             1,
             "#f0f921"
            ]
           ]
          },
          "colorway": [
           "#636efa",
           "#EF553B",
           "#00cc96",
           "#ab63fa",
           "#FFA15A",
           "#19d3f3",
           "#FF6692",
           "#B6E880",
           "#FF97FF",
           "#FECB52"
          ],
          "font": {
           "color": "#2a3f5f"
          },
          "geo": {
           "bgcolor": "white",
           "lakecolor": "white",
           "landcolor": "#E5ECF6",
           "showlakes": true,
           "showland": true,
           "subunitcolor": "white"
          },
          "hoverlabel": {
           "align": "left"
          },
          "hovermode": "closest",
          "mapbox": {
           "style": "light"
          },
          "paper_bgcolor": "white",
          "plot_bgcolor": "#E5ECF6",
          "polar": {
           "angularaxis": {
            "gridcolor": "white",
            "linecolor": "white",
            "ticks": ""
           },
           "bgcolor": "#E5ECF6",
           "radialaxis": {
            "gridcolor": "white",
            "linecolor": "white",
            "ticks": ""
           }
          },
          "scene": {
           "xaxis": {
            "backgroundcolor": "#E5ECF6",
            "gridcolor": "white",
            "gridwidth": 2,
            "linecolor": "white",
            "showbackground": true,
            "ticks": "",
            "zerolinecolor": "white"
           },
           "yaxis": {
            "backgroundcolor": "#E5ECF6",
            "gridcolor": "white",
            "gridwidth": 2,
            "linecolor": "white",
            "showbackground": true,
            "ticks": "",
            "zerolinecolor": "white"
           },
           "zaxis": {
            "backgroundcolor": "#E5ECF6",
            "gridcolor": "white",
            "gridwidth": 2,
            "linecolor": "white",
            "showbackground": true,
            "ticks": "",
            "zerolinecolor": "white"
           }
          },
          "shapedefaults": {
           "line": {
            "color": "#2a3f5f"
           }
          },
          "ternary": {
           "aaxis": {
            "gridcolor": "white",
            "linecolor": "white",
            "ticks": ""
           },
           "baxis": {
            "gridcolor": "white",
            "linecolor": "white",
            "ticks": ""
           },
           "bgcolor": "#E5ECF6",
           "caxis": {
            "gridcolor": "white",
            "linecolor": "white",
            "ticks": ""
           }
          },
          "title": {
           "x": 0.05
          },
          "xaxis": {
           "automargin": true,
           "gridcolor": "white",
           "linecolor": "white",
           "ticks": "",
           "title": {
            "standoff": 15
           },
           "zerolinecolor": "white",
           "zerolinewidth": 2
          },
          "yaxis": {
           "automargin": true,
           "gridcolor": "white",
           "linecolor": "white",
           "ticks": "",
           "title": {
            "standoff": 15
           },
           "zerolinecolor": "white",
           "zerolinewidth": 2
          }
         }
        },
        "title": {
         "text": "Percentage comparison of the most frequent words in enhancement and task types"
        },
        "xaxis": {
         "tickangle": -45
        }
       }
      },
      "text/html": [
       "<div>                            <div id=\"87e03d4a-24c3-4e16-940f-620576f7c17a\" class=\"plotly-graph-div\" style=\"height:525px; width:100%;\"></div>            <script type=\"text/javascript\">                require([\"plotly\"], function(Plotly) {                    window.PLOTLYENV=window.PLOTLYENV || {};                                    if (document.getElementById(\"87e03d4a-24c3-4e16-940f-620576f7c17a\")) {                    Plotly.newPlot(                        \"87e03d4a-24c3-4e16-940f-620576f7c17a\",                        [{\"marker\":{\"color\":\"#BA0F30\"},\"name\":\"Enhancement\",\"text\":[0.03465931469082316,0.0007877116975187081,9.846396218983852e-05,0.013686490744387554,0.0061047656557699885,0.003790862544308783,0.011618747538400946,0.004381646317447814,0.01393265064986215,0.005267821977156361,0.001673887357227255,0.007581725088617566,0.0030523828278849943,0.005858605750295392,0.0035447026388341868,0.0012800315084679006,0.003643166601024025,0.004184718393068137,0.0036923985821189446,0.0016246553761323356,0.002412367073651044,0.005169358014966523,0.003446238676644348,0.0035447026388341868,0.0010831035840882237,0.0020185112248916896,0.0011815675462780622,0.0027569909413154787,0.0016246553761323356,0.0031508467900748325],\"x\":[\"meta\",\"history\",\"room\",\"add\",\"remove\",\"tests\",\"support\",\"firefox\",\"implement\",\"new\",\"convert\",\"use\",\"code\",\"make\",\"bug\",\"debugger\",\"test\",\"process\",\"enable\",\"move\",\"update\",\"api\",\"windows\",\"tracking\",\"migrate\",\"build\",\"fission\",\"page\",\"create\",\"search\"],\"y\":[0.03465931469082316,0.0007877116975187081,9.846396218983852e-05,0.013686490744387554,0.0061047656557699885,0.003790862544308783,0.011618747538400946,0.004381646317447814,0.01393265064986215,0.005267821977156361,0.001673887357227255,0.007581725088617566,0.0030523828278849943,0.005858605750295392,0.0035447026388341868,0.0012800315084679006,0.003643166601024025,0.004184718393068137,0.0036923985821189446,0.0016246553761323356,0.002412367073651044,0.005169358014966523,0.003446238676644348,0.0035447026388341868,0.0010831035840882237,0.0020185112248916896,0.0011815675462780622,0.0027569909413154787,0.0016246553761323356,0.0031508467900748325],\"type\":\"bar\",\"textfont\":{\"size\":8},\"textposition\":\"outside\",\"texttemplate\":\"%{text:.2f}\"},{\"marker\":{\"color\":\"#98D7C2\"},\"name\":\"Task\",\"text\":[0.052440068493150686,0.02247431506849315,0.020976027397260275,0.012414383561643835,0.011558219178082191,0.008561643835616438,0.008347602739726028,0.00684931506849315,0.006421232876712328,0.006421232876712328,0.0062071917808219175,0.005779109589041096,0.005779109589041096,0.005136986301369863,0.004922945205479452,0.004280821917808219,0.004280821917808219,0.004066780821917808,0.004066780821917808,0.003852739726027397,0.003852739726027397,0.003852739726027397,0.003210616438356164,0.0029965753424657533,0.0029965753424657533,0.0029965753424657533,0.0029965753424657533,0.0027825342465753423,0.0027825342465753423,0.0027825342465753423],\"x\":[\"meta\",\"history\",\"room\",\"add\",\"remove\",\"tests\",\"support\",\"firefox\",\"implement\",\"new\",\"convert\",\"use\",\"code\",\"make\",\"bug\",\"debugger\",\"test\",\"process\",\"enable\",\"move\",\"update\",\"api\",\"windows\",\"tracking\",\"migrate\",\"build\",\"fission\",\"page\",\"create\",\"search\"],\"y\":[0.052440068493150686,0.02247431506849315,0.020976027397260275,0.012414383561643835,0.011558219178082191,0.008561643835616438,0.008347602739726028,0.00684931506849315,0.006421232876712328,0.006421232876712328,0.0062071917808219175,0.005779109589041096,0.005779109589041096,0.005136986301369863,0.004922945205479452,0.004280821917808219,0.004280821917808219,0.004066780821917808,0.004066780821917808,0.003852739726027397,0.003852739726027397,0.003852739726027397,0.003210616438356164,0.0029965753424657533,0.0029965753424657533,0.0029965753424657533,0.0029965753424657533,0.0027825342465753423,0.0027825342465753423,0.0027825342465753423],\"type\":\"bar\",\"textfont\":{\"size\":8},\"textposition\":\"outside\",\"texttemplate\":\"%{text:.2f}\"}],                        {\"template\":{\"data\":{\"histogram2dcontour\":[{\"type\":\"histogram2dcontour\",\"colorbar\":{\"outlinewidth\":0,\"ticks\":\"\"},\"colorscale\":[[0.0,\"#0d0887\"],[0.1111111111111111,\"#46039f\"],[0.2222222222222222,\"#7201a8\"],[0.3333333333333333,\"#9c179e\"],[0.4444444444444444,\"#bd3786\"],[0.5555555555555556,\"#d8576b\"],[0.6666666666666666,\"#ed7953\"],[0.7777777777777778,\"#fb9f3a\"],[0.8888888888888888,\"#fdca26\"],[1.0,\"#f0f921\"]]}],\"choropleth\":[{\"type\":\"choropleth\",\"colorbar\":{\"outlinewidth\":0,\"ticks\":\"\"}}],\"histogram2d\":[{\"type\":\"histogram2d\",\"colorbar\":{\"outlinewidth\":0,\"ticks\":\"\"},\"colorscale\":[[0.0,\"#0d0887\"],[0.1111111111111111,\"#46039f\"],[0.2222222222222222,\"#7201a8\"],[0.3333333333333333,\"#9c179e\"],[0.4444444444444444,\"#bd3786\"],[0.5555555555555556,\"#d8576b\"],[0.6666666666666666,\"#ed7953\"],[0.7777777777777778,\"#fb9f3a\"],[0.8888888888888888,\"#fdca26\"],[1.0,\"#f0f921\"]]}],\"heatmap\":[{\"type\":\"heatmap\",\"colorbar\":{\"outlinewidth\":0,\"ticks\":\"\"},\"colorscale\":[[0.0,\"#0d0887\"],[0.1111111111111111,\"#46039f\"],[0.2222222222222222,\"#7201a8\"],[0.3333333333333333,\"#9c179e\"],[0.4444444444444444,\"#bd3786\"],[0.5555555555555556,\"#d8576b\"],[0.6666666666666666,\"#ed7953\"],[0.7777777777777778,\"#fb9f3a\"],[0.8888888888888888,\"#fdca26\"],[1.0,\"#f0f921\"]]}],\"heatmapgl\":[{\"type\":\"heatmapgl\",\"colorbar\":{\"outlinewidth\":0,\"ticks\":\"\"},\"colorscale\":[[0.0,\"#0d0887\"],[0.1111111111111111,\"#46039f\"],[0.2222222222222222,\"#7201a8\"],[0.3333333333333333,\"#9c179e\"],[0.4444444444444444,\"#bd3786\"],[0.5555555555555556,\"#d8576b\"],[0.6666666666666666,\"#ed7953\"],[0.7777777777777778,\"#fb9f3a\"],[0.8888888888888888,\"#fdca26\"],[1.0,\"#f0f921\"]]}],\"contourcarpet\":[{\"type\":\"contourcarpet\",\"colorbar\":{\"outlinewidth\":0,\"ticks\":\"\"}}],\"contour\":[{\"type\":\"contour\",\"colorbar\":{\"outlinewidth\":0,\"ticks\":\"\"},\"colorscale\":[[0.0,\"#0d0887\"],[0.1111111111111111,\"#46039f\"],[0.2222222222222222,\"#7201a8\"],[0.3333333333333333,\"#9c179e\"],[0.4444444444444444,\"#bd3786\"],[0.5555555555555556,\"#d8576b\"],[0.6666666666666666,\"#ed7953\"],[0.7777777777777778,\"#fb9f3a\"],[0.8888888888888888,\"#fdca26\"],[1.0,\"#f0f921\"]]}],\"surface\":[{\"type\":\"surface\",\"colorbar\":{\"outlinewidth\":0,\"ticks\":\"\"},\"colorscale\":[[0.0,\"#0d0887\"],[0.1111111111111111,\"#46039f\"],[0.2222222222222222,\"#7201a8\"],[0.3333333333333333,\"#9c179e\"],[0.4444444444444444,\"#bd3786\"],[0.5555555555555556,\"#d8576b\"],[0.6666666666666666,\"#ed7953\"],[0.7777777777777778,\"#fb9f3a\"],[0.8888888888888888,\"#fdca26\"],[1.0,\"#f0f921\"]]}],\"mesh3d\":[{\"type\":\"mesh3d\",\"colorbar\":{\"outlinewidth\":0,\"ticks\":\"\"}}],\"scatter\":[{\"fillpattern\":{\"fillmode\":\"overlay\",\"size\":10,\"solidity\":0.2},\"type\":\"scatter\"}],\"parcoords\":[{\"type\":\"parcoords\",\"line\":{\"colorbar\":{\"outlinewidth\":0,\"ticks\":\"\"}}}],\"scatterpolargl\":[{\"type\":\"scatterpolargl\",\"marker\":{\"colorbar\":{\"outlinewidth\":0,\"ticks\":\"\"}}}],\"bar\":[{\"error_x\":{\"color\":\"#2a3f5f\"},\"error_y\":{\"color\":\"#2a3f5f\"},\"marker\":{\"line\":{\"color\":\"#E5ECF6\",\"width\":0.5},\"pattern\":{\"fillmode\":\"overlay\",\"size\":10,\"solidity\":0.2}},\"type\":\"bar\"}],\"scattergeo\":[{\"type\":\"scattergeo\",\"marker\":{\"colorbar\":{\"outlinewidth\":0,\"ticks\":\"\"}}}],\"scatterpolar\":[{\"type\":\"scatterpolar\",\"marker\":{\"colorbar\":{\"outlinewidth\":0,\"ticks\":\"\"}}}],\"histogram\":[{\"marker\":{\"pattern\":{\"fillmode\":\"overlay\",\"size\":10,\"solidity\":0.2}},\"type\":\"histogram\"}],\"scattergl\":[{\"type\":\"scattergl\",\"marker\":{\"colorbar\":{\"outlinewidth\":0,\"ticks\":\"\"}}}],\"scatter3d\":[{\"type\":\"scatter3d\",\"line\":{\"colorbar\":{\"outlinewidth\":0,\"ticks\":\"\"}},\"marker\":{\"colorbar\":{\"outlinewidth\":0,\"ticks\":\"\"}}}],\"scattermapbox\":[{\"type\":\"scattermapbox\",\"marker\":{\"colorbar\":{\"outlinewidth\":0,\"ticks\":\"\"}}}],\"scatterternary\":[{\"type\":\"scatterternary\",\"marker\":{\"colorbar\":{\"outlinewidth\":0,\"ticks\":\"\"}}}],\"scattercarpet\":[{\"type\":\"scattercarpet\",\"marker\":{\"colorbar\":{\"outlinewidth\":0,\"ticks\":\"\"}}}],\"carpet\":[{\"aaxis\":{\"endlinecolor\":\"#2a3f5f\",\"gridcolor\":\"white\",\"linecolor\":\"white\",\"minorgridcolor\":\"white\",\"startlinecolor\":\"#2a3f5f\"},\"baxis\":{\"endlinecolor\":\"#2a3f5f\",\"gridcolor\":\"white\",\"linecolor\":\"white\",\"minorgridcolor\":\"white\",\"startlinecolor\":\"#2a3f5f\"},\"type\":\"carpet\"}],\"table\":[{\"cells\":{\"fill\":{\"color\":\"#EBF0F8\"},\"line\":{\"color\":\"white\"}},\"header\":{\"fill\":{\"color\":\"#C8D4E3\"},\"line\":{\"color\":\"white\"}},\"type\":\"table\"}],\"barpolar\":[{\"marker\":{\"line\":{\"color\":\"#E5ECF6\",\"width\":0.5},\"pattern\":{\"fillmode\":\"overlay\",\"size\":10,\"solidity\":0.2}},\"type\":\"barpolar\"}],\"pie\":[{\"automargin\":true,\"type\":\"pie\"}]},\"layout\":{\"autotypenumbers\":\"strict\",\"colorway\":[\"#636efa\",\"#EF553B\",\"#00cc96\",\"#ab63fa\",\"#FFA15A\",\"#19d3f3\",\"#FF6692\",\"#B6E880\",\"#FF97FF\",\"#FECB52\"],\"font\":{\"color\":\"#2a3f5f\"},\"hovermode\":\"closest\",\"hoverlabel\":{\"align\":\"left\"},\"paper_bgcolor\":\"white\",\"plot_bgcolor\":\"#E5ECF6\",\"polar\":{\"bgcolor\":\"#E5ECF6\",\"angularaxis\":{\"gridcolor\":\"white\",\"linecolor\":\"white\",\"ticks\":\"\"},\"radialaxis\":{\"gridcolor\":\"white\",\"linecolor\":\"white\",\"ticks\":\"\"}},\"ternary\":{\"bgcolor\":\"#E5ECF6\",\"aaxis\":{\"gridcolor\":\"white\",\"linecolor\":\"white\",\"ticks\":\"\"},\"baxis\":{\"gridcolor\":\"white\",\"linecolor\":\"white\",\"ticks\":\"\"},\"caxis\":{\"gridcolor\":\"white\",\"linecolor\":\"white\",\"ticks\":\"\"}},\"coloraxis\":{\"colorbar\":{\"outlinewidth\":0,\"ticks\":\"\"}},\"colorscale\":{\"sequential\":[[0.0,\"#0d0887\"],[0.1111111111111111,\"#46039f\"],[0.2222222222222222,\"#7201a8\"],[0.3333333333333333,\"#9c179e\"],[0.4444444444444444,\"#bd3786\"],[0.5555555555555556,\"#d8576b\"],[0.6666666666666666,\"#ed7953\"],[0.7777777777777778,\"#fb9f3a\"],[0.8888888888888888,\"#fdca26\"],[1.0,\"#f0f921\"]],\"sequentialminus\":[[0.0,\"#0d0887\"],[0.1111111111111111,\"#46039f\"],[0.2222222222222222,\"#7201a8\"],[0.3333333333333333,\"#9c179e\"],[0.4444444444444444,\"#bd3786\"],[0.5555555555555556,\"#d8576b\"],[0.6666666666666666,\"#ed7953\"],[0.7777777777777778,\"#fb9f3a\"],[0.8888888888888888,\"#fdca26\"],[1.0,\"#f0f921\"]],\"diverging\":[[0,\"#8e0152\"],[0.1,\"#c51b7d\"],[0.2,\"#de77ae\"],[0.3,\"#f1b6da\"],[0.4,\"#fde0ef\"],[0.5,\"#f7f7f7\"],[0.6,\"#e6f5d0\"],[0.7,\"#b8e186\"],[0.8,\"#7fbc41\"],[0.9,\"#4d9221\"],[1,\"#276419\"]]},\"xaxis\":{\"gridcolor\":\"white\",\"linecolor\":\"white\",\"ticks\":\"\",\"title\":{\"standoff\":15},\"zerolinecolor\":\"white\",\"automargin\":true,\"zerolinewidth\":2},\"yaxis\":{\"gridcolor\":\"white\",\"linecolor\":\"white\",\"ticks\":\"\",\"title\":{\"standoff\":15},\"zerolinecolor\":\"white\",\"automargin\":true,\"zerolinewidth\":2},\"scene\":{\"xaxis\":{\"backgroundcolor\":\"#E5ECF6\",\"gridcolor\":\"white\",\"linecolor\":\"white\",\"showbackground\":true,\"ticks\":\"\",\"zerolinecolor\":\"white\",\"gridwidth\":2},\"yaxis\":{\"backgroundcolor\":\"#E5ECF6\",\"gridcolor\":\"white\",\"linecolor\":\"white\",\"showbackground\":true,\"ticks\":\"\",\"zerolinecolor\":\"white\",\"gridwidth\":2},\"zaxis\":{\"backgroundcolor\":\"#E5ECF6\",\"gridcolor\":\"white\",\"linecolor\":\"white\",\"showbackground\":true,\"ticks\":\"\",\"zerolinecolor\":\"white\",\"gridwidth\":2}},\"shapedefaults\":{\"line\":{\"color\":\"#2a3f5f\"}},\"annotationdefaults\":{\"arrowcolor\":\"#2a3f5f\",\"arrowhead\":0,\"arrowwidth\":1},\"geo\":{\"bgcolor\":\"white\",\"landcolor\":\"#E5ECF6\",\"subunitcolor\":\"white\",\"showland\":true,\"showlakes\":true,\"lakecolor\":\"white\"},\"title\":{\"x\":0.05},\"mapbox\":{\"style\":\"light\"}}},\"xaxis\":{\"tickangle\":-45},\"title\":{\"text\":\"Percentage comparison of the most frequent words in enhancement and task types\"},\"barmode\":\"group\"},                        {\"responsive\": true}                    ).then(function(){\n",
       "                            \n",
       "var gd = document.getElementById('87e03d4a-24c3-4e16-940f-620576f7c17a');\n",
       "var x = new MutationObserver(function (mutations, observer) {{\n",
       "        var display = window.getComputedStyle(gd).display;\n",
       "        if (!display || display === 'none') {{\n",
       "            console.log([gd, 'removed!']);\n",
       "            Plotly.purge(gd);\n",
       "            observer.disconnect();\n",
       "        }}\n",
       "}});\n",
       "\n",
       "// Listen for the removal of the full notebook cells\n",
       "var notebookContainer = gd.closest('#notebook-container');\n",
       "if (notebookContainer) {{\n",
       "    x.observe(notebookContainer, {childList: true});\n",
       "}}\n",
       "\n",
       "// Listen for the clearing of the current output cell\n",
       "var outputEl = gd.closest('.output');\n",
       "if (outputEl) {{\n",
       "    x.observe(outputEl, {childList: true});\n",
       "}}\n",
       "\n",
       "                        })                };                });            </script>        </div>"
      ]
     },
     "metadata": {},
     "output_type": "display_data"
    }
   ],
   "source": [
    "n = 30\n",
    "merged_df_sample = merged_df[:n]\n",
    "fig = go.Figure(data=[\n",
    "    go.Bar(name='Enhancement', x=merged_df_sample.words, y=merged_df_sample.freq_ratio_enh, text=merged_df_sample.freq_ratio_enh, marker_color='#BA0F30'),\n",
    "    go.Bar(name='Task', x=merged_df_sample.words, y=merged_df_sample.freq_ratio_task, text=merged_df_sample.freq_ratio_task, marker_color='#98D7C2')\n",
    "])\n",
    "\n",
    "\n",
    "fig.update_xaxes(tickangle= -45)  \n",
    "fig.update_traces(\n",
    "    texttemplate='%{text:.2f}', textposition='outside',\n",
    "     textfont_size=8)\n",
    "\n",
    "# Change the bar mode\n",
    "fig.update_layout(barmode='group', title_text='Comparing the the most frequent words in enhancement and task types')\n",
    "fig.show()"
   ]
  },
  {
   "cell_type": "code",
   "execution_count": null,
   "metadata": {},
   "outputs": [],
   "source": []
  },
  {
   "cell_type": "markdown",
   "metadata": {},
   "source": [
    "### Data Cleaning\n",
    "\n",
    "These are the functions and the road map we follow for cleaning this dataset:\n",
    "\n",
    " 1. Lowercase the text\n",
    " 2. remove the numbers\n",
    " 3. Remove the stopwords\n",
    " 4. Remove the punctuation\n",
    "\n",
    "When we go over all the steps, we append the text to a new list and then attach it to the main dataset.\n"
   ]
  },
  {
   "cell_type": "code",
   "execution_count": 69,
   "metadata": {},
   "outputs": [
    {
     "name": "stderr",
     "output_type": "stream",
     "text": [
      "c:\\Users\\mitra\\anaconda3\\lib\\site-packages\\numpy\\core\\_asarray.py:102: VisibleDeprecationWarning:\n",
      "\n",
      "Creating an ndarray from ragged nested sequences (which is a list-or-tuple of lists-or-tuples-or ndarrays with different lengths or shapes) is deprecated. If you meant to do this, you must specify 'dtype=object' when creating the ndarray.\n",
      "\n",
      "c:\\Users\\mitra\\anaconda3\\lib\\site-packages\\pandas\\core\\indexing.py:1773: SettingWithCopyWarning:\n",
      "\n",
      "\n",
      "A value is trying to be set on a copy of a slice from a DataFrame.\n",
      "Try using .loc[row_indexer,col_indexer] = value instead\n",
      "\n",
      "See the caveats in the documentation: https://pandas.pydata.org/pandas-docs/stable/user_guide/indexing.html#returning-a-view-versus-a-copy\n",
      "\n"
     ]
    }
   ],
   "source": [
    "stop_words = set(stopwords.words('english'))\n",
    "\n",
    "def remove_stopwords(list_of_words):\n",
    "    filtered_list = [w for w in list_of_words if not w.lower() in stop_words]\n",
    "    return filtered_list\n",
    "\n",
    "def check_punct(list_of_words):\n",
    "    \"\"\"\n",
    "    look at the tokenized text. if the token was matched with ( or was only)\n",
    "    a puncutation, it is redundant and we remove it.\n",
    "    \"\"\"\n",
    "    filtered_list = []\n",
    "    for word in list_of_words:\n",
    "        if re.match(\"[()!><.,`?':\\-\\[\\]_@]\", word):\n",
    "            pass\n",
    "        else: filtered_list.append(word)\n",
    "        \n",
    "    return filtered_list\n",
    "\n",
    "def remove_numbers(list_of_words):\n",
    "\n",
    "    filtered_list = []\n",
    "    for word in list_of_words:\n",
    "        if re.findall(\"[0-9]\", word):\n",
    "            pass\n",
    "        else: filtered_list.append(word)\n",
    "        \n",
    "    return filtered_list\n",
    "\n",
    "\n",
    "def clean(df, input_col='summary_tokens_list', output_col=\"cleaned_word_list\"):\n",
    "    \n",
    "    \"\"\"\n",
    "    takes a column of textual data \n",
    "    outputs a df with cleaned text attached\n",
    "    \"\"\"\n",
    "    text_series = df.loc[:, input_col]\n",
    "    cleaned_text_series = []\n",
    "    \n",
    "    for text in text_series: \n",
    "        # go through every record of this dataset\n",
    "        # then append the cleaned text to a new list\n",
    "        text = [t.lower() for t in text]\n",
    "        cleaned_text = remove_numbers(text)\n",
    "        cleaned_text = remove_stopwords(cleaned_text)\n",
    "        cleaned_text = check_punct(cleaned_text)\n",
    "        cleaned_text_series.append(cleaned_text)\n",
    "        \n",
    "    df.loc[:, output_col] = cleaned_text_series\n",
    "    \n",
    "    return df\n",
    "\n",
    "df = clean(df)"
   ]
  },
  {
   "cell_type": "code",
   "execution_count": 70,
   "metadata": {},
   "outputs": [
    {
     "data": {
      "text/html": [
       "<div>\n",
       "<style scoped>\n",
       "    .dataframe tbody tr th:only-of-type {\n",
       "        vertical-align: middle;\n",
       "    }\n",
       "\n",
       "    .dataframe tbody tr th {\n",
       "        vertical-align: top;\n",
       "    }\n",
       "\n",
       "    .dataframe thead th {\n",
       "        text-align: right;\n",
       "    }\n",
       "</style>\n",
       "<table border=\"1\" class=\"dataframe\">\n",
       "  <thead>\n",
       "    <tr style=\"text-align: right;\">\n",
       "      <th></th>\n",
       "      <th>classification</th>\n",
       "      <th>component</th>\n",
       "      <th>platform</th>\n",
       "      <th>assigned_to</th>\n",
       "      <th>summary</th>\n",
       "      <th>id</th>\n",
       "      <th>status</th>\n",
       "      <th>is_confirmed</th>\n",
       "      <th>votes</th>\n",
       "      <th>severity</th>\n",
       "      <th>keywords</th>\n",
       "      <th>priority</th>\n",
       "      <th>creator</th>\n",
       "      <th>type</th>\n",
       "      <th>summary_tokens_list</th>\n",
       "      <th>tokens_list_length</th>\n",
       "      <th>cleaned_word_list</th>\n",
       "    </tr>\n",
       "  </thead>\n",
       "  <tbody>\n",
       "    <tr>\n",
       "      <th>0</th>\n",
       "      <td>Components</td>\n",
       "      <td>Networking: HTTP</td>\n",
       "      <td>All</td>\n",
       "      <td>nobody@mozilla.org</td>\n",
       "      <td>Proxy: map HTTP 500 errors to necko errors (so...</td>\n",
       "      <td>2875</td>\n",
       "      <td>NEW</td>\n",
       "      <td>True</td>\n",
       "      <td>13</td>\n",
       "      <td>normal</td>\n",
       "      <td>[]</td>\n",
       "      <td>P3</td>\n",
       "      <td>erik@vanderpoel.org</td>\n",
       "      <td>enhancement</td>\n",
       "      <td>[Proxy, :, map, HTTP, 500, errors, to, necko, ...</td>\n",
       "      <td>19</td>\n",
       "      <td>[proxy, map, http, errors, necko, errors, inte...</td>\n",
       "    </tr>\n",
       "    <tr>\n",
       "      <th>1</th>\n",
       "      <td>Components</td>\n",
       "      <td>LDAP Integration</td>\n",
       "      <td>All</td>\n",
       "      <td>nobody@mozilla.org</td>\n",
       "      <td>[LDAP] Access to a local LDAP server in Off-Li...</td>\n",
       "      <td>2892</td>\n",
       "      <td>NEW</td>\n",
       "      <td>True</td>\n",
       "      <td>4</td>\n",
       "      <td>normal</td>\n",
       "      <td>['helpwanted']</td>\n",
       "      <td>--</td>\n",
       "      <td>lchiang@formerly-netscape.com.tld</td>\n",
       "      <td>enhancement</td>\n",
       "      <td>[[, LDAP, ], Access, to, a, local, LDAP, serve...</td>\n",
       "      <td>12</td>\n",
       "      <td>[ldap, access, local, ldap, server, off-line, ...</td>\n",
       "    </tr>\n",
       "  </tbody>\n",
       "</table>\n",
       "</div>"
      ],
      "text/plain": [
       "  classification         component platform         assigned_to  \\\n",
       "0     Components  Networking: HTTP      All  nobody@mozilla.org   \n",
       "1     Components  LDAP Integration      All  nobody@mozilla.org   \n",
       "\n",
       "                                             summary    id status  \\\n",
       "0  Proxy: map HTTP 500 errors to necko errors (so...  2875    NEW   \n",
       "1  [LDAP] Access to a local LDAP server in Off-Li...  2892    NEW   \n",
       "\n",
       "   is_confirmed  votes severity        keywords priority  \\\n",
       "0          True     13   normal              []       P3   \n",
       "1          True      4   normal  ['helpwanted']       --   \n",
       "\n",
       "                             creator         type  \\\n",
       "0                erik@vanderpoel.org  enhancement   \n",
       "1  lchiang@formerly-netscape.com.tld  enhancement   \n",
       "\n",
       "                                 summary_tokens_list  tokens_list_length  \\\n",
       "0  [Proxy, :, map, HTTP, 500, errors, to, necko, ...                  19   \n",
       "1  [[, LDAP, ], Access, to, a, local, LDAP, serve...                  12   \n",
       "\n",
       "                                   cleaned_word_list  \n",
       "0  [proxy, map, http, errors, necko, errors, inte...  \n",
       "1  [ldap, access, local, ldap, server, off-line, ...  "
      ]
     },
     "execution_count": 70,
     "metadata": {},
     "output_type": "execute_result"
    }
   ],
   "source": [
    "df.head(2)"
   ]
  },
  {
   "cell_type": "markdown",
   "metadata": {},
   "source": [
    "### Classification\n",
    "\n",
    "Step .1 Preparing the input\n",
    "\n",
    "\"Term Frequency — Inverse Document Frequency\" is referred to as \"TF-IDF\". This method first, counts the number of words in a collection of documents. Then, count the number of documents that contain this word. Each word is typically given a score to indicate how important it is to the document and corpus. We frequently use TFIDF vectors to classify, rank, or cluster documents or evaluate words and topics.\n",
    "\n",
    "\n",
    "\n",
    "* t — term (word)\n",
    "* d — document (set of words)\n",
    "* N — count of corpus\n",
    "* corpus — the total document set\n",
    "\n",
    "`TF-IDF = Term Frequency (TF) * Inverse Document Frequency (IDF)`\n",
    "\n",
    "`tf(t,d) = count of t in d / number of words in d`\n",
    "\n",
    "`df(t) = occurrence of t in N documents`\n",
    "\n",
    "For instance, a word like \"is,\" which is quite common, may appear several times in a document. So, to prevent words such as stop words have high scores and determinant factors, we perform normalization on the frequency value. We divide the frequency with the total number of words in the document.\n",
    "\n",
    "For starting, we first, join all the cleaned tokens in each record and feed it as a span of text to TFIDF vectorizer."
   ]
  },
  {
   "cell_type": "code",
   "execution_count": 72,
   "metadata": {},
   "outputs": [
    {
     "name": "stderr",
     "output_type": "stream",
     "text": [
      "c:\\Users\\mitra\\anaconda3\\lib\\site-packages\\pandas\\core\\indexing.py:1667: SettingWithCopyWarning:\n",
      "\n",
      "\n",
      "A value is trying to be set on a copy of a slice from a DataFrame.\n",
      "Try using .loc[row_indexer,col_indexer] = value instead\n",
      "\n",
      "See the caveats in the documentation: https://pandas.pydata.org/pandas-docs/stable/user_guide/indexing.html#returning-a-view-versus-a-copy\n",
      "\n"
     ]
    }
   ],
   "source": [
    "# we join the cleaned tokens to feed the tfidf algorithm\n",
    "\n",
    "def join_tokens(df, tokens_arrays_col):\n",
    "    return [\" \".join(df.loc[i, tokens_arrays_col]) for i in range(len(df))]\n",
    "\n",
    "cleaned_tokens_series = join_tokens(df, 'cleaned_word_list')\n",
    "df.loc[:, 'cleaned_text'] = cleaned_tokens_series"
   ]
  },
  {
   "cell_type": "code",
   "execution_count": 73,
   "metadata": {},
   "outputs": [],
   "source": [
    "tf_idf = TfidfVectorizer()\n",
    "\n",
    "#applying tf idf to training data\n",
    "X = tf_idf.fit_transform(df.loc[:, 'cleaned_text']).toarray()"
   ]
  },
  {
   "cell_type": "markdown",
   "metadata": {},
   "source": [
    "The above column shows you how we create TFIDF vectors, but to get a better understanding of the scores this algorithm assigns to each word, run the following cell and take a look at the output."
   ]
  },
  {
   "cell_type": "code",
   "execution_count": 78,
   "metadata": {},
   "outputs": [
    {
     "data": {
      "text/html": [
       "<div>\n",
       "<style scoped>\n",
       "    .dataframe tbody tr th:only-of-type {\n",
       "        vertical-align: middle;\n",
       "    }\n",
       "\n",
       "    .dataframe tbody tr th {\n",
       "        vertical-align: top;\n",
       "    }\n",
       "\n",
       "    .dataframe thead th {\n",
       "        text-align: right;\n",
       "    }\n",
       "</style>\n",
       "<table border=\"1\" class=\"dataframe\">\n",
       "  <thead>\n",
       "    <tr style=\"text-align: right;\">\n",
       "      <th></th>\n",
       "      <th>words</th>\n",
       "      <th>tfidf_score_sum</th>\n",
       "    </tr>\n",
       "  </thead>\n",
       "  <tbody>\n",
       "    <tr>\n",
       "      <th>2772</th>\n",
       "      <td>meta</td>\n",
       "      <td>179.486205</td>\n",
       "    </tr>\n",
       "    <tr>\n",
       "      <th>2164</th>\n",
       "      <td>implement</td>\n",
       "      <td>78.972014</td>\n",
       "    </tr>\n",
       "    <tr>\n",
       "      <th>54</th>\n",
       "      <td>add</td>\n",
       "      <td>77.073370</td>\n",
       "    </tr>\n",
       "    <tr>\n",
       "      <th>4678</th>\n",
       "      <td>support</td>\n",
       "      <td>70.306971</td>\n",
       "    </tr>\n",
       "    <tr>\n",
       "      <th>3931</th>\n",
       "      <td>remove</td>\n",
       "      <td>50.829238</td>\n",
       "    </tr>\n",
       "    <tr>\n",
       "      <th>...</th>\n",
       "      <td>...</td>\n",
       "      <td>...</td>\n",
       "    </tr>\n",
       "    <tr>\n",
       "      <th>2831</th>\n",
       "      <td>mix</td>\n",
       "      <td>0.193280</td>\n",
       "    </tr>\n",
       "    <tr>\n",
       "      <th>474</th>\n",
       "      <td>boss</td>\n",
       "      <td>0.193280</td>\n",
       "    </tr>\n",
       "    <tr>\n",
       "      <th>2962</th>\n",
       "      <td>mysessions</td>\n",
       "      <td>0.193280</td>\n",
       "    </tr>\n",
       "    <tr>\n",
       "      <th>535</th>\n",
       "      <td>buddy</td>\n",
       "      <td>0.193280</td>\n",
       "    </tr>\n",
       "    <tr>\n",
       "      <th>3489</th>\n",
       "      <td>plus</td>\n",
       "      <td>0.193280</td>\n",
       "    </tr>\n",
       "  </tbody>\n",
       "</table>\n",
       "<p>5439 rows × 2 columns</p>\n",
       "</div>"
      ],
      "text/plain": [
       "           words  tfidf_score_sum\n",
       "2772        meta       179.486205\n",
       "2164   implement        78.972014\n",
       "54           add        77.073370\n",
       "4678     support        70.306971\n",
       "3931      remove        50.829238\n",
       "...          ...              ...\n",
       "2831         mix         0.193280\n",
       "474         boss         0.193280\n",
       "2962  mysessions         0.193280\n",
       "535        buddy         0.193280\n",
       "3489        plus         0.193280\n",
       "\n",
       "[5439 rows x 2 columns]"
      ]
     },
     "execution_count": 78,
     "metadata": {},
     "output_type": "execute_result"
    }
   ],
   "source": [
    "def get_tfidf_words_and_array(text_arrays):\n",
    "\n",
    "    vectorizer = TfidfVectorizer()\n",
    "    transformed_data = vectorizer.fit_transform(text_arrays).toarray()\n",
    "    words = vectorizer.get_feature_names_out()\n",
    "    \n",
    "    return transformed_data, words\n",
    "\n",
    "def create_tfidf_df(text_arrays):\n",
    "    \"\"\"\n",
    "    gets the df, converts it into tfidf arrays and words\n",
    "    then puts them in a dataset\n",
    "    \"\"\"\n",
    "\n",
    "    transformed_data, words = get_tfidf_words_and_array(text_arrays)\n",
    "\n",
    "    df = pd.DataFrame(data=transformed_data, columns=words).sum().reset_index()\n",
    "\n",
    "    col_names = ['words', 'tfidf_score_sum']\n",
    "    default_col_names = df.columns\n",
    "\n",
    "    # rename whatever the df cols are called to the col_names\n",
    "    df.rename(columns={default_col_names[i]:col_names[i] for i in range(len(col_names))}, inplace=True)\n",
    "\n",
    "    df.sort_values(by='tfidf_score_sum', inplace=True, ascending=False)\n",
    "\n",
    "    return df\n",
    "\n",
    "    \n",
    "tfidf_scores = create_tfidf_df(df.loc[:, 'cleaned_text'])\n",
    "tfidf_scores"
   ]
  },
  {
   "cell_type": "markdown",
   "metadata": {},
   "source": [
    "Step 2. Creating a model that uses the vectors to classify text\n",
    "\n",
    "In general, Scikit-learn makes machine learning model training simple and generally follows the same pattern. Here we'll use Naive Bayes to classify our vectors. These are the step we'll have to follow:\n",
    "\n",
    "\n",
    "1. initialize an instance of the model\n",
    "2. fit the model to the train data\n",
    "3. predict the test data \n",
    "4. compute scores for both train and test sets.\n",
    "\n",
    "\n",
    "To put it very briefly, it is worth saying that NB basically applies the Bayesian rule to calculate the probability or likelihood that a set of words (document) belongs to a class. To calculate this probability it assumes that all the words are independent or, in other words, the location of words in a sentence is completely random . (e.g., program is independent of enhancement) \n",
    "\n",
    "To learn more about Naive Bayes you can go to the links at the end of this notebook."
   ]
  },
  {
   "cell_type": "code",
   "execution_count": 80,
   "metadata": {},
   "outputs": [],
   "source": [
    "# import the model\n",
    "from sklearn.naive_bayes import GaussianNB\n",
    "\n",
    "# instantiate the class\n",
    "nb = GaussianNB()\n",
    "\n",
    "# get the \n",
    "y = df.loc[:, 'type']"
   ]
  },
  {
   "cell_type": "code",
   "execution_count": 82,
   "metadata": {},
   "outputs": [
    {
     "data": {
      "text/plain": [
       "array([0.65836299, 0.67544484, 0.6569395 ])"
      ]
     },
     "execution_count": 82,
     "metadata": {},
     "output_type": "execute_result"
    }
   ],
   "source": [
    "scores = cross_val_score(nb, X, y, cv=3)\n",
    "scores"
   ]
  },
  {
   "cell_type": "markdown",
   "metadata": {},
   "source": [
    "Just to show you how a more complex model would work, we'll take a look at Random Forest Classifier. However, a more powerful algorithm might take more time to converge and reach an answer. Run the following cell to see how it works."
   ]
  },
  {
   "cell_type": "code",
   "execution_count": 83,
   "metadata": {},
   "outputs": [
    {
     "data": {
      "text/plain": [
       "array([0.78149466, 0.79003559, 0.78007117])"
      ]
     },
     "execution_count": 83,
     "metadata": {},
     "output_type": "execute_result"
    }
   ],
   "source": [
    "from sklearn.ensemble import RandomForestClassifier\n",
    "random_forest = RandomForestClassifier()\n",
    "scores = cross_val_score(random_forest, X, y, cv=3)\n",
    "scores"
   ]
  },
  {
   "cell_type": "code",
   "execution_count": null,
   "metadata": {},
   "outputs": [],
   "source": []
  },
  {
   "cell_type": "code",
   "execution_count": null,
   "metadata": {},
   "outputs": [],
   "source": []
  },
  {
   "cell_type": "markdown",
   "metadata": {},
   "source": [
    "References:\n",
    "\n",
    "https://www.kaggle.com/code/mitramir5/text-eda-rnn-lstm-gru-and-many-more\n",
    "\n",
    "\n",
    "https://towardsdatascience.com/training-a-naive-bayes-model-to-identify-the-author-of-an-email-or-document-17dc85fa630a\n",
    "\n",
    "https://scikit-learn.org/stable/modules/generated/sklearn.ensemble.RandomForestClassifier.html\n",
    "\n"
   ]
  },
  {
   "cell_type": "markdown",
   "metadata": {},
   "source": []
  }
 ],
 "metadata": {
  "kernelspec": {
   "display_name": "Python 3.9.7 ('base')",
   "language": "python",
   "name": "python3"
  },
  "language_info": {
   "codemirror_mode": {
    "name": "ipython",
    "version": 3
   },
   "file_extension": ".py",
   "mimetype": "text/x-python",
   "name": "python",
   "nbconvert_exporter": "python",
   "pygments_lexer": "ipython3",
   "version": "3.9.7"
  },
  "orig_nbformat": 4,
  "vscode": {
   "interpreter": {
    "hash": "adfccd5c958d70cd78f22c942a5f90dd259f52bf203482d766a0ca6ec5e2e798"
   }
  }
 },
 "nbformat": 4,
 "nbformat_minor": 2
}
