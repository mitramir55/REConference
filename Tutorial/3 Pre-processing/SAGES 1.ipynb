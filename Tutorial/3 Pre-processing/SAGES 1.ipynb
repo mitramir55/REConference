{
 "cells": [
  {
   "cell_type": "code",
   "execution_count": 20,
   "metadata": {},
   "outputs": [
    {
     "data": {
      "text/plain": [
       "'this is a wonderful day'"
      ]
     },
     "execution_count": 20,
     "metadata": {},
     "output_type": "execute_result"
    }
   ],
   "source": [
    "'''Lower casing'''\n",
    "text = \"This is a WONDERFUL Day\"\n",
    "text.lower()"
   ]
  },
  {
   "cell_type": "code",
   "execution_count": 21,
   "metadata": {},
   "outputs": [
    {
     "data": {
      "text/plain": [
       "['This is a wonderful day', ' Today we have SENG 507 class']"
      ]
     },
     "execution_count": 21,
     "metadata": {},
     "output_type": "execute_result"
    }
   ],
   "source": [
    "'''Sentence Splitter'''\n",
    "text = \"This is a wonderful day. Today we have SENG 507 class\"\n",
    "sentences = text.split('.')\n",
    "sentences"
   ]
  },
  {
   "cell_type": "code",
   "execution_count": 22,
   "metadata": {},
   "outputs": [
    {
     "data": {
      "text/plain": [
       "['Please', '.', 'Tokenize', 'this', 'sentence', '!', 'can', 'you', '?', '!']"
      ]
     },
     "execution_count": 22,
     "metadata": {},
     "output_type": "execute_result"
    }
   ],
   "source": [
    "'''Tokenization'''\n",
    "import nltk\n",
    "from nltk import word_tokenize\n",
    "text = \"Please. Tokenize this sentence! can you?!\"\n",
    "text = nltk.word_tokenize(text)\n",
    "text"
   ]
  },
  {
   "cell_type": "code",
   "execution_count": 23,
   "metadata": {},
   "outputs": [
    {
     "data": {
      "text/plain": [
       "['Please', 'Tokenize', 'this', 'sentence', 'can', 'you']"
      ]
     },
     "execution_count": 23,
     "metadata": {},
     "output_type": "execute_result"
    }
   ],
   "source": [
    "'''Remove punctuations'''\n",
    "import re\n",
    "new_words = []\n",
    "for word in text:\n",
    "    new_word = re.sub(r'[^\\w\\s]', '', word)\n",
    "    if new_word != '':\n",
    "        new_words.append(new_word)\n",
    "text = new_words\n",
    "text    "
   ]
  },
  {
   "cell_type": "code",
   "execution_count": 25,
   "metadata": {},
   "outputs": [
    {
     "data": {
      "text/plain": [
       "['Please', 'Tokenize', 'sentence']"
      ]
     },
     "execution_count": 25,
     "metadata": {},
     "output_type": "execute_result"
    }
   ],
   "source": [
    "\"\"\"Remove stop words from list of tokenized words\"\"\"\n",
    "from nltk.corpus import stopwords\n",
    "new_words = []\n",
    "for word in text:\n",
    "    if word not in stopwords.words('english'):\n",
    "        new_words.append(word)\n",
    "#stopwords.words('english')\n",
    "text = new_words\n",
    "text"
   ]
  },
  {
   "cell_type": "code",
   "execution_count": 18,
   "metadata": {},
   "outputs": [
    {
     "data": {
      "text/plain": [
       "['pleas', 'tok', 'sent']"
      ]
     },
     "execution_count": 18,
     "metadata": {},
     "output_type": "execute_result"
    }
   ],
   "source": [
    "\"\"\"Stem words in list of tokenized words\"\"\"\n",
    "from nltk.stem import LancasterStemmer, WordNetLemmatizer\n",
    "stemmer = LancasterStemmer()\n",
    "stems = []\n",
    "for word in text:\n",
    "    stem = stemmer.stem(word)\n",
    "    stems.append(stem)\n",
    "text = stems\n",
    "text"
   ]
  },
  {
   "cell_type": "code",
   "execution_count": 26,
   "metadata": {},
   "outputs": [
    {
     "data": {
      "text/plain": [
       "['Please', 'Tokenize', 'sentence']"
      ]
     },
     "execution_count": 26,
     "metadata": {},
     "output_type": "execute_result"
    }
   ],
   "source": [
    "\"\"\"Lemmatize verbs in list of tokenized words\"\"\"\n",
    "lemmatizer = WordNetLemmatizer()\n",
    "lemmas = []\n",
    "for word in text:\n",
    "    lemma = lemmatizer.lemmatize(word, pos='v')\n",
    "    lemmas.append(lemma)\n",
    "text = lemmas\n",
    "text"
   ]
  },
  {
   "cell_type": "code",
   "execution_count": null,
   "metadata": {},
   "outputs": [],
   "source": []
  }
 ],
 "metadata": {
  "kernelspec": {
   "display_name": "Python 3 (ipykernel)",
   "language": "python",
   "name": "python3"
  },
  "language_info": {
   "codemirror_mode": {
    "name": "ipython",
    "version": 3
   },
   "file_extension": ".py",
   "mimetype": "text/x-python",
   "name": "python",
   "nbconvert_exporter": "python",
   "pygments_lexer": "ipython3",
   "version": "3.8.9"
  }
 },
 "nbformat": 4,
 "nbformat_minor": 2
}
