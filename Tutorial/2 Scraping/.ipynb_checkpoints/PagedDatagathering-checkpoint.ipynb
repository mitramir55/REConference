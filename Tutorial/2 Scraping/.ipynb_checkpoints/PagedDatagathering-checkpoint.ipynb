{
 "cells": [
  {
   "cell_type": "markdown",
   "id": "929c29e3",
   "metadata": {
    "slideshow": {
     "slide_type": "slide"
    }
   },
   "source": [
    "<center><h1> This is PART 1.b of the NLP for RE</h1>\n",
    "<h2> Data accumulation through scraping</h2></center>\n",
    "\n",
    "        "
   ]
  },
  {
   "cell_type": "markdown",
   "id": "62a57c8a",
   "metadata": {
    "slideshow": {
     "slide_type": "slide"
    }
   },
   "source": [
    "## Scraping is ... \n",
    "\n",
    "## accumulating data from the website \n",
    "\n",
    "![source: https://www.seobility.net/en/wiki/REST_API](images/scraping.png) \n",
    "source: https://topwebscrapingservice.wordpress.com/"
   ]
  },
  {
   "cell_type": "markdown",
   "id": "f4b5c225",
   "metadata": {
    "slideshow": {
     "slide_type": "slide"
    }
   },
   "source": [
    "## It's similar to writing a bot (program) that automatically harvests the data from a website\n",
    "## There are multiple approaches to it \n",
    "## We will look at the one of the simplest one for the OSS website: https://www.redmine.org\n",
    "\n",
    "##  <a href=\"\"> Redmine </a> is similar to Bugzilla"
   ]
  },
  {
   "cell_type": "code",
   "execution_count": 2,
   "id": "55051bfe",
   "metadata": {},
   "outputs": [],
   "source": [
    "import requests\n",
    "import json\n",
    "\n",
    "#urlIs = \"https://bugs.ruby-lang.org/issues.json?include=relations&limit=100&set_filter=1&sort=id%3Adesc&f%5B%5D=status_id&op%5Bstatus_id%5D=*&f%5B%5D=project_id&op%5Bproject_id%5D=%3D&v%5Bproject_id%5D%5B%5D=1&f%5B%5D=tracker_id&op%5Btracker_id%5D=%3D&v%5Btracker_id%5D%5B%5D=2&f%5B%5D=&c%5B%5D=project&c%5B%5D=tracker&c%5B%5D=status&c%5B%5D=subject&c%5B%5D=assigned_to&c%5B%5D=updated_on&c%5B%5D=relations&group_by=\"\n",
    "def get_all_data(Biglist):\n",
    "\n",
    "    #url_address = urlIs\n",
    "    # find out total number of pages\n",
    "    #r = requests.get(url=url_address, headers=headers).json()\n",
    "    total = 4005\n",
    "    #total_pages = int(total/100)\n",
    "    \n",
    "    total_pages = 3\n",
    "    # results will be appended to this list\n",
    "    # loop through all pages and return JSON object\n",
    "    for page in range(0, (total_pages+1)):\n",
    "\n",
    "        #url = \"https://forge.typo3.org/issues.json?\"+\"limit=100&\"+\"offset=\"+str(page*100)+\"&include=relations&set_filter=1&f%5B%5D=status_id&op%5Bstatus_id%5D=*&f%5B%5D=tracker_id&op%5Btracker_id%5D=%3D&v%5Btracker_id%5D%5B%5D=2&f%5B%5D=&c%5B%5D=project&c%5B%5D=tracker&c%5B%5D=status&c%5B%5D=priority&c%5B%5D=subject&c%5B%5D=assigned_to&c%5B%5D=category&c%5B%5D=fixed_version&c%5B%5D=cf_7&c%5B%5D=parent&c%5B%5D=parent.subject&c%5B%5D=updated_on&c%5B%5D=start_date&c%5B%5D=due_date&c%5B%5D=created_on&c%5B%5D=closed_on&c%5B%5D=relations&c%5B%5D=cf_17&c%5B%5D=cf_8&c%5B%5D=cf_4&c%5B%5D=cf_2&group_by=&t%5B%5D=\"              \n",
    "        #url = \"https://www.redmine.org/projects/redmine/issues.json?\"+\"limit=100&\"+\"offset=\"+str(page*100)+\"&include=relations&set_filter=1&f%5B%5D=status_id&op%5Bstatus_id%5D=*&f%5B%5D=tracker_id&op%5Btracker_id%5D=%3D&v%5Btracker_id%5D%5B%5D=2&f%5B%5D=&c%5B%5D=project&c%5B%5D=tracker&c%5B%5D=status&c%5B%5D=priority&c%5B%5D=subject&c%5B%5D=assigned_to&c%5B%5D=category&c%5B%5D=fixed_version&c%5B%5D=cf_7&c%5B%5D=parent&c%5B%5D=parent.subject&c%5B%5D=updated_on&c%5B%5D=start_date&c%5B%5D=due_date&c%5B%5D=created_on&c%5B%5D=closed_on&c%5B%5D=relations&c%5B%5D=cf_17&c%5B%5D=cf_8&c%5B%5D=cf_4&c%5B%5D=cf_2&group_by=&t%5B%5D=\"\n",
    "        url = \"https://bugs.ruby-lang.org/issues.json?\"+\"limit=100&\"+\"offset=\"+str(page*100)+\"&include=relations&set_filter=1&f%5B%5D=status_id&op%5Bstatus_id%5D=*&f%5B%5D=tracker_id&op%5Btracker_id%5D=%3D&v%5Btracker_id%5D%5B%5D=2&f%5B%5D=&c%5B%5D=project&c%5B%5D=tracker&c%5B%5D=status&c%5B%5D=priority&c%5B%5D=subject&c%5B%5D=assigned_to&c%5B%5D=category&c%5B%5D=fixed_version&c%5B%5D=cf_7&c%5B%5D=parent&c%5B%5D=parent.subject&c%5B%5D=updated_on&c%5B%5D=start_date&c%5B%5D=due_date&c%5B%5D=created_on&c%5B%5D=closed_on&c%5B%5D=relations&c%5B%5D=cf_17&c%5B%5D=cf_8&c%5B%5D=cf_4&c%5B%5D=cf_2&group_by=&t%5B%5D=\"\n",
    "        response = requests.get(url=url).json()        \n",
    "        #data = json.dumps(response, sort_keys=True, indent=4)\n",
    "        #print(data)\n",
    "        #input(\"hit enter\")\n",
    "        issues = response['issues']\n",
    "        print(\"downloaded: \",page*100,\" to \", 100+page*100, \" Total:  \", len(issues))\n",
    "        #input(\"hit enter\")\n",
    "      \n",
    "        Biglist.append(issues) \n",
    "        page += 1\n",
    "    dict1 = {page:Biglist}\n",
    "    #all_time_entries.append(dict1)       \n",
    "        \n",
    "\n",
    "    # prettify JSON\n",
    "    #data = json.dumps(all_time_entries)#, sort_keys=True, indent=4)\n",
    "    \n",
    "    with open('./Data/dataRuby.txt', 'w') as outfile:\n",
    "        json.dump(dict1, outfile)\n",
    "\n",
    "    return dict1"
   ]
  },
  {
   "cell_type": "code",
   "execution_count": 3,
   "id": "beaf2258",
   "metadata": {
    "slideshow": {
     "slide_type": "slide"
    }
   },
   "outputs": [
    {
     "name": "stdout",
     "output_type": "stream",
     "text": [
      "downloaded:  0  to  100  Total:   100\n",
      "downloaded:  100  to  200  Total:   100\n",
      "downloaded:  200  to  300  Total:   100\n",
      "downloaded:  300  to  400  Total:   100\n"
     ]
    }
   ],
   "source": [
    "import json\n",
    "import pandas as pd\n",
    "import requests\n",
    "import pprint\n",
    "\n",
    "def main():\n",
    "    BigList = []\n",
    "    data = get_all_data(BigList)\n",
    "    \n",
    "main()\n",
    "\n"
   ]
  }
 ],
 "metadata": {
  "celltoolbar": "Slideshow",
  "kernelspec": {
   "display_name": "Python 3 (ipykernel)",
   "language": "python",
   "name": "python3"
  },
  "language_info": {
   "codemirror_mode": {
    "name": "ipython",
    "version": 3
   },
   "file_extension": ".py",
   "mimetype": "text/x-python",
   "name": "python",
   "nbconvert_exporter": "python",
   "pygments_lexer": "ipython3",
   "version": "3.8.9"
  }
 },
 "nbformat": 4,
 "nbformat_minor": 5
}
