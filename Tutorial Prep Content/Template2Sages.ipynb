{
 "cells": [
  {
   "cell_type": "markdown",
   "metadata": {},
   "source": [
    "Process of assigning a syntactic label to each token in a sentence\n",
    "based on its lexical meaning. For example:\n",
    "Input: “Santiago likes playing football”\n",
    "Output:\n",
    "“Santiago” => NOUN\n",
    "“likes” => VERB\n",
    "“playing” => VERB\n",
    "“football” => NOUN"
   ]
  },
  {
   "cell_type": "code",
   "execution_count": null,
   "metadata": {},
   "outputs": [],
   "source": [
    "import nltk\n",
    "from nltk import word_tokenize\n",
    "text = word_tokenize(\"And now for something completely different. This is Canada\")\n",
    "nltk.pos_tag(text)"
   ]
  },
  {
   "cell_type": "markdown",
   "metadata": {},
   "source": [
    "'''Chunking'''\n",
    "Identification of noun phrases. For example:\n",
    "Input: “South Africa is a country”\n",
    "Output: “South Africa”"
   ]
  },
  {
   "cell_type": "code",
   "execution_count": null,
   "metadata": {},
   "outputs": [],
   "source": [
    "'''Chunking'''\n",
    "import nltk\n",
    "from nltk import word_tokenize\n",
    "\n",
    "text = \"South Africa is a country\"\n",
    "text = nltk.word_tokenize(text)\n",
    "text"
   ]
  },
  {
   "cell_type": "code",
   "execution_count": null,
   "metadata": {},
   "outputs": [],
   "source": [
    "try:\n",
    "    tagged = nltk.pos_tag(text)\n",
    "    chunkGram = r\"\"\"Chunk: {<NN.?>*<VB.?>*<NNP>+<NN>?}\"\"\"\n",
    "    chunkParser = nltk.RegexpParser(chunkGram)\n",
    "    chunked = chunkParser.parse(tagged)\n",
    "    chunked.draw()     \n",
    "\n",
    "except Exception as e:\n",
    "    print(str(e))"
   ]
  },
  {
   "cell_type": "code",
   "execution_count": null,
   "metadata": {},
   "outputs": [],
   "source": []
  },
  {
   "cell_type": "markdown",
   "metadata": {},
   "source": [
    "'''Collocations are combinations of words that occur together more\n",
    "often than would be expected. Lexical association measures are\n",
    "formulas that determine the degree of association between the\n",
    "components of the collocation. They calculate an association score\n",
    "(metric) for each collocation. For example:\n",
    "“to make the bed” => [to make][the bed]\n",
    "“to do homework” => [to do][homework]\n",
    "“to take a risk” => [to take][a risk]\n",
    "“to give someone advice” => [to give someone][advice]'''"
   ]
  },
  {
   "cell_type": "code",
   "execution_count": null,
   "metadata": {},
   "outputs": [],
   "source": [
    "'''Collocation extraction'''\n",
    "from nltk.collocations import *\n",
    "nltk.download('genesis')\n",
    "bigram_measures = nltk.collocations.BigramAssocMeasures()\n",
    "trigram_measures = nltk.collocations.TrigramAssocMeasures()\n",
    "finder = BigramCollocationFinder.from_words(nltk.corpus.genesis.words('english-web.txt'))\n",
    "\n",
    "\n",
    "text = \"I do not like green eggs and ham, I do not like them Sam I am!\"\n",
    "tokens = nltk.wordpunct_tokenize(text)\n",
    "finder = BigramCollocationFinder.from_words(tokens)\n",
    "scored = finder.score_ngrams(bigram_measures.raw_freq)\n",
    "sorted(bigram for bigram, score in scored)  # doctest: +NORMALIZE_WHITESPACE"
   ]
  },
  {
   "cell_type": "markdown",
   "metadata": {},
   "source": [
    "*** NAMED entity recognition ***\n",
    "Predefined identification of type of entities in a sentence. For\n",
    "example:\n",
    "Input: “When Michael Jordan was at the peak of his powers as an\n",
    "NBA superstar, his Chicago Bulls team were moving down the\n",
    "completion, winning six National Basketball Association titles”.\n",
    "Output:\n",
    "“Chicago Bulls”\n",
    "“Michael Jordan”\n",
    "“National Basketball Association”\n",
    "Refer: https://www.geeksforgeeks.org/python-named-entity-recognition-ner-using-spacy/"
   ]
  },
  {
   "cell_type": "markdown",
   "metadata": {},
   "source": [
    "Dependency Parsing: Building a syntactic tree of a sentence. An analysis tree divides the\n",
    "text into sub-phrases. Non-terminals in the tree are types of\n",
    "phrases; terminals are the words in the sentence. For a simple\n",
    "sentence \"John sees Bill\", an analysis is:\n",
    "              sees\n",
    "                |\n",
    "         ----------------     \n",
    "Subject|               | Object\n",
    "          |               |\n",
    "         John          Bill"
   ]
  },
  {
   "cell_type": "markdown",
   "metadata": {},
   "source": [
    "Semantic Role Labelling SRL assigns labels in a sentence indicating their semantic role (agent, predicate, subject,\n",
    "and location) in a sentence. For example: Input: “The police officer detained the suspect at the scene of the crime”\n",
    "Output: “The police officer” => AGENT “detained” => PREDICATE “the suspect” => THEME “at the scene of the crime”\n",
    "=> LOCATION\n",
    "\n",
    "\n",
    "Bag of Words Methods that are used for natural language processing to represent documents where the order of\n",
    "words (grammar) is not important."
   ]
  },
  {
   "cell_type": "code",
   "execution_count": null,
   "metadata": {},
   "outputs": [],
   "source": [
    "piano_class_text = ('Great Piano Academy is situated'\n",
    "                    ' in Mayfair or the City of London and has'\n",
    "                    ' world-class piano instructors.')\n",
    "piano_class_doc = nlp(piano_class_text)\n",
    "for ent in piano_class_doc.ents:\n",
    "    print(ent.text, ent.start_char, ent.end_char,ent.label_, spacy.explain(ent.label_))"
   ]
  },
  {
   "cell_type": "code",
   "execution_count": null,
   "metadata": {},
   "outputs": [],
   "source": [
    "'''Word Frequency'''\n",
    "#nltk.download('gutenberg')\n",
    "#nltk.download('inaugural')\n",
    "#nltk.download('webtext')\n",
    "#nltk.download('nps_chat')\n",
    "#nltk.download('treebank')\n",
    "from nltk.book import *\n",
    "fdist1 = FreqDist(text1)\n",
    "fdist1"
   ]
  },
  {
   "cell_type": "markdown",
   "metadata": {},
   "source": [
    "Collocations and Bigrams\n",
    "A collocation is a sequence of words that occur together unusually often. Thus red wine is a collocation, whereas the\n",
    "wine is not. A characteristic of collocations is that they are resistant to substitution with words that have similar senses;\n",
    "for example, maroon wine sounds definitely odd"
   ]
  },
  {
   "cell_type": "code",
   "execution_count": null,
   "metadata": {},
   "outputs": [],
   "source": [
    "list(bigrams(['more', 'is', 'said', 'than', 'done']))"
   ]
  },
  {
   "cell_type": "code",
   "execution_count": null,
   "metadata": {},
   "outputs": [],
   "source": [
    "'''Ngrams'''\n",
    "import re\n",
    "from nltk.util import ngrams\n",
    "s = \"Natural-language processing (NLP) is an area of computer science \" \\\n",
    "\"and artificial intelligence concerned with the interactions \" \\\n",
    "\"between computers and human (natural) languages.\"\n",
    "s = s.lower()\n",
    "s = re.sub(r'[^a-zA-Z0-9\\s]', ' ', s)\n",
    "tokens = [token for token in s.split(\" \") if token != \"\"]\n",
    "output = list(ngrams(tokens, 3)) #change this desired number\n",
    "output"
   ]
  }
 ],
 "metadata": {
  "kernelspec": {
   "display_name": "Python 3",
   "language": "python",
   "name": "python3"
  },
  "language_info": {
   "codemirror_mode": {
    "name": "ipython",
    "version": 3
   },
   "file_extension": ".py",
   "mimetype": "text/x-python",
   "name": "python",
   "nbconvert_exporter": "python",
   "pygments_lexer": "ipython3",
   "version": "3.6.9"
  }
 },
 "nbformat": 4,
 "nbformat_minor": 2
}
